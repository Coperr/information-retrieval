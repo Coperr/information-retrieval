{
  "cells": [
    {
      "cell_type": "markdown",
      "metadata": {
        "id": "view-in-github",
        "colab_type": "text"
      },
      "source": [
        "<a href=\"https://colab.research.google.com/github/Coperr/information-retrieval/blob/main/notebook2.ipynb\" target=\"_parent\"><img src=\"https://colab.research.google.com/assets/colab-badge.svg\" alt=\"Open In Colab\"/></a>"
      ]
    },
    {
      "cell_type": "markdown",
      "id": "32e02f0b-7db2-4aa4-897c-55c388331127",
      "metadata": {
        "id": "32e02f0b-7db2-4aa4-897c-55c388331127"
      },
      "source": [
        "# inforet 2"
      ]
    },
    {
      "cell_type": "code",
      "execution_count": null,
      "id": "c2e54178-39dc-4056-b037-9b486a7bdaa2",
      "metadata": {
        "id": "c2e54178-39dc-4056-b037-9b486a7bdaa2",
        "outputId": "ac65b184-eb79-4788-eee4-f019bfbf46b2",
        "colab": {
          "base_uri": "https://localhost:8080/"
        }
      },
      "outputs": [
        {
          "output_type": "stream",
          "name": "stdout",
          "text": [
            "--2025-03-20 08:09:44--  https://gerdes.fr/saclay/inforet/our_msmarco.zip\n",
            "Resolving gerdes.fr (gerdes.fr)... 54.38.81.127\n",
            "Connecting to gerdes.fr (gerdes.fr)|54.38.81.127|:443... connected.\n",
            "HTTP request sent, awaiting response... 200 OK\n",
            "Length: 458004951 (437M) [application/zip]\n",
            "Saving to: ‘our_msmarco.zip’\n",
            "\n",
            "our_msmarco.zip     100%[===================>] 436.79M  17.5MB/s    in 25s     \n",
            "\n",
            "2025-03-20 08:10:11 (17.3 MB/s) - ‘our_msmarco.zip’ saved [458004951/458004951]\n",
            "\n",
            "Archive:  our_msmarco.zip\n",
            "  inflating: our.msmarco.docs.tsv    \n",
            "  inflating: our.msmarco.queries.tsv  \n",
            "  inflating: our.msmarco.gold.tsv    \n"
          ]
        }
      ],
      "source": [
        "# no time to lose:\n",
        "!wget https://gerdes.fr/saclay/inforet/our_msmarco.zip\n",
        "!unzip our_msmarco.zip\n",
        "# this will be big: 1.2gb!\n",
        "# you will get three files"
      ]
    },
    {
      "cell_type": "code",
      "execution_count": null,
      "id": "6fdbacdd-e2f1-487c-843c-8ec3c674b426",
      "metadata": {
        "id": "6fdbacdd-e2f1-487c-843c-8ec3c674b426"
      },
      "outputs": [],
      "source": []
    },
    {
      "cell_type": "markdown",
      "id": "bb23fdcb-8fee-4f3a-b33f-555bbb3f5513",
      "metadata": {
        "id": "bb23fdcb-8fee-4f3a-b33f-555bbb3f5513"
      },
      "source": [
        "## ↓ go down to the section \"reading in our smaller files\"\n"
      ]
    },
    {
      "cell_type": "code",
      "execution_count": null,
      "id": "374aee63-9d24-4f05-9a7f-c47c4d60bdb9",
      "metadata": {
        "id": "374aee63-9d24-4f05-9a7f-c47c4d60bdb9"
      },
      "outputs": [],
      "source": []
    },
    {
      "cell_type": "code",
      "execution_count": null,
      "id": "cf60877b-7250-493a-93aa-b41d8c3b91e1",
      "metadata": {
        "id": "cf60877b-7250-493a-93aa-b41d8c3b91e1",
        "outputId": "5ee06f5a-eb50-4209-92fe-f2c60e382b47",
        "colab": {
          "base_uri": "https://localhost:8080/"
        }
      },
      "outputs": [
        {
          "output_type": "stream",
          "name": "stdout",
          "text": [
            "Collecting ipython-autotime\n",
            "  Downloading ipython_autotime-0.3.2-py2.py3-none-any.whl.metadata (1.4 kB)\n",
            "Requirement already satisfied: ipython in /usr/local/lib/python3.11/dist-packages (from ipython-autotime) (7.34.0)\n",
            "Requirement already satisfied: setuptools>=18.5 in /usr/local/lib/python3.11/dist-packages (from ipython->ipython-autotime) (75.1.0)\n",
            "Collecting jedi>=0.16 (from ipython->ipython-autotime)\n",
            "  Downloading jedi-0.19.2-py2.py3-none-any.whl.metadata (22 kB)\n",
            "Requirement already satisfied: decorator in /usr/local/lib/python3.11/dist-packages (from ipython->ipython-autotime) (4.4.2)\n",
            "Requirement already satisfied: pickleshare in /usr/local/lib/python3.11/dist-packages (from ipython->ipython-autotime) (0.7.5)\n",
            "Requirement already satisfied: traitlets>=4.2 in /usr/local/lib/python3.11/dist-packages (from ipython->ipython-autotime) (5.7.1)\n",
            "Requirement already satisfied: prompt-toolkit!=3.0.0,!=3.0.1,<3.1.0,>=2.0.0 in /usr/local/lib/python3.11/dist-packages (from ipython->ipython-autotime) (3.0.50)\n",
            "Requirement already satisfied: pygments in /usr/local/lib/python3.11/dist-packages (from ipython->ipython-autotime) (2.18.0)\n",
            "Requirement already satisfied: backcall in /usr/local/lib/python3.11/dist-packages (from ipython->ipython-autotime) (0.2.0)\n",
            "Requirement already satisfied: matplotlib-inline in /usr/local/lib/python3.11/dist-packages (from ipython->ipython-autotime) (0.1.7)\n",
            "Requirement already satisfied: pexpect>4.3 in /usr/local/lib/python3.11/dist-packages (from ipython->ipython-autotime) (4.9.0)\n",
            "Requirement already satisfied: parso<0.9.0,>=0.8.4 in /usr/local/lib/python3.11/dist-packages (from jedi>=0.16->ipython->ipython-autotime) (0.8.4)\n",
            "Requirement already satisfied: ptyprocess>=0.5 in /usr/local/lib/python3.11/dist-packages (from pexpect>4.3->ipython->ipython-autotime) (0.7.0)\n",
            "Requirement already satisfied: wcwidth in /usr/local/lib/python3.11/dist-packages (from prompt-toolkit!=3.0.0,!=3.0.1,<3.1.0,>=2.0.0->ipython->ipython-autotime) (0.2.13)\n",
            "Downloading ipython_autotime-0.3.2-py2.py3-none-any.whl (7.0 kB)\n",
            "Downloading jedi-0.19.2-py2.py3-none-any.whl (1.6 MB)\n",
            "\u001b[2K   \u001b[90m━━━━━━━━━━━━━━━━━━━━━━━━━━━━━━━━━━━━━━━━\u001b[0m \u001b[32m1.6/1.6 MB\u001b[0m \u001b[31m27.7 MB/s\u001b[0m eta \u001b[36m0:00:00\u001b[0m\n",
            "\u001b[?25hInstalling collected packages: jedi, ipython-autotime\n",
            "Successfully installed ipython-autotime-0.3.2 jedi-0.19.2\n",
            "Collecting sklearn\n",
            "  Downloading sklearn-0.0.post12.tar.gz (2.6 kB)\n",
            "  \u001b[1;31merror\u001b[0m: \u001b[1msubprocess-exited-with-error\u001b[0m\n",
            "  \n",
            "  \u001b[31m×\u001b[0m \u001b[32mpython setup.py egg_info\u001b[0m did not run successfully.\n",
            "  \u001b[31m│\u001b[0m exit code: \u001b[1;36m1\u001b[0m\n",
            "  \u001b[31m╰─>\u001b[0m See above for output.\n",
            "  \n",
            "  \u001b[1;35mnote\u001b[0m: This error originates from a subprocess, and is likely not a problem with pip.\n",
            "  Preparing metadata (setup.py) ... \u001b[?25l\u001b[?25herror\n",
            "\u001b[1;31merror\u001b[0m: \u001b[1mmetadata-generation-failed\u001b[0m\n",
            "\n",
            "\u001b[31m×\u001b[0m Encountered error while generating package metadata.\n",
            "\u001b[31m╰─>\u001b[0m See above for output.\n",
            "\n",
            "\u001b[1;35mnote\u001b[0m: This is an issue with the package mentioned above, not pip.\n",
            "\u001b[1;36mhint\u001b[0m: See above for details.\n",
            "time: 1.81 s (started: 2025-03-20 08:11:00 +00:00)\n"
          ]
        }
      ],
      "source": [
        "# this turns on the autotimer, so that every cell has a timing information below\n",
        "try:\n",
        "    %load_ext autotime\n",
        "except:\n",
        "    !pip install ipython-autotime\n",
        "    %load_ext autotime\n",
        "# stop using:\n",
        "# %unload_ext autotime\n",
        "!pip install sklearn"
      ]
    },
    {
      "cell_type": "code",
      "execution_count": null,
      "id": "ff253cc3-8b08-490c-b946-3e6ff3104da0",
      "metadata": {
        "id": "ff253cc3-8b08-490c-b946-3e6ff3104da0",
        "outputId": "da883f38-098e-4b73-85ad-ae539af47444",
        "colab": {
          "base_uri": "https://localhost:8080/"
        }
      },
      "outputs": [
        {
          "output_type": "stream",
          "name": "stdout",
          "text": [
            "Requirement already satisfied: scikit-learn in /usr/local/lib/python3.11/dist-packages (1.6.1)\n",
            "Requirement already satisfied: numpy>=1.19.5 in /usr/local/lib/python3.11/dist-packages (from scikit-learn) (2.0.2)\n",
            "Requirement already satisfied: scipy>=1.6.0 in /usr/local/lib/python3.11/dist-packages (from scikit-learn) (1.14.1)\n",
            "Requirement already satisfied: joblib>=1.2.0 in /usr/local/lib/python3.11/dist-packages (from scikit-learn) (1.4.2)\n",
            "Requirement already satisfied: threadpoolctl>=3.1.0 in /usr/local/lib/python3.11/dist-packages (from scikit-learn) (3.6.0)\n",
            "time: 15.7 s (started: 2025-03-20 08:11:02 +00:00)\n"
          ]
        }
      ],
      "source": [
        "!pip install scikit-learn\n",
        "import re\n",
        "import numpy as np\n",
        "import matplotlib.pyplot as plt\n",
        "import pandas as pd\n",
        "import seaborn as sns\n",
        "from collections import Counter\n",
        "from tqdm.notebook import tqdm\n",
        "from sklearn.feature_extraction.text import CountVectorizer\n",
        "import dask.dataframe as dd"
      ]
    },
    {
      "cell_type": "markdown",
      "id": "c2323687-17ad-497d-ae5f-6f38ad388d4f",
      "metadata": {
        "id": "c2323687-17ad-497d-ae5f-6f38ad388d4f"
      },
      "source": [
        "## our dataset\n",
        "\n",
        "- \"TREC stands for the Text Retrieval Conference. Started in 1992 it is a series of workshops that focus on supporting research within the information retrieval community. It provides the infrastructure necessary for large-scale evaluation of text retrieval methodologies. Every year these workshops are organized, which are centered around a set of tracks. These tracks encourage new researches in the area of information retrieval.\"\n",
        "- TREC 2019 Deep Learning Track https://microsoft.github.io/msmarco/TREC-Deep-Learning-2019\n",
        "- data from MS-Marco https://microsoft.github.io/msmarco/\n",
        "- The dataset contains  367k queries and a corpus of 3.2 million documents.\n",
        "___\n",
        "- if you want to reproduce my selection or get a bigger set, uncomment and execute\n"
      ]
    },
    {
      "cell_type": "code",
      "execution_count": null,
      "id": "0574215f-73a5-4d1a-96b3-ba4dc8314f12",
      "metadata": {
        "id": "0574215f-73a5-4d1a-96b3-ba4dc8314f12",
        "outputId": "5475bc60-bcbe-43bc-f0c6-cfc8e717e730",
        "colab": {
          "base_uri": "https://localhost:8080/"
        }
      },
      "outputs": [
        {
          "output_type": "stream",
          "name": "stdout",
          "text": [
            "--2025-03-20 08:11:17--  https://msmarco.blob.core.windows.net/msmarcoranking/msmarco-docs.tsv.gz\n",
            "Resolving msmarco.blob.core.windows.net (msmarco.blob.core.windows.net)... 20.150.34.4\n",
            "Connecting to msmarco.blob.core.windows.net (msmarco.blob.core.windows.net)|20.150.34.4|:443... connected.\n",
            "HTTP request sent, awaiting response... 409 Public access is not permitted on this storage account.\n",
            "2025-03-20 08:11:18 ERROR 409: Public access is not permitted on this storage account..\n",
            "\n",
            "--2025-03-20 08:11:18--  https://msmarco.blob.core.windows.net/msmarcoranking/msmarco-doctrain-queries.tsv.gz\n",
            "Resolving msmarco.blob.core.windows.net (msmarco.blob.core.windows.net)... 20.150.34.4\n",
            "Connecting to msmarco.blob.core.windows.net (msmarco.blob.core.windows.net)|20.150.34.4|:443... connected.\n",
            "HTTP request sent, awaiting response... 409 Public access is not permitted on this storage account.\n",
            "2025-03-20 08:11:18 ERROR 409: Public access is not permitted on this storage account..\n",
            "\n",
            "--2025-03-20 08:11:18--  https://msmarco.blob.core.windows.net/msmarcoranking/msmarco-doctrain-top100.gz\n",
            "Resolving msmarco.blob.core.windows.net (msmarco.blob.core.windows.net)... 20.150.34.4\n",
            "Connecting to msmarco.blob.core.windows.net (msmarco.blob.core.windows.net)|20.150.34.4|:443... connected.\n",
            "HTTP request sent, awaiting response... 409 Public access is not permitted on this storage account.\n",
            "2025-03-20 08:11:18 ERROR 409: Public access is not permitted on this storage account..\n",
            "\n",
            "gzip: msmarco-docs.tsv.gz: No such file or directory\n",
            "gzip: msmarco-doctrain-queries.tsv.gz: No such file or directory\n",
            "gzip: msmarco-doctrain-top100.gz: No such file or directory\n",
            "time: 968 ms (started: 2025-03-20 08:11:17 +00:00)\n"
          ]
        }
      ],
      "source": [
        "!wget https://msmarco.blob.core.windows.net/msmarcoranking/msmarco-docs.tsv.gz\n",
        "!wget https://msmarco.blob.core.windows.net/msmarcoranking/msmarco-doctrain-queries.tsv.gz\n",
        "!wget https://msmarco.blob.core.windows.net/msmarcoranking/msmarco-doctrain-top100.gz\n",
        "\n",
        "!gzip -d msmarco-docs.tsv.gz\n",
        "!gzip -d msmarco-doctrain-queries.tsv.gz\n",
        "!gzip -d msmarco-doctrain-top100.gz\n"
      ]
    },
    {
      "cell_type": "markdown",
      "id": "58b288fe-2788-4f9f-983e-07816431ea12",
      "metadata": {
        "id": "58b288fe-2788-4f9f-983e-07816431ea12"
      },
      "source": [
        "## skip to the section \"reading in our smaller files\"\n",
        "\n",
        "come back here if you want to understand how to reduce the dataset or you want to build your own dataset"
      ]
    },
    {
      "cell_type": "markdown",
      "id": "961fd674-6b24-43da-9d92-19e589506666",
      "metadata": {
        "id": "961fd674-6b24-43da-9d92-19e589506666"
      },
      "source": [
        "- we have three datasets:\n",
        "    \n",
        "    1. the queries: msmarco-doctrain-queries.tsv\n",
        "    2. the gold: msmarco-doctrain-top100.tsv is a table containing query_id, doc_id and rank\n",
        "    3. the actual documents: msmarco-docs.tsv 21GB of text! doc_id, url, title, text"
      ]
    },
    {
      "cell_type": "code",
      "execution_count": null,
      "id": "98275be5-2f98-486d-80ae-0d775f1dcbd6",
      "metadata": {
        "id": "98275be5-2f98-486d-80ae-0d775f1dcbd6",
        "outputId": "3c1fab8f-ee5a-4bbf-d0cc-754b305afd2d",
        "colab": {
          "base_uri": "https://localhost:8080/"
        }
      },
      "outputs": [
        {
          "output_type": "stream",
          "name": "stdout",
          "text": [
            "time: 218 µs (started: 2025-03-16 20:04:32 +00:00)\n"
          ]
        }
      ],
      "source": [
        "#all_queries=pd.read_table('msmarco-doctrain-queries.tsv',header=None)\n",
        "#all_queries.columns=['qid','query']\n",
        "#print('Shape=>',all_queries.shape)\n",
        "#all_queries.head()"
      ]
    },
    {
      "cell_type": "markdown",
      "id": "38bbe076-dd9d-4d97-bfba-31269a20ab86",
      "metadata": {
        "id": "38bbe076-dd9d-4d97-bfba-31269a20ab86"
      },
      "source": [
        "#### reducing the dataset\n",
        "- here we take 1000 queries.\n",
        "- if this is too big for your computer, use this code to build smaller version, starting with the already reduced 1000 query set that we've downloaded before\n"
      ]
    },
    {
      "cell_type": "code",
      "execution_count": null,
      "id": "710fa4f5-ca4e-4fae-b295-b35e08e6e942",
      "metadata": {
        "id": "710fa4f5-ca4e-4fae-b295-b35e08e6e942",
        "outputId": "0f30eb5c-276e-4a7d-903c-4b1808463a90",
        "colab": {
          "base_uri": "https://localhost:8080/"
        }
      },
      "outputs": [
        {
          "output_type": "stream",
          "name": "stdout",
          "text": [
            "time: 212 µs (started: 2025-03-16 20:04:32 +00:00)\n"
          ]
        }
      ],
      "source": [
        "#our_queries=all_queries.sample(n=1000,random_state=42).reset_index(drop=True)\n",
        "#print('Shape=>',our_queries.shape)\n",
        "#our_queries.head()"
      ]
    },
    {
      "cell_type": "code",
      "execution_count": null,
      "id": "6e734ee2-9ce4-4c7d-9062-2f1a71d62e91",
      "metadata": {
        "id": "6e734ee2-9ce4-4c7d-9062-2f1a71d62e91",
        "colab": {
          "base_uri": "https://localhost:8080/"
        },
        "outputId": "0e5a74a3-e376-4331-e7e1-711155942d73"
      },
      "outputs": [
        {
          "output_type": "stream",
          "name": "stdout",
          "text": [
            "time: 253 µs (started: 2025-03-16 20:04:32 +00:00)\n"
          ]
        }
      ],
      "source": [
        "#our_queries.to_csv('our.msmarco.queries.tsv',sep='\\t')"
      ]
    },
    {
      "cell_type": "markdown",
      "id": "f4f44a4f-81d3-4994-8806-07c656e814af",
      "metadata": {
        "id": "f4f44a4f-81d3-4994-8806-07c656e814af"
      },
      "source": [
        "#### the gold file\n",
        "- 36m lines!"
      ]
    },
    {
      "cell_type": "code",
      "execution_count": null,
      "id": "f97d1b2a-4fe3-4209-b75a-47f904dd9515",
      "metadata": {
        "id": "f97d1b2a-4fe3-4209-b75a-47f904dd9515",
        "colab": {
          "base_uri": "https://localhost:8080/"
        },
        "outputId": "7e91b9f6-5261-417f-a1d2-72621c1b8d26"
      },
      "outputs": [
        {
          "output_type": "stream",
          "name": "stdout",
          "text": [
            "time: 290 µs (started: 2025-03-16 20:04:32 +00:00)\n"
          ]
        }
      ],
      "source": [
        "#gold_top100=pd.read_table('msmarco-doctrain-top100',delimiter=' ',header=None)\n",
        "#gold_top100.columns=['qid','Q0','docid','rank','score','runstring']\n",
        "#print('Shape=>',gold_top100.shape)\n",
        "#display(gold_top100.head())\n",
        "# Reducing train_top100 for training\n",
        "#our_gold_top100=train_top100[gold_top100['qid'].isin(our_queries['qid'].unique())].reset_index(drop=True)\n",
        "#print('Shape=>',our_gold_top100.shape)\n",
        "#our_gold_top100.head()"
      ]
    },
    {
      "cell_type": "code",
      "execution_count": null,
      "id": "ab90450d-6564-4e49-a2ae-397f618a90fb",
      "metadata": {
        "id": "ab90450d-6564-4e49-a2ae-397f618a90fb",
        "colab": {
          "base_uri": "https://localhost:8080/"
        },
        "outputId": "9e567578-6a42-40c7-c572-38434ef07efe"
      },
      "outputs": [
        {
          "output_type": "stream",
          "name": "stdout",
          "text": [
            "time: 270 µs (started: 2025-03-16 20:04:32 +00:00)\n"
          ]
        }
      ],
      "source": [
        "#our_gold_top100.to_csv('our.msmarco.gold.tsv',sep='\\t')"
      ]
    },
    {
      "cell_type": "markdown",
      "id": "576936ea-3f1d-4ac7-9249-a9b4960d8691",
      "metadata": {
        "id": "576936ea-3f1d-4ac7-9249-a9b4960d8691"
      },
      "source": [
        "#### the data file\n",
        "\n",
        "- it's so big that it's smarter to use dask: https://docs.dask.org/en/stable/"
      ]
    },
    {
      "cell_type": "code",
      "execution_count": null,
      "id": "e3ad34c4-45f8-47cc-bcbd-37f10ab3405d",
      "metadata": {
        "id": "e3ad34c4-45f8-47cc-bcbd-37f10ab3405d",
        "colab": {
          "base_uri": "https://localhost:8080/"
        },
        "outputId": "24a557a0-10ba-452d-ed32-0a5a3613efee"
      },
      "outputs": [
        {
          "output_type": "stream",
          "name": "stdout",
          "text": [
            "time: 249 µs (started: 2025-03-16 20:04:32 +00:00)\n"
          ]
        }
      ],
      "source": [
        "#df=dd.read_table('msmarco-docs.tsv',blocksize=100e6,header=None) #  partitions of 100MB\n",
        "#df.columns=['docid','url','title','body']\n",
        "#df.head()"
      ]
    },
    {
      "cell_type": "code",
      "execution_count": null,
      "id": "7982a03f-f966-4883-9a6f-0980a390a1db",
      "metadata": {
        "id": "7982a03f-f966-4883-9a6f-0980a390a1db",
        "colab": {
          "base_uri": "https://localhost:8080/"
        },
        "outputId": "03a21ab9-8da5-40b5-d6c6-42a9b2c3d490"
      },
      "outputs": [
        {
          "output_type": "stream",
          "name": "stdout",
          "text": [
            "time: 303 µs (started: 2025-03-16 20:04:32 +00:00)\n"
          ]
        }
      ],
      "source": [
        "# can't get the number of rows quickly :s\n",
        "# very slow:\n",
        "# len(df.index)\n",
        "\n",
        "# faster:\n",
        "#!wc -l msmarco-docs.tsv"
      ]
    },
    {
      "cell_type": "markdown",
      "id": "096ad493-1139-48c2-baeb-a29905d0bdd4",
      "metadata": {
        "id": "096ad493-1139-48c2-baeb-a29905d0bdd4"
      },
      "source": [
        "- big dataset with 3m rows!\n",
        "- we want the top 100 for our queries\n",
        "- this takes some time!"
      ]
    },
    {
      "cell_type": "code",
      "execution_count": null,
      "id": "4a4912c9-64e4-4c90-8dba-1fc3cfef013b",
      "metadata": {
        "id": "4a4912c9-64e4-4c90-8dba-1fc3cfef013b",
        "colab": {
          "base_uri": "https://localhost:8080/"
        },
        "outputId": "691194b7-1686-400a-c1ef-2417eeb34da9"
      },
      "outputs": [
        {
          "output_type": "stream",
          "name": "stdout",
          "text": [
            "time: 304 µs (started: 2025-03-16 20:04:32 +00:00)\n"
          ]
        }
      ],
      "source": [
        "#def create_corpus(result):\n",
        "#  unique_docid=result['docid'].unique()\n",
        "#  condition=df['docid'].isin(unique_docid)\n",
        "#  corpus=df[condition].reset_index(drop=True)\n",
        "#  corpus=corpus.drop(columns='url')\n",
        "#  print('Number of Rows=>',len(corpus))\n",
        "#  return corpus\n",
        "\n",
        "#our_docs=create_corpus(our_gold_top100)\n",
        "#our_docs.head()"
      ]
    },
    {
      "cell_type": "code",
      "execution_count": null,
      "id": "b5d415e7-a773-46a7-83d5-9df501ed3d45",
      "metadata": {
        "id": "b5d415e7-a773-46a7-83d5-9df501ed3d45",
        "colab": {
          "base_uri": "https://localhost:8080/"
        },
        "outputId": "a32c599a-0f23-4f8e-83b7-b340afccc6f0"
      },
      "outputs": [
        {
          "output_type": "stream",
          "name": "stdout",
          "text": [
            "time: 273 µs (started: 2025-03-16 20:04:32 +00:00)\n"
          ]
        }
      ],
      "source": [
        "#our_docs.to_csv('our.msmarco.docs.tsv',sep='\\t', single_file=True)"
      ]
    },
    {
      "cell_type": "markdown",
      "id": "6ea2310d-0bbb-42c4-8189-c8606c00fc30",
      "metadata": {
        "id": "6ea2310d-0bbb-42c4-8189-c8606c00fc30"
      },
      "source": [
        "- this is still a big file: 92k documents"
      ]
    },
    {
      "cell_type": "markdown",
      "id": "5bc01012-818c-46ae-bc27-d789ce2e0063",
      "metadata": {
        "id": "5bc01012-818c-46ae-bc27-d789ce2e0063"
      },
      "source": [
        "# reading in our smaller files\n",
        "here we use the\n",
        "\n",
        "- !wget https://gerdes.fr/saclay/informationRetrieval/our_msmarco.zip\n",
        "- !unzip our_msmarco.zip"
      ]
    },
    {
      "cell_type": "code",
      "execution_count": null,
      "id": "b3532319-bc8b-47ce-bf91-10f26cd0fe37",
      "metadata": {
        "id": "b3532319-bc8b-47ce-bf91-10f26cd0fe37",
        "outputId": "fb59d62e-fe8c-4758-c781-cd85deea58fd",
        "colab": {
          "base_uri": "https://localhost:8080/",
          "height": 441
        }
      },
      "outputs": [
        {
          "output_type": "execute_result",
          "data": {
            "text/plain": [
              "         qid                                              query\n",
              "0     687888                                      what is a jpe\n",
              "1     480210                         price for asphalt driveway\n",
              "2     591004                 what causes pressure skin bruising\n",
              "3     260536      how long drive from flagstaff to grand canyon\n",
              "4      39422  average number of bowel movements per day for ...\n",
              "..       ...                                                ...\n",
              "995    89597                            cell voltage mv meaning\n",
              "996  1167043                                 what an ip address\n",
              "997   737304                     what is daily max citizens atm\n",
              "998   156934      do i need a florida commercial driver license\n",
              "999   654329                  what does tv on cameras stand for\n",
              "\n",
              "[1000 rows x 2 columns]"
            ],
            "text/html": [
              "\n",
              "  <div id=\"df-9df49abf-66f8-48b0-9ff9-48b75bfcc947\" class=\"colab-df-container\">\n",
              "    <div>\n",
              "<style scoped>\n",
              "    .dataframe tbody tr th:only-of-type {\n",
              "        vertical-align: middle;\n",
              "    }\n",
              "\n",
              "    .dataframe tbody tr th {\n",
              "        vertical-align: top;\n",
              "    }\n",
              "\n",
              "    .dataframe thead th {\n",
              "        text-align: right;\n",
              "    }\n",
              "</style>\n",
              "<table border=\"1\" class=\"dataframe\">\n",
              "  <thead>\n",
              "    <tr style=\"text-align: right;\">\n",
              "      <th></th>\n",
              "      <th>qid</th>\n",
              "      <th>query</th>\n",
              "    </tr>\n",
              "  </thead>\n",
              "  <tbody>\n",
              "    <tr>\n",
              "      <th>0</th>\n",
              "      <td>687888</td>\n",
              "      <td>what is a jpe</td>\n",
              "    </tr>\n",
              "    <tr>\n",
              "      <th>1</th>\n",
              "      <td>480210</td>\n",
              "      <td>price for asphalt driveway</td>\n",
              "    </tr>\n",
              "    <tr>\n",
              "      <th>2</th>\n",
              "      <td>591004</td>\n",
              "      <td>what causes pressure skin bruising</td>\n",
              "    </tr>\n",
              "    <tr>\n",
              "      <th>3</th>\n",
              "      <td>260536</td>\n",
              "      <td>how long drive from flagstaff to grand canyon</td>\n",
              "    </tr>\n",
              "    <tr>\n",
              "      <th>4</th>\n",
              "      <td>39422</td>\n",
              "      <td>average number of bowel movements per day for ...</td>\n",
              "    </tr>\n",
              "    <tr>\n",
              "      <th>...</th>\n",
              "      <td>...</td>\n",
              "      <td>...</td>\n",
              "    </tr>\n",
              "    <tr>\n",
              "      <th>995</th>\n",
              "      <td>89597</td>\n",
              "      <td>cell voltage mv meaning</td>\n",
              "    </tr>\n",
              "    <tr>\n",
              "      <th>996</th>\n",
              "      <td>1167043</td>\n",
              "      <td>what an ip address</td>\n",
              "    </tr>\n",
              "    <tr>\n",
              "      <th>997</th>\n",
              "      <td>737304</td>\n",
              "      <td>what is daily max citizens atm</td>\n",
              "    </tr>\n",
              "    <tr>\n",
              "      <th>998</th>\n",
              "      <td>156934</td>\n",
              "      <td>do i need a florida commercial driver license</td>\n",
              "    </tr>\n",
              "    <tr>\n",
              "      <th>999</th>\n",
              "      <td>654329</td>\n",
              "      <td>what does tv on cameras stand for</td>\n",
              "    </tr>\n",
              "  </tbody>\n",
              "</table>\n",
              "<p>1000 rows × 2 columns</p>\n",
              "</div>\n",
              "    <div class=\"colab-df-buttons\">\n",
              "\n",
              "  <div class=\"colab-df-container\">\n",
              "    <button class=\"colab-df-convert\" onclick=\"convertToInteractive('df-9df49abf-66f8-48b0-9ff9-48b75bfcc947')\"\n",
              "            title=\"Convert this dataframe to an interactive table.\"\n",
              "            style=\"display:none;\">\n",
              "\n",
              "  <svg xmlns=\"http://www.w3.org/2000/svg\" height=\"24px\" viewBox=\"0 -960 960 960\">\n",
              "    <path d=\"M120-120v-720h720v720H120Zm60-500h600v-160H180v160Zm220 220h160v-160H400v160Zm0 220h160v-160H400v160ZM180-400h160v-160H180v160Zm440 0h160v-160H620v160ZM180-180h160v-160H180v160Zm440 0h160v-160H620v160Z\"/>\n",
              "  </svg>\n",
              "    </button>\n",
              "\n",
              "  <style>\n",
              "    .colab-df-container {\n",
              "      display:flex;\n",
              "      gap: 12px;\n",
              "    }\n",
              "\n",
              "    .colab-df-convert {\n",
              "      background-color: #E8F0FE;\n",
              "      border: none;\n",
              "      border-radius: 50%;\n",
              "      cursor: pointer;\n",
              "      display: none;\n",
              "      fill: #1967D2;\n",
              "      height: 32px;\n",
              "      padding: 0 0 0 0;\n",
              "      width: 32px;\n",
              "    }\n",
              "\n",
              "    .colab-df-convert:hover {\n",
              "      background-color: #E2EBFA;\n",
              "      box-shadow: 0px 1px 2px rgba(60, 64, 67, 0.3), 0px 1px 3px 1px rgba(60, 64, 67, 0.15);\n",
              "      fill: #174EA6;\n",
              "    }\n",
              "\n",
              "    .colab-df-buttons div {\n",
              "      margin-bottom: 4px;\n",
              "    }\n",
              "\n",
              "    [theme=dark] .colab-df-convert {\n",
              "      background-color: #3B4455;\n",
              "      fill: #D2E3FC;\n",
              "    }\n",
              "\n",
              "    [theme=dark] .colab-df-convert:hover {\n",
              "      background-color: #434B5C;\n",
              "      box-shadow: 0px 1px 3px 1px rgba(0, 0, 0, 0.15);\n",
              "      filter: drop-shadow(0px 1px 2px rgba(0, 0, 0, 0.3));\n",
              "      fill: #FFFFFF;\n",
              "    }\n",
              "  </style>\n",
              "\n",
              "    <script>\n",
              "      const buttonEl =\n",
              "        document.querySelector('#df-9df49abf-66f8-48b0-9ff9-48b75bfcc947 button.colab-df-convert');\n",
              "      buttonEl.style.display =\n",
              "        google.colab.kernel.accessAllowed ? 'block' : 'none';\n",
              "\n",
              "      async function convertToInteractive(key) {\n",
              "        const element = document.querySelector('#df-9df49abf-66f8-48b0-9ff9-48b75bfcc947');\n",
              "        const dataTable =\n",
              "          await google.colab.kernel.invokeFunction('convertToInteractive',\n",
              "                                                    [key], {});\n",
              "        if (!dataTable) return;\n",
              "\n",
              "        const docLinkHtml = 'Like what you see? Visit the ' +\n",
              "          '<a target=\"_blank\" href=https://colab.research.google.com/notebooks/data_table.ipynb>data table notebook</a>'\n",
              "          + ' to learn more about interactive tables.';\n",
              "        element.innerHTML = '';\n",
              "        dataTable['output_type'] = 'display_data';\n",
              "        await google.colab.output.renderOutput(dataTable, element);\n",
              "        const docLink = document.createElement('div');\n",
              "        docLink.innerHTML = docLinkHtml;\n",
              "        element.appendChild(docLink);\n",
              "      }\n",
              "    </script>\n",
              "  </div>\n",
              "\n",
              "\n",
              "<div id=\"df-3e25b114-0246-4e76-9b77-2f5126ca5c9e\">\n",
              "  <button class=\"colab-df-quickchart\" onclick=\"quickchart('df-3e25b114-0246-4e76-9b77-2f5126ca5c9e')\"\n",
              "            title=\"Suggest charts\"\n",
              "            style=\"display:none;\">\n",
              "\n",
              "<svg xmlns=\"http://www.w3.org/2000/svg\" height=\"24px\"viewBox=\"0 0 24 24\"\n",
              "     width=\"24px\">\n",
              "    <g>\n",
              "        <path d=\"M19 3H5c-1.1 0-2 .9-2 2v14c0 1.1.9 2 2 2h14c1.1 0 2-.9 2-2V5c0-1.1-.9-2-2-2zM9 17H7v-7h2v7zm4 0h-2V7h2v10zm4 0h-2v-4h2v4z\"/>\n",
              "    </g>\n",
              "</svg>\n",
              "  </button>\n",
              "\n",
              "<style>\n",
              "  .colab-df-quickchart {\n",
              "      --bg-color: #E8F0FE;\n",
              "      --fill-color: #1967D2;\n",
              "      --hover-bg-color: #E2EBFA;\n",
              "      --hover-fill-color: #174EA6;\n",
              "      --disabled-fill-color: #AAA;\n",
              "      --disabled-bg-color: #DDD;\n",
              "  }\n",
              "\n",
              "  [theme=dark] .colab-df-quickchart {\n",
              "      --bg-color: #3B4455;\n",
              "      --fill-color: #D2E3FC;\n",
              "      --hover-bg-color: #434B5C;\n",
              "      --hover-fill-color: #FFFFFF;\n",
              "      --disabled-bg-color: #3B4455;\n",
              "      --disabled-fill-color: #666;\n",
              "  }\n",
              "\n",
              "  .colab-df-quickchart {\n",
              "    background-color: var(--bg-color);\n",
              "    border: none;\n",
              "    border-radius: 50%;\n",
              "    cursor: pointer;\n",
              "    display: none;\n",
              "    fill: var(--fill-color);\n",
              "    height: 32px;\n",
              "    padding: 0;\n",
              "    width: 32px;\n",
              "  }\n",
              "\n",
              "  .colab-df-quickchart:hover {\n",
              "    background-color: var(--hover-bg-color);\n",
              "    box-shadow: 0 1px 2px rgba(60, 64, 67, 0.3), 0 1px 3px 1px rgba(60, 64, 67, 0.15);\n",
              "    fill: var(--button-hover-fill-color);\n",
              "  }\n",
              "\n",
              "  .colab-df-quickchart-complete:disabled,\n",
              "  .colab-df-quickchart-complete:disabled:hover {\n",
              "    background-color: var(--disabled-bg-color);\n",
              "    fill: var(--disabled-fill-color);\n",
              "    box-shadow: none;\n",
              "  }\n",
              "\n",
              "  .colab-df-spinner {\n",
              "    border: 2px solid var(--fill-color);\n",
              "    border-color: transparent;\n",
              "    border-bottom-color: var(--fill-color);\n",
              "    animation:\n",
              "      spin 1s steps(1) infinite;\n",
              "  }\n",
              "\n",
              "  @keyframes spin {\n",
              "    0% {\n",
              "      border-color: transparent;\n",
              "      border-bottom-color: var(--fill-color);\n",
              "      border-left-color: var(--fill-color);\n",
              "    }\n",
              "    20% {\n",
              "      border-color: transparent;\n",
              "      border-left-color: var(--fill-color);\n",
              "      border-top-color: var(--fill-color);\n",
              "    }\n",
              "    30% {\n",
              "      border-color: transparent;\n",
              "      border-left-color: var(--fill-color);\n",
              "      border-top-color: var(--fill-color);\n",
              "      border-right-color: var(--fill-color);\n",
              "    }\n",
              "    40% {\n",
              "      border-color: transparent;\n",
              "      border-right-color: var(--fill-color);\n",
              "      border-top-color: var(--fill-color);\n",
              "    }\n",
              "    60% {\n",
              "      border-color: transparent;\n",
              "      border-right-color: var(--fill-color);\n",
              "    }\n",
              "    80% {\n",
              "      border-color: transparent;\n",
              "      border-right-color: var(--fill-color);\n",
              "      border-bottom-color: var(--fill-color);\n",
              "    }\n",
              "    90% {\n",
              "      border-color: transparent;\n",
              "      border-bottom-color: var(--fill-color);\n",
              "    }\n",
              "  }\n",
              "</style>\n",
              "\n",
              "  <script>\n",
              "    async function quickchart(key) {\n",
              "      const quickchartButtonEl =\n",
              "        document.querySelector('#' + key + ' button');\n",
              "      quickchartButtonEl.disabled = true;  // To prevent multiple clicks.\n",
              "      quickchartButtonEl.classList.add('colab-df-spinner');\n",
              "      try {\n",
              "        const charts = await google.colab.kernel.invokeFunction(\n",
              "            'suggestCharts', [key], {});\n",
              "      } catch (error) {\n",
              "        console.error('Error during call to suggestCharts:', error);\n",
              "      }\n",
              "      quickchartButtonEl.classList.remove('colab-df-spinner');\n",
              "      quickchartButtonEl.classList.add('colab-df-quickchart-complete');\n",
              "    }\n",
              "    (() => {\n",
              "      let quickchartButtonEl =\n",
              "        document.querySelector('#df-3e25b114-0246-4e76-9b77-2f5126ca5c9e button');\n",
              "      quickchartButtonEl.style.display =\n",
              "        google.colab.kernel.accessAllowed ? 'block' : 'none';\n",
              "    })();\n",
              "  </script>\n",
              "</div>\n",
              "\n",
              "  <div id=\"id_553da181-9c52-4af7-bf00-c56fff709f7c\">\n",
              "    <style>\n",
              "      .colab-df-generate {\n",
              "        background-color: #E8F0FE;\n",
              "        border: none;\n",
              "        border-radius: 50%;\n",
              "        cursor: pointer;\n",
              "        display: none;\n",
              "        fill: #1967D2;\n",
              "        height: 32px;\n",
              "        padding: 0 0 0 0;\n",
              "        width: 32px;\n",
              "      }\n",
              "\n",
              "      .colab-df-generate:hover {\n",
              "        background-color: #E2EBFA;\n",
              "        box-shadow: 0px 1px 2px rgba(60, 64, 67, 0.3), 0px 1px 3px 1px rgba(60, 64, 67, 0.15);\n",
              "        fill: #174EA6;\n",
              "      }\n",
              "\n",
              "      [theme=dark] .colab-df-generate {\n",
              "        background-color: #3B4455;\n",
              "        fill: #D2E3FC;\n",
              "      }\n",
              "\n",
              "      [theme=dark] .colab-df-generate:hover {\n",
              "        background-color: #434B5C;\n",
              "        box-shadow: 0px 1px 3px 1px rgba(0, 0, 0, 0.15);\n",
              "        filter: drop-shadow(0px 1px 2px rgba(0, 0, 0, 0.3));\n",
              "        fill: #FFFFFF;\n",
              "      }\n",
              "    </style>\n",
              "    <button class=\"colab-df-generate\" onclick=\"generateWithVariable('queries')\"\n",
              "            title=\"Generate code using this dataframe.\"\n",
              "            style=\"display:none;\">\n",
              "\n",
              "  <svg xmlns=\"http://www.w3.org/2000/svg\" height=\"24px\"viewBox=\"0 0 24 24\"\n",
              "       width=\"24px\">\n",
              "    <path d=\"M7,19H8.4L18.45,9,17,7.55,7,17.6ZM5,21V16.75L18.45,3.32a2,2,0,0,1,2.83,0l1.4,1.43a1.91,1.91,0,0,1,.58,1.4,1.91,1.91,0,0,1-.58,1.4L9.25,21ZM18.45,9,17,7.55Zm-12,3A5.31,5.31,0,0,0,4.9,8.1,5.31,5.31,0,0,0,1,6.5,5.31,5.31,0,0,0,4.9,4.9,5.31,5.31,0,0,0,6.5,1,5.31,5.31,0,0,0,8.1,4.9,5.31,5.31,0,0,0,12,6.5,5.46,5.46,0,0,0,6.5,12Z\"/>\n",
              "  </svg>\n",
              "    </button>\n",
              "    <script>\n",
              "      (() => {\n",
              "      const buttonEl =\n",
              "        document.querySelector('#id_553da181-9c52-4af7-bf00-c56fff709f7c button.colab-df-generate');\n",
              "      buttonEl.style.display =\n",
              "        google.colab.kernel.accessAllowed ? 'block' : 'none';\n",
              "\n",
              "      buttonEl.onclick = () => {\n",
              "        google.colab.notebook.generateWithVariable('queries');\n",
              "      }\n",
              "      })();\n",
              "    </script>\n",
              "  </div>\n",
              "\n",
              "    </div>\n",
              "  </div>\n"
            ],
            "application/vnd.google.colaboratory.intrinsic+json": {
              "type": "dataframe",
              "variable_name": "queries",
              "summary": "{\n  \"name\": \"queries\",\n  \"rows\": 1000,\n  \"fields\": [\n    {\n      \"column\": \"qid\",\n      \"properties\": {\n        \"dtype\": \"number\",\n        \"std\": 329869,\n        \"min\": 1610,\n        \"max\": 1185864,\n        \"num_unique_values\": 1000,\n        \"samples\": [\n          858686,\n          37711,\n          990078\n        ],\n        \"semantic_type\": \"\",\n        \"description\": \"\"\n      }\n    },\n    {\n      \"column\": \"query\",\n      \"properties\": {\n        \"dtype\": \"string\",\n        \"num_unique_values\": 1000,\n        \"samples\": [\n          \"what is ucla's acceptance rate\",\n          \"average income from mcdonald's franchise\",\n          \"where is palo alto california\"\n        ],\n        \"semantic_type\": \"\",\n        \"description\": \"\"\n      }\n    }\n  ]\n}"
            }
          },
          "metadata": {},
          "execution_count": 5
        },
        {
          "output_type": "stream",
          "name": "stdout",
          "text": [
            "time: 160 ms (started: 2025-03-20 08:11:28 +00:00)\n"
          ]
        }
      ],
      "source": [
        "queries = pd.read_csv('our.msmarco.queries.tsv',sep='\\t',usecols=[1,2])\n",
        "queries"
      ]
    },
    {
      "cell_type": "code",
      "execution_count": null,
      "id": "ada037f1-1bd5-4a67-a2e9-b38adada382d",
      "metadata": {
        "id": "ada037f1-1bd5-4a67-a2e9-b38adada382d",
        "outputId": "d0589588-ac71-4f9f-f32d-a5a3e59dbc8d",
        "colab": {
          "base_uri": "https://localhost:8080/",
          "height": 441
        }
      },
      "outputs": [
        {
          "output_type": "execute_result",
          "data": {
            "text/plain": [
              "          qid     docid  rank    score\n",
              "0      310290   D579750     1 -5.11498\n",
              "1      310290   D579754     2 -5.57703\n",
              "2      310290  D2380815     3 -5.84852\n",
              "3      310290   D822566     4 -5.95002\n",
              "4      310290  D2249695     5 -6.08326\n",
              "...       ...       ...   ...      ...\n",
              "99995  257942   D253854    96 -6.32693\n",
              "99996  257942  D3056621    97 -6.32837\n",
              "99997  257942  D1323491    98 -6.32871\n",
              "99998  257942  D2722485    99 -6.33100\n",
              "99999  257942  D2339077   100 -6.33441\n",
              "\n",
              "[100000 rows x 4 columns]"
            ],
            "text/html": [
              "\n",
              "  <div id=\"df-537104d6-d288-4d0b-8cf2-84c0e7d38297\" class=\"colab-df-container\">\n",
              "    <div>\n",
              "<style scoped>\n",
              "    .dataframe tbody tr th:only-of-type {\n",
              "        vertical-align: middle;\n",
              "    }\n",
              "\n",
              "    .dataframe tbody tr th {\n",
              "        vertical-align: top;\n",
              "    }\n",
              "\n",
              "    .dataframe thead th {\n",
              "        text-align: right;\n",
              "    }\n",
              "</style>\n",
              "<table border=\"1\" class=\"dataframe\">\n",
              "  <thead>\n",
              "    <tr style=\"text-align: right;\">\n",
              "      <th></th>\n",
              "      <th>qid</th>\n",
              "      <th>docid</th>\n",
              "      <th>rank</th>\n",
              "      <th>score</th>\n",
              "    </tr>\n",
              "  </thead>\n",
              "  <tbody>\n",
              "    <tr>\n",
              "      <th>0</th>\n",
              "      <td>310290</td>\n",
              "      <td>D579750</td>\n",
              "      <td>1</td>\n",
              "      <td>-5.11498</td>\n",
              "    </tr>\n",
              "    <tr>\n",
              "      <th>1</th>\n",
              "      <td>310290</td>\n",
              "      <td>D579754</td>\n",
              "      <td>2</td>\n",
              "      <td>-5.57703</td>\n",
              "    </tr>\n",
              "    <tr>\n",
              "      <th>2</th>\n",
              "      <td>310290</td>\n",
              "      <td>D2380815</td>\n",
              "      <td>3</td>\n",
              "      <td>-5.84852</td>\n",
              "    </tr>\n",
              "    <tr>\n",
              "      <th>3</th>\n",
              "      <td>310290</td>\n",
              "      <td>D822566</td>\n",
              "      <td>4</td>\n",
              "      <td>-5.95002</td>\n",
              "    </tr>\n",
              "    <tr>\n",
              "      <th>4</th>\n",
              "      <td>310290</td>\n",
              "      <td>D2249695</td>\n",
              "      <td>5</td>\n",
              "      <td>-6.08326</td>\n",
              "    </tr>\n",
              "    <tr>\n",
              "      <th>...</th>\n",
              "      <td>...</td>\n",
              "      <td>...</td>\n",
              "      <td>...</td>\n",
              "      <td>...</td>\n",
              "    </tr>\n",
              "    <tr>\n",
              "      <th>99995</th>\n",
              "      <td>257942</td>\n",
              "      <td>D253854</td>\n",
              "      <td>96</td>\n",
              "      <td>-6.32693</td>\n",
              "    </tr>\n",
              "    <tr>\n",
              "      <th>99996</th>\n",
              "      <td>257942</td>\n",
              "      <td>D3056621</td>\n",
              "      <td>97</td>\n",
              "      <td>-6.32837</td>\n",
              "    </tr>\n",
              "    <tr>\n",
              "      <th>99997</th>\n",
              "      <td>257942</td>\n",
              "      <td>D1323491</td>\n",
              "      <td>98</td>\n",
              "      <td>-6.32871</td>\n",
              "    </tr>\n",
              "    <tr>\n",
              "      <th>99998</th>\n",
              "      <td>257942</td>\n",
              "      <td>D2722485</td>\n",
              "      <td>99</td>\n",
              "      <td>-6.33100</td>\n",
              "    </tr>\n",
              "    <tr>\n",
              "      <th>99999</th>\n",
              "      <td>257942</td>\n",
              "      <td>D2339077</td>\n",
              "      <td>100</td>\n",
              "      <td>-6.33441</td>\n",
              "    </tr>\n",
              "  </tbody>\n",
              "</table>\n",
              "<p>100000 rows × 4 columns</p>\n",
              "</div>\n",
              "    <div class=\"colab-df-buttons\">\n",
              "\n",
              "  <div class=\"colab-df-container\">\n",
              "    <button class=\"colab-df-convert\" onclick=\"convertToInteractive('df-537104d6-d288-4d0b-8cf2-84c0e7d38297')\"\n",
              "            title=\"Convert this dataframe to an interactive table.\"\n",
              "            style=\"display:none;\">\n",
              "\n",
              "  <svg xmlns=\"http://www.w3.org/2000/svg\" height=\"24px\" viewBox=\"0 -960 960 960\">\n",
              "    <path d=\"M120-120v-720h720v720H120Zm60-500h600v-160H180v160Zm220 220h160v-160H400v160Zm0 220h160v-160H400v160ZM180-400h160v-160H180v160Zm440 0h160v-160H620v160ZM180-180h160v-160H180v160Zm440 0h160v-160H620v160Z\"/>\n",
              "  </svg>\n",
              "    </button>\n",
              "\n",
              "  <style>\n",
              "    .colab-df-container {\n",
              "      display:flex;\n",
              "      gap: 12px;\n",
              "    }\n",
              "\n",
              "    .colab-df-convert {\n",
              "      background-color: #E8F0FE;\n",
              "      border: none;\n",
              "      border-radius: 50%;\n",
              "      cursor: pointer;\n",
              "      display: none;\n",
              "      fill: #1967D2;\n",
              "      height: 32px;\n",
              "      padding: 0 0 0 0;\n",
              "      width: 32px;\n",
              "    }\n",
              "\n",
              "    .colab-df-convert:hover {\n",
              "      background-color: #E2EBFA;\n",
              "      box-shadow: 0px 1px 2px rgba(60, 64, 67, 0.3), 0px 1px 3px 1px rgba(60, 64, 67, 0.15);\n",
              "      fill: #174EA6;\n",
              "    }\n",
              "\n",
              "    .colab-df-buttons div {\n",
              "      margin-bottom: 4px;\n",
              "    }\n",
              "\n",
              "    [theme=dark] .colab-df-convert {\n",
              "      background-color: #3B4455;\n",
              "      fill: #D2E3FC;\n",
              "    }\n",
              "\n",
              "    [theme=dark] .colab-df-convert:hover {\n",
              "      background-color: #434B5C;\n",
              "      box-shadow: 0px 1px 3px 1px rgba(0, 0, 0, 0.15);\n",
              "      filter: drop-shadow(0px 1px 2px rgba(0, 0, 0, 0.3));\n",
              "      fill: #FFFFFF;\n",
              "    }\n",
              "  </style>\n",
              "\n",
              "    <script>\n",
              "      const buttonEl =\n",
              "        document.querySelector('#df-537104d6-d288-4d0b-8cf2-84c0e7d38297 button.colab-df-convert');\n",
              "      buttonEl.style.display =\n",
              "        google.colab.kernel.accessAllowed ? 'block' : 'none';\n",
              "\n",
              "      async function convertToInteractive(key) {\n",
              "        const element = document.querySelector('#df-537104d6-d288-4d0b-8cf2-84c0e7d38297');\n",
              "        const dataTable =\n",
              "          await google.colab.kernel.invokeFunction('convertToInteractive',\n",
              "                                                    [key], {});\n",
              "        if (!dataTable) return;\n",
              "\n",
              "        const docLinkHtml = 'Like what you see? Visit the ' +\n",
              "          '<a target=\"_blank\" href=https://colab.research.google.com/notebooks/data_table.ipynb>data table notebook</a>'\n",
              "          + ' to learn more about interactive tables.';\n",
              "        element.innerHTML = '';\n",
              "        dataTable['output_type'] = 'display_data';\n",
              "        await google.colab.output.renderOutput(dataTable, element);\n",
              "        const docLink = document.createElement('div');\n",
              "        docLink.innerHTML = docLinkHtml;\n",
              "        element.appendChild(docLink);\n",
              "      }\n",
              "    </script>\n",
              "  </div>\n",
              "\n",
              "\n",
              "<div id=\"df-890444c1-9829-4f55-a1f7-9c86e7fb079b\">\n",
              "  <button class=\"colab-df-quickchart\" onclick=\"quickchart('df-890444c1-9829-4f55-a1f7-9c86e7fb079b')\"\n",
              "            title=\"Suggest charts\"\n",
              "            style=\"display:none;\">\n",
              "\n",
              "<svg xmlns=\"http://www.w3.org/2000/svg\" height=\"24px\"viewBox=\"0 0 24 24\"\n",
              "     width=\"24px\">\n",
              "    <g>\n",
              "        <path d=\"M19 3H5c-1.1 0-2 .9-2 2v14c0 1.1.9 2 2 2h14c1.1 0 2-.9 2-2V5c0-1.1-.9-2-2-2zM9 17H7v-7h2v7zm4 0h-2V7h2v10zm4 0h-2v-4h2v4z\"/>\n",
              "    </g>\n",
              "</svg>\n",
              "  </button>\n",
              "\n",
              "<style>\n",
              "  .colab-df-quickchart {\n",
              "      --bg-color: #E8F0FE;\n",
              "      --fill-color: #1967D2;\n",
              "      --hover-bg-color: #E2EBFA;\n",
              "      --hover-fill-color: #174EA6;\n",
              "      --disabled-fill-color: #AAA;\n",
              "      --disabled-bg-color: #DDD;\n",
              "  }\n",
              "\n",
              "  [theme=dark] .colab-df-quickchart {\n",
              "      --bg-color: #3B4455;\n",
              "      --fill-color: #D2E3FC;\n",
              "      --hover-bg-color: #434B5C;\n",
              "      --hover-fill-color: #FFFFFF;\n",
              "      --disabled-bg-color: #3B4455;\n",
              "      --disabled-fill-color: #666;\n",
              "  }\n",
              "\n",
              "  .colab-df-quickchart {\n",
              "    background-color: var(--bg-color);\n",
              "    border: none;\n",
              "    border-radius: 50%;\n",
              "    cursor: pointer;\n",
              "    display: none;\n",
              "    fill: var(--fill-color);\n",
              "    height: 32px;\n",
              "    padding: 0;\n",
              "    width: 32px;\n",
              "  }\n",
              "\n",
              "  .colab-df-quickchart:hover {\n",
              "    background-color: var(--hover-bg-color);\n",
              "    box-shadow: 0 1px 2px rgba(60, 64, 67, 0.3), 0 1px 3px 1px rgba(60, 64, 67, 0.15);\n",
              "    fill: var(--button-hover-fill-color);\n",
              "  }\n",
              "\n",
              "  .colab-df-quickchart-complete:disabled,\n",
              "  .colab-df-quickchart-complete:disabled:hover {\n",
              "    background-color: var(--disabled-bg-color);\n",
              "    fill: var(--disabled-fill-color);\n",
              "    box-shadow: none;\n",
              "  }\n",
              "\n",
              "  .colab-df-spinner {\n",
              "    border: 2px solid var(--fill-color);\n",
              "    border-color: transparent;\n",
              "    border-bottom-color: var(--fill-color);\n",
              "    animation:\n",
              "      spin 1s steps(1) infinite;\n",
              "  }\n",
              "\n",
              "  @keyframes spin {\n",
              "    0% {\n",
              "      border-color: transparent;\n",
              "      border-bottom-color: var(--fill-color);\n",
              "      border-left-color: var(--fill-color);\n",
              "    }\n",
              "    20% {\n",
              "      border-color: transparent;\n",
              "      border-left-color: var(--fill-color);\n",
              "      border-top-color: var(--fill-color);\n",
              "    }\n",
              "    30% {\n",
              "      border-color: transparent;\n",
              "      border-left-color: var(--fill-color);\n",
              "      border-top-color: var(--fill-color);\n",
              "      border-right-color: var(--fill-color);\n",
              "    }\n",
              "    40% {\n",
              "      border-color: transparent;\n",
              "      border-right-color: var(--fill-color);\n",
              "      border-top-color: var(--fill-color);\n",
              "    }\n",
              "    60% {\n",
              "      border-color: transparent;\n",
              "      border-right-color: var(--fill-color);\n",
              "    }\n",
              "    80% {\n",
              "      border-color: transparent;\n",
              "      border-right-color: var(--fill-color);\n",
              "      border-bottom-color: var(--fill-color);\n",
              "    }\n",
              "    90% {\n",
              "      border-color: transparent;\n",
              "      border-bottom-color: var(--fill-color);\n",
              "    }\n",
              "  }\n",
              "</style>\n",
              "\n",
              "  <script>\n",
              "    async function quickchart(key) {\n",
              "      const quickchartButtonEl =\n",
              "        document.querySelector('#' + key + ' button');\n",
              "      quickchartButtonEl.disabled = true;  // To prevent multiple clicks.\n",
              "      quickchartButtonEl.classList.add('colab-df-spinner');\n",
              "      try {\n",
              "        const charts = await google.colab.kernel.invokeFunction(\n",
              "            'suggestCharts', [key], {});\n",
              "      } catch (error) {\n",
              "        console.error('Error during call to suggestCharts:', error);\n",
              "      }\n",
              "      quickchartButtonEl.classList.remove('colab-df-spinner');\n",
              "      quickchartButtonEl.classList.add('colab-df-quickchart-complete');\n",
              "    }\n",
              "    (() => {\n",
              "      let quickchartButtonEl =\n",
              "        document.querySelector('#df-890444c1-9829-4f55-a1f7-9c86e7fb079b button');\n",
              "      quickchartButtonEl.style.display =\n",
              "        google.colab.kernel.accessAllowed ? 'block' : 'none';\n",
              "    })();\n",
              "  </script>\n",
              "</div>\n",
              "\n",
              "  <div id=\"id_e63c91a1-26d5-476e-bb90-8add5bd6e75f\">\n",
              "    <style>\n",
              "      .colab-df-generate {\n",
              "        background-color: #E8F0FE;\n",
              "        border: none;\n",
              "        border-radius: 50%;\n",
              "        cursor: pointer;\n",
              "        display: none;\n",
              "        fill: #1967D2;\n",
              "        height: 32px;\n",
              "        padding: 0 0 0 0;\n",
              "        width: 32px;\n",
              "      }\n",
              "\n",
              "      .colab-df-generate:hover {\n",
              "        background-color: #E2EBFA;\n",
              "        box-shadow: 0px 1px 2px rgba(60, 64, 67, 0.3), 0px 1px 3px 1px rgba(60, 64, 67, 0.15);\n",
              "        fill: #174EA6;\n",
              "      }\n",
              "\n",
              "      [theme=dark] .colab-df-generate {\n",
              "        background-color: #3B4455;\n",
              "        fill: #D2E3FC;\n",
              "      }\n",
              "\n",
              "      [theme=dark] .colab-df-generate:hover {\n",
              "        background-color: #434B5C;\n",
              "        box-shadow: 0px 1px 3px 1px rgba(0, 0, 0, 0.15);\n",
              "        filter: drop-shadow(0px 1px 2px rgba(0, 0, 0, 0.3));\n",
              "        fill: #FFFFFF;\n",
              "      }\n",
              "    </style>\n",
              "    <button class=\"colab-df-generate\" onclick=\"generateWithVariable('gold')\"\n",
              "            title=\"Generate code using this dataframe.\"\n",
              "            style=\"display:none;\">\n",
              "\n",
              "  <svg xmlns=\"http://www.w3.org/2000/svg\" height=\"24px\"viewBox=\"0 0 24 24\"\n",
              "       width=\"24px\">\n",
              "    <path d=\"M7,19H8.4L18.45,9,17,7.55,7,17.6ZM5,21V16.75L18.45,3.32a2,2,0,0,1,2.83,0l1.4,1.43a1.91,1.91,0,0,1,.58,1.4,1.91,1.91,0,0,1-.58,1.4L9.25,21ZM18.45,9,17,7.55Zm-12,3A5.31,5.31,0,0,0,4.9,8.1,5.31,5.31,0,0,0,1,6.5,5.31,5.31,0,0,0,4.9,4.9,5.31,5.31,0,0,0,6.5,1,5.31,5.31,0,0,0,8.1,4.9,5.31,5.31,0,0,0,12,6.5,5.46,5.46,0,0,0,6.5,12Z\"/>\n",
              "  </svg>\n",
              "    </button>\n",
              "    <script>\n",
              "      (() => {\n",
              "      const buttonEl =\n",
              "        document.querySelector('#id_e63c91a1-26d5-476e-bb90-8add5bd6e75f button.colab-df-generate');\n",
              "      buttonEl.style.display =\n",
              "        google.colab.kernel.accessAllowed ? 'block' : 'none';\n",
              "\n",
              "      buttonEl.onclick = () => {\n",
              "        google.colab.notebook.generateWithVariable('gold');\n",
              "      }\n",
              "      })();\n",
              "    </script>\n",
              "  </div>\n",
              "\n",
              "    </div>\n",
              "  </div>\n"
            ],
            "application/vnd.google.colaboratory.intrinsic+json": {
              "type": "dataframe",
              "variable_name": "gold",
              "summary": "{\n  \"name\": \"gold\",\n  \"rows\": 100000,\n  \"fields\": [\n    {\n      \"column\": \"qid\",\n      \"properties\": {\n        \"dtype\": \"number\",\n        \"std\": 329706,\n        \"min\": 1610,\n        \"max\": 1185864,\n        \"num_unique_values\": 1000,\n        \"samples\": [\n          791395,\n          34210,\n          321206\n        ],\n        \"semantic_type\": \"\",\n        \"description\": \"\"\n      }\n    },\n    {\n      \"column\": \"docid\",\n      \"properties\": {\n        \"dtype\": \"string\",\n        \"num_unique_values\": 92565,\n        \"samples\": [\n          \"D3333313\",\n          \"D958999\",\n          \"D3192274\"\n        ],\n        \"semantic_type\": \"\",\n        \"description\": \"\"\n      }\n    },\n    {\n      \"column\": \"rank\",\n      \"properties\": {\n        \"dtype\": \"number\",\n        \"std\": 28,\n        \"min\": 1,\n        \"max\": 100,\n        \"num_unique_values\": 100,\n        \"samples\": [\n          84,\n          54,\n          71\n        ],\n        \"semantic_type\": \"\",\n        \"description\": \"\"\n      }\n    },\n    {\n      \"column\": \"score\",\n      \"properties\": {\n        \"dtype\": \"number\",\n        \"std\": 0.8638425963844301,\n        \"min\": -11.6424,\n        \"max\": -3.79994,\n        \"num_unique_values\": 80702,\n        \"samples\": [\n          -7.26055,\n          -6.58976,\n          -5.18713\n        ],\n        \"semantic_type\": \"\",\n        \"description\": \"\"\n      }\n    }\n  ]\n}"
            }
          },
          "metadata": {},
          "execution_count": 6
        },
        {
          "output_type": "stream",
          "name": "stdout",
          "text": [
            "time: 511 ms (started: 2025-03-20 08:11:30 +00:00)\n"
          ]
        }
      ],
      "source": [
        "gold = pd.read_csv('our.msmarco.gold.tsv',sep='\\t',usecols=[1,3,4,5])\n",
        "gold"
      ]
    },
    {
      "cell_type": "code",
      "execution_count": null,
      "id": "de5a006e-fb54-4539-9131-d3fe083a2739",
      "metadata": {
        "id": "de5a006e-fb54-4539-9131-d3fe083a2739",
        "outputId": "8e81abf6-31f9-407d-e91c-cec9e99f4d51",
        "colab": {
          "base_uri": "https://localhost:8080/",
          "height": 441
        }
      },
      "outputs": [
        {
          "output_type": "execute_result",
          "data": {
            "text/plain": [
              "          docid                                              title  \\\n",
              "0      D2981241                 What do you call a group of lions?   \n",
              "1       D687756                                                  .   \n",
              "2       D913099  Everything You Need To Learn How To Cook Veget...   \n",
              "3       D328017  What is the difference between latitude, longi...   \n",
              "4      D1636347                      When was the pulley invented?   \n",
              "...         ...                                                ...   \n",
              "92560  D3379210  Top 39 Doctor insights on: Can An Iud Cause Ha...   \n",
              "92561  D3068739     How to get back your DirecTV cancellation fees   \n",
              "92562  D1590402                                 Certification FAQs   \n",
              "92563  D2175490  Greenhouse gas emissions by Canadian economic ...   \n",
              "92564  D2580062                                QuickBooks Bill Pay   \n",
              "\n",
              "                                                    body  \n",
              "0      Lions Vocabulary of the English Language Word ...  \n",
              "1      The A Priori Argument ( also, Rationalization;...  \n",
              "2      Home > How To Cook Vegetables Everything You N...  \n",
              "3      Longitude Latitude Geographic Coordinate Syste...  \n",
              "4      Answers.com ® Wiki Answers ® Categories Techno...  \n",
              "...                                                  ...  \n",
              "92560  Top 39 Doctor insights on: Can An Iud Cause Ha...  \n",
              "92561  How to get back your Direc TV cancellation fee...  \n",
              "92562  Fingerprinting 1. Where can I get fingerprinte...  \n",
              "92563  Access PDF (682 KB)In 2015, Canada's total gre...  \n",
              "92564  Quick Books Bill Pay Simplify your accounts pa...  \n",
              "\n",
              "[92565 rows x 3 columns]"
            ],
            "text/html": [
              "\n",
              "  <div id=\"df-0b11d6c4-a267-4b55-8c6d-08208755e700\" class=\"colab-df-container\">\n",
              "    <div>\n",
              "<style scoped>\n",
              "    .dataframe tbody tr th:only-of-type {\n",
              "        vertical-align: middle;\n",
              "    }\n",
              "\n",
              "    .dataframe tbody tr th {\n",
              "        vertical-align: top;\n",
              "    }\n",
              "\n",
              "    .dataframe thead th {\n",
              "        text-align: right;\n",
              "    }\n",
              "</style>\n",
              "<table border=\"1\" class=\"dataframe\">\n",
              "  <thead>\n",
              "    <tr style=\"text-align: right;\">\n",
              "      <th></th>\n",
              "      <th>docid</th>\n",
              "      <th>title</th>\n",
              "      <th>body</th>\n",
              "    </tr>\n",
              "  </thead>\n",
              "  <tbody>\n",
              "    <tr>\n",
              "      <th>0</th>\n",
              "      <td>D2981241</td>\n",
              "      <td>What do you call a group of lions?</td>\n",
              "      <td>Lions Vocabulary of the English Language Word ...</td>\n",
              "    </tr>\n",
              "    <tr>\n",
              "      <th>1</th>\n",
              "      <td>D687756</td>\n",
              "      <td>.</td>\n",
              "      <td>The A Priori Argument ( also, Rationalization;...</td>\n",
              "    </tr>\n",
              "    <tr>\n",
              "      <th>2</th>\n",
              "      <td>D913099</td>\n",
              "      <td>Everything You Need To Learn How To Cook Veget...</td>\n",
              "      <td>Home &gt; How To Cook Vegetables Everything You N...</td>\n",
              "    </tr>\n",
              "    <tr>\n",
              "      <th>3</th>\n",
              "      <td>D328017</td>\n",
              "      <td>What is the difference between latitude, longi...</td>\n",
              "      <td>Longitude Latitude Geographic Coordinate Syste...</td>\n",
              "    </tr>\n",
              "    <tr>\n",
              "      <th>4</th>\n",
              "      <td>D1636347</td>\n",
              "      <td>When was the pulley invented?</td>\n",
              "      <td>Answers.com ® Wiki Answers ® Categories Techno...</td>\n",
              "    </tr>\n",
              "    <tr>\n",
              "      <th>...</th>\n",
              "      <td>...</td>\n",
              "      <td>...</td>\n",
              "      <td>...</td>\n",
              "    </tr>\n",
              "    <tr>\n",
              "      <th>92560</th>\n",
              "      <td>D3379210</td>\n",
              "      <td>Top 39 Doctor insights on: Can An Iud Cause Ha...</td>\n",
              "      <td>Top 39 Doctor insights on: Can An Iud Cause Ha...</td>\n",
              "    </tr>\n",
              "    <tr>\n",
              "      <th>92561</th>\n",
              "      <td>D3068739</td>\n",
              "      <td>How to get back your DirecTV cancellation fees</td>\n",
              "      <td>How to get back your Direc TV cancellation fee...</td>\n",
              "    </tr>\n",
              "    <tr>\n",
              "      <th>92562</th>\n",
              "      <td>D1590402</td>\n",
              "      <td>Certification FAQs</td>\n",
              "      <td>Fingerprinting 1. Where can I get fingerprinte...</td>\n",
              "    </tr>\n",
              "    <tr>\n",
              "      <th>92563</th>\n",
              "      <td>D2175490</td>\n",
              "      <td>Greenhouse gas emissions by Canadian economic ...</td>\n",
              "      <td>Access PDF (682 KB)In 2015, Canada's total gre...</td>\n",
              "    </tr>\n",
              "    <tr>\n",
              "      <th>92564</th>\n",
              "      <td>D2580062</td>\n",
              "      <td>QuickBooks Bill Pay</td>\n",
              "      <td>Quick Books Bill Pay Simplify your accounts pa...</td>\n",
              "    </tr>\n",
              "  </tbody>\n",
              "</table>\n",
              "<p>92565 rows × 3 columns</p>\n",
              "</div>\n",
              "    <div class=\"colab-df-buttons\">\n",
              "\n",
              "  <div class=\"colab-df-container\">\n",
              "    <button class=\"colab-df-convert\" onclick=\"convertToInteractive('df-0b11d6c4-a267-4b55-8c6d-08208755e700')\"\n",
              "            title=\"Convert this dataframe to an interactive table.\"\n",
              "            style=\"display:none;\">\n",
              "\n",
              "  <svg xmlns=\"http://www.w3.org/2000/svg\" height=\"24px\" viewBox=\"0 -960 960 960\">\n",
              "    <path d=\"M120-120v-720h720v720H120Zm60-500h600v-160H180v160Zm220 220h160v-160H400v160Zm0 220h160v-160H400v160ZM180-400h160v-160H180v160Zm440 0h160v-160H620v160ZM180-180h160v-160H180v160Zm440 0h160v-160H620v160Z\"/>\n",
              "  </svg>\n",
              "    </button>\n",
              "\n",
              "  <style>\n",
              "    .colab-df-container {\n",
              "      display:flex;\n",
              "      gap: 12px;\n",
              "    }\n",
              "\n",
              "    .colab-df-convert {\n",
              "      background-color: #E8F0FE;\n",
              "      border: none;\n",
              "      border-radius: 50%;\n",
              "      cursor: pointer;\n",
              "      display: none;\n",
              "      fill: #1967D2;\n",
              "      height: 32px;\n",
              "      padding: 0 0 0 0;\n",
              "      width: 32px;\n",
              "    }\n",
              "\n",
              "    .colab-df-convert:hover {\n",
              "      background-color: #E2EBFA;\n",
              "      box-shadow: 0px 1px 2px rgba(60, 64, 67, 0.3), 0px 1px 3px 1px rgba(60, 64, 67, 0.15);\n",
              "      fill: #174EA6;\n",
              "    }\n",
              "\n",
              "    .colab-df-buttons div {\n",
              "      margin-bottom: 4px;\n",
              "    }\n",
              "\n",
              "    [theme=dark] .colab-df-convert {\n",
              "      background-color: #3B4455;\n",
              "      fill: #D2E3FC;\n",
              "    }\n",
              "\n",
              "    [theme=dark] .colab-df-convert:hover {\n",
              "      background-color: #434B5C;\n",
              "      box-shadow: 0px 1px 3px 1px rgba(0, 0, 0, 0.15);\n",
              "      filter: drop-shadow(0px 1px 2px rgba(0, 0, 0, 0.3));\n",
              "      fill: #FFFFFF;\n",
              "    }\n",
              "  </style>\n",
              "\n",
              "    <script>\n",
              "      const buttonEl =\n",
              "        document.querySelector('#df-0b11d6c4-a267-4b55-8c6d-08208755e700 button.colab-df-convert');\n",
              "      buttonEl.style.display =\n",
              "        google.colab.kernel.accessAllowed ? 'block' : 'none';\n",
              "\n",
              "      async function convertToInteractive(key) {\n",
              "        const element = document.querySelector('#df-0b11d6c4-a267-4b55-8c6d-08208755e700');\n",
              "        const dataTable =\n",
              "          await google.colab.kernel.invokeFunction('convertToInteractive',\n",
              "                                                    [key], {});\n",
              "        if (!dataTable) return;\n",
              "\n",
              "        const docLinkHtml = 'Like what you see? Visit the ' +\n",
              "          '<a target=\"_blank\" href=https://colab.research.google.com/notebooks/data_table.ipynb>data table notebook</a>'\n",
              "          + ' to learn more about interactive tables.';\n",
              "        element.innerHTML = '';\n",
              "        dataTable['output_type'] = 'display_data';\n",
              "        await google.colab.output.renderOutput(dataTable, element);\n",
              "        const docLink = document.createElement('div');\n",
              "        docLink.innerHTML = docLinkHtml;\n",
              "        element.appendChild(docLink);\n",
              "      }\n",
              "    </script>\n",
              "  </div>\n",
              "\n",
              "\n",
              "<div id=\"df-1624dee6-7ccc-4327-bba0-44e68f93dfaa\">\n",
              "  <button class=\"colab-df-quickchart\" onclick=\"quickchart('df-1624dee6-7ccc-4327-bba0-44e68f93dfaa')\"\n",
              "            title=\"Suggest charts\"\n",
              "            style=\"display:none;\">\n",
              "\n",
              "<svg xmlns=\"http://www.w3.org/2000/svg\" height=\"24px\"viewBox=\"0 0 24 24\"\n",
              "     width=\"24px\">\n",
              "    <g>\n",
              "        <path d=\"M19 3H5c-1.1 0-2 .9-2 2v14c0 1.1.9 2 2 2h14c1.1 0 2-.9 2-2V5c0-1.1-.9-2-2-2zM9 17H7v-7h2v7zm4 0h-2V7h2v10zm4 0h-2v-4h2v4z\"/>\n",
              "    </g>\n",
              "</svg>\n",
              "  </button>\n",
              "\n",
              "<style>\n",
              "  .colab-df-quickchart {\n",
              "      --bg-color: #E8F0FE;\n",
              "      --fill-color: #1967D2;\n",
              "      --hover-bg-color: #E2EBFA;\n",
              "      --hover-fill-color: #174EA6;\n",
              "      --disabled-fill-color: #AAA;\n",
              "      --disabled-bg-color: #DDD;\n",
              "  }\n",
              "\n",
              "  [theme=dark] .colab-df-quickchart {\n",
              "      --bg-color: #3B4455;\n",
              "      --fill-color: #D2E3FC;\n",
              "      --hover-bg-color: #434B5C;\n",
              "      --hover-fill-color: #FFFFFF;\n",
              "      --disabled-bg-color: #3B4455;\n",
              "      --disabled-fill-color: #666;\n",
              "  }\n",
              "\n",
              "  .colab-df-quickchart {\n",
              "    background-color: var(--bg-color);\n",
              "    border: none;\n",
              "    border-radius: 50%;\n",
              "    cursor: pointer;\n",
              "    display: none;\n",
              "    fill: var(--fill-color);\n",
              "    height: 32px;\n",
              "    padding: 0;\n",
              "    width: 32px;\n",
              "  }\n",
              "\n",
              "  .colab-df-quickchart:hover {\n",
              "    background-color: var(--hover-bg-color);\n",
              "    box-shadow: 0 1px 2px rgba(60, 64, 67, 0.3), 0 1px 3px 1px rgba(60, 64, 67, 0.15);\n",
              "    fill: var(--button-hover-fill-color);\n",
              "  }\n",
              "\n",
              "  .colab-df-quickchart-complete:disabled,\n",
              "  .colab-df-quickchart-complete:disabled:hover {\n",
              "    background-color: var(--disabled-bg-color);\n",
              "    fill: var(--disabled-fill-color);\n",
              "    box-shadow: none;\n",
              "  }\n",
              "\n",
              "  .colab-df-spinner {\n",
              "    border: 2px solid var(--fill-color);\n",
              "    border-color: transparent;\n",
              "    border-bottom-color: var(--fill-color);\n",
              "    animation:\n",
              "      spin 1s steps(1) infinite;\n",
              "  }\n",
              "\n",
              "  @keyframes spin {\n",
              "    0% {\n",
              "      border-color: transparent;\n",
              "      border-bottom-color: var(--fill-color);\n",
              "      border-left-color: var(--fill-color);\n",
              "    }\n",
              "    20% {\n",
              "      border-color: transparent;\n",
              "      border-left-color: var(--fill-color);\n",
              "      border-top-color: var(--fill-color);\n",
              "    }\n",
              "    30% {\n",
              "      border-color: transparent;\n",
              "      border-left-color: var(--fill-color);\n",
              "      border-top-color: var(--fill-color);\n",
              "      border-right-color: var(--fill-color);\n",
              "    }\n",
              "    40% {\n",
              "      border-color: transparent;\n",
              "      border-right-color: var(--fill-color);\n",
              "      border-top-color: var(--fill-color);\n",
              "    }\n",
              "    60% {\n",
              "      border-color: transparent;\n",
              "      border-right-color: var(--fill-color);\n",
              "    }\n",
              "    80% {\n",
              "      border-color: transparent;\n",
              "      border-right-color: var(--fill-color);\n",
              "      border-bottom-color: var(--fill-color);\n",
              "    }\n",
              "    90% {\n",
              "      border-color: transparent;\n",
              "      border-bottom-color: var(--fill-color);\n",
              "    }\n",
              "  }\n",
              "</style>\n",
              "\n",
              "  <script>\n",
              "    async function quickchart(key) {\n",
              "      const quickchartButtonEl =\n",
              "        document.querySelector('#' + key + ' button');\n",
              "      quickchartButtonEl.disabled = true;  // To prevent multiple clicks.\n",
              "      quickchartButtonEl.classList.add('colab-df-spinner');\n",
              "      try {\n",
              "        const charts = await google.colab.kernel.invokeFunction(\n",
              "            'suggestCharts', [key], {});\n",
              "      } catch (error) {\n",
              "        console.error('Error during call to suggestCharts:', error);\n",
              "      }\n",
              "      quickchartButtonEl.classList.remove('colab-df-spinner');\n",
              "      quickchartButtonEl.classList.add('colab-df-quickchart-complete');\n",
              "    }\n",
              "    (() => {\n",
              "      let quickchartButtonEl =\n",
              "        document.querySelector('#df-1624dee6-7ccc-4327-bba0-44e68f93dfaa button');\n",
              "      quickchartButtonEl.style.display =\n",
              "        google.colab.kernel.accessAllowed ? 'block' : 'none';\n",
              "    })();\n",
              "  </script>\n",
              "</div>\n",
              "\n",
              "  <div id=\"id_8fe19f43-20a2-444d-8fd3-4d99689141e2\">\n",
              "    <style>\n",
              "      .colab-df-generate {\n",
              "        background-color: #E8F0FE;\n",
              "        border: none;\n",
              "        border-radius: 50%;\n",
              "        cursor: pointer;\n",
              "        display: none;\n",
              "        fill: #1967D2;\n",
              "        height: 32px;\n",
              "        padding: 0 0 0 0;\n",
              "        width: 32px;\n",
              "      }\n",
              "\n",
              "      .colab-df-generate:hover {\n",
              "        background-color: #E2EBFA;\n",
              "        box-shadow: 0px 1px 2px rgba(60, 64, 67, 0.3), 0px 1px 3px 1px rgba(60, 64, 67, 0.15);\n",
              "        fill: #174EA6;\n",
              "      }\n",
              "\n",
              "      [theme=dark] .colab-df-generate {\n",
              "        background-color: #3B4455;\n",
              "        fill: #D2E3FC;\n",
              "      }\n",
              "\n",
              "      [theme=dark] .colab-df-generate:hover {\n",
              "        background-color: #434B5C;\n",
              "        box-shadow: 0px 1px 3px 1px rgba(0, 0, 0, 0.15);\n",
              "        filter: drop-shadow(0px 1px 2px rgba(0, 0, 0, 0.3));\n",
              "        fill: #FFFFFF;\n",
              "      }\n",
              "    </style>\n",
              "    <button class=\"colab-df-generate\" onclick=\"generateWithVariable('docs')\"\n",
              "            title=\"Generate code using this dataframe.\"\n",
              "            style=\"display:none;\">\n",
              "\n",
              "  <svg xmlns=\"http://www.w3.org/2000/svg\" height=\"24px\"viewBox=\"0 0 24 24\"\n",
              "       width=\"24px\">\n",
              "    <path d=\"M7,19H8.4L18.45,9,17,7.55,7,17.6ZM5,21V16.75L18.45,3.32a2,2,0,0,1,2.83,0l1.4,1.43a1.91,1.91,0,0,1,.58,1.4,1.91,1.91,0,0,1-.58,1.4L9.25,21ZM18.45,9,17,7.55Zm-12,3A5.31,5.31,0,0,0,4.9,8.1,5.31,5.31,0,0,0,1,6.5,5.31,5.31,0,0,0,4.9,4.9,5.31,5.31,0,0,0,6.5,1,5.31,5.31,0,0,0,8.1,4.9,5.31,5.31,0,0,0,12,6.5,5.46,5.46,0,0,0,6.5,12Z\"/>\n",
              "  </svg>\n",
              "    </button>\n",
              "    <script>\n",
              "      (() => {\n",
              "      const buttonEl =\n",
              "        document.querySelector('#id_8fe19f43-20a2-444d-8fd3-4d99689141e2 button.colab-df-generate');\n",
              "      buttonEl.style.display =\n",
              "        google.colab.kernel.accessAllowed ? 'block' : 'none';\n",
              "\n",
              "      buttonEl.onclick = () => {\n",
              "        google.colab.notebook.generateWithVariable('docs');\n",
              "      }\n",
              "      })();\n",
              "    </script>\n",
              "  </div>\n",
              "\n",
              "    </div>\n",
              "  </div>\n"
            ],
            "application/vnd.google.colaboratory.intrinsic+json": {
              "type": "dataframe",
              "variable_name": "docs",
              "summary": "{\n  \"name\": \"docs\",\n  \"rows\": 92565,\n  \"fields\": [\n    {\n      \"column\": \"docid\",\n      \"properties\": {\n        \"dtype\": \"string\",\n        \"num_unique_values\": 92565,\n        \"samples\": [\n          \"D3490776\",\n          \"D587475\",\n          \"D3442790\"\n        ],\n        \"semantic_type\": \"\",\n        \"description\": \"\"\n      }\n    },\n    {\n      \"column\": \"title\",\n      \"properties\": {\n        \"dtype\": \"string\",\n        \"num_unique_values\": 74750,\n        \"samples\": [\n          \"Which Colorado ski areas will be open over Thanksgiving? And what\\u00e2s in the snow forecast?\",\n          \"Top 40 Doctor insights on: What Is Normal Uterine Lining Thickness\",\n          \"11th grade chemistry chapter 2\"\n        ],\n        \"semantic_type\": \"\",\n        \"description\": \"\"\n      }\n    },\n    {\n      \"column\": \"body\",\n      \"properties\": {\n        \"dtype\": \"string\",\n        \"num_unique_values\": 88523,\n        \"samples\": [\n          \"Watch NFL Network and NFL Red Zone on Tablet Watch NFL Network Watch NFL Network and NFL Red Zone live through your favorite tablet device. Download the free app now and sign in to your TV provider to start watching. *NFL Mobile from Verizon Download the free NFL Mobile app to watch NFL Network and NFL Red Zone. *NFL App on Windows Download the NFL app from the Windows store to get NFL Network & NFL Red Zone live. *More Ways to Watch There are many ways to watch NFL Network and Red Zone live: Smartphone - NFL Mobile (included for Verizon customers)Tablet - Watch NFL Network, NFL Mobile, NFL App on Windows 10PC - NFL.com/Watch Connected Devices - NFL app on Xbox One, Xbox 360, Apple TV & PS4Smartphone NFL Mobile All Verizon customers get live access to NFL Network included with their plan. NFL Red Zone is available as an in-app purchase. Connected Devices NFL App Access the NFL App on select connected TV devices to stream NFL Network and NFL Red Zone. *Apple TV \",\n          \"Home >> Illustrator Tutorials Illustrator Image to Vector Tutorial UPDATED February 21, 2017In this Adobe Illustrator tutorial you will learn how to vectorize an image. You will use a simple reference bitmap image of a cartoon cow, and then use Illustrator to trace over it to make a simple vector image. Vectorize an Image Vectors are graphics consisting of lines and curves defined by mathematical formulas. In Illustrator, you can resize or modify vector graphics without losing any resolution. In contrast, bitmap images become blurry or pixilated when resizing. This tutorial will image trace (vectorize) the bitmap and convert to a vector image. Bullet list of the tools you will use:* Use the Pen tool to draw points and lines. * Use the Direct Selection tool to move and scale anchor points. * Use the Illustrator Pathfinder tool to combine multiple objects. * Compare Bitmap to Vector images. Download the bitmap for the tutorial: Cartoon_Cow.zip Watch the video on Youtube Watch the video Illustrator Image Trace Tutorial Your browser does not currently recognize any of the video formats available. Click here to visit our frequently asked questions about HTML5 video.0:00 / 4:43How to trace a vector from a reference image in Adobe Illustrator1. Create a new document and import your image that you want to make vector. To do this tutorial correctly, use the image that\\u2019s provided with the tutorial. To import the image, go to File > Place and select the image then click open.2. We\\u2019re using an image of a cow here. To vectorize this image we\\u2019ll start from the position that is most far in depth. In this image, the body of the cow is the object that is in the most back position. So make a new layer and lock the first layer that holds the main picture. To make the body you can just use the Oval tool and make an oval shape that fits the body. Select the shape and change fill color to none and stroke color to black. Don\\u2019t worry about overlapping head or legs. Now copy that oval shape, make a new layer, lock the previous layer and paste the shape in the new layer. Press Ctrl+F to paste in front. This will hold the exact position.3. Now select the pen tool and draw lines along the grey spots. Make sure your lines goes out of the body. Follow the picture below. Use Direct Selection tool to select, move and scale anchor points.4. Now select all shapes and open Pathfinder window from Window > Pathfinder. Having all of them selected, click Divide in pathfinder window. This will divide the shapes and group them. Now ungroup it from Object > Ungroup. This will delete the over extended path areas that overlap the image.5. Same way now, make another layer and draw paths along the head and the mouth (pink area). Use Pathfinder. Also make sure you copied the outline of the head to a new layer before using the pathfinder. Do the same thing with paths for ears of the cow.6. Now make the nose holes also with the Pen tool. Draw one and Reflect it. To reflect and copy, select the shape and go to Object > Transform > Reflect. Chose vertical and click copy. Same way, also draw the eyes and Reflect.7. Now make a new layer and make the leg paths. Use the Pen tool to draw paths and then use the pathfinder same way as before. In the case of the leg, use reflect and copy. In the same layer make the paths for the horns. Ok, Select and move all the paths to an empty space on the canvas.8. Now you\\u2019re done with making the base. Now you just have to give the right colors. Select the body and give it 3px black stroke with no fill. For the head use 3px black stroke with white fill.9. Now select the spots, legs and horns, give fill color #4D4D4D with no stroke. Select the mouth, give 3px black stroke and fill color #FAD4E4. For nose holes and eyes, just use black fill color with no stroke.10. Finally, select the areas which represents the shade and fill them with black color with no stroke and change the opacity to 20%. That\\u2019s all. You\\u2019re done!Now let\\u2019s contrast the two images zoomed in. Vector on the left, and bitmap on the right. More Illustrator tutorials: Angry Bird Landscape Art Seamless Art Draw Flower Vector Images If you liked this tutorial, please share with your friends: Illustrator Vectors \",\n          \"1. What is/are the main excretory organ/s of the body? A. skin B. lungs C. intestines D. kidneys D2. The kidney functions in A. preventing blood loss. B. white blood cell production. C. synthesis of vitamin D. excretion of metabolic wastes. E. production of the hormone aldosterone. D3. Which of the following functions would not be performed by the kidney? A. urine storage B. excretion of waste C. maintenance of fluid balance D. regulate synthesis of vitamin D E. regulate synthesis of RBCs A 4. Urine is carried from the kidneys to the urinary bladder by the A. urethra. B. ureter. C. calyces. D. renal columns. E. renal tubules. B5. Arrange the following structures in correct sequence: (1) ureter (2) renal pelvis (3) calyx (4) urinary bladder (5) urethra A. 1, 2, 3, 4, 5 B. 3, 2, 1, 4, 5 C. 2, 4, 5, 3, 1 D. 3, 4, 1, 2, 5 E. 1, 3, 2, 4, 5B 6. The kidney is protected from mechanical shock by the A. hilum. B. renal fascia. C. renal fat pad. D. renal capsule. E. renal cortex. C7. Blood vessels, nerves, and the ureter enter and leave the kidney at the A. hilum. B. renal fascia. C. renal pelvis. D. renal capsule. E. renal pyramid.8. The ureter expands into the substance of the kidney as the A. hilum. B. renal pelvis. C. renal capsule. D. renal pyramid. E. renal corpuscle.9. The portion of the kidney that is composed of cone-shaped renal pyramids is called the A. cortex. B. medulla. C. pelvis. D. calyx. E. columns.10. Cortical tissue located between the pyramids is called the A. calyx tissue. B. renal papillae. C. renal columns. D. medullary rays. E. renal corpuscles.11. The tip of each renal pyramid is called A. a nephron. B. a renal papilla. C. a renal column. D. a medullary ray. E. the apex.12. The renal papillae extend into the A. cortex. B. renal columns. C. minor calyces. D. major calyces.13. The structural and functional units of the kidney are called A. nephrons. B. renal papillae. C. renal pyramids. D. renal columns. E. renal tubes.14. The juxtamedullary nephrons A. have long loops of Henle. B. are found next to the renal capsule. C. comprise 85% of all nephrons. D. have their renal corpuscles located in the medulla. E. have short loops of Henle.15. Which of the following is NOT part of a nephron? A. loop of Henle B. collecting duct C. renal corpuscle D. proximal convoluted tubule E. distal convoluted tubule16. The network of capillaries that is located in Bowman's capsule is called the A. vasa recta. B. glomerulus. C. peritubular capillary. D. proximal convoluted capillary. E. efferent arteriole.17. The renal corpuscle consists of A. the renal pelvis and the renal tubules. B. the glomerulus and Bowman's capsule. C. Bowman's capsule and the renal pelvis. D. the proximal convoluted tubule and the glomerulus. E. afferent and efferent arteriole.18. Which of the following structures is a capillary? A. glomerulus B. loop of Henle C. collecting duct D. Bowman's capsule E. proximal convoluted tubule19. The visceral layer of Bowman's capsule A. is part of the filtration membrane. B. is called endothelium. C. contains podocytes. D. is part of the filtration membrane and is called endothelium. E. is part of the filtration membrane and contains podocytes.20. Which of the following layers of the filtration membrane is closest to the plasma? A. podocytes B. macula densa C. glomerular endothelium D. the basement membrane E. parietal layer of Bowman's capsule21. The inner layer of Bowman's capsule consists of specialized cells called A. nephrons. B. podocytes. C. nephrocytes. D. juxtamedullary cells. E. macula densa.22. The openings between the endothelial cells of the glomerular capillaries are called A. fenestrae. B. gap junctions. C. filtration slits. D. macula densa. E. membrane channels.23. Filtration slits is the name given to the A. points where the afferent arterioles enter the renal corpuscle. B. openings between the endothelial cells of the glomerular capillaries. C. gaps between the podocyte processes in the visceral layer of Bowman's capsule. D. basement membrane of the glomerular endothelium. E. active transport channels.24. An obstruction in the afferent arteriole would reduce the flow of blood into the A. glomerulus. B. renal artery. C. macula densa. D. efferent arteriole. E. arcuate artery.25. The filtration membrane consists of the A. capillary epithelium, podocytes, and macula densa. B. podocytes, basement membrane, and macula densa. C. basement membrane, capillary epithelium, and macula densa. D. parietal layer and visceral layer. E. podocytes, capillary endothelium, and basement membrane.26. Choose the term that does not belong. A. glomerulus B. macula densa C. juxtaglomerular cells D. juxtaglomerular apparatus E. afferent arteriole27. The juxtaglomerular apparatus is composed of A. juxtaglomerular cells and the macula densa. B. podocytes and juxtaglomerular cells. C. the macula densa and the filtration membrane. D. juxtaglomerular cells and the filtration membrane. E. glomerulus and Bowman's capsule.28. The portion of the nephron that empties into the collecting duct is the A. glomerulus. B. ascending loop of Henle. C. distal convoluted tubule. D. proximal convoluted tubule. E. descending loop of Henle.29. The renal corpuscle connects to the A. loop of Henle. B. collecting duct. C. distal convoluted tubule. D. renal convoluted tubule. E. proximal convoluted tubule.30. Which of the following is between the proximal and distal convoluted tubules? A. the glomerulus B. the loop of Henle C. the distal convoluted tubule D. the proximal convoluted tubule E. collecting duct31. Urine drains from the nephron into the calyces through the A. loop of Henle. B. collecting duct. C. distal convoluted tubule. D. proximal convoluted tubule. E. Bowman's capsule.32. Arrange the following in the sequence in which filtrate moves through them. (1) loop of Henle (2) Bowman's capsule (3) distal convoluted tubule (4) proximal convoluted tubule A. 1, 2, 3, 4 B. 4, 2, 1, 3 C. 2, 4, 3, 1 D. 2, 4, 1, 3 E. 3, 4, 1, 233. What type of cells form the proximal convoluted tubule? A. simple cuboidal epithelium with microvilli B. stratified squamous epithelium C. pseudostratified ciliated columnar epithelium D. simple columnar cells with microvilli and cilia34. Choose the one that does not belong. A. loop of Henle B. glomerulus C. distal convoluted tubule D. proximal convoluted tubule E. Bowman's capsule35. One feature of renal blood circulation that makes it unique is that A. there is a double set of venules. B. blood flows from arterioles into venules. C. blood flows from venules into arterioles. D. each nephron has at least two capillary networks. E. the nephron is only associated with the glomerulus.36. The vasa recta is a specialized portion of the A. glomerulus. B. afferent arteriole. C. efferent arteriole. D. peritubular capillary. E. interlobular artery.37. Which of these vessels gives rise to the peritubular capillary? A. glomerulus B. arcuate artery C. efferent arteriole D. interlobular artery E. afferent arteriole38. Trace the path of a red blood cell from the renal artery to the glomerulus: (1) interlobar artery (2) interlobular artery (3) segmental artery (4) arcuate artery (5) afferent arteriole A. 1, 2, 3, 4, 5 B. 1, 4, 2, 3, 5 C. 1,3, 2, 4, 5 D. 2, 1, 3, 5, 4 E. 1, 4, 3, 239. The urinary bladder A. stores urine until it is voided. B. empties to the exterior via the ureters. C. contains a muscle called the trigone. D. is superior to the kidney. E. filters urine.40. Skeletal muscle that surrounds the urethra as it extends through the pelvic floor forms the A. trigone. B. lamina propria. C. external urinary sphincter. D. internal urinary sphincter. E. involuntary portion of bladder control.41. Urine formation involves A. filtration of the plasma. B. reabsorption from the filtrate. C. secretion into the filtrate. D. production of red blood cells. E. filtration of the plasma, reabsorption from the filtrate, and the secretion into the filtrate.42. Formation of filtrate depends on a A. pressure gradient. B. concentration gradient. C. volume gradient. D. temperature gradient. E. osmotic gradient.43. The active transport of substances into the filtrate is called tubular A. filtration. B. reabsorption. C. secretion. D. elimination. E. excretion.44. The part of the cardiac output that passes through the kidneys is the A. renal fraction. B. filtration fraction. C. clearance fraction. D. glomerular flow rate. E. cardiac fraction.45. The amount of filtrate produced per minute is called the A. renal fraction. B. filtration fraction. C. glomerular filtration rate. D. clearance fraction. E. renal rate.46. At the rate of 125 ml of filtrate/minute, estimate the amount of filtrate formed in 24 hours. A. 45 liters B. 90 liters C. 125 liters D. 180 liters E. 200 liters47. What percent of filtrate becomes urine? A. less than 1% B. 5% C. 10% D. 80% E. 90%48. Plasma contains a much greater concentration of _____ than the glomerular filtrate. A. urea B. water C. protein D. sodium ions E. glucose49. Passage of proteins into Bowman's capsule is prevented by A. the size of the capillary pores. B. the size of the filtration slits in the podocytes. C. the size of the proteins. D. filtration pressure. E. the size of the capillary pores, the size of the filtration slits in the podocytes, and the size of the proteins.50. In glomerulonephritis, the permeability of the filtration membrane increases allowing proteins to cross the membrane. Which of the following would you expect to observe? A. increase in filtration volume B. anuria - no urine production C. necrosis of the renal corpuscle D. low protein levels in the filtrate E. no change in the filtrate51. Decreased blood colloid osmotic pressure affects renal function by A. increasing net filtration pressure. B. increasing capsular pressure. C. increasing glomerular capillary pressure. D. increasing blood pressure in the afferent arteriole. E. None of these choices is correct.52. The movement of fluid into Bowman's capsule is opposed by A. filtration pressure. B. capsular hydrostatic pressure. C. glomerular capillary pressure. D. osmotic pressure of the medulla of the kidney. E. blood pressure.53. If the following hypothetical conditions exist in the nephron, calculate the net filtration pressure. glomerular capillary pressure = 80 mm Hg blood colloid osmotic pressure = 20 mm Hg capsular hydrostatic pressure = 10 mm Hg A. 110 mm Hg B. 90 mm Hg C. 50 mm Hg D. 30 mm Hg E. 20 mm Hg54. Which of the following pressures tends to force fluid from the glomerulus through the filtration membrane into Bowman's capsule? A. tubular pressure B. capsular pressure C. colloid osmotic pressure D. glomerular capillary pressure E. None of these choices is correct.55. Which of the following events would increase filtration pressure? A. increase in capsular pressure B. constriction of the efferent arteriole C. increase in colloid osmotic pressure D. decrease in renal blood flow E. dilation of the efferent arteriole56. In the myogenic mechanism of autoregulation, what is the response to an increase in blood pressure in the afferent arteriole? A. constriction of the glomerulus B. dilation of the afferent arteriole C. dilation of the efferent arteriole D. constriction of the afferent arteriole57. What is the effect of intense sympathetic stimulation on the GFR? A. GFR increases B. GFR decreases C. GFR is not affected D. GFR increases, then decreases58. When sodium is actively transported from tubular cells to the interstitial fluid, A. no energy is needed. B. glucose and amino acids are countertransported at the same time. C. Na+ concentration gradient is established between the tubule lumen and tubule cell. D. water is countertransported by carrier molecules. E. water is secreted.59. Substances that are cotransported into proximal convoluted tubule cells include A. urea with water. B. potassium with amino acids. C. amino acids with bicarbonate ions. D. glucose molecules with sodium ions. E. chloride with potassium.60. Most water is reabsorbed from the filtrate in the A. proximal convoluted tubule. B. descending loop of Henle. C. ascending loop of Henle. D. distal convolute tubule. E. collecting duct.61. The proximal convoluted tubule is A. lined with epithelial cells that lack microvilli. B. the site of glucose and amino acid reabsorption. C. permeable to water if ADH is present. D. impermeable to water. E. the site of water secretion.62. Arrange the following in correct order. (1) cotransport molecule binds to sodium and glucose (2) establish sodium concentration gradient between tubular cells and tubular lumen (3) sodium and glucose moved into tubular cell (4) active transport of sodium from tubular cells to interstitial area A. 2, 1, 3, 4 B. 4, 2, 1, 3 C. 1, 3, 4, 2 D. 2, 4, 1, 3 E. 1, 2, 3, 463. Glucose is usually completely reabsorbed from the filtrate by the time the filtrate has reached the A. tip of the loop of Henle. B. end of the collecting duct. C. end of the distal convoluted tubule. D. end of the proximal convoluted tubule. E. beginning of the proximal convoluted tubule.64. Water reabsorption by the renal tubules uses A. active transport. B. cotransport. C. solvent drag. D. osmosis. E. None of these choices is correct.65. In the ascending limb of the loop of Henle, A. water can easily enter or leave. B. potassium and chloride are cotransported with sodium across the apical membrane. C. calcium ions are actively transported across the basal membrane. D. potassium is concentrated in the filtrate. E. the filtrate does not change.66. Once inside the cells of the ascending limb, potassium and chloride cross the basal membrane into the interstitial fluid by the process of A. facilitated diffusion. B. cotransport. C. counter transport. D. active transport. E. simple diffusion.67. Which of the following ions are cotransported across the wall of the proximal convoluted tubule, distal convoluted tubule, and the ascending limb of the loop of Henle? A. sodium and bicarbonate B. potassium and phosphate C. sodium and chloride D. bicarbonate and potassium E. potassium and chloride68. The collecting ducts and distal convoluted tubules A. reabsorb glucose. B. collect filtrate from Bowman's capsule. C. actively transport sodium ions but not chloride ions. D. vary in their permeability to water relative to the amounts of ADH present. E. do not alter their permeability to water.69. The collecting duct becomes more permeable to water when A. colloid osmotic pressure increases. B. ADH production increases. C. plasma osmolality decreases. D. aldosterone production decreases. E. ADH production decreases.70. As ADH production declines, A. glomerular filtration increases. B. potassium reabsorption increases. C. reabsorption of water increases. D. the urine volume increases. E. the blood volume increases.71. When ADH binds to receptor sites on distal tubule cells, A. filtrate volume increases. B. filtrate osmolality decreases. C. potassium is secreted from the cells. D. the distal tubule is less permeable to water. E. the distal tubule is more permeable to water.72. Urea is A. secreted into the filtrate by cells of the distal convoluted tubule. B. diffuse out of the collecting ducts into the interstitial fluid of the medulla and then diffuse into the descending loop of Henle. C. completely reabsorbed by the nephron. D. actively transported into the filtrate by cells of the collecting duct. E. None of these choices is correct.73. Hydrogen ions are secreted into the filtrate by both the A. proximal and distal tubules. B. collecting duct and Bowman's capsule. C. loop of Henle and the distal tubule. D. proximal tubule and the loop of Henle. E. loop of Henle only.74. Which of the following are most likely to be actively secreted into the distal convoluted tubule? A. potassium ions. B. chloride ions. C. bicarbonate. D. amino acids. E. sodium.75. Potassium ions enter the lumen of the _____ by the process of active transport. A. proximal tubule B. renal corpuscle C. loop of Henle D. distal tubule E. collecting duct76. In the sodium-hydrogen antiport system, A. both sodium ions and hydrogen ions are transported into the tubular lumen. B. both sodium ions and hydrogen ions are transported into the tubular cell. C. sodium ions are transported into the cell; hydrogen ions are transported out of the cell. D. sodium ions are transported into the tubular lumen; hydrogen ions are transported into the cell. E. sodium ions are transported out of the cell; hydrogen ions are transported into the cell. 77. Tubular secretion occurs in which of the following structures? A. glomerulus B. urethra C. renal pelvis D. distal convoluted tubule E. collecting duct78. Tubular reabsorption and tubular secretion differ in that A. tubular secretion is a passive process; tubular reabsorption uses active transport. B. tubular secretion adds materials to the filtrate; tubular reabsorption removes materials from the filtrate. C. tubular reabsorption increases urine volume; tubular secretion decreases urine volume. D. tubular reabsorption occurs in Bowman's capsule; tubular secretion occurs in the peritubular capillary. E. tubular secretion moves materials from the filtrate into the blood; tubular reabsorption moves materials from the blood into the filtrate.79. Which of the following statements is true? A. Most filtrate (99%) is eliminated as urine. B. Normal filtrate contains a large amount of protein. C. Reabsorption of water in the filtrate may be hormonally controlled. D. Sodium ions are secreted into the filtrate of the proximal convoluted tubule. E. Hormones play a minor role in fluid homeostasis.80. The ability of the kidney to concentrate urine depends on A. proximal tubule reabsorption. B. a high medullary concentration gradient. C. osmosis. D. rapid removal of filtrate. E. a low medullary concentration gradient.81. The vasa recta A. supplies blood to the glomerulus. B. alters the cortical solute gradient. C. collects excess water and solutes from the medullary interstitial fluid. D. collects water and solutes reabsorbed from the proximal tubule. E. surrounds the collecting duct.82. The countercurrent multiplier system A. is found in the collecting duct. B. is assisted by hormones. C. has fluid flowing in parallel tubes in opposite directions. D. maintains the solute concentration of the medullary interstitial fluid. E. has fluid flowing in parallel tubes in opposite directions and maintains the solute concentration of the medullary interstitial fluid.83. A countercurrent mechanism is in A. the afferent and efferent arterioles. B. the glomerulus and Bowman's capsule. C. the proximal and distal tubules. D. the loop of Henle only. E. both the loop of Henle and the vasa recta.84. In which of the following locations is filtrate osmolality highest? A. end of proximal convoluted tubule B. tip of the loop of Henle C. end of distal convoluted tubule D. beginning of distal convoluted tubule E. descending loop of Henle85. Which of the following helps maintain a high solute concentration in the kidney medulla? A. high urea concentration in medulla B. active transport of solutes from ascending limb C. the vasa recta D. functions of the loop of Henle E. All of these choices are correct86. Which of the following would help maintain the medullary concentration gradient? A. movement of urea from the distal tubule to the proximal tubule B. urea movement from the collecting duct to medullary interstitial fluid C. movement of water from the ascending limb into the medullary interstitial fluid D. active transport of sodium and chloride from the medullary interstitial fluid into the collecting duct E. urea movement into the collecting duct87. Starting from the collecting duct, indicate the order in which urea molecules move to maintain the medullary concentration gradient. (1) ascending limb (2) distal convoluted tubule (3) interstitial fluid (4) collecting duct (5) descending limb A. 2, 5, 1, 4, 3 B. 1, 3, 5, 2, 4 C. 3, 5, 1, 2, 4 D. 4, 2, 1, 3, 5 E. 4, 3, 5, 1, 288. Which of the following statements is true? A. Only sodium diffuses from the descending limb. B. Solutes are actively transported from the ascending limb. C. Na+ and Cl- ions are actively transported into the vasa recta. D. The osmolality of the descending limb decreases as filtrate moves through. E. Water moves by osmosis out of the ascending loop.89. Which structure removes excess water and solutes from the kidney's medullary interstitial fluid? A. distal convoluted tubule B. collecting duct C. loop of Henle D. vasa recta E. proximal convoluted tubule90. The kidney dialysis machine is an example of a mechanical A. active transport system. B. countercurrent system. C. cotransport system. D. sorting system. E. toy.91. By the time filtrate reaches the tip of the loop of Henle, _____ of the filtrate volume has been reabsorbed. A. 65% B. 75% C. 80% D. 95% E. 100%92. The filtrate that drips from the renal papillae into the calyces A. has a higher concentration of waste products (urea) than the original filtrate. B. may have lost up to 99% of its original volume. C. is called urine. D. has a higher concentration of waste products (urea) than the original filtrate, may have lost up to 99% of its original waste, and is called urine. E. None of these choices is correct.93. Filtrate reabsorption, which occurs regardless of the concentration and volume of urine produced, is referred to as A. active. B. obligatory. C. facultative. D. countercurrent. E. nonessential.94. Urine concentration and volume depend on water reabsorption in the A. proximal convoluted tubule. B. descending loop of Henle. C. ascending loop of Henle. D. distal convoluted tubule only. E. distal convoluted tubule and collecting ducts.95. Some lung cancers secrete large amounts of ADH. This causes increased water reabsorption in the A. proximal convoluted tubule. B. loop of Henle. C. distal convoluted tubule and collecting ducts. D. calyces. E. urethra.96. Which of the following situations increases the number of action potentials to the supraoptic region of the hypothalamus? A. increased blood velocity B. decreased renin production C. increased plasma osmolality D. decreased aldosterone secretion E. decreased plasma osmolality97. Decreased ADH levels results in a urine high in A. potassium. B. water content. C. glucose content. D. bicarbonate content. E. hydrogen ions.98. Diabetes insipidus is the result of decreased A. ADH production. B. insulin production. C. aldosterone production. D. angiotensin II production. E. glucagon production.99. Removal of the posterior pituitary will immediately cause A. a decrease in urine volume. B. an increase in urine volume. C. no change in urine volume.100. A 15% increase in blood pressure would result in which of the following changes in ADH secretion? A. increased secretion B. decreased secretion C. no change in secretion101. The juxtaglomerular apparatus secretes A. renin. B. ADH. C. oxytocin. D. aldosterone. E. angiotensin.102. Renin converts A. angiotensin I to angiotensin II. B. angiotensin II to angiotensin I. C. angiotensinogen to angiotensin I. D. angiotensin II to angiotensin III. E. angiotensinogen to angiotensin II.103. The kidneys produce renin when A. the urine becomes acidic. B. the peritubular capillaries dilate. C. the blood pressure in the afferent arteriole decreases. D. sodium chloride concentration in the distal tubule increases. E. the blood pressure in the afferent arteriole increases.104. Angiotensin II A. is a potent vasodilator. B. stimulates aldosterone secretion. C. is formed from angiotensin I by the action of renin. D. acts on the collecting ducts to increase reabsorption of water. E. decreases blood pressure.105. Which of the following is NOT an action of angiotensin II? A. vasoconstriction of arterioles B. increases thirst C. increases ADH secretion D. decreases peripheral resistance E. increases aldosterone secretion106. Increased aldosterone causes increased A. urine volume. B. sodium secretion. C. potassium secretion. D. reabsorption of hydrogen ions. E. filtrate formation.107. Aldosterone targets cells in the A. proximal convoluted tubule. B. loop of Henle. C. distal convoluted tubule. D. glomerulus. E. collecting duct.108. Aldosterone exerts its effect on the kidney tubules by A. increasing tubular renin production. B. increasing tubular permeability. C. increasing osmosis into the tubule cells. D. increasing the synthesis of the transport proteins for sodium. E. decreasing tubular permeability.109. Lasix is a diuretic that blocks the reabsorption of sodium in the ascending loop of Henle. The result of giving this drug would be A. increased urine output. B. decreased aldosterone production. C. decreased osmolality of the filtrate. D. increased osmolality of the urine. E. decreased urine volume.110. Consumption of alcohol increases urine production by A. decreasing the blood pressure. B. causing retention of sodium ions. C. inhibiting the release of ADH from the posterior pituitary. D. stimulating the release of aldosterone from the adrenals. E. stimulating the release of ADH from the posterior pituitary.111. ADH increases the permeability of the distal convoluted tubules and collecting ducts by A. incorporating aquaporin-3 channels into the apical membrane. B. increasing the number of sodium transpot proteins in the membranes. C. incorporating aquaporin-2 channels into the apical membrane. D. decreasing the number of aquaporin-4 channels in the apical membrane.112. Atrial natriuretic hormone A. promotes the secretion of ADH. B. is secreted by the posterior pituitary. C. causes the formation of concentrated urine. D. is secreted when atrial blood pressure increases. E. is secreted when atrial blood pressure decreases.113. Autoregulation in the kidney involves changes in the degree of A. constriction of afferent arterioles. B. sympathetic stimulation. C. aldosterone secretion. D. ADH secretion. E. None of these choices is correct.114. Intense sympathetic stimulation of the kidney A. is necessary for normal kidney metabolism. B. causes the release of epinephrine from the kidney. C. decreases renal flow. D. increases filtration rate. E. does not alter filtration rate.115. If extracellular fluid osmolality is 385 m Osm/kg, the kidneys will increase reabsorption of A. urea. B. water. C. sodium. D. potassium. E. chloride.116. Blood loss that occurs during surgery will stimulate cells in the A. efferent arteriole. B. wall of the right atrium. C. proprioceptors. D. juxtaglomerular apparatus. E. None of these choices is correct.117. Put the following in the correct order after the blood pressure increases. (1) decreased sympathetic stimulation (2) increase in glomerulus filtration rate (3) increase in arterial blood pressure (4) increase in urine production (5) afferent arterioles dilate A. 1, 3, 5, 2, 4 B. 3, 2, 1, 5, 4 C. 2, 3, 5, 1, 4 D. 3, 1, 5, 2, 4 E. 3, 2, 5, 4, 1118. When macula densa cells experience increased Na+ concentration in the filtrate, they respond by A. increasing afferent arteriole constriction. B. decreasing urine production. C. decreasing renin secretion. D. increasing aldosterone secretion. E. increasing renin secretion119. Decreased blood pressure in the afferent arterioles results in A. increased renin secretion. B. decreased ADH secretion. C. suppression of thirst. D. stimulation of the parasympathetic nervous system. E. decreased renin secretion.120. Stretch receptors in the atria are responsible for the secretion of A. ADH. B. renin. C. aldosterone. D. atrial natriuretic hormone. E. angiotensin.121. Increased secretion of atrial natriuretic hormone results in A. increased thirst. B. increased urine output. C. increased blood pressure. D. increased osmolality of the extracellular fluid. E. decreased urine output.122. A substance that is useful for determining the plasma clearance rate of the kidney is A. ADH. B. glucose. C. inulin. D. protein. E. ammonia.123. To calculate plasma clearance of any substance, it is necessary to know the A. quantity of urine produced per minute. B. concentration of the cleared substance in the urine. C. concentration of the cleared substance in the blood. D. blood volume. E. quantity of urine produced per minute, the concentration of the cleared substance in the urine, and the concentration of the cleared substance in the blood.124. A substance used to calculate plasma clearance must A. pass freely through the filtration membrane of the renal corpuscle. B. be readily reabsorbed. C. be either a protein or a polysaccharide. D. be secreted into the nephron. E. be produced in the kidney.125. Decreased plasma clearance can indicate A. hypertension. B. renal failure. C. decreased ADH secretion. D. decreased aldosterone secretion. E. fluid balance.126. Drug companies use which of the following to help them calculate the duration of action of a medication? A. plasma clearance B. plasma osmolarity C. tubular maximum D. renal plasma flow E. glomerular filtration rate127. Renal blood flow per minute can be calculated if you know the clearance calculation for ____ as well as the person's hematocrit. A. ADH B. PAH C. insulin D. aldosterone E. glucose128. Tubular load refers to the amount of a given substance that A. is present in the blood as it enters the afferent arteriole of the nephron. B. passes through the filtration membrane into the nephron each minute. C. can be actively reabsorbed from the filtrate. D. can be secreted into the filtrate. E. None of these choices is correct.129. When the tubular maximum for a substance is exceeded, A. more of the substance is reabsorbed. B. more of the substance is actively secreted. C. less of the substance is filtered in the renal corpuscle. D. the excess goes into the blood. E. the excess remains in the urine.130. If the tubular maximum for a particular amino acid is 200 mg/100 ml and the concentration of that amino acid in the blood is 100 mg/100 ml, the amino acid A. will be actively secreted into the filtrate. B. will be completely reabsorbed by the tubule cells. C. will appear in the urine. D. will not appear in the urine. E. None of these choices is correct.131. Diuretics that inhibit sodium ion reabsorption are called A. xanthines. B. osmotic diuretics. C. thiazide diuretics. D. carbonic anhydrase inhibitors. E. ADH inhibitors.132. Urea and mannitol are examples of which of the following types of diuretics? A. osmotic diuretics B. thiazide diuretics C. potassium-sparing diuretics D. carbonic anhydrase inhibitors E. ADH inhibitors133. Diuretics that work by reducing H+ secretion and the reabsorption of HCO3- ions are classified as A. xanthines. B. osmotic diuretics. C. thiazide diuretics. D. carbonic anhydrase inhibitors. E. potassium-sparing diuretics.134. Urine flows through the ureters to the bladder as the result of A. gravity. B. a pressure gradient. C. a concentration gradient. D. peristaltic contractions. E. osmotic gradient.135. Where do the ureters enter the urinary bladder? A. the anterosuperior surface B. the anteroinferior surface C. the posteromedial surface D. the posterolateral surface136. What part of the urinary bladder expands very little during bladder filling? A. the fundus B. the trigone C. the neck D. transitional epithelium137. What muscle is responsible for contraction of the urinary bladder during micturition? A. trigone B. internal urinary sphincter C. micturition mucle D. detrusor muscle138. What type of tissue is responsible for the expansion of the urinary bladder during filling? A. transitional epithelium B. stratified squamous epithelium C. pseudostratified columnar epithelium D. stratified columnar epithelium139. Why is the external urinary sphincter under conscious control? A. It is made of smooth muscle. B. It is part of the detrusor muscle. C. It is made of skeletal muscle. D. It is made of adventitia.140. How much urine would be in the urinary bladder to increase the pressure to an uncomfortable point? A. 100 m L B. 300 m L C. 400 m L D. 500 m L141. Voluntary micturition A. involves higher brain centers. B. involves control of the internal sphincter. C. is a reflex action. D. is common in infants. E. involves control of smooth muscle.142. Which of the following statements concerning the micturition reflex is false? A. The micturition reflex is initiated by stretching the bladder wall. B. Afferent signals are conducted to the sacral segments of the spinal cord by the pelvic nerves. C. Efferent signals are sent to the bladder by sympathetic fibers in the pelvic nerve. D. The micturition reflex usually produces a series of contractions of the urinary bladder. E. The micturition reflex is modified by centers in the pons and cerebrum.143. With aging, a loss of inhibitory action potentials to the sacral region of the spinal cord results in A. increased bladder capacity. B. voluntary micturition. C. continuous dribbling of urine. D. uncontrollable micturition. E. lack of control of internal sphincter.144. In glomerular nephritis, proteins and white blood cells enter the filtrate resulting in A. increased reabsorption of water. B. increased reabsorption of sodium. C. increased secretion of sodium. D. increased urine output. E. decreased urine output.145. Which of the following conditions is characterized by inflammation of the renal medulla? A. pyelonephritis B. acute glomerular nephritis C. chronic glomerular nephritis D. acute renal failure E. chronic renal failure146. Which of the following is NOT an effect of aging on the kidneys? A. decrease in kidney size B. loss of nephrons C. decreased response to hormonal control of urine volume D. a marked decrease in the ability to maintain homeostasis Related Study Materialschapter 24chp. 18chapter 20a&p finalchapter 23lecture test 4 (a&p2)lab exam 3chapter 19chapter 21urinary: labbio review questionsbio 321 final Recent Class Questionsafter her prenatal appointment monica went eat lunch hospital cafeteria which...rotating black holes are predicted to have singularities in the shape of a ____.during the early stage (ejection phase) of ventricular systole ventricular myocardial... \"\n        ],\n        \"semantic_type\": \"\",\n        \"description\": \"\"\n      }\n    }\n  ]\n}"
            }
          },
          "metadata": {},
          "execution_count": 7
        },
        {
          "output_type": "stream",
          "name": "stdout",
          "text": [
            "time: 32.2 s (started: 2025-03-20 08:11:31 +00:00)\n"
          ]
        }
      ],
      "source": [
        "docs = pd.read_csv('our.msmarco.docs.tsv',sep='\\t',usecols=[1,2,3])\n",
        "docs"
      ]
    },
    {
      "cell_type": "code",
      "execution_count": null,
      "id": "772a1caf-1c38-4fd8-b819-bbe5f5d287a2",
      "metadata": {
        "id": "772a1caf-1c38-4fd8-b819-bbe5f5d287a2",
        "outputId": "6c36845d-b304-4f06-b4dd-badaae3e1f57",
        "colab": {
          "base_uri": "https://localhost:8080/",
          "height": 448
        }
      },
      "outputs": [
        {
          "output_type": "stream",
          "name": "stdout",
          "text": [
            "Shape=> (500, 2)\n"
          ]
        },
        {
          "output_type": "display_data",
          "data": {
            "text/plain": [
              "      qid                                              query\n",
              "0  687888                                      what is a jpe\n",
              "1  480210                         price for asphalt driveway\n",
              "2  591004                 what causes pressure skin bruising\n",
              "3  260536      how long drive from flagstaff to grand canyon\n",
              "4   39422  average number of bowel movements per day for ..."
            ],
            "text/html": [
              "\n",
              "  <div id=\"df-d0d11002-a246-468d-9e47-f9252967ef5e\" class=\"colab-df-container\">\n",
              "    <div>\n",
              "<style scoped>\n",
              "    .dataframe tbody tr th:only-of-type {\n",
              "        vertical-align: middle;\n",
              "    }\n",
              "\n",
              "    .dataframe tbody tr th {\n",
              "        vertical-align: top;\n",
              "    }\n",
              "\n",
              "    .dataframe thead th {\n",
              "        text-align: right;\n",
              "    }\n",
              "</style>\n",
              "<table border=\"1\" class=\"dataframe\">\n",
              "  <thead>\n",
              "    <tr style=\"text-align: right;\">\n",
              "      <th></th>\n",
              "      <th>qid</th>\n",
              "      <th>query</th>\n",
              "    </tr>\n",
              "  </thead>\n",
              "  <tbody>\n",
              "    <tr>\n",
              "      <th>0</th>\n",
              "      <td>687888</td>\n",
              "      <td>what is a jpe</td>\n",
              "    </tr>\n",
              "    <tr>\n",
              "      <th>1</th>\n",
              "      <td>480210</td>\n",
              "      <td>price for asphalt driveway</td>\n",
              "    </tr>\n",
              "    <tr>\n",
              "      <th>2</th>\n",
              "      <td>591004</td>\n",
              "      <td>what causes pressure skin bruising</td>\n",
              "    </tr>\n",
              "    <tr>\n",
              "      <th>3</th>\n",
              "      <td>260536</td>\n",
              "      <td>how long drive from flagstaff to grand canyon</td>\n",
              "    </tr>\n",
              "    <tr>\n",
              "      <th>4</th>\n",
              "      <td>39422</td>\n",
              "      <td>average number of bowel movements per day for ...</td>\n",
              "    </tr>\n",
              "  </tbody>\n",
              "</table>\n",
              "</div>\n",
              "    <div class=\"colab-df-buttons\">\n",
              "\n",
              "  <div class=\"colab-df-container\">\n",
              "    <button class=\"colab-df-convert\" onclick=\"convertToInteractive('df-d0d11002-a246-468d-9e47-f9252967ef5e')\"\n",
              "            title=\"Convert this dataframe to an interactive table.\"\n",
              "            style=\"display:none;\">\n",
              "\n",
              "  <svg xmlns=\"http://www.w3.org/2000/svg\" height=\"24px\" viewBox=\"0 -960 960 960\">\n",
              "    <path d=\"M120-120v-720h720v720H120Zm60-500h600v-160H180v160Zm220 220h160v-160H400v160Zm0 220h160v-160H400v160ZM180-400h160v-160H180v160Zm440 0h160v-160H620v160ZM180-180h160v-160H180v160Zm440 0h160v-160H620v160Z\"/>\n",
              "  </svg>\n",
              "    </button>\n",
              "\n",
              "  <style>\n",
              "    .colab-df-container {\n",
              "      display:flex;\n",
              "      gap: 12px;\n",
              "    }\n",
              "\n",
              "    .colab-df-convert {\n",
              "      background-color: #E8F0FE;\n",
              "      border: none;\n",
              "      border-radius: 50%;\n",
              "      cursor: pointer;\n",
              "      display: none;\n",
              "      fill: #1967D2;\n",
              "      height: 32px;\n",
              "      padding: 0 0 0 0;\n",
              "      width: 32px;\n",
              "    }\n",
              "\n",
              "    .colab-df-convert:hover {\n",
              "      background-color: #E2EBFA;\n",
              "      box-shadow: 0px 1px 2px rgba(60, 64, 67, 0.3), 0px 1px 3px 1px rgba(60, 64, 67, 0.15);\n",
              "      fill: #174EA6;\n",
              "    }\n",
              "\n",
              "    .colab-df-buttons div {\n",
              "      margin-bottom: 4px;\n",
              "    }\n",
              "\n",
              "    [theme=dark] .colab-df-convert {\n",
              "      background-color: #3B4455;\n",
              "      fill: #D2E3FC;\n",
              "    }\n",
              "\n",
              "    [theme=dark] .colab-df-convert:hover {\n",
              "      background-color: #434B5C;\n",
              "      box-shadow: 0px 1px 3px 1px rgba(0, 0, 0, 0.15);\n",
              "      filter: drop-shadow(0px 1px 2px rgba(0, 0, 0, 0.3));\n",
              "      fill: #FFFFFF;\n",
              "    }\n",
              "  </style>\n",
              "\n",
              "    <script>\n",
              "      const buttonEl =\n",
              "        document.querySelector('#df-d0d11002-a246-468d-9e47-f9252967ef5e button.colab-df-convert');\n",
              "      buttonEl.style.display =\n",
              "        google.colab.kernel.accessAllowed ? 'block' : 'none';\n",
              "\n",
              "      async function convertToInteractive(key) {\n",
              "        const element = document.querySelector('#df-d0d11002-a246-468d-9e47-f9252967ef5e');\n",
              "        const dataTable =\n",
              "          await google.colab.kernel.invokeFunction('convertToInteractive',\n",
              "                                                    [key], {});\n",
              "        if (!dataTable) return;\n",
              "\n",
              "        const docLinkHtml = 'Like what you see? Visit the ' +\n",
              "          '<a target=\"_blank\" href=https://colab.research.google.com/notebooks/data_table.ipynb>data table notebook</a>'\n",
              "          + ' to learn more about interactive tables.';\n",
              "        element.innerHTML = '';\n",
              "        dataTable['output_type'] = 'display_data';\n",
              "        await google.colab.output.renderOutput(dataTable, element);\n",
              "        const docLink = document.createElement('div');\n",
              "        docLink.innerHTML = docLinkHtml;\n",
              "        element.appendChild(docLink);\n",
              "      }\n",
              "    </script>\n",
              "  </div>\n",
              "\n",
              "\n",
              "<div id=\"df-93710847-9634-4d8f-a2ec-8fb89dfcd919\">\n",
              "  <button class=\"colab-df-quickchart\" onclick=\"quickchart('df-93710847-9634-4d8f-a2ec-8fb89dfcd919')\"\n",
              "            title=\"Suggest charts\"\n",
              "            style=\"display:none;\">\n",
              "\n",
              "<svg xmlns=\"http://www.w3.org/2000/svg\" height=\"24px\"viewBox=\"0 0 24 24\"\n",
              "     width=\"24px\">\n",
              "    <g>\n",
              "        <path d=\"M19 3H5c-1.1 0-2 .9-2 2v14c0 1.1.9 2 2 2h14c1.1 0 2-.9 2-2V5c0-1.1-.9-2-2-2zM9 17H7v-7h2v7zm4 0h-2V7h2v10zm4 0h-2v-4h2v4z\"/>\n",
              "    </g>\n",
              "</svg>\n",
              "  </button>\n",
              "\n",
              "<style>\n",
              "  .colab-df-quickchart {\n",
              "      --bg-color: #E8F0FE;\n",
              "      --fill-color: #1967D2;\n",
              "      --hover-bg-color: #E2EBFA;\n",
              "      --hover-fill-color: #174EA6;\n",
              "      --disabled-fill-color: #AAA;\n",
              "      --disabled-bg-color: #DDD;\n",
              "  }\n",
              "\n",
              "  [theme=dark] .colab-df-quickchart {\n",
              "      --bg-color: #3B4455;\n",
              "      --fill-color: #D2E3FC;\n",
              "      --hover-bg-color: #434B5C;\n",
              "      --hover-fill-color: #FFFFFF;\n",
              "      --disabled-bg-color: #3B4455;\n",
              "      --disabled-fill-color: #666;\n",
              "  }\n",
              "\n",
              "  .colab-df-quickchart {\n",
              "    background-color: var(--bg-color);\n",
              "    border: none;\n",
              "    border-radius: 50%;\n",
              "    cursor: pointer;\n",
              "    display: none;\n",
              "    fill: var(--fill-color);\n",
              "    height: 32px;\n",
              "    padding: 0;\n",
              "    width: 32px;\n",
              "  }\n",
              "\n",
              "  .colab-df-quickchart:hover {\n",
              "    background-color: var(--hover-bg-color);\n",
              "    box-shadow: 0 1px 2px rgba(60, 64, 67, 0.3), 0 1px 3px 1px rgba(60, 64, 67, 0.15);\n",
              "    fill: var(--button-hover-fill-color);\n",
              "  }\n",
              "\n",
              "  .colab-df-quickchart-complete:disabled,\n",
              "  .colab-df-quickchart-complete:disabled:hover {\n",
              "    background-color: var(--disabled-bg-color);\n",
              "    fill: var(--disabled-fill-color);\n",
              "    box-shadow: none;\n",
              "  }\n",
              "\n",
              "  .colab-df-spinner {\n",
              "    border: 2px solid var(--fill-color);\n",
              "    border-color: transparent;\n",
              "    border-bottom-color: var(--fill-color);\n",
              "    animation:\n",
              "      spin 1s steps(1) infinite;\n",
              "  }\n",
              "\n",
              "  @keyframes spin {\n",
              "    0% {\n",
              "      border-color: transparent;\n",
              "      border-bottom-color: var(--fill-color);\n",
              "      border-left-color: var(--fill-color);\n",
              "    }\n",
              "    20% {\n",
              "      border-color: transparent;\n",
              "      border-left-color: var(--fill-color);\n",
              "      border-top-color: var(--fill-color);\n",
              "    }\n",
              "    30% {\n",
              "      border-color: transparent;\n",
              "      border-left-color: var(--fill-color);\n",
              "      border-top-color: var(--fill-color);\n",
              "      border-right-color: var(--fill-color);\n",
              "    }\n",
              "    40% {\n",
              "      border-color: transparent;\n",
              "      border-right-color: var(--fill-color);\n",
              "      border-top-color: var(--fill-color);\n",
              "    }\n",
              "    60% {\n",
              "      border-color: transparent;\n",
              "      border-right-color: var(--fill-color);\n",
              "    }\n",
              "    80% {\n",
              "      border-color: transparent;\n",
              "      border-right-color: var(--fill-color);\n",
              "      border-bottom-color: var(--fill-color);\n",
              "    }\n",
              "    90% {\n",
              "      border-color: transparent;\n",
              "      border-bottom-color: var(--fill-color);\n",
              "    }\n",
              "  }\n",
              "</style>\n",
              "\n",
              "  <script>\n",
              "    async function quickchart(key) {\n",
              "      const quickchartButtonEl =\n",
              "        document.querySelector('#' + key + ' button');\n",
              "      quickchartButtonEl.disabled = true;  // To prevent multiple clicks.\n",
              "      quickchartButtonEl.classList.add('colab-df-spinner');\n",
              "      try {\n",
              "        const charts = await google.colab.kernel.invokeFunction(\n",
              "            'suggestCharts', [key], {});\n",
              "      } catch (error) {\n",
              "        console.error('Error during call to suggestCharts:', error);\n",
              "      }\n",
              "      quickchartButtonEl.classList.remove('colab-df-spinner');\n",
              "      quickchartButtonEl.classList.add('colab-df-quickchart-complete');\n",
              "    }\n",
              "    (() => {\n",
              "      let quickchartButtonEl =\n",
              "        document.querySelector('#df-93710847-9634-4d8f-a2ec-8fb89dfcd919 button');\n",
              "      quickchartButtonEl.style.display =\n",
              "        google.colab.kernel.accessAllowed ? 'block' : 'none';\n",
              "    })();\n",
              "  </script>\n",
              "</div>\n",
              "\n",
              "    </div>\n",
              "  </div>\n"
            ],
            "application/vnd.google.colaboratory.intrinsic+json": {
              "type": "dataframe",
              "summary": "{\n  \"name\": \"testing_queries\",\n  \"rows\": 5,\n  \"fields\": [\n    {\n      \"column\": \"qid\",\n      \"properties\": {\n        \"dtype\": \"number\",\n        \"std\": 261994,\n        \"min\": 39422,\n        \"max\": 687888,\n        \"num_unique_values\": 5,\n        \"samples\": [\n          480210,\n          39422,\n          591004\n        ],\n        \"semantic_type\": \"\",\n        \"description\": \"\"\n      }\n    },\n    {\n      \"column\": \"query\",\n      \"properties\": {\n        \"dtype\": \"string\",\n        \"num_unique_values\": 5,\n        \"samples\": [\n          \"price for asphalt driveway\",\n          \"average number of bowel movements per day for adults\",\n          \"what causes pressure skin bruising\"\n        ],\n        \"semantic_type\": \"\",\n        \"description\": \"\"\n      }\n    }\n  ]\n}"
            }
          },
          "metadata": {}
        },
        {
          "output_type": "stream",
          "name": "stdout",
          "text": [
            "Shape=> (500, 2)\n"
          ]
        },
        {
          "output_type": "execute_result",
          "data": {
            "text/plain": [
              "         qid                                        query\n",
              "500   116364                       decree verb definition\n",
              "501   638813                 what does hemiballistic mean\n",
              "502   401631                 is advil considered aspirin?\n",
              "503  1050265  who sang the song midnight train to georgia\n",
              "504   632336               what does aq mean in chemistry"
            ],
            "text/html": [
              "\n",
              "  <div id=\"df-fe38ea60-17b3-49c7-a25f-62b3be6de67b\" class=\"colab-df-container\">\n",
              "    <div>\n",
              "<style scoped>\n",
              "    .dataframe tbody tr th:only-of-type {\n",
              "        vertical-align: middle;\n",
              "    }\n",
              "\n",
              "    .dataframe tbody tr th {\n",
              "        vertical-align: top;\n",
              "    }\n",
              "\n",
              "    .dataframe thead th {\n",
              "        text-align: right;\n",
              "    }\n",
              "</style>\n",
              "<table border=\"1\" class=\"dataframe\">\n",
              "  <thead>\n",
              "    <tr style=\"text-align: right;\">\n",
              "      <th></th>\n",
              "      <th>qid</th>\n",
              "      <th>query</th>\n",
              "    </tr>\n",
              "  </thead>\n",
              "  <tbody>\n",
              "    <tr>\n",
              "      <th>500</th>\n",
              "      <td>116364</td>\n",
              "      <td>decree verb definition</td>\n",
              "    </tr>\n",
              "    <tr>\n",
              "      <th>501</th>\n",
              "      <td>638813</td>\n",
              "      <td>what does hemiballistic mean</td>\n",
              "    </tr>\n",
              "    <tr>\n",
              "      <th>502</th>\n",
              "      <td>401631</td>\n",
              "      <td>is advil considered aspirin?</td>\n",
              "    </tr>\n",
              "    <tr>\n",
              "      <th>503</th>\n",
              "      <td>1050265</td>\n",
              "      <td>who sang the song midnight train to georgia</td>\n",
              "    </tr>\n",
              "    <tr>\n",
              "      <th>504</th>\n",
              "      <td>632336</td>\n",
              "      <td>what does aq mean in chemistry</td>\n",
              "    </tr>\n",
              "  </tbody>\n",
              "</table>\n",
              "</div>\n",
              "    <div class=\"colab-df-buttons\">\n",
              "\n",
              "  <div class=\"colab-df-container\">\n",
              "    <button class=\"colab-df-convert\" onclick=\"convertToInteractive('df-fe38ea60-17b3-49c7-a25f-62b3be6de67b')\"\n",
              "            title=\"Convert this dataframe to an interactive table.\"\n",
              "            style=\"display:none;\">\n",
              "\n",
              "  <svg xmlns=\"http://www.w3.org/2000/svg\" height=\"24px\" viewBox=\"0 -960 960 960\">\n",
              "    <path d=\"M120-120v-720h720v720H120Zm60-500h600v-160H180v160Zm220 220h160v-160H400v160Zm0 220h160v-160H400v160ZM180-400h160v-160H180v160Zm440 0h160v-160H620v160ZM180-180h160v-160H180v160Zm440 0h160v-160H620v160Z\"/>\n",
              "  </svg>\n",
              "    </button>\n",
              "\n",
              "  <style>\n",
              "    .colab-df-container {\n",
              "      display:flex;\n",
              "      gap: 12px;\n",
              "    }\n",
              "\n",
              "    .colab-df-convert {\n",
              "      background-color: #E8F0FE;\n",
              "      border: none;\n",
              "      border-radius: 50%;\n",
              "      cursor: pointer;\n",
              "      display: none;\n",
              "      fill: #1967D2;\n",
              "      height: 32px;\n",
              "      padding: 0 0 0 0;\n",
              "      width: 32px;\n",
              "    }\n",
              "\n",
              "    .colab-df-convert:hover {\n",
              "      background-color: #E2EBFA;\n",
              "      box-shadow: 0px 1px 2px rgba(60, 64, 67, 0.3), 0px 1px 3px 1px rgba(60, 64, 67, 0.15);\n",
              "      fill: #174EA6;\n",
              "    }\n",
              "\n",
              "    .colab-df-buttons div {\n",
              "      margin-bottom: 4px;\n",
              "    }\n",
              "\n",
              "    [theme=dark] .colab-df-convert {\n",
              "      background-color: #3B4455;\n",
              "      fill: #D2E3FC;\n",
              "    }\n",
              "\n",
              "    [theme=dark] .colab-df-convert:hover {\n",
              "      background-color: #434B5C;\n",
              "      box-shadow: 0px 1px 3px 1px rgba(0, 0, 0, 0.15);\n",
              "      filter: drop-shadow(0px 1px 2px rgba(0, 0, 0, 0.3));\n",
              "      fill: #FFFFFF;\n",
              "    }\n",
              "  </style>\n",
              "\n",
              "    <script>\n",
              "      const buttonEl =\n",
              "        document.querySelector('#df-fe38ea60-17b3-49c7-a25f-62b3be6de67b button.colab-df-convert');\n",
              "      buttonEl.style.display =\n",
              "        google.colab.kernel.accessAllowed ? 'block' : 'none';\n",
              "\n",
              "      async function convertToInteractive(key) {\n",
              "        const element = document.querySelector('#df-fe38ea60-17b3-49c7-a25f-62b3be6de67b');\n",
              "        const dataTable =\n",
              "          await google.colab.kernel.invokeFunction('convertToInteractive',\n",
              "                                                    [key], {});\n",
              "        if (!dataTable) return;\n",
              "\n",
              "        const docLinkHtml = 'Like what you see? Visit the ' +\n",
              "          '<a target=\"_blank\" href=https://colab.research.google.com/notebooks/data_table.ipynb>data table notebook</a>'\n",
              "          + ' to learn more about interactive tables.';\n",
              "        element.innerHTML = '';\n",
              "        dataTable['output_type'] = 'display_data';\n",
              "        await google.colab.output.renderOutput(dataTable, element);\n",
              "        const docLink = document.createElement('div');\n",
              "        docLink.innerHTML = docLinkHtml;\n",
              "        element.appendChild(docLink);\n",
              "      }\n",
              "    </script>\n",
              "  </div>\n",
              "\n",
              "\n",
              "<div id=\"df-359d1963-da58-426f-bfe4-a516aa513daf\">\n",
              "  <button class=\"colab-df-quickchart\" onclick=\"quickchart('df-359d1963-da58-426f-bfe4-a516aa513daf')\"\n",
              "            title=\"Suggest charts\"\n",
              "            style=\"display:none;\">\n",
              "\n",
              "<svg xmlns=\"http://www.w3.org/2000/svg\" height=\"24px\"viewBox=\"0 0 24 24\"\n",
              "     width=\"24px\">\n",
              "    <g>\n",
              "        <path d=\"M19 3H5c-1.1 0-2 .9-2 2v14c0 1.1.9 2 2 2h14c1.1 0 2-.9 2-2V5c0-1.1-.9-2-2-2zM9 17H7v-7h2v7zm4 0h-2V7h2v10zm4 0h-2v-4h2v4z\"/>\n",
              "    </g>\n",
              "</svg>\n",
              "  </button>\n",
              "\n",
              "<style>\n",
              "  .colab-df-quickchart {\n",
              "      --bg-color: #E8F0FE;\n",
              "      --fill-color: #1967D2;\n",
              "      --hover-bg-color: #E2EBFA;\n",
              "      --hover-fill-color: #174EA6;\n",
              "      --disabled-fill-color: #AAA;\n",
              "      --disabled-bg-color: #DDD;\n",
              "  }\n",
              "\n",
              "  [theme=dark] .colab-df-quickchart {\n",
              "      --bg-color: #3B4455;\n",
              "      --fill-color: #D2E3FC;\n",
              "      --hover-bg-color: #434B5C;\n",
              "      --hover-fill-color: #FFFFFF;\n",
              "      --disabled-bg-color: #3B4455;\n",
              "      --disabled-fill-color: #666;\n",
              "  }\n",
              "\n",
              "  .colab-df-quickchart {\n",
              "    background-color: var(--bg-color);\n",
              "    border: none;\n",
              "    border-radius: 50%;\n",
              "    cursor: pointer;\n",
              "    display: none;\n",
              "    fill: var(--fill-color);\n",
              "    height: 32px;\n",
              "    padding: 0;\n",
              "    width: 32px;\n",
              "  }\n",
              "\n",
              "  .colab-df-quickchart:hover {\n",
              "    background-color: var(--hover-bg-color);\n",
              "    box-shadow: 0 1px 2px rgba(60, 64, 67, 0.3), 0 1px 3px 1px rgba(60, 64, 67, 0.15);\n",
              "    fill: var(--button-hover-fill-color);\n",
              "  }\n",
              "\n",
              "  .colab-df-quickchart-complete:disabled,\n",
              "  .colab-df-quickchart-complete:disabled:hover {\n",
              "    background-color: var(--disabled-bg-color);\n",
              "    fill: var(--disabled-fill-color);\n",
              "    box-shadow: none;\n",
              "  }\n",
              "\n",
              "  .colab-df-spinner {\n",
              "    border: 2px solid var(--fill-color);\n",
              "    border-color: transparent;\n",
              "    border-bottom-color: var(--fill-color);\n",
              "    animation:\n",
              "      spin 1s steps(1) infinite;\n",
              "  }\n",
              "\n",
              "  @keyframes spin {\n",
              "    0% {\n",
              "      border-color: transparent;\n",
              "      border-bottom-color: var(--fill-color);\n",
              "      border-left-color: var(--fill-color);\n",
              "    }\n",
              "    20% {\n",
              "      border-color: transparent;\n",
              "      border-left-color: var(--fill-color);\n",
              "      border-top-color: var(--fill-color);\n",
              "    }\n",
              "    30% {\n",
              "      border-color: transparent;\n",
              "      border-left-color: var(--fill-color);\n",
              "      border-top-color: var(--fill-color);\n",
              "      border-right-color: var(--fill-color);\n",
              "    }\n",
              "    40% {\n",
              "      border-color: transparent;\n",
              "      border-right-color: var(--fill-color);\n",
              "      border-top-color: var(--fill-color);\n",
              "    }\n",
              "    60% {\n",
              "      border-color: transparent;\n",
              "      border-right-color: var(--fill-color);\n",
              "    }\n",
              "    80% {\n",
              "      border-color: transparent;\n",
              "      border-right-color: var(--fill-color);\n",
              "      border-bottom-color: var(--fill-color);\n",
              "    }\n",
              "    90% {\n",
              "      border-color: transparent;\n",
              "      border-bottom-color: var(--fill-color);\n",
              "    }\n",
              "  }\n",
              "</style>\n",
              "\n",
              "  <script>\n",
              "    async function quickchart(key) {\n",
              "      const quickchartButtonEl =\n",
              "        document.querySelector('#' + key + ' button');\n",
              "      quickchartButtonEl.disabled = true;  // To prevent multiple clicks.\n",
              "      quickchartButtonEl.classList.add('colab-df-spinner');\n",
              "      try {\n",
              "        const charts = await google.colab.kernel.invokeFunction(\n",
              "            'suggestCharts', [key], {});\n",
              "      } catch (error) {\n",
              "        console.error('Error during call to suggestCharts:', error);\n",
              "      }\n",
              "      quickchartButtonEl.classList.remove('colab-df-spinner');\n",
              "      quickchartButtonEl.classList.add('colab-df-quickchart-complete');\n",
              "    }\n",
              "    (() => {\n",
              "      let quickchartButtonEl =\n",
              "        document.querySelector('#df-359d1963-da58-426f-bfe4-a516aa513daf button');\n",
              "      quickchartButtonEl.style.display =\n",
              "        google.colab.kernel.accessAllowed ? 'block' : 'none';\n",
              "    })();\n",
              "  </script>\n",
              "</div>\n",
              "\n",
              "    </div>\n",
              "  </div>\n"
            ],
            "application/vnd.google.colaboratory.intrinsic+json": {
              "type": "dataframe",
              "variable_name": "testing_queries",
              "summary": "{\n  \"name\": \"testing_queries\",\n  \"rows\": 500,\n  \"fields\": [\n    {\n      \"column\": \"qid\",\n      \"properties\": {\n        \"dtype\": \"number\",\n        \"std\": 328401,\n        \"min\": 2462,\n        \"max\": 1185864,\n        \"num_unique_values\": 500,\n        \"samples\": [\n          483397,\n          974252,\n          56543\n        ],\n        \"semantic_type\": \"\",\n        \"description\": \"\"\n      }\n    },\n    {\n      \"column\": \"query\",\n      \"properties\": {\n        \"dtype\": \"string\",\n        \"num_unique_values\": 500,\n        \"samples\": [\n          \"provoker definition\",\n          \"where does the exchange of gases take place in the lungs?\",\n          \"brome definition\"\n        ],\n        \"semantic_type\": \"\",\n        \"description\": \"\"\n      }\n    }\n  ]\n}"
            }
          },
          "metadata": {},
          "execution_count": 8
        },
        {
          "output_type": "stream",
          "name": "stdout",
          "text": [
            "time: 31.4 ms (started: 2025-03-20 08:12:03 +00:00)\n"
          ]
        }
      ],
      "source": [
        "# Creating Training Set of Queries\n",
        "training_queries=queries.iloc[:500]\n",
        "print('Shape=>',training_queries.shape)\n",
        "display(training_queries.head())\n",
        "# Creating Testing Set of Queries\n",
        "testing_queries=queries.iloc[500:]\n",
        "print('Shape=>',testing_queries.shape)\n",
        "testing_queries.head()"
      ]
    },
    {
      "cell_type": "markdown",
      "id": "35de36db-e7e1-4eb4-9589-033a9cfd6d9c",
      "metadata": {
        "id": "35de36db-e7e1-4eb4-9589-033a9cfd6d9c"
      },
      "source": [
        "## exploring the data"
      ]
    },
    {
      "cell_type": "markdown",
      "id": "13879e33-fe7e-4a72-9beb-26c6a47e28fc",
      "metadata": {
        "id": "13879e33-fe7e-4a72-9beb-26c6a47e28fc"
      },
      "source": [
        "### 🚧 todo: check whether there are NaN and take care of them"
      ]
    },
    {
      "cell_type": "code",
      "execution_count": null,
      "id": "7db2e10b-572a-4bc8-bc49-1c85d5130ffa",
      "metadata": {
        "id": "7db2e10b-572a-4bc8-bc49-1c85d5130ffa",
        "outputId": "3d645e22-08a0-4e49-c309-b221f64bcc1b",
        "colab": {
          "base_uri": "https://localhost:8080/"
        }
      },
      "outputs": [
        {
          "output_type": "stream",
          "name": "stdout",
          "text": [
            "NaN values in queries:\n",
            "qid      0\n",
            "query    0\n",
            "dtype: int64\n",
            "\n",
            "NaN values in gold:\n",
            "qid      0\n",
            "docid    0\n",
            "rank     0\n",
            "score    0\n",
            "dtype: int64\n",
            "\n",
            "NaN values in docs:\n",
            "docid      0\n",
            "title    372\n",
            "body       3\n",
            "dtype: int64\n",
            "time: 53.3 ms (started: 2025-03-20 08:12:03 +00:00)\n"
          ]
        }
      ],
      "source": [
        "print(\"NaN values in queries:\")\n",
        "print(queries.isna().sum())\n",
        "\n",
        "print(\"\\nNaN values in gold:\")\n",
        "print(gold.isna().sum())\n",
        "\n",
        "print(\"\\nNaN values in docs:\")\n",
        "print(docs.isna().sum())"
      ]
    },
    {
      "cell_type": "code",
      "execution_count": null,
      "id": "a5ef8426-b88b-44fc-b4bf-a43931215ee4",
      "metadata": {
        "id": "a5ef8426-b88b-44fc-b4bf-a43931215ee4",
        "outputId": "cd2cba50-2fd5-4ead-fe5f-e9223b8fc581",
        "colab": {
          "base_uri": "https://localhost:8080/"
        }
      },
      "outputs": [
        {
          "output_type": "stream",
          "name": "stdout",
          "text": [
            "Remaining NaN values in docs:\n",
            "docid    0\n",
            "title    0\n",
            "body     0\n",
            "dtype: int64\n",
            "time: 119 ms (started: 2025-03-20 08:12:03 +00:00)\n"
          ]
        }
      ],
      "source": [
        "docs['title'] = docs['title'].fillna(\"\")\n",
        "docs['body'] = docs['body'].fillna(\"\")\n",
        "\n",
        "# verification\n",
        "print(\"Remaining NaN values in docs:\")\n",
        "print(docs.isna().sum())"
      ]
    },
    {
      "cell_type": "markdown",
      "id": "a3ad0b40-55ff-4259-a612-0a5709cca349",
      "metadata": {
        "id": "a3ad0b40-55ff-4259-a612-0a5709cca349"
      },
      "source": [
        "### let's have a look at some random query:"
      ]
    },
    {
      "cell_type": "code",
      "execution_count": null,
      "id": "ed9c9a83-c3dd-483c-a190-9bd4ba8119e5",
      "metadata": {
        "id": "ed9c9a83-c3dd-483c-a190-9bd4ba8119e5",
        "outputId": "8445bd89-ec09-4c54-83d2-ec9b3da3e45c",
        "colab": {
          "base_uri": "https://localhost:8080/",
          "height": 164
        }
      },
      "outputs": [
        {
          "output_type": "execute_result",
          "data": {
            "text/plain": [
              "qid                                      251898\n",
              "query    how long does getting a doctorate take\n",
              "Name: 111, dtype: object"
            ],
            "text/html": [
              "<div>\n",
              "<style scoped>\n",
              "    .dataframe tbody tr th:only-of-type {\n",
              "        vertical-align: middle;\n",
              "    }\n",
              "\n",
              "    .dataframe tbody tr th {\n",
              "        vertical-align: top;\n",
              "    }\n",
              "\n",
              "    .dataframe thead th {\n",
              "        text-align: right;\n",
              "    }\n",
              "</style>\n",
              "<table border=\"1\" class=\"dataframe\">\n",
              "  <thead>\n",
              "    <tr style=\"text-align: right;\">\n",
              "      <th></th>\n",
              "      <th>111</th>\n",
              "    </tr>\n",
              "  </thead>\n",
              "  <tbody>\n",
              "    <tr>\n",
              "      <th>qid</th>\n",
              "      <td>251898</td>\n",
              "    </tr>\n",
              "    <tr>\n",
              "      <th>query</th>\n",
              "      <td>how long does getting a doctorate take</td>\n",
              "    </tr>\n",
              "  </tbody>\n",
              "</table>\n",
              "</div><br><label><b>dtype:</b> object</label>"
            ]
          },
          "metadata": {},
          "execution_count": 11
        },
        {
          "output_type": "stream",
          "name": "stdout",
          "text": [
            "time: 4.74 ms (started: 2025-03-20 08:12:12 +00:00)\n"
          ]
        }
      ],
      "source": [
        "queries.loc[111]"
      ]
    },
    {
      "cell_type": "code",
      "execution_count": null,
      "id": "2fb82a23-84e5-4ba1-9f2e-38c6f8b4bae6",
      "metadata": {
        "id": "2fb82a23-84e5-4ba1-9f2e-38c6f8b4bae6",
        "outputId": "2071f613-0615-42f8-9bc5-b79afcf1aa71",
        "colab": {
          "base_uri": "https://localhost:8080/",
          "height": 441
        }
      },
      "outputs": [
        {
          "output_type": "execute_result",
          "data": {
            "text/plain": [
              "          qid     docid  rank    score\n",
              "36200  251898  D2865964     1 -4.74293\n",
              "36201  251898  D3557816     2 -4.90695\n",
              "36202  251898  D2723985     3 -4.95911\n",
              "36203  251898  D1951655     4 -4.97272\n",
              "36204  251898  D1709749     5 -5.02176\n",
              "...       ...       ...   ...      ...\n",
              "36295  251898  D2531901    96 -5.56896\n",
              "36296  251898  D2956542    97 -5.57138\n",
              "36297  251898   D301873    98 -5.57262\n",
              "36298  251898  D2952336    99 -5.57504\n",
              "36299  251898  D1805809   100 -5.57544\n",
              "\n",
              "[100 rows x 4 columns]"
            ],
            "text/html": [
              "\n",
              "  <div id=\"df-938e09a2-1347-411a-9071-28b574715ed3\" class=\"colab-df-container\">\n",
              "    <div>\n",
              "<style scoped>\n",
              "    .dataframe tbody tr th:only-of-type {\n",
              "        vertical-align: middle;\n",
              "    }\n",
              "\n",
              "    .dataframe tbody tr th {\n",
              "        vertical-align: top;\n",
              "    }\n",
              "\n",
              "    .dataframe thead th {\n",
              "        text-align: right;\n",
              "    }\n",
              "</style>\n",
              "<table border=\"1\" class=\"dataframe\">\n",
              "  <thead>\n",
              "    <tr style=\"text-align: right;\">\n",
              "      <th></th>\n",
              "      <th>qid</th>\n",
              "      <th>docid</th>\n",
              "      <th>rank</th>\n",
              "      <th>score</th>\n",
              "    </tr>\n",
              "  </thead>\n",
              "  <tbody>\n",
              "    <tr>\n",
              "      <th>36200</th>\n",
              "      <td>251898</td>\n",
              "      <td>D2865964</td>\n",
              "      <td>1</td>\n",
              "      <td>-4.74293</td>\n",
              "    </tr>\n",
              "    <tr>\n",
              "      <th>36201</th>\n",
              "      <td>251898</td>\n",
              "      <td>D3557816</td>\n",
              "      <td>2</td>\n",
              "      <td>-4.90695</td>\n",
              "    </tr>\n",
              "    <tr>\n",
              "      <th>36202</th>\n",
              "      <td>251898</td>\n",
              "      <td>D2723985</td>\n",
              "      <td>3</td>\n",
              "      <td>-4.95911</td>\n",
              "    </tr>\n",
              "    <tr>\n",
              "      <th>36203</th>\n",
              "      <td>251898</td>\n",
              "      <td>D1951655</td>\n",
              "      <td>4</td>\n",
              "      <td>-4.97272</td>\n",
              "    </tr>\n",
              "    <tr>\n",
              "      <th>36204</th>\n",
              "      <td>251898</td>\n",
              "      <td>D1709749</td>\n",
              "      <td>5</td>\n",
              "      <td>-5.02176</td>\n",
              "    </tr>\n",
              "    <tr>\n",
              "      <th>...</th>\n",
              "      <td>...</td>\n",
              "      <td>...</td>\n",
              "      <td>...</td>\n",
              "      <td>...</td>\n",
              "    </tr>\n",
              "    <tr>\n",
              "      <th>36295</th>\n",
              "      <td>251898</td>\n",
              "      <td>D2531901</td>\n",
              "      <td>96</td>\n",
              "      <td>-5.56896</td>\n",
              "    </tr>\n",
              "    <tr>\n",
              "      <th>36296</th>\n",
              "      <td>251898</td>\n",
              "      <td>D2956542</td>\n",
              "      <td>97</td>\n",
              "      <td>-5.57138</td>\n",
              "    </tr>\n",
              "    <tr>\n",
              "      <th>36297</th>\n",
              "      <td>251898</td>\n",
              "      <td>D301873</td>\n",
              "      <td>98</td>\n",
              "      <td>-5.57262</td>\n",
              "    </tr>\n",
              "    <tr>\n",
              "      <th>36298</th>\n",
              "      <td>251898</td>\n",
              "      <td>D2952336</td>\n",
              "      <td>99</td>\n",
              "      <td>-5.57504</td>\n",
              "    </tr>\n",
              "    <tr>\n",
              "      <th>36299</th>\n",
              "      <td>251898</td>\n",
              "      <td>D1805809</td>\n",
              "      <td>100</td>\n",
              "      <td>-5.57544</td>\n",
              "    </tr>\n",
              "  </tbody>\n",
              "</table>\n",
              "<p>100 rows × 4 columns</p>\n",
              "</div>\n",
              "    <div class=\"colab-df-buttons\">\n",
              "\n",
              "  <div class=\"colab-df-container\">\n",
              "    <button class=\"colab-df-convert\" onclick=\"convertToInteractive('df-938e09a2-1347-411a-9071-28b574715ed3')\"\n",
              "            title=\"Convert this dataframe to an interactive table.\"\n",
              "            style=\"display:none;\">\n",
              "\n",
              "  <svg xmlns=\"http://www.w3.org/2000/svg\" height=\"24px\" viewBox=\"0 -960 960 960\">\n",
              "    <path d=\"M120-120v-720h720v720H120Zm60-500h600v-160H180v160Zm220 220h160v-160H400v160Zm0 220h160v-160H400v160ZM180-400h160v-160H180v160Zm440 0h160v-160H620v160ZM180-180h160v-160H180v160Zm440 0h160v-160H620v160Z\"/>\n",
              "  </svg>\n",
              "    </button>\n",
              "\n",
              "  <style>\n",
              "    .colab-df-container {\n",
              "      display:flex;\n",
              "      gap: 12px;\n",
              "    }\n",
              "\n",
              "    .colab-df-convert {\n",
              "      background-color: #E8F0FE;\n",
              "      border: none;\n",
              "      border-radius: 50%;\n",
              "      cursor: pointer;\n",
              "      display: none;\n",
              "      fill: #1967D2;\n",
              "      height: 32px;\n",
              "      padding: 0 0 0 0;\n",
              "      width: 32px;\n",
              "    }\n",
              "\n",
              "    .colab-df-convert:hover {\n",
              "      background-color: #E2EBFA;\n",
              "      box-shadow: 0px 1px 2px rgba(60, 64, 67, 0.3), 0px 1px 3px 1px rgba(60, 64, 67, 0.15);\n",
              "      fill: #174EA6;\n",
              "    }\n",
              "\n",
              "    .colab-df-buttons div {\n",
              "      margin-bottom: 4px;\n",
              "    }\n",
              "\n",
              "    [theme=dark] .colab-df-convert {\n",
              "      background-color: #3B4455;\n",
              "      fill: #D2E3FC;\n",
              "    }\n",
              "\n",
              "    [theme=dark] .colab-df-convert:hover {\n",
              "      background-color: #434B5C;\n",
              "      box-shadow: 0px 1px 3px 1px rgba(0, 0, 0, 0.15);\n",
              "      filter: drop-shadow(0px 1px 2px rgba(0, 0, 0, 0.3));\n",
              "      fill: #FFFFFF;\n",
              "    }\n",
              "  </style>\n",
              "\n",
              "    <script>\n",
              "      const buttonEl =\n",
              "        document.querySelector('#df-938e09a2-1347-411a-9071-28b574715ed3 button.colab-df-convert');\n",
              "      buttonEl.style.display =\n",
              "        google.colab.kernel.accessAllowed ? 'block' : 'none';\n",
              "\n",
              "      async function convertToInteractive(key) {\n",
              "        const element = document.querySelector('#df-938e09a2-1347-411a-9071-28b574715ed3');\n",
              "        const dataTable =\n",
              "          await google.colab.kernel.invokeFunction('convertToInteractive',\n",
              "                                                    [key], {});\n",
              "        if (!dataTable) return;\n",
              "\n",
              "        const docLinkHtml = 'Like what you see? Visit the ' +\n",
              "          '<a target=\"_blank\" href=https://colab.research.google.com/notebooks/data_table.ipynb>data table notebook</a>'\n",
              "          + ' to learn more about interactive tables.';\n",
              "        element.innerHTML = '';\n",
              "        dataTable['output_type'] = 'display_data';\n",
              "        await google.colab.output.renderOutput(dataTable, element);\n",
              "        const docLink = document.createElement('div');\n",
              "        docLink.innerHTML = docLinkHtml;\n",
              "        element.appendChild(docLink);\n",
              "      }\n",
              "    </script>\n",
              "  </div>\n",
              "\n",
              "\n",
              "<div id=\"df-9d6d8b64-96b4-40ae-9ccf-bf349f263c71\">\n",
              "  <button class=\"colab-df-quickchart\" onclick=\"quickchart('df-9d6d8b64-96b4-40ae-9ccf-bf349f263c71')\"\n",
              "            title=\"Suggest charts\"\n",
              "            style=\"display:none;\">\n",
              "\n",
              "<svg xmlns=\"http://www.w3.org/2000/svg\" height=\"24px\"viewBox=\"0 0 24 24\"\n",
              "     width=\"24px\">\n",
              "    <g>\n",
              "        <path d=\"M19 3H5c-1.1 0-2 .9-2 2v14c0 1.1.9 2 2 2h14c1.1 0 2-.9 2-2V5c0-1.1-.9-2-2-2zM9 17H7v-7h2v7zm4 0h-2V7h2v10zm4 0h-2v-4h2v4z\"/>\n",
              "    </g>\n",
              "</svg>\n",
              "  </button>\n",
              "\n",
              "<style>\n",
              "  .colab-df-quickchart {\n",
              "      --bg-color: #E8F0FE;\n",
              "      --fill-color: #1967D2;\n",
              "      --hover-bg-color: #E2EBFA;\n",
              "      --hover-fill-color: #174EA6;\n",
              "      --disabled-fill-color: #AAA;\n",
              "      --disabled-bg-color: #DDD;\n",
              "  }\n",
              "\n",
              "  [theme=dark] .colab-df-quickchart {\n",
              "      --bg-color: #3B4455;\n",
              "      --fill-color: #D2E3FC;\n",
              "      --hover-bg-color: #434B5C;\n",
              "      --hover-fill-color: #FFFFFF;\n",
              "      --disabled-bg-color: #3B4455;\n",
              "      --disabled-fill-color: #666;\n",
              "  }\n",
              "\n",
              "  .colab-df-quickchart {\n",
              "    background-color: var(--bg-color);\n",
              "    border: none;\n",
              "    border-radius: 50%;\n",
              "    cursor: pointer;\n",
              "    display: none;\n",
              "    fill: var(--fill-color);\n",
              "    height: 32px;\n",
              "    padding: 0;\n",
              "    width: 32px;\n",
              "  }\n",
              "\n",
              "  .colab-df-quickchart:hover {\n",
              "    background-color: var(--hover-bg-color);\n",
              "    box-shadow: 0 1px 2px rgba(60, 64, 67, 0.3), 0 1px 3px 1px rgba(60, 64, 67, 0.15);\n",
              "    fill: var(--button-hover-fill-color);\n",
              "  }\n",
              "\n",
              "  .colab-df-quickchart-complete:disabled,\n",
              "  .colab-df-quickchart-complete:disabled:hover {\n",
              "    background-color: var(--disabled-bg-color);\n",
              "    fill: var(--disabled-fill-color);\n",
              "    box-shadow: none;\n",
              "  }\n",
              "\n",
              "  .colab-df-spinner {\n",
              "    border: 2px solid var(--fill-color);\n",
              "    border-color: transparent;\n",
              "    border-bottom-color: var(--fill-color);\n",
              "    animation:\n",
              "      spin 1s steps(1) infinite;\n",
              "  }\n",
              "\n",
              "  @keyframes spin {\n",
              "    0% {\n",
              "      border-color: transparent;\n",
              "      border-bottom-color: var(--fill-color);\n",
              "      border-left-color: var(--fill-color);\n",
              "    }\n",
              "    20% {\n",
              "      border-color: transparent;\n",
              "      border-left-color: var(--fill-color);\n",
              "      border-top-color: var(--fill-color);\n",
              "    }\n",
              "    30% {\n",
              "      border-color: transparent;\n",
              "      border-left-color: var(--fill-color);\n",
              "      border-top-color: var(--fill-color);\n",
              "      border-right-color: var(--fill-color);\n",
              "    }\n",
              "    40% {\n",
              "      border-color: transparent;\n",
              "      border-right-color: var(--fill-color);\n",
              "      border-top-color: var(--fill-color);\n",
              "    }\n",
              "    60% {\n",
              "      border-color: transparent;\n",
              "      border-right-color: var(--fill-color);\n",
              "    }\n",
              "    80% {\n",
              "      border-color: transparent;\n",
              "      border-right-color: var(--fill-color);\n",
              "      border-bottom-color: var(--fill-color);\n",
              "    }\n",
              "    90% {\n",
              "      border-color: transparent;\n",
              "      border-bottom-color: var(--fill-color);\n",
              "    }\n",
              "  }\n",
              "</style>\n",
              "\n",
              "  <script>\n",
              "    async function quickchart(key) {\n",
              "      const quickchartButtonEl =\n",
              "        document.querySelector('#' + key + ' button');\n",
              "      quickchartButtonEl.disabled = true;  // To prevent multiple clicks.\n",
              "      quickchartButtonEl.classList.add('colab-df-spinner');\n",
              "      try {\n",
              "        const charts = await google.colab.kernel.invokeFunction(\n",
              "            'suggestCharts', [key], {});\n",
              "      } catch (error) {\n",
              "        console.error('Error during call to suggestCharts:', error);\n",
              "      }\n",
              "      quickchartButtonEl.classList.remove('colab-df-spinner');\n",
              "      quickchartButtonEl.classList.add('colab-df-quickchart-complete');\n",
              "    }\n",
              "    (() => {\n",
              "      let quickchartButtonEl =\n",
              "        document.querySelector('#df-9d6d8b64-96b4-40ae-9ccf-bf349f263c71 button');\n",
              "      quickchartButtonEl.style.display =\n",
              "        google.colab.kernel.accessAllowed ? 'block' : 'none';\n",
              "    })();\n",
              "  </script>\n",
              "</div>\n",
              "\n",
              "    </div>\n",
              "  </div>\n"
            ],
            "application/vnd.google.colaboratory.intrinsic+json": {
              "type": "dataframe",
              "summary": "{\n  \"name\": \"gold[gold\",\n  \"rows\": 100,\n  \"fields\": [\n    {\n      \"column\": \"qid\",\n      \"properties\": {\n        \"dtype\": \"number\",\n        \"std\": 0,\n        \"min\": 251898,\n        \"max\": 251898,\n        \"num_unique_values\": 1,\n        \"samples\": [\n          251898\n        ],\n        \"semantic_type\": \"\",\n        \"description\": \"\"\n      }\n    },\n    {\n      \"column\": \"docid\",\n      \"properties\": {\n        \"dtype\": \"string\",\n        \"num_unique_values\": 100,\n        \"samples\": [\n          \"D1293408\"\n        ],\n        \"semantic_type\": \"\",\n        \"description\": \"\"\n      }\n    },\n    {\n      \"column\": \"rank\",\n      \"properties\": {\n        \"dtype\": \"number\",\n        \"std\": 29,\n        \"min\": 1,\n        \"max\": 100,\n        \"num_unique_values\": 100,\n        \"samples\": [\n          84\n        ],\n        \"semantic_type\": \"\",\n        \"description\": \"\"\n      }\n    },\n    {\n      \"column\": \"score\",\n      \"properties\": {\n        \"dtype\": \"number\",\n        \"std\": 0.1776100453311562,\n        \"min\": -5.57544,\n        \"max\": -4.74293,\n        \"num_unique_values\": 99,\n        \"samples\": [\n          -5.49881\n        ],\n        \"semantic_type\": \"\",\n        \"description\": \"\"\n      }\n    }\n  ]\n}"
            }
          },
          "metadata": {},
          "execution_count": 12
        },
        {
          "output_type": "stream",
          "name": "stdout",
          "text": [
            "time: 18.3 ms (started: 2025-03-20 08:12:12 +00:00)\n"
          ]
        }
      ],
      "source": [
        "gold[gold.qid==251898]"
      ]
    },
    {
      "cell_type": "markdown",
      "id": "eef3095e-4e50-4b76-8a01-7a0009e2b157",
      "metadata": {
        "id": "eef3095e-4e50-4b76-8a01-7a0009e2b157"
      },
      "source": [
        "### 🚧 todo: let's look at the top-ranked document for that query\n",
        "- title\n",
        "- body"
      ]
    },
    {
      "cell_type": "code",
      "execution_count": null,
      "id": "ce01135d-c574-41a9-9127-368c8388a5e8",
      "metadata": {
        "id": "ce01135d-c574-41a9-9127-368c8388a5e8",
        "colab": {
          "base_uri": "https://localhost:8080/"
        },
        "outputId": "4696199f-6c28-4b00-fd8a-60c27544fbb7"
      },
      "outputs": [
        {
          "output_type": "stream",
          "name": "stdout",
          "text": [
            "time: 243 µs (started: 2025-03-20 08:12:14 +00:00)\n"
          ]
        }
      ],
      "source": [
        "# todo: .values[0] can help"
      ]
    },
    {
      "cell_type": "code",
      "source": [
        "top_doc_id = gold[gold[\"qid\"] == 251898].sort_values(by=\"rank\").iloc[0]['docid']\n",
        "print(f\"Top document ID: {top_doc_id}\")\n",
        "\n",
        "top_doc = docs[docs[\"docid\"] == top_doc_id]\n",
        "\n",
        "print(\"\\nTITLE:\")\n",
        "print(top_doc['title'].values[0])\n",
        "print(\"\\nBODY:\")\n",
        "print(top_doc['body'].values[0])"
      ],
      "metadata": {
        "id": "8yuhc_8TGJnw",
        "outputId": "0c5d059d-b5d9-4b4b-9656-2f8421f3ec63",
        "colab": {
          "base_uri": "https://localhost:8080/"
        }
      },
      "id": "8yuhc_8TGJnw",
      "execution_count": null,
      "outputs": [
        {
          "output_type": "stream",
          "name": "stdout",
          "text": [
            "Top document ID: D2865964\n",
            "\n",
            "TITLE:\n",
            "How long does it take to get a post-doctoral degree?\n",
            "\n",
            "BODY:\n",
            "Answers.com ® Wiki Answers ® Categories Jobs & Education Education College Degrees Graduate Degrees How long does it take to get a post-doctoral degree? Flag How long does it take to get a post-doctoral degree? Answer by Joe Ragusa Confidence votes 98.6KI am not aware of any such thing as a postdoctoral degree. You may be referring to postdoctoral research which may be required for obtaining a tenure-track faculty position, especially at research oriented institutions. Some have suggested that postdoctoral appointments - that were traditionally optional - have become mandatory as demand for tenure-track positions in academia has drastically increased over previous decades (Wikipedia). The length of time in this case depends on the type, content, scope, and depth of the research.2 people found this useful Was this answer useful? Yes Somewhat No Tyler Durden9988 1,326 Contributions How long does it take to get a doctoral degree? It totally depends on the actual degree and school but you can assume between three and five years as a general guideline. Medical degrees may take longer due to the internshi …How long does it take to get a doctorate degree in psychology? Answer 6-8 years Mark Swarthout 794,167 Contributions Contract attorney. When not working I teach karate, collect stamps, write books, and play the ukulele. How long does it take to earn a doctorate degree? It depends on the program and how hard you work. Most programs take 2 to 3 years, but it can take longer if you are not a full time student. Sheepgrape 1,482 Contributions How long does it take to get a doctorate degree in psycology? About six years if you go for a Psy. D. or Ph. D. in psychology. Joe Ragusa How long does it take to get a doctor of pharmacy degree? Answer . Pharmacy programs grant the degree of Doctor of Pharmacy (Pharm. D.), which requires at least 6 years of postsecondary study and the passing of a State board of ph …How long does it take to get a doctors degree?it takes 4 years dependig Joe Ragusa How long does it take to get a doctoral degree in business? A doctoral degree can take approximately three to four years after completion of a bachelors degree. Rxdoc1 907 Contributions How long does it take to get a doctorate degree in pharmaceuticals? Since 2000, all coleges of pharmacu have been required to offer only a single-level entry doctorate degree in Pharmacy which takes 6 years to complete. Internship …Joe Ragusa How long does it take to get a doctor of medicine degree? The common path to practicing as a physician requires 8 years of education beyond high school and 3 to 8 additional years of internship and residency. All States, the District …Joe Ragusa How long does it take to get a doctorates degree? It depends on what kind of doctorate. In general, a doctorate will take approximately eight years beyond high school completion. Grrlygirl 10 Contributions How long does it take to get a doctorate degree in economics? Assuming: You are starting with a bachelor's degree You are enrolled in a doctorate program in which the required graduate courses are built in You are a …Joe Ragusa How long does it take to get a doctorate degree after a MBA? It depends on the specific program of study. Still, the approximate time frame could be anywhere from two to four years. Once again this depends on the program of study, the c …Joe Ragusa Answered In College Degrees How long does it take to get a doctorates degree in psycology? It would take approximately four years post high school completion. However, it depends on how long it takes a student to complete the dissertation (original topic, with resea …Joe Ragusa Answered In Anesthesiologists How long does it take to get a anesthesiologist doctor degree? It will take four years for the bachelor's degree with completion of all prerequisite coursework, and four years of medical school. There will also be three or more years to c …Answered In Bachelors Degrees How long does it take to get a doctorate degree in general? Theoretically, it would take 4 years to get a bachelors degree, another two for your masters, and yet another 2 (or more) to get your doctorate or Ph D. That's a total of at le …Tyler Durden9988 1,326 Contributions Answered In Education How long does it take for a doctor degree? The answer to your question depends on what type of doctor you want to know about. Physicians go to medical school for four years and then may seek additional training in resi …Mark Swarthout 794,167 Contributions Contract attorney. When not working I teach karate, collect stamps, write books, and play the ukulele. Answered In Bachelors Degrees How long does it take to get a post-secondary degree? It depends on the focus and level. You can finish law school full time in three years. Most Masters programs could be done in two years. \n",
            "time: 14.8 ms (started: 2025-03-20 08:12:15 +00:00)\n"
          ]
        }
      ]
    },
    {
      "cell_type": "markdown",
      "id": "402273c0-e851-43c4-a212-819d0a9b8b4c",
      "metadata": {
        "id": "402273c0-e851-43c4-a212-819d0a9b8b4c"
      },
      "source": [
        "### 🚧 todo: let's look at the second document\n",
        "- let's make a functioin to make that easier"
      ]
    },
    {
      "cell_type": "code",
      "execution_count": null,
      "id": "ea7f2274-946f-4c18-b2ba-867283278e14",
      "metadata": {
        "id": "ea7f2274-946f-4c18-b2ba-867283278e14",
        "outputId": "13206c4c-a7ff-416e-a280-a87fb82d9425",
        "colab": {
          "base_uri": "https://localhost:8080/",
          "height": 182
        }
      },
      "outputs": [
        {
          "output_type": "display_data",
          "data": {
            "text/plain": [
              "'TITLE:'"
            ],
            "application/vnd.google.colaboratory.intrinsic+json": {
              "type": "string"
            }
          },
          "metadata": {}
        },
        {
          "output_type": "display_data",
          "data": {
            "text/plain": [
              "'How long does it take to get a post-doctoral degree?'"
            ],
            "application/vnd.google.colaboratory.intrinsic+json": {
              "type": "string"
            }
          },
          "metadata": {}
        },
        {
          "output_type": "display_data",
          "data": {
            "text/plain": [
              "'BODY:'"
            ],
            "application/vnd.google.colaboratory.intrinsic+json": {
              "type": "string"
            }
          },
          "metadata": {}
        },
        {
          "output_type": "display_data",
          "data": {
            "text/plain": [
              "\"Answers.com ® Wiki Answers ® Categories Jobs & Education Education College Degrees Graduate Degrees How long does it take to get a post-doctoral degree? Flag How long does it take to get a post-doctoral degree? Answer by Joe Ragusa Confidence votes 98.6KI am not aware of any such thing as a postdoctoral degree. You may be referring to postdoctoral research which may be required for obtaining a tenure-track faculty position, especially at research oriented institutions. Some have suggested that postdoctoral appointments - that were traditionally optional - have become mandatory as demand for tenure-track positions in academia has drastically increased over previous decades (Wikipedia). The length of time in this case depends on the type, content, scope, and depth of the research.2 people found this useful Was this answer useful? Yes Somewhat No Tyler Durden9988 1,326 Contributions How long does it take to get a doctoral degree? It totally depends on the actual degree and school but you can assume between three and five years as a general guideline. Medical degrees may take longer due to the internshi …How long does it take to get a doctorate degree in psychology? Answer 6-8 years Mark Swarthout 794,167 Contributions Contract attorney. When not working I teach karate, collect stamps, write books, and play the ukulele. How long does it take to earn a doctorate degree? It depends on the program and how hard you work. Most programs take 2 to 3 years, but it can take longer if you are not a full time student. Sheepgrape 1,482 Contributions How long does it take to get a doctorate degree in psycology? About six years if you go for a Psy. D. or Ph. D. in psychology. Joe Ragusa How long does it take to get a doctor of pharmacy degree? Answer . Pharmacy programs grant the degree of Doctor of Pharmacy (Pharm. D.), which requires at least 6 years of postsecondary study and the passing of a State board of ph …How long does it take to get a doctors degree?it takes 4 years dependig Joe Ragusa How long does it take to get a doctoral degree in business? A doctoral degree can take approximately three to four years after completion of a bachelors degree. Rxdoc1 907 Contributions How long does it take to get a doctorate degree in pharmaceuticals? Since 2000, all coleges of pharmacu have been required to offer only a single-level entry doctorate degree in Pharmacy which takes 6 years to complete. Internship …Joe Ragusa How long does it take to get a doctor of medicine degree? The common path to practicing as a physician requires 8 years of education beyond high school and 3 to 8 additional years of internship and residency. All States, the District …Joe Ragusa How long does it take to get a doctorates degree? It depends on what kind of doctorate. In general, a doctorate will take approximately eight years beyond high school completion. Grrlygirl 10 Contributions How long does it take to get a doctorate degree in economics? Assuming: You are starting with a bachelor's degree You are enrolled in a doctorate program in which the required graduate courses are built in You are a …Joe Ragusa How long does it take to get a doctorate degree after a MBA? It depends on the specific program of study. Still, the approximate time frame could be anywhere from two to four years. Once again this depends on the program of study, the c …Joe Ragusa Answered In College Degrees How long does it take to get a doctorates degree in psycology? It would take approximately four years post high school completion. However, it depends on how long it takes a student to complete the dissertation (original topic, with resea …Joe Ragusa Answered In Anesthesiologists How long does it take to get a anesthesiologist doctor degree? It will take four years for the bachelor's degree with completion of all prerequisite coursework, and four years of medical school. There will also be three or more years to c …Answered In Bachelors Degrees How long does it take to get a doctorate degree in general? Theoretically, it would take 4 years to get a bachelors degree, another two for your masters, and yet another 2 (or more) to get your doctorate or Ph D. That's a total of at le …Tyler Durden9988 1,326 Contributions Answered In Education How long does it take for a doctor degree? The answer to your question depends on what type of doctor you want to know about. Physicians go to medical school for four years and then may seek additional training in resi …Mark Swarthout 794,167 Contributions Contract attorney. When not working I teach karate, collect stamps, write books, and play the ukulele. Answered In Bachelors Degrees How long does it take to get a post-secondary degree? It depends on the focus and level. You can finish law school full time in three years. Most Masters programs could be done in two years. \""
            ],
            "application/vnd.google.colaboratory.intrinsic+json": {
              "type": "string"
            }
          },
          "metadata": {}
        },
        {
          "output_type": "stream",
          "name": "stdout",
          "text": [
            "time: 19.5 ms (started: 2025-03-20 08:12:16 +00:00)\n"
          ]
        }
      ],
      "source": [
        "def titleAndBody(qid,rank):\n",
        "    doc_row = gold[(gold[\"qid\"] == qid) & (gold[\"rank\"] == rank)] # find doc id for a qid and a rank\n",
        "\n",
        "    if doc_row.empty:\n",
        "        print(\"No document found for qid=\",qid,\" and rank=\",rank)\n",
        "        return\n",
        "\n",
        "    doc_id = doc_row[\"docid\"].values[0]\n",
        "    doc = docs[docs[\"docid\"] == doc_id]\n",
        "\n",
        "    if doc.empty:\n",
        "        print(\"Document ID \",doc_id,\" not found in docs dataset\")\n",
        "        return\n",
        "\n",
        "    title = doc[\"title\"].values[0]\n",
        "    body = doc[\"body\"].values[0]\n",
        "\n",
        "    display(\"TITLE:\",title)\n",
        "    display(\"BODY:\",body)\n",
        "\n",
        "titleAndBody(251898,1)"
      ]
    },
    {
      "cell_type": "markdown",
      "id": "ff47ffef-d779-403b-8a7f-75cf0d0cee54",
      "metadata": {
        "id": "ff47ffef-d779-403b-8a7f-75cf0d0cee54"
      },
      "source": [
        "#### let's look at the 100th document"
      ]
    },
    {
      "cell_type": "code",
      "execution_count": null,
      "id": "361e71c5-7b0b-4dbe-b8b5-4b8ade9a33cf",
      "metadata": {
        "id": "361e71c5-7b0b-4dbe-b8b5-4b8ade9a33cf",
        "outputId": "cc207105-702e-4caf-c659-d97cd5a39d09",
        "colab": {
          "base_uri": "https://localhost:8080/",
          "height": 182
        }
      },
      "outputs": [
        {
          "output_type": "display_data",
          "data": {
            "text/plain": [
              "'TITLE:'"
            ],
            "application/vnd.google.colaboratory.intrinsic+json": {
              "type": "string"
            }
          },
          "metadata": {}
        },
        {
          "output_type": "display_data",
          "data": {
            "text/plain": [
              "'How long does it take to get a doctoral degree?'"
            ],
            "application/vnd.google.colaboratory.intrinsic+json": {
              "type": "string"
            }
          },
          "metadata": {}
        },
        {
          "output_type": "display_data",
          "data": {
            "text/plain": [
              "'BODY:'"
            ],
            "application/vnd.google.colaboratory.intrinsic+json": {
              "type": "string"
            }
          },
          "metadata": {}
        },
        {
          "output_type": "display_data",
          "data": {
            "text/plain": [
              "\"Tyler Durden9988 1,326 Contributions How long does it take to get a doctoral degree? It totally depends on the actual degree and school but you can assume between three and five years as a general guideline. Medical degrees may take longer due to the internshi …How long does it take to get a doctorate?after your postgraduation you can register your name in any university where you are like to researching. they will give you a topic according to your preference. when you com …How long does it take to be doctor? Approx. 8 years after high school. Unless you get into medical school straight after high school then only 4/5How long does it take a masters in zoology? It takes on average 2 to 3 years to get it depending on how well your grades are. How long does it take to beomce a Doctor? Answer most doctors it take up to 7years of studying then more for actually hands on. But if you really wanna be a doctor then it won't seem long for you. Can you get a doctorate of science in zoology? Yeah, there are doctorates for every field... Phd (Doctorate for Philosiphical Medicine) MD (medical doctorate) and so on. Im not sure what it is specificallly for zoology tho …How long does it take to get a Ph. D in zoology?about 8 years How long does it take to get a bachelor's degree in zoology? A bachelor degree can be obtained in four years or less if you are able to take greater than 12 credits per semester. Sapphire Moon 6,434 Contributions How long would it take to get first degree in zoology? You can get a bachelor's degree (B. S., bachelor of science) in a standard four-year college program. Mitchel Hird 18 Contributions How long does it take to get a zoology degree? B. Sc degrees typically take 3 to 4 years Joe Ragusa How long does it take to be a doctor with a Ph. D? A Ph D is a doctorate degree, and takes approximately eight years of schooling beyond high school completion. Mistro Joe 285 Contributions How long do it take to be a professional doctor?around 9 years of training plus the training isn't cheap. Mistro Joe \""
            ],
            "application/vnd.google.colaboratory.intrinsic+json": {
              "type": "string"
            }
          },
          "metadata": {}
        },
        {
          "output_type": "stream",
          "name": "stdout",
          "text": [
            "time: 19.9 ms (started: 2025-03-20 08:12:18 +00:00)\n"
          ]
        }
      ],
      "source": [
        "titleAndBody(251898,8)"
      ]
    },
    {
      "cell_type": "markdown",
      "id": "a6f133cb-33fc-4a44-b00a-dd5840bdcaeb",
      "metadata": {
        "id": "a6f133cb-33fc-4a44-b00a-dd5840bdcaeb"
      },
      "source": [
        "### 🚧 todo: try this with a few different queries to get a feel of the quality of the gold"
      ]
    },
    {
      "cell_type": "markdown",
      "id": "02e6d82b-f8f1-4f6c-bc85-5c6a886ae303",
      "metadata": {
        "id": "02e6d82b-f8f1-4f6c-bc85-5c6a886ae303"
      },
      "source": [
        "# doing our first baseline retrieval function\n",
        "\n",
        "- todo:\n",
        "    - build and fit a binary CountVectorizer on the **titles**\n",
        "    - play with and understand build_analyzer, build_tokenizer, and transform\n",
        "    - transform our query 111\n",
        "        - understand what happens with yet unseen words in the transform process\n",
        "    - find the docs with the most words in common\n",
        "    - write an evaluation function computing the top 10 precision p@10\n",
        "    - apply to our 500 queries\n"
      ]
    },
    {
      "cell_type": "code",
      "execution_count": null,
      "id": "b2a9419e-a830-4cd4-a43a-173328fa9d48",
      "metadata": {
        "id": "b2a9419e-a830-4cd4-a43a-173328fa9d48",
        "outputId": "423b3ead-3532-4b10-c053-8ead6837ead0",
        "colab": {
          "base_uri": "https://localhost:8080/"
        }
      },
      "outputs": [
        {
          "output_type": "stream",
          "name": "stdout",
          "text": [
            "we got 39559 features, for example ['sputtering' 'sputters' 'sputum' 'spy' 'spyware' 'sq']\n",
            "time: 1.19 s (started: 2025-03-20 08:12:19 +00:00)\n"
          ]
        }
      ],
      "source": [
        "vectorizer = CountVectorizer(binary=True)\n",
        "# understand the options:\n",
        "# https://scikit-learn.org/stable/modules/generated/sklearn.feature_extraction.text.CountVectorizer.html\n",
        "X = vectorizer.fit_transform(docs[\"title\"])\n",
        "print('we got',len(vectorizer.get_feature_names_out()),'features, for example',vectorizer.get_feature_names_out()[33333:33339])"
      ]
    },
    {
      "cell_type": "code",
      "execution_count": null,
      "id": "1753a230-993a-4545-b21f-aa05e56723e8",
      "metadata": {
        "id": "1753a230-993a-4545-b21f-aa05e56723e8",
        "colab": {
          "base_uri": "https://localhost:8080/",
          "height": 53
        },
        "outputId": "58a73b9c-2fc6-4f8b-9334-b128257e0e28"
      },
      "outputs": [
        {
          "output_type": "execute_result",
          "data": {
            "text/plain": [
              "'how long does getting a doctorate take'"
            ],
            "application/vnd.google.colaboratory.intrinsic+json": {
              "type": "string"
            }
          },
          "metadata": {},
          "execution_count": 18
        },
        {
          "output_type": "stream",
          "name": "stdout",
          "text": [
            "time: 2.33 ms (started: 2025-03-20 08:12:21 +00:00)\n"
          ]
        }
      ],
      "source": [
        "queries.loc[111].query"
      ]
    },
    {
      "cell_type": "code",
      "execution_count": null,
      "id": "9b1dacd6-49c2-44e7-8271-62bc68cd6ecf",
      "metadata": {
        "id": "9b1dacd6-49c2-44e7-8271-62bc68cd6ecf",
        "colab": {
          "base_uri": "https://localhost:8080/"
        },
        "outputId": "cddda874-c9fd-4ae1-dd5b-682e4d536abc"
      },
      "outputs": [
        {
          "output_type": "execute_result",
          "data": {
            "text/plain": [
              "['how', 'long', 'does', 'getting', 'doctorate', 'take']"
            ]
          },
          "metadata": {},
          "execution_count": 19
        },
        {
          "output_type": "stream",
          "name": "stdout",
          "text": [
            "time: 5.37 ms (started: 2025-03-20 08:12:22 +00:00)\n"
          ]
        }
      ],
      "source": [
        "vectorizer.build_analyzer()(queries.loc[111].query)"
      ]
    },
    {
      "cell_type": "code",
      "execution_count": null,
      "id": "a543574d-626e-4d60-9465-a89eca40896d",
      "metadata": {
        "id": "a543574d-626e-4d60-9465-a89eca40896d",
        "colab": {
          "base_uri": "https://localhost:8080/"
        },
        "outputId": "93a475d2-5fbd-4e9e-8d3e-6279d8cfc5ac"
      },
      "outputs": [
        {
          "output_type": "execute_result",
          "data": {
            "text/plain": [
              "['how', 'long', 'does', 'getting', 'doctorate', 'take']"
            ]
          },
          "metadata": {},
          "execution_count": 20
        },
        {
          "output_type": "stream",
          "name": "stdout",
          "text": [
            "time: 2.85 ms (started: 2025-03-20 08:12:23 +00:00)\n"
          ]
        }
      ],
      "source": [
        "vectorizer.build_tokenizer()(queries.loc[111].query)"
      ]
    },
    {
      "cell_type": "code",
      "execution_count": null,
      "id": "b2c79230-8787-4357-bd11-952451725a15",
      "metadata": {
        "id": "b2c79230-8787-4357-bd11-952451725a15",
        "colab": {
          "base_uri": "https://localhost:8080/"
        },
        "outputId": "20bb3437-5e17-408a-f828-a8b759454271"
      },
      "outputs": [
        {
          "output_type": "execute_result",
          "data": {
            "text/plain": [
              "<Compressed Sparse Row sparse matrix of dtype 'int64'\n",
              "\twith 6 stored elements and shape (1, 39559)>"
            ]
          },
          "metadata": {},
          "execution_count": 21
        },
        {
          "output_type": "stream",
          "name": "stdout",
          "text": [
            "time: 3.12 ms (started: 2025-03-20 08:12:24 +00:00)\n"
          ]
        }
      ],
      "source": [
        "qv = vectorizer.transform([queries.loc[111].query])\n",
        "qv"
      ]
    },
    {
      "cell_type": "markdown",
      "id": "e30116df-0d90-4ca7-9111-e9a56e368f9b",
      "metadata": {
        "id": "e30116df-0d90-4ca7-9111-e9a56e368f9b"
      },
      "source": [
        "### 🚧 todo:\n",
        "- understand what happens with yet unseen words in the transform process\n",
        "\n",
        "\n",
        "- think of the shape of X, what are the rows, what are the columns?\n",
        "- how to select the titles that have the words of our query?\n",
        "       - think of matrix multiplication and transposition"
      ]
    },
    {
      "cell_type": "code",
      "execution_count": null,
      "id": "a4980c9b-340d-452f-9291-7c98fdbb29e7",
      "metadata": {
        "id": "a4980c9b-340d-452f-9291-7c98fdbb29e7",
        "colab": {
          "base_uri": "https://localhost:8080/"
        },
        "outputId": "92964a2f-0a00-4f9a-dfcd-2737be1cd455"
      },
      "outputs": [
        {
          "output_type": "stream",
          "name": "stdout",
          "text": [
            "Shape of X: (92565, 39559)\n",
            "Number of documents: 92565\n",
            "Number of features: 39559\n",
            "\n",
            "Query words: ['how', 'long', 'does', 'getting', 'doctorate', 'take']\n",
            "Query words in vocabulary: ['how', 'long', 'does', 'getting', 'doctorate', 'take']\n",
            "Query words not in vocabulary: []\n"
          ]
        },
        {
          "output_type": "execute_result",
          "data": {
            "text/plain": [
              "<Compressed Sparse Row sparse matrix of dtype 'int64'\n",
              "\twith 12144 stored elements and shape (92565, 1)>"
            ]
          },
          "metadata": {},
          "execution_count": 22
        },
        {
          "output_type": "stream",
          "name": "stdout",
          "text": [
            "time: 55.8 ms (started: 2025-03-20 08:12:27 +00:00)\n"
          ]
        }
      ],
      "source": [
        "print(\"Shape of X:\", X.shape)\n",
        "print(\"Number of documents:\", docs.shape[0])\n",
        "print(\"Number of features:\", len(vectorizer.get_feature_names_out()))\n",
        "\n",
        "query_words = vectorizer.build_analyzer()(queries.loc[111].query)\n",
        "print(\"\\nQuery words:\", query_words)\n",
        "\n",
        "query_words_in_vocab = [word for word in query_words if word in vectorizer.vocabulary_]\n",
        "print(\"Query words in vocabulary:\", query_words_in_vocab)\n",
        "\n",
        "query_words_not_in_vocab = [word for word in query_words if word not in vectorizer.vocabulary_]\n",
        "print(\"Query words not in vocabulary:\", query_words_not_in_vocab)\n",
        "\n",
        "#dot product between query vector and document vectors which gives the number of matching terms between query and each document\n",
        "xqv = X.dot(qv.T)\n",
        "xqv"
      ]
    },
    {
      "cell_type": "markdown",
      "id": "6fb69ccc-a0c1-4e22-a9c0-16acba58aa5c",
      "metadata": {
        "id": "6fb69ccc-a0c1-4e22-a9c0-16acba58aa5c"
      },
      "source": [
        "### 🚧 todo:\n",
        "  - look at argmax and max,\n",
        "  - check the numpy\n",
        "      - flatnonzero function to find the best match\n",
        "      - the .A and the .flat functions\n",
        "  - show the best matching doc"
      ]
    },
    {
      "cell_type": "code",
      "execution_count": null,
      "id": "17b73f58-dfe9-47d4-ae07-fba2031a2979",
      "metadata": {
        "id": "17b73f58-dfe9-47d4-ae07-fba2031a2979",
        "colab": {
          "base_uri": "https://localhost:8080/"
        },
        "outputId": "cbd52411-18cb-40e2-9809-d796a3025006"
      },
      "outputs": [
        {
          "output_type": "stream",
          "name": "stdout",
          "text": [
            "time: 1.28 ms (started: 2025-03-20 08:12:29 +00:00)\n"
          ]
        }
      ],
      "source": [
        "xqv_array = xqv.toarray().flatten()"
      ]
    },
    {
      "cell_type": "code",
      "execution_count": null,
      "id": "59cab7c4-ed23-42c7-8170-ad5bda8bc06f",
      "metadata": {
        "id": "59cab7c4-ed23-42c7-8170-ad5bda8bc06f",
        "colab": {
          "base_uri": "https://localhost:8080/"
        },
        "outputId": "8e7db1a4-3816-4cee-99fd-18f3620d4af5"
      },
      "outputs": [
        {
          "output_type": "stream",
          "name": "stdout",
          "text": [
            "\n",
            "Number of documents with any matching terms: 12144\n",
            "time: 3.27 ms (started: 2025-03-20 08:20:48 +00:00)\n"
          ]
        }
      ],
      "source": [
        "matching_docs_idx = np.flatnonzero(xqv_array)\n",
        "print(\"\\nNumber of documents with any matching terms:\", len(matching_docs_idx))"
      ]
    },
    {
      "cell_type": "code",
      "execution_count": null,
      "id": "0387c619-d4b7-45f0-9ba4-a876131b6dc5",
      "metadata": {
        "id": "0387c619-d4b7-45f0-9ba4-a876131b6dc5",
        "colab": {
          "base_uri": "https://localhost:8080/"
        },
        "outputId": "3bdfe92c-6b4d-46ff-937d-df3e2b341e4a"
      },
      "outputs": [
        {
          "output_type": "stream",
          "name": "stdout",
          "text": [
            "\n",
            "Best matching document index: 11957\n",
            "Number of matching terms: 6\n",
            "\n",
            "Best matching document:\n",
            "Title: After getting my bachelors how long does it take to get a doctorate?\n",
            "DocID: D2408424\n",
            "time: 2.76 ms (started: 2025-03-20 08:21:07 +00:00)\n"
          ]
        }
      ],
      "source": [
        "best_match_idx = np.argmax(xqv_array)\n",
        "print(\"\\nBest matching document index:\", best_match_idx)\n",
        "print(\"Number of matching terms:\", xqv_array[best_match_idx])\n",
        "\n",
        "# best matching document\n",
        "best_match_doc = docs.iloc[best_match_idx]\n",
        "print(\"\\nBest matching document:\")\n",
        "print(\"Title:\", best_match_doc['title'])\n",
        "print(\"DocID:\", best_match_doc['docid'])"
      ]
    },
    {
      "cell_type": "markdown",
      "id": "36f56fd4-49e6-4c94-a11e-119556a0b52f",
      "metadata": {
        "id": "36f56fd4-49e6-4c94-a11e-119556a0b52f"
      },
      "source": [
        "### 🚧 todo: use argpartition to get the 10 best answers"
      ]
    },
    {
      "cell_type": "code",
      "execution_count": null,
      "id": "07b4ee59-7084-43ac-aabd-bd813b45f6aa",
      "metadata": {
        "id": "07b4ee59-7084-43ac-aabd-bd813b45f6aa",
        "colab": {
          "base_uri": "https://localhost:8080/"
        },
        "outputId": "2b0bfd30-9bad-47fb-e28e-94e04a10a4d0"
      },
      "outputs": [
        {
          "output_type": "execute_result",
          "data": {
            "text/plain": [
              "array([11957, 43190, 91275, 66313, 83787,  3686, 76873, 48618, 76731,\n",
              "       48830])"
            ]
          },
          "metadata": {},
          "execution_count": 26
        },
        {
          "output_type": "stream",
          "name": "stdout",
          "text": [
            "time: 8.2 ms (started: 2025-03-20 08:12:32 +00:00)\n"
          ]
        }
      ],
      "source": [
        "pred10i = np.argpartition(-xqv_array, 10)[:10]\n",
        "pred10i = pred10i[np.argsort(-xqv_array[pred10i])]\n",
        "pred10i"
      ]
    },
    {
      "cell_type": "code",
      "execution_count": null,
      "id": "6ef515f4-8e50-490a-912b-df737d740a96",
      "metadata": {
        "id": "6ef515f4-8e50-490a-912b-df737d740a96",
        "colab": {
          "base_uri": "https://localhost:8080/",
          "height": 380
        },
        "outputId": "0747299a-5663-4a3b-da95-0e177ac6d394"
      },
      "outputs": [
        {
          "output_type": "execute_result",
          "data": {
            "text/plain": [
              "          docid                                              title  \\\n",
              "11957  D2408424  After getting my bachelors how long does it ta...   \n",
              "43190   D700799  Holidays By Country Â»Holidays By Religion Â»O...   \n",
              "91275  D3090762  How Long Does It Take to Get a Doctorate in En...   \n",
              "66313  D2956542       How long does it take to finish a doctorate?   \n",
              "83787  D1951655  How long does it take to get a Doctorate of Nu...   \n",
              "3686   D2111066  After getting a flu shot how long does it take...   \n",
              "76873  D1444724  Top 20 Doctor insights on: How Long Does Antib...   \n",
              "48618   D467553  Naproxen - how long does it take for this drug...   \n",
              "76731   D970533     How long does it take a Killdeer egg to hatch?   \n",
              "48830  D1829756             How Long Does It Take to Sell a House?   \n",
              "\n",
              "                                                    body  \n",
              "11957  Education & Reference Higher Education (Univer...  \n",
              "43190  Home > Important Days > Daylight Savings > Day...  \n",
              "91275  Home » College How Long Does It Take to Get a ...  \n",
              "66313  Education & Reference Higher Education (Univer...  \n",
              "83787  Answers.com ® Wiki Answers ® Categories Jobs &...  \n",
              "3686   Celticballa568 19 Contributions After getting ...  \n",
              "76873  Top 20 Doctor insights on: How Long Does Antib...  \n",
              "48618  Home › Q & A › Questions › Naproxen - how long...  \n",
              "76731  Answers.com ® Wiki Answers ® Categories Animal...  \n",
              "48830  Home Selling How Long Does It Take to Sell a H...  "
            ],
            "text/html": [
              "\n",
              "  <div id=\"df-38ab5e1a-d0f9-4303-b2ea-9365111af8c3\" class=\"colab-df-container\">\n",
              "    <div>\n",
              "<style scoped>\n",
              "    .dataframe tbody tr th:only-of-type {\n",
              "        vertical-align: middle;\n",
              "    }\n",
              "\n",
              "    .dataframe tbody tr th {\n",
              "        vertical-align: top;\n",
              "    }\n",
              "\n",
              "    .dataframe thead th {\n",
              "        text-align: right;\n",
              "    }\n",
              "</style>\n",
              "<table border=\"1\" class=\"dataframe\">\n",
              "  <thead>\n",
              "    <tr style=\"text-align: right;\">\n",
              "      <th></th>\n",
              "      <th>docid</th>\n",
              "      <th>title</th>\n",
              "      <th>body</th>\n",
              "    </tr>\n",
              "  </thead>\n",
              "  <tbody>\n",
              "    <tr>\n",
              "      <th>11957</th>\n",
              "      <td>D2408424</td>\n",
              "      <td>After getting my bachelors how long does it ta...</td>\n",
              "      <td>Education &amp; Reference Higher Education (Univer...</td>\n",
              "    </tr>\n",
              "    <tr>\n",
              "      <th>43190</th>\n",
              "      <td>D700799</td>\n",
              "      <td>Holidays By Country Â»Holidays By Religion Â»O...</td>\n",
              "      <td>Home &gt; Important Days &gt; Daylight Savings &gt; Day...</td>\n",
              "    </tr>\n",
              "    <tr>\n",
              "      <th>91275</th>\n",
              "      <td>D3090762</td>\n",
              "      <td>How Long Does It Take to Get a Doctorate in En...</td>\n",
              "      <td>Home » College How Long Does It Take to Get a ...</td>\n",
              "    </tr>\n",
              "    <tr>\n",
              "      <th>66313</th>\n",
              "      <td>D2956542</td>\n",
              "      <td>How long does it take to finish a doctorate?</td>\n",
              "      <td>Education &amp; Reference Higher Education (Univer...</td>\n",
              "    </tr>\n",
              "    <tr>\n",
              "      <th>83787</th>\n",
              "      <td>D1951655</td>\n",
              "      <td>How long does it take to get a Doctorate of Nu...</td>\n",
              "      <td>Answers.com ® Wiki Answers ® Categories Jobs &amp;...</td>\n",
              "    </tr>\n",
              "    <tr>\n",
              "      <th>3686</th>\n",
              "      <td>D2111066</td>\n",
              "      <td>After getting a flu shot how long does it take...</td>\n",
              "      <td>Celticballa568 19 Contributions After getting ...</td>\n",
              "    </tr>\n",
              "    <tr>\n",
              "      <th>76873</th>\n",
              "      <td>D1444724</td>\n",
              "      <td>Top 20 Doctor insights on: How Long Does Antib...</td>\n",
              "      <td>Top 20 Doctor insights on: How Long Does Antib...</td>\n",
              "    </tr>\n",
              "    <tr>\n",
              "      <th>48618</th>\n",
              "      <td>D467553</td>\n",
              "      <td>Naproxen - how long does it take for this drug...</td>\n",
              "      <td>Home › Q &amp; A › Questions › Naproxen - how long...</td>\n",
              "    </tr>\n",
              "    <tr>\n",
              "      <th>76731</th>\n",
              "      <td>D970533</td>\n",
              "      <td>How long does it take a Killdeer egg to hatch?</td>\n",
              "      <td>Answers.com ® Wiki Answers ® Categories Animal...</td>\n",
              "    </tr>\n",
              "    <tr>\n",
              "      <th>48830</th>\n",
              "      <td>D1829756</td>\n",
              "      <td>How Long Does It Take to Sell a House?</td>\n",
              "      <td>Home Selling How Long Does It Take to Sell a H...</td>\n",
              "    </tr>\n",
              "  </tbody>\n",
              "</table>\n",
              "</div>\n",
              "    <div class=\"colab-df-buttons\">\n",
              "\n",
              "  <div class=\"colab-df-container\">\n",
              "    <button class=\"colab-df-convert\" onclick=\"convertToInteractive('df-38ab5e1a-d0f9-4303-b2ea-9365111af8c3')\"\n",
              "            title=\"Convert this dataframe to an interactive table.\"\n",
              "            style=\"display:none;\">\n",
              "\n",
              "  <svg xmlns=\"http://www.w3.org/2000/svg\" height=\"24px\" viewBox=\"0 -960 960 960\">\n",
              "    <path d=\"M120-120v-720h720v720H120Zm60-500h600v-160H180v160Zm220 220h160v-160H400v160Zm0 220h160v-160H400v160ZM180-400h160v-160H180v160Zm440 0h160v-160H620v160ZM180-180h160v-160H180v160Zm440 0h160v-160H620v160Z\"/>\n",
              "  </svg>\n",
              "    </button>\n",
              "\n",
              "  <style>\n",
              "    .colab-df-container {\n",
              "      display:flex;\n",
              "      gap: 12px;\n",
              "    }\n",
              "\n",
              "    .colab-df-convert {\n",
              "      background-color: #E8F0FE;\n",
              "      border: none;\n",
              "      border-radius: 50%;\n",
              "      cursor: pointer;\n",
              "      display: none;\n",
              "      fill: #1967D2;\n",
              "      height: 32px;\n",
              "      padding: 0 0 0 0;\n",
              "      width: 32px;\n",
              "    }\n",
              "\n",
              "    .colab-df-convert:hover {\n",
              "      background-color: #E2EBFA;\n",
              "      box-shadow: 0px 1px 2px rgba(60, 64, 67, 0.3), 0px 1px 3px 1px rgba(60, 64, 67, 0.15);\n",
              "      fill: #174EA6;\n",
              "    }\n",
              "\n",
              "    .colab-df-buttons div {\n",
              "      margin-bottom: 4px;\n",
              "    }\n",
              "\n",
              "    [theme=dark] .colab-df-convert {\n",
              "      background-color: #3B4455;\n",
              "      fill: #D2E3FC;\n",
              "    }\n",
              "\n",
              "    [theme=dark] .colab-df-convert:hover {\n",
              "      background-color: #434B5C;\n",
              "      box-shadow: 0px 1px 3px 1px rgba(0, 0, 0, 0.15);\n",
              "      filter: drop-shadow(0px 1px 2px rgba(0, 0, 0, 0.3));\n",
              "      fill: #FFFFFF;\n",
              "    }\n",
              "  </style>\n",
              "\n",
              "    <script>\n",
              "      const buttonEl =\n",
              "        document.querySelector('#df-38ab5e1a-d0f9-4303-b2ea-9365111af8c3 button.colab-df-convert');\n",
              "      buttonEl.style.display =\n",
              "        google.colab.kernel.accessAllowed ? 'block' : 'none';\n",
              "\n",
              "      async function convertToInteractive(key) {\n",
              "        const element = document.querySelector('#df-38ab5e1a-d0f9-4303-b2ea-9365111af8c3');\n",
              "        const dataTable =\n",
              "          await google.colab.kernel.invokeFunction('convertToInteractive',\n",
              "                                                    [key], {});\n",
              "        if (!dataTable) return;\n",
              "\n",
              "        const docLinkHtml = 'Like what you see? Visit the ' +\n",
              "          '<a target=\"_blank\" href=https://colab.research.google.com/notebooks/data_table.ipynb>data table notebook</a>'\n",
              "          + ' to learn more about interactive tables.';\n",
              "        element.innerHTML = '';\n",
              "        dataTable['output_type'] = 'display_data';\n",
              "        await google.colab.output.renderOutput(dataTable, element);\n",
              "        const docLink = document.createElement('div');\n",
              "        docLink.innerHTML = docLinkHtml;\n",
              "        element.appendChild(docLink);\n",
              "      }\n",
              "    </script>\n",
              "  </div>\n",
              "\n",
              "\n",
              "<div id=\"df-25eacf37-7ec1-4f84-b218-7764fa9b556a\">\n",
              "  <button class=\"colab-df-quickchart\" onclick=\"quickchart('df-25eacf37-7ec1-4f84-b218-7764fa9b556a')\"\n",
              "            title=\"Suggest charts\"\n",
              "            style=\"display:none;\">\n",
              "\n",
              "<svg xmlns=\"http://www.w3.org/2000/svg\" height=\"24px\"viewBox=\"0 0 24 24\"\n",
              "     width=\"24px\">\n",
              "    <g>\n",
              "        <path d=\"M19 3H5c-1.1 0-2 .9-2 2v14c0 1.1.9 2 2 2h14c1.1 0 2-.9 2-2V5c0-1.1-.9-2-2-2zM9 17H7v-7h2v7zm4 0h-2V7h2v10zm4 0h-2v-4h2v4z\"/>\n",
              "    </g>\n",
              "</svg>\n",
              "  </button>\n",
              "\n",
              "<style>\n",
              "  .colab-df-quickchart {\n",
              "      --bg-color: #E8F0FE;\n",
              "      --fill-color: #1967D2;\n",
              "      --hover-bg-color: #E2EBFA;\n",
              "      --hover-fill-color: #174EA6;\n",
              "      --disabled-fill-color: #AAA;\n",
              "      --disabled-bg-color: #DDD;\n",
              "  }\n",
              "\n",
              "  [theme=dark] .colab-df-quickchart {\n",
              "      --bg-color: #3B4455;\n",
              "      --fill-color: #D2E3FC;\n",
              "      --hover-bg-color: #434B5C;\n",
              "      --hover-fill-color: #FFFFFF;\n",
              "      --disabled-bg-color: #3B4455;\n",
              "      --disabled-fill-color: #666;\n",
              "  }\n",
              "\n",
              "  .colab-df-quickchart {\n",
              "    background-color: var(--bg-color);\n",
              "    border: none;\n",
              "    border-radius: 50%;\n",
              "    cursor: pointer;\n",
              "    display: none;\n",
              "    fill: var(--fill-color);\n",
              "    height: 32px;\n",
              "    padding: 0;\n",
              "    width: 32px;\n",
              "  }\n",
              "\n",
              "  .colab-df-quickchart:hover {\n",
              "    background-color: var(--hover-bg-color);\n",
              "    box-shadow: 0 1px 2px rgba(60, 64, 67, 0.3), 0 1px 3px 1px rgba(60, 64, 67, 0.15);\n",
              "    fill: var(--button-hover-fill-color);\n",
              "  }\n",
              "\n",
              "  .colab-df-quickchart-complete:disabled,\n",
              "  .colab-df-quickchart-complete:disabled:hover {\n",
              "    background-color: var(--disabled-bg-color);\n",
              "    fill: var(--disabled-fill-color);\n",
              "    box-shadow: none;\n",
              "  }\n",
              "\n",
              "  .colab-df-spinner {\n",
              "    border: 2px solid var(--fill-color);\n",
              "    border-color: transparent;\n",
              "    border-bottom-color: var(--fill-color);\n",
              "    animation:\n",
              "      spin 1s steps(1) infinite;\n",
              "  }\n",
              "\n",
              "  @keyframes spin {\n",
              "    0% {\n",
              "      border-color: transparent;\n",
              "      border-bottom-color: var(--fill-color);\n",
              "      border-left-color: var(--fill-color);\n",
              "    }\n",
              "    20% {\n",
              "      border-color: transparent;\n",
              "      border-left-color: var(--fill-color);\n",
              "      border-top-color: var(--fill-color);\n",
              "    }\n",
              "    30% {\n",
              "      border-color: transparent;\n",
              "      border-left-color: var(--fill-color);\n",
              "      border-top-color: var(--fill-color);\n",
              "      border-right-color: var(--fill-color);\n",
              "    }\n",
              "    40% {\n",
              "      border-color: transparent;\n",
              "      border-right-color: var(--fill-color);\n",
              "      border-top-color: var(--fill-color);\n",
              "    }\n",
              "    60% {\n",
              "      border-color: transparent;\n",
              "      border-right-color: var(--fill-color);\n",
              "    }\n",
              "    80% {\n",
              "      border-color: transparent;\n",
              "      border-right-color: var(--fill-color);\n",
              "      border-bottom-color: var(--fill-color);\n",
              "    }\n",
              "    90% {\n",
              "      border-color: transparent;\n",
              "      border-bottom-color: var(--fill-color);\n",
              "    }\n",
              "  }\n",
              "</style>\n",
              "\n",
              "  <script>\n",
              "    async function quickchart(key) {\n",
              "      const quickchartButtonEl =\n",
              "        document.querySelector('#' + key + ' button');\n",
              "      quickchartButtonEl.disabled = true;  // To prevent multiple clicks.\n",
              "      quickchartButtonEl.classList.add('colab-df-spinner');\n",
              "      try {\n",
              "        const charts = await google.colab.kernel.invokeFunction(\n",
              "            'suggestCharts', [key], {});\n",
              "      } catch (error) {\n",
              "        console.error('Error during call to suggestCharts:', error);\n",
              "      }\n",
              "      quickchartButtonEl.classList.remove('colab-df-spinner');\n",
              "      quickchartButtonEl.classList.add('colab-df-quickchart-complete');\n",
              "    }\n",
              "    (() => {\n",
              "      let quickchartButtonEl =\n",
              "        document.querySelector('#df-25eacf37-7ec1-4f84-b218-7764fa9b556a button');\n",
              "      quickchartButtonEl.style.display =\n",
              "        google.colab.kernel.accessAllowed ? 'block' : 'none';\n",
              "    })();\n",
              "  </script>\n",
              "</div>\n",
              "\n",
              "    </div>\n",
              "  </div>\n"
            ],
            "application/vnd.google.colaboratory.intrinsic+json": {
              "type": "dataframe",
              "summary": "{\n  \"name\": \"docs\",\n  \"rows\": 10,\n  \"fields\": [\n    {\n      \"column\": \"docid\",\n      \"properties\": {\n        \"dtype\": \"string\",\n        \"num_unique_values\": 10,\n        \"samples\": [\n          \"D970533\",\n          \"D700799\",\n          \"D2111066\"\n        ],\n        \"semantic_type\": \"\",\n        \"description\": \"\"\n      }\n    },\n    {\n      \"column\": \"title\",\n      \"properties\": {\n        \"dtype\": \"string\",\n        \"num_unique_values\": 10,\n        \"samples\": [\n          \"How long does it take a Killdeer egg to hatch?\",\n          \"Holidays By Country \\u00c2\\u00bbHolidays By Religion \\u00c2\\u00bbOther Events \\u00c2\\u00bbCalendar Builder Email Reminders12 Popular NowNational Pizza Day 2017The Masters 2016Marine Corps Marathon 2016PAX Prime 2016Ash Wednesday 2016National Boyfriend Day 2016Teacher Appreciation Week 2016DragonCon 2016Comic Con 2016Winter Solstice 2016Daytona 500 2016Chinese New Year 2016Ramadan 2016Columbus Day 2016Oktoberfest 2016Stagecoach Festival 2016Electric Daisy Carnival 2016Summer Solstice 2016Victoria Day 2016Thanksgiving 2016Memorial Day 2016Labor Day 2016Election Day 2016Independence Day 2016Coachella 2016Christmas 2016Daylight Savings 2016SXSW 2016Home > Important Days > Daylight Savings > Daylight Savings 2014When is Daylight Savings in 2014?Spring Forward: The clocks are set ahead one hour during Spring Forward. In 2014, this occurs on Sunday, March 9th.Fall Back: The clocks are set back one hour during Fall Back. In 2014, this occurs on Sunday, November 2nd.What is Daylight Savings?Daylight Savings Time, or DST, in 2014 begins on the second Sunday of March and ends on the first Sunday of November. In March, clocks are moved forward one hour from 2am standard time to 3am DST, and in November, clocks are moved back one hour from 2am DST to 1am standard time. The phrase \\\"spring forward, fall back\\\" is a helpful reminder of these time changes.12 Calendar BuilderFULL YEARMONTHAmerican HolidaysAustralian HolidaysCanadian HolidaysChinese HolidaysUK HolidaysBuddhist HolidaysChristian HolidaysHindu HolidaysJewish HolidaysMuslim HolidaysIndian HolidaysGerman HolidaysNew Zealand HolidaysMalaysia HolidaysFrench HolidaysMexican HolidaysEmail RemindersAmerican HolidaysAustralian HolidaysCanadian HolidaysChinese HolidaysUK HolidaysBuddhist HolidaysChristian HolidaysHindu HolidaysJewish HolidaysMuslim HolidaysIndian HolidaysGerman HolidaysNew Zealand HolidaysMalaysia HolidaysFrench HolidaysMexican HolidaysWhen are other Important Days in 2014?Christmas In July 2014Half Christmas 2014Daylight Savings 2014Earth Day 2014New Years 2014Arbor Day 2014World Water Day 2014Summer Solstice 2014Full Moon 2014National Ugly Christmas Sweater Day 2014Winter Solstice 2014International Talk Like A Pirate Day 2014International Bacon Day 2014World Water Day 2014Harvest Moon 2014Blood Moon 2014National Grandparents Day 2014National Dog Day 2014Folsom Street Fair 2014National Day of Prayer 2014Boss' Day 2014National Cat Day 2014National Boyfriend Day 2014Sweetest Day 2014Constitution Day 2014Son and Daughter Day 2014Nobel Prizes 2014International Beer Day 2014London Fashion Week 2014New York Fashion Week 2014Victoria's Secret Fashion Show 201412 What Do You Think About Daylight Savings 2014?Nickname:*Kizin says: November 6, 2014In Arizona, we don't recognize Daylight Savings Time...just like we don't recognize the entire US Constitution. You see, in Arizona, we don't even want time to change at all. It would be best if the Confederates had won the war.Anonymous1207 says: November 2, 2014I disagree with all of you. Daylight savings time has been in this country since Benjamin Franklin and is in an odd way, a historical monument to his life and the things he did for the country. If we do away with this, what else from that time era, or even before then, do you think the government will try to do away with?? There is no \\\"more perfect union\\\" to be found in we, the people of today. You're all to busy complaining about your lives and how inconvinient one simple adjustment is twice a year -.- I used to be proud to be an American. Then I realized how many others have lost their own sense of national pride. Shooting fire works once a year doesn't make you a patriot. And complaining about an idea brought upon by one of our founding fathers, an idea that -whether you realize it or not - has played a role in shaping our history seems more of a government ploy of today to try to erase our history from our youth so we no longer question them. Never before in the history of the United States of America have the people let the government get away with so much. And now you all are playing right into their hands. Good job, America. Good job -.-farmery#1 says: October 29, 2014Farmers don't care what time it is; we don't work in an office. Get up with the sun.Eryk says: October 26, 2014I believe that DST is pointless. It is an idea whose time has come and gone. Shifting the clocks doesn't save anything. All it does is disrupt everyone's life twice a year. People, farmers included, are quite capable of adjusting their schedules as needed without any help from the government. Standard time year round would work just fine for me.Realfarmer says: October 24, 2014They didn't start dst for farmers, we get up with the sun and work way after dark so don't blame us.Beth Garrett says: October 20, 2014I think we should NOT have daylight savings time. I think there are problems for school children and for drivers who don't get enough sleep when the change is made in the spring. Also, when daylight is later in the evening, it is hard for people to get settled down and get to bed - especially school children. I don't think the savings warrant it.Maggie May says: October 19, 2014Just change it permanently thirty minutes...then you can be thirty minutes glad or thirty minutes sad if we can't stay on Standard Time.Nursey says: October 5, 2014I work with people who don't understand time. It is hard to adjust their meals, bedtimes etc. I don't care which way they go just don't change my clock twice a year!!GADAVE says: October 2, 2014Enough already....time to do away with DST.Rumpus says: September 28, 2014Get rid of DST, keep standard time. DST is just another way of trying to fool oneself that by doing so we are saving something. When lies are repeated over and over again then it will be accepted as truth. Do we want to make this \\\"The American Way\\\"?Grammy says: September 22, 2014It is no longer necessary we should split the time in half, turn the clocks back 1/2 hour in nov and then never have to change them again!! I lived in Arizona for 6 years we did not change the clocks! I do not like having my kids go to school in the dark nor do I like them coming home in the dark there are to many crazies out there, the 1/2 hour (then never change again) would remedy some of the problem as it would be light both in the morning and the evening!instead of pitch black at one or the other due to time changes!farmerkings says: September 19, 2014Yes it is for farming that's why we have itmvm says: September 18, 2014It is outdated, and unnecessary... keep the time the same all year long.Savannah says: September 4, 2014I din't like it. It is not logical and should be done away with. i agree with a previous comment about changing our lives and not the clocks, but I also don't understand why we don't just add an extra two hours to our work days and have three day weekends, an extra two hours is nothing compared to having to drag out of bed, get dressed, take children to daycafre, fight morning traffic just because we are stuck in the 18th century. It's the 21st century and progress is nowhere to be seen.Stick with Standard says: August 25, 2014Daylight Saving Time is ridiculous. It's an outdated, unnecessary tribute to government meddling in yet another part of our lives. Nobody should be 'forced' to adjust sleep or work habits to adapt twice a year to an archaic tradition. Leave it on Standard and leave it alone.Bumpus says: July 24, 2014I LOVE spring forward but HATE fall back. I guess you can't have one without the other, though.Finnoah says: May 26, 2014I live in Arizona so this doesn't affect me except that my parents live on the East coast and during the summer months as I'm getting off work, they're going to bed so sometimes I catch them sleep talking to me. (:Rainesy. says: April 4, 2014I HATE IT, NORMAL PEOPLE LIKE NORMAL TIME.Azriel says: March 9, 2014Hate it. It does nothing good for the people and only screws up their biological clock and also more people are fired for being late to work during this time period.In Arizona, they do not do the daylight savings time switch. Smart move I say. Too bad for the rest of us.wakeup says: March 9, 2014Society as a whole saves a lot with daylight savings. A city, county, state, nation saves enormous amounts in electricity costs in the morning and at night. Stop complaining and be more adaptable. It's the key to survival.hatesdst says: March 9, 2014I hate DST. Why can't the will of US citizens determine if we have DST.Brombsby says: March 7, 2014Just to be clear it is not \\\"Savings\\\" but \\\"Saving\\\". \\\"Savings\\\" is what you get at your local grocery store!HAMBONE says: March 7, 2014SILLY I LIKE SUNPet lover says: March 7, 2014I believe it is for farming purposes#Mickey Mouse says: March 7, 2014I don't like it!!!!!!!!!!!!!!!!!!!!!!!!!!!!!!!!!!!!!!!!!!!!!!!!!!!!!!!hmm says: March 6, 2014We set up one hour on Saturday at 2 am rightjojo says: March 5, 2014yes i'm with jimntherock move 30 min then leave it aloneret4lif says: March 5, 2014I absolute hate it. Its like being in jet lag for 9 months. It takes me several months to get kinda adjusted to DST. Study's show that it doesn't accomplish anything least of all energy usage. I still turn my lights on at about the same time even in DST. So where is the savings. I would like to just go to normal time and stay there. We would save so much in lost productivity, health, and probably energy.Lisa says: March 3, 2014Love iteab says: March 2, 2014Just pick one and leave it alone!Amieux says: March 1, 2014Why can't we just leave the clocks on Standard Time and adjust our lives accordingly? Changing the clocks is an idea that has seen it's day. Time for a change, America!!!!!!!!!!!! Let's Standardize!!!!!!peaceful says: February 26, 2014I think it is a bad idea, just leave the time the same all year we have enough disturbances to deal with and now they are starting earlier and ending later...do not like it at alltired says: February 25, 2014Like the old Indian said \\\"only the government would think that by cutting one foot off a blanket and sewing it on the other end that you'd get a longer blanket\\\". How true.mndy says: February 25, 2014It is bad for the health, I detest it. It should be brought back like years ago when we had to vote for it.Canada says: February 25, 2014need to leave DS alone. no more changing clocks it bothersome and annoyingdeb says: February 24, 2014It is to give us daylight later in the summer. Does it really benefit anyone?? Kids have to go to bed in the daylight. Farmers still have the same hours of light. Probably not much benefit to anyone.Woody says: February 24, 2014Leave the clocks on daylight savings time all year around, don't fall back for the winter, it is better to stay light as long a possible throughout the whole year.Moderntimesdoesn't needthis. says: February 15, 2014I moved to Indiana for my four years of college - and there was no changing of the clocks. I loved it! It made so much sense and was so easy. Then I moved back to the East coast. Daylight savings in just wrong.Marty says: February 8, 2014I see absolutely no reason for having to change the clock twice a year. No one gains a thing.ms.angelize says: January 3, 2014JUST LET IT BE!!!! Would Love for the sun to still be up when you get off work, it is rejuvenating !!! Please leave the time alone...Darla says: December 19, 2013I got in car accident because of it . Loosing an hrs makes a huge difference. It takes me weeks to ajust. Its stupid and it suckstoofoo says: November 2, 2013I don't know too many fans of daylight savings. I vote that we abolish it and stay on the same time year around.Texasgardner says: October 31, 2013I love daylight saving time, even as a retired person. On standard time, it is dark by 6:00 p.m. and you feel like it's time to go to bed. It makes it more difficult to go shopping in the dark. I feel safer going to stores during the daylight hours. I wish Texas would stay on daylight saving time year round. In south Texas, we have very few days that are cold and it's great to have those extra evening hours to be out. I think I'm going to leave my clocks on daylight saving time this winter and just subtract one hour when looking at them. I don't go to that many places with a set time anyway.jimntherock says: October 5, 2013I wish we could just settle for a 30 minute adjustment one time and forget it from there.DrivesMeNuts says: October 4, 2013DST is not only unnecessary, it reaks havoc on health, and is also costly when you analyze it. It should be stopped; who is making money off of it so as to keep saying we must have it?Yoda says: October 1, 2013Matters, it does not, early or late... Golfer seeks evening sun, he does... Upon early light, others depend... Golfer, selfish he is...  An equilibrium benefits both, in compromise... Like the Force, overwhelming one cannot be...Golfer needs daylight in winter says: September 8, 2013I wish we could leave the time alone. Set it to where it never gets dark before 7:00 in the winter which would be leave it like it is now. Never fall back. Then leave it alone.. The only reason we do this is for daylight in the morning. We do not need daylight in the morning, we are just going to school or work what does it matter if it don't get light out until 8 or 9 am.LadyDi says: March 3, 2013Absolutely ridiculous! My body clock is much harder to reset than my digital clocks. Why can't we just leave the clocks alone? If people want a different summer schedule, change your work hours.\",\n          \"After getting a flu shot how long does it take to develop antibodies agaist the flu?\"\n        ],\n        \"semantic_type\": \"\",\n        \"description\": \"\"\n      }\n    },\n    {\n      \"column\": \"body\",\n      \"properties\": {\n        \"dtype\": \"string\",\n        \"num_unique_values\": 10,\n        \"samples\": [\n          \"Answers.com \\u00ae Wiki Answers \\u00ae Categories Animal Life How long does it take a Killdeer egg to hatch? Flag How long does it take a Killdeer egg to hatch? Edit Answered by The Wiki Answers \\u00aeCommunity Answers.com \\u00ae is making the world better one answer at a time. Nests are lines with grass, woodchips and pebbles. The male scratches in the dirt to form a depression where the nest will be placed. After the nest is complete, the female lays a batch of four eggs. They are the same shape as a chicken's egg but much smaller. The eggs are light beige and spotted with brown or black. The female arranges the eggs in a circle. The rounded end always points outward. Because of the mottled color, the eggs are well camouflaged. Either the male or female is always at the nest protecting the eggs. Fluctuations of extreme heat or cold will damage the eggs and they will not hatch. Incubation is 3 to 4 weeks. The young work for 18 to 36 hours to escape the confines of the shell once they are fully formed. The shell is then removed from the nesting area by the adult birds. There is some facts about the nests too. info from www.essortment.com/all/birds killdeer _rnzj.htm www.essortment.com/all/birdskilldeer_rnzj.htm you're welcom From unknown6 people found this useful Was this answer useful? Yes Somewhat No Sami Younis 5 Contributions How long does it take to hatch a chicken egg?21 days Edit How long does it take to hatch a duck egg?around 28 days Edit How long do hummingbird eggs take to hatch? Humming Birds around this area are VERY rare,and it takes about 1 000 000 years for them to hatch!! Hard to belive but true!! !Edit Warbler 110 Contributions How long does it take for a parrots egg to hatch? The time greatly varies on the type of bird. I suggest you clarify. Edit How long does it take to hatch an Eevee egg? My eevee egg took about 4200 steps using the solaceon town route and a macargo. Edit XXashx15 46 Contributions How long do ladybug eggs take to hatch? Ladybug eggs can hatch in 2-5 days after laid. Edit Alisha Williams 18,156 Contributions Work in progress. How long does it take a swan egg to hatch? It takes approximately 32 - 40 days depending on the breed of swan. Edit On the Wallaby 2,874,807 Contributions Passionate about all things Australian How long does it take an egg to hatch? The length of time it takes an egg to hatch depends entirely upon the species. Insect and spider eggs may take a matter of days to hatch, but some insect eggs overwinter and m \\u2026How long does it take for a killdeer egg to hatch?23 to 26 days Edit When a peahen lays eggs will they hatch and how long does it take for them to hatch?peahen lays eggs between may to august. it takes 22 to 28 days to hatch eggs. Edit How long does it take killdeer eggs to hatch?24-26 days Edit James Dawe 216,095 Contributions Started career as professional chef then a district sales manager for a wine & spirits company. Retired in 2005, breeding Araucana chickens. How long does it take a peewee egg to hatch? In the case of eggs, size does not matter. A fertilized peewee egg when subject to proper incubation conditions will take 21 days to hatch the same time it takes a jumbo egg t \\u2026Answered In Saltwater Fish How long does it take for a stingray egg to hatch?1 hour Edit Answered In Frogs How long does it take a for a frog egg to hatch?it takes 2-3 weeks I think. Edit Answered In Ferrets Weasels and Badgers How long does it take for weasel eggs to hatch?no time because weasels are born like dogs Edit The Bird Lady 386 Contributions Answered In Animal Life How long does it take penguin to hatch egg after it is hatch? Most eggs take about 34-35 days to hatch. The first egg laid takes about a day longer to hatch than the second egg (33 days). They hatch about 1.5 apart. Edit Answered In Animal Life How long till a baby killdeer hatches?25 to 40 days Edit \",\n          \"Home > Important Days > Daylight Savings > Daylight Savings 2014When is Daylight Savings in 2014? Spring Forward: The clocks are set ahead one hour during Spring Forward. In 2014, this occurs on Sunday, March 9th. Fall Back: The clocks are set back one hour during Fall Back. In 2014, this occurs on Sunday, November 2nd. What is Daylight Savings? Daylight Savings Time, or DST, in 2014 begins on the second Sunday of March and ends on the first Sunday of November. In March, clocks are moved forward one hour from 2am standard time to 3am DST, and in November, clocks are moved back one hour from 2am DST to 1am standard time. The phrase \\\"spring forward, fall back\\\" is a helpful reminder of these time changes. \",\n          \"Celticballa568 19 Contributions After getting a flu shot how long does it take to develop antibodies agaist the flu? IT takes 2 weeks Edit How Long do tetanus shots last? Tetanus comes in a jab with the followin: Tetanus, diptheria, pertussis and polio. Normally, children SHOULD have it when they are 5 years old. The \\\"top up\\\" is when they are 1 \\u2026How long does a tetanus shot last? Usually about 10 years, but it depends on if the cut is very dirty.... If you get hurt on a nail about 5 years.... Edit How long does the tetanus shot last? Three years. Edit How long does it hurt for if you take a shot? - It depends what kind of shot you get, have or how old you are, for elementary school kids is 1-2 or 3 days, teens are about one week and adult, I don't know - It \\u2026Martypolston 4 Contributions How long after injury do you get tetanus shot? Within a day you should get a tetanus shot, preferably as soon as you can get to the physician. Edit Can i take Xanax and get a tetanus shot? I was looking to find this out for myself, but cant find anything on it!! I got a shot today, and just took a xanax without thinking about it first. Too late....so we shall se \\u2026D4est 118,872 Contributions How long does it take to develop immunity after a flu shot? It can vary person to person depending on the health of their immune systems. For trivalent seasonal flu vaccine (including those containing the H1N1/09 swine flu vaccine), i \\u2026Jabbotuk 43 Contributions How long do booster shots take? Just a few seconds. By the time you feel the needle, the shot is almost over. Edit Prakriti Anand 218 Contributions MBBS@AIIMSHow long does it take for the symptoms of tetanus to show up?around 7 days. Edit Sammustanggirl92 5 Contributions What type of immunity do you get with a tetanus shot? Tetanus shots protect against diphtheria, tetanus, and pertussis. Edit How long does it take for a sore arm to heal after a tetanus booster shot? I recently had a tetanus shot and the nurse told me that my arm would be sore for up to three days. Edit \"\n        ],\n        \"semantic_type\": \"\",\n        \"description\": \"\"\n      }\n    }\n  ]\n}"
            }
          },
          "metadata": {},
          "execution_count": 27
        },
        {
          "output_type": "stream",
          "name": "stdout",
          "text": [
            "time: 20.2 ms (started: 2025-03-20 08:12:37 +00:00)\n"
          ]
        }
      ],
      "source": [
        "docs.loc[pred10i]"
      ]
    },
    {
      "cell_type": "code",
      "execution_count": null,
      "id": "40f071cb-224f-4c77-9811-31e7be389ca8",
      "metadata": {
        "id": "40f071cb-224f-4c77-9811-31e7be389ca8",
        "colab": {
          "base_uri": "https://localhost:8080/",
          "height": 415
        },
        "outputId": "0bf51989-9ad1-4582-c03f-b4f3029dcae5"
      },
      "outputs": [
        {
          "output_type": "execute_result",
          "data": {
            "text/plain": [
              "11957    D2408424\n",
              "43190     D700799\n",
              "91275    D3090762\n",
              "66313    D2956542\n",
              "83787    D1951655\n",
              "3686     D2111066\n",
              "76873    D1444724\n",
              "48618     D467553\n",
              "76731     D970533\n",
              "48830    D1829756\n",
              "Name: docid, dtype: object"
            ],
            "text/html": [
              "<div>\n",
              "<style scoped>\n",
              "    .dataframe tbody tr th:only-of-type {\n",
              "        vertical-align: middle;\n",
              "    }\n",
              "\n",
              "    .dataframe tbody tr th {\n",
              "        vertical-align: top;\n",
              "    }\n",
              "\n",
              "    .dataframe thead th {\n",
              "        text-align: right;\n",
              "    }\n",
              "</style>\n",
              "<table border=\"1\" class=\"dataframe\">\n",
              "  <thead>\n",
              "    <tr style=\"text-align: right;\">\n",
              "      <th></th>\n",
              "      <th>docid</th>\n",
              "    </tr>\n",
              "  </thead>\n",
              "  <tbody>\n",
              "    <tr>\n",
              "      <th>11957</th>\n",
              "      <td>D2408424</td>\n",
              "    </tr>\n",
              "    <tr>\n",
              "      <th>43190</th>\n",
              "      <td>D700799</td>\n",
              "    </tr>\n",
              "    <tr>\n",
              "      <th>91275</th>\n",
              "      <td>D3090762</td>\n",
              "    </tr>\n",
              "    <tr>\n",
              "      <th>66313</th>\n",
              "      <td>D2956542</td>\n",
              "    </tr>\n",
              "    <tr>\n",
              "      <th>83787</th>\n",
              "      <td>D1951655</td>\n",
              "    </tr>\n",
              "    <tr>\n",
              "      <th>3686</th>\n",
              "      <td>D2111066</td>\n",
              "    </tr>\n",
              "    <tr>\n",
              "      <th>76873</th>\n",
              "      <td>D1444724</td>\n",
              "    </tr>\n",
              "    <tr>\n",
              "      <th>48618</th>\n",
              "      <td>D467553</td>\n",
              "    </tr>\n",
              "    <tr>\n",
              "      <th>76731</th>\n",
              "      <td>D970533</td>\n",
              "    </tr>\n",
              "    <tr>\n",
              "      <th>48830</th>\n",
              "      <td>D1829756</td>\n",
              "    </tr>\n",
              "  </tbody>\n",
              "</table>\n",
              "</div><br><label><b>dtype:</b> object</label>"
            ]
          },
          "metadata": {},
          "execution_count": 28
        },
        {
          "output_type": "stream",
          "name": "stdout",
          "text": [
            "time: 6.4 ms (started: 2025-03-20 08:12:38 +00:00)\n"
          ]
        }
      ],
      "source": [
        "docs.loc[pred10i].docid"
      ]
    },
    {
      "cell_type": "code",
      "execution_count": null,
      "id": "626f69aa-157f-44f9-bca0-9c03b3855a66",
      "metadata": {
        "id": "626f69aa-157f-44f9-bca0-9c03b3855a66",
        "colab": {
          "base_uri": "https://localhost:8080/",
          "height": 476
        },
        "outputId": "5bf74f7a-f1b8-4153-c2ff-f7293e3a4c5e"
      },
      "outputs": [
        {
          "output_type": "execute_result",
          "data": {
            "text/plain": [
              "36200    D2865964\n",
              "36201    D3557816\n",
              "36202    D2723985\n",
              "36203    D1951655\n",
              "36204    D1709749\n",
              "           ...   \n",
              "36295    D2531901\n",
              "36296    D2956542\n",
              "36297     D301873\n",
              "36298    D2952336\n",
              "36299    D1805809\n",
              "Name: docid, Length: 100, dtype: object"
            ],
            "text/html": [
              "<div>\n",
              "<style scoped>\n",
              "    .dataframe tbody tr th:only-of-type {\n",
              "        vertical-align: middle;\n",
              "    }\n",
              "\n",
              "    .dataframe tbody tr th {\n",
              "        vertical-align: top;\n",
              "    }\n",
              "\n",
              "    .dataframe thead th {\n",
              "        text-align: right;\n",
              "    }\n",
              "</style>\n",
              "<table border=\"1\" class=\"dataframe\">\n",
              "  <thead>\n",
              "    <tr style=\"text-align: right;\">\n",
              "      <th></th>\n",
              "      <th>docid</th>\n",
              "    </tr>\n",
              "  </thead>\n",
              "  <tbody>\n",
              "    <tr>\n",
              "      <th>36200</th>\n",
              "      <td>D2865964</td>\n",
              "    </tr>\n",
              "    <tr>\n",
              "      <th>36201</th>\n",
              "      <td>D3557816</td>\n",
              "    </tr>\n",
              "    <tr>\n",
              "      <th>36202</th>\n",
              "      <td>D2723985</td>\n",
              "    </tr>\n",
              "    <tr>\n",
              "      <th>36203</th>\n",
              "      <td>D1951655</td>\n",
              "    </tr>\n",
              "    <tr>\n",
              "      <th>36204</th>\n",
              "      <td>D1709749</td>\n",
              "    </tr>\n",
              "    <tr>\n",
              "      <th>...</th>\n",
              "      <td>...</td>\n",
              "    </tr>\n",
              "    <tr>\n",
              "      <th>36295</th>\n",
              "      <td>D2531901</td>\n",
              "    </tr>\n",
              "    <tr>\n",
              "      <th>36296</th>\n",
              "      <td>D2956542</td>\n",
              "    </tr>\n",
              "    <tr>\n",
              "      <th>36297</th>\n",
              "      <td>D301873</td>\n",
              "    </tr>\n",
              "    <tr>\n",
              "      <th>36298</th>\n",
              "      <td>D2952336</td>\n",
              "    </tr>\n",
              "    <tr>\n",
              "      <th>36299</th>\n",
              "      <td>D1805809</td>\n",
              "    </tr>\n",
              "  </tbody>\n",
              "</table>\n",
              "<p>100 rows × 1 columns</p>\n",
              "</div><br><label><b>dtype:</b> object</label>"
            ]
          },
          "metadata": {},
          "execution_count": 29
        },
        {
          "output_type": "stream",
          "name": "stdout",
          "text": [
            "time: 8.01 ms (started: 2025-03-20 08:12:38 +00:00)\n"
          ]
        }
      ],
      "source": [
        "gold[gold.qid==251898].docid"
      ]
    },
    {
      "cell_type": "markdown",
      "id": "39524ba6-1176-49b1-9e40-afd1a2b5e1bd",
      "metadata": {
        "id": "39524ba6-1176-49b1-9e40-afd1a2b5e1bd"
      },
      "source": [
        "### 🚧 todo:\n",
        "- find the relevant documents that are in our top 10\n",
        "- user intersect1d\n",
        "- compute the precision p@10"
      ]
    },
    {
      "cell_type": "code",
      "execution_count": null,
      "id": "667c20bf-9a1f-4159-af18-83bb2a81d965",
      "metadata": {
        "id": "667c20bf-9a1f-4159-af18-83bb2a81d965",
        "colab": {
          "base_uri": "https://localhost:8080/"
        },
        "outputId": "92fc828f-dd1b-4737-c269-f86b51b892dc"
      },
      "outputs": [
        {
          "output_type": "execute_result",
          "data": {
            "text/plain": [
              "array(['D1951655', 'D2408424', 'D2956542', 'D3090762'], dtype=object)"
            ]
          },
          "metadata": {},
          "execution_count": 40
        },
        {
          "output_type": "stream",
          "name": "stdout",
          "text": [
            "time: 9.34 ms (started: 2025-03-20 08:22:30 +00:00)\n"
          ]
        }
      ],
      "source": [
        "actual = gold[gold.qid==251898].docid\n",
        "found = docs.loc[pred10i].docid\n",
        "intersection = np.intersect1d(found, actual)\n",
        "intersection"
      ]
    },
    {
      "cell_type": "code",
      "execution_count": null,
      "id": "12a703c3-4de5-454d-8969-7b20ecbffe15",
      "metadata": {
        "id": "12a703c3-4de5-454d-8969-7b20ecbffe15",
        "colab": {
          "base_uri": "https://localhost:8080/"
        },
        "outputId": "84b4ecd9-8197-4f8d-a983-658be2cc371a"
      },
      "outputs": [
        {
          "output_type": "execute_result",
          "data": {
            "text/plain": [
              "0.4"
            ]
          },
          "metadata": {},
          "execution_count": 31
        },
        {
          "output_type": "stream",
          "name": "stdout",
          "text": [
            "time: 2.2 ms (started: 2025-03-20 08:12:40 +00:00)\n"
          ]
        }
      ],
      "source": [
        "precision = len(intersection) / min(10, len(found))\n",
        "precision"
      ]
    },
    {
      "cell_type": "code",
      "execution_count": null,
      "id": "b9fb0873-3a0d-4025-8992-88a190f69668",
      "metadata": {
        "id": "b9fb0873-3a0d-4025-8992-88a190f69668",
        "colab": {
          "base_uri": "https://localhost:8080/"
        },
        "outputId": "f317f203-41a0-48ef-9509-984095a2d3f8"
      },
      "outputs": [
        {
          "output_type": "execute_result",
          "data": {
            "text/plain": [
              "0.4"
            ]
          },
          "metadata": {},
          "execution_count": 41
        },
        {
          "output_type": "stream",
          "name": "stdout",
          "text": [
            "time: 17 ms (started: 2025-03-20 08:22:48 +00:00)\n"
          ]
        }
      ],
      "source": [
        "# 🚧 todo: build a function p@10 that gives the precision at 10\n",
        "def pAt10(qid):\n",
        "\n",
        "    query_text = queries[queries.qid == qid][\"query\"].values[0]\n",
        "    qv = vectorizer.transform([query_text])\n",
        "\n",
        "    xqv = (X.dot(qv.T)).toarray().flatten()\n",
        "    top_10_indices = np.argpartition(-xqv, 10)[:10]  # top 10 document indices\n",
        "    found_docs = set(docs.iloc[top_10_indices][\"docid\"])  # top 10 doc IDs\n",
        "    gold_docs = set(gold[gold.qid == qid][\"docid\"])\n",
        "\n",
        "    intersection = np.intersect1d(list(found_docs), list(gold_docs))\n",
        "    precision = len(intersection) / 10\n",
        "\n",
        "    return precision\n",
        "\n",
        "pAt10(251898)\n"
      ]
    },
    {
      "cell_type": "markdown",
      "id": "23227936-0403-49ec-8231-c273a628809c",
      "metadata": {
        "id": "23227936-0403-49ec-8231-c273a628809c"
      },
      "source": [
        "### 🚧 todo:\n",
        "- take our 500 training queries qid\n",
        "- apply our function\n",
        "- compute the average"
      ]
    },
    {
      "cell_type": "code",
      "execution_count": null,
      "id": "93540efe-a6aa-4e1b-9f18-cb1635c78480",
      "metadata": {
        "id": "93540efe-a6aa-4e1b-9f18-cb1635c78480",
        "colab": {
          "base_uri": "https://localhost:8080/",
          "height": 476
        },
        "outputId": "8b1dbe46-2bc4-4168-b27e-00360a73ab93"
      },
      "outputs": [
        {
          "output_type": "execute_result",
          "data": {
            "text/plain": [
              "0      687888\n",
              "1      480210\n",
              "2      591004\n",
              "3      260536\n",
              "4       39422\n",
              "        ...  \n",
              "495    133970\n",
              "496     79788\n",
              "497    791583\n",
              "498    732078\n",
              "499    197098\n",
              "Name: qid, Length: 500, dtype: int64"
            ],
            "text/html": [
              "<div>\n",
              "<style scoped>\n",
              "    .dataframe tbody tr th:only-of-type {\n",
              "        vertical-align: middle;\n",
              "    }\n",
              "\n",
              "    .dataframe tbody tr th {\n",
              "        vertical-align: top;\n",
              "    }\n",
              "\n",
              "    .dataframe thead th {\n",
              "        text-align: right;\n",
              "    }\n",
              "</style>\n",
              "<table border=\"1\" class=\"dataframe\">\n",
              "  <thead>\n",
              "    <tr style=\"text-align: right;\">\n",
              "      <th></th>\n",
              "      <th>qid</th>\n",
              "    </tr>\n",
              "  </thead>\n",
              "  <tbody>\n",
              "    <tr>\n",
              "      <th>0</th>\n",
              "      <td>687888</td>\n",
              "    </tr>\n",
              "    <tr>\n",
              "      <th>1</th>\n",
              "      <td>480210</td>\n",
              "    </tr>\n",
              "    <tr>\n",
              "      <th>2</th>\n",
              "      <td>591004</td>\n",
              "    </tr>\n",
              "    <tr>\n",
              "      <th>3</th>\n",
              "      <td>260536</td>\n",
              "    </tr>\n",
              "    <tr>\n",
              "      <th>4</th>\n",
              "      <td>39422</td>\n",
              "    </tr>\n",
              "    <tr>\n",
              "      <th>...</th>\n",
              "      <td>...</td>\n",
              "    </tr>\n",
              "    <tr>\n",
              "      <th>495</th>\n",
              "      <td>133970</td>\n",
              "    </tr>\n",
              "    <tr>\n",
              "      <th>496</th>\n",
              "      <td>79788</td>\n",
              "    </tr>\n",
              "    <tr>\n",
              "      <th>497</th>\n",
              "      <td>791583</td>\n",
              "    </tr>\n",
              "    <tr>\n",
              "      <th>498</th>\n",
              "      <td>732078</td>\n",
              "    </tr>\n",
              "    <tr>\n",
              "      <th>499</th>\n",
              "      <td>197098</td>\n",
              "    </tr>\n",
              "  </tbody>\n",
              "</table>\n",
              "<p>500 rows × 1 columns</p>\n",
              "</div><br><label><b>dtype:</b> int64</label>"
            ]
          },
          "metadata": {},
          "execution_count": 33
        },
        {
          "output_type": "stream",
          "name": "stdout",
          "text": [
            "time: 5.46 ms (started: 2025-03-20 08:12:43 +00:00)\n"
          ]
        }
      ],
      "source": [
        "training_queries.qid"
      ]
    },
    {
      "cell_type": "code",
      "execution_count": null,
      "id": "154d615f-6e62-43d6-aba9-88ec14d77b8f",
      "metadata": {
        "id": "154d615f-6e62-43d6-aba9-88ec14d77b8f",
        "colab": {
          "base_uri": "https://localhost:8080/",
          "height": 476
        },
        "outputId": "c44755ce-4adc-424c-f020-346bc5983c96"
      },
      "outputs": [
        {
          "output_type": "execute_result",
          "data": {
            "text/plain": [
              "0      0.0\n",
              "1      0.5\n",
              "2      0.2\n",
              "3      0.5\n",
              "4      0.2\n",
              "      ... \n",
              "495    0.6\n",
              "496    0.2\n",
              "497    0.0\n",
              "498    0.1\n",
              "499    0.4\n",
              "Name: qid, Length: 500, dtype: float64"
            ],
            "text/html": [
              "<div>\n",
              "<style scoped>\n",
              "    .dataframe tbody tr th:only-of-type {\n",
              "        vertical-align: middle;\n",
              "    }\n",
              "\n",
              "    .dataframe tbody tr th {\n",
              "        vertical-align: top;\n",
              "    }\n",
              "\n",
              "    .dataframe thead th {\n",
              "        text-align: right;\n",
              "    }\n",
              "</style>\n",
              "<table border=\"1\" class=\"dataframe\">\n",
              "  <thead>\n",
              "    <tr style=\"text-align: right;\">\n",
              "      <th></th>\n",
              "      <th>qid</th>\n",
              "    </tr>\n",
              "  </thead>\n",
              "  <tbody>\n",
              "    <tr>\n",
              "      <th>0</th>\n",
              "      <td>0.0</td>\n",
              "    </tr>\n",
              "    <tr>\n",
              "      <th>1</th>\n",
              "      <td>0.5</td>\n",
              "    </tr>\n",
              "    <tr>\n",
              "      <th>2</th>\n",
              "      <td>0.2</td>\n",
              "    </tr>\n",
              "    <tr>\n",
              "      <th>3</th>\n",
              "      <td>0.5</td>\n",
              "    </tr>\n",
              "    <tr>\n",
              "      <th>4</th>\n",
              "      <td>0.2</td>\n",
              "    </tr>\n",
              "    <tr>\n",
              "      <th>...</th>\n",
              "      <td>...</td>\n",
              "    </tr>\n",
              "    <tr>\n",
              "      <th>495</th>\n",
              "      <td>0.6</td>\n",
              "    </tr>\n",
              "    <tr>\n",
              "      <th>496</th>\n",
              "      <td>0.2</td>\n",
              "    </tr>\n",
              "    <tr>\n",
              "      <th>497</th>\n",
              "      <td>0.0</td>\n",
              "    </tr>\n",
              "    <tr>\n",
              "      <th>498</th>\n",
              "      <td>0.1</td>\n",
              "    </tr>\n",
              "    <tr>\n",
              "      <th>499</th>\n",
              "      <td>0.4</td>\n",
              "    </tr>\n",
              "  </tbody>\n",
              "</table>\n",
              "<p>500 rows × 1 columns</p>\n",
              "</div><br><label><b>dtype:</b> float64</label>"
            ]
          },
          "metadata": {},
          "execution_count": 34
        },
        {
          "output_type": "stream",
          "name": "stdout",
          "text": [
            "time: 4.81 s (started: 2025-03-20 08:12:44 +00:00)\n"
          ]
        }
      ],
      "source": [
        "training_precision = training_queries.qid.apply(pAt10)\n",
        "training_precision"
      ]
    },
    {
      "cell_type": "code",
      "execution_count": null,
      "id": "0a29b6aa-a19b-4700-8fef-eb5d2e82ac28",
      "metadata": {
        "id": "0a29b6aa-a19b-4700-8fef-eb5d2e82ac28",
        "colab": {
          "base_uri": "https://localhost:8080/"
        },
        "outputId": "ed83af12-907d-4fb1-d4cb-fea24098df14"
      },
      "outputs": [
        {
          "output_type": "execute_result",
          "data": {
            "text/plain": [
              "np.float64(0.319)"
            ]
          },
          "metadata": {},
          "execution_count": 35
        },
        {
          "output_type": "stream",
          "name": "stdout",
          "text": [
            "time: 4.34 ms (started: 2025-03-20 08:12:49 +00:00)\n"
          ]
        }
      ],
      "source": [
        "training_precision.mean()"
      ]
    },
    {
      "cell_type": "markdown",
      "id": "f3a482be-d400-4c9b-a122-3f9c62c2f365",
      "metadata": {
        "id": "f3a482be-d400-4c9b-a122-3f9c62c2f365"
      },
      "source": [
        "- that looks like a baseline we can beat :)\n",
        "- what's the query we are doing best in?\n",
        "    - max?"
      ]
    },
    {
      "cell_type": "code",
      "execution_count": null,
      "id": "25e9a7d0-c44b-4b9f-b9ec-52d6422b269b",
      "metadata": {
        "id": "25e9a7d0-c44b-4b9f-b9ec-52d6422b269b",
        "colab": {
          "base_uri": "https://localhost:8080/"
        },
        "outputId": "e1becbbf-5aff-4256-fb9a-82fac51919b9"
      },
      "outputs": [
        {
          "output_type": "stream",
          "name": "stdout",
          "text": [
            "The id of the query that we are doing best in :  127412  with precision :  1.0\n",
            "time: 1.43 ms (started: 2025-03-20 08:12:51 +00:00)\n"
          ]
        }
      ],
      "source": [
        "training_precision.max()\n",
        "best_query_id = training_queries.qid.iloc[training_precision.idxmax()]\n",
        "print(\"The id of the query that we are doing best in : \", best_query_id, \" with precision : \", training_precision.max())"
      ]
    },
    {
      "cell_type": "markdown",
      "id": "baaca9c0-a7e1-46b5-9dc2-91eab2bf3b3d",
      "metadata": {
        "id": "baaca9c0-a7e1-46b5-9dc2-91eab2bf3b3d"
      },
      "source": [
        "- oh, we have just been lucky before..."
      ]
    },
    {
      "cell_type": "markdown",
      "id": "72e2f986-f3f9-4b90-b8a8-31b1250531b7",
      "metadata": {
        "id": "72e2f986-f3f9-4b90-b8a8-31b1250531b7"
      },
      "source": [
        "## 🚧 todo:\n",
        "\n",
        "- redo the vectorization and evaluation on the whole text, not only the titles\n",
        "- try the non-binary CountVectorizer\n",
        "- go for tf-idf\n",
        "    - play with at least two options and re-evaluate\n",
        "- find other improvements. these may include:\n",
        "    - cleaning the text\n",
        "    - heuristically combining title and body matches\n",
        "    - looking at bigrams\n",
        "    - looking at terms (by means of a clean multi-word term list from wikipedia, see notebook 1)\n",
        "    - by removing stopwords (look at nltk or spacy to do that)\n",
        "    - trying an implementation of bm25 (slow with standard implementation, see last cell if you want to do it)\n",
        "  \n",
        "- do a grid search with a few promising parameters\n",
        "    - maybe get inspired by GridSearchCV and pipelines in https://scikit-learn.org/stable/auto_examples/model_selection/grid_search_text_feature_extraction.html#sphx-glr-auto-examples-model-selection-grid-search-text-feature-extraction-py\n",
        "        - you can also check the weel-written section \"Pipelines\" in this book: https://www.oreilly.com/library/view/applied-text-analysis/9781491963036/ch04.html\n",
        "    - make a nice visualization of the results\n",
        "    \n",
        "- interpret the complete results in 3 to 5 sentences.\n",
        "    - what strategy would do best if we switch our evaluation to p@100?\n",
        "\n",
        "- give some ideas for improving the results\n",
        "\n",
        "\n",
        "\n"
      ]
    },
    {
      "cell_type": "markdown",
      "source": [
        "IMPORTANT : I WASNT ABLE TO RUN THE TWO LAST CELLS (GRID SEARCH AND PLOT DUE LIMITED RAM RESOURCES AND CRASHES) BUT KEPT THE CODE <br>\n",
        "ANSWER : <br>\n",
        "If we add stopwords filters, the p@10 decreases (from 0.045 to 0.33).<br>\n",
        "CountVectorizer with binary=True performs little better but overall Tf-idf significantly outperforms basic CountVectorizer, with an 88.74% precision@10 vs only 4.48%. The gap is also big for precision@100 (56.26% vs 3.04%)<br>\n",
        "This gap is due to Tf-idf using downweights on common words and valuing important terms\n",
        "\n",
        "Also, Using bigrams improves precision, which means that multi-word phrases matter <br>\n",
        "If we lower max_df, it will probably help in capturing more relevant documents by including more common terms but if we increase min_df, it might help in filtering out very rare terms that could add noise\n"
      ],
      "metadata": {
        "id": "hgG0VyQ8nbT1"
      },
      "id": "hgG0VyQ8nbT1"
    },
    {
      "cell_type": "code",
      "execution_count": null,
      "id": "39502d86-c7a8-4468-95b5-c0fe2e6c8db6",
      "metadata": {
        "id": "39502d86-c7a8-4468-95b5-c0fe2e6c8db6",
        "colab": {
          "base_uri": "https://localhost:8080/"
        },
        "outputId": "7e8b428b-d916-4b53-c34c-222334fefdb5"
      },
      "outputs": [
        {
          "output_type": "stream",
          "name": "stdout",
          "text": [
            "time: 7min 39s (started: 2025-03-20 08:13:09 +00:00)\n"
          ]
        }
      ],
      "source": [
        "# Function for leaning text\n",
        "# remove words with numbers inside\n",
        "# replace new lines by space\n",
        "# remove urls\n",
        "# only keep ascii words\n",
        "\n",
        "def clean_text(text):\n",
        "    text=re.sub('\\w*\\d+\\w*','', text)\n",
        "    text = re.sub(r'\\s+', ' ', text)  # new lines with space\n",
        "    text = re.sub(r'http\\S+', '', text)  # URLs\n",
        "    text = re.sub(r'[^a-zA-Z\\s]', '', text)  # ASCII words\n",
        "    text = text.lower()  # lowercase\n",
        "    return text\n",
        "\n",
        "# Cleaning corpus using RegEx\n",
        "docs['cleaned']=docs['body'].apply(lambda x: clean_text(x))\n"
      ]
    },
    {
      "cell_type": "code",
      "execution_count": null,
      "id": "7cb42c1e-827f-48fe-8aa2-4d285625bbea",
      "metadata": {
        "id": "7cb42c1e-827f-48fe-8aa2-4d285625bbea",
        "colab": {
          "base_uri": "https://localhost:8080/"
        },
        "outputId": "902bb045-a49a-4b76-93cc-19b5d4374c0d"
      },
      "outputs": [
        {
          "output_type": "stream",
          "name": "stdout",
          "text": [
            "time: 2min 44s (started: 2025-03-16 20:12:22 +00:00)\n"
          ]
        }
      ],
      "source": [
        "vectorizer_binary = CountVectorizer(binary=True)\n",
        "X_binary = vectorizer_binary.fit_transform(docs[\"cleaned\"])"
      ]
    },
    {
      "cell_type": "code",
      "execution_count": null,
      "id": "369e905c-36cd-45c2-817b-4d9c24724be3",
      "metadata": {
        "id": "369e905c-36cd-45c2-817b-4d9c24724be3",
        "colab": {
          "base_uri": "https://localhost:8080/"
        },
        "outputId": "233fd9f2-ced5-4ae3-dfdf-8d8ec5a525f6"
      },
      "outputs": [
        {
          "output_type": "stream",
          "name": "stdout",
          "text": [
            "time: 2min 54s (started: 2025-03-16 20:15:07 +00:00)\n"
          ]
        }
      ],
      "source": [
        "vectorizer_count = CountVectorizer(binary=False)\n",
        "X_count = vectorizer_count.fit_transform(docs[\"cleaned\"])"
      ]
    },
    {
      "cell_type": "code",
      "execution_count": null,
      "id": "4cc0ab9b-ff88-41e9-96c6-c21969303775",
      "metadata": {
        "id": "4cc0ab9b-ff88-41e9-96c6-c21969303775",
        "colab": {
          "base_uri": "https://localhost:8080/"
        },
        "outputId": "7fca78a0-36b3-4ff8-9945-03808a80c97a"
      },
      "outputs": [
        {
          "output_type": "stream",
          "name": "stdout",
          "text": [
            "time: 2min 58s (started: 2025-03-16 20:18:02 +00:00)\n"
          ]
        }
      ],
      "source": [
        "from sklearn.feature_extraction.text import TfidfVectorizer\n",
        "\n",
        "vectorizer_tfidf = TfidfVectorizer()\n",
        "X_tfidf = vectorizer_tfidf.fit_transform(docs[\"cleaned\"])"
      ]
    },
    {
      "cell_type": "code",
      "execution_count": null,
      "id": "6f249f2d-6449-4951-9514-e7116b861cde",
      "metadata": {
        "id": "6f249f2d-6449-4951-9514-e7116b861cde",
        "colab": {
          "base_uri": "https://localhost:8080/"
        },
        "outputId": "63b91347-ee3c-463b-e72e-e65ecffe76d4"
      },
      "outputs": [
        {
          "output_type": "stream",
          "name": "stdout",
          "text": [
            "time: 879 µs (started: 2025-03-16 20:21:00 +00:00)\n"
          ]
        }
      ],
      "source": [
        "def precision_at_k(qid, vectorizer, X, k):\n",
        "    #compute precision for a given qid and a vectorizer\n",
        "    query_text = queries[queries.qid == qid][\"query\"].values[0]\n",
        "    qv = vectorizer.transform([query_text])\n",
        "\n",
        "    xqv = (X.dot(qv.T)).toarray().flatten()\n",
        "    top_k_indices = np.argpartition(-xqv, k)[:k]\n",
        "    found_docs = set(docs.iloc[top_k_indices][\"docid\"])\n",
        "    gold_docs = set(gold[gold.qid == qid][\"docid\"])\n",
        "\n",
        "    intersection = np.intersect1d(list(found_docs), list(gold_docs))\n",
        "    precision = len(intersection) / k\n",
        "    return precision"
      ]
    },
    {
      "cell_type": "code",
      "source": [
        "precision_10_count = training_queries.qid.apply(lambda qid: precision_at_k(qid, vectorizer_count, X_count, k=10))\n",
        "precision_10_tfidf = training_queries.qid.apply(lambda qid: precision_at_k(qid, vectorizer_tfidf, X_tfidf, k=10))\n",
        "\n",
        "precision_100_count = training_queries.qid.apply(lambda qid: precision_at_k(qid, vectorizer_count, X_count, k=100))\n",
        "precision_100_tfidf = training_queries.qid.apply(lambda qid: precision_at_k(qid, vectorizer_tfidf, X_tfidf, k=100))\n",
        "\n",
        "print(\"Average p@10 - CountVectorizer:\", precision_10_count.mean())\n",
        "print(\"Average p@10 - TF-IDF:\", precision_10_tfidf.mean())\n",
        "print(\"Average p@100 - CountVectorizer:\", precision_100_count.mean())\n",
        "print(\"Average p@100 - TF-IDF:\", precision_100_tfidf.mean())\n"
      ],
      "metadata": {
        "id": "486NFVAn7kRP",
        "outputId": "5bfa0b61-75cb-4c02-c438-4dd4af26bd9f",
        "colab": {
          "base_uri": "https://localhost:8080/"
        }
      },
      "id": "486NFVAn7kRP",
      "execution_count": null,
      "outputs": [
        {
          "output_type": "stream",
          "name": "stdout",
          "text": [
            "Average p@10 - CountVectorizer: 0.044800000000000006\n",
            "Average p@10 - TF-IDF: 0.8874000000000001\n",
            "Average p@100 - CountVectorizer: 0.030440000000000005\n",
            "Average p@100 - TF-IDF: 0.56256\n",
            "time: 17min 15s (started: 2025-03-16 20:21:00 +00:00)\n"
          ]
        }
      ]
    },
    {
      "cell_type": "markdown",
      "source": [
        "IMPORTANT : I WASNT ABLE TO RUN THE CELLS BELOW (GRID SEARCH AND PLOT DUE LIMITED RAM RESOURCES AND CRASHES)"
      ],
      "metadata": {
        "id": "FlV8RgvV4GHF"
      },
      "id": "FlV8RgvV4GHF"
    },
    {
      "cell_type": "code",
      "source": [
        "from sklearn.model_selection import GridSearchCV\n",
        "from sklearn.pipeline import Pipeline\n",
        "from sklearn.feature_extraction.text import TfidfVectorizer\n",
        "\n",
        "# pipeline\n",
        "pipeline = Pipeline([\n",
        "    ('tfidf', TfidfVectorizer()),\n",
        "])\n",
        "\n",
        "# parameter grid\n",
        "parameters = {\n",
        "    'tfidf__ngram_range': [(1, 1), (1, 2)],\n",
        "    'tfidf__max_df': [0.5, 0.75, 1.0],\n",
        "    'tfidf__min_df': [1, 2, 3],\n",
        "}\n",
        "\n",
        "grid_search = GridSearchCV(pipeline, parameters, cv=2, scoring='accuracy', verbose=1)\n",
        "grid_search.fit(docs['cleaned'], docs['docid'])\n",
        "\n",
        "print(\"Best parameters found: \", grid_search.best_params_)"
      ],
      "metadata": {
        "id": "dRrAtGLKy9Jr",
        "outputId": "1497c410-3398-457c-ca45-0e25604e6b41",
        "colab": {
          "base_uri": "https://localhost:8080/"
        }
      },
      "id": "dRrAtGLKy9Jr",
      "execution_count": null,
      "outputs": [
        {
          "output_type": "stream",
          "name": "stdout",
          "text": [
            "Fitting 2 folds for each of 18 candidates, totalling 36 fits\n"
          ]
        }
      ]
    },
    {
      "cell_type": "code",
      "source": [
        "import matplotlib.pyplot as plt\n",
        "import pandas as pd\n",
        "\n",
        "# DataFrame the results\n",
        "results = pd.DataFrame(grid_search.cv_results_)\n",
        "\n",
        "heatmap_data = results.pivot_table(index='param_tfidf__ngram_range', columns='param_tfidf__max_df', values='mean_test_score')\n",
        "\n",
        "# plot\n",
        "plt.figure(figsize=(10, 6))\n",
        "sns.heatmap(heatmap_data, annot=True, fmt=\".3f\", cmap=\"YlGnBu\")\n",
        "plt.title('Grid Search Results')\n",
        "plt.xlabel('max_df')\n",
        "plt.ylabel('ngram_range')\n",
        "plt.show()"
      ],
      "metadata": {
        "id": "-vCn-nO_zNV1"
      },
      "id": "-vCn-nO_zNV1",
      "execution_count": null,
      "outputs": []
    },
    {
      "cell_type": "code",
      "execution_count": null,
      "id": "37a47821-5f24-4e14-829d-cc7a0f448866",
      "metadata": {
        "id": "37a47821-5f24-4e14-829d-cc7a0f448866",
        "colab": {
          "base_uri": "https://localhost:8080/"
        },
        "outputId": "b21093b1-67ed-4ef0-9fef-33bc012eb7a5"
      },
      "outputs": [
        {
          "output_type": "stream",
          "name": "stdout",
          "text": [
            "time: 2.14 ms (started: 2025-03-16 20:38:16 +00:00)\n"
          ]
        }
      ],
      "source": [
        "import gc\n",
        "from sklearn.base import BaseEstimator, ClassifierMixin\n",
        "class BM25Score(BaseEstimator, ClassifierMixin):\n",
        "    def init(self, vectorized_docs, k1=1.5, b=0.75): # vectorized_docs: word counts\n",
        "        self.k1 = k1\n",
        "        self.b = b\n",
        "        self.vectorized_docs = vectorized_docs\n",
        "    def fit(self, vectorized_queries=None, query_ids=None, args=None): # args are for grid search integration\n",
        "        self.n_d = self.vectorized_docs.sum(axis=1).reshape(-1, 1).A\n",
        "        self.avgdl = np.mean(self.n_d)\n",
        "        self.n_docs = self.vectorized_docs.shape[0]\n",
        "\n",
        "        self.nq = np.sum(self.vectorized_docs > 0, axis=0).reshape(1, -1)\n",
        "        self.idf = np.log(((self.n_docs - self.nq + 0.5) / (self.nq + 0.5)) + 1).A\n",
        "        return self\n",
        "    def predict(self, vectorized_queries):\n",
        "        # bigger batches => faster but more memory heavy\n",
        "        n_queries = vectorized_queries.shape[0]\n",
        "        batch_size = 50\n",
        "\n",
        "        final_scores = []\n",
        "        for batch_idx in range(int(n_queries / batch_size) + 1):\n",
        "            start_idx = batch_idx * batch_size\n",
        "            end_idx = min((batch_idx + 1) * batch_size, n_queries)\n",
        "            if start_idx >= end_idx:\n",
        "                break\n",
        "            batch_vectorized_queries = vectorized_queries[start_idx: end_idx]\n",
        "            idx_tokens = np.argwhere(batch_vectorized_queries.sum(axis=0) > 0).reshape(-1)\n",
        "            batch_vectorized_queries = batch_vectorized_queries[:, idx_tokens]\n",
        "            vectorized_docs = self.vectorized_docs[:, idx_tokens].toarray()\n",
        "            idf = self.idf[:, idx_tokens]\n",
        "\n",
        "            scores = idf * (\n",
        "                (vectorized_docs * (self.k1 + 1)) / \\\n",
        "                (\n",
        "                    vectorized_docs + \\\n",
        "                    self.k1 * (1 - self.b + self.b * (self.n_d / self.avgdl))\n",
        "                )\n",
        "            )\n",
        "            final_scores.append((batch_vectorized_queries > 0).astype(np.int8) @ scores.T)\n",
        "\n",
        "            del vectorized_docs\n",
        "            del scores\n",
        "            gc.collect()\n",
        "        return np.concatenate(final_scores, axis=0)"
      ]
    },
    {
      "cell_type": "code",
      "source": [],
      "metadata": {
        "id": "UD4Kk61vaq8f"
      },
      "id": "UD4Kk61vaq8f",
      "execution_count": null,
      "outputs": []
    }
  ],
  "metadata": {
    "kernelspec": {
      "display_name": "Python 3 (ipykernel)",
      "language": "python",
      "name": "python3"
    },
    "language_info": {
      "codemirror_mode": {
        "name": "ipython",
        "version": 3
      },
      "file_extension": ".py",
      "mimetype": "text/x-python",
      "name": "python",
      "nbconvert_exporter": "python",
      "pygments_lexer": "ipython3",
      "version": "3.10.6"
    },
    "colab": {
      "provenance": [],
      "include_colab_link": true
    }
  },
  "nbformat": 4,
  "nbformat_minor": 5
}