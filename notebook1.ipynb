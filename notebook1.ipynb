{
  "cells": [
    {
      "cell_type": "markdown",
      "metadata": {
        "id": "view-in-github",
        "colab_type": "text"
      },
      "source": [
        "<a href=\"https://colab.research.google.com/github/Coperr/information-retrieval/blob/main/notebook1.ipynb\" target=\"_parent\"><img src=\"https://colab.research.google.com/assets/colab-badge.svg\" alt=\"Open In Colab\"/></a>"
      ]
    },
    {
      "cell_type": "markdown",
      "metadata": {
        "id": "fQvUHxHo9SQG"
      },
      "source": [
        "# inforet 1"
      ]
    },
    {
      "cell_type": "markdown",
      "metadata": {
        "id": "Xb2ztxMj9SQG"
      },
      "source": [
        "## getting the data"
      ]
    },
    {
      "cell_type": "markdown",
      "metadata": {
        "id": "gmiC9XeK9SQH"
      },
      "source": [
        "Today, we will work with the UN General Debate dataset. The corpus consists of 7,507 speeches held at the annual sessions of the United Nations General Assembly from 1970 to 2016. It was created in 2017 by Mikhaylov, Baturo, and Dasandi at Harvard “for understanding and measuring state preferences in world politics.” Each of the almost 200 countries in the United Nations has the opportunity to present its views on global topics such international conflicts, terrorism, or climate change at the annual General Debate.\n",
        "Work on this data is proposed in the book\n",
        "\n",
        "- https://github.com/blueprints-for-text-analytics-python/blueprints-text\n",
        "- from here, but it's easier to use the version on my server.\n",
        "  - https://github.com/blueprints-for-text-analytics-python/blueprints-text/blob/master/data/un-general-debates/un-general-debates-blueprint.csv.gz\n",
        "\n"
      ]
    },
    {
      "cell_type": "markdown",
      "metadata": {
        "id": "mhO3UGCY9SQH"
      },
      "source": [
        "## downloading some toy data"
      ]
    },
    {
      "cell_type": "code",
      "execution_count": 3,
      "metadata": {
        "id": "Luy5OsKH9SQH",
        "outputId": "1f05e5ce-4865-45c7-eac8-a6fd3a20101e",
        "colab": {
          "base_uri": "https://localhost:8080/"
        }
      },
      "outputs": [
        {
          "output_type": "stream",
          "name": "stdout",
          "text": [
            "Downloading the file...\n"
          ]
        }
      ],
      "source": [
        "# check if the file un-general-debates-blueprint.csv is present\n",
        "# if not, download it from the web and unzip it\n",
        "import os\n",
        "\n",
        "file_name = 'un-general-debates-blueprint.csv'\n",
        "gz_file = file_name + '.gz'\n",
        "url = 'https://gerdes.fr/saclay/inforet/' + gz_file\n",
        "\n",
        "if os.path.exists(file_name):\n",
        "    print('File already present')\n",
        "else:\n",
        "    print('Downloading the file...')\n",
        "    os.system(f'curl -o {gz_file} {url}')\n",
        "    os.system(f'gunzip {gz_file}')"
      ]
    },
    {
      "cell_type": "markdown",
      "metadata": {
        "id": "VHQXBIjM9SQI"
      },
      "source": [
        "\n",
        "if you have a problem with the above code,\n",
        "you can also simply get the zip, unzip and put it manuaylly next to your notbook:\n",
        "\n",
        "https://gerdes.fr/saclay/informationRetrieval/un-general-debates-blueprint.csv.gz\n",
        "\n",
        "or try using wget:\n",
        "```\n",
        "!wget https://gerdes.fr/saclay/informationRetrieval/un-general-debates-blueprint.csv.gz\n",
        "import gzip, shutil\n",
        "with open('un-general-debates-blueprint.csv.gz', 'rb') as f_in:\n",
        "    with gzip.open('un-general-debates-blueprint.csv', 'wb') as f_out:\n",
        "        shutil.copyfileobj(f_in, f_out)\n",
        "```\n",
        "      "
      ]
    },
    {
      "cell_type": "code",
      "execution_count": 4,
      "metadata": {
        "id": "cFCFiO5c9SQI",
        "outputId": "c8501195-fbe7-4922-c237-beb05a62c2c6",
        "colab": {
          "base_uri": "https://localhost:8080/"
        }
      },
      "outputs": [
        {
          "output_type": "stream",
          "name": "stdout",
          "text": [
            "Collecting ipython-autotime\n",
            "  Downloading ipython_autotime-0.3.2-py2.py3-none-any.whl.metadata (1.4 kB)\n",
            "Requirement already satisfied: ipython in /usr/local/lib/python3.11/dist-packages (from ipython-autotime) (7.34.0)\n",
            "Requirement already satisfied: setuptools>=18.5 in /usr/local/lib/python3.11/dist-packages (from ipython->ipython-autotime) (75.1.0)\n",
            "Collecting jedi>=0.16 (from ipython->ipython-autotime)\n",
            "  Downloading jedi-0.19.2-py2.py3-none-any.whl.metadata (22 kB)\n",
            "Requirement already satisfied: decorator in /usr/local/lib/python3.11/dist-packages (from ipython->ipython-autotime) (4.4.2)\n",
            "Requirement already satisfied: pickleshare in /usr/local/lib/python3.11/dist-packages (from ipython->ipython-autotime) (0.7.5)\n",
            "Requirement already satisfied: traitlets>=4.2 in /usr/local/lib/python3.11/dist-packages (from ipython->ipython-autotime) (5.7.1)\n",
            "Requirement already satisfied: prompt-toolkit!=3.0.0,!=3.0.1,<3.1.0,>=2.0.0 in /usr/local/lib/python3.11/dist-packages (from ipython->ipython-autotime) (3.0.50)\n",
            "Requirement already satisfied: pygments in /usr/local/lib/python3.11/dist-packages (from ipython->ipython-autotime) (2.18.0)\n",
            "Requirement already satisfied: backcall in /usr/local/lib/python3.11/dist-packages (from ipython->ipython-autotime) (0.2.0)\n",
            "Requirement already satisfied: matplotlib-inline in /usr/local/lib/python3.11/dist-packages (from ipython->ipython-autotime) (0.1.7)\n",
            "Requirement already satisfied: pexpect>4.3 in /usr/local/lib/python3.11/dist-packages (from ipython->ipython-autotime) (4.9.0)\n",
            "Requirement already satisfied: parso<0.9.0,>=0.8.4 in /usr/local/lib/python3.11/dist-packages (from jedi>=0.16->ipython->ipython-autotime) (0.8.4)\n",
            "Requirement already satisfied: ptyprocess>=0.5 in /usr/local/lib/python3.11/dist-packages (from pexpect>4.3->ipython->ipython-autotime) (0.7.0)\n",
            "Requirement already satisfied: wcwidth in /usr/local/lib/python3.11/dist-packages (from prompt-toolkit!=3.0.0,!=3.0.1,<3.1.0,>=2.0.0->ipython->ipython-autotime) (0.2.13)\n",
            "Downloading ipython_autotime-0.3.2-py2.py3-none-any.whl (7.0 kB)\n",
            "Downloading jedi-0.19.2-py2.py3-none-any.whl (1.6 MB)\n",
            "\u001b[2K   \u001b[90m━━━━━━━━━━━━━━━━━━━━━━━━━━━━━━━━━━━━━━━━\u001b[0m \u001b[32m1.6/1.6 MB\u001b[0m \u001b[31m17.5 MB/s\u001b[0m eta \u001b[36m0:00:00\u001b[0m\n",
            "\u001b[?25hInstalling collected packages: jedi, ipython-autotime\n",
            "Successfully installed ipython-autotime-0.3.2 jedi-0.19.2\n",
            "time: 397 µs (started: 2025-03-11 13:31:39 +00:00)\n"
          ]
        }
      ],
      "source": [
        "# this turns on the autotimer, so that every cell has a timing information below\n",
        "try:\n",
        "    %load_ext autotime\n",
        "except:\n",
        "    !pip install ipython-autotime\n",
        "    %load_ext autotime\n",
        "# to stop using autotime, run the following command\n",
        "# %unload_ext autotime"
      ]
    },
    {
      "cell_type": "code",
      "execution_count": 5,
      "metadata": {
        "id": "q9B_S7T99SQI",
        "outputId": "16e5c127-cc27-46e6-a8f5-ff679a2d59b2",
        "colab": {
          "base_uri": "https://localhost:8080/"
        }
      },
      "outputs": [
        {
          "output_type": "stream",
          "name": "stdout",
          "text": [
            "time: 991 µs (started: 2025-03-11 13:59:38 +00:00)\n"
          ]
        }
      ],
      "source": [
        "#!pip install wordcloud seaborn"
      ]
    },
    {
      "cell_type": "code",
      "execution_count": 6,
      "metadata": {
        "id": "xReOjIOA9SQI",
        "outputId": "34d9e891-1aca-4211-b194-8f27a84cd65f",
        "colab": {
          "base_uri": "https://localhost:8080/"
        }
      },
      "outputs": [
        {
          "output_type": "stream",
          "name": "stdout",
          "text": [
            "time: 2.5 s (started: 2025-03-11 13:59:39 +00:00)\n"
          ]
        }
      ],
      "source": [
        "import numpy as np\n",
        "import matplotlib.pyplot as plt\n",
        "import pandas as pd\n",
        "import seaborn as sns\n",
        "from collections import Counter\n",
        "from tqdm.notebook import tqdm\n",
        "from wordcloud import WordCloud\n",
        "import re"
      ]
    },
    {
      "cell_type": "code",
      "execution_count": 7,
      "metadata": {
        "id": "_XRcUVP39SQI",
        "outputId": "0d00b508-fb74-4f1e-be3f-ea3693a90296",
        "colab": {
          "base_uri": "https://localhost:8080/",
          "height": 757
        }
      },
      "outputs": [
        {
          "output_type": "execute_result",
          "data": {
            "text/plain": [
              "      un-general-debates-blueprint.csv    year country  \\\n",
              "2399                              42.0  1987.0     SUR   \n",
              "1071                              33.0  1978.0     RWA   \n",
              "5805                              62.0  2007.0     CHN   \n",
              "2425                              43.0  1988.0     ALB   \n",
              "1271                              35.0  1980.0     CMR   \n",
              "2717                              44.0  1989.0     UGA   \n",
              "1973                              39.0  1984.0     UGA   \n",
              "91                                26.0  1971.0     COL   \n",
              "1971                              39.0  1984.0     TUR   \n",
              "7242                              69.0  2014.0     MWI   \n",
              "1531                              36.0  1981.0     VEN   \n",
              "3269                              48.0  1993.0     FIN   \n",
              "3947                              52.0  1997.0     BTN   \n",
              "1596                              37.0  1982.0     GRC   \n",
              "2557                              43.0  1988.0     TGO   \n",
              "3680                              50.0  1995.0     MOZ   \n",
              "5438                              60.0  2005.0     DEU   \n",
              "4394                              54.0  1999.0     MRT   \n",
              "2923                              46.0  1991.0     CYP   \n",
              "987                               33.0  1978.0     COG   \n",
              "1150                              34.0  1979.0     GHA   \n",
              "3098                              47.0  1992.0     EST   \n",
              "\n",
              "                           country_name                 speaker  \\\n",
              "2399                           Suriname      DESIRE D. BOUTERSE   \n",
              "1071                             Rwanda               Nsekalije   \n",
              "5805                              China             Yang Jiechi   \n",
              "2425                            Albania                  MALILE   \n",
              "1271                           Cameroon                 Dontsop   \n",
              "2717                             Uganda            SSEMOGERBRE    \n",
              "1973                             Uganda                   Owiny   \n",
              "91                             Colombia   Mr. VASQUEZ CARRIZOSA   \n",
              "1971                             Turkey               HALEFOGLU   \n",
              "7242                             Malawi  Arthur Peter Mutharika   \n",
              "1531  Venezuela, Bolivarian Republic of  Luis Herrera Campfins    \n",
              "3269                            Finland            Mr. HAAVISTO   \n",
              "3947                             Bhutan            Dawa Tsering   \n",
              "1596                             Greece        HARALAMBOPOULOS    \n",
              "2557                               Togo              Mr. APODO    \n",
              "3680                         Mozambique               Mr. Simão   \n",
              "5438                            Germany         Klaus Scharioth   \n",
              "4394                         Mauritania    Ahmed Ould Sid Ahmed   \n",
              "2923                             Cyprus        GEORGE VASSILIOU   \n",
              "987                               Congo                  Obenga   \n",
              "1150                              Ghana               Chinebuah   \n",
              "3098                            Estonia            Mr. MANITSKI   \n",
              "\n",
              "                          position  \\\n",
              "2399           Head of Government    \n",
              "1071                           NaN   \n",
              "5805  Minister for Foreign Affairs   \n",
              "2425                           NaN   \n",
              "1271                           NaN   \n",
              "2717                           NaN   \n",
              "1973                           NaN   \n",
              "91                             NaN   \n",
              "1971                           NaN   \n",
              "7242                     President   \n",
              "1531                    President    \n",
              "3269                           NaN   \n",
              "3947  Minister for Foreign Affairs   \n",
              "1596                           NaN   \n",
              "2557                           NaN   \n",
              "3680  Minister for Foreign Affairs   \n",
              "5438   Minister for Foregn Affairs   \n",
              "4394  Minister for Foreign Affairs   \n",
              "2923                     President   \n",
              "987                            NaN   \n",
              "1150                           NaN   \n",
              "3098                           NaN   \n",
              "\n",
              "                                                   text  \n",
              "2399  ﻿I come before this General Assembly for the t...  \n",
              "1071  ﻿144.\\tThe delegation of Rwanda wishes to join...  \n",
              "5805  I  wish to congratulate you, Sir, on your elec...  \n",
              "2425  ﻿Allow me, on behalf of the delegation of the ...  \n",
              "1271  ﻿Mr. President, I should like, first of all, t...  \n",
              "2717  ﻿ \\n\\nAllow me Sir, on behalf of the Ugandan d...  \n",
              "1973  ﻿It is a source of pride and pleasure for my d...  \n",
              "91    169.\\t: Mr, President, I should like to congra...  \n",
              "1971  ﻿First of all, I should like to congratulate y...  \n",
              "7242  Allow me to begin by \\ncongratulating Mr. Sam ...  \n",
              "1531  50 Mr. President, on behalf of Venezuela and o...  \n",
              "3269  I wish to begin by\\ncongratulating Ambassador ...  \n",
              "3947  ﻿I have the honour to convey to\\nall represent...  \n",
              "1596    Your election, Sir, to the presidency of the...  \n",
              "2557  ﻿I should like first of all to express the war...  \n",
              "3680  On behalf of my\\nGovernment and on my own beha...  \n",
              "5438  Please accept\\nmy congratulations, Sir, on you...  \n",
              "4394  At the outset, I wish, on behalf of the Islami...  \n",
              "2923  ﻿Mr. President, I would like to congratulate y...  \n",
              "987   ﻿\\n\\n1.\\tWhat is most emphatically required of...  \n",
              "1150  ﻿First of all, Sir, let me congratulate you mo...  \n",
              "3098  Let me first convey to Mr. Ganev my \\ncongratu...  "
            ],
            "text/html": [
              "\n",
              "  <div id=\"df-9eedd282-f40e-4d7f-9306-82cf1039309b\" class=\"colab-df-container\">\n",
              "    <div>\n",
              "<style scoped>\n",
              "    .dataframe tbody tr th:only-of-type {\n",
              "        vertical-align: middle;\n",
              "    }\n",
              "\n",
              "    .dataframe tbody tr th {\n",
              "        vertical-align: top;\n",
              "    }\n",
              "\n",
              "    .dataframe thead th {\n",
              "        text-align: right;\n",
              "    }\n",
              "</style>\n",
              "<table border=\"1\" class=\"dataframe\">\n",
              "  <thead>\n",
              "    <tr style=\"text-align: right;\">\n",
              "      <th></th>\n",
              "      <th>un-general-debates-blueprint.csv</th>\n",
              "      <th>year</th>\n",
              "      <th>country</th>\n",
              "      <th>country_name</th>\n",
              "      <th>speaker</th>\n",
              "      <th>position</th>\n",
              "      <th>text</th>\n",
              "    </tr>\n",
              "  </thead>\n",
              "  <tbody>\n",
              "    <tr>\n",
              "      <th>2399</th>\n",
              "      <td>42.0</td>\n",
              "      <td>1987.0</td>\n",
              "      <td>SUR</td>\n",
              "      <td>Suriname</td>\n",
              "      <td>DESIRE D. BOUTERSE</td>\n",
              "      <td>Head of Government</td>\n",
              "      <td>﻿I come before this General Assembly for the t...</td>\n",
              "    </tr>\n",
              "    <tr>\n",
              "      <th>1071</th>\n",
              "      <td>33.0</td>\n",
              "      <td>1978.0</td>\n",
              "      <td>RWA</td>\n",
              "      <td>Rwanda</td>\n",
              "      <td>Nsekalije</td>\n",
              "      <td>NaN</td>\n",
              "      <td>﻿144.\\tThe delegation of Rwanda wishes to join...</td>\n",
              "    </tr>\n",
              "    <tr>\n",
              "      <th>5805</th>\n",
              "      <td>62.0</td>\n",
              "      <td>2007.0</td>\n",
              "      <td>CHN</td>\n",
              "      <td>China</td>\n",
              "      <td>Yang Jiechi</td>\n",
              "      <td>Minister for Foreign Affairs</td>\n",
              "      <td>I  wish to congratulate you, Sir, on your elec...</td>\n",
              "    </tr>\n",
              "    <tr>\n",
              "      <th>2425</th>\n",
              "      <td>43.0</td>\n",
              "      <td>1988.0</td>\n",
              "      <td>ALB</td>\n",
              "      <td>Albania</td>\n",
              "      <td>MALILE</td>\n",
              "      <td>NaN</td>\n",
              "      <td>﻿Allow me, on behalf of the delegation of the ...</td>\n",
              "    </tr>\n",
              "    <tr>\n",
              "      <th>1271</th>\n",
              "      <td>35.0</td>\n",
              "      <td>1980.0</td>\n",
              "      <td>CMR</td>\n",
              "      <td>Cameroon</td>\n",
              "      <td>Dontsop</td>\n",
              "      <td>NaN</td>\n",
              "      <td>﻿Mr. President, I should like, first of all, t...</td>\n",
              "    </tr>\n",
              "    <tr>\n",
              "      <th>2717</th>\n",
              "      <td>44.0</td>\n",
              "      <td>1989.0</td>\n",
              "      <td>UGA</td>\n",
              "      <td>Uganda</td>\n",
              "      <td>SSEMOGERBRE</td>\n",
              "      <td>NaN</td>\n",
              "      <td>﻿ \\n\\nAllow me Sir, on behalf of the Ugandan d...</td>\n",
              "    </tr>\n",
              "    <tr>\n",
              "      <th>1973</th>\n",
              "      <td>39.0</td>\n",
              "      <td>1984.0</td>\n",
              "      <td>UGA</td>\n",
              "      <td>Uganda</td>\n",
              "      <td>Owiny</td>\n",
              "      <td>NaN</td>\n",
              "      <td>﻿It is a source of pride and pleasure for my d...</td>\n",
              "    </tr>\n",
              "    <tr>\n",
              "      <th>91</th>\n",
              "      <td>26.0</td>\n",
              "      <td>1971.0</td>\n",
              "      <td>COL</td>\n",
              "      <td>Colombia</td>\n",
              "      <td>Mr. VASQUEZ CARRIZOSA</td>\n",
              "      <td>NaN</td>\n",
              "      <td>169.\\t: Mr, President, I should like to congra...</td>\n",
              "    </tr>\n",
              "    <tr>\n",
              "      <th>1971</th>\n",
              "      <td>39.0</td>\n",
              "      <td>1984.0</td>\n",
              "      <td>TUR</td>\n",
              "      <td>Turkey</td>\n",
              "      <td>HALEFOGLU</td>\n",
              "      <td>NaN</td>\n",
              "      <td>﻿First of all, I should like to congratulate y...</td>\n",
              "    </tr>\n",
              "    <tr>\n",
              "      <th>7242</th>\n",
              "      <td>69.0</td>\n",
              "      <td>2014.0</td>\n",
              "      <td>MWI</td>\n",
              "      <td>Malawi</td>\n",
              "      <td>Arthur Peter Mutharika</td>\n",
              "      <td>President</td>\n",
              "      <td>Allow me to begin by \\ncongratulating Mr. Sam ...</td>\n",
              "    </tr>\n",
              "    <tr>\n",
              "      <th>1531</th>\n",
              "      <td>36.0</td>\n",
              "      <td>1981.0</td>\n",
              "      <td>VEN</td>\n",
              "      <td>Venezuela, Bolivarian Republic of</td>\n",
              "      <td>Luis Herrera Campfins</td>\n",
              "      <td>President</td>\n",
              "      <td>50 Mr. President, on behalf of Venezuela and o...</td>\n",
              "    </tr>\n",
              "    <tr>\n",
              "      <th>3269</th>\n",
              "      <td>48.0</td>\n",
              "      <td>1993.0</td>\n",
              "      <td>FIN</td>\n",
              "      <td>Finland</td>\n",
              "      <td>Mr. HAAVISTO</td>\n",
              "      <td>NaN</td>\n",
              "      <td>I wish to begin by\\ncongratulating Ambassador ...</td>\n",
              "    </tr>\n",
              "    <tr>\n",
              "      <th>3947</th>\n",
              "      <td>52.0</td>\n",
              "      <td>1997.0</td>\n",
              "      <td>BTN</td>\n",
              "      <td>Bhutan</td>\n",
              "      <td>Dawa Tsering</td>\n",
              "      <td>Minister for Foreign Affairs</td>\n",
              "      <td>﻿I have the honour to convey to\\nall represent...</td>\n",
              "    </tr>\n",
              "    <tr>\n",
              "      <th>1596</th>\n",
              "      <td>37.0</td>\n",
              "      <td>1982.0</td>\n",
              "      <td>GRC</td>\n",
              "      <td>Greece</td>\n",
              "      <td>HARALAMBOPOULOS</td>\n",
              "      <td>NaN</td>\n",
              "      <td>Your election, Sir, to the presidency of the...</td>\n",
              "    </tr>\n",
              "    <tr>\n",
              "      <th>2557</th>\n",
              "      <td>43.0</td>\n",
              "      <td>1988.0</td>\n",
              "      <td>TGO</td>\n",
              "      <td>Togo</td>\n",
              "      <td>Mr. APODO</td>\n",
              "      <td>NaN</td>\n",
              "      <td>﻿I should like first of all to express the war...</td>\n",
              "    </tr>\n",
              "    <tr>\n",
              "      <th>3680</th>\n",
              "      <td>50.0</td>\n",
              "      <td>1995.0</td>\n",
              "      <td>MOZ</td>\n",
              "      <td>Mozambique</td>\n",
              "      <td>Mr. Simão</td>\n",
              "      <td>Minister for Foreign Affairs</td>\n",
              "      <td>On behalf of my\\nGovernment and on my own beha...</td>\n",
              "    </tr>\n",
              "    <tr>\n",
              "      <th>5438</th>\n",
              "      <td>60.0</td>\n",
              "      <td>2005.0</td>\n",
              "      <td>DEU</td>\n",
              "      <td>Germany</td>\n",
              "      <td>Klaus Scharioth</td>\n",
              "      <td>Minister for Foregn Affairs</td>\n",
              "      <td>Please accept\\nmy congratulations, Sir, on you...</td>\n",
              "    </tr>\n",
              "    <tr>\n",
              "      <th>4394</th>\n",
              "      <td>54.0</td>\n",
              "      <td>1999.0</td>\n",
              "      <td>MRT</td>\n",
              "      <td>Mauritania</td>\n",
              "      <td>Ahmed Ould Sid Ahmed</td>\n",
              "      <td>Minister for Foreign Affairs</td>\n",
              "      <td>At the outset, I wish, on behalf of the Islami...</td>\n",
              "    </tr>\n",
              "    <tr>\n",
              "      <th>2923</th>\n",
              "      <td>46.0</td>\n",
              "      <td>1991.0</td>\n",
              "      <td>CYP</td>\n",
              "      <td>Cyprus</td>\n",
              "      <td>GEORGE VASSILIOU</td>\n",
              "      <td>President</td>\n",
              "      <td>﻿Mr. President, I would like to congratulate y...</td>\n",
              "    </tr>\n",
              "    <tr>\n",
              "      <th>987</th>\n",
              "      <td>33.0</td>\n",
              "      <td>1978.0</td>\n",
              "      <td>COG</td>\n",
              "      <td>Congo</td>\n",
              "      <td>Obenga</td>\n",
              "      <td>NaN</td>\n",
              "      <td>﻿\\n\\n1.\\tWhat is most emphatically required of...</td>\n",
              "    </tr>\n",
              "    <tr>\n",
              "      <th>1150</th>\n",
              "      <td>34.0</td>\n",
              "      <td>1979.0</td>\n",
              "      <td>GHA</td>\n",
              "      <td>Ghana</td>\n",
              "      <td>Chinebuah</td>\n",
              "      <td>NaN</td>\n",
              "      <td>﻿First of all, Sir, let me congratulate you mo...</td>\n",
              "    </tr>\n",
              "    <tr>\n",
              "      <th>3098</th>\n",
              "      <td>47.0</td>\n",
              "      <td>1992.0</td>\n",
              "      <td>EST</td>\n",
              "      <td>Estonia</td>\n",
              "      <td>Mr. MANITSKI</td>\n",
              "      <td>NaN</td>\n",
              "      <td>Let me first convey to Mr. Ganev my \\ncongratu...</td>\n",
              "    </tr>\n",
              "  </tbody>\n",
              "</table>\n",
              "</div>\n",
              "    <div class=\"colab-df-buttons\">\n",
              "\n",
              "  <div class=\"colab-df-container\">\n",
              "    <button class=\"colab-df-convert\" onclick=\"convertToInteractive('df-9eedd282-f40e-4d7f-9306-82cf1039309b')\"\n",
              "            title=\"Convert this dataframe to an interactive table.\"\n",
              "            style=\"display:none;\">\n",
              "\n",
              "  <svg xmlns=\"http://www.w3.org/2000/svg\" height=\"24px\" viewBox=\"0 -960 960 960\">\n",
              "    <path d=\"M120-120v-720h720v720H120Zm60-500h600v-160H180v160Zm220 220h160v-160H400v160Zm0 220h160v-160H400v160ZM180-400h160v-160H180v160Zm440 0h160v-160H620v160ZM180-180h160v-160H180v160Zm440 0h160v-160H620v160Z\"/>\n",
              "  </svg>\n",
              "    </button>\n",
              "\n",
              "  <style>\n",
              "    .colab-df-container {\n",
              "      display:flex;\n",
              "      gap: 12px;\n",
              "    }\n",
              "\n",
              "    .colab-df-convert {\n",
              "      background-color: #E8F0FE;\n",
              "      border: none;\n",
              "      border-radius: 50%;\n",
              "      cursor: pointer;\n",
              "      display: none;\n",
              "      fill: #1967D2;\n",
              "      height: 32px;\n",
              "      padding: 0 0 0 0;\n",
              "      width: 32px;\n",
              "    }\n",
              "\n",
              "    .colab-df-convert:hover {\n",
              "      background-color: #E2EBFA;\n",
              "      box-shadow: 0px 1px 2px rgba(60, 64, 67, 0.3), 0px 1px 3px 1px rgba(60, 64, 67, 0.15);\n",
              "      fill: #174EA6;\n",
              "    }\n",
              "\n",
              "    .colab-df-buttons div {\n",
              "      margin-bottom: 4px;\n",
              "    }\n",
              "\n",
              "    [theme=dark] .colab-df-convert {\n",
              "      background-color: #3B4455;\n",
              "      fill: #D2E3FC;\n",
              "    }\n",
              "\n",
              "    [theme=dark] .colab-df-convert:hover {\n",
              "      background-color: #434B5C;\n",
              "      box-shadow: 0px 1px 3px 1px rgba(0, 0, 0, 0.15);\n",
              "      filter: drop-shadow(0px 1px 2px rgba(0, 0, 0, 0.3));\n",
              "      fill: #FFFFFF;\n",
              "    }\n",
              "  </style>\n",
              "\n",
              "    <script>\n",
              "      const buttonEl =\n",
              "        document.querySelector('#df-9eedd282-f40e-4d7f-9306-82cf1039309b button.colab-df-convert');\n",
              "      buttonEl.style.display =\n",
              "        google.colab.kernel.accessAllowed ? 'block' : 'none';\n",
              "\n",
              "      async function convertToInteractive(key) {\n",
              "        const element = document.querySelector('#df-9eedd282-f40e-4d7f-9306-82cf1039309b');\n",
              "        const dataTable =\n",
              "          await google.colab.kernel.invokeFunction('convertToInteractive',\n",
              "                                                    [key], {});\n",
              "        if (!dataTable) return;\n",
              "\n",
              "        const docLinkHtml = 'Like what you see? Visit the ' +\n",
              "          '<a target=\"_blank\" href=https://colab.research.google.com/notebooks/data_table.ipynb>data table notebook</a>'\n",
              "          + ' to learn more about interactive tables.';\n",
              "        element.innerHTML = '';\n",
              "        dataTable['output_type'] = 'display_data';\n",
              "        await google.colab.output.renderOutput(dataTable, element);\n",
              "        const docLink = document.createElement('div');\n",
              "        docLink.innerHTML = docLinkHtml;\n",
              "        element.appendChild(docLink);\n",
              "      }\n",
              "    </script>\n",
              "  </div>\n",
              "\n",
              "\n",
              "<div id=\"df-351b7388-6e5e-44d7-af32-0b5716d0bdd9\">\n",
              "  <button class=\"colab-df-quickchart\" onclick=\"quickchart('df-351b7388-6e5e-44d7-af32-0b5716d0bdd9')\"\n",
              "            title=\"Suggest charts\"\n",
              "            style=\"display:none;\">\n",
              "\n",
              "<svg xmlns=\"http://www.w3.org/2000/svg\" height=\"24px\"viewBox=\"0 0 24 24\"\n",
              "     width=\"24px\">\n",
              "    <g>\n",
              "        <path d=\"M19 3H5c-1.1 0-2 .9-2 2v14c0 1.1.9 2 2 2h14c1.1 0 2-.9 2-2V5c0-1.1-.9-2-2-2zM9 17H7v-7h2v7zm4 0h-2V7h2v10zm4 0h-2v-4h2v4z\"/>\n",
              "    </g>\n",
              "</svg>\n",
              "  </button>\n",
              "\n",
              "<style>\n",
              "  .colab-df-quickchart {\n",
              "      --bg-color: #E8F0FE;\n",
              "      --fill-color: #1967D2;\n",
              "      --hover-bg-color: #E2EBFA;\n",
              "      --hover-fill-color: #174EA6;\n",
              "      --disabled-fill-color: #AAA;\n",
              "      --disabled-bg-color: #DDD;\n",
              "  }\n",
              "\n",
              "  [theme=dark] .colab-df-quickchart {\n",
              "      --bg-color: #3B4455;\n",
              "      --fill-color: #D2E3FC;\n",
              "      --hover-bg-color: #434B5C;\n",
              "      --hover-fill-color: #FFFFFF;\n",
              "      --disabled-bg-color: #3B4455;\n",
              "      --disabled-fill-color: #666;\n",
              "  }\n",
              "\n",
              "  .colab-df-quickchart {\n",
              "    background-color: var(--bg-color);\n",
              "    border: none;\n",
              "    border-radius: 50%;\n",
              "    cursor: pointer;\n",
              "    display: none;\n",
              "    fill: var(--fill-color);\n",
              "    height: 32px;\n",
              "    padding: 0;\n",
              "    width: 32px;\n",
              "  }\n",
              "\n",
              "  .colab-df-quickchart:hover {\n",
              "    background-color: var(--hover-bg-color);\n",
              "    box-shadow: 0 1px 2px rgba(60, 64, 67, 0.3), 0 1px 3px 1px rgba(60, 64, 67, 0.15);\n",
              "    fill: var(--button-hover-fill-color);\n",
              "  }\n",
              "\n",
              "  .colab-df-quickchart-complete:disabled,\n",
              "  .colab-df-quickchart-complete:disabled:hover {\n",
              "    background-color: var(--disabled-bg-color);\n",
              "    fill: var(--disabled-fill-color);\n",
              "    box-shadow: none;\n",
              "  }\n",
              "\n",
              "  .colab-df-spinner {\n",
              "    border: 2px solid var(--fill-color);\n",
              "    border-color: transparent;\n",
              "    border-bottom-color: var(--fill-color);\n",
              "    animation:\n",
              "      spin 1s steps(1) infinite;\n",
              "  }\n",
              "\n",
              "  @keyframes spin {\n",
              "    0% {\n",
              "      border-color: transparent;\n",
              "      border-bottom-color: var(--fill-color);\n",
              "      border-left-color: var(--fill-color);\n",
              "    }\n",
              "    20% {\n",
              "      border-color: transparent;\n",
              "      border-left-color: var(--fill-color);\n",
              "      border-top-color: var(--fill-color);\n",
              "    }\n",
              "    30% {\n",
              "      border-color: transparent;\n",
              "      border-left-color: var(--fill-color);\n",
              "      border-top-color: var(--fill-color);\n",
              "      border-right-color: var(--fill-color);\n",
              "    }\n",
              "    40% {\n",
              "      border-color: transparent;\n",
              "      border-right-color: var(--fill-color);\n",
              "      border-top-color: var(--fill-color);\n",
              "    }\n",
              "    60% {\n",
              "      border-color: transparent;\n",
              "      border-right-color: var(--fill-color);\n",
              "    }\n",
              "    80% {\n",
              "      border-color: transparent;\n",
              "      border-right-color: var(--fill-color);\n",
              "      border-bottom-color: var(--fill-color);\n",
              "    }\n",
              "    90% {\n",
              "      border-color: transparent;\n",
              "      border-bottom-color: var(--fill-color);\n",
              "    }\n",
              "  }\n",
              "</style>\n",
              "\n",
              "  <script>\n",
              "    async function quickchart(key) {\n",
              "      const quickchartButtonEl =\n",
              "        document.querySelector('#' + key + ' button');\n",
              "      quickchartButtonEl.disabled = true;  // To prevent multiple clicks.\n",
              "      quickchartButtonEl.classList.add('colab-df-spinner');\n",
              "      try {\n",
              "        const charts = await google.colab.kernel.invokeFunction(\n",
              "            'suggestCharts', [key], {});\n",
              "      } catch (error) {\n",
              "        console.error('Error during call to suggestCharts:', error);\n",
              "      }\n",
              "      quickchartButtonEl.classList.remove('colab-df-spinner');\n",
              "      quickchartButtonEl.classList.add('colab-df-quickchart-complete');\n",
              "    }\n",
              "    (() => {\n",
              "      let quickchartButtonEl =\n",
              "        document.querySelector('#df-351b7388-6e5e-44d7-af32-0b5716d0bdd9 button');\n",
              "      quickchartButtonEl.style.display =\n",
              "        google.colab.kernel.accessAllowed ? 'block' : 'none';\n",
              "    })();\n",
              "  </script>\n",
              "</div>\n",
              "\n",
              "    </div>\n",
              "  </div>\n"
            ],
            "application/vnd.google.colaboratory.intrinsic+json": {
              "type": "dataframe",
              "summary": "{\n  \"name\": \"df\",\n  \"rows\": 22,\n  \"fields\": [\n    {\n      \"column\": \"un-general-debates-blueprint.csv\",\n      \"properties\": {\n        \"dtype\": \"number\",\n        \"std\": 10.576867677631686,\n        \"min\": 26.0,\n        \"max\": 69.0,\n        \"num_unique_values\": 19,\n        \"samples\": [\n          42.0,\n          44.0,\n          52.0\n        ],\n        \"semantic_type\": \"\",\n        \"description\": \"\"\n      }\n    },\n    {\n      \"column\": \"year\",\n      \"properties\": {\n        \"dtype\": \"number\",\n        \"std\": 10.576867677631686,\n        \"min\": 1971.0,\n        \"max\": 2014.0,\n        \"num_unique_values\": 19,\n        \"samples\": [\n          1987.0,\n          1989.0,\n          1997.0\n        ],\n        \"semantic_type\": \"\",\n        \"description\": \"\"\n      }\n    },\n    {\n      \"column\": \"country\",\n      \"properties\": {\n        \"dtype\": \"string\",\n        \"num_unique_values\": 21,\n        \"samples\": [\n          \"SUR\",\n          \"CYP\",\n          \"DEU\"\n        ],\n        \"semantic_type\": \"\",\n        \"description\": \"\"\n      }\n    },\n    {\n      \"column\": \"country_name\",\n      \"properties\": {\n        \"dtype\": \"string\",\n        \"num_unique_values\": 21,\n        \"samples\": [\n          \"Suriname\",\n          \"Cyprus\",\n          \"Germany\"\n        ],\n        \"semantic_type\": \"\",\n        \"description\": \"\"\n      }\n    },\n    {\n      \"column\": \"speaker\",\n      \"properties\": {\n        \"dtype\": \"string\",\n        \"num_unique_values\": 22,\n        \"samples\": [\n          \"DESIRE D. BOUTERSE\",\n          \"HARALAMBOPOULOS \",\n          \"HALEFOGLU\"\n        ],\n        \"semantic_type\": \"\",\n        \"description\": \"\"\n      }\n    },\n    {\n      \"column\": \"position\",\n      \"properties\": {\n        \"dtype\": \"category\",\n        \"num_unique_values\": 5,\n        \"samples\": [\n          \"Minister for Foreign Affairs\",\n          \"Minister for Foregn Affairs\",\n          \"President\"\n        ],\n        \"semantic_type\": \"\",\n        \"description\": \"\"\n      }\n    },\n    {\n      \"column\": \"text\",\n      \"properties\": {\n        \"dtype\": \"string\",\n        \"num_unique_values\": 22,\n        \"samples\": [\n          \"\\ufeffI come before this General Assembly for the third time to complete a story which I began to tell just one year ago.\\nI come before you today because in my country, as in many countries around the world, the promise of freedom is held sacred.\\nI come before you today because just two days ago the people of Suriname made their voices heard/ they express \\u0430 desire for \\u0430 new life and a new beginning. I come before you today to tell you that the people of Suriname have just written their own Constitution, I come before you today because the seeds of revolutionary change planted in 1980 are bearing fruit and nourishing the lives of the people of Suriname\\u00b7 The people of Suriname are on the eve of choosing their representatives through free and fair elections, on the basis of their Constitution.\\nOur history since 1980 has been one of turbulence  of endeavouring to chart a course consistent with the wants and needs of our people\\u00b7 We are a country with a past similar to that of many of you. Suriname was a colony/ ruled by a distant Government which viewed our people and our natural wealth as their rightful property. The very diverse cultures which comprise our society were exploited, and the tensions between them deliberately and maliciously cultivated to prevent the development of a unified nation. This delayed our independence and, when self-determination was realized, remnants of our past continued to hinder our growth.\\nIn 1980 steps were taken finally to erase the stains of our colonial subservience. We could no longer sit idle while the fabric of Surinamese society was disintegrating and decaying. So some of us acted, not without provocation, and certainly not for purposes of personal grandeur. Our cause was the sanctity of Suriname, our goal was the betterment and prosperity of its people. At that time, in 1980, the military pledged to return control to a civilian government. We stated then that such a transition would take place when the social, economic, political and educational sectors of society had been reformed to accommodate a new Suriname, one which was capable of addressing the needs of all its citizens, rich and poor, Creole, Amerindian, European, Asian and African.\\nAs I have stated before in this Assembly, the process of nation-building in a country with a colonial past and a multi-ethnic population is a sensitive and difficult task. However, today I will offer no excuses, nor will I speak of obstacles still impeding our progress. For today it is my honour to reaffirm our pledge of seven years ago and introduce to the world a free and democratic Republic of Suriname.\\nTwo days ago, in the presence of international observers, our Constitution was approved. It is a document which was carved from the accumulated history, experiences and knowledge of our people. Several years ago a civil dialogue was begun which tapped the enormous resources of our community. It called upon representatives from a wide variety of political, social and economic interests. The energy we tapped from that body, and our thirst for a true democratic society, were transformed into a National Assembly, adding to the discussion formality and legitimacy. This was not merely a gesture of goodwill on the part of the Government; the creation of that body was an act necessitated by the maturation of Suriname\\u2019s body-politic; it was an act of love for the land which is Suriname and an act of faith in the hopes and abilities of its people.\\nThe National Assembly set out to draft a document which would form the foundation for a free and open Suriname. The document, which has been ratified by the people, finds its strength and validity in the widest range of political participation in the country's history. It is a law from the people, for the people. And on 25 November, just weeks from today, general elections will be held and an era of civilian control will commence.\\nThe army is ready and willing to accept the results of this process and is committed to defending and securing the national integrity and sovereignty of Suriname against intervention and interference.\\nThese are historic times for the people of Suriname. But they have not been attained without sweat, sacrifice and, unfortunately, the loss of lives. The path to democracy has been laden with numerous and unforeseen obstacles. Through the course of our journey, we have encountered the vagaries of the international economy} we have dealt with the uncertainty of chatting a course which diverts from our colonial past; and most regrettably, we have faced the bullets of those who sought to undermine our efforts. It is this last hurdle which proves most distressing for the Surinamese people. For in combating these parasites, innocent men, women, and children have been struck down, caught in the crossfire of a conflict they detested but found themselves powerless to escape. \\nThis fighting has exacerbated the economic woes which were unforeseen and unjustly imposed upon our country. When the last vestiges of colonialism saw fit to hold economic stability hostage to the direction of internal policy, they condemned the people of Suriname to a future of uncertainty and hardship. In the wake of this callous action, violence erupted. The perpetrators did not act out of some lofty quest for prosperity, but out of an obsession for personal vengeance and as stooges of colonialism. The people of East Suriname saw no alternative but to flee the country for neighbouring French Guiana, seeking refuge from a war which was fracturing their existence. We should like these people to return to their homes. They are citizens of Suriname and should feel secure in their own country. We have called upon the International Committee of the Red Cross, in consultation with the Government of France, to assist in this process on a permanent basis. But, most importantly, we must demand that those Governments and parties supporting or encouraging the violence in our country immediately stop their actions. The lives being lost are not being lost for any cause at all - our people are dying in vain.\\nIn the name of democracy, external Powers supported and encouraged a continuation of this senseless violence. Behind the barrel of a gun they pretended to bring democracy to Suriname. They have committed themselves to the disruption of the process which is currently under way, a process that is proving so successful and is cherished so much by the people of Suriname. How, then, can democracy be a goal of those who support terrorism in the Republic of Suriname? How, for that matter, can terrorism serve the people anywhere in the world?\\nAt this point I take the opportunity of expressing the gratitude of the Surinamese people to those countries that have variously supported us in our plight; at the same time, we look forward to increasing understanding and support from other nations. I wish to pause here to congratulate you, Sir, on your election to preside over the forty-second session of the United Nations General Assembly. I am sure that under your guidance and leadership many of the crises facing the world will be dealt with in a rational prudent and effective manner.\\nI take this opportunity also to congratulate Mr. Choudhury of Bangladesh on the outstanding way in which he presided over the last session of the General Assembly. To our congratulations we want to add our best wishes for his future endeavours.\\nMy friends, there is trouble all around us. Brother is fighting brother in the Middle East, Asia and Central America. Repression continues in its most barbaric forms in southern Africa. And it was inevitable that so far most representatives in the General Assembly should have dealt with these major international crises. And while the scope and nature of these crises would justify lengthy discussion, on this occasion it will suffice for us to refer to our contributions at previous sessions of the Assembly. \\nThe Government of Suriname commends the efforts of the Central American Presidents to bring about a regional peace treaty. We whole-heartedly endorse the efforts of the Security Council and of Secretary-General Perez de Cuellar to find a peaceful solution to the conflict in the Gulf\\u00b7\\nLike the people of the rest of the world, the Surinamese people have welcomed the concrete steps taken by the super-Power s towards the lessening of the nuclear threat. But any form of international peace that is achieved can be sustained only if the resources thus released ate used to recreate the international economic order. The suffering part of mankind cannot find relief in the absence of a nuclear threat alone. Now, however, I must return to the question I posed just moments ago; what is democracy, and how can such a noble objective lead to the violence and death which pervade too many of our lands? Democracy can mean many different things to many different people. By strict definition, democracy represents the principles of social equality and respect for the individual. Those are simple-enough concepts. Yet they are so difficult to realize. Democracy is an abstract idea which is not easily grasped. It is a fragile state of being which must be nurtured, cultivated, taught. If stretched to its limits unnaturally, it deteriorates into chaos and lawlessness. But if it is not permitted to blossom and take on characteristics unique to its adherents, it lacks the strength and vitality to be fruitful. There is no monopoly of wisdom in this world; nor is there a monopoly of virtue- Each one of our nations strives to realize a degree of national freedom and dignity consistent with its concept of democracy. It is a system whereby opposing and divergent views may flourish or perish on the merit of their wisdom. To the great Powers of the world I repeat that. There is no monopoly on wisdom; nor is there a monopoly on virtue.\\nFurther, I say the following to them. You possess tremendous attributes and have harnessed the most awesome and fearsome powers of earth. Yet too often you lack the simple capacity for understanding and empathy. You insist that your way is the right way and spurn those who seek to discover truth for themselves. I beseech you not to prejudge, but to permit the developing nations of the world the same opportunities as you had. So many of us in the Non-Aligned Movement want only to venture down a path of our own choosing. Yet too often first steps ate marred by the norms established by both sides of the rhetorical battle. If your concern for our future were based on a genuine concern for the welfare of our people, the intrusion might be more palatable.\\nThere is so much we can teach you and, of course, we can learn from you. But for this transfer to take place, for this union to occur, there must be mutual trust and respect. This cannot be fostered in an atmosphere of fear and ideological self-righteousness.\\nYou, the leading members of the international community, can guide the world to a more stable and lasting peace. Your wealth should not be used as a political tool to force compliance with your policies or adherence to your beliefs. If your positions are sound and well-founded, time will bear this out. Aid for development is the key with which to unlock the cultural/ historical and, of course, economic riches which so many of our countries possess, but which lie unexplored and unutilised. The misunderstanding which plagues so much of the international arena, the political aggression which manifests itself in violence, and the economic plight which threatens not only the smaller debtor nations but the entire world community are merely symptoms of unwillingness to compromise with peoples of different minds.\\nIn this regard, I make the following appeal to representatives of the international media covering today's proceedings. Their words and perspectives reach millions and shape the opinions of the world's inhabitants. The burdens weighing upon a country and its people can be lessened if the lines of communication are kept open and are kept free of sensational journalism aimed at increasing circulation rather than airing both sides of a controversy. I urge them to realize and accept the awesome responsibility of their position and act in an honourable and just manner.\\nIn Suriname we are embarking on a new phase of our life an important aspect of which is our endeavour really to become an organic part of the Latin American and Caribbean region, I extend my Government's heartfelt appreciation to those who have aided us throughout our struggle. Naturally, we will learn from our trials and tribulations, and in the phase that we have now entered we will, in dealing with both domestic and foreign issues, take chances which can lead to broader understanding and co-operation. Without respect, understanding and co-operation, the future of mankind is destined to be far more difficult than we imagine and we will achieve much less than each of our nations now envisages.\\nI came before the Assembly, Mr. President, mainly to set the record of my country straight - the record of our past, our present and cur future. We know that the expectations of happiness and prosperity of the people of Suriname are the same as those of all the peoples of our world, and that is no wonder, for they reflect the noble goals enshrined in the Charter of our Organization, the United Nations. We, like the rest of the world, are therefore justified in expecting all possible support from this Organization in achieving our goals. \\nWhile it will take some time to solve all our major problems, we hope that our noble Organization, the United Nations, will before long be in a position to present to the world encouraging beginnings of solutions that are long overdue.\\n \\n\",\n          \"  Your election, Sir, to the presidency of the \\nthirty-seventh session of the General Assembly is \\na tribute to your outstanding qualities as a \\ndiplomat and recognition of your vast experience. \\nIt is also a guarantee that the work of this \\nAssembly will be conducted effectively and with \\nwisdom. Please allow me to congratulate you most \\nwarmly. On this occasion, I should like also to \\nexpress my warmest wishes to the outgoing \\nPresident, Mr. Ismat Kittani. He has earned the \\ngratitude of this Assembly for the exemplary way \\nin which he guided its work, for his constructive \\ninitiatives and for enhancing the prestige of his \\nhigh office. It also gives me particular pleasure \\nto congratulate the Secretary-General, Mr. Javier \\nPerez de Cuellar. In this first year of his term \\nin office he has carried out his mission with \\ndedication and unusual skill, thereby justly \\nwinning for himself great trust and high esteem.\\n173.\\tThe President of the Council of Ministers \\nof the European Community, Mr. Ellemann-Jensen, \\nMinister for Foreign Affairs of Denmark, has \\npresented to the Assembly, at the 8th meeting, \\nthe views of the 10 members of the Community on \\nthe main international problems. I should like \\nto state here, however, that the foreign policy \\nof the Greek Government is basically guided by \\nabsolute respect for the principle of the non-use \\nof force in international relations. \\nConsequently, we attach great importance to the \\npromotion of detente and disarmament as well as \\nof international co-operation. We also support in \\nthe strongest possible terms any effort towards \\nenhancing respect for human rights all over the \\nworld. At this point, I should like to analyze in \\ndetail the position of my Government on problems \\nwhich are of particular interest to Greece.\\n174.\\tIn the first place, there is the problem \\nof the Middle East. Apart from its major \\ninternational importance, it is of special \\ninterest to Greece, not only because of our \\ngeographical proximity to the region where the \\ncrisis is evolving, but also because of the \\ntraditional bonds which link us to the Arab \\nworld. This explains the many initiatives taken \\nby my Government in the past few months, within \\nthe European Community as well as other \\ninternational forums, with a view to promoting \\nthe Palestinian cause and restoring peace in \\nLebanon.\\n175.\\tThe opening of the thirty-seventh session \\nof the General Assembly has been marked by an \\nappalling crime\\u00f3the massacre of hundreds of \\ninnocent Palestinians in the camps of Beirut. \\nThe precise circumstances of this cold-blooded \\nslaughter will not be known until an appropriate \\ninquiry into the matter is conducted.. However, \\nit is an undisputed fact that the massacre \\noccurred in an area under the firm control of the \\nIsraeli army. Therefore, Israel cannot escape the \\nblame for what has happened.\\n176.\\tMy Government has repeatedly condemned in \\nthe strongest terms the Israeli invasion in \\nLebanon. When the special United States envoy, \\nMr. Habib, managed to arrange a peaceful lifting \\nof the siege of west Beirut, we felt hopeful that \\nevents in the Middle East might take a \\nconstructive turn. Our optimism was short-lived, \\nsince in the aftermath of the assassination of \\nthe President-elect of Lebanon the Israeli \\nforces, violating the Habib agreement, invaded \\nwest Beirut, throwing the door open to the \\nappalling massacre of Palestinian civilians that \\nfollowed. My country was quick to request the \\nSecurity Council to take adequate and effective \\nmeasures to safeguard the civilian population in \\nLebanon.\\n177.\\tHowever, there are still a few \\nencouraging signs. I am referring to the Reagan \\nplan, which could be considered as the first step \\nof a process which might lead to a solution to \\nthe Palestinian problem. I should also like to \\nstress in this context the proposals of the \\nTwelfth Arab Summit Conference at Fez, which were \\nannounced a little later. I emphasize the fact \\nthat the Arab countries which participated in the \\nConference were unanimous in putting forward a \\nseries of constructive proposals aimed at a \\ncomprehensive solution which would be \\nsatisfactory for the Palestinians.\\n178.\\tThis is a time for action, not only by \\nthe parties to the conflict but also by the \\ninternational community as a whole. The position \\nof the PLO should be enhanced to enable it to \\nplay a more meaningful part in the peace process \\nif we do not wish to see the strong feelings of \\nfrustration and despair of the Palestinians after \\ntheir recent experiences in Lebanon find their \\nexpression in a new wave of international \\nviolence. In this connection we think that along \\nwith the recognition of the right of \\nself-determination of the Palestinian people, \\nincluding the right to establish their own \\nindependent State, the PLO should be recognized \\nas their representative, with the right of full \\nparticipation in the peace negotiations. In \\nstating this we think that Israel's right of \\nexistence should be affirmed beyond any doubt, \\ntogether with its right to live in peace along \\nwith the other States of the area within \\nrecognized and secure boundaries. Israel should \\nrealize that it will achieve its security not \\nthrough the use of force but only through \\ndialogue and nego-tiations.\\nRecent events have proved that stability in \\nLebanon has a direct bearing upon the search Mr a \\npeaceful settlement of the Middle East question. \\nFor that reason, as well as for the sake of \\nsolidarity with Lebanon, the population of which \\nhas suffered so cruelly, we must encourage all \\nsteps leading to a stable Lebanon through the \\nreturn of normality in that country and the \\nrestoration of the authority of the Lebanese \\nGovernment over the whole of its territory. It is \\nin that spirit that we greet the election of a \\nnew President and earnestly hope that this \\ndevelopment will mark the beginning of a new era \\nin that country.\\n180. The problem of Cyprus is of paramount \\nimportance to the Greek Government, both because \\nof the well-known links between the peoples of \\nGreece and Cyprus and because Greece is one of \\nthe guarantors of the sovereignty, independence \\nand territorial integrity of the Republic of \\nCyprus under the terms of the 1960 Treaties.\\n181.\\tThe main components of this problem could \\nbe summarized as follows: More than 36 per cent \\nof the territory of the Republic of Cyprus is \\noccupied by Turkish troops. Consequently, the \\nGovernment of the Republic of Cyprus is unable to \\nexercise its sovereign rights over the whole \\nterritory of the Republic. Thousands of Greek \\nCypriots have been displaced and live as \\nrefugees in their own country. On the other hand, \\nthe Turkish Cypriot minority expresses deep \\nconcern over its own security. Similarly, the \\nGreek Cypriots are deeply concerned over their \\nown security because of the permanent threat \\nwhich materialized in a dramatic manner through \\nthe Turkish invasion and subsequent occupation of \\nthe island. Moreover, we cannot overlook the \\ndetermining factor of the Cyprus problem, namely, \\nthat 80 per cent of the population of the \\nRepublic of Cyprus are Greek Cypriots whereas \\nonly 18 per cent are Turkish Cypriots. Although \\neight years have already elapsed since the 1974 \\ninvasion, the intercommunal talks, which have \\nbeen going on ever since under the auspices of \\nthe Secretary-General, have failed to produce any \\nresults.\\n182.\\tFaced with those realities and with such \\nan ominous deadlock, the Prime Minister of \\nGreece, Mr. Andreas Papandreou, made a \\nconstructive proposal a few months ago the \\nsubstance of which is the withdrawal of all \\nforeign troops from the territory of the Republic \\nof Cyprus and the expansion of the United Nations \\npeace-keeping forces, in an effort to allay the \\nfears that the Turkish minority might otherwise \\nfeel for its security. In this regard the Greek \\nPrime Minister specified that Greece is prepared \\nto make a substantial financial contribution in \\norder to meet the additional expenses that such \\nan expanded peace keeping force would require. \\nOnce the foreign troops are withdrawn and an \\nexpanded United Nations force is in place, the \\nconditions will be set for truly constructive \\ntalks to start between the two communities with a \\nview to achieving a just solution to the Cyprus \\nproblem acceptable to all. The final goalis the \\nsafeguarding of the independence, territorial \\nintegrity, unity and non- aligned character of \\nCyprus, in accordance with the relevant \\nresolutions of the Assembly.\\n183.\\tThe Middle East and Cyprus problems are \\nnot the only ones which have resulted from the \\nresort to force in contravention of the \\nprinciples and obligations of the Charter. Other \\nmajor international crises are also the result of \\nthe illegal use of force which has led to the \\ncontinuing occupation of the territory of other \\ncountries, notwithstanding the repeated unanimous \\ncondemnations of the Assembly and its calls to \\nput an end to such occupation, as in the case of \\nKampuchea and Afghanistan. Greece has \\nconsistently and firmly condemned all acts of \\ninvasion and foreign occupation, regardless of \\nwho the aggressor is.\\n184.\\tWhat I have just said does not mean that \\nwe do not sympathize with the struggle of peoples \\nwhich have been denied their fundamental right to \\nself- determination. It is in this context that \\nmy Government lends its moral support to national \\nliberation movements. I wish at this point to \\nexpress more particularly the concern of the \\nGreek Government at the situation in Central \\nAmerica and more specifically in El Salvador and \\nNicaragua and at the threat of regionalization of \\nthe conflict in El Salvador. Greece calls for a \\nnegotiated political settlement in El Salvador \\nand expresses its firm belief that the Frente de \\nLiberacion Nacional Farabundo Marti and the \\nFrente Democratico Revolucionario should be \\nincluded in such a settlement as representative \\npolitical forces.\\n185.\\tIn the same spirit, we condemn in the \\nstrongest terms the continued illegal occupation \\nof Namibia by South Africa, express our firm \\nsupport for the efforts of the Western countries \\nwhich make up the contact group and urge them to \\ndo whatever they can to enable Security Council \\nresolution 435 (1978) to be implemented without \\nany further delay. It is encouraging that these \\nefforts have recently led to encouraging progress \\nand that as a result the independence of Namibia \\nhas come much closer than it has ever been before.\\n186.\\tThe Secretary-General submitted to the \\nAssembly his courageous, comprehensive and fore- \\nsighted report on the work of the Organization. \\nHe refers, in no uncertain terms to the decline \\nof the Organization, and I fully share his \\nassessment. I feel compelled at this juncture to \\nexpress the profound disappointment of my country \\nat the fact that the United Nations has failed to \\ncontribute to the maintenance of peace and to \\nprotect the sovereignty of Member States. I am \\nafraid that I am stating the obvious when I say \\nthat if this trend continues the Organization, \\nwhich was created to fulfill the hopes and \\nexpectations of mankind, which had been \\ndevastated by the Second World War, will be \\ntransformed into a decorative international \\nbureaucracy. This is not the moment for me to \\ndeal with the causes of the crisis. However, all \\nagree that the responsibility of the great Powers \\nfor the decline of the Organization is not small; \\nnor is that of many States which demonstrate \\ntheir contempt for the fundamental principles of \\nthe United Nations.\\n187.\\tGreece, a traditionally peace-loving \\ncountry, has followed with genuine interest \\nrecent developments concerning disarmament, and \\nparticularly the proceedings of the special \\nsession of the General Assembly devoted to \\ndisarmament which was convened a few months ago. \\nUnfortunately, despite the fact that nobody \\ndenied the urgent need for disarmament, the \\nspecial session did not produce the results for \\nwhich we all hoped. Nevertheless, it should not \\nbe forgotten that it demonstrated the \\ndetermination of all peoples to live in peace, \\nwithout the scourge of war. All Governments, and \\nespecially those of the super powers, should \\nunderstand the real meaning of this message and \\nincrease their efforts. Practical steps should be \\ntaken urgently to promote detente and \\ncooperation among States and to open the way for \\nthe adoption of effective measures of arms \\ncontrol and disarmament. The efforts should be \\ndirected to both nuclear andconventional \\ndisarmament. It is essential to remember that the \\nformer cannot be achieved satisfactorily unless \\nit is coupled with disarmament in conventional \\nweapons and other weapon;, of mass destruction.\\n188.\\tIn this spirit we welcome the \\nnegotiations which are currently going on in \\nGeneva between the United States of America and \\nthe Soviet Union. We earnestly hope that they \\nwill result in positive developments. For our \\npart, we are opposed as a matter of principle to \\nthe division of the world into antagonistic \\nblocs. It is an integral part of our long-term \\npolicy to overcome this division. In this \\nconnection we express our appreciation to the \\nnon-aligned movement for its role in furthering \\nthe cause of peace. We cannot but congratulate \\nits members on their decision to keep away from \\nthe military blocs.\\n189.\\tPeace would not be complete, however, if \\nit were not accompanied by respect for human \\nrights and by the development of economic \\nco-operation between countries. Democratic \\nGreece, because of its age-old cultural and \\nnational traditions, is strongly and unshakably \\ncommitted to respect fbr human rights. Nobody has \\never been persecuted in Greece because of race, \\nreligion or creed. It is with deep regret, \\ntherefore, that we note that in several \\ncountries people are being tortured, disappear \\nwithout leaving a trace or are deprived of their \\nfundamental rights. Furthermore, some countries, \\non the pretext of resisting interference in \\ntheir internal affairs, refuse to co-operate with \\nthe appropriate international organs for the \\ncontrol of human rights violations. Greece \\ncondemns any form of racial discrimination, in \\nparticular the policy of apartheid pursued by the \\nSouth African Government notwithstanding the \\npersistent demands of the international \\ncommunity that it be ended immediately.\\n190.\\tThe adverse economic situation prevailing \\nthroughout the world has caused a serious setback \\nas regards North-South issues. The recessionary \\ntendencies in the developed market economies, \\nwhich are far from being resolved, preclude any \\nimmediate relief for the developing countries, \\nwhose already weak and vulnerable economies \\nshould be propelled forward at an acceptable \\npace. The North-South dialogue appears to be \\nmoribund. Immobility and stalemate have become \\nthe norm.\\n191.\\tThus, it is all the more to be hoped that \\nat this session the Assembly will finally bring \\nabout the agreement on the launching of the \\nglobal negotiations that has eluded us for so \\nlong. The meetings of Cancun in October 1981 and \\nVersailles in June 1982 represent serious \\nattempts to give impetus to the global \\nnegotiations. Endeavors in that direction must \\ncontinue within the United Nations and should be \\nthe responsibility of all Member States. The \\ndeveloped world in particular must assume its \\nappropriate share of that responsibility. My \\nGovernment will lend its support to any effort to \\nthat end. It is more than obvious that failing to \\nnarrow the gap between the rich and the poor \\nnations will only increase political instability \\nand endanger peace all over the world.\\n192.\\tThe United Nations Conference on New and \\nRenewable Sources of Energy, held at Nairobi, \\nrepresents a global challenge in trying to find \\nnew ways for increased utilization of such \\nsources of energy. The meeting of the Interim \\nCommittee, which was held in June in Rome, has \\ncreated a positive climate for the continuation \\nof the consultations regarding the implementation \\nof the Nairobi Programme of Action.?\\n193.\\tA strong and more vibrant United Nations \\nshould carefully examine possible solutions to \\nthe multitude of economic problems facing the \\nworld today, and the Organization needs to be put \\nto more practical use.\\n194.\\tIt would be an omission if I did not \\nrefer to the Third United Nations Conference on \\nthe Law of the Sea. Greece, being a maritime \\nnation, welcomes the conclusion of the work of \\nthe Conference. We consider this an important \\ndevelopment, which will, we hope, greatly \\ncontribute to the solution of existing \\ndifferences between countries and strengthen \\ninternational co-operation. We urge all States \\nto sign and ratify the United Nations Convention \\non the Law of the Sea?\\n195.\\tIn the course of this statement I have \\nexpressed the disappointment of my country over \\nthe poor per-formance of the United Nations, and \\nparticularly its failure to discharge its major \\nmission\\u00f3namely, to help maintain world peace and \\nprotect the sovereignty of its Member States. \\nHowever, I feel compelled also to express the \\nwarm wish that the United Nations shall gradually \\novercome its weaknesses, so that it manages to \\nfulfill the mission entrusted to it by mankind. \\nDespite its many shortcomings, the Organization \\nremains\\u00f3should remain\\u00f3a great hope of \\npeace-loving people the world over. In this \\ncontext I assure the Secretary-General that he \\nwill have the earnest support of my Government in \\nhis noble endeavor to restore the prestige and \\neffectiveness of the Organization.\\n\",\n          \"\\ufeffFirst of all, I should like to congratulate you, Sir, on your election to the presidency of the thirty-ninth session of the General Assembly. Your well-known qualities as an eminent statesman of Africa and your dedication as President of the United Nations Council for Namibia to its independence and the eradication of the abhorrent practice of apartheid will contribute to the success of our work. I also wish to express our thanks to the outgoing President, Mr. Jorge Illueca, of Panama.\\n133.\\tIt gives me particular pleasure to reiterate on behalf of my Government our full confidence in the Secretary-General. His exceptional leadership, impartiality, foresight and dedication are a source of admiration and respect all over the world.\\n134.\\tI also wish to extend a warm welcome to Brunei Darussalam, as the newest Member of the United Nations.\\n135.\\tThe agenda of this session contains important items which reflect not only the concerns but also the expectations of the international community. My Government pledges its full support for every effort aimed at improving the international climate and promoting the search for the peaceful settlement of existing problems.\\n136.\\tThe principles of Turkish foreign policy are strongly opposed to oppression, colonialism and racial discrimination. Consequently, we remain deeply concerned about the intolerable and dangerous situation in southern Africa.\\n137.\\tIn Namibia, we are still confronted with one of the last, but most important, vestiges of colonialism, illegal occupation and repression. The process of independence for Namibia is at present passing through a critical stage. Further delay in implementing Security Council resolution 435 (1978) will aggravate the political situation and the troubles in and around Namibia. In this regard, we commend the valuable and untiring efforts of the Secretary- General to make possible the full implementation of the United Nations plan for the independence of Namibia. As a founding member of the United Nations Council for Namibia, Turkey resolutely supports the legitimate and just struggle of the people of Namibia for their independence, under the leadership of SWAPO.\\n138.\\tTurkey also strongly condemns the policy of apartheid pursued in South Africa, a policy which constitutes the most abominable form of racial discrimination, and it appeals to all Member States to unify their efforts against this inhuman practice.\\n139.\\tI should also like to mention a positive development in Africa. My Government welcomes the recent agreement on military disengagement in Chad and hopes for its early implementation.\\n140.\\tThe situation in the Middle East continues to cause grave concern. Tension and conflict persist, and unfortunately there is still not much room for optimism about a negotiated settlement. The plight of the Arab Palestinian people continues unabated; while Lebanon is still searching for the opportunity to reassert its sovereignty over its territory and is trying further to pursue the process of national reconciliation and reconstruction.\\n141.\\tTurkey is naturally concerned about the tense situation in the region. We see Turkey's role as one of stability, peaceful change and progress. Its historical and cultural heritage, its geographic location and the Western values it has adopted put it in a unique position to play this role.\\n142.\\tThe question of Palestine occupies centre stage in the Middle East political arena and is today, as it has been for more than three decades, among the high-priority items on the agenda of the United Nations. The Organization, through numerous resolutions, has firmly supported the right of self-determination of Arab Palestinians and the creation of an independent Palestinian State, without which no settlement can be just and enduring. It is therefore important that Israel should withdraw from all the Arab territories occupied since 1967, including Jerusalem. Israel should comply with its obligations under the relevant international conventions as the occupying Power and respect the human rights of the people in the occupied territories. Israel must not be allowed further to modify the demographic character and institutional structure of these territories. To put it simply, unless their homeland remains intact, Arab Palestinians will not have the territory upon which to establish their State.\\n143.\\tThe Government of Turkey is of the view that the opportunities created by the Fez plan contained in the Final Declaration of the Twelfth Arab Summit Conference, adopted on 9 September 1982, and by the International Conference on the Question of Palestine, held at Geneva from 29 August to 7 September 1983, should now be judiciously pursued. In this connection, we support the convening of an international peace conference on the Middle East, as endorsed by the General Assembly in resolution 38/58 C. There is considerable support for such a conference. We hope that the Secretary-General can make progress in assisting its preparation through appropriate initiatives. Needless to say, the PLO must participate in the conference on an equal footing with the other parties.\\n144.\\tIn the context of the grave problems of the Middle East region, we wish to underline once again our deep concern over the precarious situation in Lebanon. Israel has repeatedly been called upon to put an end to its violations of the human rights of the population in southern Lebanon. Israel must promptly withdraw from Lebanon as a first and essential step in the process of Lebanese reconciliation and rehabilitation. We are encouraged by the recent moves for the withdrawal of Israeli forces from Lebanon. The Lebanese people have already endured untold suffering and losses. They should be left alone, free from foreign interference. A united, sovereign and territorially integral Lebanon is indispensable for the overall stability of the region. We are all under an obligation to help the Lebanese people achieve that goal.\\n145.\\tThe war between Iran and Iraq is yet another major source of tension and danger in the region. Turkey, a neighbour of the two countries, with equally close ties with both, is very much distressed by the loss of human lives and material devastation inflicted by the war. The potential in the conflict for unpredictable developments remains high, and there is always the danger of escalation. We again call on both sides to end the war. Turkey is prepared to assist and to contribute to a settlement under conditions mutually acceptable to Iraq and Iran. We also support other initiatives that enjoy the confidence of the two parties, and, in particular, express our appreciation to the Secretary-General for his efforts.\\n146.\\tWe continue to be deeply concerned about the situation in Afghanistan. The determination of the Afghan people to live in freedom is praiseworthy. We applaud the efforts of the Secretary-General to obtain a negotiated political settlement. The Afghan people must be able to exercise its right to self-determination, and the Afghan refugees must be allowed to return to their country in safety. Such a settlement should restore Afghanistan's independence and non- aligned status by ensuring the withdrawal of foreign military forces. We also express our appreciation to the Government of Pakistan, which, despite its limited means, provides shelter and humanitarian assistance to the Afghan refugees, and our satisfaction over its positive and co-operative approach to a peaceful settlement.\\n147.\\tThe situation in Kampuchea is another matter which deserves the constant attention of the international community. An early political settlement involving the withdrawal of all foreign troops from that country, the cessation of all foreign influence in the internal affairs of Kampuchea and the restoration of independence based on the right of self-determination, is imperative. Turkey highly appreciates the efforts of the members of the Association of South- East Asian Nations towards a peaceful solution of this important problem, which endangers peace and stability in the region.\\n148.\\tI should also like to touch upon the situation in the Korean peninsula, which remains unchanged. We are convinced of the need for a speedy resumption of the dialogue between the parties concerned in order to settle the Korean Question by peaceful means. In this context, we greatly value the initiatives of the Government of the Republic of Korea designed to bring about a dialogue. There is also an important role to be played by the United Nations, which has long been directly involved in the issue. In this connection, we are convinced that a better atmosphere of peace, reconciliation and understanding would be fostered by admitting the parties directly concerned to this universal body.\\n149.\\tIn spite of the most welcome signs of the development of the democratic process in Latin America, the present situation in Central America remains tense. The aggravation of the political atmosphere and the acute economic and social difficulties in the region have a negative impact on international relations. In this respect, we fully support the efforts of the Contadora Group in the search for a peaceful, negotiated solution to the conflicts in the region.\\n150.\\tWe believe that law and order must be established and that the aspirations of these nations to live and develop under democratic pluralistic regimes respectful of basic human rights must be fulfilled.\\n151.\\tWe should like to commend the Secretary- General for his recent efforts concerning Cyprus. My government is pleased with the reactivation of the search for a negotiated settlement. We consider the high-level proximity talks which began on 10 September within the framework defined at Vienna to be a constructive step forward. We sincerely hope that the current initiative of the Secretary-General will lead to the resumption of the direct negotiating process between the Turkish Cypriot and Greek Cypriot sides on the existing, mutually agreed basis, we are encouraged by the information from the Secretary-General that in their first round the proximity talks have been thorough, serious, business-like and conducted in a constructive spirit. I take this opportunity to reiterate our gratitude to the Secretary-General for his untiring and skilful efforts to bring about a lasting solution to the Cyprus question.\\n152.\\tToday there is an absolute need for careful but imaginative action to exploit the opportunity that has been created for a compromise in Cyprus with the introduction by the Secretary-General, at Vienna, of the 'working points'. Whatever reasons may still divide the two communities, there is no excuse for delaying the resumption of the direct negotiating process. Both sides stand to gain much more from negotiations than from rhetorical exchanges and propaganda activities. The time has come for the two Cypriot sides to make renewed efforts in their challenging task of reshaping their relations as equal partners in a bi-communal, bi-zonal, federal framework. We welcome the fact that the Turkish Republic of Northern Cyprus, for its part, has declared its readiness to make every effort to this end. Its positive approach to the Secretary-General's initiative, both in procedure and in substance, has been a step in the right direction. However, this constructive attitude of the Turkish Cypriot side has yet to be reciprocated. This, in our view, is the key to progress.\\n153.\\tMy Government will continue to encourage the negotiating process and lend its support to the Secretary-General's mission of good offices entrusted to him by the Security Council in paragraph 6 of its resolution 367 (1975) of 12 March 1975.\\n154.\\tInternational terrorism threatens mankind and the normal conduct of international relations. Its well-established links with international arms and drug smuggling indicate the extent of this threat. Therefore, it is not enough to take appropriate measures individually at the national level, which Turkey has successfully done, to eliminate this problem. It is also necessary for States to assume international obligations to prevent the use of their territory for acts of terrorism against other States. The perpetrators of such crimes should not be allowed to find shelter in other countries. In this regard, Turkey strongly believes that terrorism in all its forms can only be eliminated through close and effective international co-operation.\\n155.\\tConsequently, as an important aspect of this global problem, we find the item in the agenda of the current session of the General Assembly entitled 'Consideration of effective measures to enhance the protection, security and safety of diplomatic and consular missions and representatives' most appropriate for the affirmation of this commitment.\\n156.\\tTurkey notes with satisfaction the resolutions adopted by the United Nations on the security and safety of diplomatic and consular missions and representatives, who have increasingly been subjected to terrorist attacks, and the decision taken to alert world opinion to the Organization's important role and activities in this area. We look forward to the implementation and further elaboration of these resolutions and decisions.\\n157.\\tThe reversal of the recessionary trend in the world economy since the end of 1982, the resumption of growth in the industrial countries, the further slowing of inflation in the developed market economies and a notable reduction in the current account deficit of the non-oil-producing developing countries compared with the preceding several years have been favourable developments for the recovery of the world economy in 1984.\\n158.\\tDespite these significant positive signs, difficult economic problems faced by the developing countries remain unsolved. Developing countries, and especially the least developed one, are unable to resume their growth process, which has been severely affected by the prolonged global recession. Already weakened by serious structural problems, such as rapid population growth, unemployment, high rates of inflation, declining per capita income and low levels of production and exports, developing countries are faced with decreasing demand in the developed world, weak terms of trade for their primary commodities, restricted access to world markets, and a heavy burden of external debts and high interest rates. This trend has forced many developing countries to adopt restrictive policies and austerity programmes, reducing budget deficits, slowing the growth of the money supply, restraining wage increases and scaling back subsidies to combat inflation. But the continued decrease of their net total savings and of their imports hampers their growth. Sustained growth of the world economy is the only viable long-term solution for most of the current problems.\\n159.\\tIt is difficult for any country, whether rich or poor, large or small, to isolate itself from the rest of the world. It is against this background that intensified co-operative efforts among nations and institutions, both public and private, are needed to overcome our common problems. We must seek short- and long-term measures to reduce protectionist barriers and expand international trade, support and strengthen the multilateral mechanisms for the transfer of financial and technical assistance to developing countries and give due consideration to enhancing the quality and level of their human and natural resources.\\n160.\\tIn this connection, we highly appreciate the London Economic Declaration, issued at the London Economic Summit, held from 7 to 9 June 1984, and the intention of the seven major industrialized countries to spread the benefits of the world recovery widely to developing countries, especially to the least developed ones, which stand to gain more from a sustained growth of world economy.\\n161.\\tTurkey, on the basis of mutual benefit, participates actively in enhancing economic relations with developing countries. We are convinced that tangible and realistic results of the economic co-operation among the developing countries, in particular on a regional level, can establish reliable bases for a genuine and comprehensive dialogue on a much larger scale. Likewise, Turkey supports all constructive and practical proposals initiated by developing countries for adjusting similar structural difficulties with a view to providing effective solutions.\\n162.\\tFinally, a certain convergence of views between the North and the South has emerged in a number of international forums. What is needed now is the political will to translate ideas into action. Such political will is especially needed to resolve the debt problems of the developing countries, which constitute a tangible major threat to the stability of international economic relations.\\n163.\\tMany speakers here have urged global initiatives rather than interim measures to avert a collapse of the international financial system and to buy time for the developing countries.\\n164.\\tTurkey believes that the principal responsibility for development lies first with the developing countries themselves. They must realize that sound economic policies are a sine qua non for their steady and healthy progress in this field. Turkey is one county which has had experience in successfully adjusting its economy during the global recession and in servicing its debt payments. It has expanded its exports, benefiting also from the possibilities of South-South trade, and it has adopted policies aimed at restoring the balance of the main economic aggregates. Turkey's success in implementing these policies can well be taken as a good example.\\n165.\\tTurkey's efforts, like those of other developing countries, to continue its expansion of exports are hampered by the protectionist trends in the developed countries. These trends, we believe, could be reversed not only through the early resumption of new comprehensive, multilateral trade negotiations\\u2014which should cover all items, such as agricultural commodities, manufactured goods and services\\u2014but also through the implementation of the already existing commitments.\\n166.\\tWe believe that adopting an objective approach in all economic fields would pave the way for a comprehensive and constructive exchange of views on world economic issues. We hope, in this context, that a realistic consensus will emerge for the launching of global negotiations within the framework of the United Nations.\\n167.\\tOne of the overriding concerns of mankind is arms control and disarmament efforts. The arms race drains the scarce resources of nations and brings about instability and insecurity in international relations. The developing countries especially are in need of these resources for their economic and social development, which can only be accomplished in a safer and more stable international environment.\\n168.\\tTurkey's objective is and remains to have an adequate defence capability, as well as balanced and verifiable arms control and arms reduction steps, in conjunction with a policy of dialogue and confidence-building.\\n169.\\tWe are of the opinion that a commitment to rebuilding confidence among States is the most important prerequisite for the success of disarmament initiatives. The successful conclusion of the Madrid follow-up meeting of the Conference on Security and Co-operation in Europe and the convening at Stockholm of the Conference on Confidence' and Security-building Measures and Disarmament in Europe have yet to bring about the desired results.\\n170.\\tWe welcome the recent proposals made by President Reagan in his speech from this rostrum and also the recent contacts between the United States and the Soviet Union as a sign of hope for the future. The super-Powers bear a special responsibility in the field of arms control. They should resume, as early as possible, negotiations on nuclear armaments with a view to paving the way to progress in all other related areas. It is our earnest wish that this session of the General Assembly will mark the beginning of a turning-point in East-West relations, as well as of a better understanding between North and South.\\n\"\n        ],\n        \"semantic_type\": \"\",\n        \"description\": \"\"\n      }\n    }\n  ]\n}"
            }
          },
          "metadata": {},
          "execution_count": 7
        },
        {
          "output_type": "stream",
          "name": "stdout",
          "text": [
            "time: 3.31 s (started: 2025-03-11 13:59:41 +00:00)\n"
          ]
        }
      ],
      "source": [
        "df = pd.read_csv(\"un-general-debates-blueprint.csv\")\n",
        "df.sample(22) #, random_state=53)"
      ]
    },
    {
      "cell_type": "markdown",
      "metadata": {
        "id": "WfS-w0569SQI"
      },
      "source": [
        "## Let's get to know the data (and Pandas):"
      ]
    },
    {
      "cell_type": "code",
      "execution_count": 8,
      "metadata": {
        "id": "WwvPuvC99SQI",
        "outputId": "6e566020-34b2-4dc1-ef97-6ecf0063c24b",
        "colab": {
          "base_uri": "https://localhost:8080/"
        }
      },
      "outputs": [
        {
          "output_type": "execute_result",
          "data": {
            "text/plain": [
              "(Index(['un-general-debates-blueprint.csv', 'year', 'country', 'country_name',\n",
              "        'speaker', 'position', 'text'],\n",
              "       dtype='object'),\n",
              " un-general-debates-blueprint.csv    float64\n",
              " year                                float64\n",
              " country                              object\n",
              " country_name                         object\n",
              " speaker                              object\n",
              " position                             object\n",
              " text                                 object\n",
              " dtype: object)"
            ]
          },
          "metadata": {},
          "execution_count": 8
        },
        {
          "output_type": "stream",
          "name": "stdout",
          "text": [
            "time: 4.56 ms (started: 2025-03-11 13:59:49 +00:00)\n"
          ]
        }
      ],
      "source": [
        "df.columns, df.dtypes"
      ]
    },
    {
      "cell_type": "code",
      "execution_count": 9,
      "metadata": {
        "id": "ZHWwh0se9SQJ",
        "outputId": "b405a23d-389f-4bf7-9a8d-e53dc698935f",
        "colab": {
          "base_uri": "https://localhost:8080/",
          "height": 129
        }
      },
      "outputs": [
        {
          "output_type": "execute_result",
          "data": {
            "text/plain": [
              "                                   count         mean        std     min  \\\n",
              "un-general-debates-blueprint.csv  7507.0    49.610763  12.892155    25.0   \n",
              "year                              7507.0  1994.610763  12.892155  1970.0   \n",
              "\n",
              "                                     25%     50%     75%     max  \n",
              "un-general-debates-blueprint.csv    39.0    51.0    61.0    70.0  \n",
              "year                              1984.0  1996.0  2006.0  2015.0  "
            ],
            "text/html": [
              "\n",
              "  <div id=\"df-636eb0b0-481d-45ab-b9a0-42144cfa5083\" class=\"colab-df-container\">\n",
              "    <div>\n",
              "<style scoped>\n",
              "    .dataframe tbody tr th:only-of-type {\n",
              "        vertical-align: middle;\n",
              "    }\n",
              "\n",
              "    .dataframe tbody tr th {\n",
              "        vertical-align: top;\n",
              "    }\n",
              "\n",
              "    .dataframe thead th {\n",
              "        text-align: right;\n",
              "    }\n",
              "</style>\n",
              "<table border=\"1\" class=\"dataframe\">\n",
              "  <thead>\n",
              "    <tr style=\"text-align: right;\">\n",
              "      <th></th>\n",
              "      <th>count</th>\n",
              "      <th>mean</th>\n",
              "      <th>std</th>\n",
              "      <th>min</th>\n",
              "      <th>25%</th>\n",
              "      <th>50%</th>\n",
              "      <th>75%</th>\n",
              "      <th>max</th>\n",
              "    </tr>\n",
              "  </thead>\n",
              "  <tbody>\n",
              "    <tr>\n",
              "      <th>un-general-debates-blueprint.csv</th>\n",
              "      <td>7507.0</td>\n",
              "      <td>49.610763</td>\n",
              "      <td>12.892155</td>\n",
              "      <td>25.0</td>\n",
              "      <td>39.0</td>\n",
              "      <td>51.0</td>\n",
              "      <td>61.0</td>\n",
              "      <td>70.0</td>\n",
              "    </tr>\n",
              "    <tr>\n",
              "      <th>year</th>\n",
              "      <td>7507.0</td>\n",
              "      <td>1994.610763</td>\n",
              "      <td>12.892155</td>\n",
              "      <td>1970.0</td>\n",
              "      <td>1984.0</td>\n",
              "      <td>1996.0</td>\n",
              "      <td>2006.0</td>\n",
              "      <td>2015.0</td>\n",
              "    </tr>\n",
              "  </tbody>\n",
              "</table>\n",
              "</div>\n",
              "    <div class=\"colab-df-buttons\">\n",
              "\n",
              "  <div class=\"colab-df-container\">\n",
              "    <button class=\"colab-df-convert\" onclick=\"convertToInteractive('df-636eb0b0-481d-45ab-b9a0-42144cfa5083')\"\n",
              "            title=\"Convert this dataframe to an interactive table.\"\n",
              "            style=\"display:none;\">\n",
              "\n",
              "  <svg xmlns=\"http://www.w3.org/2000/svg\" height=\"24px\" viewBox=\"0 -960 960 960\">\n",
              "    <path d=\"M120-120v-720h720v720H120Zm60-500h600v-160H180v160Zm220 220h160v-160H400v160Zm0 220h160v-160H400v160ZM180-400h160v-160H180v160Zm440 0h160v-160H620v160ZM180-180h160v-160H180v160Zm440 0h160v-160H620v160Z\"/>\n",
              "  </svg>\n",
              "    </button>\n",
              "\n",
              "  <style>\n",
              "    .colab-df-container {\n",
              "      display:flex;\n",
              "      gap: 12px;\n",
              "    }\n",
              "\n",
              "    .colab-df-convert {\n",
              "      background-color: #E8F0FE;\n",
              "      border: none;\n",
              "      border-radius: 50%;\n",
              "      cursor: pointer;\n",
              "      display: none;\n",
              "      fill: #1967D2;\n",
              "      height: 32px;\n",
              "      padding: 0 0 0 0;\n",
              "      width: 32px;\n",
              "    }\n",
              "\n",
              "    .colab-df-convert:hover {\n",
              "      background-color: #E2EBFA;\n",
              "      box-shadow: 0px 1px 2px rgba(60, 64, 67, 0.3), 0px 1px 3px 1px rgba(60, 64, 67, 0.15);\n",
              "      fill: #174EA6;\n",
              "    }\n",
              "\n",
              "    .colab-df-buttons div {\n",
              "      margin-bottom: 4px;\n",
              "    }\n",
              "\n",
              "    [theme=dark] .colab-df-convert {\n",
              "      background-color: #3B4455;\n",
              "      fill: #D2E3FC;\n",
              "    }\n",
              "\n",
              "    [theme=dark] .colab-df-convert:hover {\n",
              "      background-color: #434B5C;\n",
              "      box-shadow: 0px 1px 3px 1px rgba(0, 0, 0, 0.15);\n",
              "      filter: drop-shadow(0px 1px 2px rgba(0, 0, 0, 0.3));\n",
              "      fill: #FFFFFF;\n",
              "    }\n",
              "  </style>\n",
              "\n",
              "    <script>\n",
              "      const buttonEl =\n",
              "        document.querySelector('#df-636eb0b0-481d-45ab-b9a0-42144cfa5083 button.colab-df-convert');\n",
              "      buttonEl.style.display =\n",
              "        google.colab.kernel.accessAllowed ? 'block' : 'none';\n",
              "\n",
              "      async function convertToInteractive(key) {\n",
              "        const element = document.querySelector('#df-636eb0b0-481d-45ab-b9a0-42144cfa5083');\n",
              "        const dataTable =\n",
              "          await google.colab.kernel.invokeFunction('convertToInteractive',\n",
              "                                                    [key], {});\n",
              "        if (!dataTable) return;\n",
              "\n",
              "        const docLinkHtml = 'Like what you see? Visit the ' +\n",
              "          '<a target=\"_blank\" href=https://colab.research.google.com/notebooks/data_table.ipynb>data table notebook</a>'\n",
              "          + ' to learn more about interactive tables.';\n",
              "        element.innerHTML = '';\n",
              "        dataTable['output_type'] = 'display_data';\n",
              "        await google.colab.output.renderOutput(dataTable, element);\n",
              "        const docLink = document.createElement('div');\n",
              "        docLink.innerHTML = docLinkHtml;\n",
              "        element.appendChild(docLink);\n",
              "      }\n",
              "    </script>\n",
              "  </div>\n",
              "\n",
              "\n",
              "<div id=\"df-aa3b58ec-1596-46b7-af83-e792ecf8a787\">\n",
              "  <button class=\"colab-df-quickchart\" onclick=\"quickchart('df-aa3b58ec-1596-46b7-af83-e792ecf8a787')\"\n",
              "            title=\"Suggest charts\"\n",
              "            style=\"display:none;\">\n",
              "\n",
              "<svg xmlns=\"http://www.w3.org/2000/svg\" height=\"24px\"viewBox=\"0 0 24 24\"\n",
              "     width=\"24px\">\n",
              "    <g>\n",
              "        <path d=\"M19 3H5c-1.1 0-2 .9-2 2v14c0 1.1.9 2 2 2h14c1.1 0 2-.9 2-2V5c0-1.1-.9-2-2-2zM9 17H7v-7h2v7zm4 0h-2V7h2v10zm4 0h-2v-4h2v4z\"/>\n",
              "    </g>\n",
              "</svg>\n",
              "  </button>\n",
              "\n",
              "<style>\n",
              "  .colab-df-quickchart {\n",
              "      --bg-color: #E8F0FE;\n",
              "      --fill-color: #1967D2;\n",
              "      --hover-bg-color: #E2EBFA;\n",
              "      --hover-fill-color: #174EA6;\n",
              "      --disabled-fill-color: #AAA;\n",
              "      --disabled-bg-color: #DDD;\n",
              "  }\n",
              "\n",
              "  [theme=dark] .colab-df-quickchart {\n",
              "      --bg-color: #3B4455;\n",
              "      --fill-color: #D2E3FC;\n",
              "      --hover-bg-color: #434B5C;\n",
              "      --hover-fill-color: #FFFFFF;\n",
              "      --disabled-bg-color: #3B4455;\n",
              "      --disabled-fill-color: #666;\n",
              "  }\n",
              "\n",
              "  .colab-df-quickchart {\n",
              "    background-color: var(--bg-color);\n",
              "    border: none;\n",
              "    border-radius: 50%;\n",
              "    cursor: pointer;\n",
              "    display: none;\n",
              "    fill: var(--fill-color);\n",
              "    height: 32px;\n",
              "    padding: 0;\n",
              "    width: 32px;\n",
              "  }\n",
              "\n",
              "  .colab-df-quickchart:hover {\n",
              "    background-color: var(--hover-bg-color);\n",
              "    box-shadow: 0 1px 2px rgba(60, 64, 67, 0.3), 0 1px 3px 1px rgba(60, 64, 67, 0.15);\n",
              "    fill: var(--button-hover-fill-color);\n",
              "  }\n",
              "\n",
              "  .colab-df-quickchart-complete:disabled,\n",
              "  .colab-df-quickchart-complete:disabled:hover {\n",
              "    background-color: var(--disabled-bg-color);\n",
              "    fill: var(--disabled-fill-color);\n",
              "    box-shadow: none;\n",
              "  }\n",
              "\n",
              "  .colab-df-spinner {\n",
              "    border: 2px solid var(--fill-color);\n",
              "    border-color: transparent;\n",
              "    border-bottom-color: var(--fill-color);\n",
              "    animation:\n",
              "      spin 1s steps(1) infinite;\n",
              "  }\n",
              "\n",
              "  @keyframes spin {\n",
              "    0% {\n",
              "      border-color: transparent;\n",
              "      border-bottom-color: var(--fill-color);\n",
              "      border-left-color: var(--fill-color);\n",
              "    }\n",
              "    20% {\n",
              "      border-color: transparent;\n",
              "      border-left-color: var(--fill-color);\n",
              "      border-top-color: var(--fill-color);\n",
              "    }\n",
              "    30% {\n",
              "      border-color: transparent;\n",
              "      border-left-color: var(--fill-color);\n",
              "      border-top-color: var(--fill-color);\n",
              "      border-right-color: var(--fill-color);\n",
              "    }\n",
              "    40% {\n",
              "      border-color: transparent;\n",
              "      border-right-color: var(--fill-color);\n",
              "      border-top-color: var(--fill-color);\n",
              "    }\n",
              "    60% {\n",
              "      border-color: transparent;\n",
              "      border-right-color: var(--fill-color);\n",
              "    }\n",
              "    80% {\n",
              "      border-color: transparent;\n",
              "      border-right-color: var(--fill-color);\n",
              "      border-bottom-color: var(--fill-color);\n",
              "    }\n",
              "    90% {\n",
              "      border-color: transparent;\n",
              "      border-bottom-color: var(--fill-color);\n",
              "    }\n",
              "  }\n",
              "</style>\n",
              "\n",
              "  <script>\n",
              "    async function quickchart(key) {\n",
              "      const quickchartButtonEl =\n",
              "        document.querySelector('#' + key + ' button');\n",
              "      quickchartButtonEl.disabled = true;  // To prevent multiple clicks.\n",
              "      quickchartButtonEl.classList.add('colab-df-spinner');\n",
              "      try {\n",
              "        const charts = await google.colab.kernel.invokeFunction(\n",
              "            'suggestCharts', [key], {});\n",
              "      } catch (error) {\n",
              "        console.error('Error during call to suggestCharts:', error);\n",
              "      }\n",
              "      quickchartButtonEl.classList.remove('colab-df-spinner');\n",
              "      quickchartButtonEl.classList.add('colab-df-quickchart-complete');\n",
              "    }\n",
              "    (() => {\n",
              "      let quickchartButtonEl =\n",
              "        document.querySelector('#df-aa3b58ec-1596-46b7-af83-e792ecf8a787 button');\n",
              "      quickchartButtonEl.style.display =\n",
              "        google.colab.kernel.accessAllowed ? 'block' : 'none';\n",
              "    })();\n",
              "  </script>\n",
              "</div>\n",
              "\n",
              "    </div>\n",
              "  </div>\n"
            ],
            "application/vnd.google.colaboratory.intrinsic+json": {
              "type": "dataframe",
              "summary": "{\n  \"name\": \"df\",\n  \"rows\": 2,\n  \"fields\": [\n    {\n      \"column\": \"count\",\n      \"properties\": {\n        \"dtype\": \"number\",\n        \"std\": 0.0,\n        \"min\": 7507.0,\n        \"max\": 7507.0,\n        \"num_unique_values\": 1,\n        \"samples\": [\n          7507.0\n        ],\n        \"semantic_type\": \"\",\n        \"description\": \"\"\n      }\n    },\n    {\n      \"column\": \"mean\",\n      \"properties\": {\n        \"dtype\": \"number\",\n        \"std\": 1375.322689407835,\n        \"min\": 49.61076328759824,\n        \"max\": 1994.6107632875983,\n        \"num_unique_values\": 2,\n        \"samples\": [\n          1994.6107632875983\n        ],\n        \"semantic_type\": \"\",\n        \"description\": \"\"\n      }\n    },\n    {\n      \"column\": \"std\",\n      \"properties\": {\n        \"dtype\": \"number\",\n        \"std\": 0.0,\n        \"min\": 12.892154743113053,\n        \"max\": 12.892154743113053,\n        \"num_unique_values\": 1,\n        \"samples\": [\n          12.892154743113053\n        ],\n        \"semantic_type\": \"\",\n        \"description\": \"\"\n      }\n    },\n    {\n      \"column\": \"min\",\n      \"properties\": {\n        \"dtype\": \"number\",\n        \"std\": 1375.322689407835,\n        \"min\": 25.0,\n        \"max\": 1970.0,\n        \"num_unique_values\": 2,\n        \"samples\": [\n          1970.0\n        ],\n        \"semantic_type\": \"\",\n        \"description\": \"\"\n      }\n    },\n    {\n      \"column\": \"25%\",\n      \"properties\": {\n        \"dtype\": \"number\",\n        \"std\": 1375.322689407835,\n        \"min\": 39.0,\n        \"max\": 1984.0,\n        \"num_unique_values\": 2,\n        \"samples\": [\n          1984.0\n        ],\n        \"semantic_type\": \"\",\n        \"description\": \"\"\n      }\n    },\n    {\n      \"column\": \"50%\",\n      \"properties\": {\n        \"dtype\": \"number\",\n        \"std\": 1375.322689407835,\n        \"min\": 51.0,\n        \"max\": 1996.0,\n        \"num_unique_values\": 2,\n        \"samples\": [\n          1996.0\n        ],\n        \"semantic_type\": \"\",\n        \"description\": \"\"\n      }\n    },\n    {\n      \"column\": \"75%\",\n      \"properties\": {\n        \"dtype\": \"number\",\n        \"std\": 1375.322689407835,\n        \"min\": 61.0,\n        \"max\": 2006.0,\n        \"num_unique_values\": 2,\n        \"samples\": [\n          2006.0\n        ],\n        \"semantic_type\": \"\",\n        \"description\": \"\"\n      }\n    },\n    {\n      \"column\": \"max\",\n      \"properties\": {\n        \"dtype\": \"number\",\n        \"std\": 1375.322689407835,\n        \"min\": 70.0,\n        \"max\": 2015.0,\n        \"num_unique_values\": 2,\n        \"samples\": [\n          2015.0\n        ],\n        \"semantic_type\": \"\",\n        \"description\": \"\"\n      }\n    }\n  ]\n}"
            }
          },
          "metadata": {},
          "execution_count": 9
        },
        {
          "output_type": "stream",
          "name": "stdout",
          "text": [
            "time: 42.9 ms (started: 2025-03-11 13:59:50 +00:00)\n"
          ]
        }
      ],
      "source": [
        "df.describe().T"
      ]
    },
    {
      "cell_type": "markdown",
      "metadata": {
        "id": "LZ7son939SQJ"
      },
      "source": [
        "#### 🚧 todo:\n",
        "- explain\n",
        "\t- why only two rows?\n",
        "\t- the strange row above and the values you find. Look into the data!\n",
        "\n",
        "answers:\n"
      ]
    },
    {
      "cell_type": "markdown",
      "source": [
        "1) describe() works on only numerical values and in our dataset we have only two float rows <br>\n",
        "2)\n"
      ],
      "metadata": {
        "id": "4T9QTXyW9_Cn"
      }
    },
    {
      "cell_type": "code",
      "execution_count": 10,
      "metadata": {
        "id": "ha-HMA839SQJ",
        "outputId": "14b8ea15-d333-4690-c15f-cf19312a5f35",
        "colab": {
          "base_uri": "https://localhost:8080/"
        }
      },
      "outputs": [
        {
          "output_type": "stream",
          "name": "stdout",
          "text": [
            "<class 'pandas.core.frame.DataFrame'>\n",
            "RangeIndex: 7508 entries, 0 to 7507\n",
            "Data columns (total 7 columns):\n",
            " #   Column                            Non-Null Count  Dtype  \n",
            "---  ------                            --------------  -----  \n",
            " 0   un-general-debates-blueprint.csv  7507 non-null   float64\n",
            " 1   year                              7507 non-null   float64\n",
            " 2   country                           7507 non-null   object \n",
            " 3   country_name                      7507 non-null   object \n",
            " 4   speaker                           7480 non-null   object \n",
            " 5   position                          4502 non-null   object \n",
            " 6   text                              7507 non-null   object \n",
            "dtypes: float64(2), object(5)\n",
            "memory usage: 232.4 MB\n",
            "time: 32.9 ms (started: 2025-03-11 13:59:52 +00:00)\n"
          ]
        }
      ],
      "source": [
        "df.info(memory_usage='deep')\n",
        "# check the total memory usage compared to the original file size"
      ]
    },
    {
      "cell_type": "markdown",
      "metadata": {
        "id": "JpbaJzRO9SQJ"
      },
      "source": [
        "## Adding length columns, describing the dataframe"
      ]
    },
    {
      "cell_type": "code",
      "execution_count": 11,
      "metadata": {
        "id": "CRKYyXFf9SQJ",
        "outputId": "878ffd8b-d6fe-4ff0-b3de-802bc8e16991",
        "colab": {
          "base_uri": "https://localhost:8080/",
          "height": 161
        }
      },
      "outputs": [
        {
          "output_type": "execute_result",
          "data": {
            "text/plain": [
              "                                   count          mean          std     min  \\\n",
              "un-general-debates-blueprint.csv  7507.0     49.610763    12.892155    25.0   \n",
              "year                              7507.0   1994.610763    12.892155  1970.0   \n",
              "nb_chars                          7507.0  17967.281604  7860.038463  2362.0   \n",
              "\n",
              "                                      25%      50%      75%      max  \n",
              "un-general-debates-blueprint.csv     39.0     51.0     61.0     70.0  \n",
              "year                               1984.0   1996.0   2006.0   2015.0  \n",
              "nb_chars                          12077.0  16424.0  22479.5  72041.0  "
            ],
            "text/html": [
              "\n",
              "  <div id=\"df-fe8f9f9e-38de-4d39-bdaa-2e03c81672f7\" class=\"colab-df-container\">\n",
              "    <div>\n",
              "<style scoped>\n",
              "    .dataframe tbody tr th:only-of-type {\n",
              "        vertical-align: middle;\n",
              "    }\n",
              "\n",
              "    .dataframe tbody tr th {\n",
              "        vertical-align: top;\n",
              "    }\n",
              "\n",
              "    .dataframe thead th {\n",
              "        text-align: right;\n",
              "    }\n",
              "</style>\n",
              "<table border=\"1\" class=\"dataframe\">\n",
              "  <thead>\n",
              "    <tr style=\"text-align: right;\">\n",
              "      <th></th>\n",
              "      <th>count</th>\n",
              "      <th>mean</th>\n",
              "      <th>std</th>\n",
              "      <th>min</th>\n",
              "      <th>25%</th>\n",
              "      <th>50%</th>\n",
              "      <th>75%</th>\n",
              "      <th>max</th>\n",
              "    </tr>\n",
              "  </thead>\n",
              "  <tbody>\n",
              "    <tr>\n",
              "      <th>un-general-debates-blueprint.csv</th>\n",
              "      <td>7507.0</td>\n",
              "      <td>49.610763</td>\n",
              "      <td>12.892155</td>\n",
              "      <td>25.0</td>\n",
              "      <td>39.0</td>\n",
              "      <td>51.0</td>\n",
              "      <td>61.0</td>\n",
              "      <td>70.0</td>\n",
              "    </tr>\n",
              "    <tr>\n",
              "      <th>year</th>\n",
              "      <td>7507.0</td>\n",
              "      <td>1994.610763</td>\n",
              "      <td>12.892155</td>\n",
              "      <td>1970.0</td>\n",
              "      <td>1984.0</td>\n",
              "      <td>1996.0</td>\n",
              "      <td>2006.0</td>\n",
              "      <td>2015.0</td>\n",
              "    </tr>\n",
              "    <tr>\n",
              "      <th>nb_chars</th>\n",
              "      <td>7507.0</td>\n",
              "      <td>17967.281604</td>\n",
              "      <td>7860.038463</td>\n",
              "      <td>2362.0</td>\n",
              "      <td>12077.0</td>\n",
              "      <td>16424.0</td>\n",
              "      <td>22479.5</td>\n",
              "      <td>72041.0</td>\n",
              "    </tr>\n",
              "  </tbody>\n",
              "</table>\n",
              "</div>\n",
              "    <div class=\"colab-df-buttons\">\n",
              "\n",
              "  <div class=\"colab-df-container\">\n",
              "    <button class=\"colab-df-convert\" onclick=\"convertToInteractive('df-fe8f9f9e-38de-4d39-bdaa-2e03c81672f7')\"\n",
              "            title=\"Convert this dataframe to an interactive table.\"\n",
              "            style=\"display:none;\">\n",
              "\n",
              "  <svg xmlns=\"http://www.w3.org/2000/svg\" height=\"24px\" viewBox=\"0 -960 960 960\">\n",
              "    <path d=\"M120-120v-720h720v720H120Zm60-500h600v-160H180v160Zm220 220h160v-160H400v160Zm0 220h160v-160H400v160ZM180-400h160v-160H180v160Zm440 0h160v-160H620v160ZM180-180h160v-160H180v160Zm440 0h160v-160H620v160Z\"/>\n",
              "  </svg>\n",
              "    </button>\n",
              "\n",
              "  <style>\n",
              "    .colab-df-container {\n",
              "      display:flex;\n",
              "      gap: 12px;\n",
              "    }\n",
              "\n",
              "    .colab-df-convert {\n",
              "      background-color: #E8F0FE;\n",
              "      border: none;\n",
              "      border-radius: 50%;\n",
              "      cursor: pointer;\n",
              "      display: none;\n",
              "      fill: #1967D2;\n",
              "      height: 32px;\n",
              "      padding: 0 0 0 0;\n",
              "      width: 32px;\n",
              "    }\n",
              "\n",
              "    .colab-df-convert:hover {\n",
              "      background-color: #E2EBFA;\n",
              "      box-shadow: 0px 1px 2px rgba(60, 64, 67, 0.3), 0px 1px 3px 1px rgba(60, 64, 67, 0.15);\n",
              "      fill: #174EA6;\n",
              "    }\n",
              "\n",
              "    .colab-df-buttons div {\n",
              "      margin-bottom: 4px;\n",
              "    }\n",
              "\n",
              "    [theme=dark] .colab-df-convert {\n",
              "      background-color: #3B4455;\n",
              "      fill: #D2E3FC;\n",
              "    }\n",
              "\n",
              "    [theme=dark] .colab-df-convert:hover {\n",
              "      background-color: #434B5C;\n",
              "      box-shadow: 0px 1px 3px 1px rgba(0, 0, 0, 0.15);\n",
              "      filter: drop-shadow(0px 1px 2px rgba(0, 0, 0, 0.3));\n",
              "      fill: #FFFFFF;\n",
              "    }\n",
              "  </style>\n",
              "\n",
              "    <script>\n",
              "      const buttonEl =\n",
              "        document.querySelector('#df-fe8f9f9e-38de-4d39-bdaa-2e03c81672f7 button.colab-df-convert');\n",
              "      buttonEl.style.display =\n",
              "        google.colab.kernel.accessAllowed ? 'block' : 'none';\n",
              "\n",
              "      async function convertToInteractive(key) {\n",
              "        const element = document.querySelector('#df-fe8f9f9e-38de-4d39-bdaa-2e03c81672f7');\n",
              "        const dataTable =\n",
              "          await google.colab.kernel.invokeFunction('convertToInteractive',\n",
              "                                                    [key], {});\n",
              "        if (!dataTable) return;\n",
              "\n",
              "        const docLinkHtml = 'Like what you see? Visit the ' +\n",
              "          '<a target=\"_blank\" href=https://colab.research.google.com/notebooks/data_table.ipynb>data table notebook</a>'\n",
              "          + ' to learn more about interactive tables.';\n",
              "        element.innerHTML = '';\n",
              "        dataTable['output_type'] = 'display_data';\n",
              "        await google.colab.output.renderOutput(dataTable, element);\n",
              "        const docLink = document.createElement('div');\n",
              "        docLink.innerHTML = docLinkHtml;\n",
              "        element.appendChild(docLink);\n",
              "      }\n",
              "    </script>\n",
              "  </div>\n",
              "\n",
              "\n",
              "<div id=\"df-4669697e-f153-41a4-85c2-4f7b0f805275\">\n",
              "  <button class=\"colab-df-quickchart\" onclick=\"quickchart('df-4669697e-f153-41a4-85c2-4f7b0f805275')\"\n",
              "            title=\"Suggest charts\"\n",
              "            style=\"display:none;\">\n",
              "\n",
              "<svg xmlns=\"http://www.w3.org/2000/svg\" height=\"24px\"viewBox=\"0 0 24 24\"\n",
              "     width=\"24px\">\n",
              "    <g>\n",
              "        <path d=\"M19 3H5c-1.1 0-2 .9-2 2v14c0 1.1.9 2 2 2h14c1.1 0 2-.9 2-2V5c0-1.1-.9-2-2-2zM9 17H7v-7h2v7zm4 0h-2V7h2v10zm4 0h-2v-4h2v4z\"/>\n",
              "    </g>\n",
              "</svg>\n",
              "  </button>\n",
              "\n",
              "<style>\n",
              "  .colab-df-quickchart {\n",
              "      --bg-color: #E8F0FE;\n",
              "      --fill-color: #1967D2;\n",
              "      --hover-bg-color: #E2EBFA;\n",
              "      --hover-fill-color: #174EA6;\n",
              "      --disabled-fill-color: #AAA;\n",
              "      --disabled-bg-color: #DDD;\n",
              "  }\n",
              "\n",
              "  [theme=dark] .colab-df-quickchart {\n",
              "      --bg-color: #3B4455;\n",
              "      --fill-color: #D2E3FC;\n",
              "      --hover-bg-color: #434B5C;\n",
              "      --hover-fill-color: #FFFFFF;\n",
              "      --disabled-bg-color: #3B4455;\n",
              "      --disabled-fill-color: #666;\n",
              "  }\n",
              "\n",
              "  .colab-df-quickchart {\n",
              "    background-color: var(--bg-color);\n",
              "    border: none;\n",
              "    border-radius: 50%;\n",
              "    cursor: pointer;\n",
              "    display: none;\n",
              "    fill: var(--fill-color);\n",
              "    height: 32px;\n",
              "    padding: 0;\n",
              "    width: 32px;\n",
              "  }\n",
              "\n",
              "  .colab-df-quickchart:hover {\n",
              "    background-color: var(--hover-bg-color);\n",
              "    box-shadow: 0 1px 2px rgba(60, 64, 67, 0.3), 0 1px 3px 1px rgba(60, 64, 67, 0.15);\n",
              "    fill: var(--button-hover-fill-color);\n",
              "  }\n",
              "\n",
              "  .colab-df-quickchart-complete:disabled,\n",
              "  .colab-df-quickchart-complete:disabled:hover {\n",
              "    background-color: var(--disabled-bg-color);\n",
              "    fill: var(--disabled-fill-color);\n",
              "    box-shadow: none;\n",
              "  }\n",
              "\n",
              "  .colab-df-spinner {\n",
              "    border: 2px solid var(--fill-color);\n",
              "    border-color: transparent;\n",
              "    border-bottom-color: var(--fill-color);\n",
              "    animation:\n",
              "      spin 1s steps(1) infinite;\n",
              "  }\n",
              "\n",
              "  @keyframes spin {\n",
              "    0% {\n",
              "      border-color: transparent;\n",
              "      border-bottom-color: var(--fill-color);\n",
              "      border-left-color: var(--fill-color);\n",
              "    }\n",
              "    20% {\n",
              "      border-color: transparent;\n",
              "      border-left-color: var(--fill-color);\n",
              "      border-top-color: var(--fill-color);\n",
              "    }\n",
              "    30% {\n",
              "      border-color: transparent;\n",
              "      border-left-color: var(--fill-color);\n",
              "      border-top-color: var(--fill-color);\n",
              "      border-right-color: var(--fill-color);\n",
              "    }\n",
              "    40% {\n",
              "      border-color: transparent;\n",
              "      border-right-color: var(--fill-color);\n",
              "      border-top-color: var(--fill-color);\n",
              "    }\n",
              "    60% {\n",
              "      border-color: transparent;\n",
              "      border-right-color: var(--fill-color);\n",
              "    }\n",
              "    80% {\n",
              "      border-color: transparent;\n",
              "      border-right-color: var(--fill-color);\n",
              "      border-bottom-color: var(--fill-color);\n",
              "    }\n",
              "    90% {\n",
              "      border-color: transparent;\n",
              "      border-bottom-color: var(--fill-color);\n",
              "    }\n",
              "  }\n",
              "</style>\n",
              "\n",
              "  <script>\n",
              "    async function quickchart(key) {\n",
              "      const quickchartButtonEl =\n",
              "        document.querySelector('#' + key + ' button');\n",
              "      quickchartButtonEl.disabled = true;  // To prevent multiple clicks.\n",
              "      quickchartButtonEl.classList.add('colab-df-spinner');\n",
              "      try {\n",
              "        const charts = await google.colab.kernel.invokeFunction(\n",
              "            'suggestCharts', [key], {});\n",
              "      } catch (error) {\n",
              "        console.error('Error during call to suggestCharts:', error);\n",
              "      }\n",
              "      quickchartButtonEl.classList.remove('colab-df-spinner');\n",
              "      quickchartButtonEl.classList.add('colab-df-quickchart-complete');\n",
              "    }\n",
              "    (() => {\n",
              "      let quickchartButtonEl =\n",
              "        document.querySelector('#df-4669697e-f153-41a4-85c2-4f7b0f805275 button');\n",
              "      quickchartButtonEl.style.display =\n",
              "        google.colab.kernel.accessAllowed ? 'block' : 'none';\n",
              "    })();\n",
              "  </script>\n",
              "</div>\n",
              "\n",
              "    </div>\n",
              "  </div>\n"
            ],
            "application/vnd.google.colaboratory.intrinsic+json": {
              "type": "dataframe",
              "summary": "{\n  \"name\": \"df\",\n  \"rows\": 3,\n  \"fields\": [\n    {\n      \"column\": \"count\",\n      \"properties\": {\n        \"dtype\": \"number\",\n        \"std\": 0.0,\n        \"min\": 7507.0,\n        \"max\": 7507.0,\n        \"num_unique_values\": 1,\n        \"samples\": [\n          7507.0\n        ],\n        \"semantic_type\": \"\",\n        \"description\": \"\"\n      }\n    },\n    {\n      \"column\": \"mean\",\n      \"properties\": {\n        \"dtype\": \"number\",\n        \"std\": 9831.515372606367,\n        \"min\": 49.61076328759824,\n        \"max\": 17967.281603836418,\n        \"num_unique_values\": 3,\n        \"samples\": [\n          49.61076328759824\n        ],\n        \"semantic_type\": \"\",\n        \"description\": \"\"\n      }\n    },\n    {\n      \"column\": \"std\",\n      \"properties\": {\n        \"dtype\": \"number\",\n        \"std\": 4530.5520335699775,\n        \"min\": 12.892154743113053,\n        \"max\": 7860.0384632208115,\n        \"num_unique_values\": 2,\n        \"samples\": [\n          7860.0384632208115\n        ],\n        \"semantic_type\": \"\",\n        \"description\": \"\"\n      }\n    },\n    {\n      \"column\": \"min\",\n      \"properties\": {\n        \"dtype\": \"number\",\n        \"std\": 1251.5495728629103,\n        \"min\": 25.0,\n        \"max\": 2362.0,\n        \"num_unique_values\": 3,\n        \"samples\": [\n          25.0\n        ],\n        \"semantic_type\": \"\",\n        \"description\": \"\"\n      }\n    },\n    {\n      \"column\": \"25%\",\n      \"properties\": {\n        \"dtype\": \"number\",\n        \"std\": 6462.26376744249,\n        \"min\": 39.0,\n        \"max\": 12077.0,\n        \"num_unique_values\": 3,\n        \"samples\": [\n          39.0\n        ],\n        \"semantic_type\": \"\",\n        \"description\": \"\"\n      }\n    },\n    {\n      \"column\": \"50%\",\n      \"properties\": {\n        \"dtype\": \"number\",\n        \"std\": 8944.507979760541,\n        \"min\": 51.0,\n        \"max\": 16424.0,\n        \"num_unique_values\": 3,\n        \"samples\": [\n          51.0\n        ],\n        \"semantic_type\": \"\",\n        \"description\": \"\"\n      }\n    },\n    {\n      \"column\": \"75%\",\n      \"properties\": {\n        \"dtype\": \"number\",\n        \"std\": 12419.98637613316,\n        \"min\": 61.0,\n        \"max\": 22479.5,\n        \"num_unique_values\": 3,\n        \"samples\": [\n          61.0\n        ],\n        \"semantic_type\": \"\",\n        \"description\": \"\"\n      }\n    },\n    {\n      \"column\": \"max\",\n      \"properties\": {\n        \"dtype\": \"number\",\n        \"std\": 41002.537608461906,\n        \"min\": 70.0,\n        \"max\": 72041.0,\n        \"num_unique_values\": 3,\n        \"samples\": [\n          70.0\n        ],\n        \"semantic_type\": \"\",\n        \"description\": \"\"\n      }\n    }\n  ]\n}"
            }
          },
          "metadata": {},
          "execution_count": 11
        },
        {
          "output_type": "stream",
          "name": "stdout",
          "text": [
            "time: 43.3 ms (started: 2025-03-11 13:59:55 +00:00)\n"
          ]
        }
      ],
      "source": [
        "df['nb_chars'] = df['text'].str.len()\n",
        "df.describe().T"
      ]
    },
    {
      "cell_type": "markdown",
      "metadata": {
        "id": "l07BwMRH9SQJ"
      },
      "source": [
        "#### 🚧 todo: estimate the number of words\n",
        "\n",
        "- what's the average word size in English? (Remember HoNLP, that class before the vacation?)\n",
        "- what's the mean, min, and max of estimated wordsize?\n",
        "- suppose that a page 11pt has on average 600 words, what are the values in number of pages?\n",
        "- suppose that on average, an English speaker pronounces 150 words per minute, what are the values for the duration of the speeches?\n"
      ]
    },
    {
      "cell_type": "code",
      "execution_count": 12,
      "metadata": {
        "id": "AoD-wL7O9SQJ",
        "outputId": "ed6b7ab8-091e-4ac2-ee80-652e88246fc8",
        "colab": {
          "base_uri": "https://localhost:8080/"
        }
      },
      "outputs": [
        {
          "output_type": "stream",
          "name": "stdout",
          "text": [
            "The average word size in English is: 4.7 characters\n",
            "Longest, shortest, and average speech in words: 15328, 503, 3823\n",
            "Longest, shortest, and average speech in pages: 25.55, 0.84, 6.37\n",
            "Longest, shortest, and average speech in minutes: 102.19, 3.35, 25.49\n",
            "time: 5.35 ms (started: 2025-03-11 13:59:58 +00:00)\n"
          ]
        }
      ],
      "source": [
        "print(\"The average word size in English is: 4.7 characters\")\n",
        "\n",
        "df[\"nb_words_theoritical\"] = df[\"nb_chars\"] / 4.7  # estimate the number of wordsh\n",
        "df[\"nb_pages\"] = df[\"nb_words_theoritical\"] / 600  # estimate pages\n",
        "df[\"nb_minutes\"] = df[\"nb_words_theoritical\"] / 150  # estimate duration\n",
        "\n",
        "print(f'Longest, shortest, and average speech in words: {df[\"nb_words_theoritical\"].max():.0f}, {df[\"nb_words_theoritical\"].min():.0f}, {df[\"nb_words_theoritical\"].mean():.0f}')\n",
        "print(f'Longest, shortest, and average speech in pages: {df[\"nb_pages\"].max():.2f}, {df[\"nb_pages\"].min():.2f}, {df[\"nb_pages\"].mean():.2f}')\n",
        "print(f'Longest, shortest, and average speech in minutes: {df[\"nb_minutes\"].max():.2f}, {df[\"nb_minutes\"].min():.2f}, {df[\"nb_minutes\"].mean():.2f}')"
      ]
    },
    {
      "cell_type": "markdown",
      "metadata": {
        "id": "LMTJMtkd9SQJ"
      },
      "source": [
        "\n",
        "\n",
        "\n",
        "#### 🚧 todo: add a wordlength column"
      ]
    },
    {
      "cell_type": "code",
      "execution_count": 13,
      "metadata": {
        "id": "hJJGXDDF9SQJ",
        "outputId": "0537109d-b057-49c0-feec-d7ef4c903ccd",
        "colab": {
          "base_uri": "https://localhost:8080/",
          "height": 286
        }
      },
      "outputs": [
        {
          "output_type": "execute_result",
          "data": {
            "text/plain": [
              "                                   count          mean          std  \\\n",
              "un-general-debates-blueprint.csv  7507.0     49.610763    12.892155   \n",
              "year                              7507.0   1994.610763    12.892155   \n",
              "nb_chars                          7507.0  17967.281604  7860.038463   \n",
              "nb_words_theoritical              7507.0   3822.825873  1672.348609   \n",
              "nb_pages                          7507.0      6.371376     2.787248   \n",
              "nb_minutes                        7507.0     25.485506    11.148991   \n",
              "nb_words                          7508.0   2865.088306  1278.843737   \n",
              "\n",
              "                                          min           25%           50%  \\\n",
              "un-general-debates-blueprint.csv    25.000000     39.000000     51.000000   \n",
              "year                              1970.000000   1984.000000   1996.000000   \n",
              "nb_chars                          2362.000000  12077.000000  16424.000000   \n",
              "nb_words_theoritical               502.553191   2569.574468   3494.468085   \n",
              "nb_pages                             0.837589      4.282624      5.824113   \n",
              "nb_minutes                           3.350355     17.130496     23.296454   \n",
              "nb_words                             1.000000   1905.000000   2611.000000   \n",
              "\n",
              "                                           75%           max  \n",
              "un-general-debates-blueprint.csv     61.000000     70.000000  \n",
              "year                               2006.000000   2015.000000  \n",
              "nb_chars                          22479.500000  72041.000000  \n",
              "nb_words_theoritical               4782.872340  15327.872340  \n",
              "nb_pages                              7.971454     25.546454  \n",
              "nb_minutes                           31.885816    102.185816  \n",
              "nb_words                           3597.250000  11476.000000  "
            ],
            "text/html": [
              "\n",
              "  <div id=\"df-468f4b0e-7b82-4e5d-a3b9-6bdae2fc94b2\" class=\"colab-df-container\">\n",
              "    <div>\n",
              "<style scoped>\n",
              "    .dataframe tbody tr th:only-of-type {\n",
              "        vertical-align: middle;\n",
              "    }\n",
              "\n",
              "    .dataframe tbody tr th {\n",
              "        vertical-align: top;\n",
              "    }\n",
              "\n",
              "    .dataframe thead th {\n",
              "        text-align: right;\n",
              "    }\n",
              "</style>\n",
              "<table border=\"1\" class=\"dataframe\">\n",
              "  <thead>\n",
              "    <tr style=\"text-align: right;\">\n",
              "      <th></th>\n",
              "      <th>count</th>\n",
              "      <th>mean</th>\n",
              "      <th>std</th>\n",
              "      <th>min</th>\n",
              "      <th>25%</th>\n",
              "      <th>50%</th>\n",
              "      <th>75%</th>\n",
              "      <th>max</th>\n",
              "    </tr>\n",
              "  </thead>\n",
              "  <tbody>\n",
              "    <tr>\n",
              "      <th>un-general-debates-blueprint.csv</th>\n",
              "      <td>7507.0</td>\n",
              "      <td>49.610763</td>\n",
              "      <td>12.892155</td>\n",
              "      <td>25.000000</td>\n",
              "      <td>39.000000</td>\n",
              "      <td>51.000000</td>\n",
              "      <td>61.000000</td>\n",
              "      <td>70.000000</td>\n",
              "    </tr>\n",
              "    <tr>\n",
              "      <th>year</th>\n",
              "      <td>7507.0</td>\n",
              "      <td>1994.610763</td>\n",
              "      <td>12.892155</td>\n",
              "      <td>1970.000000</td>\n",
              "      <td>1984.000000</td>\n",
              "      <td>1996.000000</td>\n",
              "      <td>2006.000000</td>\n",
              "      <td>2015.000000</td>\n",
              "    </tr>\n",
              "    <tr>\n",
              "      <th>nb_chars</th>\n",
              "      <td>7507.0</td>\n",
              "      <td>17967.281604</td>\n",
              "      <td>7860.038463</td>\n",
              "      <td>2362.000000</td>\n",
              "      <td>12077.000000</td>\n",
              "      <td>16424.000000</td>\n",
              "      <td>22479.500000</td>\n",
              "      <td>72041.000000</td>\n",
              "    </tr>\n",
              "    <tr>\n",
              "      <th>nb_words_theoritical</th>\n",
              "      <td>7507.0</td>\n",
              "      <td>3822.825873</td>\n",
              "      <td>1672.348609</td>\n",
              "      <td>502.553191</td>\n",
              "      <td>2569.574468</td>\n",
              "      <td>3494.468085</td>\n",
              "      <td>4782.872340</td>\n",
              "      <td>15327.872340</td>\n",
              "    </tr>\n",
              "    <tr>\n",
              "      <th>nb_pages</th>\n",
              "      <td>7507.0</td>\n",
              "      <td>6.371376</td>\n",
              "      <td>2.787248</td>\n",
              "      <td>0.837589</td>\n",
              "      <td>4.282624</td>\n",
              "      <td>5.824113</td>\n",
              "      <td>7.971454</td>\n",
              "      <td>25.546454</td>\n",
              "    </tr>\n",
              "    <tr>\n",
              "      <th>nb_minutes</th>\n",
              "      <td>7507.0</td>\n",
              "      <td>25.485506</td>\n",
              "      <td>11.148991</td>\n",
              "      <td>3.350355</td>\n",
              "      <td>17.130496</td>\n",
              "      <td>23.296454</td>\n",
              "      <td>31.885816</td>\n",
              "      <td>102.185816</td>\n",
              "    </tr>\n",
              "    <tr>\n",
              "      <th>nb_words</th>\n",
              "      <td>7508.0</td>\n",
              "      <td>2865.088306</td>\n",
              "      <td>1278.843737</td>\n",
              "      <td>1.000000</td>\n",
              "      <td>1905.000000</td>\n",
              "      <td>2611.000000</td>\n",
              "      <td>3597.250000</td>\n",
              "      <td>11476.000000</td>\n",
              "    </tr>\n",
              "  </tbody>\n",
              "</table>\n",
              "</div>\n",
              "    <div class=\"colab-df-buttons\">\n",
              "\n",
              "  <div class=\"colab-df-container\">\n",
              "    <button class=\"colab-df-convert\" onclick=\"convertToInteractive('df-468f4b0e-7b82-4e5d-a3b9-6bdae2fc94b2')\"\n",
              "            title=\"Convert this dataframe to an interactive table.\"\n",
              "            style=\"display:none;\">\n",
              "\n",
              "  <svg xmlns=\"http://www.w3.org/2000/svg\" height=\"24px\" viewBox=\"0 -960 960 960\">\n",
              "    <path d=\"M120-120v-720h720v720H120Zm60-500h600v-160H180v160Zm220 220h160v-160H400v160Zm0 220h160v-160H400v160ZM180-400h160v-160H180v160Zm440 0h160v-160H620v160ZM180-180h160v-160H180v160Zm440 0h160v-160H620v160Z\"/>\n",
              "  </svg>\n",
              "    </button>\n",
              "\n",
              "  <style>\n",
              "    .colab-df-container {\n",
              "      display:flex;\n",
              "      gap: 12px;\n",
              "    }\n",
              "\n",
              "    .colab-df-convert {\n",
              "      background-color: #E8F0FE;\n",
              "      border: none;\n",
              "      border-radius: 50%;\n",
              "      cursor: pointer;\n",
              "      display: none;\n",
              "      fill: #1967D2;\n",
              "      height: 32px;\n",
              "      padding: 0 0 0 0;\n",
              "      width: 32px;\n",
              "    }\n",
              "\n",
              "    .colab-df-convert:hover {\n",
              "      background-color: #E2EBFA;\n",
              "      box-shadow: 0px 1px 2px rgba(60, 64, 67, 0.3), 0px 1px 3px 1px rgba(60, 64, 67, 0.15);\n",
              "      fill: #174EA6;\n",
              "    }\n",
              "\n",
              "    .colab-df-buttons div {\n",
              "      margin-bottom: 4px;\n",
              "    }\n",
              "\n",
              "    [theme=dark] .colab-df-convert {\n",
              "      background-color: #3B4455;\n",
              "      fill: #D2E3FC;\n",
              "    }\n",
              "\n",
              "    [theme=dark] .colab-df-convert:hover {\n",
              "      background-color: #434B5C;\n",
              "      box-shadow: 0px 1px 3px 1px rgba(0, 0, 0, 0.15);\n",
              "      filter: drop-shadow(0px 1px 2px rgba(0, 0, 0, 0.3));\n",
              "      fill: #FFFFFF;\n",
              "    }\n",
              "  </style>\n",
              "\n",
              "    <script>\n",
              "      const buttonEl =\n",
              "        document.querySelector('#df-468f4b0e-7b82-4e5d-a3b9-6bdae2fc94b2 button.colab-df-convert');\n",
              "      buttonEl.style.display =\n",
              "        google.colab.kernel.accessAllowed ? 'block' : 'none';\n",
              "\n",
              "      async function convertToInteractive(key) {\n",
              "        const element = document.querySelector('#df-468f4b0e-7b82-4e5d-a3b9-6bdae2fc94b2');\n",
              "        const dataTable =\n",
              "          await google.colab.kernel.invokeFunction('convertToInteractive',\n",
              "                                                    [key], {});\n",
              "        if (!dataTable) return;\n",
              "\n",
              "        const docLinkHtml = 'Like what you see? Visit the ' +\n",
              "          '<a target=\"_blank\" href=https://colab.research.google.com/notebooks/data_table.ipynb>data table notebook</a>'\n",
              "          + ' to learn more about interactive tables.';\n",
              "        element.innerHTML = '';\n",
              "        dataTable['output_type'] = 'display_data';\n",
              "        await google.colab.output.renderOutput(dataTable, element);\n",
              "        const docLink = document.createElement('div');\n",
              "        docLink.innerHTML = docLinkHtml;\n",
              "        element.appendChild(docLink);\n",
              "      }\n",
              "    </script>\n",
              "  </div>\n",
              "\n",
              "\n",
              "<div id=\"df-cf180c51-740d-4ed5-8d57-38151f8b007f\">\n",
              "  <button class=\"colab-df-quickchart\" onclick=\"quickchart('df-cf180c51-740d-4ed5-8d57-38151f8b007f')\"\n",
              "            title=\"Suggest charts\"\n",
              "            style=\"display:none;\">\n",
              "\n",
              "<svg xmlns=\"http://www.w3.org/2000/svg\" height=\"24px\"viewBox=\"0 0 24 24\"\n",
              "     width=\"24px\">\n",
              "    <g>\n",
              "        <path d=\"M19 3H5c-1.1 0-2 .9-2 2v14c0 1.1.9 2 2 2h14c1.1 0 2-.9 2-2V5c0-1.1-.9-2-2-2zM9 17H7v-7h2v7zm4 0h-2V7h2v10zm4 0h-2v-4h2v4z\"/>\n",
              "    </g>\n",
              "</svg>\n",
              "  </button>\n",
              "\n",
              "<style>\n",
              "  .colab-df-quickchart {\n",
              "      --bg-color: #E8F0FE;\n",
              "      --fill-color: #1967D2;\n",
              "      --hover-bg-color: #E2EBFA;\n",
              "      --hover-fill-color: #174EA6;\n",
              "      --disabled-fill-color: #AAA;\n",
              "      --disabled-bg-color: #DDD;\n",
              "  }\n",
              "\n",
              "  [theme=dark] .colab-df-quickchart {\n",
              "      --bg-color: #3B4455;\n",
              "      --fill-color: #D2E3FC;\n",
              "      --hover-bg-color: #434B5C;\n",
              "      --hover-fill-color: #FFFFFF;\n",
              "      --disabled-bg-color: #3B4455;\n",
              "      --disabled-fill-color: #666;\n",
              "  }\n",
              "\n",
              "  .colab-df-quickchart {\n",
              "    background-color: var(--bg-color);\n",
              "    border: none;\n",
              "    border-radius: 50%;\n",
              "    cursor: pointer;\n",
              "    display: none;\n",
              "    fill: var(--fill-color);\n",
              "    height: 32px;\n",
              "    padding: 0;\n",
              "    width: 32px;\n",
              "  }\n",
              "\n",
              "  .colab-df-quickchart:hover {\n",
              "    background-color: var(--hover-bg-color);\n",
              "    box-shadow: 0 1px 2px rgba(60, 64, 67, 0.3), 0 1px 3px 1px rgba(60, 64, 67, 0.15);\n",
              "    fill: var(--button-hover-fill-color);\n",
              "  }\n",
              "\n",
              "  .colab-df-quickchart-complete:disabled,\n",
              "  .colab-df-quickchart-complete:disabled:hover {\n",
              "    background-color: var(--disabled-bg-color);\n",
              "    fill: var(--disabled-fill-color);\n",
              "    box-shadow: none;\n",
              "  }\n",
              "\n",
              "  .colab-df-spinner {\n",
              "    border: 2px solid var(--fill-color);\n",
              "    border-color: transparent;\n",
              "    border-bottom-color: var(--fill-color);\n",
              "    animation:\n",
              "      spin 1s steps(1) infinite;\n",
              "  }\n",
              "\n",
              "  @keyframes spin {\n",
              "    0% {\n",
              "      border-color: transparent;\n",
              "      border-bottom-color: var(--fill-color);\n",
              "      border-left-color: var(--fill-color);\n",
              "    }\n",
              "    20% {\n",
              "      border-color: transparent;\n",
              "      border-left-color: var(--fill-color);\n",
              "      border-top-color: var(--fill-color);\n",
              "    }\n",
              "    30% {\n",
              "      border-color: transparent;\n",
              "      border-left-color: var(--fill-color);\n",
              "      border-top-color: var(--fill-color);\n",
              "      border-right-color: var(--fill-color);\n",
              "    }\n",
              "    40% {\n",
              "      border-color: transparent;\n",
              "      border-right-color: var(--fill-color);\n",
              "      border-top-color: var(--fill-color);\n",
              "    }\n",
              "    60% {\n",
              "      border-color: transparent;\n",
              "      border-right-color: var(--fill-color);\n",
              "    }\n",
              "    80% {\n",
              "      border-color: transparent;\n",
              "      border-right-color: var(--fill-color);\n",
              "      border-bottom-color: var(--fill-color);\n",
              "    }\n",
              "    90% {\n",
              "      border-color: transparent;\n",
              "      border-bottom-color: var(--fill-color);\n",
              "    }\n",
              "  }\n",
              "</style>\n",
              "\n",
              "  <script>\n",
              "    async function quickchart(key) {\n",
              "      const quickchartButtonEl =\n",
              "        document.querySelector('#' + key + ' button');\n",
              "      quickchartButtonEl.disabled = true;  // To prevent multiple clicks.\n",
              "      quickchartButtonEl.classList.add('colab-df-spinner');\n",
              "      try {\n",
              "        const charts = await google.colab.kernel.invokeFunction(\n",
              "            'suggestCharts', [key], {});\n",
              "      } catch (error) {\n",
              "        console.error('Error during call to suggestCharts:', error);\n",
              "      }\n",
              "      quickchartButtonEl.classList.remove('colab-df-spinner');\n",
              "      quickchartButtonEl.classList.add('colab-df-quickchart-complete');\n",
              "    }\n",
              "    (() => {\n",
              "      let quickchartButtonEl =\n",
              "        document.querySelector('#df-cf180c51-740d-4ed5-8d57-38151f8b007f button');\n",
              "      quickchartButtonEl.style.display =\n",
              "        google.colab.kernel.accessAllowed ? 'block' : 'none';\n",
              "    })();\n",
              "  </script>\n",
              "</div>\n",
              "\n",
              "    </div>\n",
              "  </div>\n"
            ],
            "application/vnd.google.colaboratory.intrinsic+json": {
              "type": "dataframe",
              "summary": "{\n  \"name\": \"df\",\n  \"rows\": 7,\n  \"fields\": [\n    {\n      \"column\": \"count\",\n      \"properties\": {\n        \"dtype\": \"number\",\n        \"std\": 0.3779644730092272,\n        \"min\": 7507.0,\n        \"max\": 7508.0,\n        \"num_unique_values\": 2,\n        \"samples\": [\n          7508.0,\n          7507.0\n        ],\n        \"semantic_type\": \"\",\n        \"description\": \"\"\n      }\n    },\n    {\n      \"column\": \"mean\",\n      \"properties\": {\n        \"dtype\": \"number\",\n        \"std\": 6423.2314636934025,\n        \"min\": 6.371376455261141,\n        \"max\": 17967.281603836418,\n        \"num_unique_values\": 7,\n        \"samples\": [\n          49.61076328759824,\n          1994.6107632875983\n        ],\n        \"semantic_type\": \"\",\n        \"description\": \"\"\n      }\n    },\n    {\n      \"column\": \"std\",\n      \"properties\": {\n        \"dtype\": \"number\",\n        \"std\": 2869.158150775504,\n        \"min\": 2.787247681993194,\n        \"max\": 7860.0384632208115,\n        \"num_unique_values\": 6,\n        \"samples\": [\n          12.892154743113053,\n          7860.0384632208115\n        ],\n        \"semantic_type\": \"\",\n        \"description\": \"\"\n      }\n    },\n    {\n      \"column\": \"min\",\n      \"properties\": {\n        \"dtype\": \"number\",\n        \"std\": 1027.3206615454358,\n        \"min\": 0.8375886524822694,\n        \"max\": 2362.0,\n        \"num_unique_values\": 7,\n        \"samples\": [\n          25.0,\n          1970.0\n        ],\n        \"semantic_type\": \"\",\n        \"description\": \"\"\n      }\n    },\n    {\n      \"column\": \"25%\",\n      \"properties\": {\n        \"dtype\": \"number\",\n        \"std\": 4293.837044713796,\n        \"min\": 4.282624113475177,\n        \"max\": 12077.0,\n        \"num_unique_values\": 7,\n        \"samples\": [\n          39.0,\n          1984.0\n        ],\n        \"semantic_type\": \"\",\n        \"description\": \"\"\n      }\n    },\n    {\n      \"column\": \"50%\",\n      \"properties\": {\n        \"dtype\": \"number\",\n        \"std\": 5863.344957821106,\n        \"min\": 5.824113475177304,\n        \"max\": 16424.0,\n        \"num_unique_values\": 7,\n        \"samples\": [\n          51.0,\n          1996.0\n        ],\n        \"semantic_type\": \"\",\n        \"description\": \"\"\n      }\n    },\n    {\n      \"column\": \"75%\",\n      \"properties\": {\n        \"dtype\": \"number\",\n        \"std\": 8061.40282654163,\n        \"min\": 7.9714539007092196,\n        \"max\": 22479.5,\n        \"num_unique_values\": 7,\n        \"samples\": [\n          61.0,\n          2006.0\n        ],\n        \"semantic_type\": \"\",\n        \"description\": \"\"\n      }\n    },\n    {\n      \"column\": \"max\",\n      \"properties\": {\n        \"dtype\": \"number\",\n        \"std\": 26145.98648059694,\n        \"min\": 25.546453900709217,\n        \"max\": 72041.0,\n        \"num_unique_values\": 7,\n        \"samples\": [\n          70.0,\n          2015.0\n        ],\n        \"semantic_type\": \"\",\n        \"description\": \"\"\n      }\n    }\n  ]\n}"
            }
          },
          "metadata": {},
          "execution_count": 13
        },
        {
          "output_type": "stream",
          "name": "stdout",
          "text": [
            "time: 1.5 s (started: 2025-03-11 13:59:59 +00:00)\n"
          ]
        }
      ],
      "source": [
        "# # 🚧 todo: explain why this fails\n",
        "# df['nb_words'] = df['text'].str.split().len()\n",
        "\n",
        "# EXPLANATION :\n",
        "# str.split() returns a series of lists, and len() can't be applied to the entire series. The len() function needs to be applied to each individual list of words\n",
        "\n",
        "# # 🚧 todo: explain why this fails\n",
        "#df['nb_words'] = df['text'].str.split().apply(len)\n",
        "\n",
        "# EXPLANATION :\n",
        "# In the text, we have numbers. str.split().apply(len) works only if all values in \"text\" are strings because after the split we will have numbers and we can't compute its length\n",
        "\n",
        "# 🚧 todo: find a way of getting this column\n",
        "df['nb_words'] = df['text'].apply(lambda x: len(str(x).split()))\n",
        "\n",
        "df.describe().T"
      ]
    },
    {
      "cell_type": "code",
      "execution_count": 14,
      "metadata": {
        "id": "OuenCZED9SQJ",
        "outputId": "ced0eda2-a767-4258-b433-3ca4d11d2173",
        "colab": {
          "base_uri": "https://localhost:8080/"
        }
      },
      "outputs": [
        {
          "output_type": "execute_result",
          "data": {
            "text/plain": [
              "6.290310225967063"
            ]
          },
          "metadata": {},
          "execution_count": 14
        },
        {
          "output_type": "stream",
          "name": "stdout",
          "text": [
            "time: 3.19 ms (started: 2025-03-11 14:00:01 +00:00)\n"
          ]
        }
      ],
      "source": [
        "16424.0/2611.0"
      ]
    },
    {
      "cell_type": "markdown",
      "metadata": {
        "id": "QZrbVG9b9SQK"
      },
      "source": [
        "#### 🚧 todo: check the results\n",
        "\n",
        "- how was our estimate of word length compared to reality?\n",
        "- if your minumum wordlength is now 0 or 1, explain by checking the file.\n",
        "- the simple tokenization by splitting gives in average longer or shorter words than a more linguistically motivated tokenization?"
      ]
    },
    {
      "cell_type": "code",
      "execution_count": 15,
      "metadata": {
        "id": "lp3J2m2U9SQK",
        "outputId": "192043a7-6d86-40f2-f5df-079ff371f7ee",
        "colab": {
          "base_uri": "https://localhost:8080/",
          "height": 98
        }
      },
      "outputs": [
        {
          "output_type": "execute_result",
          "data": {
            "text/plain": [
              "      un-general-debates-blueprint.csv  year country country_name speaker  \\\n",
              "7507                               NaN   NaN     NaN          NaN     NaN   \n",
              "\n",
              "     position text  nb_chars  nb_words_theoritical  nb_pages  nb_minutes  \\\n",
              "7507      NaN  NaN       NaN                   NaN       NaN         NaN   \n",
              "\n",
              "      nb_words  \n",
              "7507         1  "
            ],
            "text/html": [
              "\n",
              "  <div id=\"df-37ea1bdc-e74a-4e9d-a54d-9570806dc0b3\" class=\"colab-df-container\">\n",
              "    <div>\n",
              "<style scoped>\n",
              "    .dataframe tbody tr th:only-of-type {\n",
              "        vertical-align: middle;\n",
              "    }\n",
              "\n",
              "    .dataframe tbody tr th {\n",
              "        vertical-align: top;\n",
              "    }\n",
              "\n",
              "    .dataframe thead th {\n",
              "        text-align: right;\n",
              "    }\n",
              "</style>\n",
              "<table border=\"1\" class=\"dataframe\">\n",
              "  <thead>\n",
              "    <tr style=\"text-align: right;\">\n",
              "      <th></th>\n",
              "      <th>un-general-debates-blueprint.csv</th>\n",
              "      <th>year</th>\n",
              "      <th>country</th>\n",
              "      <th>country_name</th>\n",
              "      <th>speaker</th>\n",
              "      <th>position</th>\n",
              "      <th>text</th>\n",
              "      <th>nb_chars</th>\n",
              "      <th>nb_words_theoritical</th>\n",
              "      <th>nb_pages</th>\n",
              "      <th>nb_minutes</th>\n",
              "      <th>nb_words</th>\n",
              "    </tr>\n",
              "  </thead>\n",
              "  <tbody>\n",
              "    <tr>\n",
              "      <th>7507</th>\n",
              "      <td>NaN</td>\n",
              "      <td>NaN</td>\n",
              "      <td>NaN</td>\n",
              "      <td>NaN</td>\n",
              "      <td>NaN</td>\n",
              "      <td>NaN</td>\n",
              "      <td>NaN</td>\n",
              "      <td>NaN</td>\n",
              "      <td>NaN</td>\n",
              "      <td>NaN</td>\n",
              "      <td>NaN</td>\n",
              "      <td>1</td>\n",
              "    </tr>\n",
              "  </tbody>\n",
              "</table>\n",
              "</div>\n",
              "    <div class=\"colab-df-buttons\">\n",
              "\n",
              "  <div class=\"colab-df-container\">\n",
              "    <button class=\"colab-df-convert\" onclick=\"convertToInteractive('df-37ea1bdc-e74a-4e9d-a54d-9570806dc0b3')\"\n",
              "            title=\"Convert this dataframe to an interactive table.\"\n",
              "            style=\"display:none;\">\n",
              "\n",
              "  <svg xmlns=\"http://www.w3.org/2000/svg\" height=\"24px\" viewBox=\"0 -960 960 960\">\n",
              "    <path d=\"M120-120v-720h720v720H120Zm60-500h600v-160H180v160Zm220 220h160v-160H400v160Zm0 220h160v-160H400v160ZM180-400h160v-160H180v160Zm440 0h160v-160H620v160ZM180-180h160v-160H180v160Zm440 0h160v-160H620v160Z\"/>\n",
              "  </svg>\n",
              "    </button>\n",
              "\n",
              "  <style>\n",
              "    .colab-df-container {\n",
              "      display:flex;\n",
              "      gap: 12px;\n",
              "    }\n",
              "\n",
              "    .colab-df-convert {\n",
              "      background-color: #E8F0FE;\n",
              "      border: none;\n",
              "      border-radius: 50%;\n",
              "      cursor: pointer;\n",
              "      display: none;\n",
              "      fill: #1967D2;\n",
              "      height: 32px;\n",
              "      padding: 0 0 0 0;\n",
              "      width: 32px;\n",
              "    }\n",
              "\n",
              "    .colab-df-convert:hover {\n",
              "      background-color: #E2EBFA;\n",
              "      box-shadow: 0px 1px 2px rgba(60, 64, 67, 0.3), 0px 1px 3px 1px rgba(60, 64, 67, 0.15);\n",
              "      fill: #174EA6;\n",
              "    }\n",
              "\n",
              "    .colab-df-buttons div {\n",
              "      margin-bottom: 4px;\n",
              "    }\n",
              "\n",
              "    [theme=dark] .colab-df-convert {\n",
              "      background-color: #3B4455;\n",
              "      fill: #D2E3FC;\n",
              "    }\n",
              "\n",
              "    [theme=dark] .colab-df-convert:hover {\n",
              "      background-color: #434B5C;\n",
              "      box-shadow: 0px 1px 3px 1px rgba(0, 0, 0, 0.15);\n",
              "      filter: drop-shadow(0px 1px 2px rgba(0, 0, 0, 0.3));\n",
              "      fill: #FFFFFF;\n",
              "    }\n",
              "  </style>\n",
              "\n",
              "    <script>\n",
              "      const buttonEl =\n",
              "        document.querySelector('#df-37ea1bdc-e74a-4e9d-a54d-9570806dc0b3 button.colab-df-convert');\n",
              "      buttonEl.style.display =\n",
              "        google.colab.kernel.accessAllowed ? 'block' : 'none';\n",
              "\n",
              "      async function convertToInteractive(key) {\n",
              "        const element = document.querySelector('#df-37ea1bdc-e74a-4e9d-a54d-9570806dc0b3');\n",
              "        const dataTable =\n",
              "          await google.colab.kernel.invokeFunction('convertToInteractive',\n",
              "                                                    [key], {});\n",
              "        if (!dataTable) return;\n",
              "\n",
              "        const docLinkHtml = 'Like what you see? Visit the ' +\n",
              "          '<a target=\"_blank\" href=https://colab.research.google.com/notebooks/data_table.ipynb>data table notebook</a>'\n",
              "          + ' to learn more about interactive tables.';\n",
              "        element.innerHTML = '';\n",
              "        dataTable['output_type'] = 'display_data';\n",
              "        await google.colab.output.renderOutput(dataTable, element);\n",
              "        const docLink = document.createElement('div');\n",
              "        docLink.innerHTML = docLinkHtml;\n",
              "        element.appendChild(docLink);\n",
              "      }\n",
              "    </script>\n",
              "  </div>\n",
              "\n",
              "\n",
              "    </div>\n",
              "  </div>\n"
            ],
            "application/vnd.google.colaboratory.intrinsic+json": {
              "type": "dataframe",
              "repr_error": "0"
            }
          },
          "metadata": {},
          "execution_count": 15
        },
        {
          "output_type": "stream",
          "name": "stdout",
          "text": [
            "time: 22.6 ms (started: 2025-03-11 14:00:03 +00:00)\n"
          ]
        }
      ],
      "source": [
        "# answer:\n",
        "# 1) the real average word length is 6.29 characters per word and is higher than our assumed 4.7 characters per word. An explanation may be that the UN speeches use longer words than general English text.\n",
        "\n",
        "# 2) some rows/speeches are corrupted as show below, their content is NaN\n",
        "df[df[\"nb_words\"] <= 1]  # speeches with words <= 1\n",
        "\n",
        "# 3)\n"
      ]
    },
    {
      "cell_type": "code",
      "execution_count": 16,
      "metadata": {
        "id": "L7XqLYMW9SQK",
        "outputId": "fb3adcb4-e2fa-4344-96d6-ef2fdc01fea7",
        "colab": {
          "base_uri": "https://localhost:8080/",
          "height": 192
        }
      },
      "outputs": [
        {
          "output_type": "execute_result",
          "data": {
            "text/plain": [
              "             count unique                           top  freq\n",
              "country       7507    199                           ALB    46\n",
              "country_name  7507    199                       Albania    46\n",
              "speaker       7480   5428                 Seyoum Mesfin    12\n",
              "position      4502    113  Minister for Foreign Affairs  1813"
            ],
            "text/html": [
              "\n",
              "  <div id=\"df-4709614e-be7c-4074-bb31-189a48dab283\" class=\"colab-df-container\">\n",
              "    <div>\n",
              "<style scoped>\n",
              "    .dataframe tbody tr th:only-of-type {\n",
              "        vertical-align: middle;\n",
              "    }\n",
              "\n",
              "    .dataframe tbody tr th {\n",
              "        vertical-align: top;\n",
              "    }\n",
              "\n",
              "    .dataframe thead th {\n",
              "        text-align: right;\n",
              "    }\n",
              "</style>\n",
              "<table border=\"1\" class=\"dataframe\">\n",
              "  <thead>\n",
              "    <tr style=\"text-align: right;\">\n",
              "      <th></th>\n",
              "      <th>count</th>\n",
              "      <th>unique</th>\n",
              "      <th>top</th>\n",
              "      <th>freq</th>\n",
              "    </tr>\n",
              "  </thead>\n",
              "  <tbody>\n",
              "    <tr>\n",
              "      <th>country</th>\n",
              "      <td>7507</td>\n",
              "      <td>199</td>\n",
              "      <td>ALB</td>\n",
              "      <td>46</td>\n",
              "    </tr>\n",
              "    <tr>\n",
              "      <th>country_name</th>\n",
              "      <td>7507</td>\n",
              "      <td>199</td>\n",
              "      <td>Albania</td>\n",
              "      <td>46</td>\n",
              "    </tr>\n",
              "    <tr>\n",
              "      <th>speaker</th>\n",
              "      <td>7480</td>\n",
              "      <td>5428</td>\n",
              "      <td>Seyoum Mesfin</td>\n",
              "      <td>12</td>\n",
              "    </tr>\n",
              "    <tr>\n",
              "      <th>position</th>\n",
              "      <td>4502</td>\n",
              "      <td>113</td>\n",
              "      <td>Minister for Foreign Affairs</td>\n",
              "      <td>1813</td>\n",
              "    </tr>\n",
              "  </tbody>\n",
              "</table>\n",
              "</div>\n",
              "    <div class=\"colab-df-buttons\">\n",
              "\n",
              "  <div class=\"colab-df-container\">\n",
              "    <button class=\"colab-df-convert\" onclick=\"convertToInteractive('df-4709614e-be7c-4074-bb31-189a48dab283')\"\n",
              "            title=\"Convert this dataframe to an interactive table.\"\n",
              "            style=\"display:none;\">\n",
              "\n",
              "  <svg xmlns=\"http://www.w3.org/2000/svg\" height=\"24px\" viewBox=\"0 -960 960 960\">\n",
              "    <path d=\"M120-120v-720h720v720H120Zm60-500h600v-160H180v160Zm220 220h160v-160H400v160Zm0 220h160v-160H400v160ZM180-400h160v-160H180v160Zm440 0h160v-160H620v160ZM180-180h160v-160H180v160Zm440 0h160v-160H620v160Z\"/>\n",
              "  </svg>\n",
              "    </button>\n",
              "\n",
              "  <style>\n",
              "    .colab-df-container {\n",
              "      display:flex;\n",
              "      gap: 12px;\n",
              "    }\n",
              "\n",
              "    .colab-df-convert {\n",
              "      background-color: #E8F0FE;\n",
              "      border: none;\n",
              "      border-radius: 50%;\n",
              "      cursor: pointer;\n",
              "      display: none;\n",
              "      fill: #1967D2;\n",
              "      height: 32px;\n",
              "      padding: 0 0 0 0;\n",
              "      width: 32px;\n",
              "    }\n",
              "\n",
              "    .colab-df-convert:hover {\n",
              "      background-color: #E2EBFA;\n",
              "      box-shadow: 0px 1px 2px rgba(60, 64, 67, 0.3), 0px 1px 3px 1px rgba(60, 64, 67, 0.15);\n",
              "      fill: #174EA6;\n",
              "    }\n",
              "\n",
              "    .colab-df-buttons div {\n",
              "      margin-bottom: 4px;\n",
              "    }\n",
              "\n",
              "    [theme=dark] .colab-df-convert {\n",
              "      background-color: #3B4455;\n",
              "      fill: #D2E3FC;\n",
              "    }\n",
              "\n",
              "    [theme=dark] .colab-df-convert:hover {\n",
              "      background-color: #434B5C;\n",
              "      box-shadow: 0px 1px 3px 1px rgba(0, 0, 0, 0.15);\n",
              "      filter: drop-shadow(0px 1px 2px rgba(0, 0, 0, 0.3));\n",
              "      fill: #FFFFFF;\n",
              "    }\n",
              "  </style>\n",
              "\n",
              "    <script>\n",
              "      const buttonEl =\n",
              "        document.querySelector('#df-4709614e-be7c-4074-bb31-189a48dab283 button.colab-df-convert');\n",
              "      buttonEl.style.display =\n",
              "        google.colab.kernel.accessAllowed ? 'block' : 'none';\n",
              "\n",
              "      async function convertToInteractive(key) {\n",
              "        const element = document.querySelector('#df-4709614e-be7c-4074-bb31-189a48dab283');\n",
              "        const dataTable =\n",
              "          await google.colab.kernel.invokeFunction('convertToInteractive',\n",
              "                                                    [key], {});\n",
              "        if (!dataTable) return;\n",
              "\n",
              "        const docLinkHtml = 'Like what you see? Visit the ' +\n",
              "          '<a target=\"_blank\" href=https://colab.research.google.com/notebooks/data_table.ipynb>data table notebook</a>'\n",
              "          + ' to learn more about interactive tables.';\n",
              "        element.innerHTML = '';\n",
              "        dataTable['output_type'] = 'display_data';\n",
              "        await google.colab.output.renderOutput(dataTable, element);\n",
              "        const docLink = document.createElement('div');\n",
              "        docLink.innerHTML = docLinkHtml;\n",
              "        element.appendChild(docLink);\n",
              "      }\n",
              "    </script>\n",
              "  </div>\n",
              "\n",
              "\n",
              "<div id=\"df-74b11bf2-e6f5-4bfc-8aae-fcf61c40e4a1\">\n",
              "  <button class=\"colab-df-quickchart\" onclick=\"quickchart('df-74b11bf2-e6f5-4bfc-8aae-fcf61c40e4a1')\"\n",
              "            title=\"Suggest charts\"\n",
              "            style=\"display:none;\">\n",
              "\n",
              "<svg xmlns=\"http://www.w3.org/2000/svg\" height=\"24px\"viewBox=\"0 0 24 24\"\n",
              "     width=\"24px\">\n",
              "    <g>\n",
              "        <path d=\"M19 3H5c-1.1 0-2 .9-2 2v14c0 1.1.9 2 2 2h14c1.1 0 2-.9 2-2V5c0-1.1-.9-2-2-2zM9 17H7v-7h2v7zm4 0h-2V7h2v10zm4 0h-2v-4h2v4z\"/>\n",
              "    </g>\n",
              "</svg>\n",
              "  </button>\n",
              "\n",
              "<style>\n",
              "  .colab-df-quickchart {\n",
              "      --bg-color: #E8F0FE;\n",
              "      --fill-color: #1967D2;\n",
              "      --hover-bg-color: #E2EBFA;\n",
              "      --hover-fill-color: #174EA6;\n",
              "      --disabled-fill-color: #AAA;\n",
              "      --disabled-bg-color: #DDD;\n",
              "  }\n",
              "\n",
              "  [theme=dark] .colab-df-quickchart {\n",
              "      --bg-color: #3B4455;\n",
              "      --fill-color: #D2E3FC;\n",
              "      --hover-bg-color: #434B5C;\n",
              "      --hover-fill-color: #FFFFFF;\n",
              "      --disabled-bg-color: #3B4455;\n",
              "      --disabled-fill-color: #666;\n",
              "  }\n",
              "\n",
              "  .colab-df-quickchart {\n",
              "    background-color: var(--bg-color);\n",
              "    border: none;\n",
              "    border-radius: 50%;\n",
              "    cursor: pointer;\n",
              "    display: none;\n",
              "    fill: var(--fill-color);\n",
              "    height: 32px;\n",
              "    padding: 0;\n",
              "    width: 32px;\n",
              "  }\n",
              "\n",
              "  .colab-df-quickchart:hover {\n",
              "    background-color: var(--hover-bg-color);\n",
              "    box-shadow: 0 1px 2px rgba(60, 64, 67, 0.3), 0 1px 3px 1px rgba(60, 64, 67, 0.15);\n",
              "    fill: var(--button-hover-fill-color);\n",
              "  }\n",
              "\n",
              "  .colab-df-quickchart-complete:disabled,\n",
              "  .colab-df-quickchart-complete:disabled:hover {\n",
              "    background-color: var(--disabled-bg-color);\n",
              "    fill: var(--disabled-fill-color);\n",
              "    box-shadow: none;\n",
              "  }\n",
              "\n",
              "  .colab-df-spinner {\n",
              "    border: 2px solid var(--fill-color);\n",
              "    border-color: transparent;\n",
              "    border-bottom-color: var(--fill-color);\n",
              "    animation:\n",
              "      spin 1s steps(1) infinite;\n",
              "  }\n",
              "\n",
              "  @keyframes spin {\n",
              "    0% {\n",
              "      border-color: transparent;\n",
              "      border-bottom-color: var(--fill-color);\n",
              "      border-left-color: var(--fill-color);\n",
              "    }\n",
              "    20% {\n",
              "      border-color: transparent;\n",
              "      border-left-color: var(--fill-color);\n",
              "      border-top-color: var(--fill-color);\n",
              "    }\n",
              "    30% {\n",
              "      border-color: transparent;\n",
              "      border-left-color: var(--fill-color);\n",
              "      border-top-color: var(--fill-color);\n",
              "      border-right-color: var(--fill-color);\n",
              "    }\n",
              "    40% {\n",
              "      border-color: transparent;\n",
              "      border-right-color: var(--fill-color);\n",
              "      border-top-color: var(--fill-color);\n",
              "    }\n",
              "    60% {\n",
              "      border-color: transparent;\n",
              "      border-right-color: var(--fill-color);\n",
              "    }\n",
              "    80% {\n",
              "      border-color: transparent;\n",
              "      border-right-color: var(--fill-color);\n",
              "      border-bottom-color: var(--fill-color);\n",
              "    }\n",
              "    90% {\n",
              "      border-color: transparent;\n",
              "      border-bottom-color: var(--fill-color);\n",
              "    }\n",
              "  }\n",
              "</style>\n",
              "\n",
              "  <script>\n",
              "    async function quickchart(key) {\n",
              "      const quickchartButtonEl =\n",
              "        document.querySelector('#' + key + ' button');\n",
              "      quickchartButtonEl.disabled = true;  // To prevent multiple clicks.\n",
              "      quickchartButtonEl.classList.add('colab-df-spinner');\n",
              "      try {\n",
              "        const charts = await google.colab.kernel.invokeFunction(\n",
              "            'suggestCharts', [key], {});\n",
              "      } catch (error) {\n",
              "        console.error('Error during call to suggestCharts:', error);\n",
              "      }\n",
              "      quickchartButtonEl.classList.remove('colab-df-spinner');\n",
              "      quickchartButtonEl.classList.add('colab-df-quickchart-complete');\n",
              "    }\n",
              "    (() => {\n",
              "      let quickchartButtonEl =\n",
              "        document.querySelector('#df-74b11bf2-e6f5-4bfc-8aae-fcf61c40e4a1 button');\n",
              "      quickchartButtonEl.style.display =\n",
              "        google.colab.kernel.accessAllowed ? 'block' : 'none';\n",
              "    })();\n",
              "  </script>\n",
              "</div>\n",
              "\n",
              "    </div>\n",
              "  </div>\n"
            ],
            "application/vnd.google.colaboratory.intrinsic+json": {
              "type": "dataframe",
              "summary": "{\n  \"name\": \"df[['country', 'country_name', 'speaker', 'position']]\",\n  \"rows\": 4,\n  \"fields\": [\n    {\n      \"column\": \"count\",\n      \"properties\": {\n        \"dtype\": \"date\",\n        \"min\": \"4502\",\n        \"max\": \"7507\",\n        \"num_unique_values\": 3,\n        \"samples\": [\n          \"7507\",\n          \"7480\",\n          \"4502\"\n        ],\n        \"semantic_type\": \"\",\n        \"description\": \"\"\n      }\n    },\n    {\n      \"column\": \"unique\",\n      \"properties\": {\n        \"dtype\": \"date\",\n        \"min\": 113,\n        \"max\": 5428,\n        \"num_unique_values\": 3,\n        \"samples\": [\n          199,\n          5428,\n          113\n        ],\n        \"semantic_type\": \"\",\n        \"description\": \"\"\n      }\n    },\n    {\n      \"column\": \"top\",\n      \"properties\": {\n        \"dtype\": \"string\",\n        \"num_unique_values\": 4,\n        \"samples\": [\n          \"Albania\",\n          \"Minister for Foreign Affairs\",\n          \"ALB\"\n        ],\n        \"semantic_type\": \"\",\n        \"description\": \"\"\n      }\n    },\n    {\n      \"column\": \"freq\",\n      \"properties\": {\n        \"dtype\": \"date\",\n        \"min\": \"12\",\n        \"max\": \"1813\",\n        \"num_unique_values\": 3,\n        \"samples\": [\n          \"46\",\n          \"12\",\n          \"1813\"\n        ],\n        \"semantic_type\": \"\",\n        \"description\": \"\"\n      }\n    }\n  ]\n}"
            }
          },
          "metadata": {},
          "execution_count": 16
        },
        {
          "output_type": "stream",
          "name": "stdout",
          "text": [
            "time: 69.3 ms (started: 2025-03-11 14:00:04 +00:00)\n"
          ]
        }
      ],
      "source": [
        "df[['country', 'country_name', 'speaker', 'position']].describe().T"
      ]
    },
    {
      "cell_type": "markdown",
      "metadata": {
        "id": "JZ5z5UPt9SQK"
      },
      "source": [
        "#### 🚧 TODO:\n",
        "- why does the describe() function works differently now?"
      ]
    },
    {
      "cell_type": "markdown",
      "source": [
        "ANSWER :\n",
        "describe() was applied above on numerical values but now we are applying it on non numeric data (categorical data)\n"
      ],
      "metadata": {
        "id": "kq2MzUREhSmB"
      }
    },
    {
      "cell_type": "markdown",
      "metadata": {
        "id": "wNiOfDlK9SQK"
      },
      "source": [
        "## NaN ≠ NA\n",
        "NaN means 0/0. NaN stands for Not a Number\n",
        "\n",
        "NA is generally interpreted as a missing value and has various forms - NA_integer_, NA_real_, etc.\n",
        "\n",
        "https://stats.stackexchange.com/questions/5686/what-is-the-difference-between-nan-and-na"
      ]
    },
    {
      "cell_type": "code",
      "execution_count": 17,
      "metadata": {
        "id": "VHZD-5tF9SQK",
        "outputId": "e104a6e3-51e6-4eb9-aa62-de43bf1e2879",
        "colab": {
          "base_uri": "https://localhost:8080/",
          "height": 478
        }
      },
      "outputs": [
        {
          "output_type": "execute_result",
          "data": {
            "text/plain": [
              "un-general-debates-blueprint.csv       1\n",
              "year                                   1\n",
              "country                                1\n",
              "country_name                           1\n",
              "speaker                               28\n",
              "position                            3006\n",
              "text                                   1\n",
              "nb_chars                               1\n",
              "nb_words_theoritical                   1\n",
              "nb_pages                               1\n",
              "nb_minutes                             1\n",
              "nb_words                               0\n",
              "dtype: int64"
            ],
            "text/html": [
              "<div>\n",
              "<style scoped>\n",
              "    .dataframe tbody tr th:only-of-type {\n",
              "        vertical-align: middle;\n",
              "    }\n",
              "\n",
              "    .dataframe tbody tr th {\n",
              "        vertical-align: top;\n",
              "    }\n",
              "\n",
              "    .dataframe thead th {\n",
              "        text-align: right;\n",
              "    }\n",
              "</style>\n",
              "<table border=\"1\" class=\"dataframe\">\n",
              "  <thead>\n",
              "    <tr style=\"text-align: right;\">\n",
              "      <th></th>\n",
              "      <th>0</th>\n",
              "    </tr>\n",
              "  </thead>\n",
              "  <tbody>\n",
              "    <tr>\n",
              "      <th>un-general-debates-blueprint.csv</th>\n",
              "      <td>1</td>\n",
              "    </tr>\n",
              "    <tr>\n",
              "      <th>year</th>\n",
              "      <td>1</td>\n",
              "    </tr>\n",
              "    <tr>\n",
              "      <th>country</th>\n",
              "      <td>1</td>\n",
              "    </tr>\n",
              "    <tr>\n",
              "      <th>country_name</th>\n",
              "      <td>1</td>\n",
              "    </tr>\n",
              "    <tr>\n",
              "      <th>speaker</th>\n",
              "      <td>28</td>\n",
              "    </tr>\n",
              "    <tr>\n",
              "      <th>position</th>\n",
              "      <td>3006</td>\n",
              "    </tr>\n",
              "    <tr>\n",
              "      <th>text</th>\n",
              "      <td>1</td>\n",
              "    </tr>\n",
              "    <tr>\n",
              "      <th>nb_chars</th>\n",
              "      <td>1</td>\n",
              "    </tr>\n",
              "    <tr>\n",
              "      <th>nb_words_theoritical</th>\n",
              "      <td>1</td>\n",
              "    </tr>\n",
              "    <tr>\n",
              "      <th>nb_pages</th>\n",
              "      <td>1</td>\n",
              "    </tr>\n",
              "    <tr>\n",
              "      <th>nb_minutes</th>\n",
              "      <td>1</td>\n",
              "    </tr>\n",
              "    <tr>\n",
              "      <th>nb_words</th>\n",
              "      <td>0</td>\n",
              "    </tr>\n",
              "  </tbody>\n",
              "</table>\n",
              "</div><br><label><b>dtype:</b> int64</label>"
            ]
          },
          "metadata": {},
          "execution_count": 17
        },
        {
          "output_type": "stream",
          "name": "stdout",
          "text": [
            "time: 18.4 ms (started: 2025-03-11 14:07:15 +00:00)\n"
          ]
        }
      ],
      "source": [
        "df.isna().sum()"
      ]
    },
    {
      "cell_type": "code",
      "execution_count": 18,
      "metadata": {
        "id": "57aoOJsy9SQK",
        "outputId": "09c75e51-7219-4b6e-b2ad-81c779facb0c",
        "colab": {
          "base_uri": "https://localhost:8080/",
          "height": 441
        }
      },
      "outputs": [
        {
          "output_type": "execute_result",
          "data": {
            "text/plain": [
              "      un-general-debates-blueprint.csv    year country    country_name  \\\n",
              "0                                 25.0  1970.0     ALB         Albania   \n",
              "1                                 25.0  1970.0     ARG       Argentina   \n",
              "2                                 25.0  1970.0     AUS       Australia   \n",
              "3                                 25.0  1970.0     AUT         Austria   \n",
              "4                                 25.0  1970.0     BEL         Belgium   \n",
              "...                                ...     ...     ...             ...   \n",
              "6594                              66.0  2011.0      EU  European Union   \n",
              "6982                              68.0  2013.0      EU  European Union   \n",
              "7175                              69.0  2014.0      EU  European Union   \n",
              "7420                              70.0  2015.0     MAR         Morocco   \n",
              "7507                               NaN     NaN     NaN             NaN   \n",
              "\n",
              "                    speaker position  \\\n",
              "0                   Mr. NAS      NaN   \n",
              "1        Mr. DE PABLO PARDO      NaN   \n",
              "2               Mr. McMAHON      NaN   \n",
              "3        Mr. KIRCHSCHLAEGER      NaN   \n",
              "4                Mr. HARMEL      NaN   \n",
              "...                     ...      ...   \n",
              "6594                    NaN      NaN   \n",
              "6982                    NaN      NaN   \n",
              "7175                    NaN      NaN   \n",
              "7420  Prince Moulay Rachid       NaN   \n",
              "7507                    NaN      NaN   \n",
              "\n",
              "                                                   text  nb_chars  \\\n",
              "0     33: May I first convey to our President the co...   51419.0   \n",
              "1     177.\\t : It is a fortunate coincidence that pr...   29286.0   \n",
              "2     100.\\t  It is a pleasure for me to extend to y...   31839.0   \n",
              "3     155.\\t  May I begin by expressing to Ambassado...   26616.0   \n",
              "4     176. No doubt each of us, before coming up to ...   25911.0   \n",
              "...                                                 ...       ...   \n",
              "6594  Europe presents to you a message of \\ncooperat...   11804.0   \n",
              "6982  A year ago \\nwhen we met in the General Assemb...   11477.0   \n",
              "7175  The world today is much more dangerous than \\n...   10617.0   \n",
              "7420  King Mohammed VI has mandated me\\nto convey hi...    9654.0   \n",
              "7507                                                NaN       NaN   \n",
              "\n",
              "      nb_words_theoritical   nb_pages  nb_minutes  nb_words  \n",
              "0             10940.212766  18.233688   72.934752      8306  \n",
              "1              6231.063830  10.385106   41.540426      4780  \n",
              "2              6774.255319  11.290426   45.161702      5204  \n",
              "3              5662.978723   9.438298   37.753191      4325  \n",
              "4              5512.978723   9.188298   36.753191      4290  \n",
              "...                    ...        ...         ...       ...  \n",
              "6594           2511.489362   4.185816   16.743262      1939  \n",
              "6982           2441.914894   4.069858   16.279433      1904  \n",
              "7175           2258.936170   3.764894   15.059574      1744  \n",
              "7420           2054.042553   3.423404   13.693617      1461  \n",
              "7507                   NaN        NaN         NaN         1  \n",
              "\n",
              "[3006 rows x 12 columns]"
            ],
            "text/html": [
              "\n",
              "  <div id=\"df-9b17ee8b-613f-4f6e-8098-a25b244c4d47\" class=\"colab-df-container\">\n",
              "    <div>\n",
              "<style scoped>\n",
              "    .dataframe tbody tr th:only-of-type {\n",
              "        vertical-align: middle;\n",
              "    }\n",
              "\n",
              "    .dataframe tbody tr th {\n",
              "        vertical-align: top;\n",
              "    }\n",
              "\n",
              "    .dataframe thead th {\n",
              "        text-align: right;\n",
              "    }\n",
              "</style>\n",
              "<table border=\"1\" class=\"dataframe\">\n",
              "  <thead>\n",
              "    <tr style=\"text-align: right;\">\n",
              "      <th></th>\n",
              "      <th>un-general-debates-blueprint.csv</th>\n",
              "      <th>year</th>\n",
              "      <th>country</th>\n",
              "      <th>country_name</th>\n",
              "      <th>speaker</th>\n",
              "      <th>position</th>\n",
              "      <th>text</th>\n",
              "      <th>nb_chars</th>\n",
              "      <th>nb_words_theoritical</th>\n",
              "      <th>nb_pages</th>\n",
              "      <th>nb_minutes</th>\n",
              "      <th>nb_words</th>\n",
              "    </tr>\n",
              "  </thead>\n",
              "  <tbody>\n",
              "    <tr>\n",
              "      <th>0</th>\n",
              "      <td>25.0</td>\n",
              "      <td>1970.0</td>\n",
              "      <td>ALB</td>\n",
              "      <td>Albania</td>\n",
              "      <td>Mr. NAS</td>\n",
              "      <td>NaN</td>\n",
              "      <td>33: May I first convey to our President the co...</td>\n",
              "      <td>51419.0</td>\n",
              "      <td>10940.212766</td>\n",
              "      <td>18.233688</td>\n",
              "      <td>72.934752</td>\n",
              "      <td>8306</td>\n",
              "    </tr>\n",
              "    <tr>\n",
              "      <th>1</th>\n",
              "      <td>25.0</td>\n",
              "      <td>1970.0</td>\n",
              "      <td>ARG</td>\n",
              "      <td>Argentina</td>\n",
              "      <td>Mr. DE PABLO PARDO</td>\n",
              "      <td>NaN</td>\n",
              "      <td>177.\\t : It is a fortunate coincidence that pr...</td>\n",
              "      <td>29286.0</td>\n",
              "      <td>6231.063830</td>\n",
              "      <td>10.385106</td>\n",
              "      <td>41.540426</td>\n",
              "      <td>4780</td>\n",
              "    </tr>\n",
              "    <tr>\n",
              "      <th>2</th>\n",
              "      <td>25.0</td>\n",
              "      <td>1970.0</td>\n",
              "      <td>AUS</td>\n",
              "      <td>Australia</td>\n",
              "      <td>Mr. McMAHON</td>\n",
              "      <td>NaN</td>\n",
              "      <td>100.\\t  It is a pleasure for me to extend to y...</td>\n",
              "      <td>31839.0</td>\n",
              "      <td>6774.255319</td>\n",
              "      <td>11.290426</td>\n",
              "      <td>45.161702</td>\n",
              "      <td>5204</td>\n",
              "    </tr>\n",
              "    <tr>\n",
              "      <th>3</th>\n",
              "      <td>25.0</td>\n",
              "      <td>1970.0</td>\n",
              "      <td>AUT</td>\n",
              "      <td>Austria</td>\n",
              "      <td>Mr. KIRCHSCHLAEGER</td>\n",
              "      <td>NaN</td>\n",
              "      <td>155.\\t  May I begin by expressing to Ambassado...</td>\n",
              "      <td>26616.0</td>\n",
              "      <td>5662.978723</td>\n",
              "      <td>9.438298</td>\n",
              "      <td>37.753191</td>\n",
              "      <td>4325</td>\n",
              "    </tr>\n",
              "    <tr>\n",
              "      <th>4</th>\n",
              "      <td>25.0</td>\n",
              "      <td>1970.0</td>\n",
              "      <td>BEL</td>\n",
              "      <td>Belgium</td>\n",
              "      <td>Mr. HARMEL</td>\n",
              "      <td>NaN</td>\n",
              "      <td>176. No doubt each of us, before coming up to ...</td>\n",
              "      <td>25911.0</td>\n",
              "      <td>5512.978723</td>\n",
              "      <td>9.188298</td>\n",
              "      <td>36.753191</td>\n",
              "      <td>4290</td>\n",
              "    </tr>\n",
              "    <tr>\n",
              "      <th>...</th>\n",
              "      <td>...</td>\n",
              "      <td>...</td>\n",
              "      <td>...</td>\n",
              "      <td>...</td>\n",
              "      <td>...</td>\n",
              "      <td>...</td>\n",
              "      <td>...</td>\n",
              "      <td>...</td>\n",
              "      <td>...</td>\n",
              "      <td>...</td>\n",
              "      <td>...</td>\n",
              "      <td>...</td>\n",
              "    </tr>\n",
              "    <tr>\n",
              "      <th>6594</th>\n",
              "      <td>66.0</td>\n",
              "      <td>2011.0</td>\n",
              "      <td>EU</td>\n",
              "      <td>European Union</td>\n",
              "      <td>NaN</td>\n",
              "      <td>NaN</td>\n",
              "      <td>Europe presents to you a message of \\ncooperat...</td>\n",
              "      <td>11804.0</td>\n",
              "      <td>2511.489362</td>\n",
              "      <td>4.185816</td>\n",
              "      <td>16.743262</td>\n",
              "      <td>1939</td>\n",
              "    </tr>\n",
              "    <tr>\n",
              "      <th>6982</th>\n",
              "      <td>68.0</td>\n",
              "      <td>2013.0</td>\n",
              "      <td>EU</td>\n",
              "      <td>European Union</td>\n",
              "      <td>NaN</td>\n",
              "      <td>NaN</td>\n",
              "      <td>A year ago \\nwhen we met in the General Assemb...</td>\n",
              "      <td>11477.0</td>\n",
              "      <td>2441.914894</td>\n",
              "      <td>4.069858</td>\n",
              "      <td>16.279433</td>\n",
              "      <td>1904</td>\n",
              "    </tr>\n",
              "    <tr>\n",
              "      <th>7175</th>\n",
              "      <td>69.0</td>\n",
              "      <td>2014.0</td>\n",
              "      <td>EU</td>\n",
              "      <td>European Union</td>\n",
              "      <td>NaN</td>\n",
              "      <td>NaN</td>\n",
              "      <td>The world today is much more dangerous than \\n...</td>\n",
              "      <td>10617.0</td>\n",
              "      <td>2258.936170</td>\n",
              "      <td>3.764894</td>\n",
              "      <td>15.059574</td>\n",
              "      <td>1744</td>\n",
              "    </tr>\n",
              "    <tr>\n",
              "      <th>7420</th>\n",
              "      <td>70.0</td>\n",
              "      <td>2015.0</td>\n",
              "      <td>MAR</td>\n",
              "      <td>Morocco</td>\n",
              "      <td>Prince Moulay Rachid</td>\n",
              "      <td>NaN</td>\n",
              "      <td>King Mohammed VI has mandated me\\nto convey hi...</td>\n",
              "      <td>9654.0</td>\n",
              "      <td>2054.042553</td>\n",
              "      <td>3.423404</td>\n",
              "      <td>13.693617</td>\n",
              "      <td>1461</td>\n",
              "    </tr>\n",
              "    <tr>\n",
              "      <th>7507</th>\n",
              "      <td>NaN</td>\n",
              "      <td>NaN</td>\n",
              "      <td>NaN</td>\n",
              "      <td>NaN</td>\n",
              "      <td>NaN</td>\n",
              "      <td>NaN</td>\n",
              "      <td>NaN</td>\n",
              "      <td>NaN</td>\n",
              "      <td>NaN</td>\n",
              "      <td>NaN</td>\n",
              "      <td>NaN</td>\n",
              "      <td>1</td>\n",
              "    </tr>\n",
              "  </tbody>\n",
              "</table>\n",
              "<p>3006 rows × 12 columns</p>\n",
              "</div>\n",
              "    <div class=\"colab-df-buttons\">\n",
              "\n",
              "  <div class=\"colab-df-container\">\n",
              "    <button class=\"colab-df-convert\" onclick=\"convertToInteractive('df-9b17ee8b-613f-4f6e-8098-a25b244c4d47')\"\n",
              "            title=\"Convert this dataframe to an interactive table.\"\n",
              "            style=\"display:none;\">\n",
              "\n",
              "  <svg xmlns=\"http://www.w3.org/2000/svg\" height=\"24px\" viewBox=\"0 -960 960 960\">\n",
              "    <path d=\"M120-120v-720h720v720H120Zm60-500h600v-160H180v160Zm220 220h160v-160H400v160Zm0 220h160v-160H400v160ZM180-400h160v-160H180v160Zm440 0h160v-160H620v160ZM180-180h160v-160H180v160Zm440 0h160v-160H620v160Z\"/>\n",
              "  </svg>\n",
              "    </button>\n",
              "\n",
              "  <style>\n",
              "    .colab-df-container {\n",
              "      display:flex;\n",
              "      gap: 12px;\n",
              "    }\n",
              "\n",
              "    .colab-df-convert {\n",
              "      background-color: #E8F0FE;\n",
              "      border: none;\n",
              "      border-radius: 50%;\n",
              "      cursor: pointer;\n",
              "      display: none;\n",
              "      fill: #1967D2;\n",
              "      height: 32px;\n",
              "      padding: 0 0 0 0;\n",
              "      width: 32px;\n",
              "    }\n",
              "\n",
              "    .colab-df-convert:hover {\n",
              "      background-color: #E2EBFA;\n",
              "      box-shadow: 0px 1px 2px rgba(60, 64, 67, 0.3), 0px 1px 3px 1px rgba(60, 64, 67, 0.15);\n",
              "      fill: #174EA6;\n",
              "    }\n",
              "\n",
              "    .colab-df-buttons div {\n",
              "      margin-bottom: 4px;\n",
              "    }\n",
              "\n",
              "    [theme=dark] .colab-df-convert {\n",
              "      background-color: #3B4455;\n",
              "      fill: #D2E3FC;\n",
              "    }\n",
              "\n",
              "    [theme=dark] .colab-df-convert:hover {\n",
              "      background-color: #434B5C;\n",
              "      box-shadow: 0px 1px 3px 1px rgba(0, 0, 0, 0.15);\n",
              "      filter: drop-shadow(0px 1px 2px rgba(0, 0, 0, 0.3));\n",
              "      fill: #FFFFFF;\n",
              "    }\n",
              "  </style>\n",
              "\n",
              "    <script>\n",
              "      const buttonEl =\n",
              "        document.querySelector('#df-9b17ee8b-613f-4f6e-8098-a25b244c4d47 button.colab-df-convert');\n",
              "      buttonEl.style.display =\n",
              "        google.colab.kernel.accessAllowed ? 'block' : 'none';\n",
              "\n",
              "      async function convertToInteractive(key) {\n",
              "        const element = document.querySelector('#df-9b17ee8b-613f-4f6e-8098-a25b244c4d47');\n",
              "        const dataTable =\n",
              "          await google.colab.kernel.invokeFunction('convertToInteractive',\n",
              "                                                    [key], {});\n",
              "        if (!dataTable) return;\n",
              "\n",
              "        const docLinkHtml = 'Like what you see? Visit the ' +\n",
              "          '<a target=\"_blank\" href=https://colab.research.google.com/notebooks/data_table.ipynb>data table notebook</a>'\n",
              "          + ' to learn more about interactive tables.';\n",
              "        element.innerHTML = '';\n",
              "        dataTable['output_type'] = 'display_data';\n",
              "        await google.colab.output.renderOutput(dataTable, element);\n",
              "        const docLink = document.createElement('div');\n",
              "        docLink.innerHTML = docLinkHtml;\n",
              "        element.appendChild(docLink);\n",
              "      }\n",
              "    </script>\n",
              "  </div>\n",
              "\n",
              "\n",
              "<div id=\"df-513aeab8-e882-493f-8892-7b07fe526fb3\">\n",
              "  <button class=\"colab-df-quickchart\" onclick=\"quickchart('df-513aeab8-e882-493f-8892-7b07fe526fb3')\"\n",
              "            title=\"Suggest charts\"\n",
              "            style=\"display:none;\">\n",
              "\n",
              "<svg xmlns=\"http://www.w3.org/2000/svg\" height=\"24px\"viewBox=\"0 0 24 24\"\n",
              "     width=\"24px\">\n",
              "    <g>\n",
              "        <path d=\"M19 3H5c-1.1 0-2 .9-2 2v14c0 1.1.9 2 2 2h14c1.1 0 2-.9 2-2V5c0-1.1-.9-2-2-2zM9 17H7v-7h2v7zm4 0h-2V7h2v10zm4 0h-2v-4h2v4z\"/>\n",
              "    </g>\n",
              "</svg>\n",
              "  </button>\n",
              "\n",
              "<style>\n",
              "  .colab-df-quickchart {\n",
              "      --bg-color: #E8F0FE;\n",
              "      --fill-color: #1967D2;\n",
              "      --hover-bg-color: #E2EBFA;\n",
              "      --hover-fill-color: #174EA6;\n",
              "      --disabled-fill-color: #AAA;\n",
              "      --disabled-bg-color: #DDD;\n",
              "  }\n",
              "\n",
              "  [theme=dark] .colab-df-quickchart {\n",
              "      --bg-color: #3B4455;\n",
              "      --fill-color: #D2E3FC;\n",
              "      --hover-bg-color: #434B5C;\n",
              "      --hover-fill-color: #FFFFFF;\n",
              "      --disabled-bg-color: #3B4455;\n",
              "      --disabled-fill-color: #666;\n",
              "  }\n",
              "\n",
              "  .colab-df-quickchart {\n",
              "    background-color: var(--bg-color);\n",
              "    border: none;\n",
              "    border-radius: 50%;\n",
              "    cursor: pointer;\n",
              "    display: none;\n",
              "    fill: var(--fill-color);\n",
              "    height: 32px;\n",
              "    padding: 0;\n",
              "    width: 32px;\n",
              "  }\n",
              "\n",
              "  .colab-df-quickchart:hover {\n",
              "    background-color: var(--hover-bg-color);\n",
              "    box-shadow: 0 1px 2px rgba(60, 64, 67, 0.3), 0 1px 3px 1px rgba(60, 64, 67, 0.15);\n",
              "    fill: var(--button-hover-fill-color);\n",
              "  }\n",
              "\n",
              "  .colab-df-quickchart-complete:disabled,\n",
              "  .colab-df-quickchart-complete:disabled:hover {\n",
              "    background-color: var(--disabled-bg-color);\n",
              "    fill: var(--disabled-fill-color);\n",
              "    box-shadow: none;\n",
              "  }\n",
              "\n",
              "  .colab-df-spinner {\n",
              "    border: 2px solid var(--fill-color);\n",
              "    border-color: transparent;\n",
              "    border-bottom-color: var(--fill-color);\n",
              "    animation:\n",
              "      spin 1s steps(1) infinite;\n",
              "  }\n",
              "\n",
              "  @keyframes spin {\n",
              "    0% {\n",
              "      border-color: transparent;\n",
              "      border-bottom-color: var(--fill-color);\n",
              "      border-left-color: var(--fill-color);\n",
              "    }\n",
              "    20% {\n",
              "      border-color: transparent;\n",
              "      border-left-color: var(--fill-color);\n",
              "      border-top-color: var(--fill-color);\n",
              "    }\n",
              "    30% {\n",
              "      border-color: transparent;\n",
              "      border-left-color: var(--fill-color);\n",
              "      border-top-color: var(--fill-color);\n",
              "      border-right-color: var(--fill-color);\n",
              "    }\n",
              "    40% {\n",
              "      border-color: transparent;\n",
              "      border-right-color: var(--fill-color);\n",
              "      border-top-color: var(--fill-color);\n",
              "    }\n",
              "    60% {\n",
              "      border-color: transparent;\n",
              "      border-right-color: var(--fill-color);\n",
              "    }\n",
              "    80% {\n",
              "      border-color: transparent;\n",
              "      border-right-color: var(--fill-color);\n",
              "      border-bottom-color: var(--fill-color);\n",
              "    }\n",
              "    90% {\n",
              "      border-color: transparent;\n",
              "      border-bottom-color: var(--fill-color);\n",
              "    }\n",
              "  }\n",
              "</style>\n",
              "\n",
              "  <script>\n",
              "    async function quickchart(key) {\n",
              "      const quickchartButtonEl =\n",
              "        document.querySelector('#' + key + ' button');\n",
              "      quickchartButtonEl.disabled = true;  // To prevent multiple clicks.\n",
              "      quickchartButtonEl.classList.add('colab-df-spinner');\n",
              "      try {\n",
              "        const charts = await google.colab.kernel.invokeFunction(\n",
              "            'suggestCharts', [key], {});\n",
              "      } catch (error) {\n",
              "        console.error('Error during call to suggestCharts:', error);\n",
              "      }\n",
              "      quickchartButtonEl.classList.remove('colab-df-spinner');\n",
              "      quickchartButtonEl.classList.add('colab-df-quickchart-complete');\n",
              "    }\n",
              "    (() => {\n",
              "      let quickchartButtonEl =\n",
              "        document.querySelector('#df-513aeab8-e882-493f-8892-7b07fe526fb3 button');\n",
              "      quickchartButtonEl.style.display =\n",
              "        google.colab.kernel.accessAllowed ? 'block' : 'none';\n",
              "    })();\n",
              "  </script>\n",
              "</div>\n",
              "\n",
              "    </div>\n",
              "  </div>\n"
            ],
            "application/vnd.google.colaboratory.intrinsic+json": {
              "type": "dataframe",
              "repr_error": "Out of range float values are not JSON compliant: nan"
            }
          },
          "metadata": {},
          "execution_count": 18
        },
        {
          "output_type": "stream",
          "name": "stdout",
          "text": [
            "time: 430 ms (started: 2025-03-11 14:07:16 +00:00)\n"
          ]
        }
      ],
      "source": [
        "df[df['position'].isna()]"
      ]
    },
    {
      "cell_type": "code",
      "execution_count": 20,
      "metadata": {
        "id": "Vifv03w_9SQK",
        "outputId": "92a8b5af-4883-4ff2-d975-bd946c4ab73c",
        "colab": {
          "base_uri": "https://localhost:8080/",
          "height": 70
        }
      },
      "outputs": [
        {
          "output_type": "execute_result",
          "data": {
            "text/plain": [
              "Empty DataFrame\n",
              "Columns: [un-general-debates-blueprint.csv, year, country, country_name, speaker, position, text, nb_chars, nb_words_theoritical, nb_pages, nb_minutes, nb_words]\n",
              "Index: []"
            ],
            "text/html": [
              "\n",
              "  <div id=\"df-ee4d4732-7c09-4eaf-b4a5-145e77d5df0b\" class=\"colab-df-container\">\n",
              "    <div>\n",
              "<style scoped>\n",
              "    .dataframe tbody tr th:only-of-type {\n",
              "        vertical-align: middle;\n",
              "    }\n",
              "\n",
              "    .dataframe tbody tr th {\n",
              "        vertical-align: top;\n",
              "    }\n",
              "\n",
              "    .dataframe thead th {\n",
              "        text-align: right;\n",
              "    }\n",
              "</style>\n",
              "<table border=\"1\" class=\"dataframe\">\n",
              "  <thead>\n",
              "    <tr style=\"text-align: right;\">\n",
              "      <th></th>\n",
              "      <th>un-general-debates-blueprint.csv</th>\n",
              "      <th>year</th>\n",
              "      <th>country</th>\n",
              "      <th>country_name</th>\n",
              "      <th>speaker</th>\n",
              "      <th>position</th>\n",
              "      <th>text</th>\n",
              "      <th>nb_chars</th>\n",
              "      <th>nb_words_theoritical</th>\n",
              "      <th>nb_pages</th>\n",
              "      <th>nb_minutes</th>\n",
              "      <th>nb_words</th>\n",
              "    </tr>\n",
              "  </thead>\n",
              "  <tbody>\n",
              "  </tbody>\n",
              "</table>\n",
              "</div>\n",
              "    <div class=\"colab-df-buttons\">\n",
              "\n",
              "  <div class=\"colab-df-container\">\n",
              "    <button class=\"colab-df-convert\" onclick=\"convertToInteractive('df-ee4d4732-7c09-4eaf-b4a5-145e77d5df0b')\"\n",
              "            title=\"Convert this dataframe to an interactive table.\"\n",
              "            style=\"display:none;\">\n",
              "\n",
              "  <svg xmlns=\"http://www.w3.org/2000/svg\" height=\"24px\" viewBox=\"0 -960 960 960\">\n",
              "    <path d=\"M120-120v-720h720v720H120Zm60-500h600v-160H180v160Zm220 220h160v-160H400v160Zm0 220h160v-160H400v160ZM180-400h160v-160H180v160Zm440 0h160v-160H620v160ZM180-180h160v-160H180v160Zm440 0h160v-160H620v160Z\"/>\n",
              "  </svg>\n",
              "    </button>\n",
              "\n",
              "  <style>\n",
              "    .colab-df-container {\n",
              "      display:flex;\n",
              "      gap: 12px;\n",
              "    }\n",
              "\n",
              "    .colab-df-convert {\n",
              "      background-color: #E8F0FE;\n",
              "      border: none;\n",
              "      border-radius: 50%;\n",
              "      cursor: pointer;\n",
              "      display: none;\n",
              "      fill: #1967D2;\n",
              "      height: 32px;\n",
              "      padding: 0 0 0 0;\n",
              "      width: 32px;\n",
              "    }\n",
              "\n",
              "    .colab-df-convert:hover {\n",
              "      background-color: #E2EBFA;\n",
              "      box-shadow: 0px 1px 2px rgba(60, 64, 67, 0.3), 0px 1px 3px 1px rgba(60, 64, 67, 0.15);\n",
              "      fill: #174EA6;\n",
              "    }\n",
              "\n",
              "    .colab-df-buttons div {\n",
              "      margin-bottom: 4px;\n",
              "    }\n",
              "\n",
              "    [theme=dark] .colab-df-convert {\n",
              "      background-color: #3B4455;\n",
              "      fill: #D2E3FC;\n",
              "    }\n",
              "\n",
              "    [theme=dark] .colab-df-convert:hover {\n",
              "      background-color: #434B5C;\n",
              "      box-shadow: 0px 1px 3px 1px rgba(0, 0, 0, 0.15);\n",
              "      filter: drop-shadow(0px 1px 2px rgba(0, 0, 0, 0.3));\n",
              "      fill: #FFFFFF;\n",
              "    }\n",
              "  </style>\n",
              "\n",
              "    <script>\n",
              "      const buttonEl =\n",
              "        document.querySelector('#df-ee4d4732-7c09-4eaf-b4a5-145e77d5df0b button.colab-df-convert');\n",
              "      buttonEl.style.display =\n",
              "        google.colab.kernel.accessAllowed ? 'block' : 'none';\n",
              "\n",
              "      async function convertToInteractive(key) {\n",
              "        const element = document.querySelector('#df-ee4d4732-7c09-4eaf-b4a5-145e77d5df0b');\n",
              "        const dataTable =\n",
              "          await google.colab.kernel.invokeFunction('convertToInteractive',\n",
              "                                                    [key], {});\n",
              "        if (!dataTable) return;\n",
              "\n",
              "        const docLinkHtml = 'Like what you see? Visit the ' +\n",
              "          '<a target=\"_blank\" href=https://colab.research.google.com/notebooks/data_table.ipynb>data table notebook</a>'\n",
              "          + ' to learn more about interactive tables.';\n",
              "        element.innerHTML = '';\n",
              "        dataTable['output_type'] = 'display_data';\n",
              "        await google.colab.output.renderOutput(dataTable, element);\n",
              "        const docLink = document.createElement('div');\n",
              "        docLink.innerHTML = docLinkHtml;\n",
              "        element.appendChild(docLink);\n",
              "      }\n",
              "    </script>\n",
              "  </div>\n",
              "\n",
              "\n",
              "    </div>\n",
              "  </div>\n"
            ],
            "application/vnd.google.colaboratory.intrinsic+json": {
              "type": "dataframe",
              "repr_error": "Out of range float values are not JSON compliant: nan"
            }
          },
          "metadata": {},
          "execution_count": 20
        },
        {
          "output_type": "stream",
          "name": "stdout",
          "text": [
            "time: 30.2 ms (started: 2025-03-11 14:07:56 +00:00)\n"
          ]
        }
      ],
      "source": [
        "df.fillna({'speaker': 'unknown', 'position': 'unknown'}, inplace=True)\n",
        "df[df['position'].isna()]"
      ]
    },
    {
      "cell_type": "markdown",
      "metadata": {
        "id": "Ucp0_kY_9SQK"
      },
      "source": [
        "# categorical values vs numerical values"
      ]
    },
    {
      "cell_type": "code",
      "execution_count": 21,
      "metadata": {
        "id": "vRpDHHo69SQK",
        "outputId": "f609e19d-7b9a-49e5-8b75-abd49d1201b5",
        "colab": {
          "base_uri": "https://localhost:8080/",
          "height": 290
        }
      },
      "outputs": [
        {
          "output_type": "execute_result",
          "data": {
            "text/plain": [
              "speaker\n",
              "George W. Bush        4\n",
              "Mr. George W. Bush    2\n",
              "Bush                  1\n",
              "George Bush           1\n",
              "Mr. George W Bush     1\n",
              "Name: count, dtype: int64"
            ],
            "text/html": [
              "<div>\n",
              "<style scoped>\n",
              "    .dataframe tbody tr th:only-of-type {\n",
              "        vertical-align: middle;\n",
              "    }\n",
              "\n",
              "    .dataframe tbody tr th {\n",
              "        vertical-align: top;\n",
              "    }\n",
              "\n",
              "    .dataframe thead th {\n",
              "        text-align: right;\n",
              "    }\n",
              "</style>\n",
              "<table border=\"1\" class=\"dataframe\">\n",
              "  <thead>\n",
              "    <tr style=\"text-align: right;\">\n",
              "      <th></th>\n",
              "      <th>count</th>\n",
              "    </tr>\n",
              "    <tr>\n",
              "      <th>speaker</th>\n",
              "      <th></th>\n",
              "    </tr>\n",
              "  </thead>\n",
              "  <tbody>\n",
              "    <tr>\n",
              "      <th>George W. Bush</th>\n",
              "      <td>4</td>\n",
              "    </tr>\n",
              "    <tr>\n",
              "      <th>Mr. George W. Bush</th>\n",
              "      <td>2</td>\n",
              "    </tr>\n",
              "    <tr>\n",
              "      <th>Bush</th>\n",
              "      <td>1</td>\n",
              "    </tr>\n",
              "    <tr>\n",
              "      <th>George Bush</th>\n",
              "      <td>1</td>\n",
              "    </tr>\n",
              "    <tr>\n",
              "      <th>Mr. George W Bush</th>\n",
              "      <td>1</td>\n",
              "    </tr>\n",
              "  </tbody>\n",
              "</table>\n",
              "</div><br><label><b>dtype:</b> int64</label>"
            ]
          },
          "metadata": {},
          "execution_count": 21
        },
        {
          "output_type": "stream",
          "name": "stdout",
          "text": [
            "time: 19.7 ms (started: 2025-03-11 14:07:59 +00:00)\n"
          ]
        }
      ],
      "source": [
        "df[df['speaker'].str.contains('Bush')]['speaker'].value_counts()"
      ]
    },
    {
      "cell_type": "code",
      "execution_count": 22,
      "metadata": {
        "id": "FndCF_ui9SQK",
        "outputId": "b7d7d597-3c57-4909-e231-c1fd68e0c2d6",
        "colab": {
          "base_uri": "https://localhost:8080/",
          "height": 465
        }
      },
      "outputs": [
        {
          "output_type": "execute_result",
          "data": {
            "text/plain": [
              "<Axes: >"
            ]
          },
          "metadata": {},
          "execution_count": 22
        },
        {
          "output_type": "display_data",
          "data": {
            "text/plain": [
              "<Figure size 640x480 with 1 Axes>"
            ],
            "image/png": "[encoded data removed]"
          },
          "metadata": {}
        },
        {
          "output_type": "stream",
          "name": "stdout",
          "text": [
            "time: 403 ms (started: 2025-03-11 14:08:01 +00:00)\n"
          ]
        }
      ],
      "source": [
        "df['nb_words'].plot(kind='box', vert=False)\n"
      ]
    },
    {
      "cell_type": "code",
      "execution_count": 23,
      "metadata": {
        "id": "tAXwNYhu9SQL",
        "outputId": "e0dc2ad3-8010-4981-cfdb-8b3abfa2e201",
        "colab": {
          "base_uri": "https://localhost:8080/",
          "height": 465
        }
      },
      "outputs": [
        {
          "output_type": "execute_result",
          "data": {
            "text/plain": [
              "<Axes: ylabel='Frequency'>"
            ]
          },
          "metadata": {},
          "execution_count": 23
        },
        {
          "output_type": "display_data",
          "data": {
            "text/plain": [
              "<Figure size 640x480 with 1 Axes>"
            ],
            "image/png": "[encoded data removed]"
          },
          "metadata": {}
        },
        {
          "output_type": "stream",
          "name": "stdout",
          "text": [
            "time: 231 ms (started: 2025-03-11 14:08:06 +00:00)\n"
          ]
        }
      ],
      "source": [
        "df['nb_words'].plot(kind='hist', bins=30) # , figsize=(8,2)"
      ]
    },
    {
      "cell_type": "markdown",
      "metadata": {
        "id": "PUL3DWMs9SQL"
      },
      "source": [
        "### Kernel density estimation\n",
        "\n",
        "https://en.wikipedia.org/wiki/Kernel_density_estimation\n",
        "\n",
        "if error: \"FutureWarning: `distplot` is a deprecated function\"\n",
        "\n",
        "update scipy: `pip3 install --upgrade scipy `\n",
        "\n",
        "if it persists\n",
        "    "
      ]
    },
    {
      "cell_type": "code",
      "execution_count": 24,
      "metadata": {
        "id": "akXACu5l9SQL",
        "outputId": "883e671e-56d0-48a2-8ae5-a788dbd9aefe",
        "colab": {
          "base_uri": "https://localhost:8080/"
        }
      },
      "outputs": [
        {
          "output_type": "stream",
          "name": "stdout",
          "text": [
            "time: 440 µs (started: 2025-03-11 14:08:45 +00:00)\n"
          ]
        }
      ],
      "source": [
        "# only if you got warnings!!!\n",
        "# import warnings\n",
        "# warnings.filterwarnings(\"ignore\")"
      ]
    },
    {
      "cell_type": "code",
      "execution_count": 25,
      "metadata": {
        "id": "saPMJhj89SQL",
        "outputId": "2038d4a4-b0de-47cd-aa5e-d5119f9f9dfb",
        "colab": {
          "base_uri": "https://localhost:8080/",
          "height": 485
        }
      },
      "outputs": [
        {
          "output_type": "execute_result",
          "data": {
            "text/plain": [
              "<Axes: xlabel='nb_words', ylabel='Count'>"
            ]
          },
          "metadata": {},
          "execution_count": 25
        },
        {
          "output_type": "display_data",
          "data": {
            "text/plain": [
              "<Figure size 640x480 with 1 Axes>"
            ],
            "image/png": "[encoded data removed]"
          },
          "metadata": {}
        },
        {
          "output_type": "stream",
          "name": "stdout",
          "text": [
            "time: 396 ms (started: 2025-03-11 14:08:46 +00:00)\n"
          ]
        }
      ],
      "source": [
        "#plt.figure(figsize=(8, 2))\n",
        "sns.histplot(df['nb_words'], bins=30, kde=True)\n"
      ]
    },
    {
      "cell_type": "markdown",
      "metadata": {
        "id": "SBcFDLXz9SQL"
      },
      "source": [
        "# Seaborn docs?\n",
        "https://seaborn.pydata.org/index.html  \n",
        "https://seaborn.pydata.org/generated/seaborn.distplot.html"
      ]
    },
    {
      "cell_type": "markdown",
      "metadata": {
        "id": "ak3JKmTs9SQL"
      },
      "source": [
        "## from where?\n",
        "\n",
        "catplot shows the relationship between a numerical and one or more categorical variables.\n",
        "https://seaborn.pydata.org/generated/seaborn.catplot.html"
      ]
    },
    {
      "cell_type": "code",
      "execution_count": 26,
      "metadata": {
        "id": "zNXrLL2b9SQU",
        "outputId": "41161cc0-6108-47d5-e1d4-7278f70cc0a9",
        "colab": {
          "base_uri": "https://localhost:8080/",
          "height": 542
        }
      },
      "outputs": [
        {
          "output_type": "execute_result",
          "data": {
            "text/plain": [
              "<seaborn.axisgrid.FacetGrid at 0x78f2e51d5050>"
            ]
          },
          "metadata": {},
          "execution_count": 26
        },
        {
          "output_type": "display_data",
          "data": {
            "text/plain": [
              "<Figure size 511.111x500 with 1 Axes>"
            ],
            "image/png": "[encoded data removed]"
          },
          "metadata": {}
        },
        {
          "output_type": "stream",
          "name": "stdout",
          "text": [
            "time: 6.86 s (started: 2025-03-11 14:09:09 +00:00)\n"
          ]
        }
      ],
      "source": [
        "sns.catplot(data=df, x=\"country\", y=\"nb_words\")"
      ]
    },
    {
      "cell_type": "code",
      "execution_count": 27,
      "metadata": {
        "id": "dCfqK95y9SQU",
        "outputId": "27051823-490e-4018-8e52-c5c2de886701",
        "colab": {
          "base_uri": "https://localhost:8080/",
          "height": 476
        }
      },
      "outputs": [
        {
          "output_type": "execute_result",
          "data": {
            "text/plain": [
              "0       False\n",
              "1       False\n",
              "2       False\n",
              "3       False\n",
              "4       False\n",
              "        ...  \n",
              "7503    False\n",
              "7504    False\n",
              "7505    False\n",
              "7506    False\n",
              "7507    False\n",
              "Name: country, Length: 7508, dtype: bool"
            ],
            "text/html": [
              "<div>\n",
              "<style scoped>\n",
              "    .dataframe tbody tr th:only-of-type {\n",
              "        vertical-align: middle;\n",
              "    }\n",
              "\n",
              "    .dataframe tbody tr th {\n",
              "        vertical-align: top;\n",
              "    }\n",
              "\n",
              "    .dataframe thead th {\n",
              "        text-align: right;\n",
              "    }\n",
              "</style>\n",
              "<table border=\"1\" class=\"dataframe\">\n",
              "  <thead>\n",
              "    <tr style=\"text-align: right;\">\n",
              "      <th></th>\n",
              "      <th>country</th>\n",
              "    </tr>\n",
              "  </thead>\n",
              "  <tbody>\n",
              "    <tr>\n",
              "      <th>0</th>\n",
              "      <td>False</td>\n",
              "    </tr>\n",
              "    <tr>\n",
              "      <th>1</th>\n",
              "      <td>False</td>\n",
              "    </tr>\n",
              "    <tr>\n",
              "      <th>2</th>\n",
              "      <td>False</td>\n",
              "    </tr>\n",
              "    <tr>\n",
              "      <th>3</th>\n",
              "      <td>False</td>\n",
              "    </tr>\n",
              "    <tr>\n",
              "      <th>4</th>\n",
              "      <td>False</td>\n",
              "    </tr>\n",
              "    <tr>\n",
              "      <th>...</th>\n",
              "      <td>...</td>\n",
              "    </tr>\n",
              "    <tr>\n",
              "      <th>7503</th>\n",
              "      <td>False</td>\n",
              "    </tr>\n",
              "    <tr>\n",
              "      <th>7504</th>\n",
              "      <td>False</td>\n",
              "    </tr>\n",
              "    <tr>\n",
              "      <th>7505</th>\n",
              "      <td>False</td>\n",
              "    </tr>\n",
              "    <tr>\n",
              "      <th>7506</th>\n",
              "      <td>False</td>\n",
              "    </tr>\n",
              "    <tr>\n",
              "      <th>7507</th>\n",
              "      <td>False</td>\n",
              "    </tr>\n",
              "  </tbody>\n",
              "</table>\n",
              "<p>7508 rows × 1 columns</p>\n",
              "</div><br><label><b>dtype:</b> bool</label>"
            ]
          },
          "metadata": {},
          "execution_count": 27
        },
        {
          "output_type": "stream",
          "name": "stdout",
          "text": [
            "time: 8.79 ms (started: 2025-03-11 14:09:19 +00:00)\n"
          ]
        }
      ],
      "source": [
        "# how to build a selection:\n",
        "df['country'].isin(['USA', 'FRA', 'GBR', 'CHN', 'RUS'])"
      ]
    },
    {
      "cell_type": "code",
      "execution_count": 28,
      "metadata": {
        "id": "SbnDQvPH9SQU",
        "outputId": "d51932a0-ff31-4f15-94c2-007e8f87eacc",
        "colab": {
          "base_uri": "https://localhost:8080/",
          "height": 1000
        }
      },
      "outputs": [
        {
          "output_type": "execute_result",
          "data": {
            "text/plain": [
              "<seaborn.axisgrid.FacetGrid at 0x78f2e0974f90>"
            ]
          },
          "metadata": {},
          "execution_count": 28
        },
        {
          "output_type": "display_data",
          "data": {
            "text/plain": [
              "<Figure size 511.111x500 with 1 Axes>"
            ],
            "image/png": "[encoded data removed]"
          },
          "metadata": {}
        },
        {
          "output_type": "display_data",
          "data": {
            "text/plain": [
              "<Figure size 511.111x500 with 1 Axes>"
            ],
            "image/png": "[encoded data removed]"
          },
          "metadata": {}
        },
        {
          "output_type": "stream",
          "name": "stdout",
          "text": [
            "time: 864 ms (started: 2025-03-11 14:09:20 +00:00)\n"
          ]
        }
      ],
      "source": [
        "# using the selection\n",
        "where = df['country'].isin(['USA', 'FRA', 'GBR', 'CHN', 'RUS'])\n",
        "sns.catplot(data=df[where], x=\"country\", y=\"nb_words\", kind='box')\n",
        "sns.catplot(data=df[where], x=\"country\", y=\"nb_words\", kind='violin')"
      ]
    },
    {
      "cell_type": "markdown",
      "metadata": {
        "id": "NiMlXCPO9SQU"
      },
      "source": [
        "## significant differences?\n",
        "\n",
        "Student test? Anova ?\n",
        "\n",
        "if the boxes (marking the quartiles) don't overlap each other and the sample size is at least 10, then the two groups being compared should have different medians at the 5% level: https://stats.stackexchange.com/questions/262495/reading-box-and-whisker-plots-possible-to-glean-significant-differences-between"
      ]
    },
    {
      "cell_type": "code",
      "execution_count": 29,
      "metadata": {
        "id": "YldMxBjq9SQU",
        "outputId": "c1db2cc2-659d-421c-8665-1e8b8cadb523",
        "colab": {
          "base_uri": "https://localhost:8080/",
          "height": 541
        }
      },
      "outputs": [
        {
          "output_type": "execute_result",
          "data": {
            "text/plain": [
              "<seaborn.axisgrid.FacetGrid at 0x78f2e083fd10>"
            ]
          },
          "metadata": {},
          "execution_count": 29
        },
        {
          "output_type": "display_data",
          "data": {
            "text/plain": [
              "<Figure size 511.111x500 with 1 Axes>"
            ],
            "image/png": "[encoded data removed]"
          },
          "metadata": {}
        },
        {
          "output_type": "stream",
          "name": "stdout",
          "text": [
            "time: 398 ms (started: 2025-03-11 14:09:26 +00:00)\n"
          ]
        }
      ],
      "source": [
        "sns.catplot(data=df[where], x=\"country\", y=\"nb_words\", kind='box', notch= True)"
      ]
    },
    {
      "cell_type": "markdown",
      "metadata": {
        "id": "OJO60NJV9SQU"
      },
      "source": [
        "## time?\n",
        "\n",
        "size() returns the number of rows per group  \n",
        "Why number of countries?"
      ]
    },
    {
      "cell_type": "code",
      "execution_count": 30,
      "metadata": {
        "id": "tftEVrJT9SQU",
        "outputId": "916a29dd-7aba-4baf-d58c-d5f6dfc09466",
        "colab": {
          "base_uri": "https://localhost:8080/",
          "height": 507
        }
      },
      "outputs": [
        {
          "output_type": "execute_result",
          "data": {
            "text/plain": [
              "<Axes: title={'center': 'Number of Countries'}, xlabel='year'>"
            ]
          },
          "metadata": {},
          "execution_count": 30
        },
        {
          "output_type": "display_data",
          "data": {
            "text/plain": [
              "<Figure size 640x480 with 1 Axes>"
            ],
            "image/png": "[encoded data removed]"
          },
          "metadata": {}
        },
        {
          "output_type": "stream",
          "name": "stdout",
          "text": [
            "time: 231 ms (started: 2025-03-11 14:09:35 +00:00)\n"
          ]
        }
      ],
      "source": [
        "df.groupby('year').size().plot(title=\"Number of Countries\")"
      ]
    },
    {
      "cell_type": "markdown",
      "metadata": {
        "id": "zn3WiQJc9SQU"
      },
      "source": [
        "when more people want to speak, ...?"
      ]
    },
    {
      "cell_type": "code",
      "execution_count": null,
      "metadata": {
        "id": "9jAfsCHH9SQV"
      },
      "outputs": [],
      "source": [
        "df.groupby('year').agg({'nb_words': 'mean'}).plot(title=\"Avg. Speech Length\", ylim=(0,5000))"
      ]
    },
    {
      "cell_type": "code",
      "execution_count": null,
      "metadata": {
        "id": "q2J3ZW189SQV"
      },
      "outputs": [],
      "source": [
        "where = df['country'].isin(['USA', 'FRA', 'GBR', 'CHN', 'RUS', 'FRG', 'DEU'])\n",
        "sns.catplot(data=df[where], x=\"country\", y=\"nb_words\", kind='box', notch= True)"
      ]
    },
    {
      "cell_type": "markdown",
      "metadata": {
        "id": "aUhugWvb9SQV"
      },
      "source": [
        "## 🚧 todo: When speaking English, do Germans use longer words?\n",
        "\n",
        "- Compare to British natives, US natives, and French speakers.\n",
        "- Is the result significant?\n",
        "- How do you explain this?"
      ]
    },
    {
      "cell_type": "code",
      "execution_count": null,
      "metadata": {
        "id": "QP5znJ4k9SQV"
      },
      "outputs": [],
      "source": [
        "# 🚧 todo:\n",
        "df['avg_wordsize'] = ..."
      ]
    },
    {
      "cell_type": "code",
      "execution_count": null,
      "metadata": {
        "id": "N4N-c_I79SQV"
      },
      "outputs": [],
      "source": [
        "# 🚧 todo:\n",
        "where = df['country'].isin..."
      ]
    },
    {
      "cell_type": "markdown",
      "metadata": {
        "id": "k3WoGh9k9SQV"
      },
      "source": [
        "#### 🚧 todo:\n",
        "answer:\n",
        "\n"
      ]
    },
    {
      "cell_type": "code",
      "execution_count": null,
      "metadata": {
        "id": "acQbcEvY9SQV"
      },
      "outputs": [],
      "source": []
    },
    {
      "cell_type": "code",
      "execution_count": null,
      "metadata": {
        "id": "n79ADCUc9SQV"
      },
      "outputs": [],
      "source": []
    },
    {
      "cell_type": "code",
      "execution_count": null,
      "metadata": {
        "id": "KOXQTfpY9SQV"
      },
      "outputs": [],
      "source": []
    },
    {
      "cell_type": "code",
      "execution_count": null,
      "metadata": {
        "id": "ge0zUVcP9SQV"
      },
      "outputs": [],
      "source": []
    },
    {
      "cell_type": "code",
      "execution_count": null,
      "metadata": {
        "id": "HxEaFNhq9SQV"
      },
      "outputs": [],
      "source": []
    },
    {
      "cell_type": "code",
      "execution_count": null,
      "metadata": {
        "id": "_9C64TJK9SQW"
      },
      "outputs": [],
      "source": []
    },
    {
      "cell_type": "code",
      "execution_count": null,
      "metadata": {
        "id": "cXu5V7Cr9SQW"
      },
      "outputs": [],
      "source": []
    },
    {
      "cell_type": "markdown",
      "metadata": {
        "id": "ag6uupfQ9SQW"
      },
      "source": [
        "# Let's Zipf it!\n",
        "## skim through this section if you have followed Hands-on NLP!\n",
        "but execute the code so that we have the freq_df and start again at word clouds\n",
        "### Let's first flatten the list"
      ]
    },
    {
      "cell_type": "code",
      "execution_count": null,
      "metadata": {
        "id": "z-R18VQs9SQW"
      },
      "outputs": [],
      "source": [
        "all_words = [word for speech in df['text'].dropna() for word in re.findall(r'\\b\\w+\\b', speech.lower())]\n",
        "len(all_words)"
      ]
    },
    {
      "cell_type": "code",
      "execution_count": null,
      "metadata": {
        "id": "1Zi61Pu_9SQW"
      },
      "outputs": [],
      "source": [
        "text = \"Wait... what?! What? WHAT?! You're telling me that 99.9% of statistics—including this one—are made up?! Made up, I say! Completely, absolutely, 100% made up!\"\n",
        "counter = Counter(re.findall(r'\\b\\w+\\b', text.lower()))\n",
        "counter"
      ]
    },
    {
      "cell_type": "markdown",
      "metadata": {
        "id": "sMB53PE49SQW"
      },
      "source": [
        "### What are the most common words of English?"
      ]
    },
    {
      "cell_type": "code",
      "execution_count": null,
      "metadata": {
        "id": "KLFJp2Yq9SQW"
      },
      "outputs": [],
      "source": [
        "counter = Counter(all_words)\n",
        "counter.most_common(22)"
      ]
    },
    {
      "cell_type": "markdown",
      "metadata": {
        "id": "ZZDAnbC59SQW"
      },
      "source": [
        "for even bigger databases, it might be advisable to do the computation iteratively:"
      ]
    },
    {
      "cell_type": "code",
      "execution_count": null,
      "metadata": {
        "id": "TlfbXQnK9SQW"
      },
      "outputs": [],
      "source": [
        "counter = Counter()\n",
        "df['text'].dropna().apply(lambda text: counter.update(re.findall(r'\\b\\w+\\b', text.lower())))\n",
        "counter.most_common(22)"
      ]
    },
    {
      "cell_type": "code",
      "execution_count": null,
      "metadata": {
        "id": "pRm6eAI79SQW"
      },
      "outputs": [],
      "source": [
        "freq_df = pd.DataFrame.from_dict(counter, orient='index', columns=['freq'])\n",
        "freq_df.sort_values('freq',  inplace=True, ascending=False)\n",
        "freq_df"
      ]
    },
    {
      "cell_type": "code",
      "execution_count": null,
      "metadata": {
        "id": "7UKkfPPj9SQX"
      },
      "outputs": [],
      "source": [
        "freq_df.head(22).plot(kind='bar')\n"
      ]
    },
    {
      "cell_type": "code",
      "execution_count": null,
      "metadata": {
        "id": "6qeUN0Mp9SQX"
      },
      "outputs": [],
      "source": [
        "freq_df.head(2222).plot()"
      ]
    },
    {
      "cell_type": "code",
      "execution_count": null,
      "metadata": {
        "id": "ajS6w-5u9SQX"
      },
      "outputs": [],
      "source": [
        "freq_df.head(2222).plot(loglog=True)"
      ]
    },
    {
      "cell_type": "markdown",
      "metadata": {
        "id": "A_tReTj69SQX"
      },
      "source": [
        "futher reading:  \n",
        "https://en.wikipedia.org/wiki/Zipf's_law  \n",
        "https://stats.stackexchange.com/questions/6780/how-to-calculate-zipfs-law-coefficient-from-a-set-of-top-frequencies"
      ]
    },
    {
      "cell_type": "markdown",
      "metadata": {
        "id": "C0tFjHfu9SQX"
      },
      "source": [
        "# Word cloud\n",
        "\n",
        "http://amueller.github.io/word_cloud/generated/wordcloud.WordCloud.html#wordcloud.WordCloud"
      ]
    },
    {
      "cell_type": "code",
      "execution_count": null,
      "metadata": {
        "id": "MCVmFZ6d9SQX"
      },
      "outputs": [],
      "source": [
        "text = df.query(\"year==2015 and country=='USA'\")['text'].values[0]\n",
        "wc = WordCloud(max_words=100)\n",
        "wc.generate(text)\n",
        "plt.imshow(wc, interpolation='bilinear')\n",
        "plt.axis(\"off\")"
      ]
    },
    {
      "cell_type": "code",
      "execution_count": null,
      "metadata": {
        "id": "rNPyeFYi9SQX"
      },
      "outputs": [],
      "source": [
        "plt.subplots(1, 2, figsize=(20, 4))\n",
        "\n",
        "text = df.query(\"country=='USA'\")['text'].values[0]\n",
        "wc = WordCloud(max_words=100)\n",
        "wc.generate(text)\n",
        "plt.subplot(1, 2, 1)\n",
        "plt.imshow(wc, interpolation='bilinear')\n",
        "plt.axis(\"off\")\n",
        "\n",
        "text = df.query(\"country=='RUS'\")['text'].values[0]\n",
        "wc = WordCloud(max_words=100)\n",
        "wc.generate(text)\n",
        "\n",
        "plt.subplot(1, 2, 2)\n",
        "plt.imshow(wc, interpolation='bilinear')\n",
        "plt.axis(\"off\")\n",
        "\n",
        "plt.tight_layout()"
      ]
    },
    {
      "cell_type": "code",
      "execution_count": null,
      "metadata": {
        "id": "lXqdjtRT9SQX"
      },
      "outputs": [],
      "source": [
        "wc = WordCloud(max_words=100, stopwords=freq_df.head(50).index)\n",
        "wc.generate(text)\n",
        "plt.imshow(wc, interpolation='bilinear')\n",
        "plt.axis(\"off\")"
      ]
    },
    {
      "cell_type": "markdown",
      "metadata": {
        "id": "FS9qBpd49SQX"
      },
      "source": [
        "the `generate_from_frequencies` function allows to generate without stopwords directly from a Counter:"
      ]
    },
    {
      "cell_type": "code",
      "execution_count": null,
      "metadata": {
        "id": "I7j-wDnF9SQY"
      },
      "outputs": [],
      "source": [
        "wc.generate_from_frequencies(counter)\n",
        "plt.title('from counter')\n",
        "plt.imshow(wc, interpolation='bilinear')\n",
        "plt.axis(\"off\")"
      ]
    },
    {
      "cell_type": "markdown",
      "metadata": {
        "id": "Xur8nYDa9SQY"
      },
      "source": [
        "# Index\n",
        "\n",
        "We want to build an inverted index:\n",
        "- make a df such that for every type, we have a 1 if the document contains the type, 0 if not.\n",
        "- for every type, give a list of document ids\n",
        "\n",
        "# 🚧 todo:\n",
        "- how many types do we have?\n",
        "- how many documents do we have?"
      ]
    },
    {
      "cell_type": "code",
      "execution_count": null,
      "metadata": {
        "id": "MLjyBehf9SQY"
      },
      "outputs": [],
      "source": [
        "print(...,'types')\n",
        "print(...,'documents')\n"
      ]
    },
    {
      "cell_type": "code",
      "execution_count": null,
      "metadata": {
        "id": "0wRG95i19SQY"
      },
      "outputs": [],
      "source": [
        "list(freq_df.index[66:77])"
      ]
    },
    {
      "cell_type": "code",
      "execution_count": null,
      "metadata": {
        "id": "Ml7LfBrK9SQY"
      },
      "outputs": [],
      "source": [
        "df[33:36]"
      ]
    },
    {
      "cell_type": "code",
      "execution_count": null,
      "metadata": {
        "id": "Eyc6a-5Y9SQY"
      },
      "outputs": [],
      "source": [
        "A = np.zeros((11, 3))\n",
        "A.nbytes"
      ]
    },
    {
      "cell_type": "markdown",
      "metadata": {
        "id": "B7IZhnwz9SQY"
      },
      "source": [
        "we will first try the naïve way, to find out that this easily gets too slow:"
      ]
    },
    {
      "cell_type": "code",
      "execution_count": null,
      "metadata": {
        "id": "RUM-9IDs9SQY"
      },
      "outputs": [],
      "source": [
        "for i,t in enumerate(freq_df.index[66:77]):\n",
        "    for j, text in enumerate(df['text'][33:36]):\n",
        "        # Tokenize text using regex\n",
        "        tokens = set(re.findall(r'\\b\\w+\\b', text.lower()))  # Use set for faster lookup\n",
        "        if t in tokens:\n",
        "            A[i, j] = 1  # Mark presence of token in text\n",
        "A"
      ]
    },
    {
      "cell_type": "code",
      "execution_count": null,
      "metadata": {
        "id": "Xsu3FDVK9SQY"
      },
      "outputs": [],
      "source": [
        "A.nbytes"
      ]
    },
    {
      "cell_type": "code",
      "execution_count": null,
      "metadata": {
        "id": "LcOtGZEx9SQY"
      },
      "outputs": [],
      "source": [
        "A = np.zeros((100, 7507)) # understand this: 100 most frequent words, 7507 speeches\n",
        "for i,t in tqdm(enumerate(freq_df.index[:100])):\n",
        "    for j, text in enumerate(df['text'][33:100]): # play with the range to see how slow your machine is\n",
        "        tokens = set(re.findall(r'\\b\\w+\\b', text.lower()))\n",
        "        if t in tokens:\n",
        "               A[i,j] =1\n",
        "# can you do that loop more efficiently? This is not an obligatory task.\n",
        "A"
      ]
    },
    {
      "cell_type": "code",
      "execution_count": null,
      "metadata": {
        "id": "-RfEDiwZ9SQZ"
      },
      "outputs": [],
      "source": [
        "A.nbytes"
      ]
    },
    {
      "cell_type": "markdown",
      "metadata": {
        "id": "IXnUOY4M9SQZ"
      },
      "source": [
        "### 🚧 todo:\n",
        "\n",
        "What would be the size of the complete table?\n"
      ]
    },
    {
      "cell_type": "code",
      "execution_count": null,
      "metadata": {
        "id": "O8EA2TL09SQZ"
      },
      "outputs": [],
      "source": [
        "# 🚧 todo:\n",
        "A ="
      ]
    },
    {
      "cell_type": "markdown",
      "metadata": {
        "id": "lRQV3x2w9SQZ"
      },
      "source": [
        "### 🚧 todo:\n",
        "\n",
        "How long will it take to fill the complete table?\n"
      ]
    },
    {
      "cell_type": "code",
      "execution_count": null,
      "metadata": {
        "id": "jIot5RF59SQZ"
      },
      "outputs": [],
      "source": [
        "# 🚧 todo:\n",
        "# i take 9 seconds per 100, should be about linear\n",
        "...,'seconds',...,'minutes', ...,'hours'\n"
      ]
    },
    {
      "cell_type": "markdown",
      "metadata": {
        "id": "dMdI1UyJ9SQZ"
      },
      "source": [
        "### redoing the same thing with CountVectorizer"
      ]
    },
    {
      "cell_type": "code",
      "execution_count": null,
      "metadata": {
        "id": "NB2HaIvO9SQZ"
      },
      "outputs": [],
      "source": [
        "from sklearn.feature_extraction.text import CountVectorizer\n",
        "\n",
        "df[33:36].text"
      ]
    },
    {
      "cell_type": "code",
      "execution_count": null,
      "metadata": {
        "id": "UK2yVX-k9SQZ"
      },
      "outputs": [],
      "source": [
        "vectorizer = CountVectorizer(vocabulary=freq_df.index[66:77], binary=True, min_df=1, lowercase=False)\n",
        "# understand the options:\n",
        "# https://scikit-learn.org/stable/modules/generated/sklearn.feature_extraction.text.CountVectorizer.html\n",
        "X = vectorizer.fit_transform(df[33:36].text)\n",
        "print(vectorizer.get_feature_names_out())\n",
        "print(X.toarray())\n"
      ]
    },
    {
      "cell_type": "code",
      "execution_count": null,
      "metadata": {
        "id": "AolGyZEo9SQZ"
      },
      "outputs": [],
      "source": [
        "# make it pretty:\n",
        "d = {c:X.toarray()[i] for i,c in enumerate(df[33:36].index)}\n",
        "df_cv = pd.DataFrame.from_dict(d,  orient='index',columns=freq_df.index[66:77])\n",
        "df_cv"
      ]
    },
    {
      "cell_type": "markdown",
      "metadata": {
        "id": "E0Eol3Dz9SQZ"
      },
      "source": [
        "## trying the complete set of documents with the complete vocabulary"
      ]
    },
    {
      "cell_type": "code",
      "execution_count": null,
      "metadata": {
        "id": "oadjy3Iz9SQa"
      },
      "outputs": [],
      "source": [
        "vectorizer = CountVectorizer(vocabulary=freq_df.index, binary=True, min_df=1, lowercase=False)\n",
        "X = vectorizer.fit_transform(df['text'].dropna())\n",
        "print(len(vectorizer.get_feature_names_out()))\n",
        "print(vectorizer.get_feature_names_out()[:11])\n",
        "print(X.toarray())"
      ]
    },
    {
      "cell_type": "markdown",
      "metadata": {
        "id": "eyvw9asO9SQa"
      },
      "source": [
        "- wow! comparably fast!\n",
        "#### 🚧 todo:\n",
        "- can you get the vector of \"the\"? is there a speech that doesn't use it?\n"
      ]
    },
    {
      "cell_type": "code",
      "execution_count": null,
      "metadata": {
        "id": "cY_b7X3-9SQa"
      },
      "outputs": [],
      "source": []
    },
    {
      "cell_type": "code",
      "execution_count": null,
      "metadata": {
        "id": "XUJFo2VN9SQa"
      },
      "outputs": [],
      "source": []
    },
    {
      "cell_type": "markdown",
      "metadata": {
        "id": "8SddIuk29SQa"
      },
      "source": [
        "answer:"
      ]
    },
    {
      "cell_type": "code",
      "execution_count": null,
      "metadata": {
        "id": "oLLX6tRO9SQa"
      },
      "outputs": [],
      "source": []
    },
    {
      "cell_type": "markdown",
      "metadata": {
        "id": "GEDIOlrN9SQa"
      },
      "source": [
        "#### 🚧 todo: some visualizations of the vectorization\n",
        "\n",
        "- make 2D scatterplots of the vectorization using PCA and t-SNE.\n",
        "- use the years as hue\n",
        "- explain why this looks so different\n",
        "- hard: choose a cluster that looks mainly stemming from earlier texts, another stemming from recent texts, and find a few examples of terms that makes them different."
      ]
    },
    {
      "cell_type": "code",
      "execution_count": null,
      "metadata": {
        "id": "4tNaJZyD9SQa"
      },
      "outputs": [],
      "source": [
        "from sklearn.decomposition import PCA\n",
        "from sklearn.manifold import TSNE\n",
        "\n",
        "pca = PCA(n_components=2)\n",
        "..."
      ]
    },
    {
      "cell_type": "code",
      "execution_count": null,
      "metadata": {
        "id": "fH00gCuB9SQa"
      },
      "outputs": [],
      "source": [
        "tsne = TSNE(n_components=2, perplexity=30, random_state=42, n_iter=1000)\n",
        "..."
      ]
    },
    {
      "cell_type": "markdown",
      "metadata": {
        "id": "TvYf3A5f9SQa"
      },
      "source": [
        "# analyze two clusters of the PCA plot: top right and bottom left:"
      ]
    },
    {
      "cell_type": "code",
      "execution_count": null,
      "metadata": {
        "id": "IDJoDM669SQa"
      },
      "outputs": [],
      "source": [
        "# Define clusters based on PCA components\n",
        "cluster_1 = pca_df[pca_df[\"PC1\"] > 0.8].index\n",
        "cluster_2 = pca_df[(pca_df[\"PC1\"] < -0.2) & (pca_df[\"PC2\"] > 0.8)].index\n",
        "\n",
        "# Extract corresponding texts\n",
        "...\n",
        "diff_df = diff_df.sort_values(by=[ \"Cluster 2 (PC1 < -0.2, PC2 > 0.8)\", \"Cluster 1 (PC1 > 0.8)\"], ascending=False)\n",
        "# Show distinctive words\n",
        "diff_df.head(10)\n",
        "# of both clusters (since we have a binary vectorizer, we only get present and absent words)\n"
      ]
    },
    {
      "cell_type": "code",
      "execution_count": null,
      "metadata": {
        "id": "Exh_lE8z9SQb"
      },
      "outputs": [],
      "source": []
    },
    {
      "cell_type": "markdown",
      "metadata": {
        "id": "5YHoeiRr9SQb"
      },
      "source": [
        "# another big vocabulary:\n",
        "- we could grab a pageview file here https://dumps.wikimedia.org/other/pageviews/2022/2022-01/ and  produce a list of potential terms from it\n",
        "- it's easier to use wikidata, and we concentrate on people:\n",
        "\n",
        "here is code that grabs it and produces a file of person names. this API is unstable, so i propose to download directly the result on my website, see code below."
      ]
    },
    {
      "cell_type": "code",
      "execution_count": null,
      "metadata": {
        "id": "7kzqXpow9SQb"
      },
      "outputs": [],
      "source": [
        "# you can skip this cell if you are only interested in the result, see next cell\n",
        "\n",
        "def fetch_wikidata_humans(limit=10000, offset=0):\n",
        "    sparql = SPARQLWrapper(\"https://query.wikidata.org/sparql\")\n",
        "    query = f\"\"\"\n",
        "    SELECT ?human ?humanLabel WHERE {{\n",
        "      ?human wdt:P31 wd:Q5.  # Humans (Q5)\n",
        "      SERVICE wikibase:label {{ bd:serviceParam wikibase:language \"[AUTO_LANGUAGE],en\". }}\n",
        "    }}\n",
        "    LIMIT {limit}\n",
        "    OFFSET {offset}\n",
        "    \"\"\"\n",
        "    sparql.setQuery(query)\n",
        "    sparql.setReturnFormat(JSON)\n",
        "    results = sparql.query().convert()\n",
        "    return results\n",
        "\n",
        "# Fetch the first batch\n",
        "humans_data = []\n",
        "offset = 0\n",
        "batch_size = 5000  # Fetch this batch size at a time\n",
        "\n",
        "while True:\n",
        "    print(f\"Fetching humans from offset {offset}\")\n",
        "    results = fetch_wikidata_humans(limit=batch_size, offset=offset)\n",
        "    if \"results\" in results and \"bindings\" in results[\"results\"]:\n",
        "        batch = results[\"results\"][\"bindings\"]\n",
        "        if not batch:\n",
        "            break  # Stop if no more results\n",
        "\n",
        "        for result in batch:\n",
        "            humans_data.append({\n",
        "                \"Wikidata ID\": result[\"human\"][\"value\"].split(\"/\")[-1],\n",
        "                \"Name\": result[\"humanLabel\"][\"value\"]\n",
        "            })\n",
        "        offset += batch_size  # Move to the next batch\n",
        "    else:\n",
        "        break  # Stop if no valid response\n",
        "\n",
        "# Convert to DataFrame\n",
        "import pandas as pd\n",
        "df = pd.DataFrame(humans_data)\n",
        "\n",
        "# write the Name column to a file\n",
        "df['Name'].to_csv('wikidata_names.txt', index=False)"
      ]
    },
    {
      "cell_type": "code",
      "execution_count": null,
      "metadata": {
        "id": "1zZ9_Sww9SQb"
      },
      "outputs": [],
      "source": [
        "file_name = 'wikidata_names.txt'\n",
        "zip_file = file_name + '.zip'\n",
        "url = 'https://gerdes.fr/saclay/inforet/' + zip_file\n",
        "\n",
        "if os.path.exists(file_name):\n",
        "    print('File already present')\n",
        "else:\n",
        "    print('Downloading the file...')\n",
        "    os.system(f'curl -o {zip_file} {url}')\n",
        "    os.system(f'unzip {zip_file}')"
      ]
    },
    {
      "cell_type": "code",
      "execution_count": null,
      "metadata": {
        "id": "EOU_IVmU9SQb"
      },
      "outputs": [],
      "source": [
        "# read the file back into a simple list, one item per line\n",
        "with open('wikidata_names.txt') as f:\n",
        "\tnames = set(f.read().splitlines())\n",
        "names"
      ]
    },
    {
      "cell_type": "code",
      "execution_count": null,
      "metadata": {
        "id": "A4NYa4ty9SQb"
      },
      "outputs": [],
      "source": [
        "vectorizer = CountVectorizer(vocabulary=names, binary=True, min_df=1, lowercase=False, ngram_range=(1,4))\n",
        "X = vectorizer.fit_transform(df.text.dropna())\n",
        "print(len(vectorizer.get_feature_names_out()))\n",
        "print(vectorizer.get_feature_names_out()[:11])\n",
        "X"
      ]
    },
    {
      "cell_type": "markdown",
      "metadata": {
        "id": "-n_Fxbk39SQb"
      },
      "source": [
        "#### 🚧 todo:\n",
        "- find the most frequently cited names\n",
        "- analyze who cites\n",
        "- analyze the length of the cited names in tokens\n"
      ]
    },
    {
      "cell_type": "code",
      "execution_count": null,
      "metadata": {
        "id": "liiLBFv89SQb"
      },
      "outputs": [],
      "source": [
        "..."
      ]
    },
    {
      "cell_type": "code",
      "execution_count": null,
      "metadata": {
        "id": "m4SHfg779SQb"
      },
      "outputs": [],
      "source": [
        "..."
      ]
    },
    {
      "cell_type": "code",
      "execution_count": null,
      "metadata": {
        "id": "ih3cbAOC9SQc"
      },
      "outputs": [],
      "source": [
        "..."
      ]
    },
    {
      "cell_type": "markdown",
      "metadata": {
        "id": "Kavbc6zR9SQc"
      },
      "source": [
        "- check this: https://en.wikipedia.org/wiki/Kofi_Annan"
      ]
    },
    {
      "cell_type": "markdown",
      "metadata": {
        "id": "ZGM7yWnn9SQc"
      },
      "source": [
        "# Homework\n",
        "\n",
        "complete the # 🚧 todo:\n",
        "\n",
        "and\n",
        "## find the most frequently encountered person entity\n",
        "- in number of speeches\n",
        "- in number of occurrences\n",
        "\n",
        "\n"
      ]
    },
    {
      "cell_type": "code",
      "execution_count": null,
      "metadata": {
        "id": "awOkyIPI9SQc"
      },
      "outputs": [],
      "source": []
    },
    {
      "cell_type": "markdown",
      "metadata": {
        "id": "LxKgZFDL9SQc"
      },
      "source": [
        "### Before submitting, check:\n",
        "- I have not imported any other modules\n",
        "- I have put explanations between the lines of code (either inline or in separate cells)\n",
        "- My notebook runs all the way through when I hit\n",
        "  1. the ↻ button and then\n",
        "  2. the ⏩︎ button (remove or comment out cells that are too slow and not needed).\n",
        "  "
      ]
    }
  ],
  "metadata": {
    "kernelspec": {
      "display_name": "Python (envgen)",
      "language": "python",
      "name": "envgen"
    },
    "language_info": {
      "codemirror_mode": {
        "name": "ipython",
        "version": 3
      },
      "file_extension": ".py",
      "mimetype": "text/x-python",
      "name": "python",
      "nbconvert_exporter": "python",
      "pygments_lexer": "ipython3",
      "version": "3.9.6"
    },
    "colab": {
      "provenance": [],
      "include_colab_link": true
    }
  },
  "nbformat": 4,
  "nbformat_minor": 0
}