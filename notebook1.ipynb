{
  "cells": [
    {
      "cell_type": "markdown",
      "metadata": {
        "id": "view-in-github",
        "colab_type": "text"
      },
      "source": [
        "<a href=\"https://colab.research.google.com/github/Coperr/information-retrieval/blob/main/notebook1.ipynb\" target=\"_parent\"><img src=\"https://colab.research.google.com/assets/colab-badge.svg\" alt=\"Open In Colab\"/></a>"
      ]
    },
    {
      "cell_type": "markdown",
      "metadata": {
        "id": "fQvUHxHo9SQG"
      },
      "source": [
        "# inforet 1"
      ]
    },
    {
      "cell_type": "markdown",
      "metadata": {
        "id": "Xb2ztxMj9SQG"
      },
      "source": [
        "## getting the data"
      ]
    },
    {
      "cell_type": "markdown",
      "metadata": {
        "id": "gmiC9XeK9SQH"
      },
      "source": [
        "Today, we will work with the UN General Debate dataset. The corpus consists of 7,507 speeches held at the annual sessions of the United Nations General Assembly from 1970 to 2016. It was created in 2017 by Mikhaylov, Baturo, and Dasandi at Harvard “for understanding and measuring state preferences in world politics.” Each of the almost 200 countries in the United Nations has the opportunity to present its views on global topics such international conflicts, terrorism, or climate change at the annual General Debate.\n",
        "Work on this data is proposed in the book\n",
        "\n",
        "- https://github.com/blueprints-for-text-analytics-python/blueprints-text\n",
        "- from here, but it's easier to use the version on my server.\n",
        "  - https://github.com/blueprints-for-text-analytics-python/blueprints-text/blob/master/data/un-general-debates/un-general-debates-blueprint.csv.gz\n",
        "\n"
      ]
    },
    {
      "cell_type": "markdown",
      "metadata": {
        "id": "mhO3UGCY9SQH"
      },
      "source": [
        "## downloading some toy data"
      ]
    },
    {
      "cell_type": "code",
      "execution_count": 1,
      "metadata": {
        "id": "Luy5OsKH9SQH",
        "outputId": "58c8b238-bfe8-4a4c-e637-0a99031954a4",
        "colab": {
          "base_uri": "https://localhost:8080/"
        }
      },
      "outputs": [
        {
          "output_type": "stream",
          "name": "stdout",
          "text": [
            "Downloading the file...\n"
          ]
        }
      ],
      "source": [
        "# check if the file un-general-debates-blueprint.csv is present\n",
        "# if not, download it from the web and unzip it\n",
        "import os\n",
        "\n",
        "file_name = 'un-general-debates-blueprint.csv'\n",
        "gz_file = file_name + '.gz'\n",
        "url = 'https://gerdes.fr/saclay/inforet/' + gz_file\n",
        "\n",
        "if os.path.exists(file_name):\n",
        "    print('File already present')\n",
        "else:\n",
        "    print('Downloading the file...')\n",
        "    os.system(f'curl -o {gz_file} {url}')\n",
        "    os.system(f'gunzip {gz_file}')"
      ]
    },
    {
      "cell_type": "markdown",
      "metadata": {
        "id": "VHQXBIjM9SQI"
      },
      "source": [
        "\n",
        "if you have a problem with the above code,\n",
        "you can also simply get the zip, unzip and put it manuaylly next to your notbook:\n",
        "\n",
        "https://gerdes.fr/saclay/informationRetrieval/un-general-debates-blueprint.csv.gz\n",
        "\n",
        "or try using wget:\n",
        "```\n",
        "!wget https://gerdes.fr/saclay/informationRetrieval/un-general-debates-blueprint.csv.gz\n",
        "import gzip, shutil\n",
        "with open('un-general-debates-blueprint.csv.gz', 'rb') as f_in:\n",
        "    with gzip.open('un-general-debates-blueprint.csv', 'wb') as f_out:\n",
        "        shutil.copyfileobj(f_in, f_out)\n",
        "```\n",
        "      "
      ]
    },
    {
      "cell_type": "code",
      "execution_count": 2,
      "metadata": {
        "id": "cFCFiO5c9SQI",
        "outputId": "19b62721-2670-4b27-bec3-1f4e32c25494",
        "colab": {
          "base_uri": "https://localhost:8080/"
        }
      },
      "outputs": [
        {
          "output_type": "stream",
          "name": "stdout",
          "text": [
            "Collecting ipython-autotime\n",
            "  Downloading ipython_autotime-0.3.2-py2.py3-none-any.whl.metadata (1.4 kB)\n",
            "Requirement already satisfied: ipython in /usr/local/lib/python3.11/dist-packages (from ipython-autotime) (7.34.0)\n",
            "Requirement already satisfied: setuptools>=18.5 in /usr/local/lib/python3.11/dist-packages (from ipython->ipython-autotime) (75.1.0)\n",
            "Collecting jedi>=0.16 (from ipython->ipython-autotime)\n",
            "  Downloading jedi-0.19.2-py2.py3-none-any.whl.metadata (22 kB)\n",
            "Requirement already satisfied: decorator in /usr/local/lib/python3.11/dist-packages (from ipython->ipython-autotime) (4.4.2)\n",
            "Requirement already satisfied: pickleshare in /usr/local/lib/python3.11/dist-packages (from ipython->ipython-autotime) (0.7.5)\n",
            "Requirement already satisfied: traitlets>=4.2 in /usr/local/lib/python3.11/dist-packages (from ipython->ipython-autotime) (5.7.1)\n",
            "Requirement already satisfied: prompt-toolkit!=3.0.0,!=3.0.1,<3.1.0,>=2.0.0 in /usr/local/lib/python3.11/dist-packages (from ipython->ipython-autotime) (3.0.50)\n",
            "Requirement already satisfied: pygments in /usr/local/lib/python3.11/dist-packages (from ipython->ipython-autotime) (2.18.0)\n",
            "Requirement already satisfied: backcall in /usr/local/lib/python3.11/dist-packages (from ipython->ipython-autotime) (0.2.0)\n",
            "Requirement already satisfied: matplotlib-inline in /usr/local/lib/python3.11/dist-packages (from ipython->ipython-autotime) (0.1.7)\n",
            "Requirement already satisfied: pexpect>4.3 in /usr/local/lib/python3.11/dist-packages (from ipython->ipython-autotime) (4.9.0)\n",
            "Requirement already satisfied: parso<0.9.0,>=0.8.4 in /usr/local/lib/python3.11/dist-packages (from jedi>=0.16->ipython->ipython-autotime) (0.8.4)\n",
            "Requirement already satisfied: ptyprocess>=0.5 in /usr/local/lib/python3.11/dist-packages (from pexpect>4.3->ipython->ipython-autotime) (0.7.0)\n",
            "Requirement already satisfied: wcwidth in /usr/local/lib/python3.11/dist-packages (from prompt-toolkit!=3.0.0,!=3.0.1,<3.1.0,>=2.0.0->ipython->ipython-autotime) (0.2.13)\n",
            "Downloading ipython_autotime-0.3.2-py2.py3-none-any.whl (7.0 kB)\n",
            "Downloading jedi-0.19.2-py2.py3-none-any.whl (1.6 MB)\n",
            "\u001b[2K   \u001b[90m━━━━━━━━━━━━━━━━━━━━━━━━━━━━━━━━━━━━━━━━\u001b[0m \u001b[32m1.6/1.6 MB\u001b[0m \u001b[31m21.3 MB/s\u001b[0m eta \u001b[36m0:00:00\u001b[0m\n",
            "\u001b[?25hInstalling collected packages: jedi, ipython-autotime\n",
            "Successfully installed ipython-autotime-0.3.2 jedi-0.19.2\n",
            "time: 289 µs (started: 2025-03-10 21:29:58 +00:00)\n"
          ]
        }
      ],
      "source": [
        "# this turns on the autotimer, so that every cell has a timing information below\n",
        "try:\n",
        "    %load_ext autotime\n",
        "except:\n",
        "    !pip install ipython-autotime\n",
        "    %load_ext autotime\n",
        "# to stop using autotime, run the following command\n",
        "# %unload_ext autotime"
      ]
    },
    {
      "cell_type": "code",
      "execution_count": 3,
      "metadata": {
        "id": "q9B_S7T99SQI",
        "outputId": "a041ae89-4b86-4699-c54c-5d26c5333c54",
        "colab": {
          "base_uri": "https://localhost:8080/"
        }
      },
      "outputs": [
        {
          "output_type": "stream",
          "name": "stdout",
          "text": [
            "time: 308 µs (started: 2025-03-10 21:30:02 +00:00)\n"
          ]
        }
      ],
      "source": [
        "#!pip install wordcloud seaborn"
      ]
    },
    {
      "cell_type": "code",
      "execution_count": 4,
      "metadata": {
        "id": "xReOjIOA9SQI",
        "outputId": "c43f95d0-bec4-4058-9a9d-eff3c1d96297",
        "colab": {
          "base_uri": "https://localhost:8080/"
        }
      },
      "outputs": [
        {
          "output_type": "stream",
          "name": "stdout",
          "text": [
            "time: 2.89 s (started: 2025-03-10 21:30:03 +00:00)\n"
          ]
        }
      ],
      "source": [
        "import numpy as np\n",
        "import matplotlib.pyplot as plt\n",
        "import pandas as pd\n",
        "import seaborn as sns\n",
        "from collections import Counter\n",
        "from tqdm.notebook import tqdm\n",
        "from wordcloud import WordCloud\n",
        "import re"
      ]
    },
    {
      "cell_type": "code",
      "execution_count": 5,
      "metadata": {
        "id": "_XRcUVP39SQI",
        "outputId": "183a12f8-55ba-4bb6-aab8-38bc178fcc38",
        "colab": {
          "base_uri": "https://localhost:8080/",
          "height": 757
        }
      },
      "outputs": [
        {
          "output_type": "execute_result",
          "data": {
            "text/plain": [
              "      un-general-debates-blueprint.csv    year country  \\\n",
              "325                               28.0  1973.0     BOL   \n",
              "1340                              35.0  1980.0     MWI   \n",
              "5982                              63.0  2008.0     BHS   \n",
              "2221                              41.0  1986.0     NLD   \n",
              "7388                              70.0  2015.0     HTI   \n",
              "4198                              53.0  1998.0     LUX   \n",
              "1533                              36.0  1981.0     WSM   \n",
              "4786                              56.0  2001.0     SGP   \n",
              "2623                              44.0  1989.0     ESP   \n",
              "5429                              60.0  2005.0     COD   \n",
              "364                               28.0  1973.0     IRQ   \n",
              "3620                              50.0  1995.0     FJI   \n",
              "438                               29.0  1974.0     BEL   \n",
              "7160                              69.0  2014.0     CRI   \n",
              "1674                              37.0  1982.0     UGA   \n",
              "3386                              48.0  1993.0     VNM   \n",
              "3615                              50.0  1995.0     ERI   \n",
              "3334                              48.0  1993.0     NER   \n",
              "7172                              69.0  2014.0     ESP   \n",
              "4424                              54.0  1999.0     SEN   \n",
              "5003                              57.0  2002.0     UZB   \n",
              "3653                              50.0  1995.0     KHM   \n",
              "\n",
              "                               country_name                      speaker  \\\n",
              "325         Bolivia, Plurinational State of                    Gutierrez   \n",
              "1340                                 Malawi                      Muwamba   \n",
              "5982                                Bahamas           Alexander Ingraham   \n",
              "2221                            Netherlands            Mr. VAN DEN BROEK   \n",
              "7388                                  Haiti   Mr. Michel Joseph Martelly   \n",
              "4198                             Luxembourg                 Jacques Poos   \n",
              "1533                                  Samoa                     Mr. TOMA   \n",
              "4786                              Singapore            Kishore Mahbubani   \n",
              "2623                                  Spain            Fernandez Ordonez   \n",
              "5429  Congo, The Democratic Republic of the        Raymond Ramazani Baya   \n",
              "364                                    Iraq                   Abdul-Baqi   \n",
              "3620                                   Fiji                     Mr. Bole   \n",
              "438                                 Belgium              Mr. Van Eslande   \n",
              "7160                             Costa Rica  Luis Guillermo Solís Rivera   \n",
              "1674                                 Uganda                  PICHO OWINY   \n",
              "3386                               Viet Nam            Mr. PHAN VAN Khai   \n",
              "3615                                Eritrea                  Mr. Solomon   \n",
              "3334                                  Niger         MR. MAHAMANE OUSMANE   \n",
              "7172                                  Spain                Don Felipe VI   \n",
              "4424                                Senegal               Jacques Baudin   \n",
              "5003                             Uzbekistan            Abdulaziz Kamilov   \n",
              "3653                               Cambodia                 Mr. Ung Huot   \n",
              "\n",
              "                          position  \\\n",
              "325                            NaN   \n",
              "1340                           NaN   \n",
              "5982                Prime Minister   \n",
              "2221                           NaN   \n",
              "7388                     President   \n",
              "4198         Deputy Prime Minister   \n",
              "1533                           NaN   \n",
              "4786             UN Representative   \n",
              "2623                           NaN   \n",
              "5429   Minister for Foregn Affairs   \n",
              "364                            NaN   \n",
              "3620  Minister for Foreign Affairs   \n",
              "438                            NaN   \n",
              "7160                     President   \n",
              "1674                           NaN   \n",
              "3386                           NaN   \n",
              "3615  Minister for Foreign Affairs   \n",
              "3334                     President   \n",
              "7172                 Head of State   \n",
              "4424  Minister for Foreign Affairs   \n",
              "5003  Minister for Foreign Affairs   \n",
              "3653  Minister for Foreign Affairs   \n",
              "\n",
              "                                                   text  \n",
              "325   ﻿276.\\t We, the representatives of the interna...  \n",
              "1340  ﻿On behalf of the Malawi delegation, I should ...  \n",
              "5982  On behalf of the \\nGovernment and people of th...  \n",
              "2221  May I begin, first of all, by congratulating t...  \n",
              "7388  Mr. President, I would like to express my warm...  \n",
              "4198  As previous speakers have done, I would like t...  \n",
              "1533  Mr. President, my delegation is pleased indeed...  \n",
              "4786  ﻿It does seem\\nstrange to congratulate Ministe...  \n",
              "2623  ﻿I should like to express my sincere congratul...  \n",
              "5429  It is a pleasure to join\\npreceding speakers i...  \n",
              "364   ﻿51.\\tI should like at the outset of this stat...  \n",
              "3620  Allow me first of all to express\\nvery warm gr...  \n",
              "438   Allow me to congratulate Mr. Bouteflika on the...  \n",
              "7160  I \\ncongratulate His Excellency Mr. Sam Kutesa...  \n",
              "1674  The people of Uganda have placed their hopes f...  \n",
              "3386  On\\nbehalf of the delegation of the Socialist ...  \n",
              "3615  Allow me first to\\ncongratulate Mr. Freitas do...  \n",
              "3334  On behalf of the Niger and its people, I wish ...  \n",
              "7172  It is a great honour \\nand privilege to addres...  \n",
              "4424  In electing\\nyou unanimously to preside over i...  \n",
              "5003  ﻿At\\nthe outset, allow me to congratulate Mr. ...  \n",
              "3653  First of all, I wish to\\nextend to Mr. Freitas...  "
            ],
            "text/html": [
              "\n",
              "  <div id=\"df-98d9c8b4-8c57-458c-9394-74578cb727e4\" class=\"colab-df-container\">\n",
              "    <div>\n",
              "<style scoped>\n",
              "    .dataframe tbody tr th:only-of-type {\n",
              "        vertical-align: middle;\n",
              "    }\n",
              "\n",
              "    .dataframe tbody tr th {\n",
              "        vertical-align: top;\n",
              "    }\n",
              "\n",
              "    .dataframe thead th {\n",
              "        text-align: right;\n",
              "    }\n",
              "</style>\n",
              "<table border=\"1\" class=\"dataframe\">\n",
              "  <thead>\n",
              "    <tr style=\"text-align: right;\">\n",
              "      <th></th>\n",
              "      <th>un-general-debates-blueprint.csv</th>\n",
              "      <th>year</th>\n",
              "      <th>country</th>\n",
              "      <th>country_name</th>\n",
              "      <th>speaker</th>\n",
              "      <th>position</th>\n",
              "      <th>text</th>\n",
              "    </tr>\n",
              "  </thead>\n",
              "  <tbody>\n",
              "    <tr>\n",
              "      <th>325</th>\n",
              "      <td>28.0</td>\n",
              "      <td>1973.0</td>\n",
              "      <td>BOL</td>\n",
              "      <td>Bolivia, Plurinational State of</td>\n",
              "      <td>Gutierrez</td>\n",
              "      <td>NaN</td>\n",
              "      <td>﻿276.\\t We, the representatives of the interna...</td>\n",
              "    </tr>\n",
              "    <tr>\n",
              "      <th>1340</th>\n",
              "      <td>35.0</td>\n",
              "      <td>1980.0</td>\n",
              "      <td>MWI</td>\n",
              "      <td>Malawi</td>\n",
              "      <td>Muwamba</td>\n",
              "      <td>NaN</td>\n",
              "      <td>﻿On behalf of the Malawi delegation, I should ...</td>\n",
              "    </tr>\n",
              "    <tr>\n",
              "      <th>5982</th>\n",
              "      <td>63.0</td>\n",
              "      <td>2008.0</td>\n",
              "      <td>BHS</td>\n",
              "      <td>Bahamas</td>\n",
              "      <td>Alexander Ingraham</td>\n",
              "      <td>Prime Minister</td>\n",
              "      <td>On behalf of the \\nGovernment and people of th...</td>\n",
              "    </tr>\n",
              "    <tr>\n",
              "      <th>2221</th>\n",
              "      <td>41.0</td>\n",
              "      <td>1986.0</td>\n",
              "      <td>NLD</td>\n",
              "      <td>Netherlands</td>\n",
              "      <td>Mr. VAN DEN BROEK</td>\n",
              "      <td>NaN</td>\n",
              "      <td>May I begin, first of all, by congratulating t...</td>\n",
              "    </tr>\n",
              "    <tr>\n",
              "      <th>7388</th>\n",
              "      <td>70.0</td>\n",
              "      <td>2015.0</td>\n",
              "      <td>HTI</td>\n",
              "      <td>Haiti</td>\n",
              "      <td>Mr. Michel Joseph Martelly</td>\n",
              "      <td>President</td>\n",
              "      <td>Mr. President, I would like to express my warm...</td>\n",
              "    </tr>\n",
              "    <tr>\n",
              "      <th>4198</th>\n",
              "      <td>53.0</td>\n",
              "      <td>1998.0</td>\n",
              "      <td>LUX</td>\n",
              "      <td>Luxembourg</td>\n",
              "      <td>Jacques Poos</td>\n",
              "      <td>Deputy Prime Minister</td>\n",
              "      <td>As previous speakers have done, I would like t...</td>\n",
              "    </tr>\n",
              "    <tr>\n",
              "      <th>1533</th>\n",
              "      <td>36.0</td>\n",
              "      <td>1981.0</td>\n",
              "      <td>WSM</td>\n",
              "      <td>Samoa</td>\n",
              "      <td>Mr. TOMA</td>\n",
              "      <td>NaN</td>\n",
              "      <td>Mr. President, my delegation is pleased indeed...</td>\n",
              "    </tr>\n",
              "    <tr>\n",
              "      <th>4786</th>\n",
              "      <td>56.0</td>\n",
              "      <td>2001.0</td>\n",
              "      <td>SGP</td>\n",
              "      <td>Singapore</td>\n",
              "      <td>Kishore Mahbubani</td>\n",
              "      <td>UN Representative</td>\n",
              "      <td>﻿It does seem\\nstrange to congratulate Ministe...</td>\n",
              "    </tr>\n",
              "    <tr>\n",
              "      <th>2623</th>\n",
              "      <td>44.0</td>\n",
              "      <td>1989.0</td>\n",
              "      <td>ESP</td>\n",
              "      <td>Spain</td>\n",
              "      <td>Fernandez Ordonez</td>\n",
              "      <td>NaN</td>\n",
              "      <td>﻿I should like to express my sincere congratul...</td>\n",
              "    </tr>\n",
              "    <tr>\n",
              "      <th>5429</th>\n",
              "      <td>60.0</td>\n",
              "      <td>2005.0</td>\n",
              "      <td>COD</td>\n",
              "      <td>Congo, The Democratic Republic of the</td>\n",
              "      <td>Raymond Ramazani Baya</td>\n",
              "      <td>Minister for Foregn Affairs</td>\n",
              "      <td>It is a pleasure to join\\npreceding speakers i...</td>\n",
              "    </tr>\n",
              "    <tr>\n",
              "      <th>364</th>\n",
              "      <td>28.0</td>\n",
              "      <td>1973.0</td>\n",
              "      <td>IRQ</td>\n",
              "      <td>Iraq</td>\n",
              "      <td>Abdul-Baqi</td>\n",
              "      <td>NaN</td>\n",
              "      <td>﻿51.\\tI should like at the outset of this stat...</td>\n",
              "    </tr>\n",
              "    <tr>\n",
              "      <th>3620</th>\n",
              "      <td>50.0</td>\n",
              "      <td>1995.0</td>\n",
              "      <td>FJI</td>\n",
              "      <td>Fiji</td>\n",
              "      <td>Mr. Bole</td>\n",
              "      <td>Minister for Foreign Affairs</td>\n",
              "      <td>Allow me first of all to express\\nvery warm gr...</td>\n",
              "    </tr>\n",
              "    <tr>\n",
              "      <th>438</th>\n",
              "      <td>29.0</td>\n",
              "      <td>1974.0</td>\n",
              "      <td>BEL</td>\n",
              "      <td>Belgium</td>\n",
              "      <td>Mr. Van Eslande</td>\n",
              "      <td>NaN</td>\n",
              "      <td>Allow me to congratulate Mr. Bouteflika on the...</td>\n",
              "    </tr>\n",
              "    <tr>\n",
              "      <th>7160</th>\n",
              "      <td>69.0</td>\n",
              "      <td>2014.0</td>\n",
              "      <td>CRI</td>\n",
              "      <td>Costa Rica</td>\n",
              "      <td>Luis Guillermo Solís Rivera</td>\n",
              "      <td>President</td>\n",
              "      <td>I \\ncongratulate His Excellency Mr. Sam Kutesa...</td>\n",
              "    </tr>\n",
              "    <tr>\n",
              "      <th>1674</th>\n",
              "      <td>37.0</td>\n",
              "      <td>1982.0</td>\n",
              "      <td>UGA</td>\n",
              "      <td>Uganda</td>\n",
              "      <td>PICHO OWINY</td>\n",
              "      <td>NaN</td>\n",
              "      <td>The people of Uganda have placed their hopes f...</td>\n",
              "    </tr>\n",
              "    <tr>\n",
              "      <th>3386</th>\n",
              "      <td>48.0</td>\n",
              "      <td>1993.0</td>\n",
              "      <td>VNM</td>\n",
              "      <td>Viet Nam</td>\n",
              "      <td>Mr. PHAN VAN Khai</td>\n",
              "      <td>NaN</td>\n",
              "      <td>On\\nbehalf of the delegation of the Socialist ...</td>\n",
              "    </tr>\n",
              "    <tr>\n",
              "      <th>3615</th>\n",
              "      <td>50.0</td>\n",
              "      <td>1995.0</td>\n",
              "      <td>ERI</td>\n",
              "      <td>Eritrea</td>\n",
              "      <td>Mr. Solomon</td>\n",
              "      <td>Minister for Foreign Affairs</td>\n",
              "      <td>Allow me first to\\ncongratulate Mr. Freitas do...</td>\n",
              "    </tr>\n",
              "    <tr>\n",
              "      <th>3334</th>\n",
              "      <td>48.0</td>\n",
              "      <td>1993.0</td>\n",
              "      <td>NER</td>\n",
              "      <td>Niger</td>\n",
              "      <td>MR. MAHAMANE OUSMANE</td>\n",
              "      <td>President</td>\n",
              "      <td>On behalf of the Niger and its people, I wish ...</td>\n",
              "    </tr>\n",
              "    <tr>\n",
              "      <th>7172</th>\n",
              "      <td>69.0</td>\n",
              "      <td>2014.0</td>\n",
              "      <td>ESP</td>\n",
              "      <td>Spain</td>\n",
              "      <td>Don Felipe VI</td>\n",
              "      <td>Head of State</td>\n",
              "      <td>It is a great honour \\nand privilege to addres...</td>\n",
              "    </tr>\n",
              "    <tr>\n",
              "      <th>4424</th>\n",
              "      <td>54.0</td>\n",
              "      <td>1999.0</td>\n",
              "      <td>SEN</td>\n",
              "      <td>Senegal</td>\n",
              "      <td>Jacques Baudin</td>\n",
              "      <td>Minister for Foreign Affairs</td>\n",
              "      <td>In electing\\nyou unanimously to preside over i...</td>\n",
              "    </tr>\n",
              "    <tr>\n",
              "      <th>5003</th>\n",
              "      <td>57.0</td>\n",
              "      <td>2002.0</td>\n",
              "      <td>UZB</td>\n",
              "      <td>Uzbekistan</td>\n",
              "      <td>Abdulaziz Kamilov</td>\n",
              "      <td>Minister for Foreign Affairs</td>\n",
              "      <td>﻿At\\nthe outset, allow me to congratulate Mr. ...</td>\n",
              "    </tr>\n",
              "    <tr>\n",
              "      <th>3653</th>\n",
              "      <td>50.0</td>\n",
              "      <td>1995.0</td>\n",
              "      <td>KHM</td>\n",
              "      <td>Cambodia</td>\n",
              "      <td>Mr. Ung Huot</td>\n",
              "      <td>Minister for Foreign Affairs</td>\n",
              "      <td>First of all, I wish to\\nextend to Mr. Freitas...</td>\n",
              "    </tr>\n",
              "  </tbody>\n",
              "</table>\n",
              "</div>\n",
              "    <div class=\"colab-df-buttons\">\n",
              "\n",
              "  <div class=\"colab-df-container\">\n",
              "    <button class=\"colab-df-convert\" onclick=\"convertToInteractive('df-98d9c8b4-8c57-458c-9394-74578cb727e4')\"\n",
              "            title=\"Convert this dataframe to an interactive table.\"\n",
              "            style=\"display:none;\">\n",
              "\n",
              "  <svg xmlns=\"http://www.w3.org/2000/svg\" height=\"24px\" viewBox=\"0 -960 960 960\">\n",
              "    <path d=\"M120-120v-720h720v720H120Zm60-500h600v-160H180v160Zm220 220h160v-160H400v160Zm0 220h160v-160H400v160ZM180-400h160v-160H180v160Zm440 0h160v-160H620v160ZM180-180h160v-160H180v160Zm440 0h160v-160H620v160Z\"/>\n",
              "  </svg>\n",
              "    </button>\n",
              "\n",
              "  <style>\n",
              "    .colab-df-container {\n",
              "      display:flex;\n",
              "      gap: 12px;\n",
              "    }\n",
              "\n",
              "    .colab-df-convert {\n",
              "      background-color: #E8F0FE;\n",
              "      border: none;\n",
              "      border-radius: 50%;\n",
              "      cursor: pointer;\n",
              "      display: none;\n",
              "      fill: #1967D2;\n",
              "      height: 32px;\n",
              "      padding: 0 0 0 0;\n",
              "      width: 32px;\n",
              "    }\n",
              "\n",
              "    .colab-df-convert:hover {\n",
              "      background-color: #E2EBFA;\n",
              "      box-shadow: 0px 1px 2px rgba(60, 64, 67, 0.3), 0px 1px 3px 1px rgba(60, 64, 67, 0.15);\n",
              "      fill: #174EA6;\n",
              "    }\n",
              "\n",
              "    .colab-df-buttons div {\n",
              "      margin-bottom: 4px;\n",
              "    }\n",
              "\n",
              "    [theme=dark] .colab-df-convert {\n",
              "      background-color: #3B4455;\n",
              "      fill: #D2E3FC;\n",
              "    }\n",
              "\n",
              "    [theme=dark] .colab-df-convert:hover {\n",
              "      background-color: #434B5C;\n",
              "      box-shadow: 0px 1px 3px 1px rgba(0, 0, 0, 0.15);\n",
              "      filter: drop-shadow(0px 1px 2px rgba(0, 0, 0, 0.3));\n",
              "      fill: #FFFFFF;\n",
              "    }\n",
              "  </style>\n",
              "\n",
              "    <script>\n",
              "      const buttonEl =\n",
              "        document.querySelector('#df-98d9c8b4-8c57-458c-9394-74578cb727e4 button.colab-df-convert');\n",
              "      buttonEl.style.display =\n",
              "        google.colab.kernel.accessAllowed ? 'block' : 'none';\n",
              "\n",
              "      async function convertToInteractive(key) {\n",
              "        const element = document.querySelector('#df-98d9c8b4-8c57-458c-9394-74578cb727e4');\n",
              "        const dataTable =\n",
              "          await google.colab.kernel.invokeFunction('convertToInteractive',\n",
              "                                                    [key], {});\n",
              "        if (!dataTable) return;\n",
              "\n",
              "        const docLinkHtml = 'Like what you see? Visit the ' +\n",
              "          '<a target=\"_blank\" href=https://colab.research.google.com/notebooks/data_table.ipynb>data table notebook</a>'\n",
              "          + ' to learn more about interactive tables.';\n",
              "        element.innerHTML = '';\n",
              "        dataTable['output_type'] = 'display_data';\n",
              "        await google.colab.output.renderOutput(dataTable, element);\n",
              "        const docLink = document.createElement('div');\n",
              "        docLink.innerHTML = docLinkHtml;\n",
              "        element.appendChild(docLink);\n",
              "      }\n",
              "    </script>\n",
              "  </div>\n",
              "\n",
              "\n",
              "<div id=\"df-6ebfaa4f-75ca-4ed5-8285-bd43ca040108\">\n",
              "  <button class=\"colab-df-quickchart\" onclick=\"quickchart('df-6ebfaa4f-75ca-4ed5-8285-bd43ca040108')\"\n",
              "            title=\"Suggest charts\"\n",
              "            style=\"display:none;\">\n",
              "\n",
              "<svg xmlns=\"http://www.w3.org/2000/svg\" height=\"24px\"viewBox=\"0 0 24 24\"\n",
              "     width=\"24px\">\n",
              "    <g>\n",
              "        <path d=\"M19 3H5c-1.1 0-2 .9-2 2v14c0 1.1.9 2 2 2h14c1.1 0 2-.9 2-2V5c0-1.1-.9-2-2-2zM9 17H7v-7h2v7zm4 0h-2V7h2v10zm4 0h-2v-4h2v4z\"/>\n",
              "    </g>\n",
              "</svg>\n",
              "  </button>\n",
              "\n",
              "<style>\n",
              "  .colab-df-quickchart {\n",
              "      --bg-color: #E8F0FE;\n",
              "      --fill-color: #1967D2;\n",
              "      --hover-bg-color: #E2EBFA;\n",
              "      --hover-fill-color: #174EA6;\n",
              "      --disabled-fill-color: #AAA;\n",
              "      --disabled-bg-color: #DDD;\n",
              "  }\n",
              "\n",
              "  [theme=dark] .colab-df-quickchart {\n",
              "      --bg-color: #3B4455;\n",
              "      --fill-color: #D2E3FC;\n",
              "      --hover-bg-color: #434B5C;\n",
              "      --hover-fill-color: #FFFFFF;\n",
              "      --disabled-bg-color: #3B4455;\n",
              "      --disabled-fill-color: #666;\n",
              "  }\n",
              "\n",
              "  .colab-df-quickchart {\n",
              "    background-color: var(--bg-color);\n",
              "    border: none;\n",
              "    border-radius: 50%;\n",
              "    cursor: pointer;\n",
              "    display: none;\n",
              "    fill: var(--fill-color);\n",
              "    height: 32px;\n",
              "    padding: 0;\n",
              "    width: 32px;\n",
              "  }\n",
              "\n",
              "  .colab-df-quickchart:hover {\n",
              "    background-color: var(--hover-bg-color);\n",
              "    box-shadow: 0 1px 2px rgba(60, 64, 67, 0.3), 0 1px 3px 1px rgba(60, 64, 67, 0.15);\n",
              "    fill: var(--button-hover-fill-color);\n",
              "  }\n",
              "\n",
              "  .colab-df-quickchart-complete:disabled,\n",
              "  .colab-df-quickchart-complete:disabled:hover {\n",
              "    background-color: var(--disabled-bg-color);\n",
              "    fill: var(--disabled-fill-color);\n",
              "    box-shadow: none;\n",
              "  }\n",
              "\n",
              "  .colab-df-spinner {\n",
              "    border: 2px solid var(--fill-color);\n",
              "    border-color: transparent;\n",
              "    border-bottom-color: var(--fill-color);\n",
              "    animation:\n",
              "      spin 1s steps(1) infinite;\n",
              "  }\n",
              "\n",
              "  @keyframes spin {\n",
              "    0% {\n",
              "      border-color: transparent;\n",
              "      border-bottom-color: var(--fill-color);\n",
              "      border-left-color: var(--fill-color);\n",
              "    }\n",
              "    20% {\n",
              "      border-color: transparent;\n",
              "      border-left-color: var(--fill-color);\n",
              "      border-top-color: var(--fill-color);\n",
              "    }\n",
              "    30% {\n",
              "      border-color: transparent;\n",
              "      border-left-color: var(--fill-color);\n",
              "      border-top-color: var(--fill-color);\n",
              "      border-right-color: var(--fill-color);\n",
              "    }\n",
              "    40% {\n",
              "      border-color: transparent;\n",
              "      border-right-color: var(--fill-color);\n",
              "      border-top-color: var(--fill-color);\n",
              "    }\n",
              "    60% {\n",
              "      border-color: transparent;\n",
              "      border-right-color: var(--fill-color);\n",
              "    }\n",
              "    80% {\n",
              "      border-color: transparent;\n",
              "      border-right-color: var(--fill-color);\n",
              "      border-bottom-color: var(--fill-color);\n",
              "    }\n",
              "    90% {\n",
              "      border-color: transparent;\n",
              "      border-bottom-color: var(--fill-color);\n",
              "    }\n",
              "  }\n",
              "</style>\n",
              "\n",
              "  <script>\n",
              "    async function quickchart(key) {\n",
              "      const quickchartButtonEl =\n",
              "        document.querySelector('#' + key + ' button');\n",
              "      quickchartButtonEl.disabled = true;  // To prevent multiple clicks.\n",
              "      quickchartButtonEl.classList.add('colab-df-spinner');\n",
              "      try {\n",
              "        const charts = await google.colab.kernel.invokeFunction(\n",
              "            'suggestCharts', [key], {});\n",
              "      } catch (error) {\n",
              "        console.error('Error during call to suggestCharts:', error);\n",
              "      }\n",
              "      quickchartButtonEl.classList.remove('colab-df-spinner');\n",
              "      quickchartButtonEl.classList.add('colab-df-quickchart-complete');\n",
              "    }\n",
              "    (() => {\n",
              "      let quickchartButtonEl =\n",
              "        document.querySelector('#df-6ebfaa4f-75ca-4ed5-8285-bd43ca040108 button');\n",
              "      quickchartButtonEl.style.display =\n",
              "        google.colab.kernel.accessAllowed ? 'block' : 'none';\n",
              "    })();\n",
              "  </script>\n",
              "</div>\n",
              "\n",
              "    </div>\n",
              "  </div>\n"
            ],
            "application/vnd.google.colaboratory.intrinsic+json": {
              "type": "dataframe",
              "summary": "{\n  \"name\": \"df\",\n  \"rows\": 22,\n  \"fields\": [\n    {\n      \"column\": \"un-general-debates-blueprint.csv\",\n      \"properties\": {\n        \"dtype\": \"number\",\n        \"std\": 13.086872573928185,\n        \"min\": 28.0,\n        \"max\": 70.0,\n        \"num_unique_values\": 17,\n        \"samples\": [\n          28.0,\n          35.0,\n          53.0\n        ],\n        \"semantic_type\": \"\",\n        \"description\": \"\"\n      }\n    },\n    {\n      \"column\": \"year\",\n      \"properties\": {\n        \"dtype\": \"number\",\n        \"std\": 13.08687257392819,\n        \"min\": 1973.0,\n        \"max\": 2015.0,\n        \"num_unique_values\": 17,\n        \"samples\": [\n          1973.0,\n          1980.0,\n          1998.0\n        ],\n        \"semantic_type\": \"\",\n        \"description\": \"\"\n      }\n    },\n    {\n      \"column\": \"country\",\n      \"properties\": {\n        \"dtype\": \"string\",\n        \"num_unique_values\": 21,\n        \"samples\": [\n          \"BOL\",\n          \"NER\",\n          \"VNM\"\n        ],\n        \"semantic_type\": \"\",\n        \"description\": \"\"\n      }\n    },\n    {\n      \"column\": \"country_name\",\n      \"properties\": {\n        \"dtype\": \"string\",\n        \"num_unique_values\": 21,\n        \"samples\": [\n          \"Bolivia, Plurinational State of\",\n          \"Niger\",\n          \"Viet Nam\"\n        ],\n        \"semantic_type\": \"\",\n        \"description\": \"\"\n      }\n    },\n    {\n      \"column\": \"speaker\",\n      \"properties\": {\n        \"dtype\": \"string\",\n        \"num_unique_values\": 22,\n        \"samples\": [\n          \"Gutierrez\",\n          \"Luis Guillermo Sol\\u00eds Rivera\",\n          \"Fernandez Ordonez\"\n        ],\n        \"semantic_type\": \"\",\n        \"description\": \"\"\n      }\n    },\n    {\n      \"column\": \"position\",\n      \"properties\": {\n        \"dtype\": \"category\",\n        \"num_unique_values\": 7,\n        \"samples\": [\n          \"Prime Minister\",\n          \"President\",\n          \"Minister for Foreign Affairs\"\n        ],\n        \"semantic_type\": \"\",\n        \"description\": \"\"\n      }\n    },\n    {\n      \"column\": \"text\",\n      \"properties\": {\n        \"dtype\": \"string\",\n        \"num_unique_values\": 22,\n        \"samples\": [\n          \"\\ufeff276.\\t We, the representatives of the international community of nations, meet again in this hall under the terms of the Charter. We have come from every country in the world in the name of all races, all peoples, who speak the most diverse languages and profess the most different faiths, but we do so prompted by a common desire for understanding for the sake of peace and justice on earth. Thus, the United Nations possesses the necessary condition of universality and is an expression of the natural and healthy principle of unity in diversity.\\n277.\\tI wish before this distinguished gathering to convey a message of friendship from the people and Government of Bolivia to all the nations represented\\nhere: our solidarity with their efforts and sacrifices to forge the destiny of man; our satisfaction at their achievements in the economic, political and social fields; and our sincere desire for a greater rapprochement so that we may get to know each other better and help each other more in effectively supporting so many shared ideals.\\n278.\\tAs a Latin American, and in particular as a citizen of the favourite child of Bolivar, which with Ecuador maintains a lengthy and beautiful tradition of sharing the same glorious and historic sufferings, I am particularly gratified to see raised to the presidency of the current session of the General Assembly an enlightened Ecuadorian statesman and diplomat, Mr. Leopoldo Benites. His wise election is a continuation of the presence of Latin America in the United Nations which began with the Foreign Minister of Brazil, Mr. Oswaldo Aranha, followed wisely by Mr. Luis Padilla Nervo of Mexico, Mr. Jose Maza of Chile, Mr. Victor Andres Belaunde of Peru, Mr. Carlos Sosa Rodriguez of Venezuela and Mr. Emilio Arenales Catalan of Guatemala. We are convinced that the difficult task that the world has entrusted to you, Mr. President, = will be crowned by success.\\n279.\\tMay I also express my cordial congratulations to Mr. Stanislaw Trepczynski for his wise and able conduct of the past session. In truth, his election was a wise decision, for in the course of our deliberations he guided us with great skill and talent.\\n\\n280.\\tI am also particularly gratified to express my sincere appreciation of the valuable and fruitful work of our Secretary-General, Mr. Kurt Waldheim, whose strong personality enhances the prestige of our Organization and confers the seal of seriousness and responsibility on his very difficult and special tasks.\\n281.\\tMy delegation is sincerely pleased at the admission to our Organization of the Federal Republic of Germany and the German Democratic Republic. In the case of the latter, my Government has recently established diplomatic and trade relations.\\n282.\\tThe presence of both Germanys, a single nation divided into two States, is a living and consistent expression of a pragmatic policy with a great capacity to adapt to contemporary realities and an important contribution to the ideals of peace nurtured by mankind.\\n283.\\tI am convinced that both Germanys, representing a people who have known as much as any other the hardships of war, will make a valuable contribution to our work, a contribution that brings with it an age-old flow of wisdom, discipline and creative sense.\\n284.\\tSimilarly, I extend the most fraternal welcome to the State of the Bahamas which not long ago proclaimed its independence and is a new member of the Caribbean group of nations within the American system. This young nation so full of vitality and hope will, I am convinced, inject new\\nstrength into the visionary action of Latin America in our Organization.\\n285.\\tMy country is living the drama inherent in all countries suffering from limitations in the exploitation of their natural resources. Rather than a problem of dependence, it is a matter of means and of the use of adequate technology. That is why we seek in international co-operation the way to fill these gaps.\\n286.\\tLike other nations both in our own geographic area and in other parts of the world, we struggle against the chronic evils of fiscal deficit and monetary instability. The constant deterioration of the terms of trade has a direct bearing on this economic phenomenon.\\n287.\\tThe situation to which we have referred leads to a progressive increase in the cost of living and its inevitable counterpart, popular discontent and systematized subversion. But it is worth while stressing that, as we have said, this is not due to bad or ineffective administration.\\n288.\\tOurs is the fate of the poverty and backwardness that characterizes so many countries side by side with strong, powerful and wealthy nations. The solution, then, is not so much in ourselves as in the highly industrialized rich countries, which are called upon to show with deeds the solidarity they claim and the global approach they advocate.\\n289.\\tInternational social justice is not to be based on the indifference of prosperous States in the face of the afflicting situation of needy nations, nor can it stem from an international division of labour which condemns the latter to produce in favour of the former. In human societies it is no longer admitted that man should work for the exclusive benefit of a fortunate few.\\n290.\\tJust as we seek to consolidate world peace, we must guarantee social peace among our peoples. The former must be built on mutual respect, the balance of power and the observance of the institutions and the principles that govern them; the latter can be based only on a communal society in which the concept of the dignity of the human person prevails and which is spared the misery, the poverty and the acute social ills of our time.\\n291.\\tSo long as we do not achieve a structuring of the world society in which resources and the resulting benefits of their application are for the benefit of all, we shall need international financial assistance and a rationalized transfer of technology. This is what my country needs to achieve a relative well-being for its people and to create with the other countries on the continent and in the world a better future. Whatever happens in the private context of nations also happens in the international sphere.\\n292.\\tIf financial assistance to carry out development works is curtailed or' denied, Governments may feel tempted to resort to illegal sources of foreign currency in\\nthe black market \\u2014 sources that hurt the image of the dignity of States because of the particular profit they produce and the humiliation they impose on those who engage in such practices.\\n293.\\tAfter the Revolution of August 1971 it is true that Bolivia received substantial support from the Government of the United States of America to overcome the crisis and establish a process of growing democratization, which culminated in the convening of elections for next year. We must sensibly finance our five-year development plan, which is to give our country a great new start in life.\\n294.\\tSo much is said of the popular explosion on earth and of the shortage of food-stuffs that one wonders why the necessary assistance is not provided so that these may be produced in abundant quantities in countries like Bolivia. Irrigation schemes such as that of Abapo-Izozog have been conceived to irrigate initially 300,000 hectares, with prospects of arriving at the ambitious figure of 2 million. The El Bala dam, on the Beni river basin, in the gorges of the eastern Andean mountains in the Department of La Paz, was declared at the last Conference of Foreign Ministers in Lima as being of interest for all the countries in the Andean basin. Other minor projects, like the Oquitas project, also await the magic wand of international contributions and financing from regional and world credit institutions.\\n295.\\tOne problem that disturbs the Bolivian people because it affects its sovereignty and hampers its free progress is that of its status as a land-locked country. As regards this important question, we are not making complaints. We place ourselves in the current of modern trends which seek, in the last analysis, to establish a world community of nations. To embark upon this road, which may appear Utopian to some, is in fact to solve many of the peremptory needs which exist in the world, such as that of Bolivia.\\n296.\\tWe have always maintained that Chile and my country complement each other. The nation of O'Higgins appears to me to be more imprisoned between the sea and the Andes than my own country, which has direct contact through five open frontiers with five Republics. An outlet to the Pacific would firmly establish friendship between Chile and Bolivia and dispel so much mistrust which darkens the future of the southern tip of America.\\n297.\\tInspired by the most laudable American sentiments, we have proposed a dialogue so that through direct talks we may devise a solution which is in keeping with our great problem and which will enable Chile, by way of reciprocity, to obtain benefits in keeping with its interests and which would guarantee the welfare of its people, the prosperity of backward regions and the security of northern Chile. We nourish the hope that now that its present Government is devoted to tasks of moral and material reconstruction, soon the necessary favourable conditions to open negotiations will exist so that these two countries may arrive at an important agreement governing their future.\\n298.\\tIn the regional context, Latin America continues its inevitable course towards unity. There is a general awareness of this. It began in the Amphictyonic Congress of Panama convened by Bolivar in 1826. Before that, both extremes of South America had met, with the same desire for universality, in the famous interview of Guayaquil, which brought together Bolivar, the Liberator and San Martin, the Saint of the Sword.\\n299.\\tThat unionist trend gained renewed topicality and importance with the Continental Treaty of 1854 and the Union and Defensive Alliance of 1865, concluded in Lima. With the subsequent constitution of the Pan-American Union and the present Organization of American States, Latin America succeeded in creating a Central American Common Market and the subregional organizations of the River Plate basin, the Andean Pact and the Amazon countries.\\n300.\\tThe Latin American Free Trade Association [LAFTA], that is, the Latin American common market, despite its shortcomings, pursues the achievement of its laudable purposes. CECLA, that is, the Special Committee on Latin American Co-ordination, is achieving the purposes for which it was established.\\n301.\\tAll these bodies reflect pressing needs and undeniable realities, although there is a general demand to make their structures adequate to the requirements of a changing world and to the challenges of human intelligence with its awe-inspiring creations and daring feats in space, which are leaving behind and unsolved the most acute problems of our world.\\n302.\\tWe agree with what was said by the most enlightened statesmen on our continent in this world forum to the effect that the great problem of Latin America is the problem of under-development. To overcome this condition, we have been striving to create broader markets in a joint effort of economic association.\\n303.\\tThe marginal condition of vast masses of mankind is another of its conflicting realities. Social and economic structures must be changed, beginning with an agrarian reform, a policy for the distribution of national revenue for the benefit of man's health, housing, education and food.\\n304.\\tPolitical stability, on which the progress of Latin American countries is based, does not depend on the will of its leaders, but on the economic and social conditions in which their peoples live. That is why there is urgent need to contribute collectively to the improvement of such conditions if truly we seek to take a long leap in history. The criticisms levelled against the instability of many of our Governments must go hand in hand with co-operation and aid. Anything else is like regretting the fate of a patient to whom we do not give the medicine he needs to get well.\\n305.\\tApart from Bolivia's problems of access to the sea, we have in Latin America the case of the Panama Canal, sovereignty over which Panama claims and in this it is backed by the other Governments of the continent. The\\nsame thing happens with the sacrosanct cause of the Bolivians which has found such great understanding among the Governments of Caracas, Bogota, Quito and Lima, on the occasion of the recent tour of those countries by my country's President, General Don Hugo Banzer Suarez.\\n306.\\tWith regard to the colonialism subsisting in our region, our nations are at one in demanding its total elimination and the protection of the right to self-determination of our peoples.\\n307.\\tI could not end this part of my statement without expressing my feelings upon the tragic death of the President of Chile, Mr. Salvador Allende, whom I had the honour to meet in the interview we had in the city of Buenos Aires when General Lanusse handed over power to ex-President Campora. That death recalls that of Balmaceda, another distinguished Chilean President, and reveals a profound human quality in President Allende. The leader of Chilean socialism fell like a courageous captain at the head of his cause and in defence of his Government, like Mayor Gualberto Villarroel, a leader of nationalism in my country, immolated in the Quemado Palace on the altar of his ideals, and of Oscar Unzaga de la Vega, founder and leader of the Bolivian Socialist Falange, who lost his life in an open fight for freedom, justice and democracy.\\n308.\\tNow let me speak of America, but not of its special peculiarities. Historically and geographically its unity is. absolute. Columbus and Americo Vespucio discovered it and gave it its name. It is unnatural to exclude from it North America. We cannot conceive of a unit without one of its parts. We constitute a hemisphere, the hemisphere of human hope. Why not think rather of adding Canada, which shares our common territorial heritage and, like all our countries, emerged from the same historic adventure of the fifteenth and sixteenth centuries? Let us move forward rather than backward.\\n309.\\tI have been particularly concerned about the situation of the relatively less developed countries in South America, namely, Bolivia, Ecuador, Paraguay and Uruguay. That is why, in the Andean Pact, we came to an agreement on the holding of a meeting between these countries to assess the meaning of the integration agreements, the treatment of these countries in the UNCTAD classification, the forthcoming negotiations to be held under the auspices of the General Agreement on Tariffs and Trade [GATT] and the financial co-operation of international institutions, as well as the general progress achieved in this policy of development.\\n310.\\tThe aforementioned analysis within the continental, framework must cover the Central American and Caribbean nations, members of the Central American Common Market [CACM] and the Caribbean Free Trade Association [CARIFTA].\\n311.\\tTo that meeting, to be held in the Bolivian city of Cochabamba in the second half of January 1974, representatives of LAFTA, the Andean subregion, the River Plate Basin, the Economic Commission for Latin America, the Latin-American Institute for Economic and Social Planning, UNCTAD, GATT, FAO, the United\\nNations Development Programme [UNDP], the World Health Organization, the United Nations Educational, Scientific and Cultural Organization, the International Labour Organisation and the International Monetary Fund. The financial institutions to be represented are the World Bank, the Inter-American Development Bank and the Andean Development Corporation, and, as special guests, representatives of the CACM and CARIFTA with their regional banks and financial institutions and the International Union of Catholic Employers' Associations.\\n312.\\tWe believe that this event, which is to be held under the auspices of the economically less developed among the countries of South America, on the initiative of the Foreign Ministry of Bolivia, will be crowned with success. A vast organic and rational agenda, which has already been transmitted to the parties concerned, will highlight the historic importance of this international forum.\\n313.\\tUntil not long ago the human spirit was disturbed by the doubt that it might not be able 'to save succeeding generations from the scourge of war' \\u2014 one of the most noble principles in our Charter.\\n314.\\tIt would appear that we did not feel able 'to practice tolerance and live together in peace with one another as good neighbours' and 'to unite our strength to maintain international peace and security' as also prescribed by the Charter.\\n315.\\tHowever, thanks to the innovating initiative of President Nixon and his personal aid, Mr. Kissinger, the present Secretary of State, there has been a relaxation in international relations between the great Powers and peace has been brought to areas of the world that were either beset or threatened by war.\\n316.\\tThe policy of decolonization is also being strengthened and it is possible that in the near future all forms of political, religious or racial discrimination will disappear.\\n317.\\tFratricidal violence and inhuman terrorism, cloaked in apparently altruistic aims, calls for common legislation to characterize them and sanction them. Sectarian convenience or electoral interests should not be allowed to protect them or to mask them under the cloak of feigned ignorance when such facts are objective and condemned by universal conscience.\\n318.\\tAs regards international pending problems and latent conflicts, a desire for war, or the wish of the strong to dictate to the weaker, serve no purpose. What we need is a negotiated solution which is beneficial to all and falls within the framework of the Charter.\\n319.\\tNo one can maintain that conquest gives rights. Before the United Nations, the American doctrine of 3 August 1932, which condemns territorial acquisition derived from war, had anticipated this concept.\\n320.\\tBut there are essential elements in the life and sovereignty of a country, elements without which a State cannot feel secure. Bolivia claims its frontier on the Pacific\\nOcean, There, in the beginning of the universal road of the seas, it finds its security.\\n321.\\tThe Organization must watch over the subsistence of its Member States and must assimilate all the national entities that are not yet Members or have been left outside the Organization.\\n322.\\tThe right to international life does not depend on the vote of a council or the consensus of an assembly. Nations, like' men, have a right to respect for their existence.\\n323.\\tReason does not obey the dictates of the strong or the whim of the majorities. The truth is one, luminous, undistortable, like the sun that gives us light.\\nJ24. You may divide nations but you cannot change nature. When you try to change nature it reacts with greater violence. It is like history, which is presided over by the law of Karma, of which the thinker, Lin Yutang, speaks so eloquently.\\n325.\\tJustice, human and international, cannot be fettered. It is the beacon that lights the way of universal conscience and guides man along the paths of history. There are entelechies, like justice, that are stronger than the power of the dominators.\\n326.\\tIn view of all this, there is a hope in the minds of hungering peoples and of nations in subjection, a hope that they may achieve their liberation and come under the benevolent regime of free and civilized coexistence.\\n327.\\tInstigation to violence, material assistance to subversive underground warfare, concealment of terrorism \\u2014 all these in fact do not favour peace or contribute to justice. Warlike actions are just as tragic as those deriving from violent and treacherous conspiracies.\\n328.\\tOccurrences involving bloodshed, systematic hatred and destruction must be prevented in all countries. Such is the unavoidable necessity for all who are born into this world and for all who do not wish to perish in the whirlpool of senseless human passions.\\n329.\\tThe greatness of nations does not reside in the capacity to dominate our planet or to conquer outer space, but in the careful consideration and wisdom they should contribute in guiding mankind to the full realization of its destiny.\\n330.\\tMan does not base his happiness on the heady wine of material victories at the expense of his fellow men, but rather on the subjective realization of relative well-being and on the search for his origin and his destiny. All else is an affront to the freedom of his conscience and reduces him to the lowest level of the zoological scale.\\n331.\\tAlong with all of this, we hear a great deal about detente. After the relaxation of international tension, where do we go? To smother danger is not to build a new order.\\n332.\\tMankind must go to the root of its troubles. Resources can be found by Powers to arm themselves and to explore outer space; but there are no means to be found to\\ncombat disease, illiteracy, the hardship n: which millions of human beings must live, hung* unemployment and poverty.\\n333.\\tIt is proposed that military expenditure be reduced by 10 per cent for the purpose of assistance to developing countries. Armaments, as everyone knows, are a prelude to war. This phenomenon is taking place, paradoxically, in the present-day world, where some go begging for their bread while others waste their money on weapons. It is to be hoped that the aforementioned suggestive idea will not remain simply a demagogic playing with words or a mere lyrical pose. Let us arrive at an agreement in this regard and let even the medium-sized and small nations participate in that endeavour \\u2014 those very nations which should not, in addition to the misfortune of their under-development, have to suffer the catastrophe of an armed struggle.\\n334.\\tIn ancient times, as is well known, people armed to prepare themselves for war. Some centuries have gone by and it may be hoped that the human mind has changed in some respects. Peace is secured by suppressing wars at their very root. There is neither justice nor virtue in poverty. The source for brotherly human coexistence is to be found in well-being. Let us therefore cultivate the earth rather than produce in our factories the tools for destroying and cutting short human lives.\\n335.\\tIf happiness is the magnetic north that guides mankind, freedom is the natural atmosphere in which the life of nations is lived. International relaxation of tension can thus be reflected in economic relations, but it is anachronistic indeed if there remain captive peoples as a consequence of a war.\\n336.\\tThere are Powers that have decided on how not to interfere in the internal life of other countries. Their trick consists in converting other countries into satellite nations through armed occupation. It is of no help if the victims maintain the contrary in praise of their executioners.\\n337.\\tMan is free by nature and he broke the chains that enslaved him many years ago. We cannot condone the existence of subject peoples. It is not true that self-determination encourages a retreat from independent life and from the autonomous and sovereign right of people to govern themselves.\\n338.\\tIt is usual to see the mote in the other's eye but not the beam in one's own, as the Holy Scriptures tell us. It is for that reason that some call for the withdrawal of certain armies from occupied territories. But we see no example of such withdrawals on the part of the forces which are subjugating nations that have been free for centuries.\\n339.\\tSome are loud in denunciation of armies that overthrow governments. It is commonly forgotten that the armed forces of a nation form a substantial part of the people. Much more serious is the case of the troops, the tanks and aircraft that invade countries and conquer peoples with age-old cultures and independent traditions.\\n340.\\tThe history of peoples cannot be enclosed in chapters, as happens with the citizens of a country when they are placed in concentration camps and prisons and\\nsubjected to torture. The life of nations is continuous and permanent. Their lands and their right to govern themselves can be taken from them, but never their life, never their presence as stars in the wide firmament of mankind and of time itself.\\n341.\\tThe time has come to think more seriously about a sort of universal human society on earth. With the elimination of international rivalries and the quenching of the mad thirst for universal domination, there will come about a joining of efforts, of technologies and resources in the exclusive service of all mankind.\\n342.\\tGovernments do not last for ever. All our traditions confirm this. The elements of power vary with the passage of time and the effects of circumstances. Powers decline and new ones emerge. The balance of power varies and we must seek therefore to avoid as far as possible its periodic fluctuations. This does not mean we must try to stratify history, which would be deadly for man, but rather that we must avoid using national resources for wasteful purposes of conquest and domination.\\n343.\\tIt is important that international coexistence be safeguarded. Ideological pluralism is a fact and a doctrine, if you will. We are compelled to respect other peoples. They have the right to choose whatever form of political life is best suited to them. What must be fought against is precisely any disregard of the right to self-determination. It is this that separates Governments and not the nature of the regime that rules.\\n344.\\tInternational organizations base their existence on constitutions. There are declarations recognizing the rights of men and of citizens. There is need for the Mexican document which defines the economic rights and duties of States. There is much to be said concerning this and it is both logical and proper for the small countries to go before the great countries in a dramatic demand for international justice together with effective and sincere co-operation in development.\\n345.\\tSeveral nations of America, Europe, Africa and Asia are awaiting the establishment of rules that will define and guarantee the inherent powers enjoyed by land-locked countries. The legislation in this regard must apply to all universally. Just as with the sea-bed freedom of navigation and direct access to coasts and fisheries cannot remain within the framework of mere declarations.\\n346.\\tPreferences are established in favour of the economically less developed countries with regard to subregional, regional and world bodies. This has been stated in Tokyo to the Director-General of GATT and the representatives there assembled. Bolivia, with justice and good reason, requests the special consideration of this matter, one that will embrace all the peoples which, furthermore, lack a sea coast.\\n347.\\tAmong the rights of man there is the right of free transit and residence. It is a law of men that cannot be restricted as it is recognized throughout the world. The contrary would be to recognize slavery and to prevent children from returning to the homes of their elders.\\n348.\\tMy delegation cannot but express its concern over the debates in our Organization. It could be said that we often forget the spirit of the Charter. We seek conciliation among men, yet we are accustomed here not to employ the dialectic of intelligence, but rather that of frozen attitudes.\\n349.\\tThe clearest and purest essence of democracy lies in the right to dissent. To be able to exercise this right without the risk of annihilation, man has shed his blood throughout his journey through history.\\n350.\\tThe right to express one's view is as precious as the right to existence and a worthwhile life. Only animals produce sounds without meaning for us, like the roaring of the blind tempests of nature. To deny that right is equivalent to turning man into an animal.\\n351.\\tThe policy of special privilege is contrary to justice. A few cannot live at the expense of the poverty of the great majority of mankind. Nor does exploitation by industrialized countries of the producers of raw materials contribute anything to peace.\\n352.\\tNational income should be distributed among the ordinary citizens, just as it is necessary to adopt a policy of equitable regulation of what is bought and sold by countries of differing economic conditions.\\n353.\\tFinally, we must talk about faith \\u2014 about the faith of man in himself, about the faith of peoples in their creative capacities, about the faith of the international community in its organizations and the precepts that nourish them. I wish to state, in the name of my Government, that the Bolivian people believes in the effectiveness of the subregional and regional groupings to which it belongs. It believes in the River Plate Basin and the Andean Group. It believes in the Organization of American States. And, finally, it believes in the United Nations, the Organization to which we look to guarantee universal peace and without which there would be no security for either man or nations. And the Bolivian people expresses the hope that it will be able, moreover, to stop the resumption of operations in the Middle East.\",\n          \"I \\ncongratulate His Excellency Mr. Sam Kutesa, former \\nMinister for Foreign Affairs of Uganda, on his election \\nto the presidency of the General Assembly. We wish \\nhim the greatest success in carrying out his duties.\\n\\nWhirlwinds of oppression and violence, anxiety, \\ndesperation and the systematic violation of human rights \\naffect many corners of the world. We are witnessing an \\nupsurge in violence and armed confrontations and an \\nincrease in atrocious crimes and extremism with an ever \\nincreasing number of displaced persons, humanitarian \\ncrises and deplorable acts that remain unpunished.\\n\\nWe are also concerned in particular about the \\nuniversal dimension of the crisis caused by the Islamic \\nState in Iraq and the Sham (ISIS). That reality requires \\nthe coordinated and forceful multilateral action of \\nthe international community in accordance with the \\nrelevant bodies of the Organization. We have seen \\nthe images and heard the screams of pain and distress \\nrising out of Gaza, Iraq, Syria, Ukraine, Afghanistan, \\nMali, Libya, the Sudan, South Sudan, Somalia and the \\nCentral African Republic. The cries can also be heard \\nin Central America, where thousands of children and \\nyoung people cross borders alone heading towards the \\nUnited States of America, fleeing violence and a lack \\nof opportunities in pursuit of dreams that can turn into \\nnightmares. The Assembly can never put aside the \\nfuture of those children because, in many ways, the \\ngirls and boys of Central America who travel alone are \\nalso our sons and daughters.\\n\\nCosta Ricans are not indifferent to the terror \\nof armed conflicts, less still to the suffering of the \\nmillions of victims of its most abject manifestations. As \\na nation, we have always stood with our sister nations \\nin our efforts to bring an end to war and to establish \\npeace. The conflicts that torment us often emerge from \\nthe fragile situations of States and their institutions: \\nextreme poverty, corruption and impunity. In all of \\nthem, serious human rights violations have occurred. \\nNone of those conflicts broke out without prior \\nwarning. Ther were clear warning signs. In some cases, \\nthe threat was identified but no action was taken, as in \\nSyria. In other cases, the danger was not acknowledged \\nin time, as in South Sudan. However, in all such cases, \\nthe victims are those who are most vulnerable and most \\nneed our help but who cannot make their voice heard. \\nThey are the reason that we are here today.\\n\\nFaced with the loss of human lives, we have reason \\nto ask ourselves if we have kept the solemn promise \\nthat accompanied the founding of the United Nations \\n69 years ago. Do all Members of the Organization refrain \\nfrom resorting to the threat or use of force against the \\nterritorial integrity or political independence of other \\nStates? In some cases, that is so, in others not, but the \\nfailure to act is unacceptable. When States disregard \\nthat promise, the system of the United Nations is called \\nto action. Otherwise, it becomes weak. It loses its \\nessence. It loses its spirit.\\n\\nThe greatest challenge facing the international \\ncommunity, the United Nations and the Security \\nCouncil \\u2014 the challenge I wish to talk about \\ntoday \\u2014 is maintaining international peace and \\nsecurity as essential common goods. If we want peace, \\nwe must prepare for peace. Maintaining international \\npeace and security begins with a culture of peace. As \\nan unarmed democracy and home to the University for \\nPeace, the Inter-American Institute of Human Rights \\nand the Inter-American Court of Human Rights, Costa \\nRica believes that the culture of peace and education for \\npeace must be an absolute priority. We are convinced \\nthat peace, like war, is not the product of a human or an \\nhistoric destiny but is borne of the very freedom of the \\nhuman being.\\n\\nMaintaining international peace and security is not \\nrestricted to dealing with conflicts. The Organization \\nwas founded on the ashes of two world wars precisely \\nin order to prevent them. Prevention begins at the \\nState level, with the strengthening of democracy and \\nits institutions, good governance and a social welfare \\nState founded of the rule of law as a basic prerequisite \\nfor the promotion of development and fair and inclusive \\nsocieties. Prevention is also founded on a solid and \\nfunctioning multilateral system. Costa Rica values \\nand encourages the preventive diplomatic measures \\nprovided for in Chapter VI of the Charter of the United \\nNations, which include mediation, good offices and \\nearly warning.\\n\\nAs part of the Group of Friends of Mediation, \\nI would like to highlight Costa Rica\\u2019s leadership in \\nnegotiating General Assembly resolution 68/303, \\nwhich seeks to acknowledge the key role that regional \\nand subregional organizations play in mediating and \\nmanaging conflicts. To date, that is the first General \\nAssembly resolution on mediation to recognize that \\n\\nrole. Its inclusion is therefore a true achievement of the \\nGeneral Assembly.\\n\\nMaintaining international peace and security \\nrequires all States to resolve our disputes peacefully in \\nline with the Charter of the United Nations and in strict \\naccordance with international law and agreements. Costa \\nRica firmly believes in and implements all aspects of \\ninternational law. We therefore underscore in particular \\nthe role of the International Court of Justice and the \\nInternational Criminal Court. Peace cannot take root \\nwhere there is impunity. When war crimes, genocide \\nand crimes against humanity have been committed, \\nthose responsible must be investigated and put on trial, \\nincluding by the International Criminal Court when the \\nnational jurisdiction proves insufficient.\\n\\nOur country opposes the weakening of the Rome \\nStatute and any proposed reform that could promote \\ntolerance for impunity. Once again, we remind the \\nSecurity Council of its authority and responsibility \\nto refer to the International Criminal Court cases that \\noccur in non-States parties. That is the only approach \\nwe recognize. Our only weapon is and will always be \\ninternational law.\\n\\nMaintaining international peace and security \\nalso necessitates strengthening the single global \\nOrganization charged with defending them. The \\nSecurity Council must progress from a reaction \\nmentality towards one of action, and reaffirm its moral \\nand political commitment to all humankind. It must be \\nvigilant, strategic and proactive. It must be democratic, \\nefficient, transparent and inclusive. My country has \\nobjected to the use of the veto to obstruct measures \\naimed at preventing or resolving conflict. Costa Ricans \\nare amazed by the way some permanent Council \\nmembers have invoked the principal of sovereignty to \\nblock intervention by the Council at a moment when it \\nshould have acted to prevent rivers from turning red \\nwith the blood of innocent victims.\\n\\nWe reiterate our call on the permanent members \\nto refrain from using the veto, especially in situations \\nof genocide, crimes against humanity, war crimes and \\nmass human rights violations. We therefore welcome \\nthe French proposal for a code of conduct addressing \\nthe use of the veto. In that spirit, Costa Rica supports \\nthe Secretary-General\\u2019s Rights Up Front Action \\nPlan so as to place human rights at the centre of the \\nprevention activities of the United Nations. Given our \\nserious and unshakeable commitment to human rights, \\nI respectfully ask the Assembly to back Costa Rica\\u2019s \\nre-election to the Human Rights Council in October.\\n\\nOur poet Jorge Debravo said that we Costa Ricans\\n\\n\\u201chave the obligation to fight for a better future for \\nman, for a wonderful future. It is not an option for \\nus to remain silent. It is not an option for us to be \\nobservers or simple witnesses to the struggles of \\nour nations. In a time like this, remaining neutral is \\nto betray humanity\\u2019s future\\u201d.\\nBecause silence is not an option for us, we condemn \\nthe indiscriminate rocket attacks on Israel by Hamas \\nand its use of human shields, just as we condemn the use \\nof disproportionate force in military operations carried \\nout by the Israel Defense Forces. We demand respect \\nfor the ceasefire and the negotiation of a permanent \\nsolution based on two States living side by side in peace \\nand harmony.\\n\\nBecause silence is not an option for us, we reject the \\ntransfer of conventional weapons to existing conflict \\nzones. As one of the world leaders in the negotiations \\nthat led to the Arms Trade Treaty \\u2014 an idea originally \\nproposed by Nobel Peace Prize laureate and former-\\nPresident \\u00d3scar Arias S\\u00e1nchez \\u2014 we urge States to \\nreconsider their laws and policies regulating the transfer \\nand availability of arms and munitions, with a view \\nto preventing access by those who would use them in \\nviolating human rights and international humanitarian \\nlaw. To trade in death is to become an accomplice to \\natrocities. In that context, it would be appropriate to \\nask the Assembly: What is the ethical \\u2014 not legal or \\nregulatory \\u2014 difference between trafficking arms \\nthat kill young people in less-developed countries and \\ntrafficking in drugs that lead to the same result in the \\nplanet\\u2019s richest countries?\\n\\nBecause silence is not an option for us, Costa \\nRica rejects the use of explosive weapons in densely \\npopulated areas of Syria, Gaza and eastern Ukraine. \\nCosta Rica urgently calls on Member States to develop \\nstricter rules and commitments to prohibit and restrict \\ntheir use, not only because they violate international \\nhumanitarian law, but also because taking action on that \\nissue, here and now, is critical to reducing incentives to \\nnon-combatants to take up arms and join the extremists.\\n\\nBecause silence is not an option for us, we also \\ncondemn the use of cluster munitions in Syria, South \\nSudan and eastern Ukraine. As the host of the Fifth \\nMeeting of States Parties to the Convention on Cluster \\n\\n\\nMunitions, which took place in San Jose from 2 to \\n5 September, my country will continue to reject the \\nmanufacture, use and trade of those weapons. We \\nrejoice that our beloved Central America has become \\nthe first region of the world to be declared free of cluster \\nmunitions, and reiterate our commitment to continuing \\nto promote the Convention\\u2019s universalization.\\n\\nBecause silence is not an option for us, we reiterate \\nour rejection of nuclear weapons. No State should \\ndevelop or possess nuclear weapons. Maintaining and \\nupdating nuclear weapons requires immense economic \\nand human resources that are necessary for responding \\nto the key challenges of our time, such as achieving \\nthe Millennium Development Goals and the sustainable \\ndevelopment goals. Costa Rica is ready to negotiate a \\nnew, legally binding instrument on nuclear disarmament \\nand calls on States to honour their commitments in that \\nregard.\\n\\nThere can be no peace without sustainable \\ndevelopment. There can be no peace in the world so \\nlong as there is poverty. There can be no peace in the \\npresence of extreme wealth disparity. There can be no \\npeace while we destroy humankind\\u2019s habitat. There \\ncan be no peace while large sectors of humankind \\nlack guaranteed access to drinking water. There can \\nbe no peace so long as we fail to understand that all \\nof humankind and Planet Earth\\u2019s biodiversity can and \\nmust thrive and live together. There can be no peace \\nwhile we fail to guarantee all human rights \\u2014 civil, \\ncultural, economic, political and social \\u2014 and in \\nparticular the right to development.\\n\\nBecause we yearn for peace, we call on the \\nnations of the world to join us in defining the post-\\n2015 development agenda. In just one year\\u2019s time, \\nthe General Assembly will be tasked with adopting \\nthe international framework for achieving sustainable \\ndevelopment. The challenge we will face is colossal; \\nwe must therefore humbly acknowledge that, despite \\nprogress, the implementation of the Millennium \\nDevelopment Goals has been, at best, insufficient.\\n\\nI am convinced that the new sustainable development \\nagenda must be a tool primed for action, with precise \\nobjectives, clear targets and indicators that will allow us \\nto measure and monitor its success. In addition, it must \\nresult from a broad international consensus, including \\nopen and transparent negotiation processes that involve \\nnot only the Member States, but also other international \\nactors and civil society organizations whose experience \\nwill significantly enrich the final agreement.\\n\\nWe are facing the most serious threat in our \\nhistory \\u2014 the very survival of our species. Actions \\ntaken to confront it must not be timid. On the contrary, \\nevery public policy, national and international alike, \\nmust take climate change into account as a determining \\nfactor. Costa Rica celebrates the vision of the Secretary-\\nGeneral in convening the Climate Summit at the \\nopening of this session. Now is the time to demonstrate \\nour political commitment to achieving a legally binding \\ninstrument on climate change by 2015. In addition, we \\ndemand robust action on the part of those countries that \\ncontribute most to global warming. Their production \\nand consumption methods must be completely revised \\nas their impact on the planet\\u2019s most impoverished \\npeople \\u2014 the ones most affected by climate change \\u2014 is \\nundeniable. If humankind is to survive, we must reverse \\nthe current trend.\\n\\nThree years ago, 33 countries came together to \\nestablish the Community of Latin American and \\nCaribbean States (CELAC). Its agenda is underpinned \\nby full respect for the purposes and principles of the \\nCharter of the United Nations and international law. \\nIts objective is to build diverse, equitable, fair and \\negalitarian societies, where eradicating poverty and \\nhunger are given priority status. I salute the nations, \\nmembers of this community.\\n\\nIn an international context of increasing military \\ntension and armed conflict, and with the realization \\nthat a region\\u2019s prosperity and stability can contribute \\nto international peace and security, CELAC member \\nStates have declared Latin America and the Caribbean \\na zone of peace. As President Pro Tempore of CELAC, \\nCosta Rica reiterates its commitment to preventive \\ndiplomacy and the peaceful resolution of disputes, \\nwith the aim of forever eradicating both the use and the \\nthreat of force from our region.\\n\\nCosta Rica trusts that the United Nations will \\nmaintain international peace and security in order to \\npromote sustainable development and ensure genuine \\nrespect for all human rights. At a time when we must \\ncontrol the reflexive use of coercive measures as a \\nfirst course of action, when anxiety and despair are \\nunsettling many, it is essential to re-establish hope. \\nWhen faced with fear, we must have confidence. When \\nfaced with conflict, we must turn to peace. When faced \\nwith rejection and prejudice on the part of others, we \\nmust offer a caring and fraternal embrace. When faced \\nwith death, we must think of life.\\n\\nWith faith in dialogue and consultation, I have \\ncome to the General Assembly to ask that we declare \\n\\n\\npeace \\u2014 that we conscientiously and decisively work \\ntogether towards a culture and education for peace; \\ntowards strengthening of the social State based on \\nthe rule of law, as well as its institutions and our \\neconomies; towards conflict prevention and resolution \\nof international controversies by peaceful means; \\ntowards a renewed role for the Security Council; \\ntowards an end to and a reversal of climate change; and \\ntowards sustainable development from which not one \\nperson in the world is excluded.\\n\\nI have come to tell the Assembly that silence is \\nnot an option for us. We must raise our voices when \\nconfronted with actions and situations that go against \\nthe universal principles enshrined in the Charter of \\nthe United Nations. I have come to inspire us to work \\ntogether on new paradigms for sustainable development, \\nhuman security and peace for the whole world.\\n\\nThe Costa Rican poet Julieta Dobles Yzaguirre \\nwondered: \\u201cWill the Earth in the new millennium/ \\nbecome that common home?\\u201d I would like to respond to \\nthe poet with her own words: \\u201cNo one is saved alone./ \\nPerhaps in sharing words and actions/ peace will finally \\nbreak out.\\u201d\\n\",\n          \"\\ufeffI should like to express my sincere congratulations to Mr. Joseph Garba on his unanimous election as President of the General Assembly at this session. His qualifications and outstanding activity in this Organization are of fundamental value for the success of our work. I also wish to express my thanks for the excellent work done by his predecessor, Mr. Dante Caputo, and to reiterate our full support and deep gratitude to Secretary-General Javier Perez de Cuellar for his untiring work at the head of the Secretariat.\\nSince the founding of the United Nations, we have probably never witnessed as we do today so many efforts to improve the international climate or so many changes in the framework that has governed international relations for the past 40 years. Ideological intransigence, confrontation as a means of diplomacy and indifference to the overwhelming economic, social and political problems of a significant part of mankind have started to give way in the face of mankind's growing aspirations to broaden the scope of coexistence, to lay the foundations of true peace and to consolidate the notion that the individual is the direct and primary beneficiary of all government action. Although, unfortunately, many bloody conflicts persist in various parts of the globe, in recent times the use of force as an instrument in international relations has been shown to be futile. International co-operation, in which multilateralism must, in our opinion, be a key factor, has now to a large extent reduced the level of confrontation and the number of situations that could lead to war. Owing to the globalisation of current problems, we must also judiciously consider other dimensions which are equally essential to peace, and in which this increasingly vital international co-operation has not progressed as much as we would have liked. I refer, for example, to issues such as the differences between rich and poor countries, economic development, man's relationship with nature and the progressive deterioration of the environment, and phenomena such as terrorism and drug trafficking - to which I shall refer later in my statement.\\nFirst, with regard to the changes in Europe, the new climate in East-West relations - which has been observed in this Assembly - is encouraging. This is true not only with regard to the reduction of tensions between the United States and the Soviet Union and between the military alliances and their members, but also in relation to domestic changes in many countries, with progress in democratisation and respect for human rights. In this context, I wish to highlight the processes under way in Poland and Hungary and in the Soviet Union. Unfortunately, not all Eastern European countries are following these desirable paths.\\nThe Conference on Security and Co-operation in Europe (CSCE) , with all its dimensions, has played a fundamental role in this whole process of European detente between countries and within countries. Moreover, it has been imbued with fresh vigour with the adoption of the Final Document of the Vienna meeting.\\nWe welcome the significant role played by the United Nations in the present international context. Recognition by its Member States of the undeniable value of multilateralism has considerably broadened the Organization's scope for manoeuvre and has enabled its efforts to be more fruitful. The growing political realism of many countries which in the past were reluctant to accept solutions that were not extreme; the progress towards more pragmatism in the Movement of Non-Aligned Countries; the resolute action of the Security Council reinforced by the new co-operation among its permanent members; and the intelligent work of the Secretary-General are basic elements of that stimulating process.\\nNevertheless, we are still a long way from an international society in which violence, poverty and the violation of fundamental human rights are absent. The United Nations can do and has done much to bring us closer to that objective, but its action cannot be successful if, at the same time, those engaged in these conflicts do not have the clear political will to terminate them.\\nSecurity Council resolution 598 (1987), adopted over two years ago, laid the foundations for negotiating a solution to the bloody war between Iran and Iraq. It is true that since then the guns have been silenced, but peace in the region is fragile and little progress has been made towards a just and lasting solution reached through the full implementation of resolution 598 (1987). Therefore the process of negotiation now under way under the auspices of the Secretary-General and his Special Representative must be intensified, and I assure them once again of the full backing of my Government for their delicate mission.\\nIn Afghanistan, the signing in April last year of the Geneva Agreements opened the way to a solution. This year the final withdrawal of Soviet troops has been completed, making a peaceful settlement of the problem possible. Efforts must nevertheless be intensified to achieve a lasting settlement based on the Afghan people's exercise of the right to self-determination without outside interference. In order to achieve that goal, a broadly based Government representing all the parties to the conflict must be formed and any refugees wishing to do so must be allowed to return. The continued efforts of the Secretary-General to achieve that peaceful settlement should be supported, and the General Assembly should renew his mandate.\\nThe evolution of the situation in southern Africa over the past year has shown hopeful signs on some fronts. Unfortunately, the intolerable system of apartheid persists in South Africa. We trust that the recent political changes in South Africa will lead to a more realistic and intelligent attitude when the time comes to undertake the necessary process leading to a truly democratic, pluralistic and non-racist society in that country. Once more we demand the lifting of the state of emergency, the legalization of all political parties and groups that oppose apartheid, and the immediate release of Nelson Mandela and the other political prisoners.\\nThe historic process that started in Namibia last April has our unconditional support. We are confident that the process of independence will be completed within the agreed schedule and we reiterate our full confidence in and support for the Secretary-General and his Special Representative regarding their mission in Namibia. Spain is participating by means of a large contingent in the United Nations Transition Assistance Group. I should like to place on record here our determination to provide financial backing for the new country.\\nWe welcomed with great satisfaction the Gbadolite agreements complementing those which, towards the end of last year, made it possible to start the gradual withdrawal of Cuban troops from Angola. We trust that there will be a total cessation of hostilities, which will lead that country to national reconciliation. free of foreign forces. At the same time, we support the contacts established in Mozambique with a view to ending the violence. We call for the immediate cessation of all outside attempts to destabilize that country. We also express our hope that the processes begun in Namibia and Angola will have a positive influence in Mozambique and the southern region as a whole, particularly in the front-line States.\\nThe withdrawal of Vietnamese troops from Cambodia constitutes a positive but insufficient step. We regret the suspension of the Paris Conference, where greater flexibility from the parties involved in the conflict could have been expected. Efforts must continue in pursuit of a settlement allowing for the establishment of a broadly based Government of national reconciliation that will enable the country to face its future reconstruction with optimism, with no possibility of a return to a recent past which inflicted so much suffering on the Cambodian people.\\nWe have followed with interest the proposals by the Republic of Korea and the Democratic People's Republic of Korea to engage in bilateral talks. President Roh's initiative submitted at this forum on 18 October of last year was particularly praiseworthy. However, tension on the peninsula still prevails. This can be overcome only through intensified dialogue and greater flexibility.\\nThe tragic events that took place in China deeply moved large sectors of international public opinion. We are following the evolution of the situation with the greatest interest and we hope that the process of reform and openness in all its aspects, including the political, will gain strength shortly, in order to satisfy the Chinese people's legitimate aspirations to liberty and democracy.\\nThe Maghreb is a region of special interest to Spain. My Government has already expressed its satisfaction at the historic agreement reached at the summit in Marrakesh, at which the Maghreb Arab Onion was set up.\\nWe must increase the co-operation and efforts aimed at solving the Western Saharan problem. Spain is following developments in this respect with justifiable concern. The positive steps taken last year - and particularly the acceptance in principle by the parties involved of the Secretary-General's proposals for the holding of a referendum on self-determination in satisfactory conditions, under United Nations supervision - gave a great impetus to the process, which nevertheless has not yet finally crystallized. Spain, which is providing all the necessary technical co-operation, continues to support unreservedly the efforts aimed at unblocking the process. The pursuit of direct contacts between Morocco and the POLISARIO Front could contribute significantly to that.\\nThe Cyprus problem has yet to be solved despite the renewed efforts of the Secretary-General and his Special Representative. The interruption of the inter-communal dialogue is a cause for concern. We state once again that the solution must be based on respect for the unity, independence, sovereignty and territorial integrity of Cyprus, pursuant to the relevant United Nations resolutions.\\nIn the Middle East, prospects for achieving a just solution to the Arab-Israeli conflict remain uncertain. The situation in the occupied territories continues to deteriorate dramatically. We deplore the measures of collective punishment carried out by Israel, which have merely increased the already great; suffering of the population. We appeal to the Israeli authorities to abide by the Security Council resolutions on the subject and to respect the provisions of the 1949 Fourth Geneva Convention, which is fully applicable to the occupied territories.\\nWe believe that the permanent members of the Security Council have an important part to play in achieving a rapprochement between the parties to the conflict and facilitating the convening of the International Peace Conference. The Palestine Liberation Organization must participate in that Conference, which we still believe to be the appropriate framework for bringing about the opening of direct negotiations between the parties involved.\\nThe guidelines of the policy of the Twelve are reflected in the Madrid Declaration referred to by the current Chairman of the Council of Ministers, Mr. Dumas. We trust that the appeal that we made in Madrid to the parties involved lead to peace and will not be disregarded. President Mubarak's efforts to bring about talks between Israel and a Palestinian delegation deserve our support, with a view to an overall, just and 1,as ting solution based on the principle of peace for territories.\\nIn that context, our call for moderation and good sense in Lebanon is even more peremptory. There has been a tragic deterioration in the crisis. Violence has claimed thousands of innocent lives, including that of the Ambassador of Spain in Beirut, Mr. Pedro de Aristegui. We confirm our backing for the work of the Tripartite Committee. Once more we call upon all the parties to the conflict to co-operate unreservedly by immediately establishing and respecting a total cease-fire, which will enable the necessary internal reforms to be implemented and make peace possible in a sovereign, independent Lebanon, free of foreign forces.\\nCentral America has continued to be the focus of the international community's special attention. The Security Council has given explicit backing to the Central American agreements. Over the course of recent months we have had clear evidence of the political will of those directly involved to overcome their differences and find solutions through dialogue. The El Salvador agreements reached last February and the recent Tela summit conference of Presidents outlined a very positive set of initiatives.\\nThat progress also owes a great deal to the tenacious action of the Secretary-General aid his collaborators. At the express wish of the Central American Presidents, the United Nations is playing an important role in this process. The time-limits foreseen in the Tela agreements have been changed to speed up the process. We trust that the Security Council will adopt the necessary resolutions to ensure that this process will be set in motion as quickly as possible.\\nSpain is especially hopeful about this process, which it has encouraged from the beginning. It has given - and remains willing to give - all the necessary help within its power. Our will is clear. There is no alternative to this framework for peace. We will support with concrete actions, not just with words, all efforts in this direction. In this connection, I wish to remind you of the support provided by the European Community to the programme for Central American regional economic integration. In this respect, we welcome the discussions which have already begun between the Government of El Salvador and the EMLN, and we trust that these may lead to complete national reconciliation.\\nIn this context I would like to discuss peace-keeping operations. The United Nations is playing an ever greater role in the search for solutions to regional conflicts. We are pleased that it is receiving the necessary backing from the Security Council. Spain has decided to participate in various operations. It has supplied military observers for the United Nations Angola Verification Mission and a significant part of the air component of the United Nations Transition Assistance Group. Spain is also willing to co-operate in the operations which will presumably be launched in Central America.\\nThe United Nations has contributed decisively to the process of decolonisation, which, with the forthcoming independence of Namibia, is approaching its conclusion. However, some cases are still pending. One of them is that of Western Sahara, to which I have already referred. East Timor is another. The start of talks between Portugal and Indonesia is a positive element towards a solution in conformity with the principles of the United Nations.\\nWith respect to the Malvinas Islands, we have always supported direct negotiations between Argentina and the United Kingdom as a means of solving all outstanding problems between the two countries, including that of sovereignty. There have recently been new expectations of dialogue and we hope that the talks to be started by the two countries next month will lead to progress in this direction. We are pleased that both countries, with which we have friendly relations, have chosen Madrid as the place for the holding of these talks.\\nA particularly anachronistic colonial situation persists on the European continent, which affects the territorial integrity of my own country. No one is unaware of Spanish sensitivities in connection with the question of Gibraltar. We have chosen the path of negotiation as recommended by the General Assembly, with a view to concluding the process of decolonisation through the restoration of our territorial integrity, while at the same time preserving the interests of the Population of Gibraltar as well as those of the population of the 'Campo de Gibraltar'. As regards disarmament, confidence and transparency are. and we hope, will continue to be crucial elements in the process of East-West detente. We must continue to seek the reaction of the existing balances in the various categories of weapons as confidence- and security-building measures. In this process of enhancing security through disarmament and the reduction of levels of armaments, verification must play a fundamental role in order to ensure that agreements are copied with and also to avoid arousing suspicions.\\nSpain welcomes the progress made in Europe in the field of arms control and disarmament since the last General Assembly At our last summit meeting the countries members of the Atlantic alliance stated our intention to conclude the  negotiations on conventional weapons by the mid-1990s, thus contributing to increasing the security not only of the European continent but also of the international community as a whole.\\nAs regards nuclear weapons and the strategic arms reduction talks (START) we trust that by 1990 the negotiations, including the current ones, will be concluded. To that end, the results of the conversations held last week in Wyoming are encouraging.\\nThe question of arms control and disarmament must not be limited, however, to the East-West dimension. The recent Paris Conference stressed the urgent need for the rapid conclusion of the treaty for the complete and global elimination of chemical weapons. The proposals made by President Bush at the current session and Mr. Shevardnadze's positive response to them are encouraging in this respect.\\nOn the question of human rights we have seen undeniable progress made in some countries, although in many others there has been stagnation, if not regression. We must prevent the economic difficulties encountered in some democracies which tend to perpetuate certain violations of human rights. The task of international codification in relevant aspects of the protection of human rights has recently been considerable, and this gives us great satisfaction.\\nIn particular, I should like to express Spain's support for the draft Convention on the Rights of the Child, which we hope will be adopted at the current session, and the draft Optional Protocol to the International Covenant on Civil and Political rights aimed at the abolition of the death penalty. Nevertheless, we continue to think that rather than concentrating on creating new international instruments, we must emphasize the proper application of those already in existence. We must strengthen the United Nations mechanisms for the identification and eradication of violations of human rights. In particular, we consider highly desirable both the strengthening of the Commission on Human Rights and increased co-operation with it on the part of Member States.\\nI wish to refer to some items which continue to be on the United Nations agenda and which, unfortunately, will continue to be for some time. First, with reference to human rights - in regard to which there has been undeniable progress in many countries, although in others the matter has been at a standstill and in still others it has been retrograde - we must not allow the economic difficulties suffered by some democracies to perpetuate certain violations of human rights.\\nI wish to highlight our particular satisfaction with the strengthening of democracy and freedom taking place in Latin America. We are convinced that the forthcoming elections in Chile will lead to the full restoration of freedom in that country. However, the urgent economic problems, which in some countries coincide with the advancement of freedom, democracy and human rights, have given rise to a new phenomenon: economically poor democracies.\\nThe latest report of the United Nations Conference on Trade and Development (UNCTAD) points out that there are three problems that have been fuelling one another and leading to a vicious circle: external debt, domestic financial instability, and social and economic stagnation. A number of Latin American countries have failed in their attempts to stabilize and revive their economies.\\nThe burden of debt is strangling many countries. There can be little optimism about the expectations for growth and about inflation in the Latin American countries next year, Patience, tenacity and imagination will be required. We need to build a new global framework for the purpose of redesigning the debt strategy, while at the same time approaching each case individually. The objective is not merely to attain economic growth in those countries, but rather to sustain its development.\\nHere we must work on two fronts. True, the debtor countries must continue to strive to increase the competitiveness and flexibility of their economies, without dissembling the cost to society. The international community must facilitate the obtaining of adequate external financing through a combination of three elements: repatriation of capital, the reduction of debt and of its servicing and new loans.\\nI should like to point out the important role of the Brady Plan concerning debt reduction. Here, the International Monetary Fund and the World Bank must work together; designing and supervising the adjustment and growth programmes and also contributing to reinforcing debt reduction transactions through the channelling of new funds.\\nSpain has proposed that a European guarantee fund be set up in the European Community. This initiative was discussed in the Council at Madrid. The European Community has become even more aware of the magnitude and seriousness of the debt problem, as was seen at the meeting we had in Grenada with the Permanent Mechanism for Consultation and Political Co-operation, the Group of Eight.\\nThe main goal is balanced economic development for the less favoured countries. Price oscillations and problems affecting some commodities do not help to achieve this goal. These commodities are of great importance in the export earnings of a large proportion of developing countries. We must regulate the commodities market, hearing in mind the component of co-operation and development aid. We are pleased about the coming into force of the Common Commodities Fund, putting an end to the deadlock which has lasted for 10 years.\\nWe are also pleased, within the context of international trade, by the unblocking of the Uruguay Round.\\nFinally, we should recall here that the high level of indebtedness and the fall of export earnings in commodity markets have in the case of sub-Saharan African countries been combined with the advance of desertification, cyclical droughts and natural disasters to create a tragic situation. We must support, and are doing so, the various financial initiatives that have been advanced by various international organs, at the same time reinforcing the policy of co-operation with the African continent by giving significant economic stimulus for co-operation with those countries.\\nI should now like to make a very specific reference to North-South relations within the context of the United Nations.\\nNext April the General Assembly will hold a special session on international economic co-operation and the revitalization of economic growth and development in the developing countries. We believe that this will be an ideal occasion to achieve, among ourselves, a realistic economic consensus on a world scale. Work in this direction must proceed along with the preparations for a new international development strategy for the fourth United Nations development decade, the launching of a new substantive programme of action for the less developed countries, at the Paris Conference in September 1990, and, lastly, the International Conference on the Environment and Development, in 1992.\\nIn referring to the environment, I should like to point out that international co-operation of a new kind is necessary in trying to solve another problem that affects nothing less than living conditions on our planet. The recent Hague Declaration, adopted at a conference at which countries all over the world were represented, states that as the problem is planetary, its solution can only be conceived at a world level and that it has three characteristics: it is vital, urgent and global.\\nThe holding in 1992 of the United Nations Conference on Environment and Development should be focused on an analysis of these problems, apart from co-operation between the North and the South, and hence on consideration of the environmental factor in programmes of development aid.\\nThe Conference will of course deal with questions of world dimensions, such as the greenhouse effect, protection of the o2one layer, the trans-border movements of wastes, and other things. These affect all countries but have major implications for the developing countries, both economically and financially, as well as with respect to technological support and transfers. It is an enormously delicate subject, and any solution therefore must be based on mutual respect and co-operation in a joint effort.\\nSpain agrees with the Bruntland report recommendation that environmental problems be tackled while taking the different regional situations into account.\\nI would recall that the European Community has already taken some important steps in some respects for preservation of the global environment. Among these general problems I have referred to, which form part of the new agenda of the United Nations, as I put it, I would like to add a few words about terrorism and drug trafficking. In spite of the efforts of the international community terrorism still gravely endangers the lives of countries and coexistence among nations. This threat manifests itself individually in each country, but it is a collective threat. Terrorist attacks are an act of aggression against the whole international community. We therefore have to strengthen international co-operation. Sensitive to this need, the General Assembly succeeded in achieving an important consensus against terrorism in resolution 40/61. Today, it is our task to consolidate and develop it.\\nWe cannot talk of terrorism without talking about drug trafficking, they are so often connected. In his annual report the Secretary-General reminds us that 'the monetary value of drug trafficking has recently surpassed that of international trade in oil and is second only to the arms trade'. (A/44/1, p. 23)\\nWe are, then, faced with a problem of tremendous ramifications. The way to fight this threat is through concrete international co-operation, accompanied by reinforcement of each country's domestic measures.\\nThe International Convention against Illicit Traffic in narcotic Drugs is a far-reaching instrument. All Member States should adhere to it without delay.\\nWe should also make progress in harmonizing and bringing national legislations closer to each other. There are matters that must be resolved urgently. We must activate this process. The 1983 Convention can serve as a framework of reference.\\nAs a result of that Convention, the importance of the so-called precursors for drug synthesis has been made clear. Precursor-producing countries must make an effort to control their exports and thus co-operate in repression of the illegal drug trade.\\nDrug consuming countries also are responsible for the drug-trafficking phenomenon and must carry out programmes and action directed at decreasing domestic demand and thus reducing the traffic in drugs. For some years Spain has been developing educational and preventive measures to this end.\\nWe should not forget, either, on this major theme of narcotic trafficking, actions designed to investigate large capitals, properties and the bank accounts of alleged drug traffickers, actions that have made possible a qualitative change in the fight against this scourge. The world banking system shares responsibility for the solution of this problem. We therefore ask for its co-operation. Similarly, it is necessary for the so-called tax havens to understand that hiding information related to business derived from drug trafficking is tantamount to collaborating in one of the most serious acts of aggression against mankind.\\nWe have to continue pursuing action in support of and in co-operation with Governments and peoples of coca-producing countries, helping their economic development and generously promoting alternatives to cultivation of this substance.\\nThe action taken by the United Nations Fund for Drug Abuse Control has proved effective for this purpose.\\nI should like to stress that there has been exemplary action, which we support, by Colombia, which should receive an adequate response from international bodies in this cause. In Colombia what is at stake is the capacity of the State based on the rule of law to stand up to a group of criminals who are attempting to destroy its basic structures.\\nIn contusion, I should like to make a brief observation. As I have said throughout this statement, international co-operation must now go beyond the mere fundamental pursuit of peace. We must improve the quality of international life, so that we also improve the quality of national life, aid above all the personal life of each individual. We must strive to achieve a new world in which all men and woman count. This Assembly and the United Nations as a whole, will face not fewer but more problems. I trust they will contribute significantly to their solution.\\nThere are some old questions among these new problems, often urgent. We have spoken of poverty and marginalization, and of the threats of drug trafficking and terrorism, which threaten our whole planet and the environment. The time left to us before these problems become catastrophic is not without limits} it is, indeed, rather short. The solution lies in our own hands if we are willing to co-operate. Thus, Spain believes we are witnessing a new era in the history of the United Nations.\\n\"\n        ],\n        \"semantic_type\": \"\",\n        \"description\": \"\"\n      }\n    }\n  ]\n}"
            }
          },
          "metadata": {},
          "execution_count": 5
        },
        {
          "output_type": "stream",
          "name": "stdout",
          "text": [
            "time: 2.62 s (started: 2025-03-10 21:30:07 +00:00)\n"
          ]
        }
      ],
      "source": [
        "df = pd.read_csv(\"un-general-debates-blueprint.csv\")\n",
        "df.sample(22) #, random_state=53)"
      ]
    },
    {
      "cell_type": "markdown",
      "metadata": {
        "id": "WfS-w0569SQI"
      },
      "source": [
        "## Let's get to know the data (and Pandas):"
      ]
    },
    {
      "cell_type": "code",
      "execution_count": 6,
      "metadata": {
        "id": "WwvPuvC99SQI",
        "outputId": "e40b60a3-e6e5-41b9-c781-2e8f5ba2eca3",
        "colab": {
          "base_uri": "https://localhost:8080/"
        }
      },
      "outputs": [
        {
          "output_type": "execute_result",
          "data": {
            "text/plain": [
              "(Index(['un-general-debates-blueprint.csv', 'year', 'country', 'country_name',\n",
              "        'speaker', 'position', 'text'],\n",
              "       dtype='object'),\n",
              " un-general-debates-blueprint.csv    float64\n",
              " year                                float64\n",
              " country                              object\n",
              " country_name                         object\n",
              " speaker                              object\n",
              " position                             object\n",
              " text                                 object\n",
              " dtype: object)"
            ]
          },
          "metadata": {},
          "execution_count": 6
        },
        {
          "output_type": "stream",
          "name": "stdout",
          "text": [
            "time: 5.31 ms (started: 2025-03-10 21:30:16 +00:00)\n"
          ]
        }
      ],
      "source": [
        "df.columns, df.dtypes"
      ]
    },
    {
      "cell_type": "code",
      "execution_count": 7,
      "metadata": {
        "id": "ZHWwh0se9SQJ",
        "outputId": "4131b2a2-b42b-46f4-ec4f-3ccb3126fb77",
        "colab": {
          "base_uri": "https://localhost:8080/",
          "height": 129
        }
      },
      "outputs": [
        {
          "output_type": "execute_result",
          "data": {
            "text/plain": [
              "                                   count         mean        std     min  \\\n",
              "un-general-debates-blueprint.csv  7507.0    49.610763  12.892155    25.0   \n",
              "year                              7507.0  1994.610763  12.892155  1970.0   \n",
              "\n",
              "                                     25%     50%     75%     max  \n",
              "un-general-debates-blueprint.csv    39.0    51.0    61.0    70.0  \n",
              "year                              1984.0  1996.0  2006.0  2015.0  "
            ],
            "text/html": [
              "\n",
              "  <div id=\"df-8cbc627e-c1bf-4dd5-ba26-4362b42be7c6\" class=\"colab-df-container\">\n",
              "    <div>\n",
              "<style scoped>\n",
              "    .dataframe tbody tr th:only-of-type {\n",
              "        vertical-align: middle;\n",
              "    }\n",
              "\n",
              "    .dataframe tbody tr th {\n",
              "        vertical-align: top;\n",
              "    }\n",
              "\n",
              "    .dataframe thead th {\n",
              "        text-align: right;\n",
              "    }\n",
              "</style>\n",
              "<table border=\"1\" class=\"dataframe\">\n",
              "  <thead>\n",
              "    <tr style=\"text-align: right;\">\n",
              "      <th></th>\n",
              "      <th>count</th>\n",
              "      <th>mean</th>\n",
              "      <th>std</th>\n",
              "      <th>min</th>\n",
              "      <th>25%</th>\n",
              "      <th>50%</th>\n",
              "      <th>75%</th>\n",
              "      <th>max</th>\n",
              "    </tr>\n",
              "  </thead>\n",
              "  <tbody>\n",
              "    <tr>\n",
              "      <th>un-general-debates-blueprint.csv</th>\n",
              "      <td>7507.0</td>\n",
              "      <td>49.610763</td>\n",
              "      <td>12.892155</td>\n",
              "      <td>25.0</td>\n",
              "      <td>39.0</td>\n",
              "      <td>51.0</td>\n",
              "      <td>61.0</td>\n",
              "      <td>70.0</td>\n",
              "    </tr>\n",
              "    <tr>\n",
              "      <th>year</th>\n",
              "      <td>7507.0</td>\n",
              "      <td>1994.610763</td>\n",
              "      <td>12.892155</td>\n",
              "      <td>1970.0</td>\n",
              "      <td>1984.0</td>\n",
              "      <td>1996.0</td>\n",
              "      <td>2006.0</td>\n",
              "      <td>2015.0</td>\n",
              "    </tr>\n",
              "  </tbody>\n",
              "</table>\n",
              "</div>\n",
              "    <div class=\"colab-df-buttons\">\n",
              "\n",
              "  <div class=\"colab-df-container\">\n",
              "    <button class=\"colab-df-convert\" onclick=\"convertToInteractive('df-8cbc627e-c1bf-4dd5-ba26-4362b42be7c6')\"\n",
              "            title=\"Convert this dataframe to an interactive table.\"\n",
              "            style=\"display:none;\">\n",
              "\n",
              "  <svg xmlns=\"http://www.w3.org/2000/svg\" height=\"24px\" viewBox=\"0 -960 960 960\">\n",
              "    <path d=\"M120-120v-720h720v720H120Zm60-500h600v-160H180v160Zm220 220h160v-160H400v160Zm0 220h160v-160H400v160ZM180-400h160v-160H180v160Zm440 0h160v-160H620v160ZM180-180h160v-160H180v160Zm440 0h160v-160H620v160Z\"/>\n",
              "  </svg>\n",
              "    </button>\n",
              "\n",
              "  <style>\n",
              "    .colab-df-container {\n",
              "      display:flex;\n",
              "      gap: 12px;\n",
              "    }\n",
              "\n",
              "    .colab-df-convert {\n",
              "      background-color: #E8F0FE;\n",
              "      border: none;\n",
              "      border-radius: 50%;\n",
              "      cursor: pointer;\n",
              "      display: none;\n",
              "      fill: #1967D2;\n",
              "      height: 32px;\n",
              "      padding: 0 0 0 0;\n",
              "      width: 32px;\n",
              "    }\n",
              "\n",
              "    .colab-df-convert:hover {\n",
              "      background-color: #E2EBFA;\n",
              "      box-shadow: 0px 1px 2px rgba(60, 64, 67, 0.3), 0px 1px 3px 1px rgba(60, 64, 67, 0.15);\n",
              "      fill: #174EA6;\n",
              "    }\n",
              "\n",
              "    .colab-df-buttons div {\n",
              "      margin-bottom: 4px;\n",
              "    }\n",
              "\n",
              "    [theme=dark] .colab-df-convert {\n",
              "      background-color: #3B4455;\n",
              "      fill: #D2E3FC;\n",
              "    }\n",
              "\n",
              "    [theme=dark] .colab-df-convert:hover {\n",
              "      background-color: #434B5C;\n",
              "      box-shadow: 0px 1px 3px 1px rgba(0, 0, 0, 0.15);\n",
              "      filter: drop-shadow(0px 1px 2px rgba(0, 0, 0, 0.3));\n",
              "      fill: #FFFFFF;\n",
              "    }\n",
              "  </style>\n",
              "\n",
              "    <script>\n",
              "      const buttonEl =\n",
              "        document.querySelector('#df-8cbc627e-c1bf-4dd5-ba26-4362b42be7c6 button.colab-df-convert');\n",
              "      buttonEl.style.display =\n",
              "        google.colab.kernel.accessAllowed ? 'block' : 'none';\n",
              "\n",
              "      async function convertToInteractive(key) {\n",
              "        const element = document.querySelector('#df-8cbc627e-c1bf-4dd5-ba26-4362b42be7c6');\n",
              "        const dataTable =\n",
              "          await google.colab.kernel.invokeFunction('convertToInteractive',\n",
              "                                                    [key], {});\n",
              "        if (!dataTable) return;\n",
              "\n",
              "        const docLinkHtml = 'Like what you see? Visit the ' +\n",
              "          '<a target=\"_blank\" href=https://colab.research.google.com/notebooks/data_table.ipynb>data table notebook</a>'\n",
              "          + ' to learn more about interactive tables.';\n",
              "        element.innerHTML = '';\n",
              "        dataTable['output_type'] = 'display_data';\n",
              "        await google.colab.output.renderOutput(dataTable, element);\n",
              "        const docLink = document.createElement('div');\n",
              "        docLink.innerHTML = docLinkHtml;\n",
              "        element.appendChild(docLink);\n",
              "      }\n",
              "    </script>\n",
              "  </div>\n",
              "\n",
              "\n",
              "<div id=\"df-4fabce51-daab-4c83-9122-206156603ad9\">\n",
              "  <button class=\"colab-df-quickchart\" onclick=\"quickchart('df-4fabce51-daab-4c83-9122-206156603ad9')\"\n",
              "            title=\"Suggest charts\"\n",
              "            style=\"display:none;\">\n",
              "\n",
              "<svg xmlns=\"http://www.w3.org/2000/svg\" height=\"24px\"viewBox=\"0 0 24 24\"\n",
              "     width=\"24px\">\n",
              "    <g>\n",
              "        <path d=\"M19 3H5c-1.1 0-2 .9-2 2v14c0 1.1.9 2 2 2h14c1.1 0 2-.9 2-2V5c0-1.1-.9-2-2-2zM9 17H7v-7h2v7zm4 0h-2V7h2v10zm4 0h-2v-4h2v4z\"/>\n",
              "    </g>\n",
              "</svg>\n",
              "  </button>\n",
              "\n",
              "<style>\n",
              "  .colab-df-quickchart {\n",
              "      --bg-color: #E8F0FE;\n",
              "      --fill-color: #1967D2;\n",
              "      --hover-bg-color: #E2EBFA;\n",
              "      --hover-fill-color: #174EA6;\n",
              "      --disabled-fill-color: #AAA;\n",
              "      --disabled-bg-color: #DDD;\n",
              "  }\n",
              "\n",
              "  [theme=dark] .colab-df-quickchart {\n",
              "      --bg-color: #3B4455;\n",
              "      --fill-color: #D2E3FC;\n",
              "      --hover-bg-color: #434B5C;\n",
              "      --hover-fill-color: #FFFFFF;\n",
              "      --disabled-bg-color: #3B4455;\n",
              "      --disabled-fill-color: #666;\n",
              "  }\n",
              "\n",
              "  .colab-df-quickchart {\n",
              "    background-color: var(--bg-color);\n",
              "    border: none;\n",
              "    border-radius: 50%;\n",
              "    cursor: pointer;\n",
              "    display: none;\n",
              "    fill: var(--fill-color);\n",
              "    height: 32px;\n",
              "    padding: 0;\n",
              "    width: 32px;\n",
              "  }\n",
              "\n",
              "  .colab-df-quickchart:hover {\n",
              "    background-color: var(--hover-bg-color);\n",
              "    box-shadow: 0 1px 2px rgba(60, 64, 67, 0.3), 0 1px 3px 1px rgba(60, 64, 67, 0.15);\n",
              "    fill: var(--button-hover-fill-color);\n",
              "  }\n",
              "\n",
              "  .colab-df-quickchart-complete:disabled,\n",
              "  .colab-df-quickchart-complete:disabled:hover {\n",
              "    background-color: var(--disabled-bg-color);\n",
              "    fill: var(--disabled-fill-color);\n",
              "    box-shadow: none;\n",
              "  }\n",
              "\n",
              "  .colab-df-spinner {\n",
              "    border: 2px solid var(--fill-color);\n",
              "    border-color: transparent;\n",
              "    border-bottom-color: var(--fill-color);\n",
              "    animation:\n",
              "      spin 1s steps(1) infinite;\n",
              "  }\n",
              "\n",
              "  @keyframes spin {\n",
              "    0% {\n",
              "      border-color: transparent;\n",
              "      border-bottom-color: var(--fill-color);\n",
              "      border-left-color: var(--fill-color);\n",
              "    }\n",
              "    20% {\n",
              "      border-color: transparent;\n",
              "      border-left-color: var(--fill-color);\n",
              "      border-top-color: var(--fill-color);\n",
              "    }\n",
              "    30% {\n",
              "      border-color: transparent;\n",
              "      border-left-color: var(--fill-color);\n",
              "      border-top-color: var(--fill-color);\n",
              "      border-right-color: var(--fill-color);\n",
              "    }\n",
              "    40% {\n",
              "      border-color: transparent;\n",
              "      border-right-color: var(--fill-color);\n",
              "      border-top-color: var(--fill-color);\n",
              "    }\n",
              "    60% {\n",
              "      border-color: transparent;\n",
              "      border-right-color: var(--fill-color);\n",
              "    }\n",
              "    80% {\n",
              "      border-color: transparent;\n",
              "      border-right-color: var(--fill-color);\n",
              "      border-bottom-color: var(--fill-color);\n",
              "    }\n",
              "    90% {\n",
              "      border-color: transparent;\n",
              "      border-bottom-color: var(--fill-color);\n",
              "    }\n",
              "  }\n",
              "</style>\n",
              "\n",
              "  <script>\n",
              "    async function quickchart(key) {\n",
              "      const quickchartButtonEl =\n",
              "        document.querySelector('#' + key + ' button');\n",
              "      quickchartButtonEl.disabled = true;  // To prevent multiple clicks.\n",
              "      quickchartButtonEl.classList.add('colab-df-spinner');\n",
              "      try {\n",
              "        const charts = await google.colab.kernel.invokeFunction(\n",
              "            'suggestCharts', [key], {});\n",
              "      } catch (error) {\n",
              "        console.error('Error during call to suggestCharts:', error);\n",
              "      }\n",
              "      quickchartButtonEl.classList.remove('colab-df-spinner');\n",
              "      quickchartButtonEl.classList.add('colab-df-quickchart-complete');\n",
              "    }\n",
              "    (() => {\n",
              "      let quickchartButtonEl =\n",
              "        document.querySelector('#df-4fabce51-daab-4c83-9122-206156603ad9 button');\n",
              "      quickchartButtonEl.style.display =\n",
              "        google.colab.kernel.accessAllowed ? 'block' : 'none';\n",
              "    })();\n",
              "  </script>\n",
              "</div>\n",
              "\n",
              "    </div>\n",
              "  </div>\n"
            ],
            "application/vnd.google.colaboratory.intrinsic+json": {
              "type": "dataframe",
              "summary": "{\n  \"name\": \"df\",\n  \"rows\": 2,\n  \"fields\": [\n    {\n      \"column\": \"count\",\n      \"properties\": {\n        \"dtype\": \"number\",\n        \"std\": 0.0,\n        \"min\": 7507.0,\n        \"max\": 7507.0,\n        \"num_unique_values\": 1,\n        \"samples\": [\n          7507.0\n        ],\n        \"semantic_type\": \"\",\n        \"description\": \"\"\n      }\n    },\n    {\n      \"column\": \"mean\",\n      \"properties\": {\n        \"dtype\": \"number\",\n        \"std\": 1375.322689407835,\n        \"min\": 49.61076328759824,\n        \"max\": 1994.6107632875983,\n        \"num_unique_values\": 2,\n        \"samples\": [\n          1994.6107632875983\n        ],\n        \"semantic_type\": \"\",\n        \"description\": \"\"\n      }\n    },\n    {\n      \"column\": \"std\",\n      \"properties\": {\n        \"dtype\": \"number\",\n        \"std\": 0.0,\n        \"min\": 12.892154743113053,\n        \"max\": 12.892154743113053,\n        \"num_unique_values\": 1,\n        \"samples\": [\n          12.892154743113053\n        ],\n        \"semantic_type\": \"\",\n        \"description\": \"\"\n      }\n    },\n    {\n      \"column\": \"min\",\n      \"properties\": {\n        \"dtype\": \"number\",\n        \"std\": 1375.322689407835,\n        \"min\": 25.0,\n        \"max\": 1970.0,\n        \"num_unique_values\": 2,\n        \"samples\": [\n          1970.0\n        ],\n        \"semantic_type\": \"\",\n        \"description\": \"\"\n      }\n    },\n    {\n      \"column\": \"25%\",\n      \"properties\": {\n        \"dtype\": \"number\",\n        \"std\": 1375.322689407835,\n        \"min\": 39.0,\n        \"max\": 1984.0,\n        \"num_unique_values\": 2,\n        \"samples\": [\n          1984.0\n        ],\n        \"semantic_type\": \"\",\n        \"description\": \"\"\n      }\n    },\n    {\n      \"column\": \"50%\",\n      \"properties\": {\n        \"dtype\": \"number\",\n        \"std\": 1375.322689407835,\n        \"min\": 51.0,\n        \"max\": 1996.0,\n        \"num_unique_values\": 2,\n        \"samples\": [\n          1996.0\n        ],\n        \"semantic_type\": \"\",\n        \"description\": \"\"\n      }\n    },\n    {\n      \"column\": \"75%\",\n      \"properties\": {\n        \"dtype\": \"number\",\n        \"std\": 1375.322689407835,\n        \"min\": 61.0,\n        \"max\": 2006.0,\n        \"num_unique_values\": 2,\n        \"samples\": [\n          2006.0\n        ],\n        \"semantic_type\": \"\",\n        \"description\": \"\"\n      }\n    },\n    {\n      \"column\": \"max\",\n      \"properties\": {\n        \"dtype\": \"number\",\n        \"std\": 1375.322689407835,\n        \"min\": 70.0,\n        \"max\": 2015.0,\n        \"num_unique_values\": 2,\n        \"samples\": [\n          2015.0\n        ],\n        \"semantic_type\": \"\",\n        \"description\": \"\"\n      }\n    }\n  ]\n}"
            }
          },
          "metadata": {},
          "execution_count": 7
        },
        {
          "output_type": "stream",
          "name": "stdout",
          "text": [
            "time: 44.5 ms (started: 2025-03-10 21:30:18 +00:00)\n"
          ]
        }
      ],
      "source": [
        "df.describe().T"
      ]
    },
    {
      "cell_type": "markdown",
      "metadata": {
        "id": "LZ7son939SQJ"
      },
      "source": [
        "#### 🚧 todo:\n",
        "- explain\n",
        "\t- why only two rows?\n",
        "\t- the strange row above and the values you find. Look into the data!\n",
        "\n",
        "answers:\n"
      ]
    },
    {
      "cell_type": "markdown",
      "source": [
        "1) describe() works on only numerical values and in our dataset we have only two float rows <br>\n",
        "2)\n"
      ],
      "metadata": {
        "id": "4T9QTXyW9_Cn"
      }
    },
    {
      "cell_type": "code",
      "execution_count": 10,
      "metadata": {
        "id": "ha-HMA839SQJ",
        "outputId": "d822fb2b-e9d9-414b-ead2-70bd836b8b59",
        "colab": {
          "base_uri": "https://localhost:8080/"
        }
      },
      "outputs": [
        {
          "output_type": "stream",
          "name": "stdout",
          "text": [
            "<class 'pandas.core.frame.DataFrame'>\n",
            "RangeIndex: 7508 entries, 0 to 7507\n",
            "Data columns (total 7 columns):\n",
            " #   Column                            Non-Null Count  Dtype  \n",
            "---  ------                            --------------  -----  \n",
            " 0   un-general-debates-blueprint.csv  7507 non-null   float64\n",
            " 1   year                              7507 non-null   float64\n",
            " 2   country                           7507 non-null   object \n",
            " 3   country_name                      7507 non-null   object \n",
            " 4   speaker                           7480 non-null   object \n",
            " 5   position                          4502 non-null   object \n",
            " 6   text                              7507 non-null   object \n",
            "dtypes: float64(2), object(5)\n",
            "memory usage: 232.4 MB\n",
            "time: 37.8 ms (started: 2025-03-10 22:03:52 +00:00)\n"
          ]
        }
      ],
      "source": [
        "df.info(memory_usage='deep')\n",
        "# check the total memory usage compared to the original file size"
      ]
    },
    {
      "cell_type": "markdown",
      "metadata": {
        "id": "JpbaJzRO9SQJ"
      },
      "source": [
        "## Adding length columns, describing the dataframe"
      ]
    },
    {
      "cell_type": "code",
      "execution_count": 11,
      "metadata": {
        "id": "CRKYyXFf9SQJ",
        "outputId": "21291146-2d43-4080-9cf0-09da711b7127",
        "colab": {
          "base_uri": "https://localhost:8080/",
          "height": 161
        }
      },
      "outputs": [
        {
          "output_type": "execute_result",
          "data": {
            "text/plain": [
              "                                   count          mean          std     min  \\\n",
              "un-general-debates-blueprint.csv  7507.0     49.610763    12.892155    25.0   \n",
              "year                              7507.0   1994.610763    12.892155  1970.0   \n",
              "nb_chars                          7507.0  17967.281604  7860.038463  2362.0   \n",
              "\n",
              "                                      25%      50%      75%      max  \n",
              "un-general-debates-blueprint.csv     39.0     51.0     61.0     70.0  \n",
              "year                               1984.0   1996.0   2006.0   2015.0  \n",
              "nb_chars                          12077.0  16424.0  22479.5  72041.0  "
            ],
            "text/html": [
              "\n",
              "  <div id=\"df-bada8bb3-174d-4a17-821a-e5773f62ab99\" class=\"colab-df-container\">\n",
              "    <div>\n",
              "<style scoped>\n",
              "    .dataframe tbody tr th:only-of-type {\n",
              "        vertical-align: middle;\n",
              "    }\n",
              "\n",
              "    .dataframe tbody tr th {\n",
              "        vertical-align: top;\n",
              "    }\n",
              "\n",
              "    .dataframe thead th {\n",
              "        text-align: right;\n",
              "    }\n",
              "</style>\n",
              "<table border=\"1\" class=\"dataframe\">\n",
              "  <thead>\n",
              "    <tr style=\"text-align: right;\">\n",
              "      <th></th>\n",
              "      <th>count</th>\n",
              "      <th>mean</th>\n",
              "      <th>std</th>\n",
              "      <th>min</th>\n",
              "      <th>25%</th>\n",
              "      <th>50%</th>\n",
              "      <th>75%</th>\n",
              "      <th>max</th>\n",
              "    </tr>\n",
              "  </thead>\n",
              "  <tbody>\n",
              "    <tr>\n",
              "      <th>un-general-debates-blueprint.csv</th>\n",
              "      <td>7507.0</td>\n",
              "      <td>49.610763</td>\n",
              "      <td>12.892155</td>\n",
              "      <td>25.0</td>\n",
              "      <td>39.0</td>\n",
              "      <td>51.0</td>\n",
              "      <td>61.0</td>\n",
              "      <td>70.0</td>\n",
              "    </tr>\n",
              "    <tr>\n",
              "      <th>year</th>\n",
              "      <td>7507.0</td>\n",
              "      <td>1994.610763</td>\n",
              "      <td>12.892155</td>\n",
              "      <td>1970.0</td>\n",
              "      <td>1984.0</td>\n",
              "      <td>1996.0</td>\n",
              "      <td>2006.0</td>\n",
              "      <td>2015.0</td>\n",
              "    </tr>\n",
              "    <tr>\n",
              "      <th>nb_chars</th>\n",
              "      <td>7507.0</td>\n",
              "      <td>17967.281604</td>\n",
              "      <td>7860.038463</td>\n",
              "      <td>2362.0</td>\n",
              "      <td>12077.0</td>\n",
              "      <td>16424.0</td>\n",
              "      <td>22479.5</td>\n",
              "      <td>72041.0</td>\n",
              "    </tr>\n",
              "  </tbody>\n",
              "</table>\n",
              "</div>\n",
              "    <div class=\"colab-df-buttons\">\n",
              "\n",
              "  <div class=\"colab-df-container\">\n",
              "    <button class=\"colab-df-convert\" onclick=\"convertToInteractive('df-bada8bb3-174d-4a17-821a-e5773f62ab99')\"\n",
              "            title=\"Convert this dataframe to an interactive table.\"\n",
              "            style=\"display:none;\">\n",
              "\n",
              "  <svg xmlns=\"http://www.w3.org/2000/svg\" height=\"24px\" viewBox=\"0 -960 960 960\">\n",
              "    <path d=\"M120-120v-720h720v720H120Zm60-500h600v-160H180v160Zm220 220h160v-160H400v160Zm0 220h160v-160H400v160ZM180-400h160v-160H180v160Zm440 0h160v-160H620v160ZM180-180h160v-160H180v160Zm440 0h160v-160H620v160Z\"/>\n",
              "  </svg>\n",
              "    </button>\n",
              "\n",
              "  <style>\n",
              "    .colab-df-container {\n",
              "      display:flex;\n",
              "      gap: 12px;\n",
              "    }\n",
              "\n",
              "    .colab-df-convert {\n",
              "      background-color: #E8F0FE;\n",
              "      border: none;\n",
              "      border-radius: 50%;\n",
              "      cursor: pointer;\n",
              "      display: none;\n",
              "      fill: #1967D2;\n",
              "      height: 32px;\n",
              "      padding: 0 0 0 0;\n",
              "      width: 32px;\n",
              "    }\n",
              "\n",
              "    .colab-df-convert:hover {\n",
              "      background-color: #E2EBFA;\n",
              "      box-shadow: 0px 1px 2px rgba(60, 64, 67, 0.3), 0px 1px 3px 1px rgba(60, 64, 67, 0.15);\n",
              "      fill: #174EA6;\n",
              "    }\n",
              "\n",
              "    .colab-df-buttons div {\n",
              "      margin-bottom: 4px;\n",
              "    }\n",
              "\n",
              "    [theme=dark] .colab-df-convert {\n",
              "      background-color: #3B4455;\n",
              "      fill: #D2E3FC;\n",
              "    }\n",
              "\n",
              "    [theme=dark] .colab-df-convert:hover {\n",
              "      background-color: #434B5C;\n",
              "      box-shadow: 0px 1px 3px 1px rgba(0, 0, 0, 0.15);\n",
              "      filter: drop-shadow(0px 1px 2px rgba(0, 0, 0, 0.3));\n",
              "      fill: #FFFFFF;\n",
              "    }\n",
              "  </style>\n",
              "\n",
              "    <script>\n",
              "      const buttonEl =\n",
              "        document.querySelector('#df-bada8bb3-174d-4a17-821a-e5773f62ab99 button.colab-df-convert');\n",
              "      buttonEl.style.display =\n",
              "        google.colab.kernel.accessAllowed ? 'block' : 'none';\n",
              "\n",
              "      async function convertToInteractive(key) {\n",
              "        const element = document.querySelector('#df-bada8bb3-174d-4a17-821a-e5773f62ab99');\n",
              "        const dataTable =\n",
              "          await google.colab.kernel.invokeFunction('convertToInteractive',\n",
              "                                                    [key], {});\n",
              "        if (!dataTable) return;\n",
              "\n",
              "        const docLinkHtml = 'Like what you see? Visit the ' +\n",
              "          '<a target=\"_blank\" href=https://colab.research.google.com/notebooks/data_table.ipynb>data table notebook</a>'\n",
              "          + ' to learn more about interactive tables.';\n",
              "        element.innerHTML = '';\n",
              "        dataTable['output_type'] = 'display_data';\n",
              "        await google.colab.output.renderOutput(dataTable, element);\n",
              "        const docLink = document.createElement('div');\n",
              "        docLink.innerHTML = docLinkHtml;\n",
              "        element.appendChild(docLink);\n",
              "      }\n",
              "    </script>\n",
              "  </div>\n",
              "\n",
              "\n",
              "<div id=\"df-b83c020a-7591-4f0c-9c00-2f1569236fc7\">\n",
              "  <button class=\"colab-df-quickchart\" onclick=\"quickchart('df-b83c020a-7591-4f0c-9c00-2f1569236fc7')\"\n",
              "            title=\"Suggest charts\"\n",
              "            style=\"display:none;\">\n",
              "\n",
              "<svg xmlns=\"http://www.w3.org/2000/svg\" height=\"24px\"viewBox=\"0 0 24 24\"\n",
              "     width=\"24px\">\n",
              "    <g>\n",
              "        <path d=\"M19 3H5c-1.1 0-2 .9-2 2v14c0 1.1.9 2 2 2h14c1.1 0 2-.9 2-2V5c0-1.1-.9-2-2-2zM9 17H7v-7h2v7zm4 0h-2V7h2v10zm4 0h-2v-4h2v4z\"/>\n",
              "    </g>\n",
              "</svg>\n",
              "  </button>\n",
              "\n",
              "<style>\n",
              "  .colab-df-quickchart {\n",
              "      --bg-color: #E8F0FE;\n",
              "      --fill-color: #1967D2;\n",
              "      --hover-bg-color: #E2EBFA;\n",
              "      --hover-fill-color: #174EA6;\n",
              "      --disabled-fill-color: #AAA;\n",
              "      --disabled-bg-color: #DDD;\n",
              "  }\n",
              "\n",
              "  [theme=dark] .colab-df-quickchart {\n",
              "      --bg-color: #3B4455;\n",
              "      --fill-color: #D2E3FC;\n",
              "      --hover-bg-color: #434B5C;\n",
              "      --hover-fill-color: #FFFFFF;\n",
              "      --disabled-bg-color: #3B4455;\n",
              "      --disabled-fill-color: #666;\n",
              "  }\n",
              "\n",
              "  .colab-df-quickchart {\n",
              "    background-color: var(--bg-color);\n",
              "    border: none;\n",
              "    border-radius: 50%;\n",
              "    cursor: pointer;\n",
              "    display: none;\n",
              "    fill: var(--fill-color);\n",
              "    height: 32px;\n",
              "    padding: 0;\n",
              "    width: 32px;\n",
              "  }\n",
              "\n",
              "  .colab-df-quickchart:hover {\n",
              "    background-color: var(--hover-bg-color);\n",
              "    box-shadow: 0 1px 2px rgba(60, 64, 67, 0.3), 0 1px 3px 1px rgba(60, 64, 67, 0.15);\n",
              "    fill: var(--button-hover-fill-color);\n",
              "  }\n",
              "\n",
              "  .colab-df-quickchart-complete:disabled,\n",
              "  .colab-df-quickchart-complete:disabled:hover {\n",
              "    background-color: var(--disabled-bg-color);\n",
              "    fill: var(--disabled-fill-color);\n",
              "    box-shadow: none;\n",
              "  }\n",
              "\n",
              "  .colab-df-spinner {\n",
              "    border: 2px solid var(--fill-color);\n",
              "    border-color: transparent;\n",
              "    border-bottom-color: var(--fill-color);\n",
              "    animation:\n",
              "      spin 1s steps(1) infinite;\n",
              "  }\n",
              "\n",
              "  @keyframes spin {\n",
              "    0% {\n",
              "      border-color: transparent;\n",
              "      border-bottom-color: var(--fill-color);\n",
              "      border-left-color: var(--fill-color);\n",
              "    }\n",
              "    20% {\n",
              "      border-color: transparent;\n",
              "      border-left-color: var(--fill-color);\n",
              "      border-top-color: var(--fill-color);\n",
              "    }\n",
              "    30% {\n",
              "      border-color: transparent;\n",
              "      border-left-color: var(--fill-color);\n",
              "      border-top-color: var(--fill-color);\n",
              "      border-right-color: var(--fill-color);\n",
              "    }\n",
              "    40% {\n",
              "      border-color: transparent;\n",
              "      border-right-color: var(--fill-color);\n",
              "      border-top-color: var(--fill-color);\n",
              "    }\n",
              "    60% {\n",
              "      border-color: transparent;\n",
              "      border-right-color: var(--fill-color);\n",
              "    }\n",
              "    80% {\n",
              "      border-color: transparent;\n",
              "      border-right-color: var(--fill-color);\n",
              "      border-bottom-color: var(--fill-color);\n",
              "    }\n",
              "    90% {\n",
              "      border-color: transparent;\n",
              "      border-bottom-color: var(--fill-color);\n",
              "    }\n",
              "  }\n",
              "</style>\n",
              "\n",
              "  <script>\n",
              "    async function quickchart(key) {\n",
              "      const quickchartButtonEl =\n",
              "        document.querySelector('#' + key + ' button');\n",
              "      quickchartButtonEl.disabled = true;  // To prevent multiple clicks.\n",
              "      quickchartButtonEl.classList.add('colab-df-spinner');\n",
              "      try {\n",
              "        const charts = await google.colab.kernel.invokeFunction(\n",
              "            'suggestCharts', [key], {});\n",
              "      } catch (error) {\n",
              "        console.error('Error during call to suggestCharts:', error);\n",
              "      }\n",
              "      quickchartButtonEl.classList.remove('colab-df-spinner');\n",
              "      quickchartButtonEl.classList.add('colab-df-quickchart-complete');\n",
              "    }\n",
              "    (() => {\n",
              "      let quickchartButtonEl =\n",
              "        document.querySelector('#df-b83c020a-7591-4f0c-9c00-2f1569236fc7 button');\n",
              "      quickchartButtonEl.style.display =\n",
              "        google.colab.kernel.accessAllowed ? 'block' : 'none';\n",
              "    })();\n",
              "  </script>\n",
              "</div>\n",
              "\n",
              "    </div>\n",
              "  </div>\n"
            ],
            "application/vnd.google.colaboratory.intrinsic+json": {
              "type": "dataframe",
              "summary": "{\n  \"name\": \"df\",\n  \"rows\": 3,\n  \"fields\": [\n    {\n      \"column\": \"count\",\n      \"properties\": {\n        \"dtype\": \"number\",\n        \"std\": 0.0,\n        \"min\": 7507.0,\n        \"max\": 7507.0,\n        \"num_unique_values\": 1,\n        \"samples\": [\n          7507.0\n        ],\n        \"semantic_type\": \"\",\n        \"description\": \"\"\n      }\n    },\n    {\n      \"column\": \"mean\",\n      \"properties\": {\n        \"dtype\": \"number\",\n        \"std\": 9831.515372606367,\n        \"min\": 49.61076328759824,\n        \"max\": 17967.281603836418,\n        \"num_unique_values\": 3,\n        \"samples\": [\n          49.61076328759824\n        ],\n        \"semantic_type\": \"\",\n        \"description\": \"\"\n      }\n    },\n    {\n      \"column\": \"std\",\n      \"properties\": {\n        \"dtype\": \"number\",\n        \"std\": 4530.5520335699775,\n        \"min\": 12.892154743113053,\n        \"max\": 7860.0384632208115,\n        \"num_unique_values\": 2,\n        \"samples\": [\n          7860.0384632208115\n        ],\n        \"semantic_type\": \"\",\n        \"description\": \"\"\n      }\n    },\n    {\n      \"column\": \"min\",\n      \"properties\": {\n        \"dtype\": \"number\",\n        \"std\": 1251.5495728629103,\n        \"min\": 25.0,\n        \"max\": 2362.0,\n        \"num_unique_values\": 3,\n        \"samples\": [\n          25.0\n        ],\n        \"semantic_type\": \"\",\n        \"description\": \"\"\n      }\n    },\n    {\n      \"column\": \"25%\",\n      \"properties\": {\n        \"dtype\": \"number\",\n        \"std\": 6462.26376744249,\n        \"min\": 39.0,\n        \"max\": 12077.0,\n        \"num_unique_values\": 3,\n        \"samples\": [\n          39.0\n        ],\n        \"semantic_type\": \"\",\n        \"description\": \"\"\n      }\n    },\n    {\n      \"column\": \"50%\",\n      \"properties\": {\n        \"dtype\": \"number\",\n        \"std\": 8944.507979760541,\n        \"min\": 51.0,\n        \"max\": 16424.0,\n        \"num_unique_values\": 3,\n        \"samples\": [\n          51.0\n        ],\n        \"semantic_type\": \"\",\n        \"description\": \"\"\n      }\n    },\n    {\n      \"column\": \"75%\",\n      \"properties\": {\n        \"dtype\": \"number\",\n        \"std\": 12419.98637613316,\n        \"min\": 61.0,\n        \"max\": 22479.5,\n        \"num_unique_values\": 3,\n        \"samples\": [\n          61.0\n        ],\n        \"semantic_type\": \"\",\n        \"description\": \"\"\n      }\n    },\n    {\n      \"column\": \"max\",\n      \"properties\": {\n        \"dtype\": \"number\",\n        \"std\": 41002.537608461906,\n        \"min\": 70.0,\n        \"max\": 72041.0,\n        \"num_unique_values\": 3,\n        \"samples\": [\n          70.0\n        ],\n        \"semantic_type\": \"\",\n        \"description\": \"\"\n      }\n    }\n  ]\n}"
            }
          },
          "metadata": {},
          "execution_count": 11
        },
        {
          "output_type": "stream",
          "name": "stdout",
          "text": [
            "time: 43.4 ms (started: 2025-03-10 22:03:53 +00:00)\n"
          ]
        }
      ],
      "source": [
        "df['nb_chars'] = df['text'].str.len()\n",
        "df.describe().T"
      ]
    },
    {
      "cell_type": "markdown",
      "metadata": {
        "id": "l07BwMRH9SQJ"
      },
      "source": [
        "#### 🚧 todo: estimate the number of words\n",
        "\n",
        "- what's the average word size in English? (Remember HoNLP, that class before the vacation?)\n",
        "- what's the mean, min, and max of estimated wordsize?\n",
        "- suppose that a page 11pt has on average 600 words, what are the values in number of pages?\n",
        "- suppose that on average, an English speaker pronounces 150 words per minute, what are the values for the duration of the speeches?\n"
      ]
    },
    {
      "cell_type": "code",
      "execution_count": 18,
      "metadata": {
        "id": "AoD-wL7O9SQJ",
        "outputId": "11347476-8a60-4f99-833c-6cbbdeada4ed",
        "colab": {
          "base_uri": "https://localhost:8080/"
        }
      },
      "outputs": [
        {
          "output_type": "stream",
          "name": "stdout",
          "text": [
            "The average word size in English is: 4.7 characters\n",
            "Longest, shortest, and average speech in words: 15328, 503, 3823\n",
            "Longest, shortest, and average speech in pages: 25.55, 0.84, 6.37\n",
            "Longest, shortest, and average speech in minutes: 102.19, 3.35, 25.49\n",
            "time: 13.1 ms (started: 2025-03-10 22:47:04 +00:00)\n"
          ]
        }
      ],
      "source": [
        "print(\"The average word size in English is: 4.7 characters\")\n",
        "\n",
        "df[\"nb_words_theoritical\"] = df[\"nb_chars\"] / 4.7  # estimate the number of wordsh\n",
        "df[\"nb_pages\"] = df[\"nb_words_theoritical\"] / 600  # estimate pages\n",
        "df[\"nb_minutes\"] = df[\"nb_words_theoritical\"] / 150  # estimate duration\n",
        "\n",
        "print(f'Longest, shortest, and average speech in words: {df[\"nb_words_theoritical\"].max():.0f}, {df[\"nb_words_theoritical\"].min():.0f}, {df[\"nb_words_theoritical\"].mean():.0f}')\n",
        "print(f'Longest, shortest, and average speech in pages: {df[\"nb_pages\"].max():.2f}, {df[\"nb_pages\"].min():.2f}, {df[\"nb_pages\"].mean():.2f}')\n",
        "print(f'Longest, shortest, and average speech in minutes: {df[\"nb_minutes\"].max():.2f}, {df[\"nb_minutes\"].min():.2f}, {df[\"nb_minutes\"].mean():.2f}')"
      ]
    },
    {
      "cell_type": "markdown",
      "metadata": {
        "id": "LMTJMtkd9SQJ"
      },
      "source": [
        "\n",
        "\n",
        "\n",
        "#### 🚧 todo: add a wordlength column"
      ]
    },
    {
      "cell_type": "code",
      "execution_count": 20,
      "metadata": {
        "id": "hJJGXDDF9SQJ",
        "outputId": "af4cf11a-c3cb-4813-b758-601aa4dbb87b",
        "colab": {
          "base_uri": "https://localhost:8080/",
          "height": 286
        }
      },
      "outputs": [
        {
          "output_type": "execute_result",
          "data": {
            "text/plain": [
              "                                   count          mean          std  \\\n",
              "un-general-debates-blueprint.csv  7507.0     49.610763    12.892155   \n",
              "year                              7507.0   1994.610763    12.892155   \n",
              "nb_chars                          7507.0  17967.281604  7860.038463   \n",
              "nb_words                          7508.0   2865.088306  1278.843737   \n",
              "nb_pages                          7507.0      6.371376     2.787248   \n",
              "nb_minutes                        7507.0     25.485506    11.148991   \n",
              "nb_words_theoritical              7507.0   3822.825873  1672.348609   \n",
              "\n",
              "                                          min           25%           50%  \\\n",
              "un-general-debates-blueprint.csv    25.000000     39.000000     51.000000   \n",
              "year                              1970.000000   1984.000000   1996.000000   \n",
              "nb_chars                          2362.000000  12077.000000  16424.000000   \n",
              "nb_words                             1.000000   1905.000000   2611.000000   \n",
              "nb_pages                             0.837589      4.282624      5.824113   \n",
              "nb_minutes                           3.350355     17.130496     23.296454   \n",
              "nb_words_theoritical               502.553191   2569.574468   3494.468085   \n",
              "\n",
              "                                           75%           max  \n",
              "un-general-debates-blueprint.csv     61.000000     70.000000  \n",
              "year                               2006.000000   2015.000000  \n",
              "nb_chars                          22479.500000  72041.000000  \n",
              "nb_words                           3597.250000  11476.000000  \n",
              "nb_pages                              7.971454     25.546454  \n",
              "nb_minutes                           31.885816    102.185816  \n",
              "nb_words_theoritical               4782.872340  15327.872340  "
            ],
            "text/html": [
              "\n",
              "  <div id=\"df-6d51b1d0-d331-43f7-9a21-8e74c7451bc8\" class=\"colab-df-container\">\n",
              "    <div>\n",
              "<style scoped>\n",
              "    .dataframe tbody tr th:only-of-type {\n",
              "        vertical-align: middle;\n",
              "    }\n",
              "\n",
              "    .dataframe tbody tr th {\n",
              "        vertical-align: top;\n",
              "    }\n",
              "\n",
              "    .dataframe thead th {\n",
              "        text-align: right;\n",
              "    }\n",
              "</style>\n",
              "<table border=\"1\" class=\"dataframe\">\n",
              "  <thead>\n",
              "    <tr style=\"text-align: right;\">\n",
              "      <th></th>\n",
              "      <th>count</th>\n",
              "      <th>mean</th>\n",
              "      <th>std</th>\n",
              "      <th>min</th>\n",
              "      <th>25%</th>\n",
              "      <th>50%</th>\n",
              "      <th>75%</th>\n",
              "      <th>max</th>\n",
              "    </tr>\n",
              "  </thead>\n",
              "  <tbody>\n",
              "    <tr>\n",
              "      <th>un-general-debates-blueprint.csv</th>\n",
              "      <td>7507.0</td>\n",
              "      <td>49.610763</td>\n",
              "      <td>12.892155</td>\n",
              "      <td>25.000000</td>\n",
              "      <td>39.000000</td>\n",
              "      <td>51.000000</td>\n",
              "      <td>61.000000</td>\n",
              "      <td>70.000000</td>\n",
              "    </tr>\n",
              "    <tr>\n",
              "      <th>year</th>\n",
              "      <td>7507.0</td>\n",
              "      <td>1994.610763</td>\n",
              "      <td>12.892155</td>\n",
              "      <td>1970.000000</td>\n",
              "      <td>1984.000000</td>\n",
              "      <td>1996.000000</td>\n",
              "      <td>2006.000000</td>\n",
              "      <td>2015.000000</td>\n",
              "    </tr>\n",
              "    <tr>\n",
              "      <th>nb_chars</th>\n",
              "      <td>7507.0</td>\n",
              "      <td>17967.281604</td>\n",
              "      <td>7860.038463</td>\n",
              "      <td>2362.000000</td>\n",
              "      <td>12077.000000</td>\n",
              "      <td>16424.000000</td>\n",
              "      <td>22479.500000</td>\n",
              "      <td>72041.000000</td>\n",
              "    </tr>\n",
              "    <tr>\n",
              "      <th>nb_words</th>\n",
              "      <td>7508.0</td>\n",
              "      <td>2865.088306</td>\n",
              "      <td>1278.843737</td>\n",
              "      <td>1.000000</td>\n",
              "      <td>1905.000000</td>\n",
              "      <td>2611.000000</td>\n",
              "      <td>3597.250000</td>\n",
              "      <td>11476.000000</td>\n",
              "    </tr>\n",
              "    <tr>\n",
              "      <th>nb_pages</th>\n",
              "      <td>7507.0</td>\n",
              "      <td>6.371376</td>\n",
              "      <td>2.787248</td>\n",
              "      <td>0.837589</td>\n",
              "      <td>4.282624</td>\n",
              "      <td>5.824113</td>\n",
              "      <td>7.971454</td>\n",
              "      <td>25.546454</td>\n",
              "    </tr>\n",
              "    <tr>\n",
              "      <th>nb_minutes</th>\n",
              "      <td>7507.0</td>\n",
              "      <td>25.485506</td>\n",
              "      <td>11.148991</td>\n",
              "      <td>3.350355</td>\n",
              "      <td>17.130496</td>\n",
              "      <td>23.296454</td>\n",
              "      <td>31.885816</td>\n",
              "      <td>102.185816</td>\n",
              "    </tr>\n",
              "    <tr>\n",
              "      <th>nb_words_theoritical</th>\n",
              "      <td>7507.0</td>\n",
              "      <td>3822.825873</td>\n",
              "      <td>1672.348609</td>\n",
              "      <td>502.553191</td>\n",
              "      <td>2569.574468</td>\n",
              "      <td>3494.468085</td>\n",
              "      <td>4782.872340</td>\n",
              "      <td>15327.872340</td>\n",
              "    </tr>\n",
              "  </tbody>\n",
              "</table>\n",
              "</div>\n",
              "    <div class=\"colab-df-buttons\">\n",
              "\n",
              "  <div class=\"colab-df-container\">\n",
              "    <button class=\"colab-df-convert\" onclick=\"convertToInteractive('df-6d51b1d0-d331-43f7-9a21-8e74c7451bc8')\"\n",
              "            title=\"Convert this dataframe to an interactive table.\"\n",
              "            style=\"display:none;\">\n",
              "\n",
              "  <svg xmlns=\"http://www.w3.org/2000/svg\" height=\"24px\" viewBox=\"0 -960 960 960\">\n",
              "    <path d=\"M120-120v-720h720v720H120Zm60-500h600v-160H180v160Zm220 220h160v-160H400v160Zm0 220h160v-160H400v160ZM180-400h160v-160H180v160Zm440 0h160v-160H620v160ZM180-180h160v-160H180v160Zm440 0h160v-160H620v160Z\"/>\n",
              "  </svg>\n",
              "    </button>\n",
              "\n",
              "  <style>\n",
              "    .colab-df-container {\n",
              "      display:flex;\n",
              "      gap: 12px;\n",
              "    }\n",
              "\n",
              "    .colab-df-convert {\n",
              "      background-color: #E8F0FE;\n",
              "      border: none;\n",
              "      border-radius: 50%;\n",
              "      cursor: pointer;\n",
              "      display: none;\n",
              "      fill: #1967D2;\n",
              "      height: 32px;\n",
              "      padding: 0 0 0 0;\n",
              "      width: 32px;\n",
              "    }\n",
              "\n",
              "    .colab-df-convert:hover {\n",
              "      background-color: #E2EBFA;\n",
              "      box-shadow: 0px 1px 2px rgba(60, 64, 67, 0.3), 0px 1px 3px 1px rgba(60, 64, 67, 0.15);\n",
              "      fill: #174EA6;\n",
              "    }\n",
              "\n",
              "    .colab-df-buttons div {\n",
              "      margin-bottom: 4px;\n",
              "    }\n",
              "\n",
              "    [theme=dark] .colab-df-convert {\n",
              "      background-color: #3B4455;\n",
              "      fill: #D2E3FC;\n",
              "    }\n",
              "\n",
              "    [theme=dark] .colab-df-convert:hover {\n",
              "      background-color: #434B5C;\n",
              "      box-shadow: 0px 1px 3px 1px rgba(0, 0, 0, 0.15);\n",
              "      filter: drop-shadow(0px 1px 2px rgba(0, 0, 0, 0.3));\n",
              "      fill: #FFFFFF;\n",
              "    }\n",
              "  </style>\n",
              "\n",
              "    <script>\n",
              "      const buttonEl =\n",
              "        document.querySelector('#df-6d51b1d0-d331-43f7-9a21-8e74c7451bc8 button.colab-df-convert');\n",
              "      buttonEl.style.display =\n",
              "        google.colab.kernel.accessAllowed ? 'block' : 'none';\n",
              "\n",
              "      async function convertToInteractive(key) {\n",
              "        const element = document.querySelector('#df-6d51b1d0-d331-43f7-9a21-8e74c7451bc8');\n",
              "        const dataTable =\n",
              "          await google.colab.kernel.invokeFunction('convertToInteractive',\n",
              "                                                    [key], {});\n",
              "        if (!dataTable) return;\n",
              "\n",
              "        const docLinkHtml = 'Like what you see? Visit the ' +\n",
              "          '<a target=\"_blank\" href=https://colab.research.google.com/notebooks/data_table.ipynb>data table notebook</a>'\n",
              "          + ' to learn more about interactive tables.';\n",
              "        element.innerHTML = '';\n",
              "        dataTable['output_type'] = 'display_data';\n",
              "        await google.colab.output.renderOutput(dataTable, element);\n",
              "        const docLink = document.createElement('div');\n",
              "        docLink.innerHTML = docLinkHtml;\n",
              "        element.appendChild(docLink);\n",
              "      }\n",
              "    </script>\n",
              "  </div>\n",
              "\n",
              "\n",
              "<div id=\"df-c47245f5-73d0-4673-8557-44a9a6d6309c\">\n",
              "  <button class=\"colab-df-quickchart\" onclick=\"quickchart('df-c47245f5-73d0-4673-8557-44a9a6d6309c')\"\n",
              "            title=\"Suggest charts\"\n",
              "            style=\"display:none;\">\n",
              "\n",
              "<svg xmlns=\"http://www.w3.org/2000/svg\" height=\"24px\"viewBox=\"0 0 24 24\"\n",
              "     width=\"24px\">\n",
              "    <g>\n",
              "        <path d=\"M19 3H5c-1.1 0-2 .9-2 2v14c0 1.1.9 2 2 2h14c1.1 0 2-.9 2-2V5c0-1.1-.9-2-2-2zM9 17H7v-7h2v7zm4 0h-2V7h2v10zm4 0h-2v-4h2v4z\"/>\n",
              "    </g>\n",
              "</svg>\n",
              "  </button>\n",
              "\n",
              "<style>\n",
              "  .colab-df-quickchart {\n",
              "      --bg-color: #E8F0FE;\n",
              "      --fill-color: #1967D2;\n",
              "      --hover-bg-color: #E2EBFA;\n",
              "      --hover-fill-color: #174EA6;\n",
              "      --disabled-fill-color: #AAA;\n",
              "      --disabled-bg-color: #DDD;\n",
              "  }\n",
              "\n",
              "  [theme=dark] .colab-df-quickchart {\n",
              "      --bg-color: #3B4455;\n",
              "      --fill-color: #D2E3FC;\n",
              "      --hover-bg-color: #434B5C;\n",
              "      --hover-fill-color: #FFFFFF;\n",
              "      --disabled-bg-color: #3B4455;\n",
              "      --disabled-fill-color: #666;\n",
              "  }\n",
              "\n",
              "  .colab-df-quickchart {\n",
              "    background-color: var(--bg-color);\n",
              "    border: none;\n",
              "    border-radius: 50%;\n",
              "    cursor: pointer;\n",
              "    display: none;\n",
              "    fill: var(--fill-color);\n",
              "    height: 32px;\n",
              "    padding: 0;\n",
              "    width: 32px;\n",
              "  }\n",
              "\n",
              "  .colab-df-quickchart:hover {\n",
              "    background-color: var(--hover-bg-color);\n",
              "    box-shadow: 0 1px 2px rgba(60, 64, 67, 0.3), 0 1px 3px 1px rgba(60, 64, 67, 0.15);\n",
              "    fill: var(--button-hover-fill-color);\n",
              "  }\n",
              "\n",
              "  .colab-df-quickchart-complete:disabled,\n",
              "  .colab-df-quickchart-complete:disabled:hover {\n",
              "    background-color: var(--disabled-bg-color);\n",
              "    fill: var(--disabled-fill-color);\n",
              "    box-shadow: none;\n",
              "  }\n",
              "\n",
              "  .colab-df-spinner {\n",
              "    border: 2px solid var(--fill-color);\n",
              "    border-color: transparent;\n",
              "    border-bottom-color: var(--fill-color);\n",
              "    animation:\n",
              "      spin 1s steps(1) infinite;\n",
              "  }\n",
              "\n",
              "  @keyframes spin {\n",
              "    0% {\n",
              "      border-color: transparent;\n",
              "      border-bottom-color: var(--fill-color);\n",
              "      border-left-color: var(--fill-color);\n",
              "    }\n",
              "    20% {\n",
              "      border-color: transparent;\n",
              "      border-left-color: var(--fill-color);\n",
              "      border-top-color: var(--fill-color);\n",
              "    }\n",
              "    30% {\n",
              "      border-color: transparent;\n",
              "      border-left-color: var(--fill-color);\n",
              "      border-top-color: var(--fill-color);\n",
              "      border-right-color: var(--fill-color);\n",
              "    }\n",
              "    40% {\n",
              "      border-color: transparent;\n",
              "      border-right-color: var(--fill-color);\n",
              "      border-top-color: var(--fill-color);\n",
              "    }\n",
              "    60% {\n",
              "      border-color: transparent;\n",
              "      border-right-color: var(--fill-color);\n",
              "    }\n",
              "    80% {\n",
              "      border-color: transparent;\n",
              "      border-right-color: var(--fill-color);\n",
              "      border-bottom-color: var(--fill-color);\n",
              "    }\n",
              "    90% {\n",
              "      border-color: transparent;\n",
              "      border-bottom-color: var(--fill-color);\n",
              "    }\n",
              "  }\n",
              "</style>\n",
              "\n",
              "  <script>\n",
              "    async function quickchart(key) {\n",
              "      const quickchartButtonEl =\n",
              "        document.querySelector('#' + key + ' button');\n",
              "      quickchartButtonEl.disabled = true;  // To prevent multiple clicks.\n",
              "      quickchartButtonEl.classList.add('colab-df-spinner');\n",
              "      try {\n",
              "        const charts = await google.colab.kernel.invokeFunction(\n",
              "            'suggestCharts', [key], {});\n",
              "      } catch (error) {\n",
              "        console.error('Error during call to suggestCharts:', error);\n",
              "      }\n",
              "      quickchartButtonEl.classList.remove('colab-df-spinner');\n",
              "      quickchartButtonEl.classList.add('colab-df-quickchart-complete');\n",
              "    }\n",
              "    (() => {\n",
              "      let quickchartButtonEl =\n",
              "        document.querySelector('#df-c47245f5-73d0-4673-8557-44a9a6d6309c button');\n",
              "      quickchartButtonEl.style.display =\n",
              "        google.colab.kernel.accessAllowed ? 'block' : 'none';\n",
              "    })();\n",
              "  </script>\n",
              "</div>\n",
              "\n",
              "    </div>\n",
              "  </div>\n"
            ],
            "application/vnd.google.colaboratory.intrinsic+json": {
              "type": "dataframe",
              "summary": "{\n  \"name\": \"df\",\n  \"rows\": 7,\n  \"fields\": [\n    {\n      \"column\": \"count\",\n      \"properties\": {\n        \"dtype\": \"number\",\n        \"std\": 0.3779644730092272,\n        \"min\": 7507.0,\n        \"max\": 7508.0,\n        \"num_unique_values\": 2,\n        \"samples\": [\n          7508.0,\n          7507.0\n        ],\n        \"semantic_type\": \"\",\n        \"description\": \"\"\n      }\n    },\n    {\n      \"column\": \"mean\",\n      \"properties\": {\n        \"dtype\": \"number\",\n        \"std\": 6423.2314636934025,\n        \"min\": 6.371376455261141,\n        \"max\": 17967.281603836418,\n        \"num_unique_values\": 7,\n        \"samples\": [\n          49.61076328759824,\n          1994.6107632875983\n        ],\n        \"semantic_type\": \"\",\n        \"description\": \"\"\n      }\n    },\n    {\n      \"column\": \"std\",\n      \"properties\": {\n        \"dtype\": \"number\",\n        \"std\": 2869.158150775504,\n        \"min\": 2.787247681993194,\n        \"max\": 7860.0384632208115,\n        \"num_unique_values\": 6,\n        \"samples\": [\n          12.892154743113053,\n          7860.0384632208115\n        ],\n        \"semantic_type\": \"\",\n        \"description\": \"\"\n      }\n    },\n    {\n      \"column\": \"min\",\n      \"properties\": {\n        \"dtype\": \"number\",\n        \"std\": 1027.3206615454358,\n        \"min\": 0.8375886524822694,\n        \"max\": 2362.0,\n        \"num_unique_values\": 7,\n        \"samples\": [\n          25.0,\n          1970.0\n        ],\n        \"semantic_type\": \"\",\n        \"description\": \"\"\n      }\n    },\n    {\n      \"column\": \"25%\",\n      \"properties\": {\n        \"dtype\": \"number\",\n        \"std\": 4293.837044713796,\n        \"min\": 4.282624113475177,\n        \"max\": 12077.0,\n        \"num_unique_values\": 7,\n        \"samples\": [\n          39.0,\n          1984.0\n        ],\n        \"semantic_type\": \"\",\n        \"description\": \"\"\n      }\n    },\n    {\n      \"column\": \"50%\",\n      \"properties\": {\n        \"dtype\": \"number\",\n        \"std\": 5863.344957821106,\n        \"min\": 5.824113475177304,\n        \"max\": 16424.0,\n        \"num_unique_values\": 7,\n        \"samples\": [\n          51.0,\n          1996.0\n        ],\n        \"semantic_type\": \"\",\n        \"description\": \"\"\n      }\n    },\n    {\n      \"column\": \"75%\",\n      \"properties\": {\n        \"dtype\": \"number\",\n        \"std\": 8061.402826541629,\n        \"min\": 7.9714539007092196,\n        \"max\": 22479.5,\n        \"num_unique_values\": 7,\n        \"samples\": [\n          61.0,\n          2006.0\n        ],\n        \"semantic_type\": \"\",\n        \"description\": \"\"\n      }\n    },\n    {\n      \"column\": \"max\",\n      \"properties\": {\n        \"dtype\": \"number\",\n        \"std\": 26145.98648059694,\n        \"min\": 25.546453900709217,\n        \"max\": 72041.0,\n        \"num_unique_values\": 7,\n        \"samples\": [\n          70.0,\n          2015.0\n        ],\n        \"semantic_type\": \"\",\n        \"description\": \"\"\n      }\n    }\n  ]\n}"
            }
          },
          "metadata": {},
          "execution_count": 20
        },
        {
          "output_type": "stream",
          "name": "stdout",
          "text": [
            "time: 2.24 s (started: 2025-03-10 22:47:22 +00:00)\n"
          ]
        }
      ],
      "source": [
        "# # 🚧 todo: explain why this fails\n",
        "# df['nb_words'] = df['text'].str.split().len()\n",
        "\n",
        "# EXPLANATION :\n",
        "# str.split() returns a series of lists, and len() can't be applied to the entire series. The len() function needs to be applied to each individual list of words\n",
        "\n",
        "# # 🚧 todo: explain why this fails\n",
        "#df['nb_words'] = df['text'].str.split().apply(len)\n",
        "\n",
        "# EXPLANATION :\n",
        "# In the text, we have numbers. str.split().apply(len) works only if all values in \"text\" are strings because after the split we will have numbers and we can't compute its length\n",
        "\n",
        "# 🚧 todo: find a way of getting this column\n",
        "df['nb_words'] = df['text'].apply(lambda x: len(str(x).split()))\n",
        "\n",
        "df.describe().T"
      ]
    },
    {
      "cell_type": "code",
      "execution_count": 21,
      "metadata": {
        "id": "OuenCZED9SQJ",
        "outputId": "84b6590e-86b6-4467-c6f6-4c6caf820ea3",
        "colab": {
          "base_uri": "https://localhost:8080/"
        }
      },
      "outputs": [
        {
          "output_type": "execute_result",
          "data": {
            "text/plain": [
              "6.290310225967063"
            ]
          },
          "metadata": {},
          "execution_count": 21
        },
        {
          "output_type": "stream",
          "name": "stdout",
          "text": [
            "time: 3.34 ms (started: 2025-03-10 22:52:49 +00:00)\n"
          ]
        }
      ],
      "source": [
        "16424.0/2611.0"
      ]
    },
    {
      "cell_type": "markdown",
      "metadata": {
        "id": "QZrbVG9b9SQK"
      },
      "source": [
        "#### 🚧 todo: check the results\n",
        "\n",
        "- how was our estimate of word length compared to reality?\n",
        "- if your minumum wordlength is now 0 or 1, explain by checking the file.\n",
        "- the simple tokenization by splitting gives in average longer or shorter words than a more linguistically motivated tokenization?"
      ]
    },
    {
      "cell_type": "code",
      "execution_count": 22,
      "metadata": {
        "id": "lp3J2m2U9SQK",
        "outputId": "b454c512-8058-422b-c75e-80eca38939eb",
        "colab": {
          "base_uri": "https://localhost:8080/"
        }
      },
      "outputs": [
        {
          "output_type": "stream",
          "name": "stdout",
          "text": [
            "time: 346 µs (started: 2025-03-10 22:57:52 +00:00)\n"
          ]
        }
      ],
      "source": [
        "# answer:\n",
        "# 1) the real average word length is 6.29 characters per word and is higher than our assumed 4.7 characters per word. An explanation may be that the UN speeches use longer words than general English text."
      ]
    },
    {
      "cell_type": "code",
      "execution_count": null,
      "metadata": {
        "id": "L7XqLYMW9SQK"
      },
      "outputs": [],
      "source": [
        "df[['country', 'country_name', 'speaker', 'position']].describe().T"
      ]
    },
    {
      "cell_type": "markdown",
      "metadata": {
        "id": "JZ5z5UPt9SQK"
      },
      "source": [
        "#### 🚧 TODO:\n",
        "- why does the describe() function works differently now?"
      ]
    },
    {
      "cell_type": "markdown",
      "metadata": {
        "id": "wNiOfDlK9SQK"
      },
      "source": [
        "## NaN ≠ NA\n",
        "NaN means 0/0. NaN stands for Not a Number\n",
        "\n",
        "NA is generally interpreted as a missing value and has various forms - NA_integer_, NA_real_, etc.\n",
        "\n",
        "https://stats.stackexchange.com/questions/5686/what-is-the-difference-between-nan-and-na"
      ]
    },
    {
      "cell_type": "code",
      "execution_count": null,
      "metadata": {
        "id": "VHZD-5tF9SQK"
      },
      "outputs": [],
      "source": [
        "df.isna().sum()"
      ]
    },
    {
      "cell_type": "code",
      "execution_count": null,
      "metadata": {
        "id": "57aoOJsy9SQK"
      },
      "outputs": [],
      "source": [
        "df[df['position'].isna()]"
      ]
    },
    {
      "cell_type": "code",
      "execution_count": null,
      "metadata": {
        "id": "Vifv03w_9SQK"
      },
      "outputs": [],
      "source": [
        "df.fillna({'speaker': 'unknown', 'position': 'unknown'}, inplace=True)\n",
        "df[df['position'].isna()]"
      ]
    },
    {
      "cell_type": "markdown",
      "metadata": {
        "id": "Ucp0_kY_9SQK"
      },
      "source": [
        "# categorical values vs numerical values"
      ]
    },
    {
      "cell_type": "code",
      "execution_count": null,
      "metadata": {
        "id": "vRpDHHo69SQK"
      },
      "outputs": [],
      "source": [
        "df[df['speaker'].str.contains('Bush')]['speaker'].value_counts()"
      ]
    },
    {
      "cell_type": "code",
      "execution_count": null,
      "metadata": {
        "id": "FndCF_ui9SQK"
      },
      "outputs": [],
      "source": [
        "df['nb_words'].plot(kind='box', vert=False)\n"
      ]
    },
    {
      "cell_type": "code",
      "execution_count": null,
      "metadata": {
        "id": "tAXwNYhu9SQL"
      },
      "outputs": [],
      "source": [
        "df['nb_words'].plot(kind='hist', bins=30) # , figsize=(8,2)"
      ]
    },
    {
      "cell_type": "markdown",
      "metadata": {
        "id": "PUL3DWMs9SQL"
      },
      "source": [
        "### Kernel density estimation\n",
        "\n",
        "https://en.wikipedia.org/wiki/Kernel_density_estimation\n",
        "\n",
        "if error: \"FutureWarning: `distplot` is a deprecated function\"\n",
        "\n",
        "update scipy: `pip3 install --upgrade scipy `\n",
        "\n",
        "if it persists\n",
        "    "
      ]
    },
    {
      "cell_type": "code",
      "execution_count": null,
      "metadata": {
        "id": "akXACu5l9SQL"
      },
      "outputs": [],
      "source": [
        "# only if you got warnings!!!\n",
        "# import warnings\n",
        "# warnings.filterwarnings(\"ignore\")"
      ]
    },
    {
      "cell_type": "code",
      "execution_count": null,
      "metadata": {
        "id": "saPMJhj89SQL"
      },
      "outputs": [],
      "source": [
        "#plt.figure(figsize=(8, 2))\n",
        "sns.histplot(df['nb_words'], bins=30, kde=True)\n"
      ]
    },
    {
      "cell_type": "markdown",
      "metadata": {
        "id": "SBcFDLXz9SQL"
      },
      "source": [
        "# Seaborn docs?\n",
        "https://seaborn.pydata.org/index.html  \n",
        "https://seaborn.pydata.org/generated/seaborn.distplot.html"
      ]
    },
    {
      "cell_type": "markdown",
      "metadata": {
        "id": "ak3JKmTs9SQL"
      },
      "source": [
        "## from where?\n",
        "\n",
        "catplot shows the relationship between a numerical and one or more categorical variables.\n",
        "https://seaborn.pydata.org/generated/seaborn.catplot.html"
      ]
    },
    {
      "cell_type": "code",
      "execution_count": null,
      "metadata": {
        "id": "zNXrLL2b9SQU"
      },
      "outputs": [],
      "source": [
        "sns.catplot(data=df, x=\"country\", y=\"nb_words\")"
      ]
    },
    {
      "cell_type": "code",
      "execution_count": null,
      "metadata": {
        "id": "dCfqK95y9SQU"
      },
      "outputs": [],
      "source": [
        "# how to build a selection:\n",
        "df['country'].isin(['USA', 'FRA', 'GBR', 'CHN', 'RUS'])"
      ]
    },
    {
      "cell_type": "code",
      "execution_count": null,
      "metadata": {
        "id": "SbnDQvPH9SQU"
      },
      "outputs": [],
      "source": [
        "# using the selection\n",
        "where = df['country'].isin(['USA', 'FRA', 'GBR', 'CHN', 'RUS'])\n",
        "sns.catplot(data=df[where], x=\"country\", y=\"nb_words\", kind='box')\n",
        "sns.catplot(data=df[where], x=\"country\", y=\"nb_words\", kind='violin')"
      ]
    },
    {
      "cell_type": "markdown",
      "metadata": {
        "id": "NiMlXCPO9SQU"
      },
      "source": [
        "## significant differences?\n",
        "\n",
        "Student test? Anova ?\n",
        "\n",
        "if the boxes (marking the quartiles) don't overlap each other and the sample size is at least 10, then the two groups being compared should have different medians at the 5% level: https://stats.stackexchange.com/questions/262495/reading-box-and-whisker-plots-possible-to-glean-significant-differences-between"
      ]
    },
    {
      "cell_type": "code",
      "execution_count": null,
      "metadata": {
        "id": "YldMxBjq9SQU"
      },
      "outputs": [],
      "source": [
        "sns.catplot(data=df[where], x=\"country\", y=\"nb_words\", kind='box', notch= True)"
      ]
    },
    {
      "cell_type": "markdown",
      "metadata": {
        "id": "OJO60NJV9SQU"
      },
      "source": [
        "## time?\n",
        "\n",
        "size() returns the number of rows per group  \n",
        "Why number of countries?"
      ]
    },
    {
      "cell_type": "code",
      "execution_count": null,
      "metadata": {
        "id": "tftEVrJT9SQU"
      },
      "outputs": [],
      "source": [
        "df.groupby('year').size().plot(title=\"Number of Countries\")"
      ]
    },
    {
      "cell_type": "markdown",
      "metadata": {
        "id": "zn3WiQJc9SQU"
      },
      "source": [
        "when more people want to speak, ...?"
      ]
    },
    {
      "cell_type": "code",
      "execution_count": null,
      "metadata": {
        "id": "9jAfsCHH9SQV"
      },
      "outputs": [],
      "source": [
        "df.groupby('year').agg({'nb_words': 'mean'}).plot(title=\"Avg. Speech Length\", ylim=(0,5000))"
      ]
    },
    {
      "cell_type": "code",
      "execution_count": null,
      "metadata": {
        "id": "q2J3ZW189SQV"
      },
      "outputs": [],
      "source": [
        "where = df['country'].isin(['USA', 'FRA', 'GBR', 'CHN', 'RUS', 'FRG', 'DEU'])\n",
        "sns.catplot(data=df[where], x=\"country\", y=\"nb_words\", kind='box', notch= True)"
      ]
    },
    {
      "cell_type": "markdown",
      "metadata": {
        "id": "aUhugWvb9SQV"
      },
      "source": [
        "## 🚧 todo: When speaking English, do Germans use longer words?\n",
        "\n",
        "- Compare to British natives, US natives, and French speakers.\n",
        "- Is the result significant?\n",
        "- How do you explain this?"
      ]
    },
    {
      "cell_type": "code",
      "execution_count": null,
      "metadata": {
        "id": "QP5znJ4k9SQV"
      },
      "outputs": [],
      "source": [
        "# 🚧 todo:\n",
        "df['avg_wordsize'] = ..."
      ]
    },
    {
      "cell_type": "code",
      "execution_count": null,
      "metadata": {
        "id": "N4N-c_I79SQV"
      },
      "outputs": [],
      "source": [
        "# 🚧 todo:\n",
        "where = df['country'].isin..."
      ]
    },
    {
      "cell_type": "markdown",
      "metadata": {
        "id": "k3WoGh9k9SQV"
      },
      "source": [
        "#### 🚧 todo:\n",
        "answer:\n",
        "\n"
      ]
    },
    {
      "cell_type": "code",
      "execution_count": null,
      "metadata": {
        "id": "acQbcEvY9SQV"
      },
      "outputs": [],
      "source": []
    },
    {
      "cell_type": "code",
      "execution_count": null,
      "metadata": {
        "id": "n79ADCUc9SQV"
      },
      "outputs": [],
      "source": []
    },
    {
      "cell_type": "code",
      "execution_count": null,
      "metadata": {
        "id": "KOXQTfpY9SQV"
      },
      "outputs": [],
      "source": []
    },
    {
      "cell_type": "code",
      "execution_count": null,
      "metadata": {
        "id": "ge0zUVcP9SQV"
      },
      "outputs": [],
      "source": []
    },
    {
      "cell_type": "code",
      "execution_count": null,
      "metadata": {
        "id": "HxEaFNhq9SQV"
      },
      "outputs": [],
      "source": []
    },
    {
      "cell_type": "code",
      "execution_count": null,
      "metadata": {
        "id": "_9C64TJK9SQW"
      },
      "outputs": [],
      "source": []
    },
    {
      "cell_type": "code",
      "execution_count": null,
      "metadata": {
        "id": "cXu5V7Cr9SQW"
      },
      "outputs": [],
      "source": []
    },
    {
      "cell_type": "markdown",
      "metadata": {
        "id": "ag6uupfQ9SQW"
      },
      "source": [
        "# Let's Zipf it!\n",
        "## skim through this section if you have followed Hands-on NLP!\n",
        "but execute the code so that we have the freq_df and start again at word clouds\n",
        "### Let's first flatten the list"
      ]
    },
    {
      "cell_type": "code",
      "execution_count": null,
      "metadata": {
        "id": "z-R18VQs9SQW"
      },
      "outputs": [],
      "source": [
        "all_words = [word for speech in df['text'].dropna() for word in re.findall(r'\\b\\w+\\b', speech.lower())]\n",
        "len(all_words)"
      ]
    },
    {
      "cell_type": "code",
      "execution_count": null,
      "metadata": {
        "id": "1Zi61Pu_9SQW"
      },
      "outputs": [],
      "source": [
        "text = \"Wait... what?! What? WHAT?! You're telling me that 99.9% of statistics—including this one—are made up?! Made up, I say! Completely, absolutely, 100% made up!\"\n",
        "counter = Counter(re.findall(r'\\b\\w+\\b', text.lower()))\n",
        "counter"
      ]
    },
    {
      "cell_type": "markdown",
      "metadata": {
        "id": "sMB53PE49SQW"
      },
      "source": [
        "### What are the most common words of English?"
      ]
    },
    {
      "cell_type": "code",
      "execution_count": null,
      "metadata": {
        "id": "KLFJp2Yq9SQW"
      },
      "outputs": [],
      "source": [
        "counter = Counter(all_words)\n",
        "counter.most_common(22)"
      ]
    },
    {
      "cell_type": "markdown",
      "metadata": {
        "id": "ZZDAnbC59SQW"
      },
      "source": [
        "for even bigger databases, it might be advisable to do the computation iteratively:"
      ]
    },
    {
      "cell_type": "code",
      "execution_count": null,
      "metadata": {
        "id": "TlfbXQnK9SQW"
      },
      "outputs": [],
      "source": [
        "counter = Counter()\n",
        "df['text'].dropna().apply(lambda text: counter.update(re.findall(r'\\b\\w+\\b', text.lower())))\n",
        "counter.most_common(22)"
      ]
    },
    {
      "cell_type": "code",
      "execution_count": null,
      "metadata": {
        "id": "pRm6eAI79SQW"
      },
      "outputs": [],
      "source": [
        "freq_df = pd.DataFrame.from_dict(counter, orient='index', columns=['freq'])\n",
        "freq_df.sort_values('freq',  inplace=True, ascending=False)\n",
        "freq_df"
      ]
    },
    {
      "cell_type": "code",
      "execution_count": null,
      "metadata": {
        "id": "7UKkfPPj9SQX"
      },
      "outputs": [],
      "source": [
        "freq_df.head(22).plot(kind='bar')\n"
      ]
    },
    {
      "cell_type": "code",
      "execution_count": null,
      "metadata": {
        "id": "6qeUN0Mp9SQX"
      },
      "outputs": [],
      "source": [
        "freq_df.head(2222).plot()"
      ]
    },
    {
      "cell_type": "code",
      "execution_count": null,
      "metadata": {
        "id": "ajS6w-5u9SQX"
      },
      "outputs": [],
      "source": [
        "freq_df.head(2222).plot(loglog=True)"
      ]
    },
    {
      "cell_type": "markdown",
      "metadata": {
        "id": "A_tReTj69SQX"
      },
      "source": [
        "futher reading:  \n",
        "https://en.wikipedia.org/wiki/Zipf's_law  \n",
        "https://stats.stackexchange.com/questions/6780/how-to-calculate-zipfs-law-coefficient-from-a-set-of-top-frequencies"
      ]
    },
    {
      "cell_type": "markdown",
      "metadata": {
        "id": "C0tFjHfu9SQX"
      },
      "source": [
        "# Word cloud\n",
        "\n",
        "http://amueller.github.io/word_cloud/generated/wordcloud.WordCloud.html#wordcloud.WordCloud"
      ]
    },
    {
      "cell_type": "code",
      "execution_count": null,
      "metadata": {
        "id": "MCVmFZ6d9SQX"
      },
      "outputs": [],
      "source": [
        "text = df.query(\"year==2015 and country=='USA'\")['text'].values[0]\n",
        "wc = WordCloud(max_words=100)\n",
        "wc.generate(text)\n",
        "plt.imshow(wc, interpolation='bilinear')\n",
        "plt.axis(\"off\")"
      ]
    },
    {
      "cell_type": "code",
      "execution_count": null,
      "metadata": {
        "id": "rNPyeFYi9SQX"
      },
      "outputs": [],
      "source": [
        "plt.subplots(1, 2, figsize=(20, 4))\n",
        "\n",
        "text = df.query(\"country=='USA'\")['text'].values[0]\n",
        "wc = WordCloud(max_words=100)\n",
        "wc.generate(text)\n",
        "plt.subplot(1, 2, 1)\n",
        "plt.imshow(wc, interpolation='bilinear')\n",
        "plt.axis(\"off\")\n",
        "\n",
        "text = df.query(\"country=='RUS'\")['text'].values[0]\n",
        "wc = WordCloud(max_words=100)\n",
        "wc.generate(text)\n",
        "\n",
        "plt.subplot(1, 2, 2)\n",
        "plt.imshow(wc, interpolation='bilinear')\n",
        "plt.axis(\"off\")\n",
        "\n",
        "plt.tight_layout()"
      ]
    },
    {
      "cell_type": "code",
      "execution_count": null,
      "metadata": {
        "id": "lXqdjtRT9SQX"
      },
      "outputs": [],
      "source": [
        "wc = WordCloud(max_words=100, stopwords=freq_df.head(50).index)\n",
        "wc.generate(text)\n",
        "plt.imshow(wc, interpolation='bilinear')\n",
        "plt.axis(\"off\")"
      ]
    },
    {
      "cell_type": "markdown",
      "metadata": {
        "id": "FS9qBpd49SQX"
      },
      "source": [
        "the `generate_from_frequencies` function allows to generate without stopwords directly from a Counter:"
      ]
    },
    {
      "cell_type": "code",
      "execution_count": null,
      "metadata": {
        "id": "I7j-wDnF9SQY"
      },
      "outputs": [],
      "source": [
        "wc.generate_from_frequencies(counter)\n",
        "plt.title('from counter')\n",
        "plt.imshow(wc, interpolation='bilinear')\n",
        "plt.axis(\"off\")"
      ]
    },
    {
      "cell_type": "markdown",
      "metadata": {
        "id": "Xur8nYDa9SQY"
      },
      "source": [
        "# Index\n",
        "\n",
        "We want to build an inverted index:\n",
        "- make a df such that for every type, we have a 1 if the document contains the type, 0 if not.\n",
        "- for every type, give a list of document ids\n",
        "\n",
        "# 🚧 todo:\n",
        "- how many types do we have?\n",
        "- how many documents do we have?"
      ]
    },
    {
      "cell_type": "code",
      "execution_count": null,
      "metadata": {
        "id": "MLjyBehf9SQY"
      },
      "outputs": [],
      "source": [
        "print(...,'types')\n",
        "print(...,'documents')\n"
      ]
    },
    {
      "cell_type": "code",
      "execution_count": null,
      "metadata": {
        "id": "0wRG95i19SQY"
      },
      "outputs": [],
      "source": [
        "list(freq_df.index[66:77])"
      ]
    },
    {
      "cell_type": "code",
      "execution_count": null,
      "metadata": {
        "id": "Ml7LfBrK9SQY"
      },
      "outputs": [],
      "source": [
        "df[33:36]"
      ]
    },
    {
      "cell_type": "code",
      "execution_count": null,
      "metadata": {
        "id": "Eyc6a-5Y9SQY"
      },
      "outputs": [],
      "source": [
        "A = np.zeros((11, 3))\n",
        "A.nbytes"
      ]
    },
    {
      "cell_type": "markdown",
      "metadata": {
        "id": "B7IZhnwz9SQY"
      },
      "source": [
        "we will first try the naïve way, to find out that this easily gets too slow:"
      ]
    },
    {
      "cell_type": "code",
      "execution_count": null,
      "metadata": {
        "id": "RUM-9IDs9SQY"
      },
      "outputs": [],
      "source": [
        "for i,t in enumerate(freq_df.index[66:77]):\n",
        "    for j, text in enumerate(df['text'][33:36]):\n",
        "        # Tokenize text using regex\n",
        "        tokens = set(re.findall(r'\\b\\w+\\b', text.lower()))  # Use set for faster lookup\n",
        "        if t in tokens:\n",
        "            A[i, j] = 1  # Mark presence of token in text\n",
        "A"
      ]
    },
    {
      "cell_type": "code",
      "execution_count": null,
      "metadata": {
        "id": "Xsu3FDVK9SQY"
      },
      "outputs": [],
      "source": [
        "A.nbytes"
      ]
    },
    {
      "cell_type": "code",
      "execution_count": null,
      "metadata": {
        "id": "LcOtGZEx9SQY"
      },
      "outputs": [],
      "source": [
        "A = np.zeros((100, 7507)) # understand this: 100 most frequent words, 7507 speeches\n",
        "for i,t in tqdm(enumerate(freq_df.index[:100])):\n",
        "    for j, text in enumerate(df['text'][33:100]): # play with the range to see how slow your machine is\n",
        "        tokens = set(re.findall(r'\\b\\w+\\b', text.lower()))\n",
        "        if t in tokens:\n",
        "               A[i,j] =1\n",
        "# can you do that loop more efficiently? This is not an obligatory task.\n",
        "A"
      ]
    },
    {
      "cell_type": "code",
      "execution_count": null,
      "metadata": {
        "id": "-RfEDiwZ9SQZ"
      },
      "outputs": [],
      "source": [
        "A.nbytes"
      ]
    },
    {
      "cell_type": "markdown",
      "metadata": {
        "id": "IXnUOY4M9SQZ"
      },
      "source": [
        "### 🚧 todo:\n",
        "\n",
        "What would be the size of the complete table?\n"
      ]
    },
    {
      "cell_type": "code",
      "execution_count": null,
      "metadata": {
        "id": "O8EA2TL09SQZ"
      },
      "outputs": [],
      "source": [
        "# 🚧 todo:\n",
        "A ="
      ]
    },
    {
      "cell_type": "markdown",
      "metadata": {
        "id": "lRQV3x2w9SQZ"
      },
      "source": [
        "### 🚧 todo:\n",
        "\n",
        "How long will it take to fill the complete table?\n"
      ]
    },
    {
      "cell_type": "code",
      "execution_count": null,
      "metadata": {
        "id": "jIot5RF59SQZ"
      },
      "outputs": [],
      "source": [
        "# 🚧 todo:\n",
        "# i take 9 seconds per 100, should be about linear\n",
        "...,'seconds',...,'minutes', ...,'hours'\n"
      ]
    },
    {
      "cell_type": "markdown",
      "metadata": {
        "id": "dMdI1UyJ9SQZ"
      },
      "source": [
        "### redoing the same thing with CountVectorizer"
      ]
    },
    {
      "cell_type": "code",
      "execution_count": null,
      "metadata": {
        "id": "NB2HaIvO9SQZ"
      },
      "outputs": [],
      "source": [
        "from sklearn.feature_extraction.text import CountVectorizer\n",
        "\n",
        "df[33:36].text"
      ]
    },
    {
      "cell_type": "code",
      "execution_count": null,
      "metadata": {
        "id": "UK2yVX-k9SQZ"
      },
      "outputs": [],
      "source": [
        "vectorizer = CountVectorizer(vocabulary=freq_df.index[66:77], binary=True, min_df=1, lowercase=False)\n",
        "# understand the options:\n",
        "# https://scikit-learn.org/stable/modules/generated/sklearn.feature_extraction.text.CountVectorizer.html\n",
        "X = vectorizer.fit_transform(df[33:36].text)\n",
        "print(vectorizer.get_feature_names_out())\n",
        "print(X.toarray())\n"
      ]
    },
    {
      "cell_type": "code",
      "execution_count": null,
      "metadata": {
        "id": "AolGyZEo9SQZ"
      },
      "outputs": [],
      "source": [
        "# make it pretty:\n",
        "d = {c:X.toarray()[i] for i,c in enumerate(df[33:36].index)}\n",
        "df_cv = pd.DataFrame.from_dict(d,  orient='index',columns=freq_df.index[66:77])\n",
        "df_cv"
      ]
    },
    {
      "cell_type": "markdown",
      "metadata": {
        "id": "E0Eol3Dz9SQZ"
      },
      "source": [
        "## trying the complete set of documents with the complete vocabulary"
      ]
    },
    {
      "cell_type": "code",
      "execution_count": null,
      "metadata": {
        "id": "oadjy3Iz9SQa"
      },
      "outputs": [],
      "source": [
        "vectorizer = CountVectorizer(vocabulary=freq_df.index, binary=True, min_df=1, lowercase=False)\n",
        "X = vectorizer.fit_transform(df['text'].dropna())\n",
        "print(len(vectorizer.get_feature_names_out()))\n",
        "print(vectorizer.get_feature_names_out()[:11])\n",
        "print(X.toarray())"
      ]
    },
    {
      "cell_type": "markdown",
      "metadata": {
        "id": "eyvw9asO9SQa"
      },
      "source": [
        "- wow! comparably fast!\n",
        "#### 🚧 todo:\n",
        "- can you get the vector of \"the\"? is there a speech that doesn't use it?\n"
      ]
    },
    {
      "cell_type": "code",
      "execution_count": null,
      "metadata": {
        "id": "cY_b7X3-9SQa"
      },
      "outputs": [],
      "source": []
    },
    {
      "cell_type": "code",
      "execution_count": null,
      "metadata": {
        "id": "XUJFo2VN9SQa"
      },
      "outputs": [],
      "source": []
    },
    {
      "cell_type": "markdown",
      "metadata": {
        "id": "8SddIuk29SQa"
      },
      "source": [
        "answer:"
      ]
    },
    {
      "cell_type": "code",
      "execution_count": null,
      "metadata": {
        "id": "oLLX6tRO9SQa"
      },
      "outputs": [],
      "source": []
    },
    {
      "cell_type": "markdown",
      "metadata": {
        "id": "GEDIOlrN9SQa"
      },
      "source": [
        "#### 🚧 todo: some visualizations of the vectorization\n",
        "\n",
        "- make 2D scatterplots of the vectorization using PCA and t-SNE.\n",
        "- use the years as hue\n",
        "- explain why this looks so different\n",
        "- hard: choose a cluster that looks mainly stemming from earlier texts, another stemming from recent texts, and find a few examples of terms that makes them different."
      ]
    },
    {
      "cell_type": "code",
      "execution_count": null,
      "metadata": {
        "id": "4tNaJZyD9SQa"
      },
      "outputs": [],
      "source": [
        "from sklearn.decomposition import PCA\n",
        "from sklearn.manifold import TSNE\n",
        "\n",
        "pca = PCA(n_components=2)\n",
        "..."
      ]
    },
    {
      "cell_type": "code",
      "execution_count": null,
      "metadata": {
        "id": "fH00gCuB9SQa"
      },
      "outputs": [],
      "source": [
        "tsne = TSNE(n_components=2, perplexity=30, random_state=42, n_iter=1000)\n",
        "..."
      ]
    },
    {
      "cell_type": "markdown",
      "metadata": {
        "id": "TvYf3A5f9SQa"
      },
      "source": [
        "# analyze two clusters of the PCA plot: top right and bottom left:"
      ]
    },
    {
      "cell_type": "code",
      "execution_count": null,
      "metadata": {
        "id": "IDJoDM669SQa"
      },
      "outputs": [],
      "source": [
        "# Define clusters based on PCA components\n",
        "cluster_1 = pca_df[pca_df[\"PC1\"] > 0.8].index\n",
        "cluster_2 = pca_df[(pca_df[\"PC1\"] < -0.2) & (pca_df[\"PC2\"] > 0.8)].index\n",
        "\n",
        "# Extract corresponding texts\n",
        "...\n",
        "diff_df = diff_df.sort_values(by=[ \"Cluster 2 (PC1 < -0.2, PC2 > 0.8)\", \"Cluster 1 (PC1 > 0.8)\"], ascending=False)\n",
        "# Show distinctive words\n",
        "diff_df.head(10)\n",
        "# of both clusters (since we have a binary vectorizer, we only get present and absent words)\n"
      ]
    },
    {
      "cell_type": "code",
      "execution_count": null,
      "metadata": {
        "id": "Exh_lE8z9SQb"
      },
      "outputs": [],
      "source": []
    },
    {
      "cell_type": "markdown",
      "metadata": {
        "id": "5YHoeiRr9SQb"
      },
      "source": [
        "# another big vocabulary:\n",
        "- we could grab a pageview file here https://dumps.wikimedia.org/other/pageviews/2022/2022-01/ and  produce a list of potential terms from it\n",
        "- it's easier to use wikidata, and we concentrate on people:\n",
        "\n",
        "here is code that grabs it and produces a file of person names. this API is unstable, so i propose to download directly the result on my website, see code below."
      ]
    },
    {
      "cell_type": "code",
      "execution_count": null,
      "metadata": {
        "id": "7kzqXpow9SQb"
      },
      "outputs": [],
      "source": [
        "# you can skip this cell if you are only interested in the result, see next cell\n",
        "\n",
        "def fetch_wikidata_humans(limit=10000, offset=0):\n",
        "    sparql = SPARQLWrapper(\"https://query.wikidata.org/sparql\")\n",
        "    query = f\"\"\"\n",
        "    SELECT ?human ?humanLabel WHERE {{\n",
        "      ?human wdt:P31 wd:Q5.  # Humans (Q5)\n",
        "      SERVICE wikibase:label {{ bd:serviceParam wikibase:language \"[AUTO_LANGUAGE],en\". }}\n",
        "    }}\n",
        "    LIMIT {limit}\n",
        "    OFFSET {offset}\n",
        "    \"\"\"\n",
        "    sparql.setQuery(query)\n",
        "    sparql.setReturnFormat(JSON)\n",
        "    results = sparql.query().convert()\n",
        "    return results\n",
        "\n",
        "# Fetch the first batch\n",
        "humans_data = []\n",
        "offset = 0\n",
        "batch_size = 5000  # Fetch this batch size at a time\n",
        "\n",
        "while True:\n",
        "    print(f\"Fetching humans from offset {offset}\")\n",
        "    results = fetch_wikidata_humans(limit=batch_size, offset=offset)\n",
        "    if \"results\" in results and \"bindings\" in results[\"results\"]:\n",
        "        batch = results[\"results\"][\"bindings\"]\n",
        "        if not batch:\n",
        "            break  # Stop if no more results\n",
        "\n",
        "        for result in batch:\n",
        "            humans_data.append({\n",
        "                \"Wikidata ID\": result[\"human\"][\"value\"].split(\"/\")[-1],\n",
        "                \"Name\": result[\"humanLabel\"][\"value\"]\n",
        "            })\n",
        "        offset += batch_size  # Move to the next batch\n",
        "    else:\n",
        "        break  # Stop if no valid response\n",
        "\n",
        "# Convert to DataFrame\n",
        "import pandas as pd\n",
        "df = pd.DataFrame(humans_data)\n",
        "\n",
        "# write the Name column to a file\n",
        "df['Name'].to_csv('wikidata_names.txt', index=False)"
      ]
    },
    {
      "cell_type": "code",
      "execution_count": null,
      "metadata": {
        "id": "1zZ9_Sww9SQb"
      },
      "outputs": [],
      "source": [
        "file_name = 'wikidata_names.txt'\n",
        "zip_file = file_name + '.zip'\n",
        "url = 'https://gerdes.fr/saclay/inforet/' + zip_file\n",
        "\n",
        "if os.path.exists(file_name):\n",
        "    print('File already present')\n",
        "else:\n",
        "    print('Downloading the file...')\n",
        "    os.system(f'curl -o {zip_file} {url}')\n",
        "    os.system(f'unzip {zip_file}')"
      ]
    },
    {
      "cell_type": "code",
      "execution_count": null,
      "metadata": {
        "id": "EOU_IVmU9SQb"
      },
      "outputs": [],
      "source": [
        "# read the file back into a simple list, one item per line\n",
        "with open('wikidata_names.txt') as f:\n",
        "\tnames = set(f.read().splitlines())\n",
        "names"
      ]
    },
    {
      "cell_type": "code",
      "execution_count": null,
      "metadata": {
        "id": "A4NYa4ty9SQb"
      },
      "outputs": [],
      "source": [
        "vectorizer = CountVectorizer(vocabulary=names, binary=True, min_df=1, lowercase=False, ngram_range=(1,4))\n",
        "X = vectorizer.fit_transform(df.text.dropna())\n",
        "print(len(vectorizer.get_feature_names_out()))\n",
        "print(vectorizer.get_feature_names_out()[:11])\n",
        "X"
      ]
    },
    {
      "cell_type": "markdown",
      "metadata": {
        "id": "-n_Fxbk39SQb"
      },
      "source": [
        "#### 🚧 todo:\n",
        "- find the most frequently cited names\n",
        "- analyze who cites\n",
        "- analyze the length of the cited names in tokens\n"
      ]
    },
    {
      "cell_type": "code",
      "execution_count": null,
      "metadata": {
        "id": "liiLBFv89SQb"
      },
      "outputs": [],
      "source": [
        "..."
      ]
    },
    {
      "cell_type": "code",
      "execution_count": null,
      "metadata": {
        "id": "m4SHfg779SQb"
      },
      "outputs": [],
      "source": [
        "..."
      ]
    },
    {
      "cell_type": "code",
      "execution_count": null,
      "metadata": {
        "id": "ih3cbAOC9SQc"
      },
      "outputs": [],
      "source": [
        "..."
      ]
    },
    {
      "cell_type": "markdown",
      "metadata": {
        "id": "Kavbc6zR9SQc"
      },
      "source": [
        "- check this: https://en.wikipedia.org/wiki/Kofi_Annan"
      ]
    },
    {
      "cell_type": "markdown",
      "metadata": {
        "id": "ZGM7yWnn9SQc"
      },
      "source": [
        "# Homework\n",
        "\n",
        "complete the # 🚧 todo:\n",
        "\n",
        "and\n",
        "## find the most frequently encountered person entity\n",
        "- in number of speeches\n",
        "- in number of occurrences\n",
        "\n",
        "\n"
      ]
    },
    {
      "cell_type": "code",
      "execution_count": null,
      "metadata": {
        "id": "awOkyIPI9SQc"
      },
      "outputs": [],
      "source": []
    },
    {
      "cell_type": "markdown",
      "metadata": {
        "id": "LxKgZFDL9SQc"
      },
      "source": [
        "### Before submitting, check:\n",
        "- I have not imported any other modules\n",
        "- I have put explanations between the lines of code (either inline or in separate cells)\n",
        "- My notebook runs all the way through when I hit\n",
        "  1. the ↻ button and then\n",
        "  2. the ⏩︎ button (remove or comment out cells that are too slow and not needed).\n",
        "  "
      ]
    }
  ],
  "metadata": {
    "kernelspec": {
      "display_name": "Python (envgen)",
      "language": "python",
      "name": "envgen"
    },
    "language_info": {
      "codemirror_mode": {
        "name": "ipython",
        "version": 3
      },
      "file_extension": ".py",
      "mimetype": "text/x-python",
      "name": "python",
      "nbconvert_exporter": "python",
      "pygments_lexer": "ipython3",
      "version": "3.9.6"
    },
    "colab": {
      "provenance": [],
      "include_colab_link": true
    }
  },
  "nbformat": 4,
  "nbformat_minor": 0
}