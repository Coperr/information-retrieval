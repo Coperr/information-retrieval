{
  "cells": [
    {
      "cell_type": "markdown",
      "metadata": {
        "id": "view-in-github",
        "colab_type": "text"
      },
      "source": [
        "<a href=\"https://colab.research.google.com/github/Coperr/information-retrieval/blob/main/notebook1.ipynb\" target=\"_parent\"><img src=\"https://colab.research.google.com/assets/colab-badge.svg\" alt=\"Open In Colab\"/></a>"
      ]
    },
    {
      "cell_type": "markdown",
      "metadata": {
        "id": "fQvUHxHo9SQG"
      },
      "source": [
        "# inforet 1"
      ]
    },
    {
      "cell_type": "markdown",
      "metadata": {
        "id": "Xb2ztxMj9SQG"
      },
      "source": [
        "## getting the data"
      ]
    },
    {
      "cell_type": "markdown",
      "metadata": {
        "id": "gmiC9XeK9SQH"
      },
      "source": [
        "Today, we will work with the UN General Debate dataset. The corpus consists of 7,507 speeches held at the annual sessions of the United Nations General Assembly from 1970 to 2016. It was created in 2017 by Mikhaylov, Baturo, and Dasandi at Harvard “for understanding and measuring state preferences in world politics.” Each of the almost 200 countries in the United Nations has the opportunity to present its views on global topics such international conflicts, terrorism, or climate change at the annual General Debate.\n",
        "Work on this data is proposed in the book\n",
        "\n",
        "- https://github.com/blueprints-for-text-analytics-python/blueprints-text\n",
        "- from here, but it's easier to use the version on my server.\n",
        "  - https://github.com/blueprints-for-text-analytics-python/blueprints-text/blob/master/data/un-general-debates/un-general-debates-blueprint.csv.gz\n",
        "\n"
      ]
    },
    {
      "cell_type": "markdown",
      "metadata": {
        "id": "mhO3UGCY9SQH"
      },
      "source": [
        "## downloading some toy data"
      ]
    },
    {
      "cell_type": "code",
      "execution_count": 31,
      "metadata": {
        "id": "Luy5OsKH9SQH",
        "outputId": "2d3482b2-ed04-451a-db44-efe671f6ffa9",
        "colab": {
          "base_uri": "https://localhost:8080/"
        }
      },
      "outputs": [
        {
          "output_type": "stream",
          "name": "stdout",
          "text": [
            "File already present\n",
            "time: 7.37 ms (started: 2025-03-11 16:05:35 +00:00)\n"
          ]
        }
      ],
      "source": [
        "# check if the file un-general-debates-blueprint.csv is present\n",
        "# if not, download it from the web and unzip it\n",
        "import os\n",
        "\n",
        "file_name = 'un-general-debates-blueprint.csv'\n",
        "gz_file = file_name + '.gz'\n",
        "url = 'https://gerdes.fr/saclay/inforet/' + gz_file\n",
        "\n",
        "if os.path.exists(file_name):\n",
        "    print('File already present')\n",
        "else:\n",
        "    print('Downloading the file...')\n",
        "    os.system(f'curl -o {gz_file} {url}')\n",
        "    os.system(f'gunzip {gz_file}')"
      ]
    },
    {
      "cell_type": "markdown",
      "metadata": {
        "id": "VHQXBIjM9SQI"
      },
      "source": [
        "\n",
        "if you have a problem with the above code,\n",
        "you can also simply get the zip, unzip and put it manuaylly next to your notbook:\n",
        "\n",
        "https://gerdes.fr/saclay/informationRetrieval/un-general-debates-blueprint.csv.gz\n",
        "\n",
        "or try using wget:\n",
        "```\n",
        "!wget https://gerdes.fr/saclay/informationRetrieval/un-general-debates-blueprint.csv.gz\n",
        "import gzip, shutil\n",
        "with open('un-general-debates-blueprint.csv.gz', 'rb') as f_in:\n",
        "    with gzip.open('un-general-debates-blueprint.csv', 'wb') as f_out:\n",
        "        shutil.copyfileobj(f_in, f_out)\n",
        "```\n",
        "      "
      ]
    },
    {
      "cell_type": "code",
      "execution_count": 32,
      "metadata": {
        "id": "cFCFiO5c9SQI",
        "outputId": "5f80408f-bafd-4178-fe95-36b3fa3224ca",
        "colab": {
          "base_uri": "https://localhost:8080/"
        }
      },
      "outputs": [
        {
          "output_type": "stream",
          "name": "stdout",
          "text": [
            "The autotime extension is already loaded. To reload it, use:\n",
            "  %reload_ext autotime\n",
            "time: 14.6 ms (started: 2025-03-11 16:05:39 +00:00)\n"
          ]
        }
      ],
      "source": [
        "# this turns on the autotimer, so that every cell has a timing information below\n",
        "try:\n",
        "    %load_ext autotime\n",
        "except:\n",
        "    !pip install ipython-autotime\n",
        "    %load_ext autotime\n",
        "# to stop using autotime, run the following command\n",
        "# %unload_ext autotime"
      ]
    },
    {
      "cell_type": "code",
      "execution_count": 33,
      "metadata": {
        "id": "q9B_S7T99SQI",
        "outputId": "fac35ff2-0f0e-433f-ffb7-40c0b71b38bb",
        "colab": {
          "base_uri": "https://localhost:8080/"
        }
      },
      "outputs": [
        {
          "output_type": "stream",
          "name": "stdout",
          "text": [
            "time: 415 µs (started: 2025-03-11 16:05:41 +00:00)\n"
          ]
        }
      ],
      "source": [
        "#!pip install wordcloud seaborn"
      ]
    },
    {
      "cell_type": "code",
      "execution_count": 34,
      "metadata": {
        "id": "xReOjIOA9SQI",
        "outputId": "875875b2-4c25-43af-f080-8d44962a5288",
        "colab": {
          "base_uri": "https://localhost:8080/"
        }
      },
      "outputs": [
        {
          "output_type": "stream",
          "name": "stdout",
          "text": [
            "time: 1.29 ms (started: 2025-03-11 16:05:42 +00:00)\n"
          ]
        }
      ],
      "source": [
        "import numpy as np\n",
        "import matplotlib.pyplot as plt\n",
        "import pandas as pd\n",
        "import seaborn as sns\n",
        "from collections import Counter\n",
        "from tqdm.notebook import tqdm\n",
        "from wordcloud import WordCloud\n",
        "import re"
      ]
    },
    {
      "cell_type": "code",
      "execution_count": 35,
      "metadata": {
        "id": "_XRcUVP39SQI",
        "outputId": "46926536-c4ea-49b5-d10d-f324156517cd",
        "colab": {
          "base_uri": "https://localhost:8080/",
          "height": 757
        }
      },
      "outputs": [
        {
          "output_type": "execute_result",
          "data": {
            "text/plain": [
              "      un-general-debates-blueprint.csv    year country  \\\n",
              "741                               31.0  1976.0     HUN   \n",
              "1204                              34.0  1979.0     PAN   \n",
              "4628                              55.0  2000.0     URY   \n",
              "3373                              48.0  1993.0     TJK   \n",
              "6106                              63.0  2008.0     PRY   \n",
              "971                               33.0  1978.0     BGD   \n",
              "6213                              64.0  2009.0     FJI   \n",
              "2734                              45.0  1990.0     ARG   \n",
              "236                               27.0  1972.0     HUN   \n",
              "4502                              55.0  2000.0     DMA   \n",
              "4840                              57.0  2002.0     BFA   \n",
              "339                               28.0  1973.0     DDR   \n",
              "6725                              66.0  2011.0     VUT   \n",
              "3610                              50.0  1995.0     DNK   \n",
              "4568                              55.0  2000.0     MKD   \n",
              "2592                              44.0  1989.0     BHS   \n",
              "300                               27.0  1972.0     TZA   \n",
              "4610                              55.0  2000.0     SOM   \n",
              "2657                              44.0  1989.0     LAO   \n",
              "2740                              45.0  1990.0     BEN   \n",
              "534                               29.0  1974.0     RWA   \n",
              "722                               31.0  1976.0     DOM   \n",
              "\n",
              "                          country_name                        speaker  \\\n",
              "741                            Hungary                       Mr. Puja   \n",
              "1204                            Panama                         Ozores   \n",
              "4628                           Uruguay                 Didier Opertti   \n",
              "3373                        Tajikistan          MR. EMOMALI RAKHMONOV   \n",
              "6106                          Paraguay           Fernando Lugo Mendez   \n",
              "971                         Bangladesh                            Huq   \n",
              "6213                              Fiji          Josaia V. Bainimarama   \n",
              "2734                         Argentina                        Cavallo   \n",
              "236                            Hungary                      Mr. Peter   \n",
              "4502                          Dominica              Roosevelt Douglas   \n",
              "4840                      Burkina Faso             Youssouf Ouédraogo   \n",
              "339               German Dem. Republic                         Winzer   \n",
              "6725                           Vanuatu  Meltek Sato Kilman Livtunvanu   \n",
              "3610                           Denmark                   Mr. Petersen   \n",
              "4568                   North Macedonia            Aleksandar Dimitrov   \n",
              "2592                           Bahamas                        CARTER    \n",
              "300       Tanzania, United Republic of                      Mr. Salim   \n",
              "4610                           Somalia        Abdikassim Salad Hassan   \n",
              "2657  Lao People's Democratic Republic                    SRITHIRATH    \n",
              "2740                             Benin                           NATA   \n",
              "534                             Rwanda                  Mr. Nzekalije   \n",
              "722                 Dominican Republic                    Mr. Jimenez   \n",
              "\n",
              "                             position  \\\n",
              "741                               NaN   \n",
              "1204                              NaN   \n",
              "4628     Minister for Foreign Affairs   \n",
              "3373  CHAIRMAN OF THE SUPREME COUNCIL   \n",
              "6106                        President   \n",
              "971                               NaN   \n",
              "6213                   Prime Minister   \n",
              "2734                              NaN   \n",
              "236                               NaN   \n",
              "4502                   Prime Minister   \n",
              "4840     Minister for Foreign Affairs   \n",
              "339                               NaN   \n",
              "6725                   Prime Minister   \n",
              "3610     Minister for Foreign Affairs   \n",
              "4568     Minister for Foreign Affairs   \n",
              "2592                              NaN   \n",
              "300                               NaN   \n",
              "4610                        President   \n",
              "2657                              NaN   \n",
              "2740                              NaN   \n",
              "534                               NaN   \n",
              "722                               NaN   \n",
              "\n",
              "                                                   text  \n",
              "741   On behalf of the Hungarian delegation, may I w...  \n",
              "1204  ﻿Three days after the entry into force of the ...  \n",
              "4628  Allow\\nme to begin by thanking the Minister fo...  \n",
              "3373  The year that has elapsed since the forty-\\nse...  \n",
              "6106  On \\nbehalf of the nation of Paraguay, I wish ...  \n",
              "971   ﻿\\n\\n147.\\tI bring this Assembly the warm gree...  \n",
              "6213  I extend our warm \\ngreetings to the President...  \n",
              "2734  ﻿At the outset, let me convey to you, Sir, my ...  \n",
              "236   One of the major characteristics of the presen...  \n",
              "4502  I\\nwish to extend my congratulations to Mr. Ha...  \n",
              "4840  ﻿As is the case every year, Burkina Faso is\\nv...  \n",
              "339   ﻿1.\\tThe membership of the German Democratic R...  \n",
              "6725  Vanuatu joins other \\ndelegations in congratul...  \n",
              "3610  It is a sad irony that while\\nwe are celebrati...  \n",
              "4568  At the outset, I would like to congratulate\\nM...  \n",
              "2592  ﻿\\nI am happy warmly to congratulate you. Sir,...  \n",
              "300   Mr. President, my first and very pleasant duty...  \n",
              "4610  It is a singular honour\\nand privilege for me ...  \n",
              "2657  ﻿\\nAllow me first on behalf of the delegation ...  \n",
              "2740  ﻿Sir, allow me, first of all, to follow the ex...  \n",
              "534    Mr. President, your unanimous election to the...  \n",
              "722   Allow me first to express the congratulations ...  "
            ],
            "text/html": [
              "\n",
              "  <div id=\"df-89f2bdd3-ba76-4ab7-97b0-184833ab94ef\" class=\"colab-df-container\">\n",
              "    <div>\n",
              "<style scoped>\n",
              "    .dataframe tbody tr th:only-of-type {\n",
              "        vertical-align: middle;\n",
              "    }\n",
              "\n",
              "    .dataframe tbody tr th {\n",
              "        vertical-align: top;\n",
              "    }\n",
              "\n",
              "    .dataframe thead th {\n",
              "        text-align: right;\n",
              "    }\n",
              "</style>\n",
              "<table border=\"1\" class=\"dataframe\">\n",
              "  <thead>\n",
              "    <tr style=\"text-align: right;\">\n",
              "      <th></th>\n",
              "      <th>un-general-debates-blueprint.csv</th>\n",
              "      <th>year</th>\n",
              "      <th>country</th>\n",
              "      <th>country_name</th>\n",
              "      <th>speaker</th>\n",
              "      <th>position</th>\n",
              "      <th>text</th>\n",
              "    </tr>\n",
              "  </thead>\n",
              "  <tbody>\n",
              "    <tr>\n",
              "      <th>741</th>\n",
              "      <td>31.0</td>\n",
              "      <td>1976.0</td>\n",
              "      <td>HUN</td>\n",
              "      <td>Hungary</td>\n",
              "      <td>Mr. Puja</td>\n",
              "      <td>NaN</td>\n",
              "      <td>On behalf of the Hungarian delegation, may I w...</td>\n",
              "    </tr>\n",
              "    <tr>\n",
              "      <th>1204</th>\n",
              "      <td>34.0</td>\n",
              "      <td>1979.0</td>\n",
              "      <td>PAN</td>\n",
              "      <td>Panama</td>\n",
              "      <td>Ozores</td>\n",
              "      <td>NaN</td>\n",
              "      <td>﻿Three days after the entry into force of the ...</td>\n",
              "    </tr>\n",
              "    <tr>\n",
              "      <th>4628</th>\n",
              "      <td>55.0</td>\n",
              "      <td>2000.0</td>\n",
              "      <td>URY</td>\n",
              "      <td>Uruguay</td>\n",
              "      <td>Didier Opertti</td>\n",
              "      <td>Minister for Foreign Affairs</td>\n",
              "      <td>Allow\\nme to begin by thanking the Minister fo...</td>\n",
              "    </tr>\n",
              "    <tr>\n",
              "      <th>3373</th>\n",
              "      <td>48.0</td>\n",
              "      <td>1993.0</td>\n",
              "      <td>TJK</td>\n",
              "      <td>Tajikistan</td>\n",
              "      <td>MR. EMOMALI RAKHMONOV</td>\n",
              "      <td>CHAIRMAN OF THE SUPREME COUNCIL</td>\n",
              "      <td>The year that has elapsed since the forty-\\nse...</td>\n",
              "    </tr>\n",
              "    <tr>\n",
              "      <th>6106</th>\n",
              "      <td>63.0</td>\n",
              "      <td>2008.0</td>\n",
              "      <td>PRY</td>\n",
              "      <td>Paraguay</td>\n",
              "      <td>Fernando Lugo Mendez</td>\n",
              "      <td>President</td>\n",
              "      <td>On \\nbehalf of the nation of Paraguay, I wish ...</td>\n",
              "    </tr>\n",
              "    <tr>\n",
              "      <th>971</th>\n",
              "      <td>33.0</td>\n",
              "      <td>1978.0</td>\n",
              "      <td>BGD</td>\n",
              "      <td>Bangladesh</td>\n",
              "      <td>Huq</td>\n",
              "      <td>NaN</td>\n",
              "      <td>﻿\\n\\n147.\\tI bring this Assembly the warm gree...</td>\n",
              "    </tr>\n",
              "    <tr>\n",
              "      <th>6213</th>\n",
              "      <td>64.0</td>\n",
              "      <td>2009.0</td>\n",
              "      <td>FJI</td>\n",
              "      <td>Fiji</td>\n",
              "      <td>Josaia V. Bainimarama</td>\n",
              "      <td>Prime Minister</td>\n",
              "      <td>I extend our warm \\ngreetings to the President...</td>\n",
              "    </tr>\n",
              "    <tr>\n",
              "      <th>2734</th>\n",
              "      <td>45.0</td>\n",
              "      <td>1990.0</td>\n",
              "      <td>ARG</td>\n",
              "      <td>Argentina</td>\n",
              "      <td>Cavallo</td>\n",
              "      <td>NaN</td>\n",
              "      <td>﻿At the outset, let me convey to you, Sir, my ...</td>\n",
              "    </tr>\n",
              "    <tr>\n",
              "      <th>236</th>\n",
              "      <td>27.0</td>\n",
              "      <td>1972.0</td>\n",
              "      <td>HUN</td>\n",
              "      <td>Hungary</td>\n",
              "      <td>Mr. Peter</td>\n",
              "      <td>NaN</td>\n",
              "      <td>One of the major characteristics of the presen...</td>\n",
              "    </tr>\n",
              "    <tr>\n",
              "      <th>4502</th>\n",
              "      <td>55.0</td>\n",
              "      <td>2000.0</td>\n",
              "      <td>DMA</td>\n",
              "      <td>Dominica</td>\n",
              "      <td>Roosevelt Douglas</td>\n",
              "      <td>Prime Minister</td>\n",
              "      <td>I\\nwish to extend my congratulations to Mr. Ha...</td>\n",
              "    </tr>\n",
              "    <tr>\n",
              "      <th>4840</th>\n",
              "      <td>57.0</td>\n",
              "      <td>2002.0</td>\n",
              "      <td>BFA</td>\n",
              "      <td>Burkina Faso</td>\n",
              "      <td>Youssouf Ouédraogo</td>\n",
              "      <td>Minister for Foreign Affairs</td>\n",
              "      <td>﻿As is the case every year, Burkina Faso is\\nv...</td>\n",
              "    </tr>\n",
              "    <tr>\n",
              "      <th>339</th>\n",
              "      <td>28.0</td>\n",
              "      <td>1973.0</td>\n",
              "      <td>DDR</td>\n",
              "      <td>German Dem. Republic</td>\n",
              "      <td>Winzer</td>\n",
              "      <td>NaN</td>\n",
              "      <td>﻿1.\\tThe membership of the German Democratic R...</td>\n",
              "    </tr>\n",
              "    <tr>\n",
              "      <th>6725</th>\n",
              "      <td>66.0</td>\n",
              "      <td>2011.0</td>\n",
              "      <td>VUT</td>\n",
              "      <td>Vanuatu</td>\n",
              "      <td>Meltek Sato Kilman Livtunvanu</td>\n",
              "      <td>Prime Minister</td>\n",
              "      <td>Vanuatu joins other \\ndelegations in congratul...</td>\n",
              "    </tr>\n",
              "    <tr>\n",
              "      <th>3610</th>\n",
              "      <td>50.0</td>\n",
              "      <td>1995.0</td>\n",
              "      <td>DNK</td>\n",
              "      <td>Denmark</td>\n",
              "      <td>Mr. Petersen</td>\n",
              "      <td>Minister for Foreign Affairs</td>\n",
              "      <td>It is a sad irony that while\\nwe are celebrati...</td>\n",
              "    </tr>\n",
              "    <tr>\n",
              "      <th>4568</th>\n",
              "      <td>55.0</td>\n",
              "      <td>2000.0</td>\n",
              "      <td>MKD</td>\n",
              "      <td>North Macedonia</td>\n",
              "      <td>Aleksandar Dimitrov</td>\n",
              "      <td>Minister for Foreign Affairs</td>\n",
              "      <td>At the outset, I would like to congratulate\\nM...</td>\n",
              "    </tr>\n",
              "    <tr>\n",
              "      <th>2592</th>\n",
              "      <td>44.0</td>\n",
              "      <td>1989.0</td>\n",
              "      <td>BHS</td>\n",
              "      <td>Bahamas</td>\n",
              "      <td>CARTER</td>\n",
              "      <td>NaN</td>\n",
              "      <td>﻿\\nI am happy warmly to congratulate you. Sir,...</td>\n",
              "    </tr>\n",
              "    <tr>\n",
              "      <th>300</th>\n",
              "      <td>27.0</td>\n",
              "      <td>1972.0</td>\n",
              "      <td>TZA</td>\n",
              "      <td>Tanzania, United Republic of</td>\n",
              "      <td>Mr. Salim</td>\n",
              "      <td>NaN</td>\n",
              "      <td>Mr. President, my first and very pleasant duty...</td>\n",
              "    </tr>\n",
              "    <tr>\n",
              "      <th>4610</th>\n",
              "      <td>55.0</td>\n",
              "      <td>2000.0</td>\n",
              "      <td>SOM</td>\n",
              "      <td>Somalia</td>\n",
              "      <td>Abdikassim Salad Hassan</td>\n",
              "      <td>President</td>\n",
              "      <td>It is a singular honour\\nand privilege for me ...</td>\n",
              "    </tr>\n",
              "    <tr>\n",
              "      <th>2657</th>\n",
              "      <td>44.0</td>\n",
              "      <td>1989.0</td>\n",
              "      <td>LAO</td>\n",
              "      <td>Lao People's Democratic Republic</td>\n",
              "      <td>SRITHIRATH</td>\n",
              "      <td>NaN</td>\n",
              "      <td>﻿\\nAllow me first on behalf of the delegation ...</td>\n",
              "    </tr>\n",
              "    <tr>\n",
              "      <th>2740</th>\n",
              "      <td>45.0</td>\n",
              "      <td>1990.0</td>\n",
              "      <td>BEN</td>\n",
              "      <td>Benin</td>\n",
              "      <td>NATA</td>\n",
              "      <td>NaN</td>\n",
              "      <td>﻿Sir, allow me, first of all, to follow the ex...</td>\n",
              "    </tr>\n",
              "    <tr>\n",
              "      <th>534</th>\n",
              "      <td>29.0</td>\n",
              "      <td>1974.0</td>\n",
              "      <td>RWA</td>\n",
              "      <td>Rwanda</td>\n",
              "      <td>Mr. Nzekalije</td>\n",
              "      <td>NaN</td>\n",
              "      <td>Mr. President, your unanimous election to the...</td>\n",
              "    </tr>\n",
              "    <tr>\n",
              "      <th>722</th>\n",
              "      <td>31.0</td>\n",
              "      <td>1976.0</td>\n",
              "      <td>DOM</td>\n",
              "      <td>Dominican Republic</td>\n",
              "      <td>Mr. Jimenez</td>\n",
              "      <td>NaN</td>\n",
              "      <td>Allow me first to express the congratulations ...</td>\n",
              "    </tr>\n",
              "  </tbody>\n",
              "</table>\n",
              "</div>\n",
              "    <div class=\"colab-df-buttons\">\n",
              "\n",
              "  <div class=\"colab-df-container\">\n",
              "    <button class=\"colab-df-convert\" onclick=\"convertToInteractive('df-89f2bdd3-ba76-4ab7-97b0-184833ab94ef')\"\n",
              "            title=\"Convert this dataframe to an interactive table.\"\n",
              "            style=\"display:none;\">\n",
              "\n",
              "  <svg xmlns=\"http://www.w3.org/2000/svg\" height=\"24px\" viewBox=\"0 -960 960 960\">\n",
              "    <path d=\"M120-120v-720h720v720H120Zm60-500h600v-160H180v160Zm220 220h160v-160H400v160Zm0 220h160v-160H400v160ZM180-400h160v-160H180v160Zm440 0h160v-160H620v160ZM180-180h160v-160H180v160Zm440 0h160v-160H620v160Z\"/>\n",
              "  </svg>\n",
              "    </button>\n",
              "\n",
              "  <style>\n",
              "    .colab-df-container {\n",
              "      display:flex;\n",
              "      gap: 12px;\n",
              "    }\n",
              "\n",
              "    .colab-df-convert {\n",
              "      background-color: #E8F0FE;\n",
              "      border: none;\n",
              "      border-radius: 50%;\n",
              "      cursor: pointer;\n",
              "      display: none;\n",
              "      fill: #1967D2;\n",
              "      height: 32px;\n",
              "      padding: 0 0 0 0;\n",
              "      width: 32px;\n",
              "    }\n",
              "\n",
              "    .colab-df-convert:hover {\n",
              "      background-color: #E2EBFA;\n",
              "      box-shadow: 0px 1px 2px rgba(60, 64, 67, 0.3), 0px 1px 3px 1px rgba(60, 64, 67, 0.15);\n",
              "      fill: #174EA6;\n",
              "    }\n",
              "\n",
              "    .colab-df-buttons div {\n",
              "      margin-bottom: 4px;\n",
              "    }\n",
              "\n",
              "    [theme=dark] .colab-df-convert {\n",
              "      background-color: #3B4455;\n",
              "      fill: #D2E3FC;\n",
              "    }\n",
              "\n",
              "    [theme=dark] .colab-df-convert:hover {\n",
              "      background-color: #434B5C;\n",
              "      box-shadow: 0px 1px 3px 1px rgba(0, 0, 0, 0.15);\n",
              "      filter: drop-shadow(0px 1px 2px rgba(0, 0, 0, 0.3));\n",
              "      fill: #FFFFFF;\n",
              "    }\n",
              "  </style>\n",
              "\n",
              "    <script>\n",
              "      const buttonEl =\n",
              "        document.querySelector('#df-89f2bdd3-ba76-4ab7-97b0-184833ab94ef button.colab-df-convert');\n",
              "      buttonEl.style.display =\n",
              "        google.colab.kernel.accessAllowed ? 'block' : 'none';\n",
              "\n",
              "      async function convertToInteractive(key) {\n",
              "        const element = document.querySelector('#df-89f2bdd3-ba76-4ab7-97b0-184833ab94ef');\n",
              "        const dataTable =\n",
              "          await google.colab.kernel.invokeFunction('convertToInteractive',\n",
              "                                                    [key], {});\n",
              "        if (!dataTable) return;\n",
              "\n",
              "        const docLinkHtml = 'Like what you see? Visit the ' +\n",
              "          '<a target=\"_blank\" href=https://colab.research.google.com/notebooks/data_table.ipynb>data table notebook</a>'\n",
              "          + ' to learn more about interactive tables.';\n",
              "        element.innerHTML = '';\n",
              "        dataTable['output_type'] = 'display_data';\n",
              "        await google.colab.output.renderOutput(dataTable, element);\n",
              "        const docLink = document.createElement('div');\n",
              "        docLink.innerHTML = docLinkHtml;\n",
              "        element.appendChild(docLink);\n",
              "      }\n",
              "    </script>\n",
              "  </div>\n",
              "\n",
              "\n",
              "<div id=\"df-4bb504f2-f4e7-4ef5-a4ba-fd30c75428ce\">\n",
              "  <button class=\"colab-df-quickchart\" onclick=\"quickchart('df-4bb504f2-f4e7-4ef5-a4ba-fd30c75428ce')\"\n",
              "            title=\"Suggest charts\"\n",
              "            style=\"display:none;\">\n",
              "\n",
              "<svg xmlns=\"http://www.w3.org/2000/svg\" height=\"24px\"viewBox=\"0 0 24 24\"\n",
              "     width=\"24px\">\n",
              "    <g>\n",
              "        <path d=\"M19 3H5c-1.1 0-2 .9-2 2v14c0 1.1.9 2 2 2h14c1.1 0 2-.9 2-2V5c0-1.1-.9-2-2-2zM9 17H7v-7h2v7zm4 0h-2V7h2v10zm4 0h-2v-4h2v4z\"/>\n",
              "    </g>\n",
              "</svg>\n",
              "  </button>\n",
              "\n",
              "<style>\n",
              "  .colab-df-quickchart {\n",
              "      --bg-color: #E8F0FE;\n",
              "      --fill-color: #1967D2;\n",
              "      --hover-bg-color: #E2EBFA;\n",
              "      --hover-fill-color: #174EA6;\n",
              "      --disabled-fill-color: #AAA;\n",
              "      --disabled-bg-color: #DDD;\n",
              "  }\n",
              "\n",
              "  [theme=dark] .colab-df-quickchart {\n",
              "      --bg-color: #3B4455;\n",
              "      --fill-color: #D2E3FC;\n",
              "      --hover-bg-color: #434B5C;\n",
              "      --hover-fill-color: #FFFFFF;\n",
              "      --disabled-bg-color: #3B4455;\n",
              "      --disabled-fill-color: #666;\n",
              "  }\n",
              "\n",
              "  .colab-df-quickchart {\n",
              "    background-color: var(--bg-color);\n",
              "    border: none;\n",
              "    border-radius: 50%;\n",
              "    cursor: pointer;\n",
              "    display: none;\n",
              "    fill: var(--fill-color);\n",
              "    height: 32px;\n",
              "    padding: 0;\n",
              "    width: 32px;\n",
              "  }\n",
              "\n",
              "  .colab-df-quickchart:hover {\n",
              "    background-color: var(--hover-bg-color);\n",
              "    box-shadow: 0 1px 2px rgba(60, 64, 67, 0.3), 0 1px 3px 1px rgba(60, 64, 67, 0.15);\n",
              "    fill: var(--button-hover-fill-color);\n",
              "  }\n",
              "\n",
              "  .colab-df-quickchart-complete:disabled,\n",
              "  .colab-df-quickchart-complete:disabled:hover {\n",
              "    background-color: var(--disabled-bg-color);\n",
              "    fill: var(--disabled-fill-color);\n",
              "    box-shadow: none;\n",
              "  }\n",
              "\n",
              "  .colab-df-spinner {\n",
              "    border: 2px solid var(--fill-color);\n",
              "    border-color: transparent;\n",
              "    border-bottom-color: var(--fill-color);\n",
              "    animation:\n",
              "      spin 1s steps(1) infinite;\n",
              "  }\n",
              "\n",
              "  @keyframes spin {\n",
              "    0% {\n",
              "      border-color: transparent;\n",
              "      border-bottom-color: var(--fill-color);\n",
              "      border-left-color: var(--fill-color);\n",
              "    }\n",
              "    20% {\n",
              "      border-color: transparent;\n",
              "      border-left-color: var(--fill-color);\n",
              "      border-top-color: var(--fill-color);\n",
              "    }\n",
              "    30% {\n",
              "      border-color: transparent;\n",
              "      border-left-color: var(--fill-color);\n",
              "      border-top-color: var(--fill-color);\n",
              "      border-right-color: var(--fill-color);\n",
              "    }\n",
              "    40% {\n",
              "      border-color: transparent;\n",
              "      border-right-color: var(--fill-color);\n",
              "      border-top-color: var(--fill-color);\n",
              "    }\n",
              "    60% {\n",
              "      border-color: transparent;\n",
              "      border-right-color: var(--fill-color);\n",
              "    }\n",
              "    80% {\n",
              "      border-color: transparent;\n",
              "      border-right-color: var(--fill-color);\n",
              "      border-bottom-color: var(--fill-color);\n",
              "    }\n",
              "    90% {\n",
              "      border-color: transparent;\n",
              "      border-bottom-color: var(--fill-color);\n",
              "    }\n",
              "  }\n",
              "</style>\n",
              "\n",
              "  <script>\n",
              "    async function quickchart(key) {\n",
              "      const quickchartButtonEl =\n",
              "        document.querySelector('#' + key + ' button');\n",
              "      quickchartButtonEl.disabled = true;  // To prevent multiple clicks.\n",
              "      quickchartButtonEl.classList.add('colab-df-spinner');\n",
              "      try {\n",
              "        const charts = await google.colab.kernel.invokeFunction(\n",
              "            'suggestCharts', [key], {});\n",
              "      } catch (error) {\n",
              "        console.error('Error during call to suggestCharts:', error);\n",
              "      }\n",
              "      quickchartButtonEl.classList.remove('colab-df-spinner');\n",
              "      quickchartButtonEl.classList.add('colab-df-quickchart-complete');\n",
              "    }\n",
              "    (() => {\n",
              "      let quickchartButtonEl =\n",
              "        document.querySelector('#df-4bb504f2-f4e7-4ef5-a4ba-fd30c75428ce button');\n",
              "      quickchartButtonEl.style.display =\n",
              "        google.colab.kernel.accessAllowed ? 'block' : 'none';\n",
              "    })();\n",
              "  </script>\n",
              "</div>\n",
              "\n",
              "    </div>\n",
              "  </div>\n"
            ],
            "application/vnd.google.colaboratory.intrinsic+json": {
              "type": "dataframe",
              "summary": "{\n  \"name\": \"df\",\n  \"rows\": 22,\n  \"fields\": [\n    {\n      \"column\": \"un-general-debates-blueprint.csv\",\n      \"properties\": {\n        \"dtype\": \"number\",\n        \"std\": 13.011483439589098,\n        \"min\": 27.0,\n        \"max\": 66.0,\n        \"num_unique_values\": 15,\n        \"samples\": [\n          57.0,\n          66.0,\n          31.0\n        ],\n        \"semantic_type\": \"\",\n        \"description\": \"\"\n      }\n    },\n    {\n      \"column\": \"year\",\n      \"properties\": {\n        \"dtype\": \"number\",\n        \"std\": 13.0114834395891,\n        \"min\": 1972.0,\n        \"max\": 2011.0,\n        \"num_unique_values\": 15,\n        \"samples\": [\n          2002.0,\n          2011.0,\n          1976.0\n        ],\n        \"semantic_type\": \"\",\n        \"description\": \"\"\n      }\n    },\n    {\n      \"column\": \"country\",\n      \"properties\": {\n        \"dtype\": \"string\",\n        \"num_unique_values\": 21,\n        \"samples\": [\n          \"HUN\",\n          \"LAO\",\n          \"TZA\"\n        ],\n        \"semantic_type\": \"\",\n        \"description\": \"\"\n      }\n    },\n    {\n      \"column\": \"country_name\",\n      \"properties\": {\n        \"dtype\": \"string\",\n        \"num_unique_values\": 21,\n        \"samples\": [\n          \"Hungary\",\n          \"Lao People's Democratic Republic\",\n          \"Tanzania, United Republic of\"\n        ],\n        \"semantic_type\": \"\",\n        \"description\": \"\"\n      }\n    },\n    {\n      \"column\": \"speaker\",\n      \"properties\": {\n        \"dtype\": \"string\",\n        \"num_unique_values\": 22,\n        \"samples\": [\n          \"Mr. Puja\",\n          \"Mr. Petersen\",\n          \"Mr. Peter\"\n        ],\n        \"semantic_type\": \"\",\n        \"description\": \"\"\n      }\n    },\n    {\n      \"column\": \"position\",\n      \"properties\": {\n        \"dtype\": \"category\",\n        \"num_unique_values\": 4,\n        \"samples\": [\n          \"CHAIRMAN OF THE SUPREME COUNCIL\",\n          \"Prime Minister\",\n          \"Minister for Foreign Affairs\"\n        ],\n        \"semantic_type\": \"\",\n        \"description\": \"\"\n      }\n    },\n    {\n      \"column\": \"text\",\n      \"properties\": {\n        \"dtype\": \"string\",\n        \"num_unique_values\": 22,\n        \"samples\": [\n          \"On behalf of the Hungarian delegation, may I whole-heartedly congratulate Mr. Amerasinghe on his election as President of the General Assembly during its thirty-first session. I am pleased to see this high post occupied by the Permanent Representative of Sri Lanka, a country with which Hungary maintains friendly relations and which has recently acted as host to the Fifth Conference of non- aligned countries.\\n62.\\tMay I welcome, on behalf of my Government, the representative of the Republic of Seychelles on the occasion of his country's admission to membership in the United Nations. We wish this young State success in its pursuits within our world Organization.\\n63.\\tToday it is clearly realized by all that the practical implementation of the principle of peaceful coexistence and the extension of detente create favorable conditions for social progress and peaceful construction, while increasing trust among peoples. That is why the foreign policy initiatives of the socialist community are directed towards extending the process of detente and making it irreversible. The proposals of the socialist countries, particularly of the Soviet Union, give constant impetus to the struggle for peace, security and fruitful international co-operation.\\n64.\\tThe Government of the Hungarian People's Republic, like those of the other countries of the socialist community, actively contributes its part in joint efforts for the strengthening of peace and security and for developing co-operation among peoples and . nations as well as in further developing detente. Lasting peace and stable security are the central goal of our foreign policy. We are convinced that this policy is, at the same time, fully in keeping with the vital interests of the Hungarian people.\\n65.\\tThe development of bilateral relations between socialist and capitalist countries is of great importance to the strengthening of peace and security. The Government of the Hungarian People's Republic has already done a great deal in this domain. We have wide-ranging political, economic and cultural relations with capitalist countries. Exchanges of visits by statesmen are frequent. The ex-change of goods and co-operation in the field of industry are widening in scope. We have accomplished a great deal towards enabling our people to become acquainted with the true cultural values of the countries in Western Europe and North America. The development of personal contacts between peoples is greatly facilitated by our flexible practice in the granting of visas. In 1975 our country, with a population of 10 million, was visited by more than 9 million foreigners. In the spirit of the 10 principles endorsed in Helsinki at the Conference on Security and Co-operation in Europe we stand ready to develop interstate relations with other countries, broaden the scope of political, economic and cultural co-operation, improve the exchange of information and widen human contacts.\\n66.\\tWhen we speak of progress made in the cause of peace and security we must not overlook the fact that the adversaries of detente in certain Western countries have recently come to intensify their efforts, casting absurd slanders at the socialist countries, blaming detente for specific political and economic, problems in their own countries, coming forward with trumped-up 'problems' and making renewed attempts to interfere in the internal affairs of socialist countries. In a word, by using political means combined with propaganda campaigns, they are seeking to disturb the peaceful co-operation of countries with different social systems. There is mounting evidence that what the extremist circles are seeking is to destroy not only the results of the Helsinki Conference but detente in general.\\n67.\\tHere in the forum of the United Nations let me voice my conviction that those who support peace and inter-national co-operation will be able to thwart the attacks on peaceful coexistence, uphold the achievements of detente and create the conditions for further progress.\\n68.\\tDetente has emerged as the result of the joint activity of countries with different social systems. We are all aware of the outstanding role played in bringing this about by the joint efforts of the Governments of the Soviet Union and the United States. We for our part are hopeful that this constructive co-operation will continue to prevail and will make it possible to achieve still more significant results.\\n69.\\tMy Government believes that in the period ahead we shall be faced with major international tasks, the accomplishment of which is likely to give a new impulse to the process of detente; tasks such as that of giving full effect to the provisions of the Final Act of the Helsinki Conference, achieving further results in tackling the problem of disarmament and liquidating the still existing hotbeds of crisis.\\n70.\\tThe year following the Helsinki Conference bears witness to the viability of the recommendations contained in the Final Act. That document reflects the contemporary reality in Europe and corresponds to the interests of the peoples living there. The Government of the Hungarian People's Republic attaches great importance to the performance of tasks arising out of the Final Act. We are of the view that the provisions of the Helsinki document should be implemented in full, bearing in mind, of course, that the Final Act offers a long-term program to work for. We look on the Final Act as an organic whole and we are not prepared to accept a selective approach to its different parts. We find it essential that reciprocity should prevail in the application of the provisions of that document.\\n71.\\tThe provisions of the Final Act of the Conference on Security and Co-operation in Europe can be implemented most effectively in the framework of bilateral relations between the participating countries. Imbued with this spirit, we have presented concrete proposals to the Governments of many countries of Western Europe during the past, few months.\\n72.\\tMultilateral co-operation could be an important vehicle for the implementation of the Final Act. My Government agrees with the idea of holding congresses to discuss questions relating to environmental protection, transport and energy. The implementation of this Soviet proposal would considerably enhance the cause of pan-European co-operation. Similarly, we actively support efforts to establish an institutional framework for relations between the Council for Mutual Economic Assistance and the European Economic Community.\\n73.\\tWe consider that the consultative meeting to be held in Belgrade next year will be an important landmark in the promotion of peaceful co-operation in Europe. That meeting, should, in our view, be prepared in such a way as to allow it to accomplish constructive work, strengthen mutual understanding and good relations among the participating countries and make for continued advancement in the implementation of the Final Act and the expansion of co-operation among the countries of Europe. My Government wishes to work in this spirit.\\n74.\\tThe requirements of international peace and security call for the extension of political detente to the military field as a matter of increasing urgency. Some steps have already been taken in this direction, but it is now time to make still greater progress.\\n75.\\tA central issue of present-day international life is that of curbing the arms race. Military and economic circles in some countries are exerting growing pressure on their Governments to keep military spending soaring, justifying this intention by phrases culled from the time of the 'cold war'. We believe the United Nations cannot remain inactive in the face of such developments.\\n76.\\tI should state that my Government fully shares the view, expressed by the Government of the Soviet Union in its memorandum of 28 September submitted to the General Assembly on ending the arms race and disarmament [Aj31/232]. We think that the implementation of the ideas contained in that memorandum would largely contribute to the solution of that important set of problems.\\n77.\\tThe Soviet-American Strategic Arms Limitation Talks [SALT] are followed by the Hungarian Government with due attention. We hope that the conditions will soon emerge for reaching the SALT II agreement, which would exert an exceedingly positive influence on both the relations between the two great Powers involved and the international situation in general.\\n78.\\tIn the context of disarmament, reductions in military forces and armaments in Central Europe are a question of the greatest timeliness. The proposals of the Warsaw Treaty countries seek to ensure that none of the countries concerned will see its security prejudiced by a mutual reduction of armed forces and armaments and to preclude the possibility for either side to obtain unilateral military advantages. We hope that, instead of trying to gain unilateral advantages, the NATO countries will in future seek a mutually acceptable arrangement by engaging in an activity similar to that of the socialist countries.\\n79.\\tMy Government has warmly welcomed the Treaty on Underground Nuclear Explosions for Peaceful Purposes, signed between the Soviet Union and the United States of America last May. That is another step towards nuclear disarmament. The Soviet-French agreement on the prevention of accidental or unauthorized use of nuclear weapons' is an added contribution to the reduction of international tensions. May I express my hope that similar agreements will be reached between all nuclear States?\\n80.\\tThe initiatives for the general and complete prohibition of nuclear weapon tests equally enjoy the support of my Government. Such proposals and their implementation would serve to reduce the danger of nuclear war.\\n81.\\tWe welcome the fact that the Geneva Conference of the Committee on Disarmament has drawn up a draft convention on the prohibition of military or other hostile uses of environmental modification techniques, and we are hopeful that it will be given final shape and be approved by the General Assembly at its present session.\\n82.\\tAs far back as the twenty-first session of the General Assembly in 1966, my country was one of the initiators of action to ban chemical weapons.' Today, with 10 years behind us, we believe the time has come to take a concrete stride towards the conclusion of a convention banning chemical weapons.\\n83.\\tMy Government places great emphasis on adoption of the Soviet draft agreement on the prohibition of the development and manufacture of new types of weapons of mass destruction and new systems of such weapons [see resolution 3479(XXX), annex]. We are gratified to see a growing number of countries showing interest in having that problem solved.\\n84.\\tThe Hungarian People's Republic invariably favors the earliest possible convening of the World Disarmament Conference, but it would have no objection to such interim stages of the consideration of the problems of disarmament as the convening of a special session of the General Assembly on this question.\\n85.\\tReal headway in implementing the Final Act of the Conference on Security and Co-operation in Europe, solving certain problems of disarmament and achieving still closer co-operation among peoples cannot be made unless the requirements of peaceful coexistence between countries with different social systems are met to the fullest in international relations. Therefore, my Government regards the non-use of force in international relations as being of outstanding importance. We are convinced that the adoption and practical implementation of the draft treaty submitted by the Soviet Union in its memorandum of 28 September would greatly increase confidence among peoples.\\n86.\\tThe acute hotbeds of tension in the proximity of our continent are a source of particular concern for the Hungarian people engaged in peaceful, creative work. The Middle East crisis, the tragic events in Lebanon and the delay in finding a solution to the Cyprus problem are all fraught with the danger of a broader conflict.\\n87.\\tThe liquidation of the Middle East crisis is a primary task to be solved in strengthening international peace and security. My Government deplores the increasing complexity of that situation.\\n88.\\tIt is now evident that secret talks, separate agreements, and the slackening of relations between the socialist community and the Arab States obstruct the achievement of a durable peace in the Middle East. The unilateral attempts have not achieved their publicly stated purpose of stabilizing the situation in the region. They have only resulted in the perpetuation of Israel's occupation of the Arab territories, the division of the Arab forces seeking a just settlement, the strengthening of the positions of Israel and its supporters, and the postponement of a solution to the crisis.\\n89.\\tMy Government maintains that a comprehensive settlement is possible only if the Israeli troops are withdrawn from all the Arab territories occupied by aggression in 1967; if the rights of the Palestinian Arab people, including the right to establish a State of its own, are enforced; and, lastly, if the security of all States in the Middle East and the inviolability of their frontiers are guaranteed under international safeguards.\\n90.\\tMy Government is deeply concerned over the developments in the Lebanese crisis. The tremendous losses in human lives and the devastation in consequence of the armed clashes only play into the hands of the enemies of the Arab countries and the Palestinian Arab people. Further delay in having the situation settled is likely to conjure up the danger of an escalating conflict. We continue to hold that the Lebanese crisis can be solved only by the Lebanese themselves and that any foreign intervention cannot but aggravate the situation. My Government stands for preserving the territorial integrity of Lebanon.\\n91.\\tMy Government invariably supports guaranteeing the independence, sovereignty and territorial integrity of Cyprus and eliminating all kinds of foreign intervention. We maintain that the internal problems of the island country are for the Cypriots alone to solve, taking account of the interests of the Greek and Turkish communities.\\n92.\\tTurning now to Asia, my delegation is pleased to note that the conditions for a lasting relaxation of tensions in that part of the world are gradually emerging. This process is largely enhanced by the Socialist Republic of Viet Nam, which, established in July last, is a stable factor of peace and security in South-East Asia. Unfortunately, the admission of that country to the United Nations has so far been blocked. The interests of international peace clearly demand that the Socialist Republic of Viet Nam should, at this very session, occupy its rightful place among the States Members of our Organization.\\n93.\\tMy Government welcomes the active participation of the Lao People's Democratic Republic and of Democratic Kampuchea in international political life.\\n94.\\tMy delegation feels that the United Nations and the specialized international organizations should assume their appropriate role in the reconstruction of Indochina. The States bearing primary responsibility for the suffering caused to the peoples of Indochina should comply with their obligations undertaken in international agreements, and should provide assistance in healing the wounds of war.\\n95.\\tThe Government of the Hungarian People's Republic continues to support all efforts by the Government of the Democratic People's Republic of Korea to reduce tension on the Korean peninsula, consolidate the peace of the region, and attain the peaceful reunification of Korea. We deem it necessary that the relevant resolution adopted by the United Nations last year [resolution 3390 (XXX)] should be carried out.\\n96.\\tFurther changes of importance have taken place in Africa since last year's session of the General Assembly. The proclamation of the People's Republic of Angola, the victory of the Angolan people over foreign intervention and internal reaction, has been an event of historic significance in the disintegration of the colonial system. The Hungarian people is in sympathy with and gives support to the Angolan people in its efforts to rebuild the country, revive the national economy, and establish a progressive society. In common with the overwhelming majority of Member States, we stand for the admission of the People's Republic of Angola to the United Nations.\\n97.\\tThe African patriots can count upon the solidarity and support of the Hungarian people in their just struggle against the illegal minority governments and the policy of apartheid. We are convinced that the circles obsessed by the ideology of racial superiority will not be able to prevent much longer the people of Zimbabwe from the exercise of its rights. We are confident, too, that the people of Namibia, now under occupation by the South African racists, will accede to real independence in the near future.\\n98.\\tThe actions that are encouraged from abroad to turn back the clock of history in Latin America induce world public opinion to be vigilant. There is ample evidence to show that the rightist, Fascist Governments, which assumed power through conspiracy, are no advocates of detente but, on the contrary, direct their activities against peaceful coexistence and co-operation among peoples.\\n99.\\tHungarian public opinion follows with unflagging attention and firmly condemns the terror by the Fascist junta in Chile. The Hungarian people, at one with the other progressive forces, demands the release of Luis Corvalan and all Chilean patriots.\\n100.\\tGood relations between the socialist and the developing countries are an important factor of the world situation today. Accordingly, the Government of the Hungarian People's Republic is striving to have its relations with the developing countries become more substantial.\\n101.\\tMy country attaches great importance to the international activity of the non-aligned countries. We warmly welcome the positive results of the Colombo Conference and are convinced that the implementation of the Colombo resolutions [see A/311197, annex IV] will result in stronger co-operation between the socialist and the non-aligned countries.\\n102.\\tWe understand and support the endeavors of developing countries to bring about mutually advantageous international economic relations free from discrimination and based on equality. The position of Hungary on the establishment of a new international economic order was extensively explained by the Hungarian delegations to the sixth and seventh special sessions and the twenty-ninth regular session of the General Assembly. We deem it necessary that the principles laid down in the Charter of Economic Rights and Duties of States should be implemented as soon as possible.\\n103.\\tIt is our conviction that any notable progress in the economic prosperity of the developing countries can only be made under a favorable international climate. We take satisfaction from the fact that the resolutions adopted at the Fifth Conference of non-aligned countries in Colombo also reflect a growing awareness of the interrelationships existing between detente, disarmament, and the economic advancement of individual countries.\\n104.\\tWe attach great importance to the provision of international assistance to the developing countries. We ourselves are trying to contribute our share, commensurate with our means and possibilities, to the development programs of these countries.\\n105.\\tNevertheless, we are also of the view that the fundamental guarantees for the economic advancement of the developing countries lie in progressive socio-economic measures to be carried out at national levels. The correctness of this approach is also vividly shown by the accomplishments of socialist Hungary in the rapid increase of industrial and agricultural production, the flowering of cultural life, and the marked improvement of living standards.\\n106.\\tAn important basic condition for increasing the effectiveness of the activity of our Organization lies in a more consistent practical application of the spirit and letter of the Charter. During the past 30 years the Charter has withstood the test of time and its application has contributed to the maintenance of peace and security, to the development of relations among nations, to the solution of economic, social, cultural and humanitarian tasks, and to the expansion of international co-operation. Hence there is no need to amend the Charter.\\n107.\\tDuring the last five years our world Organization has furthered the settlement of several international issues and has taken a number of initiatives. For the results achieved thanks are due also to the Secretary-General, Mr. Kurt Waldheim, who, with foresight and inexhaustible energy, has promoted the cause of friendship, co-operation and peace among the peoples. I should like to assure the Secretary-General, Mr. Kurt Waldheim, of my Government's high appreciation of his noble activity and of its readiness to lend him continued support.\\n108.\\tI should like to conclude by assuring the President that the Hungarian delegation will also at the present session do its very best to ensure the successful conclusion of the work of the General Assembly.\\n109.\\tWe believe that this session of the General Assembly can also make an effective contribution to solving the important questions on the agenda.\\n\",\n          \"It is a sad irony that while\\nwe are celebrating the fiftieth anniversary of the United\\nNations, the Organization finds itself in serious financial\\ncrisis. If not redressed, this crisis will threaten the very\\ngoals of our Organization.\\nDenmark gives top priority to a strengthening of the\\nUnited Nations. Hopefully, we can make headway during\\nthis session of the General Assembly as regards the\\nfinancial situation of the United Nations and the \\u201cAgenda\\nfor Development\\u201d. We hope that the High-level Working\\nGroup under the chairmanship of the President of the\\nGeneral Assembly will keep up the momentum of the\\nreform process.\\nI wish to concentrate on eight points.\\nThe first is social development. The World Summit\\nin Copenhagen identified new approaches for action.\\nStates have the primary responsibility to attain the goals\\nof the Summit. In this endeavour, we need the full\\nsupport of the international community, the United\\nNations, the multilateral financial institutions, regional\\norganizations, local authorities and the civil society. All\\npartners must participate fully and must increase their\\nefforts.\\nWe also need specific efforts to keep the Summit\\nissues on the agenda. To stimulate the implementation of\\nthe Summit results, Denmark would like to see\\nestablished an independent forum on social development\\nissues. This forum should supplement the work of\\ninternational organizations and of intergovernmental\\ncooperation. In particular, it should compile and analyze\\ndata on social development issues, thus providing the\\nbasis for dialogue. I hope that agreement on the creation\\nof the forum can be reached at this session of the General\\nAssembly.\\nSustainable economic and social development\\nrequires a collective effort. It requires a substantial\\ntransfer of resources, concessional as well as\\nunconcessional, private as well as public, from the\\ndeveloped world to the developing world.\\nThe total volume of assistance to developing\\ncountries has declined over the past few years. We must\\nchange this sad pattern. A first, necessary step would be\\nfor all industrialized countries to live up to the United\\nNations target of 0.7 per cent of gross national product\\n(GNP). Three years ago, Denmark reached 1 per cent of\\nGNP. We intend to continue that policy.\\n19\\n\\n\\nThe need for emergency relief is greater than ever. It\\nis a short-sighted solution to finance emergency relief out\\nof funds set aside for development. We must find additional\\nfinancing.\\nImproving the condition of women throughout the\\nworld is of vital importance. We, the Member States of the\\nUnited Nations, have the responsibility to implement the\\nPlatform for Action adopted at Beijing. This platform must\\nbe pursued at all levels. Let us start right now.\\nThe second point is the \\u201cAgenda for Peace\\u201d. The ideas\\nexpressed therein on preventive diplomacy and a rapid\\nreaction force must be implemented, followed \\u2014 after a\\nconflict has ended \\u2014 by confidence-building and\\nhumanitarian measures.\\nMany of these tasks can be carried out by regional\\norganizations. Giving more responsibility to regional\\norganizations would in Europe mean strengthening the\\nOrganization for Security and Cooperation in Europe\\n(OSCE).\\nWe have seen an increase in the number and\\ncomplexity of peace-keeping operations. Successful\\noperations such as those in Namibia, Cambodia and, most\\nrecently, Mozambique and El Salvador should not be\\nforgotten. As noted by the Secretary-General, the problems\\nposed by several of today\\u2019s conflicts are unprecedented. We\\nmust learn to tackle these new problems. United Nations\\npeace-keeping forces have proved to be an invaluable tool.\\nWe all have an interest in improving peace-keeping as a\\nunique instrument in international crisis management.\\nWe must react strongly against deliberate attacks\\nagainst United Nations personnel. Such attacks are\\nabsolutely unacceptable. I appeal to all Member States to\\nadhere to the Convention on the Safety of United Nations\\nand Associated Personnel so that persons committing\\nattacks against United Nations personnel are brought to\\njustice.\\nDenmark attaches great importance to the United\\nNations stand-by forces arrangement. We were among the\\nfirst to assign troops. We are currently, together with like-\\nminded countries, exploring practical ways to a further\\nshortening of United Nations reaction time.\\nThere is also a clear need for minimum standards as\\nregards troops and equipment. Denmark supports action\\ntaken by the United Nations in the field of training. The\\nUnited Nations must be given the right to set quality\\nstandards for troops made available to the Organization.\\nThe insufficiency of funds is putting the United\\nNations into an almost untenable operational situation. We\\nmust soon reach consensus on reforming and stabilizing\\nthe financial foundation of the Organization.\\nAs regards reimbursement for equipment put at the\\ndisposal of the Organization, agreement on a new system\\nmust be reached during this session of the General\\nAssembly.\\nThe third point concerns the former Yugoslavia.\\nMore than two thirds of the total number of troops under\\nthe United Nations serve in the former Yugoslavia. The\\ninternational community has made a substantial\\ncontribution towards settling the conflict. We have kept\\nnegotiations going, sometimes against all odds. We have\\nsustained what may be the most difficult peace-keeping\\noperation the United Nations has ever mounted. We have\\nrendered extensive humanitarian aid.\\nWe hope that we are now closer to peace. Still,\\nmany obstacles will have to be overcome. The conflict\\nremains a huge challenge to the international community.\\nThe basic principles for a settlement in Bosnia\\nagreed upon in Geneva early this month form a good\\nbasis for further negotiations. Pressure on all parties for\\na negotiated settlement must be upheld. Lasting peace can\\nbe achieved only through negotiations.\\nDenmark continues to give full support to the\\ninternational negotiating efforts, including the efforts of\\nthe Contact Group. Denmark has provided a substantial\\nnumber of peace-keepers and given sizeable contributions\\nto alleviate humanitarian suffering. This commitment\\nstands.\\nBut it is absolutely unacceptable when United\\nNations peace-keepers are used as pawns in military\\nconfrontations. It is intolerable to see them exposed to\\nsurprise actions and direct attacks with loss of life and\\ncasualties as the tragic consequence.\\nThe international community must be prepared for\\naction to be taken when peace is finally achieved.\\nDenmark stands ready to contribute. The present situation\\npresents a window of opportunity; we must seize the\\nmoment.\\n20\\n\\n\\nI would like to express my congratulations on the\\ninterim agreement between the Greek and the Macedonian\\nGovernments and to pay tribute to the untiring efforts of\\nMr. Cyrus Vance.\\nMy fourth point relates to the Middle Fast peace\\nprocess. The strong determination to reach results\\nmanifested itself in the peace treaty signed last autumn\\nbetween Israel and Jordan and in the latest agreement\\nbetween Israel and the Palestinian Authority on the second\\nstage of Palestinian autonomy. Unfortunately, we see less\\nprogress in relations between Syria and Israel and between\\nLebanon and Israel. But we welcome the clear political will\\nto engage in efforts that may bring progress. All parties\\nstand to gain if they realize that there is no real alternative\\nto negotiations and to a just and lasting peace for\\neverybody.\\nMy fifth point is that there is now hope in the field of\\ndisarmament, arms control and confidence-building\\nmeasures. We see positive trends, in particular the\\nagreement reached on indefinitely extending the Treaty on\\nthe Non-Proliferation of Nuclear Weapons. The\\nimplementation of this Treaty has also become more\\neffective. The end of East-West confrontation has led to\\ndramatic reductions in nuclear stockpiles. But as long as\\nthese weapons exist, the risk of their use remains. Denmark\\nsupports the conclusion of a comprehensive test-ban treaty\\nno later than 1996. In particular we support the efforts\\nmade to negotiate a true zero-yield test ban.\\nAt the same time, we deeply deplore the nuclear tests\\ncarried out by China and France. We urge all\\nnuclear-weapon States to refrain from further testing.\\nThe Conference to review the 1980 Convention on\\nProhibitions or Restrictions on the Use of Certain\\nConventional Weapons Which May Be Deemed to Be\\nExcessively Injurious or to Have Indiscriminate Effects is\\nnow taking place at Vienna. We need progress at the\\nConference towards the ultimate goal of the abolition of\\nanti-personnel land mines.\\nThe sixth point is that the Security Council needs to\\nbe enlarged to reflect the world of today. There must be\\nadditional seats for non-permanent members on the\\nprinciple of equitable geographical representation. Denmark\\nalso supports an enlargement of the Security Council with\\nGermany and representatives of the Asian, African and\\nLatin American regions as permanent members.\\nMy seventh point relates to human rights. The\\ninternational protection of human rights must be\\nimproved. International cooperation on monitoring respect\\nfor human rights must be strengthened. Additional\\nresources to carry out this work must be found. In\\nparticular, we must strengthen the Centre for Human\\nRights and the office of the High Commissioner for\\nHuman Rights. Denmark will serve as a member of the\\nCommission on Human Rights as from 1 January 1996.\\nOur key priorities as a member of that Commission will\\ninclude the fight against torture, the furthering of the right\\nto development and the rights of indigenous peoples. The\\nestablishment of a permanent forum within the United\\nNations is a major political aspiration of indigenous\\npeoples around the world. Denmark shares that aspiration.\\nThe General Assembly should decide to call a\\ndiplomatic conference on the establishment of a\\npermanent International criminal court to try cases of\\nserious international crime.\\nWith my final point I wish to draw attention to the\\nstatement issued today by the Nordic Foreign Ministers\\non the financial situation of the United Nations. In that\\nstatement the Nordic countries call on all Member States\\nto fulfil their financial obligations towards the United\\nNations by immediately paying all outstanding\\ncontributions. Imagine how much more could be done if\\nthe United Nations had its present outstanding\\ncontributions \\u2014 $3.5 billion \\u2014 at its disposal. It is a\\nparadox that those criticizing the United Nations for a\\nlack of efficiency are often those who do not honour their\\nfinancial obligations. They are in this way holding the\\nOrganization hostage. They continue to criticize the\\nUnited Nations as if the Organization were not their\\norganization.\\nDenmark sees no alternative to international\\ncooperation to solve global problems. The will of\\nMember States determines the strength of our\\ncooperation. Much more can be done, provided\\nGovernments are willing.\\nThe United Nations has experienced much\\nturbulence. The United Nations needs renewal. The\\nUnited Nations needs resources. The United Nations\\nneeds commitment. Denmark remains as dedicated to the\\nUnited Nations today as we were 50 years ago.\\n\",\n          \"One of the major characteristics of the present world situation is that we have very good news and very bad news at the same time.\\n25.\\tThe most recent very good news was that representatives of the thermonuclear Powers, the Soviet Union and the United States, declared in a joint ceremonial act, with the participation of Foreign Minister Gromyko and President Nixon in Washington, the coming into force of their Treaty on the Limitation of Anti-Ballistic Missile Systems, signed at Moscow on 26 May 1972. In a matter of crucial importance to the future of all mankind, the effort to stop the danger of a thermonuclear war from increasing, this is indeed a historic event.\\n26.\\tOn the other hand, it is very bad news that almost simultaneously B-52 bombers directed one of their most massive attacks against the Democratic Republic of VietNam.\\n27.\\tIn this state of international relations two sorts of opinions can be heard in the general debate at the current session of the General Assembly. The vast majority of Member States have been pleased to note the generally favorable change in the world situation. Some speakers, on the other hand, have talked as if there had been no improvement in international relations and, what is even worse as if the phenomena regarded by others as signs of improvement actually portended new dangers. This concern expressed in statements by a good number of speakers has been given voice for very respectable reasons. But there have been speakers on this rostrum who think that the sublimated right and good of mankind would be served by the outbreak of a thermonuclear war. Those who have expressed such views have not even attempted to make any constructive proposal reflecting what their Governments believe to be a way to solve the problems. There being two kinds of tones heard in this debate, we cannot turn a deaf ear to the negative voices. I am sure, though, that the negative voices will gradually be isolated and dwindle away. Even at this session of the General Assembly they have diminished in number, extent and intensity alike. We must nevertheless take seriously those facts upon which they feel they have a right to build their absurd concept of the world situation. And we ought to do so even in the absence of such deplorable and negative utterances.\\n28.\\tI would have very many reasons to begin my statement by explaining my Government's views on the most favorable aspects of the present international situation, first of all because Hungary is a European country and the most promising signs can be seen in Europe. It is also an exceptional case in the history of the United Nations that both the President of the General Assembly and, the Secretary-General of the United Nations are representatives of European countries. It has been in these days that for the first time in the history of Europe a joint conference was held by the mayors of all European capitals, and that conference took place precisely in Budapest, the capital city of Hungary.\\n29.\\tStill, I shall not start with this. I am going to expound my Government's position, not on the favorable, but on the unfavorable phenomena, in the hope that there will be an improvement in relations where they need improving; that is to say, that the improvement of international relations will be extended to areas in which the obsolete rules of life of a bygone world are still kept alive.\\n30.\\tIt is clear that we live in revolutionary times. We are witnessing great changes of which we are at the same time passive and creative factors. There is a variety of adjectives to describe the forces in the world today. It can be said that there are peaceful forces and aggressive forces. It can be said that there are progressive forces and reactionary forces. Blended with all these, it can be said, there are forces, governments and aspirations which put into effect measures workable at a given time and place, for they understand the call of the times; and there are those which, by putting unworkable measures into effect, make themselves out of step, for they cannot understand the call of the times. There are people, individuals, governments and statutory measures that have outlived their time.\\n31.\\tIn the thermonuclear age the peoples have to reexamine the practices, laws and international relations they have maintained thus far, their conception of international law, the ideas they have of the questions of war and peace. They have to restudy-and I say this with good reason- even their principles regarding just and unjust wars. What might earlier have seemed, to a great extent, to be just wars should today be eliminated.\\n32.\\tThis acclimatization to new conditions is not an easy matter, nor can it be done very rapidly. But history goes on, and those who belong in the junk heap will be carried there by the tide of history. I now quote from a poet of Hungary's revolutionary past who expressed death and the coming of the new generation in an image of the decay and the revival of nature in the spring: '... we are pushed, as the tree's young leaves push off the leaves of yesteryear.'\\n33.\\tYes, after tremendous historical catastrophes-and at the price of the wonderful sacrifices they entailed for man-a new epoch of mankind is being shaped today under comparatively easy circumstances. In a period of historic changes and changes in social systems, one can observe today a considerable relaxation and, because of an awareness of joint responsibilities, considerable co-operation in the relationship between the principal opposing forces, primarily between those on which the question of whether or not there will be a thermonuclear war depends. This relaxation, however, is not perceived and felt by all.\\n34.\\tI wish now to examine, in their international context, those areas where the effect of relaxation cannot as yet be perceived.\\n35.\\tThe two VietNamese parties to the Paris talks on the question of Viet-Nam-the representatives of the Democratic Republic of Viet Nam and, together with Madame Binh, the representatives of the national liberation movement do not feel, because they cannot feel, the improvement in international relations. Still less is this improvement felt by the families of the victims lying in blood and dirt in North and South Viet-Nam in the wake of the wanton ravages of bombing raids. In characterizing the situation by means of a literary quotation, I do not at all intend to mitigate the gravity of this tragedy which is practically unprecedented in the history of South-East Asia. On the contrary, I should like to point out the historical depth of the tragedy.\\n36.\\tIn the middle of the last century, in the very, very dark years of Hungarian history there were many such years back in the past and also recently the author Imre Madach, who might be said to have been the offspring of both the Slovak and the Hungarian peoples, in his drama entitled 'The Tragedy of Man' outlined the past and future of mankind, which he brought to the surface out of the severe sufferings of his private life. This dramatic series of world historical scenes describes, besides the paradise of the first human couple, Athens, Rome and many other things, as well as the construction of the pyramids in ancient Egypt, where a slave dies. In this scene someone tries to console the slave's wife for her loss, saying that it means just one suffering man less. Thereupon the wife replies in these words:\\n'A mere number to you, to me the whole world.\\n'Alas, beloved, who will love me now? '\\nWith this literary quotation I have wished to bring here, into the hall of the United Nations General Assembly, those untold human sufferings which are virtually increasing in some parts of the globe in spite of the fact that we have very serious reasons to talk of improvement in international relations.\\n37.\\tThe general improvement of the international situation does not yet make itself felt in the Viet-Nam question, although the VietNamese side has sketched, with the largest possible measure of political realism, the outlines of an end to the war, a suitable international agreement, and the future of both North and South Viet-Nam. No one can doubt that this is the way of the future. There is no other way. It was a miscalculation in 1964 to devise the Tonkin Bay incident. It was a miscalculation in 1965 to start bombing North Viet-Nam. It was the proper thing in December 1965 to suspend the bombing attacks. It was a miscalculation again to resume bombing in 1966. It was a miscalculation to dispatch a United States armed force of more than 700,000 men to Viet-Nam. It was a miscalculation, while reducing the numerical strength of military personnel, to step up the attacks of mechanized warfare. Eventually there will be practically no one in the whole world who will know what business the United States of America has at all to be in Viet-Nam. One has an impression that even those who send American boys to Viet-Nam do not know that either.\\n38.\\tIn Viet-Nam it is thus impossible to perceive that the international situation is improving. Time, however, is on the side of those who want the effects of the prevailing conditions of international life to be felt also in the VietNamese question.\\n39.\\tThe Hungarian people and their Government support those constructive proposals, which give a sketch of a new, peaceful future of the Far East as a whole, and which have been set forth by the Government of the Democratic Republic of Viet-Nam and the Provisional Revolutionary Government of South Viet-Nam, together with the liberation movement. We can be sure that these proposals provide the realistic core of a solution to the problems. They have been drawn up by men who live there among the people and who do not seek to let the people suffer from the war and its consequences as long as possible, but who want the people to enjoy the blessings of peace as soon as possible. The main requirement raised in those proposals is in fact the removal of a single man with a small group. What the sons of the American nation are. dying for in Viet-Nam is actually the monomania of a single man, Thieu.\\n40.\\tThe improvement of international relations is imperceptible not only in Viet-Nam, but in the Middle East as well. It is difficult to convince the peoples of the Arab countries that international relations are improving. For five years now those peoples have been waiting for something to be done on the strength of the resolution adopted by the United Nations Security Council in November 1967, resolution 242(1967). Some interested Powers argue that there is an essential difference between the English and French texts of that resolution. This difference really exists, but it is not this that enhances the world-wide historical importance of the problem but rather the need to secure the conditions of peaceful coexistence of the peoples of the Middle East.\\n41.\\tThe Government of Israel would make a real contribution to the continued improvement of the international situation if it could take into consideration two facts: one of them concerns the historic aspects of the issue; the other bears a relation to international law.\\n42.\\tAfter the end of the Second World War the progressive forces of the world here in the United Nations also came out in favor of the restoration to their homeland of the dispersed people of Israel because they hoped to do something good for the future of the peoples. In the years of the preparatory and initial stages of the Second World War, fascism, anti-Semitism, racial hatred, the German Ubermensch notion, and Ausradierung (the radical extermination of the Jewish people) became, as it were, the most sternly dominant factors in Europe. Never in the history of mankind have people been killed in such a concentrated manner, in such large numbers and in relatively so short a time as during the era of fascism in Europe. The Soviet Union-which many charge with anti-Semitism today was the decisive factor that made it possible to crush the Fascist Powers, which had sought the complete destruction of Jewry. Had it not been for the Soviet Union, it would not have been possible to defeat Hitlerite Germany.\\n43.\\tThis year the Soviet Union celebrates the fiftieth anniversary of its existence. This is one of the most significant anniversaries in modern history. We are glad that this event occurs at a time when the biggest Power of the other hemisphere has joined in working out the conditions of peaceful coexistence between the two thermonuclear Powers.\\n44.\\tI have digressed from the Middle East question, but only apparently. It is not without reason that many see precisely in the problems of the Middle East region the danger of a new world war, a thermonuclear war. The further trend of the situation in the Middle East will largely depend on relations between the Soviet Union and the United States.\\n45.\\tThe Government of Israel would therefore do a great service to the favorable development of international life if it could take into account the fact that progressive mankind brought into existence or restored the State of Israel in the hope that a progressive, peaceful and happy enclave of humanity would emerge in the restored homeland of the persecuted Jews. Instead of this, a policy of imperialism, colonialism, neo-colonialism and racial hatred manifests itself in all that Israeli Governments have done since the establishment of the State of Israel. We, the Hungarian Government, are very much interested in the fate of Israel. Many Hungarian Jewish families, persecuted at the time, have since sought new homes in the 'Promised Land'. They have a large number of relatives living in Hungary today. These people are also adversely affected by the pursuit by the ruling quarters of Israel of their anti-Arab policy of aggression.\\n46.\\tIn the light of these historic facts, the Israeli Government could do much to promote the favorable development of international relations if it took seriously into consideration Article 51 of the Charter of the United Nations. The United Nations Charter is the principal source of international law today. In pursuance of Article 51 of the Charter, if a Member State victim of armed attack does not receive sufficient effective assistance from the United Nations Security Council, that State has an unrestricted right to resort to any means, including the use of armed force, to repulse the aggression. Since Israel is unwilling to comply with Security Council resolution 242 (1967), the Arab countries victims of aggression have full authority under international law to reoccupy by armed force the territories occupied by the aggressor.\\n47.\\tThese two factors-the historical one and the one based on international law-can for a short time be ignored by the Government of Israel, which feigns to be deaf and blind to them, but by so doing it undermines the very existence of the State of Israel.\\n48.\\tWith profound responsibility towards the future of the people of Israel one can state the following. The Government of Israel has before it proposals from Arab countries that can place the national security of Israel beyond question; if, however, the Government of Israel cannot take these proposals in all seriousness-proposals which are founded on the Security Council resolution-then it will dig the grave of Israel. At home in Hungary we often speak about the role of short-sighted men in politics. With regard to Israel it can be said that in the short-term time might favour the Israeli leaders stricken with short-sightedness, but in the historical perspective those persons will bury the country of Israel for good. The hard facts of history provide examples of how some nations disappeared from the historical scene in consequence of vicious acts by irresponsible leaders. If Israel's leaders of today imagine that, owing to their specific geographical position, the international influence of Zionism that is spread all over the world can make their present attitude realistic, they are tragically mistaken.\\n49.\\tI apologize for having dwelled so long upon this: matter, but the question is one of the most instructive issues not only for the present generation but also, I might say, for the history of all mankind. If the Government of Israel does not draw a lesson from the historic and legal factors, it will inevitably dig the grave of its own country and people. Over the short-term some representatives of the Israeli Government might feel that time is on their side, but they ought to know that the future of Israel hinges on whether or not it will be able to settle the problem of its relations with surrounding Arab countries. It would be an illusion for the Government of Israel to seek to build the future of its country upon international Zionism. There is only one solid and sure foundation on which to build the future of Israel: friendship with the neighboring countries, together with recognition of the rights of the Palestinian people.\\n50.\\tI hope members will not mind my long discussion about the problems of the Middle East, but there is a very serious reason for it. Many people are convinced that the potential source of a new world war is to be found not in Viet-Nam but in the Middle East. A few European Governments, for example, the Government of Austria, back the proposal that the problems of the Middle East and the Mediterranean area should also be placed on the agenda of the prospective European conference on security and co-operation. In addition to all this, in dealing so thoroughly with the Middle East questions, I am prompted also by the fact the the effect of the general improvement of the international situation can be perceived least of all in that region. It is a common international duty of all States Members of the United Nations, an obligation under the Charter, to work out a concrete plan for the peaceful settlement of relations in the Middle East. The Hungarian Government views the efforts of Ambassador Jarring with deep respect and tries not only with good wishes but also with concrete steps to help him to fulfill his historic mission.\\n51.\\tThe large majority of the States Members of the United Nations are countries of what is called the third world. In Georgetown earlier this year their representatives addressed a strong appeal to other countries of the world, asking for their assistance in solving the economic problems of the developing nations.  While we talk here-and with good reason about improvement in international relations, poverty is increasing in large parts of Asia, Africa and Latin America. The peoples of the world have to take concerted action to eliminate the last vestiges of colonialism, to liberate the peoples still living under colonial oppression and, at the same time, to help the countries liberated from colonial domination to overcome their economic difficulties.\\n52.\\tAn important event in the history of the United Nations was the settlement of the question of Chinese representation. The Government of Hungary was pleased to receive the news of events which indicated the lessening of the international isolation of the People's Republic of China and its active participation in world affairs. The settlement of relations between Japan and China is also an event of great importance in international life. It is worth quoting the poem which the Japanese Prime Minister wrote on the historic occasion when, as representative of the Japan of modern history, he was recently on an official visit in the China of the world socialist system. That poem reads as follows:\\n'Japan and China broke their relations many years ago,\\n'But now the time has come to resume these links.\\n'Autumn is approaching.\\n'Our neighbors welcome us with warmth in their eyes.\\n'The Peking sky is clear, and the autumn air is deep.'\\nThat verse is certainly more graceful in Japanese and Chinese than in English or Hungarian. But that is not the point. What is important is that representatives of two great nations have met. Of course it is clear to me that China's rejoining international life could have taken place under more auspicious circumstances. The main reason for the present less auspicious circumstances is that during 22 years the prevalent tendency in this Organization was to boycott the People's Republic of China. The Government of the Hungarian People's Republic is glad that this issue facing the United Nations has now been solved.\\n53.\\tBesides the solution of this issue, much more visible signs of the improvement of the international situation can be discerned in Europe. I know that the name of Europe does not have a pleasant ring to the vast majority of Member States. That name is linked with the barbarous centuries of colonialism and the tragedies of two world wars. But now, at the dawn of a new epoch for mankind, when today's generation is preparing to live in the thermonuclear age, Europe is trying to enforce the policy of peaceful coexistence instead of the alternative of the dreadful cataclysm of thermonuclear war.\\n54.\\tIt is a good thing that at precisely this time both the President of the General Assembly and our Secretary- General are representatives of European countries. I wish to offer both of them my congratulations in this context. The Foreign Minister of Poland, in his statement here in the general debate [2042nd meeting], referred to the tragic past of his country, to the centuries during which Poland had been practically non-existent in terms of international law. Today the Polish people live in the finest period of their history and, thanks to their considerable achievements, have become one of the most active factors of European peace and security and of international cooperation.\\n55.\\tA very lovely manifestation of the hopes entertained in Europe with regard to the Polish people is a nursery rhyme which two great promoters of the interdependence of the peoples of Central Europe, the two Hungarian composers Zoltan Kodaly and Bela Bartok, discovered at a time, in the early years of the century, when from the legal point of view Poland did not even exist in reality. This nursery rhyme can be rendered into English as follows:\\n'Little duckling bathing in the big black pond\\n'Is about to visit mother in Poland.'\\nToday not only Poland but the other European countries along with it can live in peace and security.\\n56.\\tIt is this peace and security that we wish to place on more solid foundations than heretofore. That is why we wish to convene a conference on European security and co-operation. This is not merely an affair of Europe. If we put it through properly, it will benefit also other peoples of the world, since the immeasurable resources to be released by the termination of the arms race can then be used to solve fundamental problems concerning the life of mankind.\\n57.\\tThe Government of the Hungarian People's Republic looks to the future with good hope. We think the United Nations has been and will be an expedient engineer of this future. I compliment our new Secretary-General in expressing that belief. Recently the mayors of the European capitals held a meeting in Budapest. On that occasion the Burgomaster of Vienna presented the text of a joint statement. This is the mark of a new stage in the relations between Budapest and Vienna. Secretary-General Waldheim, both as former Ambassador of Austria and as a former Foreign Minister of his country, has had an important share in improving the relations between States in Central Europe. Also on behalf of the Hungarian people and Government we ask him to use the goodwill with which he has promoted friendship between our two peoples in order to contribute on a global scale to strengthening the mutual understanding and security of the peoples of the world.\\n58.\\tWhen we think of the future of the United Nations, we cannot forget its past either. After the First World War the League of Nations came into being, but was dissolved amid the events following the outbreak of the Second World War. The United Nations was established after the end of the Second World War. Its founders drew a lesson from the experiences of the two World Wars. Nevertheless, this Organization has often found itself in a state of crisis during the past few years. Among the many factors that have saved the existence of this Organization there has been a special, personal factor: die former Secretary-General of the United Nations, UThant. Not only this Organization but the whole of mankind have gone through extremely critical periods in the past years. The wisdom of our former Secretary-General, his responsiveness to human and social problems, his modesty and humility before the great facts of history revealed to us the impressive greatness of his calling in the world and helped many of us to discharge the accumulating tasks confronting the United Nations.\\n59.\\tI express the wish that ills sense of responsibility will prevail in this Organization.\\n\"\n        ],\n        \"semantic_type\": \"\",\n        \"description\": \"\"\n      }\n    }\n  ]\n}"
            }
          },
          "metadata": {},
          "execution_count": 35
        },
        {
          "output_type": "stream",
          "name": "stdout",
          "text": [
            "time: 6.47 s (started: 2025-03-11 16:05:43 +00:00)\n"
          ]
        }
      ],
      "source": [
        "df = pd.read_csv(\"un-general-debates-blueprint.csv\")\n",
        "df.sample(22) #, random_state=53)"
      ]
    },
    {
      "cell_type": "markdown",
      "metadata": {
        "id": "WfS-w0569SQI"
      },
      "source": [
        "## Let's get to know the data (and Pandas):"
      ]
    },
    {
      "cell_type": "code",
      "execution_count": 36,
      "metadata": {
        "id": "WwvPuvC99SQI",
        "outputId": "fd387e78-8ea2-4db0-8e4f-b08c3d43034e",
        "colab": {
          "base_uri": "https://localhost:8080/"
        }
      },
      "outputs": [
        {
          "output_type": "execute_result",
          "data": {
            "text/plain": [
              "(Index(['un-general-debates-blueprint.csv', 'year', 'country', 'country_name',\n",
              "        'speaker', 'position', 'text'],\n",
              "       dtype='object'),\n",
              " un-general-debates-blueprint.csv    float64\n",
              " year                                float64\n",
              " country                              object\n",
              " country_name                         object\n",
              " speaker                              object\n",
              " position                             object\n",
              " text                                 object\n",
              " dtype: object)"
            ]
          },
          "metadata": {},
          "execution_count": 36
        },
        {
          "output_type": "stream",
          "name": "stdout",
          "text": [
            "time: 4.77 ms (started: 2025-03-11 16:05:52 +00:00)\n"
          ]
        }
      ],
      "source": [
        "df.columns, df.dtypes"
      ]
    },
    {
      "cell_type": "code",
      "execution_count": 37,
      "metadata": {
        "id": "ZHWwh0se9SQJ",
        "outputId": "2deaeec0-a4f8-4582-9e54-3bffb86eaefe",
        "colab": {
          "base_uri": "https://localhost:8080/",
          "height": 129
        }
      },
      "outputs": [
        {
          "output_type": "execute_result",
          "data": {
            "text/plain": [
              "                                   count         mean        std     min  \\\n",
              "un-general-debates-blueprint.csv  7507.0    49.610763  12.892155    25.0   \n",
              "year                              7507.0  1994.610763  12.892155  1970.0   \n",
              "\n",
              "                                     25%     50%     75%     max  \n",
              "un-general-debates-blueprint.csv    39.0    51.0    61.0    70.0  \n",
              "year                              1984.0  1996.0  2006.0  2015.0  "
            ],
            "text/html": [
              "\n",
              "  <div id=\"df-ad066262-64d2-4fc7-b2cf-fb33bd7ec20f\" class=\"colab-df-container\">\n",
              "    <div>\n",
              "<style scoped>\n",
              "    .dataframe tbody tr th:only-of-type {\n",
              "        vertical-align: middle;\n",
              "    }\n",
              "\n",
              "    .dataframe tbody tr th {\n",
              "        vertical-align: top;\n",
              "    }\n",
              "\n",
              "    .dataframe thead th {\n",
              "        text-align: right;\n",
              "    }\n",
              "</style>\n",
              "<table border=\"1\" class=\"dataframe\">\n",
              "  <thead>\n",
              "    <tr style=\"text-align: right;\">\n",
              "      <th></th>\n",
              "      <th>count</th>\n",
              "      <th>mean</th>\n",
              "      <th>std</th>\n",
              "      <th>min</th>\n",
              "      <th>25%</th>\n",
              "      <th>50%</th>\n",
              "      <th>75%</th>\n",
              "      <th>max</th>\n",
              "    </tr>\n",
              "  </thead>\n",
              "  <tbody>\n",
              "    <tr>\n",
              "      <th>un-general-debates-blueprint.csv</th>\n",
              "      <td>7507.0</td>\n",
              "      <td>49.610763</td>\n",
              "      <td>12.892155</td>\n",
              "      <td>25.0</td>\n",
              "      <td>39.0</td>\n",
              "      <td>51.0</td>\n",
              "      <td>61.0</td>\n",
              "      <td>70.0</td>\n",
              "    </tr>\n",
              "    <tr>\n",
              "      <th>year</th>\n",
              "      <td>7507.0</td>\n",
              "      <td>1994.610763</td>\n",
              "      <td>12.892155</td>\n",
              "      <td>1970.0</td>\n",
              "      <td>1984.0</td>\n",
              "      <td>1996.0</td>\n",
              "      <td>2006.0</td>\n",
              "      <td>2015.0</td>\n",
              "    </tr>\n",
              "  </tbody>\n",
              "</table>\n",
              "</div>\n",
              "    <div class=\"colab-df-buttons\">\n",
              "\n",
              "  <div class=\"colab-df-container\">\n",
              "    <button class=\"colab-df-convert\" onclick=\"convertToInteractive('df-ad066262-64d2-4fc7-b2cf-fb33bd7ec20f')\"\n",
              "            title=\"Convert this dataframe to an interactive table.\"\n",
              "            style=\"display:none;\">\n",
              "\n",
              "  <svg xmlns=\"http://www.w3.org/2000/svg\" height=\"24px\" viewBox=\"0 -960 960 960\">\n",
              "    <path d=\"M120-120v-720h720v720H120Zm60-500h600v-160H180v160Zm220 220h160v-160H400v160Zm0 220h160v-160H400v160ZM180-400h160v-160H180v160Zm440 0h160v-160H620v160ZM180-180h160v-160H180v160Zm440 0h160v-160H620v160Z\"/>\n",
              "  </svg>\n",
              "    </button>\n",
              "\n",
              "  <style>\n",
              "    .colab-df-container {\n",
              "      display:flex;\n",
              "      gap: 12px;\n",
              "    }\n",
              "\n",
              "    .colab-df-convert {\n",
              "      background-color: #E8F0FE;\n",
              "      border: none;\n",
              "      border-radius: 50%;\n",
              "      cursor: pointer;\n",
              "      display: none;\n",
              "      fill: #1967D2;\n",
              "      height: 32px;\n",
              "      padding: 0 0 0 0;\n",
              "      width: 32px;\n",
              "    }\n",
              "\n",
              "    .colab-df-convert:hover {\n",
              "      background-color: #E2EBFA;\n",
              "      box-shadow: 0px 1px 2px rgba(60, 64, 67, 0.3), 0px 1px 3px 1px rgba(60, 64, 67, 0.15);\n",
              "      fill: #174EA6;\n",
              "    }\n",
              "\n",
              "    .colab-df-buttons div {\n",
              "      margin-bottom: 4px;\n",
              "    }\n",
              "\n",
              "    [theme=dark] .colab-df-convert {\n",
              "      background-color: #3B4455;\n",
              "      fill: #D2E3FC;\n",
              "    }\n",
              "\n",
              "    [theme=dark] .colab-df-convert:hover {\n",
              "      background-color: #434B5C;\n",
              "      box-shadow: 0px 1px 3px 1px rgba(0, 0, 0, 0.15);\n",
              "      filter: drop-shadow(0px 1px 2px rgba(0, 0, 0, 0.3));\n",
              "      fill: #FFFFFF;\n",
              "    }\n",
              "  </style>\n",
              "\n",
              "    <script>\n",
              "      const buttonEl =\n",
              "        document.querySelector('#df-ad066262-64d2-4fc7-b2cf-fb33bd7ec20f button.colab-df-convert');\n",
              "      buttonEl.style.display =\n",
              "        google.colab.kernel.accessAllowed ? 'block' : 'none';\n",
              "\n",
              "      async function convertToInteractive(key) {\n",
              "        const element = document.querySelector('#df-ad066262-64d2-4fc7-b2cf-fb33bd7ec20f');\n",
              "        const dataTable =\n",
              "          await google.colab.kernel.invokeFunction('convertToInteractive',\n",
              "                                                    [key], {});\n",
              "        if (!dataTable) return;\n",
              "\n",
              "        const docLinkHtml = 'Like what you see? Visit the ' +\n",
              "          '<a target=\"_blank\" href=https://colab.research.google.com/notebooks/data_table.ipynb>data table notebook</a>'\n",
              "          + ' to learn more about interactive tables.';\n",
              "        element.innerHTML = '';\n",
              "        dataTable['output_type'] = 'display_data';\n",
              "        await google.colab.output.renderOutput(dataTable, element);\n",
              "        const docLink = document.createElement('div');\n",
              "        docLink.innerHTML = docLinkHtml;\n",
              "        element.appendChild(docLink);\n",
              "      }\n",
              "    </script>\n",
              "  </div>\n",
              "\n",
              "\n",
              "<div id=\"df-acb6dfd8-d903-445b-b3f8-4be4131967d6\">\n",
              "  <button class=\"colab-df-quickchart\" onclick=\"quickchart('df-acb6dfd8-d903-445b-b3f8-4be4131967d6')\"\n",
              "            title=\"Suggest charts\"\n",
              "            style=\"display:none;\">\n",
              "\n",
              "<svg xmlns=\"http://www.w3.org/2000/svg\" height=\"24px\"viewBox=\"0 0 24 24\"\n",
              "     width=\"24px\">\n",
              "    <g>\n",
              "        <path d=\"M19 3H5c-1.1 0-2 .9-2 2v14c0 1.1.9 2 2 2h14c1.1 0 2-.9 2-2V5c0-1.1-.9-2-2-2zM9 17H7v-7h2v7zm4 0h-2V7h2v10zm4 0h-2v-4h2v4z\"/>\n",
              "    </g>\n",
              "</svg>\n",
              "  </button>\n",
              "\n",
              "<style>\n",
              "  .colab-df-quickchart {\n",
              "      --bg-color: #E8F0FE;\n",
              "      --fill-color: #1967D2;\n",
              "      --hover-bg-color: #E2EBFA;\n",
              "      --hover-fill-color: #174EA6;\n",
              "      --disabled-fill-color: #AAA;\n",
              "      --disabled-bg-color: #DDD;\n",
              "  }\n",
              "\n",
              "  [theme=dark] .colab-df-quickchart {\n",
              "      --bg-color: #3B4455;\n",
              "      --fill-color: #D2E3FC;\n",
              "      --hover-bg-color: #434B5C;\n",
              "      --hover-fill-color: #FFFFFF;\n",
              "      --disabled-bg-color: #3B4455;\n",
              "      --disabled-fill-color: #666;\n",
              "  }\n",
              "\n",
              "  .colab-df-quickchart {\n",
              "    background-color: var(--bg-color);\n",
              "    border: none;\n",
              "    border-radius: 50%;\n",
              "    cursor: pointer;\n",
              "    display: none;\n",
              "    fill: var(--fill-color);\n",
              "    height: 32px;\n",
              "    padding: 0;\n",
              "    width: 32px;\n",
              "  }\n",
              "\n",
              "  .colab-df-quickchart:hover {\n",
              "    background-color: var(--hover-bg-color);\n",
              "    box-shadow: 0 1px 2px rgba(60, 64, 67, 0.3), 0 1px 3px 1px rgba(60, 64, 67, 0.15);\n",
              "    fill: var(--button-hover-fill-color);\n",
              "  }\n",
              "\n",
              "  .colab-df-quickchart-complete:disabled,\n",
              "  .colab-df-quickchart-complete:disabled:hover {\n",
              "    background-color: var(--disabled-bg-color);\n",
              "    fill: var(--disabled-fill-color);\n",
              "    box-shadow: none;\n",
              "  }\n",
              "\n",
              "  .colab-df-spinner {\n",
              "    border: 2px solid var(--fill-color);\n",
              "    border-color: transparent;\n",
              "    border-bottom-color: var(--fill-color);\n",
              "    animation:\n",
              "      spin 1s steps(1) infinite;\n",
              "  }\n",
              "\n",
              "  @keyframes spin {\n",
              "    0% {\n",
              "      border-color: transparent;\n",
              "      border-bottom-color: var(--fill-color);\n",
              "      border-left-color: var(--fill-color);\n",
              "    }\n",
              "    20% {\n",
              "      border-color: transparent;\n",
              "      border-left-color: var(--fill-color);\n",
              "      border-top-color: var(--fill-color);\n",
              "    }\n",
              "    30% {\n",
              "      border-color: transparent;\n",
              "      border-left-color: var(--fill-color);\n",
              "      border-top-color: var(--fill-color);\n",
              "      border-right-color: var(--fill-color);\n",
              "    }\n",
              "    40% {\n",
              "      border-color: transparent;\n",
              "      border-right-color: var(--fill-color);\n",
              "      border-top-color: var(--fill-color);\n",
              "    }\n",
              "    60% {\n",
              "      border-color: transparent;\n",
              "      border-right-color: var(--fill-color);\n",
              "    }\n",
              "    80% {\n",
              "      border-color: transparent;\n",
              "      border-right-color: var(--fill-color);\n",
              "      border-bottom-color: var(--fill-color);\n",
              "    }\n",
              "    90% {\n",
              "      border-color: transparent;\n",
              "      border-bottom-color: var(--fill-color);\n",
              "    }\n",
              "  }\n",
              "</style>\n",
              "\n",
              "  <script>\n",
              "    async function quickchart(key) {\n",
              "      const quickchartButtonEl =\n",
              "        document.querySelector('#' + key + ' button');\n",
              "      quickchartButtonEl.disabled = true;  // To prevent multiple clicks.\n",
              "      quickchartButtonEl.classList.add('colab-df-spinner');\n",
              "      try {\n",
              "        const charts = await google.colab.kernel.invokeFunction(\n",
              "            'suggestCharts', [key], {});\n",
              "      } catch (error) {\n",
              "        console.error('Error during call to suggestCharts:', error);\n",
              "      }\n",
              "      quickchartButtonEl.classList.remove('colab-df-spinner');\n",
              "      quickchartButtonEl.classList.add('colab-df-quickchart-complete');\n",
              "    }\n",
              "    (() => {\n",
              "      let quickchartButtonEl =\n",
              "        document.querySelector('#df-acb6dfd8-d903-445b-b3f8-4be4131967d6 button');\n",
              "      quickchartButtonEl.style.display =\n",
              "        google.colab.kernel.accessAllowed ? 'block' : 'none';\n",
              "    })();\n",
              "  </script>\n",
              "</div>\n",
              "\n",
              "    </div>\n",
              "  </div>\n"
            ],
            "application/vnd.google.colaboratory.intrinsic+json": {
              "type": "dataframe",
              "summary": "{\n  \"name\": \"df\",\n  \"rows\": 2,\n  \"fields\": [\n    {\n      \"column\": \"count\",\n      \"properties\": {\n        \"dtype\": \"number\",\n        \"std\": 0.0,\n        \"min\": 7507.0,\n        \"max\": 7507.0,\n        \"num_unique_values\": 1,\n        \"samples\": [\n          7507.0\n        ],\n        \"semantic_type\": \"\",\n        \"description\": \"\"\n      }\n    },\n    {\n      \"column\": \"mean\",\n      \"properties\": {\n        \"dtype\": \"number\",\n        \"std\": 1375.322689407835,\n        \"min\": 49.61076328759824,\n        \"max\": 1994.6107632875983,\n        \"num_unique_values\": 2,\n        \"samples\": [\n          1994.6107632875983\n        ],\n        \"semantic_type\": \"\",\n        \"description\": \"\"\n      }\n    },\n    {\n      \"column\": \"std\",\n      \"properties\": {\n        \"dtype\": \"number\",\n        \"std\": 0.0,\n        \"min\": 12.892154743113053,\n        \"max\": 12.892154743113053,\n        \"num_unique_values\": 1,\n        \"samples\": [\n          12.892154743113053\n        ],\n        \"semantic_type\": \"\",\n        \"description\": \"\"\n      }\n    },\n    {\n      \"column\": \"min\",\n      \"properties\": {\n        \"dtype\": \"number\",\n        \"std\": 1375.322689407835,\n        \"min\": 25.0,\n        \"max\": 1970.0,\n        \"num_unique_values\": 2,\n        \"samples\": [\n          1970.0\n        ],\n        \"semantic_type\": \"\",\n        \"description\": \"\"\n      }\n    },\n    {\n      \"column\": \"25%\",\n      \"properties\": {\n        \"dtype\": \"number\",\n        \"std\": 1375.322689407835,\n        \"min\": 39.0,\n        \"max\": 1984.0,\n        \"num_unique_values\": 2,\n        \"samples\": [\n          1984.0\n        ],\n        \"semantic_type\": \"\",\n        \"description\": \"\"\n      }\n    },\n    {\n      \"column\": \"50%\",\n      \"properties\": {\n        \"dtype\": \"number\",\n        \"std\": 1375.322689407835,\n        \"min\": 51.0,\n        \"max\": 1996.0,\n        \"num_unique_values\": 2,\n        \"samples\": [\n          1996.0\n        ],\n        \"semantic_type\": \"\",\n        \"description\": \"\"\n      }\n    },\n    {\n      \"column\": \"75%\",\n      \"properties\": {\n        \"dtype\": \"number\",\n        \"std\": 1375.322689407835,\n        \"min\": 61.0,\n        \"max\": 2006.0,\n        \"num_unique_values\": 2,\n        \"samples\": [\n          2006.0\n        ],\n        \"semantic_type\": \"\",\n        \"description\": \"\"\n      }\n    },\n    {\n      \"column\": \"max\",\n      \"properties\": {\n        \"dtype\": \"number\",\n        \"std\": 1375.322689407835,\n        \"min\": 70.0,\n        \"max\": 2015.0,\n        \"num_unique_values\": 2,\n        \"samples\": [\n          2015.0\n        ],\n        \"semantic_type\": \"\",\n        \"description\": \"\"\n      }\n    }\n  ]\n}"
            }
          },
          "metadata": {},
          "execution_count": 37
        },
        {
          "output_type": "stream",
          "name": "stdout",
          "text": [
            "time: 33.5 ms (started: 2025-03-11 16:05:52 +00:00)\n"
          ]
        }
      ],
      "source": [
        "df.describe().T"
      ]
    },
    {
      "cell_type": "markdown",
      "metadata": {
        "id": "LZ7son939SQJ"
      },
      "source": [
        "#### 🚧 todo:\n",
        "- explain\n",
        "\t- why only two rows?\n",
        "\t- the strange row above and the values you find. Look into the data!\n",
        "\n",
        "answers:\n"
      ]
    },
    {
      "cell_type": "markdown",
      "source": [
        "1) describe() works on only numerical values and in our dataset we have only two float rows <br>\n",
        "2)\n"
      ],
      "metadata": {
        "id": "4T9QTXyW9_Cn"
      }
    },
    {
      "cell_type": "code",
      "execution_count": 38,
      "metadata": {
        "id": "ha-HMA839SQJ",
        "outputId": "8220ea31-5529-448f-b878-36aa7f153d03",
        "colab": {
          "base_uri": "https://localhost:8080/"
        }
      },
      "outputs": [
        {
          "output_type": "stream",
          "name": "stdout",
          "text": [
            "<class 'pandas.core.frame.DataFrame'>\n",
            "RangeIndex: 7508 entries, 0 to 7507\n",
            "Data columns (total 7 columns):\n",
            " #   Column                            Non-Null Count  Dtype  \n",
            "---  ------                            --------------  -----  \n",
            " 0   un-general-debates-blueprint.csv  7507 non-null   float64\n",
            " 1   year                              7507 non-null   float64\n",
            " 2   country                           7507 non-null   object \n",
            " 3   country_name                      7507 non-null   object \n",
            " 4   speaker                           7480 non-null   object \n",
            " 5   position                          4502 non-null   object \n",
            " 6   text                              7507 non-null   object \n",
            "dtypes: float64(2), object(5)\n",
            "memory usage: 232.4 MB\n",
            "time: 28.9 ms (started: 2025-03-11 16:05:55 +00:00)\n"
          ]
        }
      ],
      "source": [
        "df.info(memory_usage='deep')\n",
        "# check the total memory usage compared to the original file size"
      ]
    },
    {
      "cell_type": "markdown",
      "metadata": {
        "id": "JpbaJzRO9SQJ"
      },
      "source": [
        "## Adding length columns, describing the dataframe"
      ]
    },
    {
      "cell_type": "code",
      "execution_count": 39,
      "metadata": {
        "id": "CRKYyXFf9SQJ",
        "outputId": "ab0df81f-6015-4aec-8e0e-2d1247686cdf",
        "colab": {
          "base_uri": "https://localhost:8080/",
          "height": 161
        }
      },
      "outputs": [
        {
          "output_type": "execute_result",
          "data": {
            "text/plain": [
              "                                   count          mean          std     min  \\\n",
              "un-general-debates-blueprint.csv  7507.0     49.610763    12.892155    25.0   \n",
              "year                              7507.0   1994.610763    12.892155  1970.0   \n",
              "nb_chars                          7507.0  17967.281604  7860.038463  2362.0   \n",
              "\n",
              "                                      25%      50%      75%      max  \n",
              "un-general-debates-blueprint.csv     39.0     51.0     61.0     70.0  \n",
              "year                               1984.0   1996.0   2006.0   2015.0  \n",
              "nb_chars                          12077.0  16424.0  22479.5  72041.0  "
            ],
            "text/html": [
              "\n",
              "  <div id=\"df-227f24e2-47e0-4e32-bb5b-61228ecd7a7b\" class=\"colab-df-container\">\n",
              "    <div>\n",
              "<style scoped>\n",
              "    .dataframe tbody tr th:only-of-type {\n",
              "        vertical-align: middle;\n",
              "    }\n",
              "\n",
              "    .dataframe tbody tr th {\n",
              "        vertical-align: top;\n",
              "    }\n",
              "\n",
              "    .dataframe thead th {\n",
              "        text-align: right;\n",
              "    }\n",
              "</style>\n",
              "<table border=\"1\" class=\"dataframe\">\n",
              "  <thead>\n",
              "    <tr style=\"text-align: right;\">\n",
              "      <th></th>\n",
              "      <th>count</th>\n",
              "      <th>mean</th>\n",
              "      <th>std</th>\n",
              "      <th>min</th>\n",
              "      <th>25%</th>\n",
              "      <th>50%</th>\n",
              "      <th>75%</th>\n",
              "      <th>max</th>\n",
              "    </tr>\n",
              "  </thead>\n",
              "  <tbody>\n",
              "    <tr>\n",
              "      <th>un-general-debates-blueprint.csv</th>\n",
              "      <td>7507.0</td>\n",
              "      <td>49.610763</td>\n",
              "      <td>12.892155</td>\n",
              "      <td>25.0</td>\n",
              "      <td>39.0</td>\n",
              "      <td>51.0</td>\n",
              "      <td>61.0</td>\n",
              "      <td>70.0</td>\n",
              "    </tr>\n",
              "    <tr>\n",
              "      <th>year</th>\n",
              "      <td>7507.0</td>\n",
              "      <td>1994.610763</td>\n",
              "      <td>12.892155</td>\n",
              "      <td>1970.0</td>\n",
              "      <td>1984.0</td>\n",
              "      <td>1996.0</td>\n",
              "      <td>2006.0</td>\n",
              "      <td>2015.0</td>\n",
              "    </tr>\n",
              "    <tr>\n",
              "      <th>nb_chars</th>\n",
              "      <td>7507.0</td>\n",
              "      <td>17967.281604</td>\n",
              "      <td>7860.038463</td>\n",
              "      <td>2362.0</td>\n",
              "      <td>12077.0</td>\n",
              "      <td>16424.0</td>\n",
              "      <td>22479.5</td>\n",
              "      <td>72041.0</td>\n",
              "    </tr>\n",
              "  </tbody>\n",
              "</table>\n",
              "</div>\n",
              "    <div class=\"colab-df-buttons\">\n",
              "\n",
              "  <div class=\"colab-df-container\">\n",
              "    <button class=\"colab-df-convert\" onclick=\"convertToInteractive('df-227f24e2-47e0-4e32-bb5b-61228ecd7a7b')\"\n",
              "            title=\"Convert this dataframe to an interactive table.\"\n",
              "            style=\"display:none;\">\n",
              "\n",
              "  <svg xmlns=\"http://www.w3.org/2000/svg\" height=\"24px\" viewBox=\"0 -960 960 960\">\n",
              "    <path d=\"M120-120v-720h720v720H120Zm60-500h600v-160H180v160Zm220 220h160v-160H400v160Zm0 220h160v-160H400v160ZM180-400h160v-160H180v160Zm440 0h160v-160H620v160ZM180-180h160v-160H180v160Zm440 0h160v-160H620v160Z\"/>\n",
              "  </svg>\n",
              "    </button>\n",
              "\n",
              "  <style>\n",
              "    .colab-df-container {\n",
              "      display:flex;\n",
              "      gap: 12px;\n",
              "    }\n",
              "\n",
              "    .colab-df-convert {\n",
              "      background-color: #E8F0FE;\n",
              "      border: none;\n",
              "      border-radius: 50%;\n",
              "      cursor: pointer;\n",
              "      display: none;\n",
              "      fill: #1967D2;\n",
              "      height: 32px;\n",
              "      padding: 0 0 0 0;\n",
              "      width: 32px;\n",
              "    }\n",
              "\n",
              "    .colab-df-convert:hover {\n",
              "      background-color: #E2EBFA;\n",
              "      box-shadow: 0px 1px 2px rgba(60, 64, 67, 0.3), 0px 1px 3px 1px rgba(60, 64, 67, 0.15);\n",
              "      fill: #174EA6;\n",
              "    }\n",
              "\n",
              "    .colab-df-buttons div {\n",
              "      margin-bottom: 4px;\n",
              "    }\n",
              "\n",
              "    [theme=dark] .colab-df-convert {\n",
              "      background-color: #3B4455;\n",
              "      fill: #D2E3FC;\n",
              "    }\n",
              "\n",
              "    [theme=dark] .colab-df-convert:hover {\n",
              "      background-color: #434B5C;\n",
              "      box-shadow: 0px 1px 3px 1px rgba(0, 0, 0, 0.15);\n",
              "      filter: drop-shadow(0px 1px 2px rgba(0, 0, 0, 0.3));\n",
              "      fill: #FFFFFF;\n",
              "    }\n",
              "  </style>\n",
              "\n",
              "    <script>\n",
              "      const buttonEl =\n",
              "        document.querySelector('#df-227f24e2-47e0-4e32-bb5b-61228ecd7a7b button.colab-df-convert');\n",
              "      buttonEl.style.display =\n",
              "        google.colab.kernel.accessAllowed ? 'block' : 'none';\n",
              "\n",
              "      async function convertToInteractive(key) {\n",
              "        const element = document.querySelector('#df-227f24e2-47e0-4e32-bb5b-61228ecd7a7b');\n",
              "        const dataTable =\n",
              "          await google.colab.kernel.invokeFunction('convertToInteractive',\n",
              "                                                    [key], {});\n",
              "        if (!dataTable) return;\n",
              "\n",
              "        const docLinkHtml = 'Like what you see? Visit the ' +\n",
              "          '<a target=\"_blank\" href=https://colab.research.google.com/notebooks/data_table.ipynb>data table notebook</a>'\n",
              "          + ' to learn more about interactive tables.';\n",
              "        element.innerHTML = '';\n",
              "        dataTable['output_type'] = 'display_data';\n",
              "        await google.colab.output.renderOutput(dataTable, element);\n",
              "        const docLink = document.createElement('div');\n",
              "        docLink.innerHTML = docLinkHtml;\n",
              "        element.appendChild(docLink);\n",
              "      }\n",
              "    </script>\n",
              "  </div>\n",
              "\n",
              "\n",
              "<div id=\"df-1d9f28b5-17fa-4957-a6cc-dc06029c706f\">\n",
              "  <button class=\"colab-df-quickchart\" onclick=\"quickchart('df-1d9f28b5-17fa-4957-a6cc-dc06029c706f')\"\n",
              "            title=\"Suggest charts\"\n",
              "            style=\"display:none;\">\n",
              "\n",
              "<svg xmlns=\"http://www.w3.org/2000/svg\" height=\"24px\"viewBox=\"0 0 24 24\"\n",
              "     width=\"24px\">\n",
              "    <g>\n",
              "        <path d=\"M19 3H5c-1.1 0-2 .9-2 2v14c0 1.1.9 2 2 2h14c1.1 0 2-.9 2-2V5c0-1.1-.9-2-2-2zM9 17H7v-7h2v7zm4 0h-2V7h2v10zm4 0h-2v-4h2v4z\"/>\n",
              "    </g>\n",
              "</svg>\n",
              "  </button>\n",
              "\n",
              "<style>\n",
              "  .colab-df-quickchart {\n",
              "      --bg-color: #E8F0FE;\n",
              "      --fill-color: #1967D2;\n",
              "      --hover-bg-color: #E2EBFA;\n",
              "      --hover-fill-color: #174EA6;\n",
              "      --disabled-fill-color: #AAA;\n",
              "      --disabled-bg-color: #DDD;\n",
              "  }\n",
              "\n",
              "  [theme=dark] .colab-df-quickchart {\n",
              "      --bg-color: #3B4455;\n",
              "      --fill-color: #D2E3FC;\n",
              "      --hover-bg-color: #434B5C;\n",
              "      --hover-fill-color: #FFFFFF;\n",
              "      --disabled-bg-color: #3B4455;\n",
              "      --disabled-fill-color: #666;\n",
              "  }\n",
              "\n",
              "  .colab-df-quickchart {\n",
              "    background-color: var(--bg-color);\n",
              "    border: none;\n",
              "    border-radius: 50%;\n",
              "    cursor: pointer;\n",
              "    display: none;\n",
              "    fill: var(--fill-color);\n",
              "    height: 32px;\n",
              "    padding: 0;\n",
              "    width: 32px;\n",
              "  }\n",
              "\n",
              "  .colab-df-quickchart:hover {\n",
              "    background-color: var(--hover-bg-color);\n",
              "    box-shadow: 0 1px 2px rgba(60, 64, 67, 0.3), 0 1px 3px 1px rgba(60, 64, 67, 0.15);\n",
              "    fill: var(--button-hover-fill-color);\n",
              "  }\n",
              "\n",
              "  .colab-df-quickchart-complete:disabled,\n",
              "  .colab-df-quickchart-complete:disabled:hover {\n",
              "    background-color: var(--disabled-bg-color);\n",
              "    fill: var(--disabled-fill-color);\n",
              "    box-shadow: none;\n",
              "  }\n",
              "\n",
              "  .colab-df-spinner {\n",
              "    border: 2px solid var(--fill-color);\n",
              "    border-color: transparent;\n",
              "    border-bottom-color: var(--fill-color);\n",
              "    animation:\n",
              "      spin 1s steps(1) infinite;\n",
              "  }\n",
              "\n",
              "  @keyframes spin {\n",
              "    0% {\n",
              "      border-color: transparent;\n",
              "      border-bottom-color: var(--fill-color);\n",
              "      border-left-color: var(--fill-color);\n",
              "    }\n",
              "    20% {\n",
              "      border-color: transparent;\n",
              "      border-left-color: var(--fill-color);\n",
              "      border-top-color: var(--fill-color);\n",
              "    }\n",
              "    30% {\n",
              "      border-color: transparent;\n",
              "      border-left-color: var(--fill-color);\n",
              "      border-top-color: var(--fill-color);\n",
              "      border-right-color: var(--fill-color);\n",
              "    }\n",
              "    40% {\n",
              "      border-color: transparent;\n",
              "      border-right-color: var(--fill-color);\n",
              "      border-top-color: var(--fill-color);\n",
              "    }\n",
              "    60% {\n",
              "      border-color: transparent;\n",
              "      border-right-color: var(--fill-color);\n",
              "    }\n",
              "    80% {\n",
              "      border-color: transparent;\n",
              "      border-right-color: var(--fill-color);\n",
              "      border-bottom-color: var(--fill-color);\n",
              "    }\n",
              "    90% {\n",
              "      border-color: transparent;\n",
              "      border-bottom-color: var(--fill-color);\n",
              "    }\n",
              "  }\n",
              "</style>\n",
              "\n",
              "  <script>\n",
              "    async function quickchart(key) {\n",
              "      const quickchartButtonEl =\n",
              "        document.querySelector('#' + key + ' button');\n",
              "      quickchartButtonEl.disabled = true;  // To prevent multiple clicks.\n",
              "      quickchartButtonEl.classList.add('colab-df-spinner');\n",
              "      try {\n",
              "        const charts = await google.colab.kernel.invokeFunction(\n",
              "            'suggestCharts', [key], {});\n",
              "      } catch (error) {\n",
              "        console.error('Error during call to suggestCharts:', error);\n",
              "      }\n",
              "      quickchartButtonEl.classList.remove('colab-df-spinner');\n",
              "      quickchartButtonEl.classList.add('colab-df-quickchart-complete');\n",
              "    }\n",
              "    (() => {\n",
              "      let quickchartButtonEl =\n",
              "        document.querySelector('#df-1d9f28b5-17fa-4957-a6cc-dc06029c706f button');\n",
              "      quickchartButtonEl.style.display =\n",
              "        google.colab.kernel.accessAllowed ? 'block' : 'none';\n",
              "    })();\n",
              "  </script>\n",
              "</div>\n",
              "\n",
              "    </div>\n",
              "  </div>\n"
            ],
            "application/vnd.google.colaboratory.intrinsic+json": {
              "type": "dataframe",
              "summary": "{\n  \"name\": \"df\",\n  \"rows\": 3,\n  \"fields\": [\n    {\n      \"column\": \"count\",\n      \"properties\": {\n        \"dtype\": \"number\",\n        \"std\": 0.0,\n        \"min\": 7507.0,\n        \"max\": 7507.0,\n        \"num_unique_values\": 1,\n        \"samples\": [\n          7507.0\n        ],\n        \"semantic_type\": \"\",\n        \"description\": \"\"\n      }\n    },\n    {\n      \"column\": \"mean\",\n      \"properties\": {\n        \"dtype\": \"number\",\n        \"std\": 9831.515372606367,\n        \"min\": 49.61076328759824,\n        \"max\": 17967.281603836418,\n        \"num_unique_values\": 3,\n        \"samples\": [\n          49.61076328759824\n        ],\n        \"semantic_type\": \"\",\n        \"description\": \"\"\n      }\n    },\n    {\n      \"column\": \"std\",\n      \"properties\": {\n        \"dtype\": \"number\",\n        \"std\": 4530.5520335699775,\n        \"min\": 12.892154743113053,\n        \"max\": 7860.0384632208115,\n        \"num_unique_values\": 2,\n        \"samples\": [\n          7860.0384632208115\n        ],\n        \"semantic_type\": \"\",\n        \"description\": \"\"\n      }\n    },\n    {\n      \"column\": \"min\",\n      \"properties\": {\n        \"dtype\": \"number\",\n        \"std\": 1251.5495728629103,\n        \"min\": 25.0,\n        \"max\": 2362.0,\n        \"num_unique_values\": 3,\n        \"samples\": [\n          25.0\n        ],\n        \"semantic_type\": \"\",\n        \"description\": \"\"\n      }\n    },\n    {\n      \"column\": \"25%\",\n      \"properties\": {\n        \"dtype\": \"number\",\n        \"std\": 6462.26376744249,\n        \"min\": 39.0,\n        \"max\": 12077.0,\n        \"num_unique_values\": 3,\n        \"samples\": [\n          39.0\n        ],\n        \"semantic_type\": \"\",\n        \"description\": \"\"\n      }\n    },\n    {\n      \"column\": \"50%\",\n      \"properties\": {\n        \"dtype\": \"number\",\n        \"std\": 8944.507979760541,\n        \"min\": 51.0,\n        \"max\": 16424.0,\n        \"num_unique_values\": 3,\n        \"samples\": [\n          51.0\n        ],\n        \"semantic_type\": \"\",\n        \"description\": \"\"\n      }\n    },\n    {\n      \"column\": \"75%\",\n      \"properties\": {\n        \"dtype\": \"number\",\n        \"std\": 12419.98637613316,\n        \"min\": 61.0,\n        \"max\": 22479.5,\n        \"num_unique_values\": 3,\n        \"samples\": [\n          61.0\n        ],\n        \"semantic_type\": \"\",\n        \"description\": \"\"\n      }\n    },\n    {\n      \"column\": \"max\",\n      \"properties\": {\n        \"dtype\": \"number\",\n        \"std\": 41002.537608461906,\n        \"min\": 70.0,\n        \"max\": 72041.0,\n        \"num_unique_values\": 3,\n        \"samples\": [\n          70.0\n        ],\n        \"semantic_type\": \"\",\n        \"description\": \"\"\n      }\n    }\n  ]\n}"
            }
          },
          "metadata": {},
          "execution_count": 39
        },
        {
          "output_type": "stream",
          "name": "stdout",
          "text": [
            "time: 35.1 ms (started: 2025-03-11 16:05:56 +00:00)\n"
          ]
        }
      ],
      "source": [
        "df['nb_chars'] = df['text'].str.len()\n",
        "df.describe().T"
      ]
    },
    {
      "cell_type": "markdown",
      "metadata": {
        "id": "l07BwMRH9SQJ"
      },
      "source": [
        "#### 🚧 todo: estimate the number of words\n",
        "\n",
        "- what's the average word size in English? (Remember HoNLP, that class before the vacation?)\n",
        "- what's the mean, min, and max of estimated wordsize?\n",
        "- suppose that a page 11pt has on average 600 words, what are the values in number of pages?\n",
        "- suppose that on average, an English speaker pronounces 150 words per minute, what are the values for the duration of the speeches?\n"
      ]
    },
    {
      "cell_type": "code",
      "execution_count": 40,
      "metadata": {
        "id": "AoD-wL7O9SQJ",
        "outputId": "4b6dc2f1-de0e-4796-9465-2ed8852d1e84",
        "colab": {
          "base_uri": "https://localhost:8080/"
        }
      },
      "outputs": [
        {
          "output_type": "stream",
          "name": "stdout",
          "text": [
            "The average word size in English is: 4.7 characters\n",
            "Longest, shortest, and average speech in words: 15328, 503, 3823\n",
            "Longest, shortest, and average speech in pages: 25.55, 0.84, 6.37\n",
            "Longest, shortest, and average speech in minutes: 102.19, 3.35, 25.49\n",
            "time: 6.27 ms (started: 2025-03-11 16:05:57 +00:00)\n"
          ]
        }
      ],
      "source": [
        "print(\"The average word size in English is: 4.7 characters\")\n",
        "\n",
        "df[\"nb_words_theoritical\"] = df[\"nb_chars\"] / 4.7  # estimate the number of wordsh\n",
        "df[\"nb_pages\"] = df[\"nb_words_theoritical\"] / 600  # estimate pages\n",
        "df[\"nb_minutes\"] = df[\"nb_words_theoritical\"] / 150  # estimate duration\n",
        "\n",
        "print(f'Longest, shortest, and average speech in words: {df[\"nb_words_theoritical\"].max():.0f}, {df[\"nb_words_theoritical\"].min():.0f}, {df[\"nb_words_theoritical\"].mean():.0f}')\n",
        "print(f'Longest, shortest, and average speech in pages: {df[\"nb_pages\"].max():.2f}, {df[\"nb_pages\"].min():.2f}, {df[\"nb_pages\"].mean():.2f}')\n",
        "print(f'Longest, shortest, and average speech in minutes: {df[\"nb_minutes\"].max():.2f}, {df[\"nb_minutes\"].min():.2f}, {df[\"nb_minutes\"].mean():.2f}')"
      ]
    },
    {
      "cell_type": "markdown",
      "metadata": {
        "id": "LMTJMtkd9SQJ"
      },
      "source": [
        "\n",
        "\n",
        "\n",
        "#### 🚧 todo: add a wordlength column"
      ]
    },
    {
      "cell_type": "code",
      "execution_count": 41,
      "metadata": {
        "id": "hJJGXDDF9SQJ",
        "outputId": "f88226f8-bb1c-46b4-c229-159356c925ce",
        "colab": {
          "base_uri": "https://localhost:8080/",
          "height": 286
        }
      },
      "outputs": [
        {
          "output_type": "execute_result",
          "data": {
            "text/plain": [
              "                                   count          mean          std  \\\n",
              "un-general-debates-blueprint.csv  7507.0     49.610763    12.892155   \n",
              "year                              7507.0   1994.610763    12.892155   \n",
              "nb_chars                          7507.0  17967.281604  7860.038463   \n",
              "nb_words_theoritical              7507.0   3822.825873  1672.348609   \n",
              "nb_pages                          7507.0      6.371376     2.787248   \n",
              "nb_minutes                        7507.0     25.485506    11.148991   \n",
              "nb_words                          7508.0   2865.088306  1278.843737   \n",
              "\n",
              "                                          min           25%           50%  \\\n",
              "un-general-debates-blueprint.csv    25.000000     39.000000     51.000000   \n",
              "year                              1970.000000   1984.000000   1996.000000   \n",
              "nb_chars                          2362.000000  12077.000000  16424.000000   \n",
              "nb_words_theoritical               502.553191   2569.574468   3494.468085   \n",
              "nb_pages                             0.837589      4.282624      5.824113   \n",
              "nb_minutes                           3.350355     17.130496     23.296454   \n",
              "nb_words                             1.000000   1905.000000   2611.000000   \n",
              "\n",
              "                                           75%           max  \n",
              "un-general-debates-blueprint.csv     61.000000     70.000000  \n",
              "year                               2006.000000   2015.000000  \n",
              "nb_chars                          22479.500000  72041.000000  \n",
              "nb_words_theoritical               4782.872340  15327.872340  \n",
              "nb_pages                              7.971454     25.546454  \n",
              "nb_minutes                           31.885816    102.185816  \n",
              "nb_words                           3597.250000  11476.000000  "
            ],
            "text/html": [
              "\n",
              "  <div id=\"df-a1809447-85df-4bb7-98fc-bf4fcbdb87e6\" class=\"colab-df-container\">\n",
              "    <div>\n",
              "<style scoped>\n",
              "    .dataframe tbody tr th:only-of-type {\n",
              "        vertical-align: middle;\n",
              "    }\n",
              "\n",
              "    .dataframe tbody tr th {\n",
              "        vertical-align: top;\n",
              "    }\n",
              "\n",
              "    .dataframe thead th {\n",
              "        text-align: right;\n",
              "    }\n",
              "</style>\n",
              "<table border=\"1\" class=\"dataframe\">\n",
              "  <thead>\n",
              "    <tr style=\"text-align: right;\">\n",
              "      <th></th>\n",
              "      <th>count</th>\n",
              "      <th>mean</th>\n",
              "      <th>std</th>\n",
              "      <th>min</th>\n",
              "      <th>25%</th>\n",
              "      <th>50%</th>\n",
              "      <th>75%</th>\n",
              "      <th>max</th>\n",
              "    </tr>\n",
              "  </thead>\n",
              "  <tbody>\n",
              "    <tr>\n",
              "      <th>un-general-debates-blueprint.csv</th>\n",
              "      <td>7507.0</td>\n",
              "      <td>49.610763</td>\n",
              "      <td>12.892155</td>\n",
              "      <td>25.000000</td>\n",
              "      <td>39.000000</td>\n",
              "      <td>51.000000</td>\n",
              "      <td>61.000000</td>\n",
              "      <td>70.000000</td>\n",
              "    </tr>\n",
              "    <tr>\n",
              "      <th>year</th>\n",
              "      <td>7507.0</td>\n",
              "      <td>1994.610763</td>\n",
              "      <td>12.892155</td>\n",
              "      <td>1970.000000</td>\n",
              "      <td>1984.000000</td>\n",
              "      <td>1996.000000</td>\n",
              "      <td>2006.000000</td>\n",
              "      <td>2015.000000</td>\n",
              "    </tr>\n",
              "    <tr>\n",
              "      <th>nb_chars</th>\n",
              "      <td>7507.0</td>\n",
              "      <td>17967.281604</td>\n",
              "      <td>7860.038463</td>\n",
              "      <td>2362.000000</td>\n",
              "      <td>12077.000000</td>\n",
              "      <td>16424.000000</td>\n",
              "      <td>22479.500000</td>\n",
              "      <td>72041.000000</td>\n",
              "    </tr>\n",
              "    <tr>\n",
              "      <th>nb_words_theoritical</th>\n",
              "      <td>7507.0</td>\n",
              "      <td>3822.825873</td>\n",
              "      <td>1672.348609</td>\n",
              "      <td>502.553191</td>\n",
              "      <td>2569.574468</td>\n",
              "      <td>3494.468085</td>\n",
              "      <td>4782.872340</td>\n",
              "      <td>15327.872340</td>\n",
              "    </tr>\n",
              "    <tr>\n",
              "      <th>nb_pages</th>\n",
              "      <td>7507.0</td>\n",
              "      <td>6.371376</td>\n",
              "      <td>2.787248</td>\n",
              "      <td>0.837589</td>\n",
              "      <td>4.282624</td>\n",
              "      <td>5.824113</td>\n",
              "      <td>7.971454</td>\n",
              "      <td>25.546454</td>\n",
              "    </tr>\n",
              "    <tr>\n",
              "      <th>nb_minutes</th>\n",
              "      <td>7507.0</td>\n",
              "      <td>25.485506</td>\n",
              "      <td>11.148991</td>\n",
              "      <td>3.350355</td>\n",
              "      <td>17.130496</td>\n",
              "      <td>23.296454</td>\n",
              "      <td>31.885816</td>\n",
              "      <td>102.185816</td>\n",
              "    </tr>\n",
              "    <tr>\n",
              "      <th>nb_words</th>\n",
              "      <td>7508.0</td>\n",
              "      <td>2865.088306</td>\n",
              "      <td>1278.843737</td>\n",
              "      <td>1.000000</td>\n",
              "      <td>1905.000000</td>\n",
              "      <td>2611.000000</td>\n",
              "      <td>3597.250000</td>\n",
              "      <td>11476.000000</td>\n",
              "    </tr>\n",
              "  </tbody>\n",
              "</table>\n",
              "</div>\n",
              "    <div class=\"colab-df-buttons\">\n",
              "\n",
              "  <div class=\"colab-df-container\">\n",
              "    <button class=\"colab-df-convert\" onclick=\"convertToInteractive('df-a1809447-85df-4bb7-98fc-bf4fcbdb87e6')\"\n",
              "            title=\"Convert this dataframe to an interactive table.\"\n",
              "            style=\"display:none;\">\n",
              "\n",
              "  <svg xmlns=\"http://www.w3.org/2000/svg\" height=\"24px\" viewBox=\"0 -960 960 960\">\n",
              "    <path d=\"M120-120v-720h720v720H120Zm60-500h600v-160H180v160Zm220 220h160v-160H400v160Zm0 220h160v-160H400v160ZM180-400h160v-160H180v160Zm440 0h160v-160H620v160ZM180-180h160v-160H180v160Zm440 0h160v-160H620v160Z\"/>\n",
              "  </svg>\n",
              "    </button>\n",
              "\n",
              "  <style>\n",
              "    .colab-df-container {\n",
              "      display:flex;\n",
              "      gap: 12px;\n",
              "    }\n",
              "\n",
              "    .colab-df-convert {\n",
              "      background-color: #E8F0FE;\n",
              "      border: none;\n",
              "      border-radius: 50%;\n",
              "      cursor: pointer;\n",
              "      display: none;\n",
              "      fill: #1967D2;\n",
              "      height: 32px;\n",
              "      padding: 0 0 0 0;\n",
              "      width: 32px;\n",
              "    }\n",
              "\n",
              "    .colab-df-convert:hover {\n",
              "      background-color: #E2EBFA;\n",
              "      box-shadow: 0px 1px 2px rgba(60, 64, 67, 0.3), 0px 1px 3px 1px rgba(60, 64, 67, 0.15);\n",
              "      fill: #174EA6;\n",
              "    }\n",
              "\n",
              "    .colab-df-buttons div {\n",
              "      margin-bottom: 4px;\n",
              "    }\n",
              "\n",
              "    [theme=dark] .colab-df-convert {\n",
              "      background-color: #3B4455;\n",
              "      fill: #D2E3FC;\n",
              "    }\n",
              "\n",
              "    [theme=dark] .colab-df-convert:hover {\n",
              "      background-color: #434B5C;\n",
              "      box-shadow: 0px 1px 3px 1px rgba(0, 0, 0, 0.15);\n",
              "      filter: drop-shadow(0px 1px 2px rgba(0, 0, 0, 0.3));\n",
              "      fill: #FFFFFF;\n",
              "    }\n",
              "  </style>\n",
              "\n",
              "    <script>\n",
              "      const buttonEl =\n",
              "        document.querySelector('#df-a1809447-85df-4bb7-98fc-bf4fcbdb87e6 button.colab-df-convert');\n",
              "      buttonEl.style.display =\n",
              "        google.colab.kernel.accessAllowed ? 'block' : 'none';\n",
              "\n",
              "      async function convertToInteractive(key) {\n",
              "        const element = document.querySelector('#df-a1809447-85df-4bb7-98fc-bf4fcbdb87e6');\n",
              "        const dataTable =\n",
              "          await google.colab.kernel.invokeFunction('convertToInteractive',\n",
              "                                                    [key], {});\n",
              "        if (!dataTable) return;\n",
              "\n",
              "        const docLinkHtml = 'Like what you see? Visit the ' +\n",
              "          '<a target=\"_blank\" href=https://colab.research.google.com/notebooks/data_table.ipynb>data table notebook</a>'\n",
              "          + ' to learn more about interactive tables.';\n",
              "        element.innerHTML = '';\n",
              "        dataTable['output_type'] = 'display_data';\n",
              "        await google.colab.output.renderOutput(dataTable, element);\n",
              "        const docLink = document.createElement('div');\n",
              "        docLink.innerHTML = docLinkHtml;\n",
              "        element.appendChild(docLink);\n",
              "      }\n",
              "    </script>\n",
              "  </div>\n",
              "\n",
              "\n",
              "<div id=\"df-2f8f54fd-ccd0-4532-b894-0843a053be2b\">\n",
              "  <button class=\"colab-df-quickchart\" onclick=\"quickchart('df-2f8f54fd-ccd0-4532-b894-0843a053be2b')\"\n",
              "            title=\"Suggest charts\"\n",
              "            style=\"display:none;\">\n",
              "\n",
              "<svg xmlns=\"http://www.w3.org/2000/svg\" height=\"24px\"viewBox=\"0 0 24 24\"\n",
              "     width=\"24px\">\n",
              "    <g>\n",
              "        <path d=\"M19 3H5c-1.1 0-2 .9-2 2v14c0 1.1.9 2 2 2h14c1.1 0 2-.9 2-2V5c0-1.1-.9-2-2-2zM9 17H7v-7h2v7zm4 0h-2V7h2v10zm4 0h-2v-4h2v4z\"/>\n",
              "    </g>\n",
              "</svg>\n",
              "  </button>\n",
              "\n",
              "<style>\n",
              "  .colab-df-quickchart {\n",
              "      --bg-color: #E8F0FE;\n",
              "      --fill-color: #1967D2;\n",
              "      --hover-bg-color: #E2EBFA;\n",
              "      --hover-fill-color: #174EA6;\n",
              "      --disabled-fill-color: #AAA;\n",
              "      --disabled-bg-color: #DDD;\n",
              "  }\n",
              "\n",
              "  [theme=dark] .colab-df-quickchart {\n",
              "      --bg-color: #3B4455;\n",
              "      --fill-color: #D2E3FC;\n",
              "      --hover-bg-color: #434B5C;\n",
              "      --hover-fill-color: #FFFFFF;\n",
              "      --disabled-bg-color: #3B4455;\n",
              "      --disabled-fill-color: #666;\n",
              "  }\n",
              "\n",
              "  .colab-df-quickchart {\n",
              "    background-color: var(--bg-color);\n",
              "    border: none;\n",
              "    border-radius: 50%;\n",
              "    cursor: pointer;\n",
              "    display: none;\n",
              "    fill: var(--fill-color);\n",
              "    height: 32px;\n",
              "    padding: 0;\n",
              "    width: 32px;\n",
              "  }\n",
              "\n",
              "  .colab-df-quickchart:hover {\n",
              "    background-color: var(--hover-bg-color);\n",
              "    box-shadow: 0 1px 2px rgba(60, 64, 67, 0.3), 0 1px 3px 1px rgba(60, 64, 67, 0.15);\n",
              "    fill: var(--button-hover-fill-color);\n",
              "  }\n",
              "\n",
              "  .colab-df-quickchart-complete:disabled,\n",
              "  .colab-df-quickchart-complete:disabled:hover {\n",
              "    background-color: var(--disabled-bg-color);\n",
              "    fill: var(--disabled-fill-color);\n",
              "    box-shadow: none;\n",
              "  }\n",
              "\n",
              "  .colab-df-spinner {\n",
              "    border: 2px solid var(--fill-color);\n",
              "    border-color: transparent;\n",
              "    border-bottom-color: var(--fill-color);\n",
              "    animation:\n",
              "      spin 1s steps(1) infinite;\n",
              "  }\n",
              "\n",
              "  @keyframes spin {\n",
              "    0% {\n",
              "      border-color: transparent;\n",
              "      border-bottom-color: var(--fill-color);\n",
              "      border-left-color: var(--fill-color);\n",
              "    }\n",
              "    20% {\n",
              "      border-color: transparent;\n",
              "      border-left-color: var(--fill-color);\n",
              "      border-top-color: var(--fill-color);\n",
              "    }\n",
              "    30% {\n",
              "      border-color: transparent;\n",
              "      border-left-color: var(--fill-color);\n",
              "      border-top-color: var(--fill-color);\n",
              "      border-right-color: var(--fill-color);\n",
              "    }\n",
              "    40% {\n",
              "      border-color: transparent;\n",
              "      border-right-color: var(--fill-color);\n",
              "      border-top-color: var(--fill-color);\n",
              "    }\n",
              "    60% {\n",
              "      border-color: transparent;\n",
              "      border-right-color: var(--fill-color);\n",
              "    }\n",
              "    80% {\n",
              "      border-color: transparent;\n",
              "      border-right-color: var(--fill-color);\n",
              "      border-bottom-color: var(--fill-color);\n",
              "    }\n",
              "    90% {\n",
              "      border-color: transparent;\n",
              "      border-bottom-color: var(--fill-color);\n",
              "    }\n",
              "  }\n",
              "</style>\n",
              "\n",
              "  <script>\n",
              "    async function quickchart(key) {\n",
              "      const quickchartButtonEl =\n",
              "        document.querySelector('#' + key + ' button');\n",
              "      quickchartButtonEl.disabled = true;  // To prevent multiple clicks.\n",
              "      quickchartButtonEl.classList.add('colab-df-spinner');\n",
              "      try {\n",
              "        const charts = await google.colab.kernel.invokeFunction(\n",
              "            'suggestCharts', [key], {});\n",
              "      } catch (error) {\n",
              "        console.error('Error during call to suggestCharts:', error);\n",
              "      }\n",
              "      quickchartButtonEl.classList.remove('colab-df-spinner');\n",
              "      quickchartButtonEl.classList.add('colab-df-quickchart-complete');\n",
              "    }\n",
              "    (() => {\n",
              "      let quickchartButtonEl =\n",
              "        document.querySelector('#df-2f8f54fd-ccd0-4532-b894-0843a053be2b button');\n",
              "      quickchartButtonEl.style.display =\n",
              "        google.colab.kernel.accessAllowed ? 'block' : 'none';\n",
              "    })();\n",
              "  </script>\n",
              "</div>\n",
              "\n",
              "    </div>\n",
              "  </div>\n"
            ],
            "application/vnd.google.colaboratory.intrinsic+json": {
              "type": "dataframe",
              "summary": "{\n  \"name\": \"df\",\n  \"rows\": 7,\n  \"fields\": [\n    {\n      \"column\": \"count\",\n      \"properties\": {\n        \"dtype\": \"number\",\n        \"std\": 0.3779644730092272,\n        \"min\": 7507.0,\n        \"max\": 7508.0,\n        \"num_unique_values\": 2,\n        \"samples\": [\n          7508.0,\n          7507.0\n        ],\n        \"semantic_type\": \"\",\n        \"description\": \"\"\n      }\n    },\n    {\n      \"column\": \"mean\",\n      \"properties\": {\n        \"dtype\": \"number\",\n        \"std\": 6423.2314636934025,\n        \"min\": 6.371376455261141,\n        \"max\": 17967.281603836418,\n        \"num_unique_values\": 7,\n        \"samples\": [\n          49.61076328759824,\n          1994.6107632875983\n        ],\n        \"semantic_type\": \"\",\n        \"description\": \"\"\n      }\n    },\n    {\n      \"column\": \"std\",\n      \"properties\": {\n        \"dtype\": \"number\",\n        \"std\": 2869.158150775504,\n        \"min\": 2.787247681993194,\n        \"max\": 7860.0384632208115,\n        \"num_unique_values\": 6,\n        \"samples\": [\n          12.892154743113053,\n          7860.0384632208115\n        ],\n        \"semantic_type\": \"\",\n        \"description\": \"\"\n      }\n    },\n    {\n      \"column\": \"min\",\n      \"properties\": {\n        \"dtype\": \"number\",\n        \"std\": 1027.3206615454358,\n        \"min\": 0.8375886524822694,\n        \"max\": 2362.0,\n        \"num_unique_values\": 7,\n        \"samples\": [\n          25.0,\n          1970.0\n        ],\n        \"semantic_type\": \"\",\n        \"description\": \"\"\n      }\n    },\n    {\n      \"column\": \"25%\",\n      \"properties\": {\n        \"dtype\": \"number\",\n        \"std\": 4293.837044713796,\n        \"min\": 4.282624113475177,\n        \"max\": 12077.0,\n        \"num_unique_values\": 7,\n        \"samples\": [\n          39.0,\n          1984.0\n        ],\n        \"semantic_type\": \"\",\n        \"description\": \"\"\n      }\n    },\n    {\n      \"column\": \"50%\",\n      \"properties\": {\n        \"dtype\": \"number\",\n        \"std\": 5863.344957821106,\n        \"min\": 5.824113475177304,\n        \"max\": 16424.0,\n        \"num_unique_values\": 7,\n        \"samples\": [\n          51.0,\n          1996.0\n        ],\n        \"semantic_type\": \"\",\n        \"description\": \"\"\n      }\n    },\n    {\n      \"column\": \"75%\",\n      \"properties\": {\n        \"dtype\": \"number\",\n        \"std\": 8061.40282654163,\n        \"min\": 7.9714539007092196,\n        \"max\": 22479.5,\n        \"num_unique_values\": 7,\n        \"samples\": [\n          61.0,\n          2006.0\n        ],\n        \"semantic_type\": \"\",\n        \"description\": \"\"\n      }\n    },\n    {\n      \"column\": \"max\",\n      \"properties\": {\n        \"dtype\": \"number\",\n        \"std\": 26145.98648059694,\n        \"min\": 25.546453900709217,\n        \"max\": 72041.0,\n        \"num_unique_values\": 7,\n        \"samples\": [\n          70.0,\n          2015.0\n        ],\n        \"semantic_type\": \"\",\n        \"description\": \"\"\n      }\n    }\n  ]\n}"
            }
          },
          "metadata": {},
          "execution_count": 41
        },
        {
          "output_type": "stream",
          "name": "stdout",
          "text": [
            "time: 1.48 s (started: 2025-03-11 16:05:58 +00:00)\n"
          ]
        }
      ],
      "source": [
        "# # 🚧 todo: explain why this fails\n",
        "# df['nb_words'] = df['text'].str.split().len()\n",
        "\n",
        "# EXPLANATION :\n",
        "# str.split() returns a series of lists, and len() can't be applied to the entire series. The len() function needs to be applied to each individual list of words\n",
        "\n",
        "# # 🚧 todo: explain why this fails\n",
        "#df['nb_words'] = df['text'].str.split().apply(len)\n",
        "\n",
        "# EXPLANATION :\n",
        "# In the text, we have numbers. str.split().apply(len) works only if all values in \"text\" are strings because after the split we will have numbers and we can't compute its length\n",
        "\n",
        "# 🚧 todo: find a way of getting this column\n",
        "df['nb_words'] = df['text'].apply(lambda x: len(str(x).split()))\n",
        "\n",
        "df.describe().T"
      ]
    },
    {
      "cell_type": "code",
      "execution_count": 42,
      "metadata": {
        "id": "OuenCZED9SQJ",
        "outputId": "1d6dd366-4652-42c3-b1bd-b4ff5718d002",
        "colab": {
          "base_uri": "https://localhost:8080/"
        }
      },
      "outputs": [
        {
          "output_type": "execute_result",
          "data": {
            "text/plain": [
              "6.290310225967063"
            ]
          },
          "metadata": {},
          "execution_count": 42
        },
        {
          "output_type": "stream",
          "name": "stdout",
          "text": [
            "time: 2.78 ms (started: 2025-03-11 16:08:16 +00:00)\n"
          ]
        }
      ],
      "source": [
        "16424.0/2611.0"
      ]
    },
    {
      "cell_type": "markdown",
      "metadata": {
        "id": "QZrbVG9b9SQK"
      },
      "source": [
        "#### 🚧 todo: check the results\n",
        "\n",
        "- how was our estimate of word length compared to reality?\n",
        "- if your minumum wordlength is now 0 or 1, explain by checking the file.\n",
        "- the simple tokenization by splitting gives in average longer or shorter words than a more linguistically motivated tokenization?"
      ]
    },
    {
      "cell_type": "code",
      "execution_count": 43,
      "metadata": {
        "id": "lp3J2m2U9SQK",
        "outputId": "88b4887e-539b-46b5-bb7b-efeed733d6f7",
        "colab": {
          "base_uri": "https://localhost:8080/",
          "height": 98
        }
      },
      "outputs": [
        {
          "output_type": "execute_result",
          "data": {
            "text/plain": [
              "      un-general-debates-blueprint.csv  year country country_name speaker  \\\n",
              "7507                               NaN   NaN     NaN          NaN     NaN   \n",
              "\n",
              "     position text  nb_chars  nb_words_theoritical  nb_pages  nb_minutes  \\\n",
              "7507      NaN  NaN       NaN                   NaN       NaN         NaN   \n",
              "\n",
              "      nb_words  \n",
              "7507         1  "
            ],
            "text/html": [
              "\n",
              "  <div id=\"df-2bfde3db-ebad-4813-9394-751ff8a37fcf\" class=\"colab-df-container\">\n",
              "    <div>\n",
              "<style scoped>\n",
              "    .dataframe tbody tr th:only-of-type {\n",
              "        vertical-align: middle;\n",
              "    }\n",
              "\n",
              "    .dataframe tbody tr th {\n",
              "        vertical-align: top;\n",
              "    }\n",
              "\n",
              "    .dataframe thead th {\n",
              "        text-align: right;\n",
              "    }\n",
              "</style>\n",
              "<table border=\"1\" class=\"dataframe\">\n",
              "  <thead>\n",
              "    <tr style=\"text-align: right;\">\n",
              "      <th></th>\n",
              "      <th>un-general-debates-blueprint.csv</th>\n",
              "      <th>year</th>\n",
              "      <th>country</th>\n",
              "      <th>country_name</th>\n",
              "      <th>speaker</th>\n",
              "      <th>position</th>\n",
              "      <th>text</th>\n",
              "      <th>nb_chars</th>\n",
              "      <th>nb_words_theoritical</th>\n",
              "      <th>nb_pages</th>\n",
              "      <th>nb_minutes</th>\n",
              "      <th>nb_words</th>\n",
              "    </tr>\n",
              "  </thead>\n",
              "  <tbody>\n",
              "    <tr>\n",
              "      <th>7507</th>\n",
              "      <td>NaN</td>\n",
              "      <td>NaN</td>\n",
              "      <td>NaN</td>\n",
              "      <td>NaN</td>\n",
              "      <td>NaN</td>\n",
              "      <td>NaN</td>\n",
              "      <td>NaN</td>\n",
              "      <td>NaN</td>\n",
              "      <td>NaN</td>\n",
              "      <td>NaN</td>\n",
              "      <td>NaN</td>\n",
              "      <td>1</td>\n",
              "    </tr>\n",
              "  </tbody>\n",
              "</table>\n",
              "</div>\n",
              "    <div class=\"colab-df-buttons\">\n",
              "\n",
              "  <div class=\"colab-df-container\">\n",
              "    <button class=\"colab-df-convert\" onclick=\"convertToInteractive('df-2bfde3db-ebad-4813-9394-751ff8a37fcf')\"\n",
              "            title=\"Convert this dataframe to an interactive table.\"\n",
              "            style=\"display:none;\">\n",
              "\n",
              "  <svg xmlns=\"http://www.w3.org/2000/svg\" height=\"24px\" viewBox=\"0 -960 960 960\">\n",
              "    <path d=\"M120-120v-720h720v720H120Zm60-500h600v-160H180v160Zm220 220h160v-160H400v160Zm0 220h160v-160H400v160ZM180-400h160v-160H180v160Zm440 0h160v-160H620v160ZM180-180h160v-160H180v160Zm440 0h160v-160H620v160Z\"/>\n",
              "  </svg>\n",
              "    </button>\n",
              "\n",
              "  <style>\n",
              "    .colab-df-container {\n",
              "      display:flex;\n",
              "      gap: 12px;\n",
              "    }\n",
              "\n",
              "    .colab-df-convert {\n",
              "      background-color: #E8F0FE;\n",
              "      border: none;\n",
              "      border-radius: 50%;\n",
              "      cursor: pointer;\n",
              "      display: none;\n",
              "      fill: #1967D2;\n",
              "      height: 32px;\n",
              "      padding: 0 0 0 0;\n",
              "      width: 32px;\n",
              "    }\n",
              "\n",
              "    .colab-df-convert:hover {\n",
              "      background-color: #E2EBFA;\n",
              "      box-shadow: 0px 1px 2px rgba(60, 64, 67, 0.3), 0px 1px 3px 1px rgba(60, 64, 67, 0.15);\n",
              "      fill: #174EA6;\n",
              "    }\n",
              "\n",
              "    .colab-df-buttons div {\n",
              "      margin-bottom: 4px;\n",
              "    }\n",
              "\n",
              "    [theme=dark] .colab-df-convert {\n",
              "      background-color: #3B4455;\n",
              "      fill: #D2E3FC;\n",
              "    }\n",
              "\n",
              "    [theme=dark] .colab-df-convert:hover {\n",
              "      background-color: #434B5C;\n",
              "      box-shadow: 0px 1px 3px 1px rgba(0, 0, 0, 0.15);\n",
              "      filter: drop-shadow(0px 1px 2px rgba(0, 0, 0, 0.3));\n",
              "      fill: #FFFFFF;\n",
              "    }\n",
              "  </style>\n",
              "\n",
              "    <script>\n",
              "      const buttonEl =\n",
              "        document.querySelector('#df-2bfde3db-ebad-4813-9394-751ff8a37fcf button.colab-df-convert');\n",
              "      buttonEl.style.display =\n",
              "        google.colab.kernel.accessAllowed ? 'block' : 'none';\n",
              "\n",
              "      async function convertToInteractive(key) {\n",
              "        const element = document.querySelector('#df-2bfde3db-ebad-4813-9394-751ff8a37fcf');\n",
              "        const dataTable =\n",
              "          await google.colab.kernel.invokeFunction('convertToInteractive',\n",
              "                                                    [key], {});\n",
              "        if (!dataTable) return;\n",
              "\n",
              "        const docLinkHtml = 'Like what you see? Visit the ' +\n",
              "          '<a target=\"_blank\" href=https://colab.research.google.com/notebooks/data_table.ipynb>data table notebook</a>'\n",
              "          + ' to learn more about interactive tables.';\n",
              "        element.innerHTML = '';\n",
              "        dataTable['output_type'] = 'display_data';\n",
              "        await google.colab.output.renderOutput(dataTable, element);\n",
              "        const docLink = document.createElement('div');\n",
              "        docLink.innerHTML = docLinkHtml;\n",
              "        element.appendChild(docLink);\n",
              "      }\n",
              "    </script>\n",
              "  </div>\n",
              "\n",
              "\n",
              "    </div>\n",
              "  </div>\n"
            ],
            "application/vnd.google.colaboratory.intrinsic+json": {
              "type": "dataframe",
              "repr_error": "0"
            }
          },
          "metadata": {},
          "execution_count": 43
        },
        {
          "output_type": "stream",
          "name": "stdout",
          "text": [
            "time: 29.1 ms (started: 2025-03-11 16:08:18 +00:00)\n"
          ]
        }
      ],
      "source": [
        "# answer:\n",
        "# 1) the real average word length is 6.29 characters per word and is higher than our assumed 4.7 characters per word. An explanation may be that the UN speeches use longer words than general English text.\n",
        "\n",
        "# 2) some rows/speeches are corrupted as show below, their content is NaN\n",
        "df[df[\"nb_words\"] <= 1]  # speeches with words <= 1\n",
        "\n",
        "# 3)\n"
      ]
    },
    {
      "cell_type": "code",
      "execution_count": 44,
      "metadata": {
        "id": "L7XqLYMW9SQK",
        "outputId": "35a205f3-911c-4ca9-bc66-8fb99210c5f2",
        "colab": {
          "base_uri": "https://localhost:8080/",
          "height": 192
        }
      },
      "outputs": [
        {
          "output_type": "execute_result",
          "data": {
            "text/plain": [
              "             count unique                           top  freq\n",
              "country       7507    199                           ALB    46\n",
              "country_name  7507    199                       Albania    46\n",
              "speaker       7480   5428                 Seyoum Mesfin    12\n",
              "position      4502    113  Minister for Foreign Affairs  1813"
            ],
            "text/html": [
              "\n",
              "  <div id=\"df-47c2b212-ad53-48c2-a427-cf9c24a37d81\" class=\"colab-df-container\">\n",
              "    <div>\n",
              "<style scoped>\n",
              "    .dataframe tbody tr th:only-of-type {\n",
              "        vertical-align: middle;\n",
              "    }\n",
              "\n",
              "    .dataframe tbody tr th {\n",
              "        vertical-align: top;\n",
              "    }\n",
              "\n",
              "    .dataframe thead th {\n",
              "        text-align: right;\n",
              "    }\n",
              "</style>\n",
              "<table border=\"1\" class=\"dataframe\">\n",
              "  <thead>\n",
              "    <tr style=\"text-align: right;\">\n",
              "      <th></th>\n",
              "      <th>count</th>\n",
              "      <th>unique</th>\n",
              "      <th>top</th>\n",
              "      <th>freq</th>\n",
              "    </tr>\n",
              "  </thead>\n",
              "  <tbody>\n",
              "    <tr>\n",
              "      <th>country</th>\n",
              "      <td>7507</td>\n",
              "      <td>199</td>\n",
              "      <td>ALB</td>\n",
              "      <td>46</td>\n",
              "    </tr>\n",
              "    <tr>\n",
              "      <th>country_name</th>\n",
              "      <td>7507</td>\n",
              "      <td>199</td>\n",
              "      <td>Albania</td>\n",
              "      <td>46</td>\n",
              "    </tr>\n",
              "    <tr>\n",
              "      <th>speaker</th>\n",
              "      <td>7480</td>\n",
              "      <td>5428</td>\n",
              "      <td>Seyoum Mesfin</td>\n",
              "      <td>12</td>\n",
              "    </tr>\n",
              "    <tr>\n",
              "      <th>position</th>\n",
              "      <td>4502</td>\n",
              "      <td>113</td>\n",
              "      <td>Minister for Foreign Affairs</td>\n",
              "      <td>1813</td>\n",
              "    </tr>\n",
              "  </tbody>\n",
              "</table>\n",
              "</div>\n",
              "    <div class=\"colab-df-buttons\">\n",
              "\n",
              "  <div class=\"colab-df-container\">\n",
              "    <button class=\"colab-df-convert\" onclick=\"convertToInteractive('df-47c2b212-ad53-48c2-a427-cf9c24a37d81')\"\n",
              "            title=\"Convert this dataframe to an interactive table.\"\n",
              "            style=\"display:none;\">\n",
              "\n",
              "  <svg xmlns=\"http://www.w3.org/2000/svg\" height=\"24px\" viewBox=\"0 -960 960 960\">\n",
              "    <path d=\"M120-120v-720h720v720H120Zm60-500h600v-160H180v160Zm220 220h160v-160H400v160Zm0 220h160v-160H400v160ZM180-400h160v-160H180v160Zm440 0h160v-160H620v160ZM180-180h160v-160H180v160Zm440 0h160v-160H620v160Z\"/>\n",
              "  </svg>\n",
              "    </button>\n",
              "\n",
              "  <style>\n",
              "    .colab-df-container {\n",
              "      display:flex;\n",
              "      gap: 12px;\n",
              "    }\n",
              "\n",
              "    .colab-df-convert {\n",
              "      background-color: #E8F0FE;\n",
              "      border: none;\n",
              "      border-radius: 50%;\n",
              "      cursor: pointer;\n",
              "      display: none;\n",
              "      fill: #1967D2;\n",
              "      height: 32px;\n",
              "      padding: 0 0 0 0;\n",
              "      width: 32px;\n",
              "    }\n",
              "\n",
              "    .colab-df-convert:hover {\n",
              "      background-color: #E2EBFA;\n",
              "      box-shadow: 0px 1px 2px rgba(60, 64, 67, 0.3), 0px 1px 3px 1px rgba(60, 64, 67, 0.15);\n",
              "      fill: #174EA6;\n",
              "    }\n",
              "\n",
              "    .colab-df-buttons div {\n",
              "      margin-bottom: 4px;\n",
              "    }\n",
              "\n",
              "    [theme=dark] .colab-df-convert {\n",
              "      background-color: #3B4455;\n",
              "      fill: #D2E3FC;\n",
              "    }\n",
              "\n",
              "    [theme=dark] .colab-df-convert:hover {\n",
              "      background-color: #434B5C;\n",
              "      box-shadow: 0px 1px 3px 1px rgba(0, 0, 0, 0.15);\n",
              "      filter: drop-shadow(0px 1px 2px rgba(0, 0, 0, 0.3));\n",
              "      fill: #FFFFFF;\n",
              "    }\n",
              "  </style>\n",
              "\n",
              "    <script>\n",
              "      const buttonEl =\n",
              "        document.querySelector('#df-47c2b212-ad53-48c2-a427-cf9c24a37d81 button.colab-df-convert');\n",
              "      buttonEl.style.display =\n",
              "        google.colab.kernel.accessAllowed ? 'block' : 'none';\n",
              "\n",
              "      async function convertToInteractive(key) {\n",
              "        const element = document.querySelector('#df-47c2b212-ad53-48c2-a427-cf9c24a37d81');\n",
              "        const dataTable =\n",
              "          await google.colab.kernel.invokeFunction('convertToInteractive',\n",
              "                                                    [key], {});\n",
              "        if (!dataTable) return;\n",
              "\n",
              "        const docLinkHtml = 'Like what you see? Visit the ' +\n",
              "          '<a target=\"_blank\" href=https://colab.research.google.com/notebooks/data_table.ipynb>data table notebook</a>'\n",
              "          + ' to learn more about interactive tables.';\n",
              "        element.innerHTML = '';\n",
              "        dataTable['output_type'] = 'display_data';\n",
              "        await google.colab.output.renderOutput(dataTable, element);\n",
              "        const docLink = document.createElement('div');\n",
              "        docLink.innerHTML = docLinkHtml;\n",
              "        element.appendChild(docLink);\n",
              "      }\n",
              "    </script>\n",
              "  </div>\n",
              "\n",
              "\n",
              "<div id=\"df-0407db58-2ef4-4ad4-aee4-f214c0289d1c\">\n",
              "  <button class=\"colab-df-quickchart\" onclick=\"quickchart('df-0407db58-2ef4-4ad4-aee4-f214c0289d1c')\"\n",
              "            title=\"Suggest charts\"\n",
              "            style=\"display:none;\">\n",
              "\n",
              "<svg xmlns=\"http://www.w3.org/2000/svg\" height=\"24px\"viewBox=\"0 0 24 24\"\n",
              "     width=\"24px\">\n",
              "    <g>\n",
              "        <path d=\"M19 3H5c-1.1 0-2 .9-2 2v14c0 1.1.9 2 2 2h14c1.1 0 2-.9 2-2V5c0-1.1-.9-2-2-2zM9 17H7v-7h2v7zm4 0h-2V7h2v10zm4 0h-2v-4h2v4z\"/>\n",
              "    </g>\n",
              "</svg>\n",
              "  </button>\n",
              "\n",
              "<style>\n",
              "  .colab-df-quickchart {\n",
              "      --bg-color: #E8F0FE;\n",
              "      --fill-color: #1967D2;\n",
              "      --hover-bg-color: #E2EBFA;\n",
              "      --hover-fill-color: #174EA6;\n",
              "      --disabled-fill-color: #AAA;\n",
              "      --disabled-bg-color: #DDD;\n",
              "  }\n",
              "\n",
              "  [theme=dark] .colab-df-quickchart {\n",
              "      --bg-color: #3B4455;\n",
              "      --fill-color: #D2E3FC;\n",
              "      --hover-bg-color: #434B5C;\n",
              "      --hover-fill-color: #FFFFFF;\n",
              "      --disabled-bg-color: #3B4455;\n",
              "      --disabled-fill-color: #666;\n",
              "  }\n",
              "\n",
              "  .colab-df-quickchart {\n",
              "    background-color: var(--bg-color);\n",
              "    border: none;\n",
              "    border-radius: 50%;\n",
              "    cursor: pointer;\n",
              "    display: none;\n",
              "    fill: var(--fill-color);\n",
              "    height: 32px;\n",
              "    padding: 0;\n",
              "    width: 32px;\n",
              "  }\n",
              "\n",
              "  .colab-df-quickchart:hover {\n",
              "    background-color: var(--hover-bg-color);\n",
              "    box-shadow: 0 1px 2px rgba(60, 64, 67, 0.3), 0 1px 3px 1px rgba(60, 64, 67, 0.15);\n",
              "    fill: var(--button-hover-fill-color);\n",
              "  }\n",
              "\n",
              "  .colab-df-quickchart-complete:disabled,\n",
              "  .colab-df-quickchart-complete:disabled:hover {\n",
              "    background-color: var(--disabled-bg-color);\n",
              "    fill: var(--disabled-fill-color);\n",
              "    box-shadow: none;\n",
              "  }\n",
              "\n",
              "  .colab-df-spinner {\n",
              "    border: 2px solid var(--fill-color);\n",
              "    border-color: transparent;\n",
              "    border-bottom-color: var(--fill-color);\n",
              "    animation:\n",
              "      spin 1s steps(1) infinite;\n",
              "  }\n",
              "\n",
              "  @keyframes spin {\n",
              "    0% {\n",
              "      border-color: transparent;\n",
              "      border-bottom-color: var(--fill-color);\n",
              "      border-left-color: var(--fill-color);\n",
              "    }\n",
              "    20% {\n",
              "      border-color: transparent;\n",
              "      border-left-color: var(--fill-color);\n",
              "      border-top-color: var(--fill-color);\n",
              "    }\n",
              "    30% {\n",
              "      border-color: transparent;\n",
              "      border-left-color: var(--fill-color);\n",
              "      border-top-color: var(--fill-color);\n",
              "      border-right-color: var(--fill-color);\n",
              "    }\n",
              "    40% {\n",
              "      border-color: transparent;\n",
              "      border-right-color: var(--fill-color);\n",
              "      border-top-color: var(--fill-color);\n",
              "    }\n",
              "    60% {\n",
              "      border-color: transparent;\n",
              "      border-right-color: var(--fill-color);\n",
              "    }\n",
              "    80% {\n",
              "      border-color: transparent;\n",
              "      border-right-color: var(--fill-color);\n",
              "      border-bottom-color: var(--fill-color);\n",
              "    }\n",
              "    90% {\n",
              "      border-color: transparent;\n",
              "      border-bottom-color: var(--fill-color);\n",
              "    }\n",
              "  }\n",
              "</style>\n",
              "\n",
              "  <script>\n",
              "    async function quickchart(key) {\n",
              "      const quickchartButtonEl =\n",
              "        document.querySelector('#' + key + ' button');\n",
              "      quickchartButtonEl.disabled = true;  // To prevent multiple clicks.\n",
              "      quickchartButtonEl.classList.add('colab-df-spinner');\n",
              "      try {\n",
              "        const charts = await google.colab.kernel.invokeFunction(\n",
              "            'suggestCharts', [key], {});\n",
              "      } catch (error) {\n",
              "        console.error('Error during call to suggestCharts:', error);\n",
              "      }\n",
              "      quickchartButtonEl.classList.remove('colab-df-spinner');\n",
              "      quickchartButtonEl.classList.add('colab-df-quickchart-complete');\n",
              "    }\n",
              "    (() => {\n",
              "      let quickchartButtonEl =\n",
              "        document.querySelector('#df-0407db58-2ef4-4ad4-aee4-f214c0289d1c button');\n",
              "      quickchartButtonEl.style.display =\n",
              "        google.colab.kernel.accessAllowed ? 'block' : 'none';\n",
              "    })();\n",
              "  </script>\n",
              "</div>\n",
              "\n",
              "    </div>\n",
              "  </div>\n"
            ],
            "application/vnd.google.colaboratory.intrinsic+json": {
              "type": "dataframe",
              "summary": "{\n  \"name\": \"df[['country', 'country_name', 'speaker', 'position']]\",\n  \"rows\": 4,\n  \"fields\": [\n    {\n      \"column\": \"count\",\n      \"properties\": {\n        \"dtype\": \"date\",\n        \"min\": \"4502\",\n        \"max\": \"7507\",\n        \"num_unique_values\": 3,\n        \"samples\": [\n          \"7507\",\n          \"7480\",\n          \"4502\"\n        ],\n        \"semantic_type\": \"\",\n        \"description\": \"\"\n      }\n    },\n    {\n      \"column\": \"unique\",\n      \"properties\": {\n        \"dtype\": \"date\",\n        \"min\": 113,\n        \"max\": 5428,\n        \"num_unique_values\": 3,\n        \"samples\": [\n          199,\n          5428,\n          113\n        ],\n        \"semantic_type\": \"\",\n        \"description\": \"\"\n      }\n    },\n    {\n      \"column\": \"top\",\n      \"properties\": {\n        \"dtype\": \"string\",\n        \"num_unique_values\": 4,\n        \"samples\": [\n          \"Albania\",\n          \"Minister for Foreign Affairs\",\n          \"ALB\"\n        ],\n        \"semantic_type\": \"\",\n        \"description\": \"\"\n      }\n    },\n    {\n      \"column\": \"freq\",\n      \"properties\": {\n        \"dtype\": \"date\",\n        \"min\": \"12\",\n        \"max\": \"1813\",\n        \"num_unique_values\": 3,\n        \"samples\": [\n          \"46\",\n          \"12\",\n          \"1813\"\n        ],\n        \"semantic_type\": \"\",\n        \"description\": \"\"\n      }\n    }\n  ]\n}"
            }
          },
          "metadata": {},
          "execution_count": 44
        },
        {
          "output_type": "stream",
          "name": "stdout",
          "text": [
            "time: 33 ms (started: 2025-03-11 16:08:19 +00:00)\n"
          ]
        }
      ],
      "source": [
        "df[['country', 'country_name', 'speaker', 'position']].describe().T"
      ]
    },
    {
      "cell_type": "markdown",
      "metadata": {
        "id": "JZ5z5UPt9SQK"
      },
      "source": [
        "#### 🚧 TODO:\n",
        "- why does the describe() function works differently now?"
      ]
    },
    {
      "cell_type": "markdown",
      "source": [
        "ANSWER :\n",
        "describe() was applied above on numerical values but now we are applying it on non numeric data (categorical data)\n"
      ],
      "metadata": {
        "id": "kq2MzUREhSmB"
      }
    },
    {
      "cell_type": "markdown",
      "metadata": {
        "id": "wNiOfDlK9SQK"
      },
      "source": [
        "## NaN ≠ NA\n",
        "NaN means 0/0. NaN stands for Not a Number\n",
        "\n",
        "NA is generally interpreted as a missing value and has various forms - NA_integer_, NA_real_, etc.\n",
        "\n",
        "https://stats.stackexchange.com/questions/5686/what-is-the-difference-between-nan-and-na"
      ]
    },
    {
      "cell_type": "code",
      "execution_count": 45,
      "metadata": {
        "id": "VHZD-5tF9SQK",
        "outputId": "cce3c1df-9647-496a-c509-b95ebc8b769c",
        "colab": {
          "base_uri": "https://localhost:8080/",
          "height": 478
        }
      },
      "outputs": [
        {
          "output_type": "execute_result",
          "data": {
            "text/plain": [
              "un-general-debates-blueprint.csv       1\n",
              "year                                   1\n",
              "country                                1\n",
              "country_name                           1\n",
              "speaker                               28\n",
              "position                            3006\n",
              "text                                   1\n",
              "nb_chars                               1\n",
              "nb_words_theoritical                   1\n",
              "nb_pages                               1\n",
              "nb_minutes                             1\n",
              "nb_words                               0\n",
              "dtype: int64"
            ],
            "text/html": [
              "<div>\n",
              "<style scoped>\n",
              "    .dataframe tbody tr th:only-of-type {\n",
              "        vertical-align: middle;\n",
              "    }\n",
              "\n",
              "    .dataframe tbody tr th {\n",
              "        vertical-align: top;\n",
              "    }\n",
              "\n",
              "    .dataframe thead th {\n",
              "        text-align: right;\n",
              "    }\n",
              "</style>\n",
              "<table border=\"1\" class=\"dataframe\">\n",
              "  <thead>\n",
              "    <tr style=\"text-align: right;\">\n",
              "      <th></th>\n",
              "      <th>0</th>\n",
              "    </tr>\n",
              "  </thead>\n",
              "  <tbody>\n",
              "    <tr>\n",
              "      <th>un-general-debates-blueprint.csv</th>\n",
              "      <td>1</td>\n",
              "    </tr>\n",
              "    <tr>\n",
              "      <th>year</th>\n",
              "      <td>1</td>\n",
              "    </tr>\n",
              "    <tr>\n",
              "      <th>country</th>\n",
              "      <td>1</td>\n",
              "    </tr>\n",
              "    <tr>\n",
              "      <th>country_name</th>\n",
              "      <td>1</td>\n",
              "    </tr>\n",
              "    <tr>\n",
              "      <th>speaker</th>\n",
              "      <td>28</td>\n",
              "    </tr>\n",
              "    <tr>\n",
              "      <th>position</th>\n",
              "      <td>3006</td>\n",
              "    </tr>\n",
              "    <tr>\n",
              "      <th>text</th>\n",
              "      <td>1</td>\n",
              "    </tr>\n",
              "    <tr>\n",
              "      <th>nb_chars</th>\n",
              "      <td>1</td>\n",
              "    </tr>\n",
              "    <tr>\n",
              "      <th>nb_words_theoritical</th>\n",
              "      <td>1</td>\n",
              "    </tr>\n",
              "    <tr>\n",
              "      <th>nb_pages</th>\n",
              "      <td>1</td>\n",
              "    </tr>\n",
              "    <tr>\n",
              "      <th>nb_minutes</th>\n",
              "      <td>1</td>\n",
              "    </tr>\n",
              "    <tr>\n",
              "      <th>nb_words</th>\n",
              "      <td>0</td>\n",
              "    </tr>\n",
              "  </tbody>\n",
              "</table>\n",
              "</div><br><label><b>dtype:</b> int64</label>"
            ]
          },
          "metadata": {},
          "execution_count": 45
        },
        {
          "output_type": "stream",
          "name": "stdout",
          "text": [
            "time: 19.2 ms (started: 2025-03-11 16:08:24 +00:00)\n"
          ]
        }
      ],
      "source": [
        "df.isna().sum()"
      ]
    },
    {
      "cell_type": "code",
      "execution_count": 46,
      "metadata": {
        "id": "57aoOJsy9SQK",
        "outputId": "0330fa26-31aa-4c65-c257-7cdadc4f0942",
        "colab": {
          "base_uri": "https://localhost:8080/",
          "height": 441
        }
      },
      "outputs": [
        {
          "output_type": "execute_result",
          "data": {
            "text/plain": [
              "      un-general-debates-blueprint.csv    year country    country_name  \\\n",
              "0                                 25.0  1970.0     ALB         Albania   \n",
              "1                                 25.0  1970.0     ARG       Argentina   \n",
              "2                                 25.0  1970.0     AUS       Australia   \n",
              "3                                 25.0  1970.0     AUT         Austria   \n",
              "4                                 25.0  1970.0     BEL         Belgium   \n",
              "...                                ...     ...     ...             ...   \n",
              "6594                              66.0  2011.0      EU  European Union   \n",
              "6982                              68.0  2013.0      EU  European Union   \n",
              "7175                              69.0  2014.0      EU  European Union   \n",
              "7420                              70.0  2015.0     MAR         Morocco   \n",
              "7507                               NaN     NaN     NaN             NaN   \n",
              "\n",
              "                    speaker position  \\\n",
              "0                   Mr. NAS      NaN   \n",
              "1        Mr. DE PABLO PARDO      NaN   \n",
              "2               Mr. McMAHON      NaN   \n",
              "3        Mr. KIRCHSCHLAEGER      NaN   \n",
              "4                Mr. HARMEL      NaN   \n",
              "...                     ...      ...   \n",
              "6594                    NaN      NaN   \n",
              "6982                    NaN      NaN   \n",
              "7175                    NaN      NaN   \n",
              "7420  Prince Moulay Rachid       NaN   \n",
              "7507                    NaN      NaN   \n",
              "\n",
              "                                                   text  nb_chars  \\\n",
              "0     33: May I first convey to our President the co...   51419.0   \n",
              "1     177.\\t : It is a fortunate coincidence that pr...   29286.0   \n",
              "2     100.\\t  It is a pleasure for me to extend to y...   31839.0   \n",
              "3     155.\\t  May I begin by expressing to Ambassado...   26616.0   \n",
              "4     176. No doubt each of us, before coming up to ...   25911.0   \n",
              "...                                                 ...       ...   \n",
              "6594  Europe presents to you a message of \\ncooperat...   11804.0   \n",
              "6982  A year ago \\nwhen we met in the General Assemb...   11477.0   \n",
              "7175  The world today is much more dangerous than \\n...   10617.0   \n",
              "7420  King Mohammed VI has mandated me\\nto convey hi...    9654.0   \n",
              "7507                                                NaN       NaN   \n",
              "\n",
              "      nb_words_theoritical   nb_pages  nb_minutes  nb_words  \n",
              "0             10940.212766  18.233688   72.934752      8306  \n",
              "1              6231.063830  10.385106   41.540426      4780  \n",
              "2              6774.255319  11.290426   45.161702      5204  \n",
              "3              5662.978723   9.438298   37.753191      4325  \n",
              "4              5512.978723   9.188298   36.753191      4290  \n",
              "...                    ...        ...         ...       ...  \n",
              "6594           2511.489362   4.185816   16.743262      1939  \n",
              "6982           2441.914894   4.069858   16.279433      1904  \n",
              "7175           2258.936170   3.764894   15.059574      1744  \n",
              "7420           2054.042553   3.423404   13.693617      1461  \n",
              "7507                   NaN        NaN         NaN         1  \n",
              "\n",
              "[3006 rows x 12 columns]"
            ],
            "text/html": [
              "\n",
              "  <div id=\"df-3e216457-c0e0-46e3-ae2e-16ac4fb7abcb\" class=\"colab-df-container\">\n",
              "    <div>\n",
              "<style scoped>\n",
              "    .dataframe tbody tr th:only-of-type {\n",
              "        vertical-align: middle;\n",
              "    }\n",
              "\n",
              "    .dataframe tbody tr th {\n",
              "        vertical-align: top;\n",
              "    }\n",
              "\n",
              "    .dataframe thead th {\n",
              "        text-align: right;\n",
              "    }\n",
              "</style>\n",
              "<table border=\"1\" class=\"dataframe\">\n",
              "  <thead>\n",
              "    <tr style=\"text-align: right;\">\n",
              "      <th></th>\n",
              "      <th>un-general-debates-blueprint.csv</th>\n",
              "      <th>year</th>\n",
              "      <th>country</th>\n",
              "      <th>country_name</th>\n",
              "      <th>speaker</th>\n",
              "      <th>position</th>\n",
              "      <th>text</th>\n",
              "      <th>nb_chars</th>\n",
              "      <th>nb_words_theoritical</th>\n",
              "      <th>nb_pages</th>\n",
              "      <th>nb_minutes</th>\n",
              "      <th>nb_words</th>\n",
              "    </tr>\n",
              "  </thead>\n",
              "  <tbody>\n",
              "    <tr>\n",
              "      <th>0</th>\n",
              "      <td>25.0</td>\n",
              "      <td>1970.0</td>\n",
              "      <td>ALB</td>\n",
              "      <td>Albania</td>\n",
              "      <td>Mr. NAS</td>\n",
              "      <td>NaN</td>\n",
              "      <td>33: May I first convey to our President the co...</td>\n",
              "      <td>51419.0</td>\n",
              "      <td>10940.212766</td>\n",
              "      <td>18.233688</td>\n",
              "      <td>72.934752</td>\n",
              "      <td>8306</td>\n",
              "    </tr>\n",
              "    <tr>\n",
              "      <th>1</th>\n",
              "      <td>25.0</td>\n",
              "      <td>1970.0</td>\n",
              "      <td>ARG</td>\n",
              "      <td>Argentina</td>\n",
              "      <td>Mr. DE PABLO PARDO</td>\n",
              "      <td>NaN</td>\n",
              "      <td>177.\\t : It is a fortunate coincidence that pr...</td>\n",
              "      <td>29286.0</td>\n",
              "      <td>6231.063830</td>\n",
              "      <td>10.385106</td>\n",
              "      <td>41.540426</td>\n",
              "      <td>4780</td>\n",
              "    </tr>\n",
              "    <tr>\n",
              "      <th>2</th>\n",
              "      <td>25.0</td>\n",
              "      <td>1970.0</td>\n",
              "      <td>AUS</td>\n",
              "      <td>Australia</td>\n",
              "      <td>Mr. McMAHON</td>\n",
              "      <td>NaN</td>\n",
              "      <td>100.\\t  It is a pleasure for me to extend to y...</td>\n",
              "      <td>31839.0</td>\n",
              "      <td>6774.255319</td>\n",
              "      <td>11.290426</td>\n",
              "      <td>45.161702</td>\n",
              "      <td>5204</td>\n",
              "    </tr>\n",
              "    <tr>\n",
              "      <th>3</th>\n",
              "      <td>25.0</td>\n",
              "      <td>1970.0</td>\n",
              "      <td>AUT</td>\n",
              "      <td>Austria</td>\n",
              "      <td>Mr. KIRCHSCHLAEGER</td>\n",
              "      <td>NaN</td>\n",
              "      <td>155.\\t  May I begin by expressing to Ambassado...</td>\n",
              "      <td>26616.0</td>\n",
              "      <td>5662.978723</td>\n",
              "      <td>9.438298</td>\n",
              "      <td>37.753191</td>\n",
              "      <td>4325</td>\n",
              "    </tr>\n",
              "    <tr>\n",
              "      <th>4</th>\n",
              "      <td>25.0</td>\n",
              "      <td>1970.0</td>\n",
              "      <td>BEL</td>\n",
              "      <td>Belgium</td>\n",
              "      <td>Mr. HARMEL</td>\n",
              "      <td>NaN</td>\n",
              "      <td>176. No doubt each of us, before coming up to ...</td>\n",
              "      <td>25911.0</td>\n",
              "      <td>5512.978723</td>\n",
              "      <td>9.188298</td>\n",
              "      <td>36.753191</td>\n",
              "      <td>4290</td>\n",
              "    </tr>\n",
              "    <tr>\n",
              "      <th>...</th>\n",
              "      <td>...</td>\n",
              "      <td>...</td>\n",
              "      <td>...</td>\n",
              "      <td>...</td>\n",
              "      <td>...</td>\n",
              "      <td>...</td>\n",
              "      <td>...</td>\n",
              "      <td>...</td>\n",
              "      <td>...</td>\n",
              "      <td>...</td>\n",
              "      <td>...</td>\n",
              "      <td>...</td>\n",
              "    </tr>\n",
              "    <tr>\n",
              "      <th>6594</th>\n",
              "      <td>66.0</td>\n",
              "      <td>2011.0</td>\n",
              "      <td>EU</td>\n",
              "      <td>European Union</td>\n",
              "      <td>NaN</td>\n",
              "      <td>NaN</td>\n",
              "      <td>Europe presents to you a message of \\ncooperat...</td>\n",
              "      <td>11804.0</td>\n",
              "      <td>2511.489362</td>\n",
              "      <td>4.185816</td>\n",
              "      <td>16.743262</td>\n",
              "      <td>1939</td>\n",
              "    </tr>\n",
              "    <tr>\n",
              "      <th>6982</th>\n",
              "      <td>68.0</td>\n",
              "      <td>2013.0</td>\n",
              "      <td>EU</td>\n",
              "      <td>European Union</td>\n",
              "      <td>NaN</td>\n",
              "      <td>NaN</td>\n",
              "      <td>A year ago \\nwhen we met in the General Assemb...</td>\n",
              "      <td>11477.0</td>\n",
              "      <td>2441.914894</td>\n",
              "      <td>4.069858</td>\n",
              "      <td>16.279433</td>\n",
              "      <td>1904</td>\n",
              "    </tr>\n",
              "    <tr>\n",
              "      <th>7175</th>\n",
              "      <td>69.0</td>\n",
              "      <td>2014.0</td>\n",
              "      <td>EU</td>\n",
              "      <td>European Union</td>\n",
              "      <td>NaN</td>\n",
              "      <td>NaN</td>\n",
              "      <td>The world today is much more dangerous than \\n...</td>\n",
              "      <td>10617.0</td>\n",
              "      <td>2258.936170</td>\n",
              "      <td>3.764894</td>\n",
              "      <td>15.059574</td>\n",
              "      <td>1744</td>\n",
              "    </tr>\n",
              "    <tr>\n",
              "      <th>7420</th>\n",
              "      <td>70.0</td>\n",
              "      <td>2015.0</td>\n",
              "      <td>MAR</td>\n",
              "      <td>Morocco</td>\n",
              "      <td>Prince Moulay Rachid</td>\n",
              "      <td>NaN</td>\n",
              "      <td>King Mohammed VI has mandated me\\nto convey hi...</td>\n",
              "      <td>9654.0</td>\n",
              "      <td>2054.042553</td>\n",
              "      <td>3.423404</td>\n",
              "      <td>13.693617</td>\n",
              "      <td>1461</td>\n",
              "    </tr>\n",
              "    <tr>\n",
              "      <th>7507</th>\n",
              "      <td>NaN</td>\n",
              "      <td>NaN</td>\n",
              "      <td>NaN</td>\n",
              "      <td>NaN</td>\n",
              "      <td>NaN</td>\n",
              "      <td>NaN</td>\n",
              "      <td>NaN</td>\n",
              "      <td>NaN</td>\n",
              "      <td>NaN</td>\n",
              "      <td>NaN</td>\n",
              "      <td>NaN</td>\n",
              "      <td>1</td>\n",
              "    </tr>\n",
              "  </tbody>\n",
              "</table>\n",
              "<p>3006 rows × 12 columns</p>\n",
              "</div>\n",
              "    <div class=\"colab-df-buttons\">\n",
              "\n",
              "  <div class=\"colab-df-container\">\n",
              "    <button class=\"colab-df-convert\" onclick=\"convertToInteractive('df-3e216457-c0e0-46e3-ae2e-16ac4fb7abcb')\"\n",
              "            title=\"Convert this dataframe to an interactive table.\"\n",
              "            style=\"display:none;\">\n",
              "\n",
              "  <svg xmlns=\"http://www.w3.org/2000/svg\" height=\"24px\" viewBox=\"0 -960 960 960\">\n",
              "    <path d=\"M120-120v-720h720v720H120Zm60-500h600v-160H180v160Zm220 220h160v-160H400v160Zm0 220h160v-160H400v160ZM180-400h160v-160H180v160Zm440 0h160v-160H620v160ZM180-180h160v-160H180v160Zm440 0h160v-160H620v160Z\"/>\n",
              "  </svg>\n",
              "    </button>\n",
              "\n",
              "  <style>\n",
              "    .colab-df-container {\n",
              "      display:flex;\n",
              "      gap: 12px;\n",
              "    }\n",
              "\n",
              "    .colab-df-convert {\n",
              "      background-color: #E8F0FE;\n",
              "      border: none;\n",
              "      border-radius: 50%;\n",
              "      cursor: pointer;\n",
              "      display: none;\n",
              "      fill: #1967D2;\n",
              "      height: 32px;\n",
              "      padding: 0 0 0 0;\n",
              "      width: 32px;\n",
              "    }\n",
              "\n",
              "    .colab-df-convert:hover {\n",
              "      background-color: #E2EBFA;\n",
              "      box-shadow: 0px 1px 2px rgba(60, 64, 67, 0.3), 0px 1px 3px 1px rgba(60, 64, 67, 0.15);\n",
              "      fill: #174EA6;\n",
              "    }\n",
              "\n",
              "    .colab-df-buttons div {\n",
              "      margin-bottom: 4px;\n",
              "    }\n",
              "\n",
              "    [theme=dark] .colab-df-convert {\n",
              "      background-color: #3B4455;\n",
              "      fill: #D2E3FC;\n",
              "    }\n",
              "\n",
              "    [theme=dark] .colab-df-convert:hover {\n",
              "      background-color: #434B5C;\n",
              "      box-shadow: 0px 1px 3px 1px rgba(0, 0, 0, 0.15);\n",
              "      filter: drop-shadow(0px 1px 2px rgba(0, 0, 0, 0.3));\n",
              "      fill: #FFFFFF;\n",
              "    }\n",
              "  </style>\n",
              "\n",
              "    <script>\n",
              "      const buttonEl =\n",
              "        document.querySelector('#df-3e216457-c0e0-46e3-ae2e-16ac4fb7abcb button.colab-df-convert');\n",
              "      buttonEl.style.display =\n",
              "        google.colab.kernel.accessAllowed ? 'block' : 'none';\n",
              "\n",
              "      async function convertToInteractive(key) {\n",
              "        const element = document.querySelector('#df-3e216457-c0e0-46e3-ae2e-16ac4fb7abcb');\n",
              "        const dataTable =\n",
              "          await google.colab.kernel.invokeFunction('convertToInteractive',\n",
              "                                                    [key], {});\n",
              "        if (!dataTable) return;\n",
              "\n",
              "        const docLinkHtml = 'Like what you see? Visit the ' +\n",
              "          '<a target=\"_blank\" href=https://colab.research.google.com/notebooks/data_table.ipynb>data table notebook</a>'\n",
              "          + ' to learn more about interactive tables.';\n",
              "        element.innerHTML = '';\n",
              "        dataTable['output_type'] = 'display_data';\n",
              "        await google.colab.output.renderOutput(dataTable, element);\n",
              "        const docLink = document.createElement('div');\n",
              "        docLink.innerHTML = docLinkHtml;\n",
              "        element.appendChild(docLink);\n",
              "      }\n",
              "    </script>\n",
              "  </div>\n",
              "\n",
              "\n",
              "<div id=\"df-2090366b-4aa2-415d-bec2-0e9c54d7ca09\">\n",
              "  <button class=\"colab-df-quickchart\" onclick=\"quickchart('df-2090366b-4aa2-415d-bec2-0e9c54d7ca09')\"\n",
              "            title=\"Suggest charts\"\n",
              "            style=\"display:none;\">\n",
              "\n",
              "<svg xmlns=\"http://www.w3.org/2000/svg\" height=\"24px\"viewBox=\"0 0 24 24\"\n",
              "     width=\"24px\">\n",
              "    <g>\n",
              "        <path d=\"M19 3H5c-1.1 0-2 .9-2 2v14c0 1.1.9 2 2 2h14c1.1 0 2-.9 2-2V5c0-1.1-.9-2-2-2zM9 17H7v-7h2v7zm4 0h-2V7h2v10zm4 0h-2v-4h2v4z\"/>\n",
              "    </g>\n",
              "</svg>\n",
              "  </button>\n",
              "\n",
              "<style>\n",
              "  .colab-df-quickchart {\n",
              "      --bg-color: #E8F0FE;\n",
              "      --fill-color: #1967D2;\n",
              "      --hover-bg-color: #E2EBFA;\n",
              "      --hover-fill-color: #174EA6;\n",
              "      --disabled-fill-color: #AAA;\n",
              "      --disabled-bg-color: #DDD;\n",
              "  }\n",
              "\n",
              "  [theme=dark] .colab-df-quickchart {\n",
              "      --bg-color: #3B4455;\n",
              "      --fill-color: #D2E3FC;\n",
              "      --hover-bg-color: #434B5C;\n",
              "      --hover-fill-color: #FFFFFF;\n",
              "      --disabled-bg-color: #3B4455;\n",
              "      --disabled-fill-color: #666;\n",
              "  }\n",
              "\n",
              "  .colab-df-quickchart {\n",
              "    background-color: var(--bg-color);\n",
              "    border: none;\n",
              "    border-radius: 50%;\n",
              "    cursor: pointer;\n",
              "    display: none;\n",
              "    fill: var(--fill-color);\n",
              "    height: 32px;\n",
              "    padding: 0;\n",
              "    width: 32px;\n",
              "  }\n",
              "\n",
              "  .colab-df-quickchart:hover {\n",
              "    background-color: var(--hover-bg-color);\n",
              "    box-shadow: 0 1px 2px rgba(60, 64, 67, 0.3), 0 1px 3px 1px rgba(60, 64, 67, 0.15);\n",
              "    fill: var(--button-hover-fill-color);\n",
              "  }\n",
              "\n",
              "  .colab-df-quickchart-complete:disabled,\n",
              "  .colab-df-quickchart-complete:disabled:hover {\n",
              "    background-color: var(--disabled-bg-color);\n",
              "    fill: var(--disabled-fill-color);\n",
              "    box-shadow: none;\n",
              "  }\n",
              "\n",
              "  .colab-df-spinner {\n",
              "    border: 2px solid var(--fill-color);\n",
              "    border-color: transparent;\n",
              "    border-bottom-color: var(--fill-color);\n",
              "    animation:\n",
              "      spin 1s steps(1) infinite;\n",
              "  }\n",
              "\n",
              "  @keyframes spin {\n",
              "    0% {\n",
              "      border-color: transparent;\n",
              "      border-bottom-color: var(--fill-color);\n",
              "      border-left-color: var(--fill-color);\n",
              "    }\n",
              "    20% {\n",
              "      border-color: transparent;\n",
              "      border-left-color: var(--fill-color);\n",
              "      border-top-color: var(--fill-color);\n",
              "    }\n",
              "    30% {\n",
              "      border-color: transparent;\n",
              "      border-left-color: var(--fill-color);\n",
              "      border-top-color: var(--fill-color);\n",
              "      border-right-color: var(--fill-color);\n",
              "    }\n",
              "    40% {\n",
              "      border-color: transparent;\n",
              "      border-right-color: var(--fill-color);\n",
              "      border-top-color: var(--fill-color);\n",
              "    }\n",
              "    60% {\n",
              "      border-color: transparent;\n",
              "      border-right-color: var(--fill-color);\n",
              "    }\n",
              "    80% {\n",
              "      border-color: transparent;\n",
              "      border-right-color: var(--fill-color);\n",
              "      border-bottom-color: var(--fill-color);\n",
              "    }\n",
              "    90% {\n",
              "      border-color: transparent;\n",
              "      border-bottom-color: var(--fill-color);\n",
              "    }\n",
              "  }\n",
              "</style>\n",
              "\n",
              "  <script>\n",
              "    async function quickchart(key) {\n",
              "      const quickchartButtonEl =\n",
              "        document.querySelector('#' + key + ' button');\n",
              "      quickchartButtonEl.disabled = true;  // To prevent multiple clicks.\n",
              "      quickchartButtonEl.classList.add('colab-df-spinner');\n",
              "      try {\n",
              "        const charts = await google.colab.kernel.invokeFunction(\n",
              "            'suggestCharts', [key], {});\n",
              "      } catch (error) {\n",
              "        console.error('Error during call to suggestCharts:', error);\n",
              "      }\n",
              "      quickchartButtonEl.classList.remove('colab-df-spinner');\n",
              "      quickchartButtonEl.classList.add('colab-df-quickchart-complete');\n",
              "    }\n",
              "    (() => {\n",
              "      let quickchartButtonEl =\n",
              "        document.querySelector('#df-2090366b-4aa2-415d-bec2-0e9c54d7ca09 button');\n",
              "      quickchartButtonEl.style.display =\n",
              "        google.colab.kernel.accessAllowed ? 'block' : 'none';\n",
              "    })();\n",
              "  </script>\n",
              "</div>\n",
              "\n",
              "    </div>\n",
              "  </div>\n"
            ],
            "application/vnd.google.colaboratory.intrinsic+json": {
              "type": "dataframe",
              "repr_error": "Out of range float values are not JSON compliant: nan"
            }
          },
          "metadata": {},
          "execution_count": 46
        },
        {
          "output_type": "stream",
          "name": "stdout",
          "text": [
            "time: 445 ms (started: 2025-03-11 16:08:30 +00:00)\n"
          ]
        }
      ],
      "source": [
        "df[df['position'].isna()]"
      ]
    },
    {
      "cell_type": "code",
      "execution_count": 47,
      "metadata": {
        "id": "Vifv03w_9SQK",
        "outputId": "6d752e9e-3ec8-4659-8f74-e1bb9e43afef",
        "colab": {
          "base_uri": "https://localhost:8080/",
          "height": 70
        }
      },
      "outputs": [
        {
          "output_type": "execute_result",
          "data": {
            "text/plain": [
              "Empty DataFrame\n",
              "Columns: [un-general-debates-blueprint.csv, year, country, country_name, speaker, position, text, nb_chars, nb_words_theoritical, nb_pages, nb_minutes, nb_words]\n",
              "Index: []"
            ],
            "text/html": [
              "\n",
              "  <div id=\"df-b4b5187f-0b37-4fe9-b874-1961b8d2d5d6\" class=\"colab-df-container\">\n",
              "    <div>\n",
              "<style scoped>\n",
              "    .dataframe tbody tr th:only-of-type {\n",
              "        vertical-align: middle;\n",
              "    }\n",
              "\n",
              "    .dataframe tbody tr th {\n",
              "        vertical-align: top;\n",
              "    }\n",
              "\n",
              "    .dataframe thead th {\n",
              "        text-align: right;\n",
              "    }\n",
              "</style>\n",
              "<table border=\"1\" class=\"dataframe\">\n",
              "  <thead>\n",
              "    <tr style=\"text-align: right;\">\n",
              "      <th></th>\n",
              "      <th>un-general-debates-blueprint.csv</th>\n",
              "      <th>year</th>\n",
              "      <th>country</th>\n",
              "      <th>country_name</th>\n",
              "      <th>speaker</th>\n",
              "      <th>position</th>\n",
              "      <th>text</th>\n",
              "      <th>nb_chars</th>\n",
              "      <th>nb_words_theoritical</th>\n",
              "      <th>nb_pages</th>\n",
              "      <th>nb_minutes</th>\n",
              "      <th>nb_words</th>\n",
              "    </tr>\n",
              "  </thead>\n",
              "  <tbody>\n",
              "  </tbody>\n",
              "</table>\n",
              "</div>\n",
              "    <div class=\"colab-df-buttons\">\n",
              "\n",
              "  <div class=\"colab-df-container\">\n",
              "    <button class=\"colab-df-convert\" onclick=\"convertToInteractive('df-b4b5187f-0b37-4fe9-b874-1961b8d2d5d6')\"\n",
              "            title=\"Convert this dataframe to an interactive table.\"\n",
              "            style=\"display:none;\">\n",
              "\n",
              "  <svg xmlns=\"http://www.w3.org/2000/svg\" height=\"24px\" viewBox=\"0 -960 960 960\">\n",
              "    <path d=\"M120-120v-720h720v720H120Zm60-500h600v-160H180v160Zm220 220h160v-160H400v160Zm0 220h160v-160H400v160ZM180-400h160v-160H180v160Zm440 0h160v-160H620v160ZM180-180h160v-160H180v160Zm440 0h160v-160H620v160Z\"/>\n",
              "  </svg>\n",
              "    </button>\n",
              "\n",
              "  <style>\n",
              "    .colab-df-container {\n",
              "      display:flex;\n",
              "      gap: 12px;\n",
              "    }\n",
              "\n",
              "    .colab-df-convert {\n",
              "      background-color: #E8F0FE;\n",
              "      border: none;\n",
              "      border-radius: 50%;\n",
              "      cursor: pointer;\n",
              "      display: none;\n",
              "      fill: #1967D2;\n",
              "      height: 32px;\n",
              "      padding: 0 0 0 0;\n",
              "      width: 32px;\n",
              "    }\n",
              "\n",
              "    .colab-df-convert:hover {\n",
              "      background-color: #E2EBFA;\n",
              "      box-shadow: 0px 1px 2px rgba(60, 64, 67, 0.3), 0px 1px 3px 1px rgba(60, 64, 67, 0.15);\n",
              "      fill: #174EA6;\n",
              "    }\n",
              "\n",
              "    .colab-df-buttons div {\n",
              "      margin-bottom: 4px;\n",
              "    }\n",
              "\n",
              "    [theme=dark] .colab-df-convert {\n",
              "      background-color: #3B4455;\n",
              "      fill: #D2E3FC;\n",
              "    }\n",
              "\n",
              "    [theme=dark] .colab-df-convert:hover {\n",
              "      background-color: #434B5C;\n",
              "      box-shadow: 0px 1px 3px 1px rgba(0, 0, 0, 0.15);\n",
              "      filter: drop-shadow(0px 1px 2px rgba(0, 0, 0, 0.3));\n",
              "      fill: #FFFFFF;\n",
              "    }\n",
              "  </style>\n",
              "\n",
              "    <script>\n",
              "      const buttonEl =\n",
              "        document.querySelector('#df-b4b5187f-0b37-4fe9-b874-1961b8d2d5d6 button.colab-df-convert');\n",
              "      buttonEl.style.display =\n",
              "        google.colab.kernel.accessAllowed ? 'block' : 'none';\n",
              "\n",
              "      async function convertToInteractive(key) {\n",
              "        const element = document.querySelector('#df-b4b5187f-0b37-4fe9-b874-1961b8d2d5d6');\n",
              "        const dataTable =\n",
              "          await google.colab.kernel.invokeFunction('convertToInteractive',\n",
              "                                                    [key], {});\n",
              "        if (!dataTable) return;\n",
              "\n",
              "        const docLinkHtml = 'Like what you see? Visit the ' +\n",
              "          '<a target=\"_blank\" href=https://colab.research.google.com/notebooks/data_table.ipynb>data table notebook</a>'\n",
              "          + ' to learn more about interactive tables.';\n",
              "        element.innerHTML = '';\n",
              "        dataTable['output_type'] = 'display_data';\n",
              "        await google.colab.output.renderOutput(dataTable, element);\n",
              "        const docLink = document.createElement('div');\n",
              "        docLink.innerHTML = docLinkHtml;\n",
              "        element.appendChild(docLink);\n",
              "      }\n",
              "    </script>\n",
              "  </div>\n",
              "\n",
              "\n",
              "    </div>\n",
              "  </div>\n"
            ],
            "application/vnd.google.colaboratory.intrinsic+json": {
              "type": "dataframe",
              "repr_error": "Out of range float values are not JSON compliant: nan"
            }
          },
          "metadata": {},
          "execution_count": 47
        },
        {
          "output_type": "stream",
          "name": "stdout",
          "text": [
            "time: 33 ms (started: 2025-03-11 16:08:38 +00:00)\n"
          ]
        }
      ],
      "source": [
        "df.fillna({'speaker': 'unknown', 'position': 'unknown'}, inplace=True)\n",
        "df[df['position'].isna()]"
      ]
    },
    {
      "cell_type": "markdown",
      "metadata": {
        "id": "Ucp0_kY_9SQK"
      },
      "source": [
        "# categorical values vs numerical values"
      ]
    },
    {
      "cell_type": "code",
      "execution_count": 48,
      "metadata": {
        "id": "vRpDHHo69SQK",
        "outputId": "366c3e7f-669d-468b-ef71-3b5e5ddefdfc",
        "colab": {
          "base_uri": "https://localhost:8080/",
          "height": 290
        }
      },
      "outputs": [
        {
          "output_type": "execute_result",
          "data": {
            "text/plain": [
              "speaker\n",
              "George W. Bush        4\n",
              "Mr. George W. Bush    2\n",
              "Bush                  1\n",
              "George Bush           1\n",
              "Mr. George W Bush     1\n",
              "Name: count, dtype: int64"
            ],
            "text/html": [
              "<div>\n",
              "<style scoped>\n",
              "    .dataframe tbody tr th:only-of-type {\n",
              "        vertical-align: middle;\n",
              "    }\n",
              "\n",
              "    .dataframe tbody tr th {\n",
              "        vertical-align: top;\n",
              "    }\n",
              "\n",
              "    .dataframe thead th {\n",
              "        text-align: right;\n",
              "    }\n",
              "</style>\n",
              "<table border=\"1\" class=\"dataframe\">\n",
              "  <thead>\n",
              "    <tr style=\"text-align: right;\">\n",
              "      <th></th>\n",
              "      <th>count</th>\n",
              "    </tr>\n",
              "    <tr>\n",
              "      <th>speaker</th>\n",
              "      <th></th>\n",
              "    </tr>\n",
              "  </thead>\n",
              "  <tbody>\n",
              "    <tr>\n",
              "      <th>George W. Bush</th>\n",
              "      <td>4</td>\n",
              "    </tr>\n",
              "    <tr>\n",
              "      <th>Mr. George W. Bush</th>\n",
              "      <td>2</td>\n",
              "    </tr>\n",
              "    <tr>\n",
              "      <th>Bush</th>\n",
              "      <td>1</td>\n",
              "    </tr>\n",
              "    <tr>\n",
              "      <th>George Bush</th>\n",
              "      <td>1</td>\n",
              "    </tr>\n",
              "    <tr>\n",
              "      <th>Mr. George W Bush</th>\n",
              "      <td>1</td>\n",
              "    </tr>\n",
              "  </tbody>\n",
              "</table>\n",
              "</div><br><label><b>dtype:</b> int64</label>"
            ]
          },
          "metadata": {},
          "execution_count": 48
        },
        {
          "output_type": "stream",
          "name": "stdout",
          "text": [
            "time: 11.4 ms (started: 2025-03-11 16:08:57 +00:00)\n"
          ]
        }
      ],
      "source": [
        "df[df['speaker'].str.contains('Bush')]['speaker'].value_counts()"
      ]
    },
    {
      "cell_type": "code",
      "execution_count": 49,
      "metadata": {
        "id": "FndCF_ui9SQK",
        "outputId": "a0fe83c7-85ac-4bc6-c31b-a0551824a852",
        "colab": {
          "base_uri": "https://localhost:8080/",
          "height": 465
        }
      },
      "outputs": [
        {
          "output_type": "execute_result",
          "data": {
            "text/plain": [
              "<Axes: >"
            ]
          },
          "metadata": {},
          "execution_count": 49
        },
        {
          "output_type": "display_data",
          "data": {
            "text/plain": [
              "<Figure size 640x480 with 1 Axes>"
            ],
            "image/png": "[encoded data removed]"
          },
          "metadata": {}
        },
        {
          "output_type": "stream",
          "name": "stdout",
          "text": [
            "time: 277 ms (started: 2025-03-11 16:09:04 +00:00)\n"
          ]
        }
      ],
      "source": [
        "df['nb_words'].plot(kind='box', vert=False)\n"
      ]
    },
    {
      "cell_type": "code",
      "execution_count": 50,
      "metadata": {
        "id": "tAXwNYhu9SQL",
        "outputId": "5175792c-dba3-4e3a-ffc7-a4ff278a9338",
        "colab": {
          "base_uri": "https://localhost:8080/",
          "height": 465
        }
      },
      "outputs": [
        {
          "output_type": "execute_result",
          "data": {
            "text/plain": [
              "<Axes: ylabel='Frequency'>"
            ]
          },
          "metadata": {},
          "execution_count": 50
        },
        {
          "output_type": "display_data",
          "data": {
            "text/plain": [
              "<Figure size 640x480 with 1 Axes>"
            ],
            "image/png": "[encoded data removed]"
          },
          "metadata": {}
        },
        {
          "output_type": "stream",
          "name": "stdout",
          "text": [
            "time: 226 ms (started: 2025-03-11 16:09:20 +00:00)\n"
          ]
        }
      ],
      "source": [
        "df['nb_words'].plot(kind='hist', bins=30) # , figsize=(8,2)"
      ]
    },
    {
      "cell_type": "markdown",
      "metadata": {
        "id": "PUL3DWMs9SQL"
      },
      "source": [
        "### Kernel density estimation\n",
        "\n",
        "https://en.wikipedia.org/wiki/Kernel_density_estimation\n",
        "\n",
        "if error: \"FutureWarning: `distplot` is a deprecated function\"\n",
        "\n",
        "update scipy: `pip3 install --upgrade scipy `\n",
        "\n",
        "if it persists\n",
        "    "
      ]
    },
    {
      "cell_type": "code",
      "execution_count": 51,
      "metadata": {
        "id": "akXACu5l9SQL",
        "outputId": "7d6b362e-d3ca-4e9c-fccf-02af8a096731",
        "colab": {
          "base_uri": "https://localhost:8080/"
        }
      },
      "outputs": [
        {
          "output_type": "stream",
          "name": "stdout",
          "text": [
            "time: 408 µs (started: 2025-03-11 16:09:44 +00:00)\n"
          ]
        }
      ],
      "source": [
        "# only if you got warnings!!!\n",
        "# import warnings\n",
        "# warnings.filterwarnings(\"ignore\")"
      ]
    },
    {
      "cell_type": "code",
      "execution_count": 60,
      "metadata": {
        "id": "saPMJhj89SQL",
        "outputId": "2192f5d6-4ef1-4e35-b1b9-0655fc7f9157",
        "colab": {
          "base_uri": "https://localhost:8080/",
          "height": 485
        }
      },
      "outputs": [
        {
          "output_type": "execute_result",
          "data": {
            "text/plain": [
              "<Axes: xlabel='nb_words', ylabel='Count'>"
            ]
          },
          "metadata": {},
          "execution_count": 60
        },
        {
          "output_type": "display_data",
          "data": {
            "text/plain": [
              "<Figure size 640x480 with 1 Axes>"
            ],
            "image/png": "[encoded data removed]"
          },
          "metadata": {}
        },
        {
          "output_type": "stream",
          "name": "stdout",
          "text": [
            "time: 337 ms (started: 2025-03-11 16:23:05 +00:00)\n"
          ]
        }
      ],
      "source": [
        "#plt.figure(figsize=(8, 2))\n",
        "sns.histplot(df['nb_words'], bins=30, kde=True)\n"
      ]
    },
    {
      "cell_type": "markdown",
      "metadata": {
        "id": "SBcFDLXz9SQL"
      },
      "source": [
        "# Seaborn docs?\n",
        "https://seaborn.pydata.org/index.html  \n",
        "https://seaborn.pydata.org/generated/seaborn.distplot.html"
      ]
    },
    {
      "cell_type": "markdown",
      "metadata": {
        "id": "ak3JKmTs9SQL"
      },
      "source": [
        "## from where?\n",
        "\n",
        "catplot shows the relationship between a numerical and one or more categorical variables.\n",
        "https://seaborn.pydata.org/generated/seaborn.catplot.html"
      ]
    },
    {
      "cell_type": "code",
      "execution_count": 61,
      "metadata": {
        "id": "zNXrLL2b9SQU",
        "outputId": "baf6b639-84c8-4e01-b9d6-4b76ef2db0ab",
        "colab": {
          "base_uri": "https://localhost:8080/",
          "height": 542
        }
      },
      "outputs": [
        {
          "output_type": "execute_result",
          "data": {
            "text/plain": [
              "<seaborn.axisgrid.FacetGrid at 0x78f2dfe49050>"
            ]
          },
          "metadata": {},
          "execution_count": 61
        },
        {
          "output_type": "display_data",
          "data": {
            "text/plain": [
              "<Figure size 511.111x500 with 1 Axes>"
            ],
            "image/png": "[encoded data removed]"
          },
          "metadata": {}
        },
        {
          "output_type": "stream",
          "name": "stdout",
          "text": [
            "time: 7.63 s (started: 2025-03-11 16:23:15 +00:00)\n"
          ]
        }
      ],
      "source": [
        "sns.catplot(data=df, x=\"country\", y=\"nb_words\")"
      ]
    },
    {
      "cell_type": "code",
      "execution_count": 62,
      "metadata": {
        "id": "dCfqK95y9SQU",
        "outputId": "cdcfbf70-7d5f-4511-d966-b7c58f708107",
        "colab": {
          "base_uri": "https://localhost:8080/",
          "height": 476
        }
      },
      "outputs": [
        {
          "output_type": "execute_result",
          "data": {
            "text/plain": [
              "0       False\n",
              "1       False\n",
              "2       False\n",
              "3       False\n",
              "4       False\n",
              "        ...  \n",
              "7503    False\n",
              "7504    False\n",
              "7505    False\n",
              "7506    False\n",
              "7507    False\n",
              "Name: country, Length: 7508, dtype: bool"
            ],
            "text/html": [
              "<div>\n",
              "<style scoped>\n",
              "    .dataframe tbody tr th:only-of-type {\n",
              "        vertical-align: middle;\n",
              "    }\n",
              "\n",
              "    .dataframe tbody tr th {\n",
              "        vertical-align: top;\n",
              "    }\n",
              "\n",
              "    .dataframe thead th {\n",
              "        text-align: right;\n",
              "    }\n",
              "</style>\n",
              "<table border=\"1\" class=\"dataframe\">\n",
              "  <thead>\n",
              "    <tr style=\"text-align: right;\">\n",
              "      <th></th>\n",
              "      <th>country</th>\n",
              "    </tr>\n",
              "  </thead>\n",
              "  <tbody>\n",
              "    <tr>\n",
              "      <th>0</th>\n",
              "      <td>False</td>\n",
              "    </tr>\n",
              "    <tr>\n",
              "      <th>1</th>\n",
              "      <td>False</td>\n",
              "    </tr>\n",
              "    <tr>\n",
              "      <th>2</th>\n",
              "      <td>False</td>\n",
              "    </tr>\n",
              "    <tr>\n",
              "      <th>3</th>\n",
              "      <td>False</td>\n",
              "    </tr>\n",
              "    <tr>\n",
              "      <th>4</th>\n",
              "      <td>False</td>\n",
              "    </tr>\n",
              "    <tr>\n",
              "      <th>...</th>\n",
              "      <td>...</td>\n",
              "    </tr>\n",
              "    <tr>\n",
              "      <th>7503</th>\n",
              "      <td>False</td>\n",
              "    </tr>\n",
              "    <tr>\n",
              "      <th>7504</th>\n",
              "      <td>False</td>\n",
              "    </tr>\n",
              "    <tr>\n",
              "      <th>7505</th>\n",
              "      <td>False</td>\n",
              "    </tr>\n",
              "    <tr>\n",
              "      <th>7506</th>\n",
              "      <td>False</td>\n",
              "    </tr>\n",
              "    <tr>\n",
              "      <th>7507</th>\n",
              "      <td>False</td>\n",
              "    </tr>\n",
              "  </tbody>\n",
              "</table>\n",
              "<p>7508 rows × 1 columns</p>\n",
              "</div><br><label><b>dtype:</b> bool</label>"
            ]
          },
          "metadata": {},
          "execution_count": 62
        },
        {
          "output_type": "stream",
          "name": "stdout",
          "text": [
            "time: 8.75 ms (started: 2025-03-11 16:23:24 +00:00)\n"
          ]
        }
      ],
      "source": [
        "# how to build a selection:\n",
        "df['country'].isin(['USA', 'FRA', 'GBR', 'CHN', 'RUS'])"
      ]
    },
    {
      "cell_type": "code",
      "execution_count": 63,
      "metadata": {
        "id": "SbnDQvPH9SQU",
        "outputId": "c62a5d6b-7f1a-47af-b6fb-1e04fb35869d",
        "colab": {
          "base_uri": "https://localhost:8080/",
          "height": 1000
        }
      },
      "outputs": [
        {
          "output_type": "execute_result",
          "data": {
            "text/plain": [
              "<seaborn.axisgrid.FacetGrid at 0x78f2dfd2c510>"
            ]
          },
          "metadata": {},
          "execution_count": 63
        },
        {
          "output_type": "display_data",
          "data": {
            "text/plain": [
              "<Figure size 511.111x500 with 1 Axes>"
            ],
            "image/png": "[encoded data removed]"
          },
          "metadata": {}
        },
        {
          "output_type": "display_data",
          "data": {
            "text/plain": [
              "<Figure size 511.111x500 with 1 Axes>"
            ],
            "image/png": "[encoded data removed]"
          },
          "metadata": {}
        },
        {
          "output_type": "stream",
          "name": "stdout",
          "text": [
            "time: 794 ms (started: 2025-03-11 16:23:26 +00:00)\n"
          ]
        }
      ],
      "source": [
        "# using the selection\n",
        "where = df['country'].isin(['USA', 'FRA', 'GBR', 'CHN', 'RUS'])\n",
        "sns.catplot(data=df[where], x=\"country\", y=\"nb_words\", kind='box')\n",
        "sns.catplot(data=df[where], x=\"country\", y=\"nb_words\", kind='violin')"
      ]
    },
    {
      "cell_type": "markdown",
      "metadata": {
        "id": "NiMlXCPO9SQU"
      },
      "source": [
        "## significant differences?\n",
        "\n",
        "Student test? Anova ?\n",
        "\n",
        "if the boxes (marking the quartiles) don't overlap each other and the sample size is at least 10, then the two groups being compared should have different medians at the 5% level: https://stats.stackexchange.com/questions/262495/reading-box-and-whisker-plots-possible-to-glean-significant-differences-between"
      ]
    },
    {
      "cell_type": "code",
      "execution_count": 64,
      "metadata": {
        "id": "YldMxBjq9SQU",
        "outputId": "0c563b0f-4d98-4a22-91a4-05f303938634",
        "colab": {
          "base_uri": "https://localhost:8080/",
          "height": 541
        }
      },
      "outputs": [
        {
          "output_type": "execute_result",
          "data": {
            "text/plain": [
              "<seaborn.axisgrid.FacetGrid at 0x78f2df287b50>"
            ]
          },
          "metadata": {},
          "execution_count": 64
        },
        {
          "output_type": "display_data",
          "data": {
            "text/plain": [
              "<Figure size 511.111x500 with 1 Axes>"
            ],
            "image/png": "[encoded data removed]"
          },
          "metadata": {}
        },
        {
          "output_type": "stream",
          "name": "stdout",
          "text": [
            "time: 421 ms (started: 2025-03-11 16:24:26 +00:00)\n"
          ]
        }
      ],
      "source": [
        "sns.catplot(data=df[where], x=\"country\", y=\"nb_words\", kind='box', notch= True)"
      ]
    },
    {
      "cell_type": "markdown",
      "metadata": {
        "id": "OJO60NJV9SQU"
      },
      "source": [
        "## time?\n",
        "\n",
        "size() returns the number of rows per group  \n",
        "Why number of countries?"
      ]
    },
    {
      "cell_type": "markdown",
      "source": [
        "ANSWER: <br>\n",
        "each country gives one speech per year, and since it is grouped by year then if we take size() of each year, we will get the number of countries that gave a speech during that year"
      ],
      "metadata": {
        "id": "ENVD5Q8KCopz"
      }
    },
    {
      "cell_type": "code",
      "execution_count": 70,
      "metadata": {
        "id": "tftEVrJT9SQU",
        "outputId": "ea6f6468-cb25-4e0f-cc9d-782290251651",
        "colab": {
          "base_uri": "https://localhost:8080/",
          "height": 507
        }
      },
      "outputs": [
        {
          "output_type": "execute_result",
          "data": {
            "text/plain": [
              "<Axes: title={'center': 'Number of Countries'}, xlabel='year'>"
            ]
          },
          "metadata": {},
          "execution_count": 70
        },
        {
          "output_type": "display_data",
          "data": {
            "text/plain": [
              "<Figure size 640x480 with 1 Axes>"
            ],
            "image/png": "[encoded data removed]"
          },
          "metadata": {}
        },
        {
          "output_type": "stream",
          "name": "stdout",
          "text": [
            "time: 378 ms (started: 2025-03-11 16:31:41 +00:00)\n"
          ]
        }
      ],
      "source": [
        "df.groupby('year').size().plot(title=\"Number of Countries\")"
      ]
    },
    {
      "cell_type": "markdown",
      "metadata": {
        "id": "zn3WiQJc9SQU"
      },
      "source": [
        "when more people want to speak, ...?"
      ]
    },
    {
      "cell_type": "markdown",
      "source": [
        "ANSWER: <br>\n",
        "Starting from 1990, we see that more and more countries are participating in the debate, but at the same time, the average speech length decreased, which is obvious because when more countries join and more people want to speak, the total speaking time has to be distributed among the participants.<br>\n",
        "At the beginning (from 1970 to 1990), since few countries participated, the speech length was much bigger"
      ],
      "metadata": {
        "id": "7wTJdHA7DXgz"
      }
    },
    {
      "cell_type": "code",
      "execution_count": 72,
      "metadata": {
        "id": "9jAfsCHH9SQV",
        "outputId": "ac0c08dc-5958-4731-9d13-7a1e5be9068b",
        "colab": {
          "base_uri": "https://localhost:8080/",
          "height": 507
        }
      },
      "outputs": [
        {
          "output_type": "execute_result",
          "data": {
            "text/plain": [
              "<Axes: title={'center': 'Avg. Speech Length'}, xlabel='year'>"
            ]
          },
          "metadata": {},
          "execution_count": 72
        },
        {
          "output_type": "display_data",
          "data": {
            "text/plain": [
              "<Figure size 640x480 with 1 Axes>"
            ],
            "image/png": "[encoded data removed]"
          },
          "metadata": {}
        },
        {
          "output_type": "stream",
          "name": "stdout",
          "text": [
            "time: 246 ms (started: 2025-03-11 16:38:57 +00:00)\n"
          ]
        }
      ],
      "source": [
        "df.groupby('year').agg({'nb_words': 'mean'}).plot(title=\"Avg. Speech Length\", ylim=(0,5000))"
      ]
    },
    {
      "cell_type": "code",
      "execution_count": 74,
      "metadata": {
        "id": "q2J3ZW189SQV",
        "outputId": "9b0c57cc-1759-4db4-935e-858c0ebf3655",
        "colab": {
          "base_uri": "https://localhost:8080/",
          "height": 541
        }
      },
      "outputs": [
        {
          "output_type": "execute_result",
          "data": {
            "text/plain": [
              "<seaborn.axisgrid.FacetGrid at 0x78f2de017fd0>"
            ]
          },
          "metadata": {},
          "execution_count": 74
        },
        {
          "output_type": "display_data",
          "data": {
            "text/plain": [
              "<Figure size 511.111x500 with 1 Axes>"
            ],
            "image/png": "[encoded data removed]"
          },
          "metadata": {}
        },
        {
          "output_type": "stream",
          "name": "stdout",
          "text": [
            "time: 433 ms (started: 2025-03-11 16:40:58 +00:00)\n"
          ]
        }
      ],
      "source": [
        "where = df['country'].isin(['USA', 'FRA', 'GBR', 'CHN', 'RUS', 'FRG', 'DEU'])\n",
        "sns.catplot(data=df[where], x=\"country\", y=\"nb_words\", kind='box', notch= True)"
      ]
    },
    {
      "cell_type": "markdown",
      "metadata": {
        "id": "aUhugWvb9SQV"
      },
      "source": [
        "## 🚧 todo: When speaking English, do Germans use longer words?\n",
        "\n",
        "- Compare to British natives, US natives, and French speakers.\n",
        "- Is the result significant?\n",
        "- How do you explain this?"
      ]
    },
    {
      "cell_type": "code",
      "execution_count": 76,
      "metadata": {
        "id": "QP5znJ4k9SQV",
        "outputId": "d4ecad4e-7645-46ad-b706-5c903c166d81",
        "colab": {
          "base_uri": "https://localhost:8080/"
        }
      },
      "outputs": [
        {
          "output_type": "stream",
          "name": "stdout",
          "text": [
            "time: 2.58 ms (started: 2025-03-11 16:42:28 +00:00)\n"
          ]
        }
      ],
      "source": [
        "# 🚧 todo:\n",
        "df['avg_wordsize'] = df['nb_chars'] / df['nb_words']"
      ]
    },
    {
      "cell_type": "code",
      "execution_count": 78,
      "metadata": {
        "id": "N4N-c_I79SQV",
        "outputId": "c378c937-6e5f-4fbf-fef6-405c30086833",
        "colab": {
          "base_uri": "https://localhost:8080/",
          "height": 484
        }
      },
      "outputs": [
        {
          "output_type": "execute_result",
          "data": {
            "text/plain": [
              "<Axes: xlabel='country', ylabel='avg_wordsize'>"
            ]
          },
          "metadata": {},
          "execution_count": 78
        },
        {
          "output_type": "display_data",
          "data": {
            "text/plain": [
              "<Figure size 640x480 with 1 Axes>"
            ],
            "image/png": "[encoded data removed]"
          },
          "metadata": {}
        },
        {
          "output_type": "stream",
          "name": "stdout",
          "text": [
            "time: 204 ms (started: 2025-03-11 16:42:49 +00:00)\n"
          ]
        }
      ],
      "source": [
        "# 🚧 todo:\n",
        "where = df['country'].isin(['USA', 'GBR', 'FRA', 'DEU'])\n",
        "sns.boxplot(data=df[where], x=\"country\", y=\"avg_wordsize\", notch=True)"
      ]
    },
    {
      "cell_type": "markdown",
      "metadata": {
        "id": "k3WoGh9k9SQV"
      },
      "source": [
        "#### 🚧 todo:\n",
        "answer:\n",
        "\n"
      ]
    },
    {
      "cell_type": "code",
      "execution_count": null,
      "metadata": {
        "id": "acQbcEvY9SQV"
      },
      "outputs": [],
      "source": []
    },
    {
      "cell_type": "code",
      "execution_count": null,
      "metadata": {
        "id": "n79ADCUc9SQV"
      },
      "outputs": [],
      "source": []
    },
    {
      "cell_type": "code",
      "execution_count": null,
      "metadata": {
        "id": "KOXQTfpY9SQV"
      },
      "outputs": [],
      "source": []
    },
    {
      "cell_type": "code",
      "execution_count": null,
      "metadata": {
        "id": "ge0zUVcP9SQV"
      },
      "outputs": [],
      "source": []
    },
    {
      "cell_type": "code",
      "execution_count": null,
      "metadata": {
        "id": "HxEaFNhq9SQV"
      },
      "outputs": [],
      "source": []
    },
    {
      "cell_type": "code",
      "execution_count": null,
      "metadata": {
        "id": "_9C64TJK9SQW"
      },
      "outputs": [],
      "source": []
    },
    {
      "cell_type": "code",
      "execution_count": null,
      "metadata": {
        "id": "cXu5V7Cr9SQW"
      },
      "outputs": [],
      "source": []
    },
    {
      "cell_type": "markdown",
      "metadata": {
        "id": "ag6uupfQ9SQW"
      },
      "source": [
        "# Let's Zipf it!\n",
        "## skim through this section if you have followed Hands-on NLP!\n",
        "but execute the code so that we have the freq_df and start again at word clouds\n",
        "### Let's first flatten the list"
      ]
    },
    {
      "cell_type": "code",
      "execution_count": null,
      "metadata": {
        "id": "z-R18VQs9SQW"
      },
      "outputs": [],
      "source": [
        "all_words = [word for speech in df['text'].dropna() for word in re.findall(r'\\b\\w+\\b', speech.lower())]\n",
        "len(all_words)"
      ]
    },
    {
      "cell_type": "code",
      "execution_count": null,
      "metadata": {
        "id": "1Zi61Pu_9SQW"
      },
      "outputs": [],
      "source": [
        "text = \"Wait... what?! What? WHAT?! You're telling me that 99.9% of statistics—including this one—are made up?! Made up, I say! Completely, absolutely, 100% made up!\"\n",
        "counter = Counter(re.findall(r'\\b\\w+\\b', text.lower()))\n",
        "counter"
      ]
    },
    {
      "cell_type": "markdown",
      "metadata": {
        "id": "sMB53PE49SQW"
      },
      "source": [
        "### What are the most common words of English?"
      ]
    },
    {
      "cell_type": "code",
      "execution_count": null,
      "metadata": {
        "id": "KLFJp2Yq9SQW"
      },
      "outputs": [],
      "source": [
        "counter = Counter(all_words)\n",
        "counter.most_common(22)"
      ]
    },
    {
      "cell_type": "markdown",
      "metadata": {
        "id": "ZZDAnbC59SQW"
      },
      "source": [
        "for even bigger databases, it might be advisable to do the computation iteratively:"
      ]
    },
    {
      "cell_type": "code",
      "execution_count": null,
      "metadata": {
        "id": "TlfbXQnK9SQW"
      },
      "outputs": [],
      "source": [
        "counter = Counter()\n",
        "df['text'].dropna().apply(lambda text: counter.update(re.findall(r'\\b\\w+\\b', text.lower())))\n",
        "counter.most_common(22)"
      ]
    },
    {
      "cell_type": "code",
      "execution_count": null,
      "metadata": {
        "id": "pRm6eAI79SQW"
      },
      "outputs": [],
      "source": [
        "freq_df = pd.DataFrame.from_dict(counter, orient='index', columns=['freq'])\n",
        "freq_df.sort_values('freq',  inplace=True, ascending=False)\n",
        "freq_df"
      ]
    },
    {
      "cell_type": "code",
      "execution_count": null,
      "metadata": {
        "id": "7UKkfPPj9SQX"
      },
      "outputs": [],
      "source": [
        "freq_df.head(22).plot(kind='bar')\n"
      ]
    },
    {
      "cell_type": "code",
      "execution_count": null,
      "metadata": {
        "id": "6qeUN0Mp9SQX"
      },
      "outputs": [],
      "source": [
        "freq_df.head(2222).plot()"
      ]
    },
    {
      "cell_type": "code",
      "execution_count": null,
      "metadata": {
        "id": "ajS6w-5u9SQX"
      },
      "outputs": [],
      "source": [
        "freq_df.head(2222).plot(loglog=True)"
      ]
    },
    {
      "cell_type": "markdown",
      "metadata": {
        "id": "A_tReTj69SQX"
      },
      "source": [
        "futher reading:  \n",
        "https://en.wikipedia.org/wiki/Zipf's_law  \n",
        "https://stats.stackexchange.com/questions/6780/how-to-calculate-zipfs-law-coefficient-from-a-set-of-top-frequencies"
      ]
    },
    {
      "cell_type": "markdown",
      "metadata": {
        "id": "C0tFjHfu9SQX"
      },
      "source": [
        "# Word cloud\n",
        "\n",
        "http://amueller.github.io/word_cloud/generated/wordcloud.WordCloud.html#wordcloud.WordCloud"
      ]
    },
    {
      "cell_type": "code",
      "execution_count": null,
      "metadata": {
        "id": "MCVmFZ6d9SQX"
      },
      "outputs": [],
      "source": [
        "text = df.query(\"year==2015 and country=='USA'\")['text'].values[0]\n",
        "wc = WordCloud(max_words=100)\n",
        "wc.generate(text)\n",
        "plt.imshow(wc, interpolation='bilinear')\n",
        "plt.axis(\"off\")"
      ]
    },
    {
      "cell_type": "code",
      "execution_count": null,
      "metadata": {
        "id": "rNPyeFYi9SQX"
      },
      "outputs": [],
      "source": [
        "plt.subplots(1, 2, figsize=(20, 4))\n",
        "\n",
        "text = df.query(\"country=='USA'\")['text'].values[0]\n",
        "wc = WordCloud(max_words=100)\n",
        "wc.generate(text)\n",
        "plt.subplot(1, 2, 1)\n",
        "plt.imshow(wc, interpolation='bilinear')\n",
        "plt.axis(\"off\")\n",
        "\n",
        "text = df.query(\"country=='RUS'\")['text'].values[0]\n",
        "wc = WordCloud(max_words=100)\n",
        "wc.generate(text)\n",
        "\n",
        "plt.subplot(1, 2, 2)\n",
        "plt.imshow(wc, interpolation='bilinear')\n",
        "plt.axis(\"off\")\n",
        "\n",
        "plt.tight_layout()"
      ]
    },
    {
      "cell_type": "code",
      "execution_count": null,
      "metadata": {
        "id": "lXqdjtRT9SQX"
      },
      "outputs": [],
      "source": [
        "wc = WordCloud(max_words=100, stopwords=freq_df.head(50).index)\n",
        "wc.generate(text)\n",
        "plt.imshow(wc, interpolation='bilinear')\n",
        "plt.axis(\"off\")"
      ]
    },
    {
      "cell_type": "markdown",
      "metadata": {
        "id": "FS9qBpd49SQX"
      },
      "source": [
        "the `generate_from_frequencies` function allows to generate without stopwords directly from a Counter:"
      ]
    },
    {
      "cell_type": "code",
      "execution_count": null,
      "metadata": {
        "id": "I7j-wDnF9SQY"
      },
      "outputs": [],
      "source": [
        "wc.generate_from_frequencies(counter)\n",
        "plt.title('from counter')\n",
        "plt.imshow(wc, interpolation='bilinear')\n",
        "plt.axis(\"off\")"
      ]
    },
    {
      "cell_type": "markdown",
      "metadata": {
        "id": "Xur8nYDa9SQY"
      },
      "source": [
        "# Index\n",
        "\n",
        "We want to build an inverted index:\n",
        "- make a df such that for every type, we have a 1 if the document contains the type, 0 if not.\n",
        "- for every type, give a list of document ids\n",
        "\n",
        "# 🚧 todo:\n",
        "- how many types do we have?\n",
        "- how many documents do we have?"
      ]
    },
    {
      "cell_type": "code",
      "execution_count": null,
      "metadata": {
        "id": "MLjyBehf9SQY"
      },
      "outputs": [],
      "source": [
        "print(...,'types')\n",
        "print(...,'documents')\n"
      ]
    },
    {
      "cell_type": "code",
      "execution_count": null,
      "metadata": {
        "id": "0wRG95i19SQY"
      },
      "outputs": [],
      "source": [
        "list(freq_df.index[66:77])"
      ]
    },
    {
      "cell_type": "code",
      "execution_count": null,
      "metadata": {
        "id": "Ml7LfBrK9SQY"
      },
      "outputs": [],
      "source": [
        "df[33:36]"
      ]
    },
    {
      "cell_type": "code",
      "execution_count": null,
      "metadata": {
        "id": "Eyc6a-5Y9SQY"
      },
      "outputs": [],
      "source": [
        "A = np.zeros((11, 3))\n",
        "A.nbytes"
      ]
    },
    {
      "cell_type": "markdown",
      "metadata": {
        "id": "B7IZhnwz9SQY"
      },
      "source": [
        "we will first try the naïve way, to find out that this easily gets too slow:"
      ]
    },
    {
      "cell_type": "code",
      "execution_count": null,
      "metadata": {
        "id": "RUM-9IDs9SQY"
      },
      "outputs": [],
      "source": [
        "for i,t in enumerate(freq_df.index[66:77]):\n",
        "    for j, text in enumerate(df['text'][33:36]):\n",
        "        # Tokenize text using regex\n",
        "        tokens = set(re.findall(r'\\b\\w+\\b', text.lower()))  # Use set for faster lookup\n",
        "        if t in tokens:\n",
        "            A[i, j] = 1  # Mark presence of token in text\n",
        "A"
      ]
    },
    {
      "cell_type": "code",
      "execution_count": null,
      "metadata": {
        "id": "Xsu3FDVK9SQY"
      },
      "outputs": [],
      "source": [
        "A.nbytes"
      ]
    },
    {
      "cell_type": "code",
      "execution_count": null,
      "metadata": {
        "id": "LcOtGZEx9SQY"
      },
      "outputs": [],
      "source": [
        "A = np.zeros((100, 7507)) # understand this: 100 most frequent words, 7507 speeches\n",
        "for i,t in tqdm(enumerate(freq_df.index[:100])):\n",
        "    for j, text in enumerate(df['text'][33:100]): # play with the range to see how slow your machine is\n",
        "        tokens = set(re.findall(r'\\b\\w+\\b', text.lower()))\n",
        "        if t in tokens:\n",
        "               A[i,j] =1\n",
        "# can you do that loop more efficiently? This is not an obligatory task.\n",
        "A"
      ]
    },
    {
      "cell_type": "code",
      "execution_count": null,
      "metadata": {
        "id": "-RfEDiwZ9SQZ"
      },
      "outputs": [],
      "source": [
        "A.nbytes"
      ]
    },
    {
      "cell_type": "markdown",
      "metadata": {
        "id": "IXnUOY4M9SQZ"
      },
      "source": [
        "### 🚧 todo:\n",
        "\n",
        "What would be the size of the complete table?\n"
      ]
    },
    {
      "cell_type": "code",
      "execution_count": null,
      "metadata": {
        "id": "O8EA2TL09SQZ"
      },
      "outputs": [],
      "source": [
        "# 🚧 todo:\n",
        "A ="
      ]
    },
    {
      "cell_type": "markdown",
      "metadata": {
        "id": "lRQV3x2w9SQZ"
      },
      "source": [
        "### 🚧 todo:\n",
        "\n",
        "How long will it take to fill the complete table?\n"
      ]
    },
    {
      "cell_type": "code",
      "execution_count": null,
      "metadata": {
        "id": "jIot5RF59SQZ"
      },
      "outputs": [],
      "source": [
        "# 🚧 todo:\n",
        "# i take 9 seconds per 100, should be about linear\n",
        "...,'seconds',...,'minutes', ...,'hours'\n"
      ]
    },
    {
      "cell_type": "markdown",
      "metadata": {
        "id": "dMdI1UyJ9SQZ"
      },
      "source": [
        "### redoing the same thing with CountVectorizer"
      ]
    },
    {
      "cell_type": "code",
      "execution_count": null,
      "metadata": {
        "id": "NB2HaIvO9SQZ"
      },
      "outputs": [],
      "source": [
        "from sklearn.feature_extraction.text import CountVectorizer\n",
        "\n",
        "df[33:36].text"
      ]
    },
    {
      "cell_type": "code",
      "execution_count": null,
      "metadata": {
        "id": "UK2yVX-k9SQZ"
      },
      "outputs": [],
      "source": [
        "vectorizer = CountVectorizer(vocabulary=freq_df.index[66:77], binary=True, min_df=1, lowercase=False)\n",
        "# understand the options:\n",
        "# https://scikit-learn.org/stable/modules/generated/sklearn.feature_extraction.text.CountVectorizer.html\n",
        "X = vectorizer.fit_transform(df[33:36].text)\n",
        "print(vectorizer.get_feature_names_out())\n",
        "print(X.toarray())\n"
      ]
    },
    {
      "cell_type": "code",
      "execution_count": null,
      "metadata": {
        "id": "AolGyZEo9SQZ"
      },
      "outputs": [],
      "source": [
        "# make it pretty:\n",
        "d = {c:X.toarray()[i] for i,c in enumerate(df[33:36].index)}\n",
        "df_cv = pd.DataFrame.from_dict(d,  orient='index',columns=freq_df.index[66:77])\n",
        "df_cv"
      ]
    },
    {
      "cell_type": "markdown",
      "metadata": {
        "id": "E0Eol3Dz9SQZ"
      },
      "source": [
        "## trying the complete set of documents with the complete vocabulary"
      ]
    },
    {
      "cell_type": "code",
      "execution_count": null,
      "metadata": {
        "id": "oadjy3Iz9SQa"
      },
      "outputs": [],
      "source": [
        "vectorizer = CountVectorizer(vocabulary=freq_df.index, binary=True, min_df=1, lowercase=False)\n",
        "X = vectorizer.fit_transform(df['text'].dropna())\n",
        "print(len(vectorizer.get_feature_names_out()))\n",
        "print(vectorizer.get_feature_names_out()[:11])\n",
        "print(X.toarray())"
      ]
    },
    {
      "cell_type": "markdown",
      "metadata": {
        "id": "eyvw9asO9SQa"
      },
      "source": [
        "- wow! comparably fast!\n",
        "#### 🚧 todo:\n",
        "- can you get the vector of \"the\"? is there a speech that doesn't use it?\n"
      ]
    },
    {
      "cell_type": "code",
      "execution_count": null,
      "metadata": {
        "id": "cY_b7X3-9SQa"
      },
      "outputs": [],
      "source": []
    },
    {
      "cell_type": "code",
      "execution_count": null,
      "metadata": {
        "id": "XUJFo2VN9SQa"
      },
      "outputs": [],
      "source": []
    },
    {
      "cell_type": "markdown",
      "metadata": {
        "id": "8SddIuk29SQa"
      },
      "source": [
        "answer:"
      ]
    },
    {
      "cell_type": "code",
      "execution_count": null,
      "metadata": {
        "id": "oLLX6tRO9SQa"
      },
      "outputs": [],
      "source": []
    },
    {
      "cell_type": "markdown",
      "metadata": {
        "id": "GEDIOlrN9SQa"
      },
      "source": [
        "#### 🚧 todo: some visualizations of the vectorization\n",
        "\n",
        "- make 2D scatterplots of the vectorization using PCA and t-SNE.\n",
        "- use the years as hue\n",
        "- explain why this looks so different\n",
        "- hard: choose a cluster that looks mainly stemming from earlier texts, another stemming from recent texts, and find a few examples of terms that makes them different."
      ]
    },
    {
      "cell_type": "code",
      "execution_count": null,
      "metadata": {
        "id": "4tNaJZyD9SQa"
      },
      "outputs": [],
      "source": [
        "from sklearn.decomposition import PCA\n",
        "from sklearn.manifold import TSNE\n",
        "\n",
        "pca = PCA(n_components=2)\n",
        "..."
      ]
    },
    {
      "cell_type": "code",
      "execution_count": null,
      "metadata": {
        "id": "fH00gCuB9SQa"
      },
      "outputs": [],
      "source": [
        "tsne = TSNE(n_components=2, perplexity=30, random_state=42, n_iter=1000)\n",
        "..."
      ]
    },
    {
      "cell_type": "markdown",
      "metadata": {
        "id": "TvYf3A5f9SQa"
      },
      "source": [
        "# analyze two clusters of the PCA plot: top right and bottom left:"
      ]
    },
    {
      "cell_type": "code",
      "execution_count": null,
      "metadata": {
        "id": "IDJoDM669SQa"
      },
      "outputs": [],
      "source": [
        "# Define clusters based on PCA components\n",
        "cluster_1 = pca_df[pca_df[\"PC1\"] > 0.8].index\n",
        "cluster_2 = pca_df[(pca_df[\"PC1\"] < -0.2) & (pca_df[\"PC2\"] > 0.8)].index\n",
        "\n",
        "# Extract corresponding texts\n",
        "...\n",
        "diff_df = diff_df.sort_values(by=[ \"Cluster 2 (PC1 < -0.2, PC2 > 0.8)\", \"Cluster 1 (PC1 > 0.8)\"], ascending=False)\n",
        "# Show distinctive words\n",
        "diff_df.head(10)\n",
        "# of both clusters (since we have a binary vectorizer, we only get present and absent words)\n"
      ]
    },
    {
      "cell_type": "code",
      "execution_count": null,
      "metadata": {
        "id": "Exh_lE8z9SQb"
      },
      "outputs": [],
      "source": []
    },
    {
      "cell_type": "markdown",
      "metadata": {
        "id": "5YHoeiRr9SQb"
      },
      "source": [
        "# another big vocabulary:\n",
        "- we could grab a pageview file here https://dumps.wikimedia.org/other/pageviews/2022/2022-01/ and  produce a list of potential terms from it\n",
        "- it's easier to use wikidata, and we concentrate on people:\n",
        "\n",
        "here is code that grabs it and produces a file of person names. this API is unstable, so i propose to download directly the result on my website, see code below."
      ]
    },
    {
      "cell_type": "code",
      "execution_count": null,
      "metadata": {
        "id": "7kzqXpow9SQb"
      },
      "outputs": [],
      "source": [
        "# you can skip this cell if you are only interested in the result, see next cell\n",
        "\n",
        "def fetch_wikidata_humans(limit=10000, offset=0):\n",
        "    sparql = SPARQLWrapper(\"https://query.wikidata.org/sparql\")\n",
        "    query = f\"\"\"\n",
        "    SELECT ?human ?humanLabel WHERE {{\n",
        "      ?human wdt:P31 wd:Q5.  # Humans (Q5)\n",
        "      SERVICE wikibase:label {{ bd:serviceParam wikibase:language \"[AUTO_LANGUAGE],en\". }}\n",
        "    }}\n",
        "    LIMIT {limit}\n",
        "    OFFSET {offset}\n",
        "    \"\"\"\n",
        "    sparql.setQuery(query)\n",
        "    sparql.setReturnFormat(JSON)\n",
        "    results = sparql.query().convert()\n",
        "    return results\n",
        "\n",
        "# Fetch the first batch\n",
        "humans_data = []\n",
        "offset = 0\n",
        "batch_size = 5000  # Fetch this batch size at a time\n",
        "\n",
        "while True:\n",
        "    print(f\"Fetching humans from offset {offset}\")\n",
        "    results = fetch_wikidata_humans(limit=batch_size, offset=offset)\n",
        "    if \"results\" in results and \"bindings\" in results[\"results\"]:\n",
        "        batch = results[\"results\"][\"bindings\"]\n",
        "        if not batch:\n",
        "            break  # Stop if no more results\n",
        "\n",
        "        for result in batch:\n",
        "            humans_data.append({\n",
        "                \"Wikidata ID\": result[\"human\"][\"value\"].split(\"/\")[-1],\n",
        "                \"Name\": result[\"humanLabel\"][\"value\"]\n",
        "            })\n",
        "        offset += batch_size  # Move to the next batch\n",
        "    else:\n",
        "        break  # Stop if no valid response\n",
        "\n",
        "# Convert to DataFrame\n",
        "import pandas as pd\n",
        "df = pd.DataFrame(humans_data)\n",
        "\n",
        "# write the Name column to a file\n",
        "df['Name'].to_csv('wikidata_names.txt', index=False)"
      ]
    },
    {
      "cell_type": "code",
      "execution_count": null,
      "metadata": {
        "id": "1zZ9_Sww9SQb"
      },
      "outputs": [],
      "source": [
        "file_name = 'wikidata_names.txt'\n",
        "zip_file = file_name + '.zip'\n",
        "url = 'https://gerdes.fr/saclay/inforet/' + zip_file\n",
        "\n",
        "if os.path.exists(file_name):\n",
        "    print('File already present')\n",
        "else:\n",
        "    print('Downloading the file...')\n",
        "    os.system(f'curl -o {zip_file} {url}')\n",
        "    os.system(f'unzip {zip_file}')"
      ]
    },
    {
      "cell_type": "code",
      "execution_count": null,
      "metadata": {
        "id": "EOU_IVmU9SQb"
      },
      "outputs": [],
      "source": [
        "# read the file back into a simple list, one item per line\n",
        "with open('wikidata_names.txt') as f:\n",
        "\tnames = set(f.read().splitlines())\n",
        "names"
      ]
    },
    {
      "cell_type": "code",
      "execution_count": null,
      "metadata": {
        "id": "A4NYa4ty9SQb"
      },
      "outputs": [],
      "source": [
        "vectorizer = CountVectorizer(vocabulary=names, binary=True, min_df=1, lowercase=False, ngram_range=(1,4))\n",
        "X = vectorizer.fit_transform(df.text.dropna())\n",
        "print(len(vectorizer.get_feature_names_out()))\n",
        "print(vectorizer.get_feature_names_out()[:11])\n",
        "X"
      ]
    },
    {
      "cell_type": "markdown",
      "metadata": {
        "id": "-n_Fxbk39SQb"
      },
      "source": [
        "#### 🚧 todo:\n",
        "- find the most frequently cited names\n",
        "- analyze who cites\n",
        "- analyze the length of the cited names in tokens\n"
      ]
    },
    {
      "cell_type": "code",
      "execution_count": null,
      "metadata": {
        "id": "liiLBFv89SQb"
      },
      "outputs": [],
      "source": [
        "..."
      ]
    },
    {
      "cell_type": "code",
      "execution_count": null,
      "metadata": {
        "id": "m4SHfg779SQb"
      },
      "outputs": [],
      "source": [
        "..."
      ]
    },
    {
      "cell_type": "code",
      "execution_count": null,
      "metadata": {
        "id": "ih3cbAOC9SQc"
      },
      "outputs": [],
      "source": [
        "..."
      ]
    },
    {
      "cell_type": "markdown",
      "metadata": {
        "id": "Kavbc6zR9SQc"
      },
      "source": [
        "- check this: https://en.wikipedia.org/wiki/Kofi_Annan"
      ]
    },
    {
      "cell_type": "markdown",
      "metadata": {
        "id": "ZGM7yWnn9SQc"
      },
      "source": [
        "# Homework\n",
        "\n",
        "complete the # 🚧 todo:\n",
        "\n",
        "and\n",
        "## find the most frequently encountered person entity\n",
        "- in number of speeches\n",
        "- in number of occurrences\n",
        "\n",
        "\n"
      ]
    },
    {
      "cell_type": "code",
      "execution_count": null,
      "metadata": {
        "id": "awOkyIPI9SQc"
      },
      "outputs": [],
      "source": []
    },
    {
      "cell_type": "markdown",
      "metadata": {
        "id": "LxKgZFDL9SQc"
      },
      "source": [
        "### Before submitting, check:\n",
        "- I have not imported any other modules\n",
        "- I have put explanations between the lines of code (either inline or in separate cells)\n",
        "- My notebook runs all the way through when I hit\n",
        "  1. the ↻ button and then\n",
        "  2. the ⏩︎ button (remove or comment out cells that are too slow and not needed).\n",
        "  "
      ]
    }
  ],
  "metadata": {
    "kernelspec": {
      "display_name": "Python (envgen)",
      "language": "python",
      "name": "envgen"
    },
    "language_info": {
      "codemirror_mode": {
        "name": "ipython",
        "version": 3
      },
      "file_extension": ".py",
      "mimetype": "text/x-python",
      "name": "python",
      "nbconvert_exporter": "python",
      "pygments_lexer": "ipython3",
      "version": "3.9.6"
    },
    "colab": {
      "provenance": [],
      "include_colab_link": true
    }
  },
  "nbformat": 4,
  "nbformat_minor": 0
}